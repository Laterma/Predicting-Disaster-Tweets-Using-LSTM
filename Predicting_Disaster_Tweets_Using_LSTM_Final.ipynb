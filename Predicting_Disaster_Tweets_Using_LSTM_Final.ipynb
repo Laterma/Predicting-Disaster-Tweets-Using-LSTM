{
  "nbformat": 4,
  "nbformat_minor": 0,
  "metadata": {
    "colab": {
      "name": "Predicting Disaster Tweets Using LSTM Final-V2",
      "provenance": [],
      "collapsed_sections": []
    },
    "kernelspec": {
      "name": "python3",
      "display_name": "Python 3"
    },
    "language_info": {
      "name": "python"
    },
    "accelerator": "GPU"
  },
  "cells": [
    {
      "cell_type": "markdown",
      "source": [
        "# **Predicting Disaster Tweets Using LSTM**"
      ],
      "metadata": {
        "id": "aLH2S3E6VmMt"
      }
    },
    {
      "cell_type": "code",
      "source": [
        "import pandas as pd\n",
        "import seaborn as sns\n",
        "import numpy as np\n",
        "import matplotlib.pyplot as plt\n",
        "import seaborn as sns\n",
        "\n",
        "from collections import Counter\n",
        "\n",
        "import re\n",
        "text_cleaning_regex = \"@S+|https?:S+|http?:S|[^A-Za-z0-9]+\"\n",
        "\n",
        "import nltk.corpus\n",
        "nltk.download('stopwords')\n",
        "from nltk.corpus import stopwords\n",
        "stop_words = stopwords.words('english')\n",
        "\n",
        "import nltk\n",
        "from nltk.stem import SnowballStemmer\n",
        "stemmer = SnowballStemmer('english')\n",
        "\n",
        "from keras.preprocessing.text import Tokenizer\n",
        "tokenizer = Tokenizer()\n",
        "\n",
        "from keras.preprocessing.sequence import pad_sequences\n",
        "\n",
        "from sklearn.preprocessing import LabelEncoder\n",
        "encoder = LabelEncoder()\n",
        "\n",
        "import tensorflow as tf\n",
        "import keras\n",
        "\n",
        "from tensorflow.keras.layers import Conv1D, Bidirectional, LSTM, Dense, Dropout, Input, SpatialDropout1D\n",
        "from tensorflow.keras.callbacks import ModelCheckpoint\n",
        "\n",
        "from tensorflow.keras.optimizers import Adam\n",
        "from tensorflow.keras.callbacks import ReduceLROnPlateau\n",
        "\n",
        "from sklearn import model_selection, metrics, preprocessing, ensemble, model_selection, metrics\n",
        "\n",
        "\n",
        "from tensorflow import keras\n",
        "from tensorflow.keras import layers\n",
        "from sklearn import model_selection\n",
        "from tensorflow.keras.preprocessing.sequence import pad_sequences\n",
        "\n"
      ],
      "metadata": {
        "id": "JoHWR8fMaa2M",
        "colab": {
          "base_uri": "https://localhost:8080/"
        },
        "outputId": "fa4959b0-b647-4021-9623-2c433704b8b0"
      },
      "execution_count": 1,
      "outputs": [
        {
          "output_type": "stream",
          "name": "stdout",
          "text": [
            "[nltk_data] Downloading package stopwords to /root/nltk_data...\n",
            "[nltk_data]   Package stopwords is already up-to-date!\n"
          ]
        }
      ]
    },
    {
      "cell_type": "markdown",
      "source": [
        "# Download Data"
      ],
      "metadata": {
        "id": "i7ueytncVvvR"
      }
    },
    {
      "cell_type": "code",
      "source": [
        "!mkdir Dataset\n",
        "%cd  Dataset"
      ],
      "metadata": {
        "colab": {
          "base_uri": "https://localhost:8080/"
        },
        "id": "PeGoVbujZW93",
        "outputId": "09633ac9-377f-43ba-a303-28b41873a61a"
      },
      "execution_count": 2,
      "outputs": [
        {
          "output_type": "stream",
          "name": "stdout",
          "text": [
            "mkdir: cannot create directory ‘Dataset’: File exists\n",
            "/content/Dataset\n"
          ]
        }
      ]
    },
    {
      "cell_type": "code",
      "source": [
        "!wget https://github.com/Laterma/Predicting-Disaster-Tweets-Using-LSTM/raw/main/Data.zip"
      ],
      "metadata": {
        "colab": {
          "base_uri": "https://localhost:8080/"
        },
        "id": "k-5g3NC8Y-qk",
        "outputId": "a67c38ad-fe9f-4cc4-9751-28a9730859f9"
      },
      "execution_count": 3,
      "outputs": [
        {
          "output_type": "stream",
          "name": "stdout",
          "text": [
            "--2022-02-07 02:03:44--  https://github.com/Laterma/Predicting-Disaster-Tweets-Using-LSTM/raw/main/Data.zip\n",
            "Resolving github.com (github.com)... 140.82.114.4\n",
            "Connecting to github.com (github.com)|140.82.114.4|:443... connected.\n",
            "HTTP request sent, awaiting response... 302 Found\n",
            "Location: https://raw.githubusercontent.com/Laterma/Predicting-Disaster-Tweets-Using-LSTM/main/Data.zip [following]\n",
            "--2022-02-07 02:03:44--  https://raw.githubusercontent.com/Laterma/Predicting-Disaster-Tweets-Using-LSTM/main/Data.zip\n",
            "Resolving raw.githubusercontent.com (raw.githubusercontent.com)... 185.199.108.133, 185.199.109.133, 185.199.110.133, ...\n",
            "Connecting to raw.githubusercontent.com (raw.githubusercontent.com)|185.199.108.133|:443... connected.\n",
            "HTTP request sent, awaiting response... 200 OK\n",
            "Length: 601081 (587K) [application/zip]\n",
            "Saving to: ‘Data.zip.4’\n",
            "\n",
            "Data.zip.4          100%[===================>] 586.99K  --.-KB/s    in 0.04s   \n",
            "\n",
            "2022-02-07 02:03:45 (13.2 MB/s) - ‘Data.zip.4’ saved [601081/601081]\n",
            "\n"
          ]
        }
      ]
    },
    {
      "cell_type": "code",
      "source": [
        "!unzip Data.zip"
      ],
      "metadata": {
        "colab": {
          "base_uri": "https://localhost:8080/"
        },
        "id": "oJ80aIrNZpWF",
        "outputId": "d9c2801b-523c-47d7-8184-8e1d6a6a7985"
      },
      "execution_count": 4,
      "outputs": [
        {
          "output_type": "stream",
          "name": "stdout",
          "text": [
            "Archive:  Data.zip\n",
            "replace columns Description.txt? [y]es, [n]o, [A]ll, [N]one, [r]ename: N\n"
          ]
        }
      ]
    },
    {
      "cell_type": "markdown",
      "source": [
        "# Reading Data"
      ],
      "metadata": {
        "id": "RZpJI0TWaUJU"
      }
    },
    {
      "cell_type": "code",
      "source": [
        "df_train = pd.read_csv('/content/Dataset/train.csv')"
      ],
      "metadata": {
        "id": "95O1Vv6-bBrU"
      },
      "execution_count": 5,
      "outputs": []
    },
    {
      "cell_type": "code",
      "source": [
        "df_test = pd.read_csv('/content/Dataset/test.csv')"
      ],
      "metadata": {
        "id": "3wSprysWbFB3"
      },
      "execution_count": 6,
      "outputs": []
    },
    {
      "cell_type": "markdown",
      "source": [
        "# Exploring The Data"
      ],
      "metadata": {
        "id": "ErG3iS02bRdm"
      }
    },
    {
      "cell_type": "code",
      "source": [
        "df_train.head(10)"
      ],
      "metadata": {
        "colab": {
          "base_uri": "https://localhost:8080/",
          "height": 363
        },
        "id": "sFl4e1HjFKnf",
        "outputId": "87f9ae49-4706-4384-c198-4649e4b5f893"
      },
      "execution_count": 7,
      "outputs": [
        {
          "output_type": "execute_result",
          "data": {
            "text/html": [
              "\n",
              "  <div id=\"df-3e9f13c7-51a8-480a-8a8e-1a26217f71cb\">\n",
              "    <div class=\"colab-df-container\">\n",
              "      <div>\n",
              "<style scoped>\n",
              "    .dataframe tbody tr th:only-of-type {\n",
              "        vertical-align: middle;\n",
              "    }\n",
              "\n",
              "    .dataframe tbody tr th {\n",
              "        vertical-align: top;\n",
              "    }\n",
              "\n",
              "    .dataframe thead th {\n",
              "        text-align: right;\n",
              "    }\n",
              "</style>\n",
              "<table border=\"1\" class=\"dataframe\">\n",
              "  <thead>\n",
              "    <tr style=\"text-align: right;\">\n",
              "      <th></th>\n",
              "      <th>id</th>\n",
              "      <th>keyword</th>\n",
              "      <th>location</th>\n",
              "      <th>text</th>\n",
              "      <th>target</th>\n",
              "    </tr>\n",
              "  </thead>\n",
              "  <tbody>\n",
              "    <tr>\n",
              "      <th>0</th>\n",
              "      <td>1</td>\n",
              "      <td>NaN</td>\n",
              "      <td>NaN</td>\n",
              "      <td>Our Deeds are the Reason of this #earthquake M...</td>\n",
              "      <td>1</td>\n",
              "    </tr>\n",
              "    <tr>\n",
              "      <th>1</th>\n",
              "      <td>4</td>\n",
              "      <td>NaN</td>\n",
              "      <td>NaN</td>\n",
              "      <td>Forest fire near La Ronge Sask. Canada</td>\n",
              "      <td>1</td>\n",
              "    </tr>\n",
              "    <tr>\n",
              "      <th>2</th>\n",
              "      <td>5</td>\n",
              "      <td>NaN</td>\n",
              "      <td>NaN</td>\n",
              "      <td>All residents asked to 'shelter in place' are ...</td>\n",
              "      <td>1</td>\n",
              "    </tr>\n",
              "    <tr>\n",
              "      <th>3</th>\n",
              "      <td>6</td>\n",
              "      <td>NaN</td>\n",
              "      <td>NaN</td>\n",
              "      <td>13,000 people receive #wildfires evacuation or...</td>\n",
              "      <td>1</td>\n",
              "    </tr>\n",
              "    <tr>\n",
              "      <th>4</th>\n",
              "      <td>7</td>\n",
              "      <td>NaN</td>\n",
              "      <td>NaN</td>\n",
              "      <td>Just got sent this photo from Ruby #Alaska as ...</td>\n",
              "      <td>1</td>\n",
              "    </tr>\n",
              "    <tr>\n",
              "      <th>5</th>\n",
              "      <td>8</td>\n",
              "      <td>NaN</td>\n",
              "      <td>NaN</td>\n",
              "      <td>#RockyFire Update =&gt; California Hwy. 20 closed...</td>\n",
              "      <td>1</td>\n",
              "    </tr>\n",
              "    <tr>\n",
              "      <th>6</th>\n",
              "      <td>10</td>\n",
              "      <td>NaN</td>\n",
              "      <td>NaN</td>\n",
              "      <td>#flood #disaster Heavy rain causes flash flood...</td>\n",
              "      <td>1</td>\n",
              "    </tr>\n",
              "    <tr>\n",
              "      <th>7</th>\n",
              "      <td>13</td>\n",
              "      <td>NaN</td>\n",
              "      <td>NaN</td>\n",
              "      <td>I'm on top of the hill and I can see a fire in...</td>\n",
              "      <td>1</td>\n",
              "    </tr>\n",
              "    <tr>\n",
              "      <th>8</th>\n",
              "      <td>14</td>\n",
              "      <td>NaN</td>\n",
              "      <td>NaN</td>\n",
              "      <td>There's an emergency evacuation happening now ...</td>\n",
              "      <td>1</td>\n",
              "    </tr>\n",
              "    <tr>\n",
              "      <th>9</th>\n",
              "      <td>15</td>\n",
              "      <td>NaN</td>\n",
              "      <td>NaN</td>\n",
              "      <td>I'm afraid that the tornado is coming to our a...</td>\n",
              "      <td>1</td>\n",
              "    </tr>\n",
              "  </tbody>\n",
              "</table>\n",
              "</div>\n",
              "      <button class=\"colab-df-convert\" onclick=\"convertToInteractive('df-3e9f13c7-51a8-480a-8a8e-1a26217f71cb')\"\n",
              "              title=\"Convert this dataframe to an interactive table.\"\n",
              "              style=\"display:none;\">\n",
              "        \n",
              "  <svg xmlns=\"http://www.w3.org/2000/svg\" height=\"24px\"viewBox=\"0 0 24 24\"\n",
              "       width=\"24px\">\n",
              "    <path d=\"M0 0h24v24H0V0z\" fill=\"none\"/>\n",
              "    <path d=\"M18.56 5.44l.94 2.06.94-2.06 2.06-.94-2.06-.94-.94-2.06-.94 2.06-2.06.94zm-11 1L8.5 8.5l.94-2.06 2.06-.94-2.06-.94L8.5 2.5l-.94 2.06-2.06.94zm10 10l.94 2.06.94-2.06 2.06-.94-2.06-.94-.94-2.06-.94 2.06-2.06.94z\"/><path d=\"M17.41 7.96l-1.37-1.37c-.4-.4-.92-.59-1.43-.59-.52 0-1.04.2-1.43.59L10.3 9.45l-7.72 7.72c-.78.78-.78 2.05 0 2.83L4 21.41c.39.39.9.59 1.41.59.51 0 1.02-.2 1.41-.59l7.78-7.78 2.81-2.81c.8-.78.8-2.07 0-2.86zM5.41 20L4 18.59l7.72-7.72 1.47 1.35L5.41 20z\"/>\n",
              "  </svg>\n",
              "      </button>\n",
              "      \n",
              "  <style>\n",
              "    .colab-df-container {\n",
              "      display:flex;\n",
              "      flex-wrap:wrap;\n",
              "      gap: 12px;\n",
              "    }\n",
              "\n",
              "    .colab-df-convert {\n",
              "      background-color: #E8F0FE;\n",
              "      border: none;\n",
              "      border-radius: 50%;\n",
              "      cursor: pointer;\n",
              "      display: none;\n",
              "      fill: #1967D2;\n",
              "      height: 32px;\n",
              "      padding: 0 0 0 0;\n",
              "      width: 32px;\n",
              "    }\n",
              "\n",
              "    .colab-df-convert:hover {\n",
              "      background-color: #E2EBFA;\n",
              "      box-shadow: 0px 1px 2px rgba(60, 64, 67, 0.3), 0px 1px 3px 1px rgba(60, 64, 67, 0.15);\n",
              "      fill: #174EA6;\n",
              "    }\n",
              "\n",
              "    [theme=dark] .colab-df-convert {\n",
              "      background-color: #3B4455;\n",
              "      fill: #D2E3FC;\n",
              "    }\n",
              "\n",
              "    [theme=dark] .colab-df-convert:hover {\n",
              "      background-color: #434B5C;\n",
              "      box-shadow: 0px 1px 3px 1px rgba(0, 0, 0, 0.15);\n",
              "      filter: drop-shadow(0px 1px 2px rgba(0, 0, 0, 0.3));\n",
              "      fill: #FFFFFF;\n",
              "    }\n",
              "  </style>\n",
              "\n",
              "      <script>\n",
              "        const buttonEl =\n",
              "          document.querySelector('#df-3e9f13c7-51a8-480a-8a8e-1a26217f71cb button.colab-df-convert');\n",
              "        buttonEl.style.display =\n",
              "          google.colab.kernel.accessAllowed ? 'block' : 'none';\n",
              "\n",
              "        async function convertToInteractive(key) {\n",
              "          const element = document.querySelector('#df-3e9f13c7-51a8-480a-8a8e-1a26217f71cb');\n",
              "          const dataTable =\n",
              "            await google.colab.kernel.invokeFunction('convertToInteractive',\n",
              "                                                     [key], {});\n",
              "          if (!dataTable) return;\n",
              "\n",
              "          const docLinkHtml = 'Like what you see? Visit the ' +\n",
              "            '<a target=\"_blank\" href=https://colab.research.google.com/notebooks/data_table.ipynb>data table notebook</a>'\n",
              "            + ' to learn more about interactive tables.';\n",
              "          element.innerHTML = '';\n",
              "          dataTable['output_type'] = 'display_data';\n",
              "          await google.colab.output.renderOutput(dataTable, element);\n",
              "          const docLink = document.createElement('div');\n",
              "          docLink.innerHTML = docLinkHtml;\n",
              "          element.appendChild(docLink);\n",
              "        }\n",
              "      </script>\n",
              "    </div>\n",
              "  </div>\n",
              "  "
            ],
            "text/plain": [
              "   id keyword  ...                                               text target\n",
              "0   1     NaN  ...  Our Deeds are the Reason of this #earthquake M...      1\n",
              "1   4     NaN  ...             Forest fire near La Ronge Sask. Canada      1\n",
              "2   5     NaN  ...  All residents asked to 'shelter in place' are ...      1\n",
              "3   6     NaN  ...  13,000 people receive #wildfires evacuation or...      1\n",
              "4   7     NaN  ...  Just got sent this photo from Ruby #Alaska as ...      1\n",
              "5   8     NaN  ...  #RockyFire Update => California Hwy. 20 closed...      1\n",
              "6  10     NaN  ...  #flood #disaster Heavy rain causes flash flood...      1\n",
              "7  13     NaN  ...  I'm on top of the hill and I can see a fire in...      1\n",
              "8  14     NaN  ...  There's an emergency evacuation happening now ...      1\n",
              "9  15     NaN  ...  I'm afraid that the tornado is coming to our a...      1\n",
              "\n",
              "[10 rows x 5 columns]"
            ]
          },
          "metadata": {},
          "execution_count": 7
        }
      ]
    },
    {
      "cell_type": "code",
      "source": [
        "df_train.info()"
      ],
      "metadata": {
        "colab": {
          "base_uri": "https://localhost:8080/"
        },
        "id": "yPZMwFytFc11",
        "outputId": "c535de5a-dd91-4169-ffd4-6609659579bc"
      },
      "execution_count": 8,
      "outputs": [
        {
          "output_type": "stream",
          "name": "stdout",
          "text": [
            "<class 'pandas.core.frame.DataFrame'>\n",
            "RangeIndex: 7613 entries, 0 to 7612\n",
            "Data columns (total 5 columns):\n",
            " #   Column    Non-Null Count  Dtype \n",
            "---  ------    --------------  ----- \n",
            " 0   id        7613 non-null   int64 \n",
            " 1   keyword   7552 non-null   object\n",
            " 2   location  5080 non-null   object\n",
            " 3   text      7613 non-null   object\n",
            " 4   target    7613 non-null   int64 \n",
            "dtypes: int64(2), object(3)\n",
            "memory usage: 297.5+ KB\n"
          ]
        }
      ]
    },
    {
      "cell_type": "code",
      "source": [
        "print(\" \\nCount total NaN at each column in a DataFrame : \\n\\n\",\n",
        "      df_train.isnull().sum())"
      ],
      "metadata": {
        "colab": {
          "base_uri": "https://localhost:8080/"
        },
        "id": "TOTLOoFwGLIh",
        "outputId": "ef303faf-f3c2-4357-c577-3c26a02cd3b3"
      },
      "execution_count": 9,
      "outputs": [
        {
          "output_type": "stream",
          "name": "stdout",
          "text": [
            " \n",
            "Count total NaN at each column in a DataFrame : \n",
            "\n",
            " id             0\n",
            "keyword       61\n",
            "location    2533\n",
            "text           0\n",
            "target         0\n",
            "dtype: int64\n"
          ]
        }
      ]
    },
    {
      "cell_type": "code",
      "source": [
        "print(f\" The percentage of missing data in columns is: \\n\\n\",\n",
        "      df_train.isnull().sum()/len(df_train)*100)"
      ],
      "metadata": {
        "colab": {
          "base_uri": "https://localhost:8080/"
        },
        "id": "tegBM7FnGykp",
        "outputId": "9dca165a-deac-436c-cd78-141ec5e065ab"
      },
      "execution_count": 10,
      "outputs": [
        {
          "output_type": "stream",
          "name": "stdout",
          "text": [
            " The percentage of missing data in columns is: \n",
            "\n",
            " id           0.000000\n",
            "keyword      0.801261\n",
            "location    33.272035\n",
            "text         0.000000\n",
            "target       0.000000\n",
            "dtype: float64\n"
          ]
        }
      ]
    },
    {
      "cell_type": "code",
      "source": [
        "for i in list(df_train):\n",
        "    # show the list of values  \n",
        "    print(f\"The Unique values of column {i} is {df_train[i].nunique()}\")"
      ],
      "metadata": {
        "colab": {
          "base_uri": "https://localhost:8080/"
        },
        "id": "7LI4hW3VL5OO",
        "outputId": "3339ac65-43ce-4fb9-b1ba-6ae8ac3cdda4"
      },
      "execution_count": 11,
      "outputs": [
        {
          "output_type": "stream",
          "name": "stdout",
          "text": [
            "The Unique values of column id is 7613\n",
            "The Unique values of column keyword is 221\n",
            "The Unique values of column location is 3341\n",
            "The Unique values of column text is 7503\n",
            "The Unique values of column target is 2\n"
          ]
        }
      ]
    },
    {
      "cell_type": "code",
      "source": [
        "df_train['location'].value_counts()[:15]"
      ],
      "metadata": {
        "colab": {
          "base_uri": "https://localhost:8080/"
        },
        "id": "ig3z4L0mNSdk",
        "outputId": "7cc2d24f-5ef6-4d80-f6a2-d5bb802f4253"
      },
      "execution_count": 12,
      "outputs": [
        {
          "output_type": "execute_result",
          "data": {
            "text/plain": [
              "USA                104\n",
              "New York            71\n",
              "United States       50\n",
              "London              45\n",
              "Canada              29\n",
              "Nigeria             28\n",
              "UK                  27\n",
              "Los Angeles, CA     26\n",
              "India               24\n",
              "Mumbai              22\n",
              "Washington, DC      21\n",
              "Kenya               20\n",
              "Worldwide           19\n",
              "Australia           18\n",
              "Chicago, IL         18\n",
              "Name: location, dtype: int64"
            ]
          },
          "metadata": {},
          "execution_count": 12
        }
      ]
    },
    {
      "cell_type": "code",
      "source": [
        "df_train['keyword'].value_counts()[:15]"
      ],
      "metadata": {
        "colab": {
          "base_uri": "https://localhost:8080/"
        },
        "id": "rQsQfq8GOk6V",
        "outputId": "a2f94f48-ae05-43a4-fbc0-265bcbd58371"
      },
      "execution_count": 13,
      "outputs": [
        {
          "output_type": "execute_result",
          "data": {
            "text/plain": [
              "fatalities     45\n",
              "deluge         42\n",
              "armageddon     42\n",
              "sinking        41\n",
              "damage         41\n",
              "harm           41\n",
              "body%20bags    41\n",
              "outbreak       40\n",
              "evacuate       40\n",
              "fear           40\n",
              "collided       40\n",
              "siren          40\n",
              "twister        40\n",
              "windstorm      40\n",
              "sinkhole       39\n",
              "Name: keyword, dtype: int64"
            ]
          },
          "metadata": {},
          "execution_count": 13
        }
      ]
    },
    {
      "cell_type": "markdown",
      "source": [
        "#The most common stop/non-stop words"
      ],
      "metadata": {
        "id": "2P8VYXoAPcNU"
      }
    },
    {
      "cell_type": "code",
      "source": [
        "text_list = []\n",
        "stop_words_list = []\n",
        "nonstop_words_list = []\n",
        "\n",
        "def rm_uni_code(text):\n",
        "    text = re.sub(text_cleaning_regex, ' ', str(text).lower()).strip()\n",
        "    return text\n",
        "\n",
        "df_train['temp_column'] = df_train['text']"
      ],
      "metadata": {
        "id": "TkFf0SSk3aGj"
      },
      "execution_count": 31,
      "outputs": []
    },
    {
      "cell_type": "code",
      "source": [
        "df_train['temp_column']"
      ],
      "metadata": {
        "colab": {
          "base_uri": "https://localhost:8080/"
        },
        "id": "9qe_DMV07HfO",
        "outputId": "71b91b16-25c1-4d66-9750-d0b49371be9f"
      },
      "execution_count": 32,
      "outputs": [
        {
          "output_type": "execute_result",
          "data": {
            "text/plain": [
              "0       Our Deeds are the Reason of this #earthquake M...\n",
              "1                  Forest fire near La Ronge Sask. Canada\n",
              "2       All residents asked to 'shelter in place' are ...\n",
              "3       13,000 people receive #wildfires evacuation or...\n",
              "4       Just got sent this photo from Ruby #Alaska as ...\n",
              "                              ...                        \n",
              "7608    Two giant cranes holding a bridge collapse int...\n",
              "7609    @aria_ahrary @TheTawniest The out of control w...\n",
              "7610    M1.94 [01:04 UTC]?5km S of Volcano Hawaii. htt...\n",
              "7611    Police investigating after an e-bike collided ...\n",
              "7612    The Latest: More Homes Razed by Northern Calif...\n",
              "Name: temp_column, Length: 7613, dtype: object"
            ]
          },
          "metadata": {},
          "execution_count": 32
        }
      ]
    },
    {
      "cell_type": "code",
      "source": [
        "df_train['temp_column'] = df_train['text'].apply(lambda x: rm_uni_code(x) )\n"
      ],
      "metadata": {
        "id": "1dDr6wiW7mlD"
      },
      "execution_count": 33,
      "outputs": []
    },
    {
      "cell_type": "code",
      "source": [
        "df_train['temp_column']"
      ],
      "metadata": {
        "colab": {
          "base_uri": "https://localhost:8080/"
        },
        "outputId": "b26f86b9-2536-4de5-9d44-19db028b1119",
        "id": "XhhwQIqr732P"
      },
      "execution_count": 34,
      "outputs": [
        {
          "output_type": "execute_result",
          "data": {
            "text/plain": [
              "0       our deeds are the reason of this earthquake ma...\n",
              "1                   forest fire near la ronge sask canada\n",
              "2       all residents asked to shelter in place are be...\n",
              "3       13 000 people receive wildfires evacuation ord...\n",
              "4       just got sent this photo from ruby alaska as s...\n",
              "                              ...                        \n",
              "7608    two giant cranes holding a bridge collapse int...\n",
              "7609     aria ahrary thetawniest the out of control wi...\n",
              "7610    m1 94 01 04 utc 5km s of volcano hawaii http t...\n",
              "7611    police investigating after an e bike collided ...\n",
              "7612    the latest more homes razed by northern califo...\n",
              "Name: temp_column, Length: 7613, dtype: object"
            ]
          },
          "metadata": {},
          "execution_count": 34
        }
      ]
    },
    {
      "cell_type": "code",
      "source": [
        "text_list = \" \".join(df_train[\"temp_column\"]).split()\n",
        "for x in text_list:\n",
        "  if x in stop_words:\n",
        "    stop_words_list.append(x)\n",
        "  else:\n",
        "    nonstop_words_list.append(x)"
      ],
      "metadata": {
        "id": "QorWJIvp674S"
      },
      "execution_count": 35,
      "outputs": []
    },
    {
      "cell_type": "markdown",
      "source": [
        "#The 6 most common non-stop words"
      ],
      "metadata": {
        "id": "xWgqmWld-Xsy"
      }
    },
    {
      "cell_type": "code",
      "source": [
        "Counter(nonstop_words_list).most_common(6)"
      ],
      "metadata": {
        "colab": {
          "base_uri": "https://localhost:8080/"
        },
        "id": "NOLKuRCg90Q8",
        "outputId": "84d11534-d994-48ee-9144-1ea074c262da"
      },
      "execution_count": 43,
      "outputs": [
        {
          "output_type": "execute_result",
          "data": {
            "text/plain": [
              "[('co', 4740),\n",
              " ('http', 4309),\n",
              " ('https', 412),\n",
              " ('like', 348),\n",
              " ('amp', 344),\n",
              " ('fire', 254)]"
            ]
          },
          "metadata": {},
          "execution_count": 43
        }
      ]
    },
    {
      "cell_type": "markdown",
      "source": [
        "#The 6 most common stop words"
      ],
      "metadata": {
        "id": "sn8S4SBYP9nA"
      }
    },
    {
      "cell_type": "code",
      "source": [
        "Counter(stop_words_list).most_common(6)"
      ],
      "metadata": {
        "colab": {
          "base_uri": "https://localhost:8080/"
        },
        "id": "KZlLuTIT2t26",
        "outputId": "49a9968f-4d58-4902-b667-52b64c4c8711"
      },
      "execution_count": 44,
      "outputs": [
        {
          "output_type": "execute_result",
          "data": {
            "text/plain": [
              "[('t', 5231),\n",
              " ('the', 3284),\n",
              " ('a', 2209),\n",
              " ('in', 1989),\n",
              " ('to', 1949),\n",
              " ('of', 1830)]"
            ]
          },
          "metadata": {},
          "execution_count": 44
        }
      ]
    },
    {
      "cell_type": "markdown",
      "source": [
        "#Preparing Data"
      ],
      "metadata": {
        "id": "jHoyJYvyPju5"
      }
    },
    {
      "cell_type": "code",
      "source": [
        "df_train = df_train.drop(['location', 'keyword', 'id', 'temp_column'], axis=1)\n",
        "df_train.head(10)"
      ],
      "metadata": {
        "colab": {
          "base_uri": "https://localhost:8080/",
          "height": 363
        },
        "id": "VeqYKbMYbaqV",
        "outputId": "ce42ba74-54bc-4ede-852b-6159ec595c5c"
      },
      "execution_count": 14,
      "outputs": [
        {
          "output_type": "execute_result",
          "data": {
            "text/html": [
              "\n",
              "  <div id=\"df-381cc3c4-a1c9-4de7-9f8e-daf78a839eb9\">\n",
              "    <div class=\"colab-df-container\">\n",
              "      <div>\n",
              "<style scoped>\n",
              "    .dataframe tbody tr th:only-of-type {\n",
              "        vertical-align: middle;\n",
              "    }\n",
              "\n",
              "    .dataframe tbody tr th {\n",
              "        vertical-align: top;\n",
              "    }\n",
              "\n",
              "    .dataframe thead th {\n",
              "        text-align: right;\n",
              "    }\n",
              "</style>\n",
              "<table border=\"1\" class=\"dataframe\">\n",
              "  <thead>\n",
              "    <tr style=\"text-align: right;\">\n",
              "      <th></th>\n",
              "      <th>text</th>\n",
              "      <th>target</th>\n",
              "    </tr>\n",
              "  </thead>\n",
              "  <tbody>\n",
              "    <tr>\n",
              "      <th>0</th>\n",
              "      <td>Our Deeds are the Reason of this #earthquake M...</td>\n",
              "      <td>1</td>\n",
              "    </tr>\n",
              "    <tr>\n",
              "      <th>1</th>\n",
              "      <td>Forest fire near La Ronge Sask. Canada</td>\n",
              "      <td>1</td>\n",
              "    </tr>\n",
              "    <tr>\n",
              "      <th>2</th>\n",
              "      <td>All residents asked to 'shelter in place' are ...</td>\n",
              "      <td>1</td>\n",
              "    </tr>\n",
              "    <tr>\n",
              "      <th>3</th>\n",
              "      <td>13,000 people receive #wildfires evacuation or...</td>\n",
              "      <td>1</td>\n",
              "    </tr>\n",
              "    <tr>\n",
              "      <th>4</th>\n",
              "      <td>Just got sent this photo from Ruby #Alaska as ...</td>\n",
              "      <td>1</td>\n",
              "    </tr>\n",
              "    <tr>\n",
              "      <th>5</th>\n",
              "      <td>#RockyFire Update =&gt; California Hwy. 20 closed...</td>\n",
              "      <td>1</td>\n",
              "    </tr>\n",
              "    <tr>\n",
              "      <th>6</th>\n",
              "      <td>#flood #disaster Heavy rain causes flash flood...</td>\n",
              "      <td>1</td>\n",
              "    </tr>\n",
              "    <tr>\n",
              "      <th>7</th>\n",
              "      <td>I'm on top of the hill and I can see a fire in...</td>\n",
              "      <td>1</td>\n",
              "    </tr>\n",
              "    <tr>\n",
              "      <th>8</th>\n",
              "      <td>There's an emergency evacuation happening now ...</td>\n",
              "      <td>1</td>\n",
              "    </tr>\n",
              "    <tr>\n",
              "      <th>9</th>\n",
              "      <td>I'm afraid that the tornado is coming to our a...</td>\n",
              "      <td>1</td>\n",
              "    </tr>\n",
              "  </tbody>\n",
              "</table>\n",
              "</div>\n",
              "      <button class=\"colab-df-convert\" onclick=\"convertToInteractive('df-381cc3c4-a1c9-4de7-9f8e-daf78a839eb9')\"\n",
              "              title=\"Convert this dataframe to an interactive table.\"\n",
              "              style=\"display:none;\">\n",
              "        \n",
              "  <svg xmlns=\"http://www.w3.org/2000/svg\" height=\"24px\"viewBox=\"0 0 24 24\"\n",
              "       width=\"24px\">\n",
              "    <path d=\"M0 0h24v24H0V0z\" fill=\"none\"/>\n",
              "    <path d=\"M18.56 5.44l.94 2.06.94-2.06 2.06-.94-2.06-.94-.94-2.06-.94 2.06-2.06.94zm-11 1L8.5 8.5l.94-2.06 2.06-.94-2.06-.94L8.5 2.5l-.94 2.06-2.06.94zm10 10l.94 2.06.94-2.06 2.06-.94-2.06-.94-.94-2.06-.94 2.06-2.06.94z\"/><path d=\"M17.41 7.96l-1.37-1.37c-.4-.4-.92-.59-1.43-.59-.52 0-1.04.2-1.43.59L10.3 9.45l-7.72 7.72c-.78.78-.78 2.05 0 2.83L4 21.41c.39.39.9.59 1.41.59.51 0 1.02-.2 1.41-.59l7.78-7.78 2.81-2.81c.8-.78.8-2.07 0-2.86zM5.41 20L4 18.59l7.72-7.72 1.47 1.35L5.41 20z\"/>\n",
              "  </svg>\n",
              "      </button>\n",
              "      \n",
              "  <style>\n",
              "    .colab-df-container {\n",
              "      display:flex;\n",
              "      flex-wrap:wrap;\n",
              "      gap: 12px;\n",
              "    }\n",
              "\n",
              "    .colab-df-convert {\n",
              "      background-color: #E8F0FE;\n",
              "      border: none;\n",
              "      border-radius: 50%;\n",
              "      cursor: pointer;\n",
              "      display: none;\n",
              "      fill: #1967D2;\n",
              "      height: 32px;\n",
              "      padding: 0 0 0 0;\n",
              "      width: 32px;\n",
              "    }\n",
              "\n",
              "    .colab-df-convert:hover {\n",
              "      background-color: #E2EBFA;\n",
              "      box-shadow: 0px 1px 2px rgba(60, 64, 67, 0.3), 0px 1px 3px 1px rgba(60, 64, 67, 0.15);\n",
              "      fill: #174EA6;\n",
              "    }\n",
              "\n",
              "    [theme=dark] .colab-df-convert {\n",
              "      background-color: #3B4455;\n",
              "      fill: #D2E3FC;\n",
              "    }\n",
              "\n",
              "    [theme=dark] .colab-df-convert:hover {\n",
              "      background-color: #434B5C;\n",
              "      box-shadow: 0px 1px 3px 1px rgba(0, 0, 0, 0.15);\n",
              "      filter: drop-shadow(0px 1px 2px rgba(0, 0, 0, 0.3));\n",
              "      fill: #FFFFFF;\n",
              "    }\n",
              "  </style>\n",
              "\n",
              "      <script>\n",
              "        const buttonEl =\n",
              "          document.querySelector('#df-381cc3c4-a1c9-4de7-9f8e-daf78a839eb9 button.colab-df-convert');\n",
              "        buttonEl.style.display =\n",
              "          google.colab.kernel.accessAllowed ? 'block' : 'none';\n",
              "\n",
              "        async function convertToInteractive(key) {\n",
              "          const element = document.querySelector('#df-381cc3c4-a1c9-4de7-9f8e-daf78a839eb9');\n",
              "          const dataTable =\n",
              "            await google.colab.kernel.invokeFunction('convertToInteractive',\n",
              "                                                     [key], {});\n",
              "          if (!dataTable) return;\n",
              "\n",
              "          const docLinkHtml = 'Like what you see? Visit the ' +\n",
              "            '<a target=\"_blank\" href=https://colab.research.google.com/notebooks/data_table.ipynb>data table notebook</a>'\n",
              "            + ' to learn more about interactive tables.';\n",
              "          element.innerHTML = '';\n",
              "          dataTable['output_type'] = 'display_data';\n",
              "          await google.colab.output.renderOutput(dataTable, element);\n",
              "          const docLink = document.createElement('div');\n",
              "          docLink.innerHTML = docLinkHtml;\n",
              "          element.appendChild(docLink);\n",
              "        }\n",
              "      </script>\n",
              "    </div>\n",
              "  </div>\n",
              "  "
            ],
            "text/plain": [
              "                                                text  target\n",
              "0  Our Deeds are the Reason of this #earthquake M...       1\n",
              "1             Forest fire near La Ronge Sask. Canada       1\n",
              "2  All residents asked to 'shelter in place' are ...       1\n",
              "3  13,000 people receive #wildfires evacuation or...       1\n",
              "4  Just got sent this photo from Ruby #Alaska as ...       1\n",
              "5  #RockyFire Update => California Hwy. 20 closed...       1\n",
              "6  #flood #disaster Heavy rain causes flash flood...       1\n",
              "7  I'm on top of the hill and I can see a fire in...       1\n",
              "8  There's an emergency evacuation happening now ...       1\n",
              "9  I'm afraid that the tornado is coming to our a...       1"
            ]
          },
          "metadata": {},
          "execution_count": 14
        }
      ]
    },
    {
      "cell_type": "code",
      "source": [
        "df_test.head(10)"
      ],
      "metadata": {
        "colab": {
          "base_uri": "https://localhost:8080/",
          "height": 363
        },
        "id": "DZiRKTv0FY25",
        "outputId": "ce22a4c4-5225-4a8f-9e1a-ec1a8a107a38"
      },
      "execution_count": 15,
      "outputs": [
        {
          "output_type": "execute_result",
          "data": {
            "text/html": [
              "\n",
              "  <div id=\"df-ade40b43-5a9f-4cb0-b037-f1f4202e8551\">\n",
              "    <div class=\"colab-df-container\">\n",
              "      <div>\n",
              "<style scoped>\n",
              "    .dataframe tbody tr th:only-of-type {\n",
              "        vertical-align: middle;\n",
              "    }\n",
              "\n",
              "    .dataframe tbody tr th {\n",
              "        vertical-align: top;\n",
              "    }\n",
              "\n",
              "    .dataframe thead th {\n",
              "        text-align: right;\n",
              "    }\n",
              "</style>\n",
              "<table border=\"1\" class=\"dataframe\">\n",
              "  <thead>\n",
              "    <tr style=\"text-align: right;\">\n",
              "      <th></th>\n",
              "      <th>id</th>\n",
              "      <th>keyword</th>\n",
              "      <th>location</th>\n",
              "      <th>text</th>\n",
              "    </tr>\n",
              "  </thead>\n",
              "  <tbody>\n",
              "    <tr>\n",
              "      <th>0</th>\n",
              "      <td>0</td>\n",
              "      <td>NaN</td>\n",
              "      <td>NaN</td>\n",
              "      <td>Just happened a terrible car crash</td>\n",
              "    </tr>\n",
              "    <tr>\n",
              "      <th>1</th>\n",
              "      <td>2</td>\n",
              "      <td>NaN</td>\n",
              "      <td>NaN</td>\n",
              "      <td>Heard about #earthquake is different cities, s...</td>\n",
              "    </tr>\n",
              "    <tr>\n",
              "      <th>2</th>\n",
              "      <td>3</td>\n",
              "      <td>NaN</td>\n",
              "      <td>NaN</td>\n",
              "      <td>there is a forest fire at spot pond, geese are...</td>\n",
              "    </tr>\n",
              "    <tr>\n",
              "      <th>3</th>\n",
              "      <td>9</td>\n",
              "      <td>NaN</td>\n",
              "      <td>NaN</td>\n",
              "      <td>Apocalypse lighting. #Spokane #wildfires</td>\n",
              "    </tr>\n",
              "    <tr>\n",
              "      <th>4</th>\n",
              "      <td>11</td>\n",
              "      <td>NaN</td>\n",
              "      <td>NaN</td>\n",
              "      <td>Typhoon Soudelor kills 28 in China and Taiwan</td>\n",
              "    </tr>\n",
              "    <tr>\n",
              "      <th>5</th>\n",
              "      <td>12</td>\n",
              "      <td>NaN</td>\n",
              "      <td>NaN</td>\n",
              "      <td>We're shaking...It's an earthquake</td>\n",
              "    </tr>\n",
              "    <tr>\n",
              "      <th>6</th>\n",
              "      <td>21</td>\n",
              "      <td>NaN</td>\n",
              "      <td>NaN</td>\n",
              "      <td>They'd probably still show more life than Arse...</td>\n",
              "    </tr>\n",
              "    <tr>\n",
              "      <th>7</th>\n",
              "      <td>22</td>\n",
              "      <td>NaN</td>\n",
              "      <td>NaN</td>\n",
              "      <td>Hey! How are you?</td>\n",
              "    </tr>\n",
              "    <tr>\n",
              "      <th>8</th>\n",
              "      <td>27</td>\n",
              "      <td>NaN</td>\n",
              "      <td>NaN</td>\n",
              "      <td>What a nice hat?</td>\n",
              "    </tr>\n",
              "    <tr>\n",
              "      <th>9</th>\n",
              "      <td>29</td>\n",
              "      <td>NaN</td>\n",
              "      <td>NaN</td>\n",
              "      <td>Fuck off!</td>\n",
              "    </tr>\n",
              "  </tbody>\n",
              "</table>\n",
              "</div>\n",
              "      <button class=\"colab-df-convert\" onclick=\"convertToInteractive('df-ade40b43-5a9f-4cb0-b037-f1f4202e8551')\"\n",
              "              title=\"Convert this dataframe to an interactive table.\"\n",
              "              style=\"display:none;\">\n",
              "        \n",
              "  <svg xmlns=\"http://www.w3.org/2000/svg\" height=\"24px\"viewBox=\"0 0 24 24\"\n",
              "       width=\"24px\">\n",
              "    <path d=\"M0 0h24v24H0V0z\" fill=\"none\"/>\n",
              "    <path d=\"M18.56 5.44l.94 2.06.94-2.06 2.06-.94-2.06-.94-.94-2.06-.94 2.06-2.06.94zm-11 1L8.5 8.5l.94-2.06 2.06-.94-2.06-.94L8.5 2.5l-.94 2.06-2.06.94zm10 10l.94 2.06.94-2.06 2.06-.94-2.06-.94-.94-2.06-.94 2.06-2.06.94z\"/><path d=\"M17.41 7.96l-1.37-1.37c-.4-.4-.92-.59-1.43-.59-.52 0-1.04.2-1.43.59L10.3 9.45l-7.72 7.72c-.78.78-.78 2.05 0 2.83L4 21.41c.39.39.9.59 1.41.59.51 0 1.02-.2 1.41-.59l7.78-7.78 2.81-2.81c.8-.78.8-2.07 0-2.86zM5.41 20L4 18.59l7.72-7.72 1.47 1.35L5.41 20z\"/>\n",
              "  </svg>\n",
              "      </button>\n",
              "      \n",
              "  <style>\n",
              "    .colab-df-container {\n",
              "      display:flex;\n",
              "      flex-wrap:wrap;\n",
              "      gap: 12px;\n",
              "    }\n",
              "\n",
              "    .colab-df-convert {\n",
              "      background-color: #E8F0FE;\n",
              "      border: none;\n",
              "      border-radius: 50%;\n",
              "      cursor: pointer;\n",
              "      display: none;\n",
              "      fill: #1967D2;\n",
              "      height: 32px;\n",
              "      padding: 0 0 0 0;\n",
              "      width: 32px;\n",
              "    }\n",
              "\n",
              "    .colab-df-convert:hover {\n",
              "      background-color: #E2EBFA;\n",
              "      box-shadow: 0px 1px 2px rgba(60, 64, 67, 0.3), 0px 1px 3px 1px rgba(60, 64, 67, 0.15);\n",
              "      fill: #174EA6;\n",
              "    }\n",
              "\n",
              "    [theme=dark] .colab-df-convert {\n",
              "      background-color: #3B4455;\n",
              "      fill: #D2E3FC;\n",
              "    }\n",
              "\n",
              "    [theme=dark] .colab-df-convert:hover {\n",
              "      background-color: #434B5C;\n",
              "      box-shadow: 0px 1px 3px 1px rgba(0, 0, 0, 0.15);\n",
              "      filter: drop-shadow(0px 1px 2px rgba(0, 0, 0, 0.3));\n",
              "      fill: #FFFFFF;\n",
              "    }\n",
              "  </style>\n",
              "\n",
              "      <script>\n",
              "        const buttonEl =\n",
              "          document.querySelector('#df-ade40b43-5a9f-4cb0-b037-f1f4202e8551 button.colab-df-convert');\n",
              "        buttonEl.style.display =\n",
              "          google.colab.kernel.accessAllowed ? 'block' : 'none';\n",
              "\n",
              "        async function convertToInteractive(key) {\n",
              "          const element = document.querySelector('#df-ade40b43-5a9f-4cb0-b037-f1f4202e8551');\n",
              "          const dataTable =\n",
              "            await google.colab.kernel.invokeFunction('convertToInteractive',\n",
              "                                                     [key], {});\n",
              "          if (!dataTable) return;\n",
              "\n",
              "          const docLinkHtml = 'Like what you see? Visit the ' +\n",
              "            '<a target=\"_blank\" href=https://colab.research.google.com/notebooks/data_table.ipynb>data table notebook</a>'\n",
              "            + ' to learn more about interactive tables.';\n",
              "          element.innerHTML = '';\n",
              "          dataTable['output_type'] = 'display_data';\n",
              "          await google.colab.output.renderOutput(dataTable, element);\n",
              "          const docLink = document.createElement('div');\n",
              "          docLink.innerHTML = docLinkHtml;\n",
              "          element.appendChild(docLink);\n",
              "        }\n",
              "      </script>\n",
              "    </div>\n",
              "  </div>\n",
              "  "
            ],
            "text/plain": [
              "   id keyword location                                               text\n",
              "0   0     NaN      NaN                 Just happened a terrible car crash\n",
              "1   2     NaN      NaN  Heard about #earthquake is different cities, s...\n",
              "2   3     NaN      NaN  there is a forest fire at spot pond, geese are...\n",
              "3   9     NaN      NaN           Apocalypse lighting. #Spokane #wildfires\n",
              "4  11     NaN      NaN      Typhoon Soudelor kills 28 in China and Taiwan\n",
              "5  12     NaN      NaN                 We're shaking...It's an earthquake\n",
              "6  21     NaN      NaN  They'd probably still show more life than Arse...\n",
              "7  22     NaN      NaN                                  Hey! How are you?\n",
              "8  27     NaN      NaN                                   What a nice hat?\n",
              "9  29     NaN      NaN                                          Fuck off!"
            ]
          },
          "metadata": {},
          "execution_count": 15
        }
      ]
    },
    {
      "cell_type": "code",
      "source": [
        "df_test.drop(['location', 'keyword', 'id'], axis=1)\n",
        "df_test.head(10)"
      ],
      "metadata": {
        "colab": {
          "base_uri": "https://localhost:8080/",
          "height": 363
        },
        "id": "zY4XU4eCbuQ6",
        "outputId": "f8ee1ae3-5985-49d2-efeb-945ddd40a469"
      },
      "execution_count": 16,
      "outputs": [
        {
          "output_type": "execute_result",
          "data": {
            "text/html": [
              "\n",
              "  <div id=\"df-4a5928c5-31c9-4bdc-a259-acd2a53b5182\">\n",
              "    <div class=\"colab-df-container\">\n",
              "      <div>\n",
              "<style scoped>\n",
              "    .dataframe tbody tr th:only-of-type {\n",
              "        vertical-align: middle;\n",
              "    }\n",
              "\n",
              "    .dataframe tbody tr th {\n",
              "        vertical-align: top;\n",
              "    }\n",
              "\n",
              "    .dataframe thead th {\n",
              "        text-align: right;\n",
              "    }\n",
              "</style>\n",
              "<table border=\"1\" class=\"dataframe\">\n",
              "  <thead>\n",
              "    <tr style=\"text-align: right;\">\n",
              "      <th></th>\n",
              "      <th>id</th>\n",
              "      <th>keyword</th>\n",
              "      <th>location</th>\n",
              "      <th>text</th>\n",
              "    </tr>\n",
              "  </thead>\n",
              "  <tbody>\n",
              "    <tr>\n",
              "      <th>0</th>\n",
              "      <td>0</td>\n",
              "      <td>NaN</td>\n",
              "      <td>NaN</td>\n",
              "      <td>Just happened a terrible car crash</td>\n",
              "    </tr>\n",
              "    <tr>\n",
              "      <th>1</th>\n",
              "      <td>2</td>\n",
              "      <td>NaN</td>\n",
              "      <td>NaN</td>\n",
              "      <td>Heard about #earthquake is different cities, s...</td>\n",
              "    </tr>\n",
              "    <tr>\n",
              "      <th>2</th>\n",
              "      <td>3</td>\n",
              "      <td>NaN</td>\n",
              "      <td>NaN</td>\n",
              "      <td>there is a forest fire at spot pond, geese are...</td>\n",
              "    </tr>\n",
              "    <tr>\n",
              "      <th>3</th>\n",
              "      <td>9</td>\n",
              "      <td>NaN</td>\n",
              "      <td>NaN</td>\n",
              "      <td>Apocalypse lighting. #Spokane #wildfires</td>\n",
              "    </tr>\n",
              "    <tr>\n",
              "      <th>4</th>\n",
              "      <td>11</td>\n",
              "      <td>NaN</td>\n",
              "      <td>NaN</td>\n",
              "      <td>Typhoon Soudelor kills 28 in China and Taiwan</td>\n",
              "    </tr>\n",
              "    <tr>\n",
              "      <th>5</th>\n",
              "      <td>12</td>\n",
              "      <td>NaN</td>\n",
              "      <td>NaN</td>\n",
              "      <td>We're shaking...It's an earthquake</td>\n",
              "    </tr>\n",
              "    <tr>\n",
              "      <th>6</th>\n",
              "      <td>21</td>\n",
              "      <td>NaN</td>\n",
              "      <td>NaN</td>\n",
              "      <td>They'd probably still show more life than Arse...</td>\n",
              "    </tr>\n",
              "    <tr>\n",
              "      <th>7</th>\n",
              "      <td>22</td>\n",
              "      <td>NaN</td>\n",
              "      <td>NaN</td>\n",
              "      <td>Hey! How are you?</td>\n",
              "    </tr>\n",
              "    <tr>\n",
              "      <th>8</th>\n",
              "      <td>27</td>\n",
              "      <td>NaN</td>\n",
              "      <td>NaN</td>\n",
              "      <td>What a nice hat?</td>\n",
              "    </tr>\n",
              "    <tr>\n",
              "      <th>9</th>\n",
              "      <td>29</td>\n",
              "      <td>NaN</td>\n",
              "      <td>NaN</td>\n",
              "      <td>Fuck off!</td>\n",
              "    </tr>\n",
              "  </tbody>\n",
              "</table>\n",
              "</div>\n",
              "      <button class=\"colab-df-convert\" onclick=\"convertToInteractive('df-4a5928c5-31c9-4bdc-a259-acd2a53b5182')\"\n",
              "              title=\"Convert this dataframe to an interactive table.\"\n",
              "              style=\"display:none;\">\n",
              "        \n",
              "  <svg xmlns=\"http://www.w3.org/2000/svg\" height=\"24px\"viewBox=\"0 0 24 24\"\n",
              "       width=\"24px\">\n",
              "    <path d=\"M0 0h24v24H0V0z\" fill=\"none\"/>\n",
              "    <path d=\"M18.56 5.44l.94 2.06.94-2.06 2.06-.94-2.06-.94-.94-2.06-.94 2.06-2.06.94zm-11 1L8.5 8.5l.94-2.06 2.06-.94-2.06-.94L8.5 2.5l-.94 2.06-2.06.94zm10 10l.94 2.06.94-2.06 2.06-.94-2.06-.94-.94-2.06-.94 2.06-2.06.94z\"/><path d=\"M17.41 7.96l-1.37-1.37c-.4-.4-.92-.59-1.43-.59-.52 0-1.04.2-1.43.59L10.3 9.45l-7.72 7.72c-.78.78-.78 2.05 0 2.83L4 21.41c.39.39.9.59 1.41.59.51 0 1.02-.2 1.41-.59l7.78-7.78 2.81-2.81c.8-.78.8-2.07 0-2.86zM5.41 20L4 18.59l7.72-7.72 1.47 1.35L5.41 20z\"/>\n",
              "  </svg>\n",
              "      </button>\n",
              "      \n",
              "  <style>\n",
              "    .colab-df-container {\n",
              "      display:flex;\n",
              "      flex-wrap:wrap;\n",
              "      gap: 12px;\n",
              "    }\n",
              "\n",
              "    .colab-df-convert {\n",
              "      background-color: #E8F0FE;\n",
              "      border: none;\n",
              "      border-radius: 50%;\n",
              "      cursor: pointer;\n",
              "      display: none;\n",
              "      fill: #1967D2;\n",
              "      height: 32px;\n",
              "      padding: 0 0 0 0;\n",
              "      width: 32px;\n",
              "    }\n",
              "\n",
              "    .colab-df-convert:hover {\n",
              "      background-color: #E2EBFA;\n",
              "      box-shadow: 0px 1px 2px rgba(60, 64, 67, 0.3), 0px 1px 3px 1px rgba(60, 64, 67, 0.15);\n",
              "      fill: #174EA6;\n",
              "    }\n",
              "\n",
              "    [theme=dark] .colab-df-convert {\n",
              "      background-color: #3B4455;\n",
              "      fill: #D2E3FC;\n",
              "    }\n",
              "\n",
              "    [theme=dark] .colab-df-convert:hover {\n",
              "      background-color: #434B5C;\n",
              "      box-shadow: 0px 1px 3px 1px rgba(0, 0, 0, 0.15);\n",
              "      filter: drop-shadow(0px 1px 2px rgba(0, 0, 0, 0.3));\n",
              "      fill: #FFFFFF;\n",
              "    }\n",
              "  </style>\n",
              "\n",
              "      <script>\n",
              "        const buttonEl =\n",
              "          document.querySelector('#df-4a5928c5-31c9-4bdc-a259-acd2a53b5182 button.colab-df-convert');\n",
              "        buttonEl.style.display =\n",
              "          google.colab.kernel.accessAllowed ? 'block' : 'none';\n",
              "\n",
              "        async function convertToInteractive(key) {\n",
              "          const element = document.querySelector('#df-4a5928c5-31c9-4bdc-a259-acd2a53b5182');\n",
              "          const dataTable =\n",
              "            await google.colab.kernel.invokeFunction('convertToInteractive',\n",
              "                                                     [key], {});\n",
              "          if (!dataTable) return;\n",
              "\n",
              "          const docLinkHtml = 'Like what you see? Visit the ' +\n",
              "            '<a target=\"_blank\" href=https://colab.research.google.com/notebooks/data_table.ipynb>data table notebook</a>'\n",
              "            + ' to learn more about interactive tables.';\n",
              "          element.innerHTML = '';\n",
              "          dataTable['output_type'] = 'display_data';\n",
              "          await google.colab.output.renderOutput(dataTable, element);\n",
              "          const docLink = document.createElement('div');\n",
              "          docLink.innerHTML = docLinkHtml;\n",
              "          element.appendChild(docLink);\n",
              "        }\n",
              "      </script>\n",
              "    </div>\n",
              "  </div>\n",
              "  "
            ],
            "text/plain": [
              "   id keyword location                                               text\n",
              "0   0     NaN      NaN                 Just happened a terrible car crash\n",
              "1   2     NaN      NaN  Heard about #earthquake is different cities, s...\n",
              "2   3     NaN      NaN  there is a forest fire at spot pond, geese are...\n",
              "3   9     NaN      NaN           Apocalypse lighting. #Spokane #wildfires\n",
              "4  11     NaN      NaN      Typhoon Soudelor kills 28 in China and Taiwan\n",
              "5  12     NaN      NaN                 We're shaking...It's an earthquake\n",
              "6  21     NaN      NaN  They'd probably still show more life than Arse...\n",
              "7  22     NaN      NaN                                  Hey! How are you?\n",
              "8  27     NaN      NaN                                   What a nice hat?\n",
              "9  29     NaN      NaN                                          Fuck off!"
            ]
          },
          "metadata": {},
          "execution_count": 16
        }
      ]
    },
    {
      "cell_type": "code",
      "source": [
        "df_train.info()"
      ],
      "metadata": {
        "colab": {
          "base_uri": "https://localhost:8080/"
        },
        "id": "xSxlP_GEHY0N",
        "outputId": "186b900e-e7ce-4952-a47d-0015709533b4"
      },
      "execution_count": 17,
      "outputs": [
        {
          "output_type": "stream",
          "name": "stdout",
          "text": [
            "<class 'pandas.core.frame.DataFrame'>\n",
            "RangeIndex: 7613 entries, 0 to 7612\n",
            "Data columns (total 2 columns):\n",
            " #   Column  Non-Null Count  Dtype \n",
            "---  ------  --------------  ----- \n",
            " 0   text    7613 non-null   object\n",
            " 1   target  7613 non-null   int64 \n",
            "dtypes: int64(1), object(1)\n",
            "memory usage: 119.1+ KB\n"
          ]
        }
      ]
    },
    {
      "cell_type": "code",
      "metadata": {
        "colab": {
          "base_uri": "https://localhost:8080/"
        },
        "id": "Q0ommxJsfvm6",
        "outputId": "d5a23637-e068-4282-fdc9-04d8912b311f"
      },
      "source": [
        "df_train['target'].value_counts()"
      ],
      "execution_count": 18,
      "outputs": [
        {
          "output_type": "execute_result",
          "data": {
            "text/plain": [
              "0    4342\n",
              "1    3271\n",
              "Name: target, dtype: int64"
            ]
          },
          "metadata": {},
          "execution_count": 18
        }
      ]
    },
    {
      "cell_type": "code",
      "source": [
        "sns.set_theme(style=\"darkgrid\")\n",
        "ax = sns.countplot(x=\"target\", data=df_train)"
      ],
      "metadata": {
        "colab": {
          "base_uri": "https://localhost:8080/",
          "height": 285
        },
        "id": "umqRt-rHjSoj",
        "outputId": "8a771faf-f79d-4d82-d39d-c6b52a8e58e2"
      },
      "execution_count": 19,
      "outputs": [
        {
          "output_type": "display_data",
          "data": {
            "image/png": "[encoded data removed]",
            "text/plain": [
              "<Figure size 432x288 with 1 Axes>"
            ]
          },
          "metadata": {}
        }
      ]
    },
    {
      "cell_type": "code",
      "source": [
        "for col in df_train.columns:\n",
        "  print(f\"The number of nan values in {col} is: {df_train[col].isna().sum()}\")"
      ],
      "metadata": {
        "colab": {
          "base_uri": "https://localhost:8080/"
        },
        "id": "FpACLZFylB0g",
        "outputId": "799d7551-aedf-4e57-c860-9f16cce78363"
      },
      "execution_count": 20,
      "outputs": [
        {
          "output_type": "stream",
          "name": "stdout",
          "text": [
            "The number of nan values in text is: 0\n",
            "The number of nan values in target is: 0\n"
          ]
        }
      ]
    },
    {
      "cell_type": "code",
      "source": [
        "df_train['cleaned_text']= df_train['text']"
      ],
      "metadata": {
        "id": "TnJ_sNdSqM4U"
      },
      "execution_count": 21,
      "outputs": []
    },
    {
      "cell_type": "code",
      "source": [
        "df_train[['text', 'cleaned_text']]"
      ],
      "metadata": {
        "colab": {
          "base_uri": "https://localhost:8080/",
          "height": 424
        },
        "id": "-rD46Y8oG4RE",
        "outputId": "fef4952a-f5ba-48fd-8c72-4476551ea5e5"
      },
      "execution_count": 22,
      "outputs": [
        {
          "output_type": "execute_result",
          "data": {
            "text/html": [
              "\n",
              "  <div id=\"df-aac6dc56-6427-433f-bfc6-8dbcd8bff6e6\">\n",
              "    <div class=\"colab-df-container\">\n",
              "      <div>\n",
              "<style scoped>\n",
              "    .dataframe tbody tr th:only-of-type {\n",
              "        vertical-align: middle;\n",
              "    }\n",
              "\n",
              "    .dataframe tbody tr th {\n",
              "        vertical-align: top;\n",
              "    }\n",
              "\n",
              "    .dataframe thead th {\n",
              "        text-align: right;\n",
              "    }\n",
              "</style>\n",
              "<table border=\"1\" class=\"dataframe\">\n",
              "  <thead>\n",
              "    <tr style=\"text-align: right;\">\n",
              "      <th></th>\n",
              "      <th>text</th>\n",
              "      <th>cleaned_text</th>\n",
              "    </tr>\n",
              "  </thead>\n",
              "  <tbody>\n",
              "    <tr>\n",
              "      <th>0</th>\n",
              "      <td>Our Deeds are the Reason of this #earthquake M...</td>\n",
              "      <td>Our Deeds are the Reason of this #earthquake M...</td>\n",
              "    </tr>\n",
              "    <tr>\n",
              "      <th>1</th>\n",
              "      <td>Forest fire near La Ronge Sask. Canada</td>\n",
              "      <td>Forest fire near La Ronge Sask. Canada</td>\n",
              "    </tr>\n",
              "    <tr>\n",
              "      <th>2</th>\n",
              "      <td>All residents asked to 'shelter in place' are ...</td>\n",
              "      <td>All residents asked to 'shelter in place' are ...</td>\n",
              "    </tr>\n",
              "    <tr>\n",
              "      <th>3</th>\n",
              "      <td>13,000 people receive #wildfires evacuation or...</td>\n",
              "      <td>13,000 people receive #wildfires evacuation or...</td>\n",
              "    </tr>\n",
              "    <tr>\n",
              "      <th>4</th>\n",
              "      <td>Just got sent this photo from Ruby #Alaska as ...</td>\n",
              "      <td>Just got sent this photo from Ruby #Alaska as ...</td>\n",
              "    </tr>\n",
              "    <tr>\n",
              "      <th>...</th>\n",
              "      <td>...</td>\n",
              "      <td>...</td>\n",
              "    </tr>\n",
              "    <tr>\n",
              "      <th>7608</th>\n",
              "      <td>Two giant cranes holding a bridge collapse int...</td>\n",
              "      <td>Two giant cranes holding a bridge collapse int...</td>\n",
              "    </tr>\n",
              "    <tr>\n",
              "      <th>7609</th>\n",
              "      <td>@aria_ahrary @TheTawniest The out of control w...</td>\n",
              "      <td>@aria_ahrary @TheTawniest The out of control w...</td>\n",
              "    </tr>\n",
              "    <tr>\n",
              "      <th>7610</th>\n",
              "      <td>M1.94 [01:04 UTC]?5km S of Volcano Hawaii. htt...</td>\n",
              "      <td>M1.94 [01:04 UTC]?5km S of Volcano Hawaii. htt...</td>\n",
              "    </tr>\n",
              "    <tr>\n",
              "      <th>7611</th>\n",
              "      <td>Police investigating after an e-bike collided ...</td>\n",
              "      <td>Police investigating after an e-bike collided ...</td>\n",
              "    </tr>\n",
              "    <tr>\n",
              "      <th>7612</th>\n",
              "      <td>The Latest: More Homes Razed by Northern Calif...</td>\n",
              "      <td>The Latest: More Homes Razed by Northern Calif...</td>\n",
              "    </tr>\n",
              "  </tbody>\n",
              "</table>\n",
              "<p>7613 rows × 2 columns</p>\n",
              "</div>\n",
              "      <button class=\"colab-df-convert\" onclick=\"convertToInteractive('df-aac6dc56-6427-433f-bfc6-8dbcd8bff6e6')\"\n",
              "              title=\"Convert this dataframe to an interactive table.\"\n",
              "              style=\"display:none;\">\n",
              "        \n",
              "  <svg xmlns=\"http://www.w3.org/2000/svg\" height=\"24px\"viewBox=\"0 0 24 24\"\n",
              "       width=\"24px\">\n",
              "    <path d=\"M0 0h24v24H0V0z\" fill=\"none\"/>\n",
              "    <path d=\"M18.56 5.44l.94 2.06.94-2.06 2.06-.94-2.06-.94-.94-2.06-.94 2.06-2.06.94zm-11 1L8.5 8.5l.94-2.06 2.06-.94-2.06-.94L8.5 2.5l-.94 2.06-2.06.94zm10 10l.94 2.06.94-2.06 2.06-.94-2.06-.94-.94-2.06-.94 2.06-2.06.94z\"/><path d=\"M17.41 7.96l-1.37-1.37c-.4-.4-.92-.59-1.43-.59-.52 0-1.04.2-1.43.59L10.3 9.45l-7.72 7.72c-.78.78-.78 2.05 0 2.83L4 21.41c.39.39.9.59 1.41.59.51 0 1.02-.2 1.41-.59l7.78-7.78 2.81-2.81c.8-.78.8-2.07 0-2.86zM5.41 20L4 18.59l7.72-7.72 1.47 1.35L5.41 20z\"/>\n",
              "  </svg>\n",
              "      </button>\n",
              "      \n",
              "  <style>\n",
              "    .colab-df-container {\n",
              "      display:flex;\n",
              "      flex-wrap:wrap;\n",
              "      gap: 12px;\n",
              "    }\n",
              "\n",
              "    .colab-df-convert {\n",
              "      background-color: #E8F0FE;\n",
              "      border: none;\n",
              "      border-radius: 50%;\n",
              "      cursor: pointer;\n",
              "      display: none;\n",
              "      fill: #1967D2;\n",
              "      height: 32px;\n",
              "      padding: 0 0 0 0;\n",
              "      width: 32px;\n",
              "    }\n",
              "\n",
              "    .colab-df-convert:hover {\n",
              "      background-color: #E2EBFA;\n",
              "      box-shadow: 0px 1px 2px rgba(60, 64, 67, 0.3), 0px 1px 3px 1px rgba(60, 64, 67, 0.15);\n",
              "      fill: #174EA6;\n",
              "    }\n",
              "\n",
              "    [theme=dark] .colab-df-convert {\n",
              "      background-color: #3B4455;\n",
              "      fill: #D2E3FC;\n",
              "    }\n",
              "\n",
              "    [theme=dark] .colab-df-convert:hover {\n",
              "      background-color: #434B5C;\n",
              "      box-shadow: 0px 1px 3px 1px rgba(0, 0, 0, 0.15);\n",
              "      filter: drop-shadow(0px 1px 2px rgba(0, 0, 0, 0.3));\n",
              "      fill: #FFFFFF;\n",
              "    }\n",
              "  </style>\n",
              "\n",
              "      <script>\n",
              "        const buttonEl =\n",
              "          document.querySelector('#df-aac6dc56-6427-433f-bfc6-8dbcd8bff6e6 button.colab-df-convert');\n",
              "        buttonEl.style.display =\n",
              "          google.colab.kernel.accessAllowed ? 'block' : 'none';\n",
              "\n",
              "        async function convertToInteractive(key) {\n",
              "          const element = document.querySelector('#df-aac6dc56-6427-433f-bfc6-8dbcd8bff6e6');\n",
              "          const dataTable =\n",
              "            await google.colab.kernel.invokeFunction('convertToInteractive',\n",
              "                                                     [key], {});\n",
              "          if (!dataTable) return;\n",
              "\n",
              "          const docLinkHtml = 'Like what you see? Visit the ' +\n",
              "            '<a target=\"_blank\" href=https://colab.research.google.com/notebooks/data_table.ipynb>data table notebook</a>'\n",
              "            + ' to learn more about interactive tables.';\n",
              "          element.innerHTML = '';\n",
              "          dataTable['output_type'] = 'display_data';\n",
              "          await google.colab.output.renderOutput(dataTable, element);\n",
              "          const docLink = document.createElement('div');\n",
              "          docLink.innerHTML = docLinkHtml;\n",
              "          element.appendChild(docLink);\n",
              "        }\n",
              "      </script>\n",
              "    </div>\n",
              "  </div>\n",
              "  "
            ],
            "text/plain": [
              "                                                   text                                       cleaned_text\n",
              "0     Our Deeds are the Reason of this #earthquake M...  Our Deeds are the Reason of this #earthquake M...\n",
              "1                Forest fire near La Ronge Sask. Canada             Forest fire near La Ronge Sask. Canada\n",
              "2     All residents asked to 'shelter in place' are ...  All residents asked to 'shelter in place' are ...\n",
              "3     13,000 people receive #wildfires evacuation or...  13,000 people receive #wildfires evacuation or...\n",
              "4     Just got sent this photo from Ruby #Alaska as ...  Just got sent this photo from Ruby #Alaska as ...\n",
              "...                                                 ...                                                ...\n",
              "7608  Two giant cranes holding a bridge collapse int...  Two giant cranes holding a bridge collapse int...\n",
              "7609  @aria_ahrary @TheTawniest The out of control w...  @aria_ahrary @TheTawniest The out of control w...\n",
              "7610  M1.94 [01:04 UTC]?5km S of Volcano Hawaii. htt...  M1.94 [01:04 UTC]?5km S of Volcano Hawaii. htt...\n",
              "7611  Police investigating after an e-bike collided ...  Police investigating after an e-bike collided ...\n",
              "7612  The Latest: More Homes Razed by Northern Calif...  The Latest: More Homes Razed by Northern Calif...\n",
              "\n",
              "[7613 rows x 2 columns]"
            ]
          },
          "metadata": {},
          "execution_count": 22
        }
      ]
    },
    {
      "cell_type": "code",
      "source": [
        "def clean_tweets(tweet):\n",
        "  \n",
        "  #remove uni-code characters and lower case the tweets\n",
        "  tweet = re.sub(text_cleaning_regex, ' ', str(tweet).lower()).strip()\n",
        "\n",
        "  # remove numbers from text\n",
        "  tweet = re.sub(r'\\d+', '', tweet)\n",
        "\n",
        "  #stemming\n",
        "  tweet = stemmer.stem(tweet)\n",
        "\n",
        "  #remove stop words\n",
        "  stop = stopwords.words('english')\n",
        "  tweet = \" \".join([word for word in tweet.split() if word not in (stop)])\n",
        "\n",
        "  #apply tokenization\n",
        "  tweet = re.split('\\W+',tweet)\n",
        "\n",
        "  # return \" \".join(\" \".join(tweet).split())\n",
        "  return tweet\n",
        "\n",
        "df_train['cleaned_text'] = df_train['text'].apply(lambda x: clean_tweets(x) )\n",
        "\n"
      ],
      "metadata": {
        "id": "uQHZgR6bPcyA"
      },
      "execution_count": 23,
      "outputs": []
    },
    {
      "cell_type": "code",
      "source": [
        "df_train[['text', 'cleaned_text']]"
      ],
      "metadata": {
        "colab": {
          "base_uri": "https://localhost:8080/",
          "height": 424
        },
        "id": "4jNMGmi5V6j1",
        "outputId": "d5e0cd96-3ebc-46e0-b684-e73d694d9dc7"
      },
      "execution_count": 24,
      "outputs": [
        {
          "output_type": "execute_result",
          "data": {
            "text/html": [
              "\n",
              "  <div id=\"df-17ce594f-190b-4f18-8cb8-a813ebcd7408\">\n",
              "    <div class=\"colab-df-container\">\n",
              "      <div>\n",
              "<style scoped>\n",
              "    .dataframe tbody tr th:only-of-type {\n",
              "        vertical-align: middle;\n",
              "    }\n",
              "\n",
              "    .dataframe tbody tr th {\n",
              "        vertical-align: top;\n",
              "    }\n",
              "\n",
              "    .dataframe thead th {\n",
              "        text-align: right;\n",
              "    }\n",
              "</style>\n",
              "<table border=\"1\" class=\"dataframe\">\n",
              "  <thead>\n",
              "    <tr style=\"text-align: right;\">\n",
              "      <th></th>\n",
              "      <th>text</th>\n",
              "      <th>cleaned_text</th>\n",
              "    </tr>\n",
              "  </thead>\n",
              "  <tbody>\n",
              "    <tr>\n",
              "      <th>0</th>\n",
              "      <td>Our Deeds are the Reason of this #earthquake M...</td>\n",
              "      <td>[deeds, reason, earthquake, may, allah, forgiv...</td>\n",
              "    </tr>\n",
              "    <tr>\n",
              "      <th>1</th>\n",
              "      <td>Forest fire near La Ronge Sask. Canada</td>\n",
              "      <td>[forest, fire, near, la, ronge, sask, canada]</td>\n",
              "    </tr>\n",
              "    <tr>\n",
              "      <th>2</th>\n",
              "      <td>All residents asked to 'shelter in place' are ...</td>\n",
              "      <td>[residents, asked, shelter, place, notified, o...</td>\n",
              "    </tr>\n",
              "    <tr>\n",
              "      <th>3</th>\n",
              "      <td>13,000 people receive #wildfires evacuation or...</td>\n",
              "      <td>[people, receive, wildfires, evacuation, order...</td>\n",
              "    </tr>\n",
              "    <tr>\n",
              "      <th>4</th>\n",
              "      <td>Just got sent this photo from Ruby #Alaska as ...</td>\n",
              "      <td>[got, sent, photo, ruby, alaska, smoke, wildfi...</td>\n",
              "    </tr>\n",
              "    <tr>\n",
              "      <th>...</th>\n",
              "      <td>...</td>\n",
              "      <td>...</td>\n",
              "    </tr>\n",
              "    <tr>\n",
              "      <th>7608</th>\n",
              "      <td>Two giant cranes holding a bridge collapse int...</td>\n",
              "      <td>[two, giant, cranes, holding, bridge, collapse...</td>\n",
              "    </tr>\n",
              "    <tr>\n",
              "      <th>7609</th>\n",
              "      <td>@aria_ahrary @TheTawniest The out of control w...</td>\n",
              "      <td>[aria, ahrary, thetawniest, control, wild, fir...</td>\n",
              "    </tr>\n",
              "    <tr>\n",
              "      <th>7610</th>\n",
              "      <td>M1.94 [01:04 UTC]?5km S of Volcano Hawaii. htt...</td>\n",
              "      <td>[utc, km, volcano, hawaii, http, co, zdtoydebj]</td>\n",
              "    </tr>\n",
              "    <tr>\n",
              "      <th>7611</th>\n",
              "      <td>Police investigating after an e-bike collided ...</td>\n",
              "      <td>[police, investigating, e, bike, collided, car...</td>\n",
              "    </tr>\n",
              "    <tr>\n",
              "      <th>7612</th>\n",
              "      <td>The Latest: More Homes Razed by Northern Calif...</td>\n",
              "      <td>[latest, homes, razed, northern, california, w...</td>\n",
              "    </tr>\n",
              "  </tbody>\n",
              "</table>\n",
              "<p>7613 rows × 2 columns</p>\n",
              "</div>\n",
              "      <button class=\"colab-df-convert\" onclick=\"convertToInteractive('df-17ce594f-190b-4f18-8cb8-a813ebcd7408')\"\n",
              "              title=\"Convert this dataframe to an interactive table.\"\n",
              "              style=\"display:none;\">\n",
              "        \n",
              "  <svg xmlns=\"http://www.w3.org/2000/svg\" height=\"24px\"viewBox=\"0 0 24 24\"\n",
              "       width=\"24px\">\n",
              "    <path d=\"M0 0h24v24H0V0z\" fill=\"none\"/>\n",
              "    <path d=\"M18.56 5.44l.94 2.06.94-2.06 2.06-.94-2.06-.94-.94-2.06-.94 2.06-2.06.94zm-11 1L8.5 8.5l.94-2.06 2.06-.94-2.06-.94L8.5 2.5l-.94 2.06-2.06.94zm10 10l.94 2.06.94-2.06 2.06-.94-2.06-.94-.94-2.06-.94 2.06-2.06.94z\"/><path d=\"M17.41 7.96l-1.37-1.37c-.4-.4-.92-.59-1.43-.59-.52 0-1.04.2-1.43.59L10.3 9.45l-7.72 7.72c-.78.78-.78 2.05 0 2.83L4 21.41c.39.39.9.59 1.41.59.51 0 1.02-.2 1.41-.59l7.78-7.78 2.81-2.81c.8-.78.8-2.07 0-2.86zM5.41 20L4 18.59l7.72-7.72 1.47 1.35L5.41 20z\"/>\n",
              "  </svg>\n",
              "      </button>\n",
              "      \n",
              "  <style>\n",
              "    .colab-df-container {\n",
              "      display:flex;\n",
              "      flex-wrap:wrap;\n",
              "      gap: 12px;\n",
              "    }\n",
              "\n",
              "    .colab-df-convert {\n",
              "      background-color: #E8F0FE;\n",
              "      border: none;\n",
              "      border-radius: 50%;\n",
              "      cursor: pointer;\n",
              "      display: none;\n",
              "      fill: #1967D2;\n",
              "      height: 32px;\n",
              "      padding: 0 0 0 0;\n",
              "      width: 32px;\n",
              "    }\n",
              "\n",
              "    .colab-df-convert:hover {\n",
              "      background-color: #E2EBFA;\n",
              "      box-shadow: 0px 1px 2px rgba(60, 64, 67, 0.3), 0px 1px 3px 1px rgba(60, 64, 67, 0.15);\n",
              "      fill: #174EA6;\n",
              "    }\n",
              "\n",
              "    [theme=dark] .colab-df-convert {\n",
              "      background-color: #3B4455;\n",
              "      fill: #D2E3FC;\n",
              "    }\n",
              "\n",
              "    [theme=dark] .colab-df-convert:hover {\n",
              "      background-color: #434B5C;\n",
              "      box-shadow: 0px 1px 3px 1px rgba(0, 0, 0, 0.15);\n",
              "      filter: drop-shadow(0px 1px 2px rgba(0, 0, 0, 0.3));\n",
              "      fill: #FFFFFF;\n",
              "    }\n",
              "  </style>\n",
              "\n",
              "      <script>\n",
              "        const buttonEl =\n",
              "          document.querySelector('#df-17ce594f-190b-4f18-8cb8-a813ebcd7408 button.colab-df-convert');\n",
              "        buttonEl.style.display =\n",
              "          google.colab.kernel.accessAllowed ? 'block' : 'none';\n",
              "\n",
              "        async function convertToInteractive(key) {\n",
              "          const element = document.querySelector('#df-17ce594f-190b-4f18-8cb8-a813ebcd7408');\n",
              "          const dataTable =\n",
              "            await google.colab.kernel.invokeFunction('convertToInteractive',\n",
              "                                                     [key], {});\n",
              "          if (!dataTable) return;\n",
              "\n",
              "          const docLinkHtml = 'Like what you see? Visit the ' +\n",
              "            '<a target=\"_blank\" href=https://colab.research.google.com/notebooks/data_table.ipynb>data table notebook</a>'\n",
              "            + ' to learn more about interactive tables.';\n",
              "          element.innerHTML = '';\n",
              "          dataTable['output_type'] = 'display_data';\n",
              "          await google.colab.output.renderOutput(dataTable, element);\n",
              "          const docLink = document.createElement('div');\n",
              "          docLink.innerHTML = docLinkHtml;\n",
              "          element.appendChild(docLink);\n",
              "        }\n",
              "      </script>\n",
              "    </div>\n",
              "  </div>\n",
              "  "
            ],
            "text/plain": [
              "                                                   text                                       cleaned_text\n",
              "0     Our Deeds are the Reason of this #earthquake M...  [deeds, reason, earthquake, may, allah, forgiv...\n",
              "1                Forest fire near La Ronge Sask. Canada      [forest, fire, near, la, ronge, sask, canada]\n",
              "2     All residents asked to 'shelter in place' are ...  [residents, asked, shelter, place, notified, o...\n",
              "3     13,000 people receive #wildfires evacuation or...  [people, receive, wildfires, evacuation, order...\n",
              "4     Just got sent this photo from Ruby #Alaska as ...  [got, sent, photo, ruby, alaska, smoke, wildfi...\n",
              "...                                                 ...                                                ...\n",
              "7608  Two giant cranes holding a bridge collapse int...  [two, giant, cranes, holding, bridge, collapse...\n",
              "7609  @aria_ahrary @TheTawniest The out of control w...  [aria, ahrary, thetawniest, control, wild, fir...\n",
              "7610  M1.94 [01:04 UTC]?5km S of Volcano Hawaii. htt...    [utc, km, volcano, hawaii, http, co, zdtoydebj]\n",
              "7611  Police investigating after an e-bike collided ...  [police, investigating, e, bike, collided, car...\n",
              "7612  The Latest: More Homes Razed by Northern Calif...  [latest, homes, razed, northern, california, w...\n",
              "\n",
              "[7613 rows x 2 columns]"
            ]
          },
          "metadata": {},
          "execution_count": 24
        }
      ]
    },
    {
      "cell_type": "code",
      "source": [
        "# train and test splitting\n",
        "X_train, X_test,y_train, y_test = model_selection.train_test_split(df_train['cleaned_text'],\n",
        "                                                                   df_train['target'],\n",
        "                                                                   test_size=0.2,\n",
        "                                                                   random_state=0, \n",
        "                                                                   shuffle=True)\n",
        "print(\"Train Data size:\", len(X_train))\n",
        "print(\"Test Data size\", len(X_test))"
      ],
      "metadata": {
        "id": "mKjqYqOJ0Cc_",
        "colab": {
          "base_uri": "https://localhost:8080/"
        },
        "outputId": "004ef88b-06e2-4e3c-ffe3-4f1686455052"
      },
      "execution_count": 25,
      "outputs": [
        {
          "output_type": "stream",
          "name": "stdout",
          "text": [
            "Train Data size: 6090\n",
            "Test Data size 1523\n"
          ]
        }
      ]
    },
    {
      "cell_type": "markdown",
      "source": [
        "# Pre-Building the model"
      ],
      "metadata": {
        "id": "M8ZfDk1vxmNL"
      }
    },
    {
      "cell_type": "code",
      "source": [
        "X_train"
      ],
      "metadata": {
        "colab": {
          "base_uri": "https://localhost:8080/"
        },
        "id": "lMWNB8eLwoM-",
        "outputId": "031176c0-78ee-44c6-d88f-59bd020baa0f"
      },
      "execution_count": null,
      "outputs": [
        {
          "output_type": "execute_result",
          "data": {
            "text/plain": [
              "1386    [ted, cruz, fires, back, jeb, amp, bush, lose,...\n",
              "4048    [first, year, forest, service, spent, half, an...\n",
              "3086    [lightseraphs, pissed, could, pikachu, electro...\n",
              "272                     [gonna, fight, taylor, soon, get]\n",
              "7462    [nicolaclements, sure, covering, head, wounds,...\n",
              "                              ...                        \n",
              "4931    [real, heroes, rip, brave, hearts, http, co, q...\n",
              "3264    [car, engulfed, flames, backs, traffic, parley...\n",
              "1653    [great, british, bake, back, dorret, chocolate...\n",
              "2607    [black, eye, space, battle, occurred, star, in...\n",
              "2732    [mikeparractor, absolutely, devastated, actor,...\n",
              "Name: cleaned_text, Length: 6090, dtype: object"
            ]
          },
          "metadata": {},
          "execution_count": 18
        }
      ]
    },
    {
      "cell_type": "code",
      "source": [
        "tokenizer.fit_on_texts(X_train)\n",
        "word_index = tokenizer.word_index\n",
        "print(word_index)"
      ],
      "metadata": {
        "id": "eoQkThL-ItaA",
        "colab": {
          "base_uri": "https://localhost:8080/"
        },
        "outputId": "731791f1-0f6b-4df5-def5-d4dc8d5f3003"
      },
      "execution_count": null,
      "outputs": [
        {
          "output_type": "stream",
          "name": "stdout",
          "text": [
            "{'co': 1, 'http': 2, 'https': 3, 'amp': 4, 'like': 5, 'new': 6, 'fire': 7, 'get': 8, 'via': 9, 'one': 10, 'people': 11, 'news': 12, 'emergency': 13, 'video': 14, 'u': 15, 'disaster': 16, 'would': 17, 'police': 18, 'still': 19, 'us': 20, 'california': 21, 'crash': 22, 'back': 23, 'burning': 24, 'body': 25, 'day': 26, 'got': 27, 'first': 28, 'suicide': 29, 'storm': 30, 'know': 31, 'rt': 32, 'time': 33, 'man': 34, 'today': 35, 'dead': 36, 'going': 37, 'killed': 38, 'pm': 39, 'bomb': 40, 'year': 41, 'world': 42, 'attack': 43, 'buildings': 44, 'w': 45, 'nuclear': 46, 'go': 47, 'families': 48, 'see': 49, 'car': 50, 'fires': 51, 'full': 52, 'war': 53, 'two': 54, 'train': 55, 'hiroshima': 56, 'may': 57, 'gt': 58, 'good': 59, 'think': 60, 'love': 61, 'say': 62, 'old': 63, 'best': 64, 'let': 65, 'mass': 66, 'life': 67, 'watch': 68, 'way': 69, 'many': 70, 'could': 71, 'mh': 72, 'accident': 73, 'death': 74, 'help': 75, 'last': 76, 'work': 77, 'another': 78, 'look': 79, 'bombing': 80, 'right': 81, 'youtube': 82, 'years': 83, 'hot': 84, 'really': 85, 'fatal': 86, 'army': 87, 'take': 88, 'need': 89, 'even': 90, 'make': 91, 'want': 92, 'home': 93, 'wildfire': 94, 'forest': 95, 'collapse': 96, 'great': 97, 'obama': 98, 'water': 99, 'reddit': 100, 'god': 101, 'read': 102, 'black': 103, 'never': 104, 'japan': 105, 'school': 106, 'northern': 107, 'legionnaires': 108, 'th': 109, 'much': 110, 'lol': 111, 'city': 112, 'please': 113, 'typhoon': 114, 'latest': 115, 'homes': 116, 'floods': 117, 'flood': 118, 'state': 119, 'hope': 120, 'near': 121, 'live': 122, 'im': 123, 'atomic': 124, 'feel': 125, 'said': 126, 'hit': 127, 'area': 128, 'content': 129, 'destroy': 130, 'thunderstorm': 131, 'since': 132, 'bomber': 133, 'fear': 134, 'everyone': 135, 'evacuation': 136, 'every': 137, 'cross': 138, 'top': 139, 'stop': 140, 'wreck': 141, 'oil': 142, 'truck': 143, 'wild': 144, 'weapon': 145, 'p': 146, 'come': 147, 'getting': 148, 'shit': 149, 'ass': 150, 'weather': 151, 'malaysia': 152, 'confirmed': 153, 'well': 154, 'without': 155, 'flames': 156, 'injured': 157, 'loud': 158, 'rain': 159, 'coming': 160, 'severe': 161, 'bag': 162, 'head': 163, 'murder': 164, 'plan': 165, 'next': 166, 'lightning': 167, 'military': 168, 'photo': 169, 'always': 170, 'warning': 171, 'end': 172, 'found': 173, 'little': 174, 'made': 175, 'fucking': 176, 'r': 177, 'flooding': 178, 'heat': 179, 'sinking': 180, 'china': 181, 'movie': 182, 'c': 183, 'ever': 184, 'night': 185, 'red': 186, 'looks': 187, 'wounded': 188, 'high': 189, 'times': 190, 'services': 191, 'bloody': 192, 'food': 193, 'damage': 194, 'gonna': 195, 'wind': 196, 'devastated': 197, 'hazard': 198, 'collided': 199, 'earthquake': 200, 'debris': 201, 'blood': 202, 'explosion': 203, 'trapped': 204, 'summer': 205, 'b': 206, 'around': 207, 'sinkhole': 208, 'thank': 209, 'road': 210, 'hail': 211, 'outbreak': 212, 'landslide': 213, 'report': 214, 'weapons': 215, 'boy': 216, 'family': 217, 'big': 218, 'bad': 219, 'liked': 220, 'show': 221, 'panic': 222, 'rescue': 223, 'charged': 224, 'st': 225, 'crush': 226, 'terrorist': 227, 'keep': 228, 'cause': 229, 'run': 230, 'free': 231, 'whole': 232, 'migrants': 233, 'tonight': 234, 'investigators': 235, 'wreckage': 236, 'week': 237, 'breaking': 238, 'spill': 239, 'derail': 240, 'check': 241, 'save': 242, 'fall': 243, 'missing': 244, 'women': 245, 'post': 246, 'put': 247, 'bags': 248, 'story': 249, 'someone': 250, 'smoke': 251, 'riot': 252, 'deaths': 253, 'girl': 254, 'also': 255, 'injury': 256, 'woman': 257, 'update': 258, 'derailment': 259, 'sunk': 260, 'windstorm': 261, 'terrorism': 262, 'blown': 263, 'island': 264, 'refugees': 265, 'says': 266, 'harm': 267, 'phone': 268, 'collision': 269, 'bang': 270, 'drought': 271, 'suspect': 272, 'dust': 273, 'came': 274, 'face': 275, 'natural': 276, 'august': 277, 'thing': 278, 'failure': 279, 'demolish': 280, 'national': 281, 'fuck': 282, 'bioterror': 283, 'bridge': 284, 'boat': 285, 'attacked': 286, 'real': 287, 'drown': 288, 'trauma': 289, 'white': 290, 'light': 291, 'house': 292, 'service': 293, 'half': 294, 'away': 295, 'x': 296, 'left': 297, 'siren': 298, 'displaced': 299, 'whirlwind': 300, 'pandemonium': 301, 'engulfed': 302, 'n': 303, 'send': 304, 'rescued': 305, 'curfew': 306, 'sandstorm': 307, 'armageddon': 308, 'county': 309, 'iran': 310, 'fedex': 311, 'saudi': 312, 'stock': 313, 'structural': 314, 'hurricane': 315, 'ebay': 316, 'group': 317, 'quarantine': 318, 'must': 319, 'quarantined': 320, 'rescuers': 321, 'america': 322, 'wave': 323, 'tragedy': 324, 'catastrophe': 325, 'three': 326, 'ok': 327, 'land': 328, 'drowning': 329, 'river': 330, 'hijacker': 331, 'hijacking': 332, 'air': 333, 'hundreds': 334, 'blew': 335, 'thunder': 336, 'market': 337, 'hostages': 338, 'famine': 339, 'massacre': 340, 'power': 341, 'start': 342, 'soon': 343, 'heard': 344, 'affected': 345, 'battle': 346, 'oh': 347, 'km': 348, 'e': 349, 'desolation': 350, 'tsunami': 351, 'evacuate': 352, 'self': 353, 'released': 354, 'rainstorm': 355, 'plane': 356, 'bombed': 357, 'things': 358, 'fir': 359, 'prebreak': 360, 'catastrophic': 361, 'ruin': 362, 'wrecked': 363, 'ambulance': 364, 'demolition': 365, 'volcano': 366, 'change': 367, 'set': 368, 'rd': 369, 'saw': 370, 'injuries': 371, 'blast': 372, 'least': 373, 'chemical': 374, 'cool': 375, 'hijack': 376, 'past': 377, 'officer': 378, 'stay': 379, 'play': 380, 'hellfire': 381, 'arson': 382, 'long': 383, 'deluge': 384, 'kills': 385, 'anniversary': 386, 'devastation': 387, 'due': 388, 'calgary': 389, 'wanna': 390, 'mosque': 391, 'baby': 392, 'destruction': 393, 'fight': 394, 'detonate': 395, 'plans': 396, 'yet': 397, 'lot': 398, 'inundated': 399, 'kids': 400, 'believe': 401, 'tornado': 402, 'lives': 403, 'use': 404, 'yr': 405, 'game': 406, 'crashed': 407, 'razed': 408, 'song': 409, 'isis': 410, 'collapsed': 411, 'tomorrow': 412, 'call': 413, 'l': 414, 'survived': 415, 'lava': 416, 'fun': 417, 'possible': 418, 'shoulder': 419, 'horrible': 420, 'bus': 421, 'derailed': 422, 'minute': 423, 'detonation': 424, 'ur': 425, 'responders': 426, 'drowned': 427, 'government': 428, 'casualties': 429, 'sound': 430, 'airplane': 431, 'part': 432, 'survivors': 433, 'burned': 434, 'mudslide': 435, 'fatalities': 436, 'far': 437, 'kill': 438, 'evacuated': 439, 'screamed': 440, 'officials': 441, 'cyclone': 442, 'something': 443, 'heart': 444, 'caused': 445, 'media': 446, 'longer': 447, 'cliff': 448, 'traffic': 449, 'hazardous': 450, 'violent': 451, 'traumatised': 452, 'hostage': 453, 'sue': 454, 'utc': 455, 'survive': 456, 'reunion': 457, 'twister': 458, 'fatality': 459, 'india': 460, 'stretcher': 461, 'yes': 462, 'exploded': 463, 'lt': 464, 'mp': 465, 'meltdown': 466, 'fan': 467, 'line': 468, 'lab': 469, 'south': 470, 'security': 471, 'murderer': 472, 'blight': 473, 'flattened': 474, 'danger': 475, 'snowstorm': 476, 'casualty': 477, 'bush': 478, 'nearby': 479, 'declares': 480, 'aug': 481, 'american': 482, 'thought': 483, 'actually': 484, 'job': 485, 'tell': 486, 'offensive': 487, 'guy': 488, 'better': 489, 'issues': 490, 'lost': 491, 'trouble': 492, 'burn': 493, 'electrocuted': 494, 'horror': 495, 'support': 496, 'screams': 497, 'airport': 498, 'conclusively': 499, 'sure': 500, 'stand': 501, 'wake': 502, 'went': 503, 'place': 504, 'bigger': 505, 'low': 506, 'pkk': 507, 'israeli': 508, 'center': 509, 'data': 510, 'hat': 511, 'days': 512, 'upheaval': 513, 'health': 514, 'collide': 515, 'seismic': 516, 'tv': 517, 'wait': 518, 'crews': 519, 'policy': 520, 'goes': 521, 'bioterrorism': 522, 'demolished': 523, 'rubble': 524, 'eyewitness': 525, 'blazing': 526, 'making': 527, 'already': 528, 'bagging': 529, 'hey': 530, 'thanks': 531, 'brown': 532, 'saipan': 533, 'hollywood': 534, 'abc': 535, 'care': 536, 'rioting': 537, 'islam': 538, 'k': 539, 'obliterate': 540, 'projected': 541, 'detonated': 542, 'west': 543, 'screaming': 544, 'used': 545, 'shot': 546, 'ago': 547, 'twitter': 548, 'shooting': 549, 'beautiful': 550, 'transport': 551, 'site': 552, 'died': 553, 'money': 554, 'second': 555, 'team': 556, 'crushed': 557, 'die': 558, 'done': 559, 'hours': 560, 'listen': 561, 'person': 562, 'manslaughter': 563, 'wrong': 564, 'find': 565, 'refugio': 566, 'costlier': 567, 'turkey': 568, 'eyes': 569, 'gbbo': 570, 'probably': 571, 'country': 572, 'waves': 573, 'street': 574, 'picking': 575, 'bodies': 576, 'searching': 577, 'building': 578, 'peace': 579, 'pick': 580, 'scream': 581, 'annihilated': 582, 'v': 583, 'children': 584, 'yeah': 585, 'leather': 586, 'soudelor': 587, 'hailstorm': 588, 'miners': 589, 'remember': 590, 'swallowed': 591, 'inside': 592, 'g': 593, 'property': 594, 'sensor': 595, 'win': 596, 'wounds': 597, 'music': 598, 'follow': 599, 'usa': 600, 'signs': 601, 'deluged': 602, 'rise': 603, 'electrocute': 604, 'trying': 605, 'everything': 606, 'control': 607, 'aircraft': 608, 'happy': 609, 'deal': 610, 'bc': 611, 'youtub': 612, 'pretty': 613, 'saved': 614, 'ca': 615, 'book': 616, 'north': 617, 'photos': 618, 'nearly': 619, 'texas': 620, 'effect': 621, 'reactor': 622, 'bar': 623, 'east': 624, 'hear': 625, 'obliterated': 626, 'anthrax': 627, 'watching': 628, 'almost': 629, 'memories': 630, 'move': 631, 'side': 632, 'australia': 633, 'words': 634, 'spot': 635, 'class': 636, 'explode': 637, 'literally': 638, 'fast': 639, 'knock': 640, 'nothing': 641, 'haha': 642, 'annihilation': 643, 'mom': 644, 'sirens': 645, 'might': 646, 'major': 647, 'pay': 648, 'become': 649, 'uk': 650, 'lord': 651, 'avalanche': 652, 'makes': 653, 'arsonist': 654, 'pakistan': 655, 'myanmar': 656, 'trains': 657, 'heavy': 658, 'apocalypse': 659, 'reuters': 660, 'star': 661, 'poor': 662, 'pic': 663, 'helicopter': 664, 'leave': 665, 'destroyed': 666, 'closed': 667, 'link': 668, 'computers': 669, 'blizzard': 670, 'ablaze': 671, 'online': 672, 'men': 673, 'human': 674, 'official': 675, 'angry': 676, 'cnn': 677, 'feared': 678, 'panicking': 679, 'mayhem': 680, 'ignition': 681, 'course': 682, 'mad': 683, 'obliteration': 684, 'maybe': 685, 'flag': 686, 'aftershock': 687, 'called': 688, 'appears': 689, 'guys': 690, 'bayelsa': 691, 'la': 692, 'russia': 693, 'toddler': 694, 'thousands': 695, 'miss': 696, 'space': 697, 'level': 698, 'daily': 699, 'outside': 700, 'gets': 701, 'happened': 702, 'truth': 703, 'large': 704, 'hour': 705, 'nowplaying': 706, 'action': 707, 'seen': 708, 'huge': 709, 'damn': 710, 'cake': 711, 'flash': 712, 'omg': 713, 'anyone': 714, 'mishaps': 715, 'amid': 716, 'crisis': 717, 'hell': 718, 'youth': 719, 'ladies': 720, 'banned': 721, 'bbc': 722, 'chance': 723, 'blue': 724, 'film': 725, 'beach': 726, 'feeling': 727, 'climate': 728, 'ship': 729, 'fukushima': 730, 'temple': 731, 'history': 732, 'desolate': 733, 'vehicle': 734, 'anything': 735, 'across': 736, 'zone': 737, 'others': 738, 'taken': 739, 'marks': 740, 'eye': 741, 'houses': 742, 'centre': 743, 'though': 744, 'dog': 745, 'info': 746, 'caught': 747, 'issued': 748, 'turned': 749, 'reports': 750, 'talk': 751, 'friend': 752, 'germs': 753, 'dont': 754, 'sounds': 755, 'russian': 756, 'gun': 757, 'israel': 758, 'behind': 759, 'hate': 760, 'tim': 761, 'explod': 762, 'london': 763, 'coaches': 764, 'cars': 765, 'gems': 766, 'terror': 767, 'sea': 768, 'entire': 769, 'former': 770, 'wow': 771, 'till': 772, 'muslims': 773, 'mount': 774, 'obliter': 775, 'reason': 776, 'public': 777, 'mod': 778, 'worst': 779, 'unconfirmed': 780, 'neighbour': 781, 'declaration': 782, 'patience': 783, 'bed': 784, 'france': 785, 'wanted': 786, 'fans': 787, 'town': 788, 'try': 789, 'tree': 790, 'tweet': 791, 'view': 792, 'pain': 793, 'blaze': 794, 'name': 795, 'totally': 796, 'instead': 797, 'sick': 798, 'early': 799, 'break': 800, 'hand': 801, 'rules': 802, 'funtenna': 803, 'giant': 804, 'order': 805, 'research': 806, 'fat': 807, 'favorite': 808, 'point': 809, 'flight': 810, 'needs': 811, 'expect': 812, 'disea': 813, 'downtown': 814, 'couple': 815, 'looking': 816, 'meek': 817, 'womens': 818, 'drive': 819, 'okay': 820, 'playing': 821, 'build': 822, 'madhya': 823, 'pradesh': 824, 'village': 825, 'dr': 826, 'bleeding': 827, 'bestnaijamade': 828, 'drake': 829, 'pray': 830, 'sex': 831, 'christian': 832, 'sky': 833, 'child': 834, 'four': 835, 'jonathan': 836, 'richmond': 837, 'small': 838, 'finally': 839, 'image': 840, 'moment': 841, 'walk': 842, 'quiz': 843, 'trench': 844, 'seeing': 845, 'libya': 846, 'upon': 847, 'takes': 848, 'turn': 849, 'enough': 850, 'nagasaki': 851, 'coast': 852, 'young': 853, 'arrested': 854, 'cut': 855, 'camp': 856, 'sorry': 857, 'escape': 858, 'outrage': 859, 'japanese': 860, 'gave': 861, 'tote': 862, 'subreddits': 863, 'chile': 864, 'risk': 865, 'middle': 866, 'gop': 867, 'added': 868, 'vs': 869, 'virgin': 870, 'galactic': 871, 'di': 872, 'running': 873, 'room': 874, 'york': 875, 'download': 876, 'pamela': 877, 'park': 878, 'radio': 879, 'rly': 880, 'govt': 881, 'apc': 882, 'businesses': 883, 'learn': 884, 'art': 885, 'hard': 886, 'bring': 887, 'took': 888, 'mountain': 889, 'shots': 890, 'act': 891, 'trust': 892, 'landing': 893, 'canada': 894, 'press': 895, 'chicago': 896, 'bless': 897, 'earth': 898, 'shows': 899, 'playlist': 900, 'holding': 901, 'different': 902, 'felt': 903, 'buy': 904, 'department': 905, 'idea': 906, 'lmao': 907, 'scared': 908, 'nws': 909, 'planned': 910, 'mph': 911, 'potus': 912, 'dies': 913, 'green': 914, 'victim': 915, 'information': 916, 'thursday': 917, 'horse': 918, 'alarm': 919, 'taking': 920, 'case': 921, 'sitting': 922, 'non': 923, 'led': 924, 'firefighters': 925, 'likely': 926, 'pakistani': 927, 'secret': 928, 'insurance': 929, 'fashion': 930, 'brooklyn': 931, 'alone': 932, 'nd': 933, 'disease': 934, 'ball': 935, 'standard': 936, 'waving': 937, 'geller': 938, 'told': 939, 'salt': 940, 'party': 941, 'f': 942, 'test': 943, 'driving': 944, 'united': 945, 'comes': 946, 'de': 947, 'awesome': 948, 'amazon': 949, 'colorado': 950, 'glass': 951, 'friends': 952, 'africa': 953, 'sad': 954, 'comment': 955, 'crazy': 956, 'lies': 957, 'metal': 958, 'gold': 959, 'album': 960, 'cat': 961, 'silver': 962, 'working': 963, 'ave': 964, 'open': 965, 'lake': 966, 'strong': 967, 'investigating': 968, 'crematoria': 969, 'causes': 970, 'washington': 971, 'nigga': 972, 'morning': 973, 'map': 974, 'front': 975, 'handbag': 976, 'faux': 977, 'h': 978, 'career': 979, 'happen': 980, 'san': 981, 'disney': 982, 'join': 983, 'series': 984, 'safety': 985, 'cold': 986, 'militants': 987, 'lady': 988, 'claims': 989, 'jobs': 990, 'islamic': 991, 'taiwan': 992, 'experts': 993, 'em': 994, 'paul': 995, 'western': 996, 'ap': 997, 'oklahoma': 998, 'effects': 999, 'hi': 1000, 'girls': 1001, 'soul': 1002, 'reported': 1003, 'dance': 1004, 'recount': 1005, 'sign': 1006, 'nigerian': 1007, 'parole': 1008, 'following': 1009, 'saying': 1010, 'give': 1011, 'travel': 1012, 'wtf': 1013, 'com': 1014, 'apollo': 1015, 'marians': 1016, 'tension': 1017, 'pdp': 1018, 'along': 1019, 'shape': 1020, 'tried': 1021, 'company': 1022, 'internet': 1023, 'pass': 1024, 'pilot': 1025, 'lead': 1026, 'season': 1027, 'ice': 1028, 'driver': 1029, 'deep': 1030, 'strike': 1031, 'weekend': 1032, 'enugu': 1033, 'international': 1034, 'bleed': 1035, 'president': 1036, 'cdt': 1037, 'wish': 1038, 'nyc': 1039, 'ancient': 1040, 'bombs': 1041, 'wrought': 1042, 'arianagrande': 1043, 'hair': 1044, 'worry': 1045, 'cant': 1046, 'super': 1047, 'kit': 1048, 'bay': 1049, 'gas': 1050, 'incident': 1051, 'specially': 1052, 'stadium': 1053, 'provoke': 1054, 'answer': 1055, 'date': 1056, 'dad': 1057, 'financial': 1058, 'falling': 1059, 'winds': 1060, 'helping': 1061, 'shift': 1062, 'mean': 1063, 'business': 1064, 'ashes': 1065, 'cree': 1066, 'lamp': 1067, 'aba': 1068, 'delivers': 1069, 'months': 1070, 'biggest': 1071, 'board': 1072, 'loving': 1073, 'twelve': 1074, 'disast': 1075, 'niggas': 1076, 'giving': 1077, 'fully': 1078, 'petition': 1079, 'else': 1080, 'sun': 1081, 'british': 1082, 'chief': 1083, 'ready': 1084, 'hero': 1085, 'senso': 1086, 'central': 1087, 'wednesday': 1088, 'global': 1089, 'true': 1090, 'guess': 1091, 'absolutely': 1092, 'usgs': 1093, 'thinking': 1094, 'total': 1095, 'turkish': 1096, 'ebola': 1097, 'plunging': 1098, 'dark': 1099, 'cameroon': 1100, 'radiation': 1101, 'round': 1102, 'trump': 1103, 'ppl': 1104, 'queen': 1105, 'animal': 1106, 'fighting': 1107, 'electrocut': 1108, 'less': 1109, 'rock': 1110, 'kinda': 1111, 'ft': 1112, 'lik': 1113, 'wonder': 1114, 'started': 1115, 'sh': 1116, 'sense': 1117, 'evening': 1118, 'calls': 1119, 'mode': 1120, 'general': 1121, 'event': 1122, 'occurred': 1123, 'issue': 1124, 'region': 1125, 'rocky': 1126, 'door': 1127, 'text': 1128, 'changes': 1129, 'insurer': 1130, 'according': 1131, 'expected': 1132, 'smaug': 1133, 'currently': 1134, 'main': 1135, 'based': 1136, 'worth': 1137, 'piece': 1138, 'sent': 1139, 'account': 1140, 'owner': 1141, 'office': 1142, 'etc': 1143, 'nc': 1144, 'causing': 1145, 'usatoday': 1146, 'rather': 1147, 'force': 1148, 'members': 1149, 'modified': 1150, 'training': 1151, 'purse': 1152, 'dan': 1153, 'buses': 1154, 'double': 1155, 'stuff': 1156, 'blocked': 1157, 'friday': 1158, 'related': 1159, 'dude': 1160, 'udhampur': 1161, 'suspected': 1162, 'med': 1163, 'navy': 1164, 'five': 1165, 'passengers': 1166, 'bit': 1167, 'problem': 1168, 'hwy': 1169, 'ground': 1170, 'exchanging': 1171, 'edm': 1172, 'el': 1173, 'hawaii': 1174, 'ep': 1175, 'ben': 1176, 'theater': 1177, 'orders': 1178, 'means': 1179, 'ks': 1180, 'sit': 1181, 'killer': 1182, 'emmerdale': 1183, 'gone': 1184, 'chang': 1185, 'parents': 1186, 'played': 1187, 'governor': 1188, 'search': 1189, 'begin': 1190, 'teen': 1191, 'share': 1192, 'lucky': 1193, 'prepare': 1194, 'setting': 1195, 'tent': 1196, 'worlds': 1197, 'seems': 1198, 'pil': 1199, 'mine': 1200, 'sismo': 1201, 'games': 1202, 'smh': 1203, 'industry': 1204, 'on': 1205, 'mary': 1206, 'among': 1207, 'court': 1208, 'king': 1209, 'tho': 1210, 'matter': 1211, 'short': 1212, 'reading': 1213, 'forget': 1214, 'ask': 1215, 'millions': 1216, 'ross': 1217, 'destroys': 1218, 'worldnews': 1219, 'wedding': 1220, 'bin': 1221, 'ar': 1222, 'remove': 1223, 'browser': 1224, 'z': 1225, 'seeks': 1226, 'municipal': 1227, 'mind': 1228, 'worse': 1229, 'social': 1230, 'gov': 1231, 'rule': 1232, 'struggles': 1233, 'birthday': 1234, 'ahead': 1235, 'stream': 1236, 'brought': 1237, 'funny': 1238, 'gay': 1239, 'exit': 1240, 'georgia': 1241, 'killing': 1242, 'moving': 1243, 'internally': 1244, 'local': 1245, 'gotta': 1246, 'broken': 1247, 'hobo': 1248, 'feels': 1249, 'mr': 1250, 'philippines': 1251, 'thunderstorms': 1252, 'trent': 1253, 'drink': 1254, 'offroad': 1255, 'metro': 1256, 'rate': 1257, 'politics': 1258, 'kid': 1259, 'vote': 1260, 'drunk': 1261, 'nah': 1262, 'ww': 1263, 'million': 1264, 'potential': 1265, 'linked': 1266, 'syrian': 1267, 'late': 1268, 'lets': 1269, 'gunman': 1270, 'glad': 1271, 'wants': 1272, 'wont': 1273, 'living': 1274, 'ones': 1275, 'gm': 1276, 'roosevelt': 1277, 'hold': 1278, 'return': 1279, 'stories': 1280, 'articles': 1281, 'result': 1282, 'students': 1283, 'sports': 1284, 'single': 1285, 'blaz': 1286, 'david': 1287, 'match': 1288, 'lots': 1289, 'hearing': 1290, 'beat': 1291, 'iraq': 1292, 'keeps': 1293, 'alabama': 1294, 'brother': 1295, 'scene': 1296, 'repatriated': 1297, 'able': 1298, 'trees': 1299, 'union': 1300, 'using': 1301, 'denver': 1302, 'straight': 1303, 'wars': 1304, 'later': 1305, 'runs': 1306, 'hospital': 1307, 'agree': 1308, 'preparedness': 1309, 'dogs': 1310, 'asked': 1311, 'cruz': 1312, 'jeb': 1313, 'record': 1314, 'ridge': 1315, 'colour': 1316, 'enjoy': 1317, 'desires': 1318, 'airlines': 1319, 'economic': 1320, 'loose': 1321, 'emotional': 1322, 'roads': 1323, 'sunday': 1324, 'thx': 1325, 'pressure': 1326, 'rip': 1327, 'zon': 1328, 'either': 1329, 'involving': 1330, 'ships': 1331, 'soldiers': 1332, 'screen': 1333, 'laden': 1334, 'grows': 1335, 'kindle': 1336, 'tech': 1337, 'signed': 1338, 'grill': 1339, 'phoenix': 1340, 'yyc': 1341, 'sleeping': 1342, 'terrorists': 1343, 'heavenly': 1344, 'mediterranean': 1345, 'cranes': 1346, 'fears': 1347, 'justinbieber': 1348, 'nice': 1349, 'son': 1350, 'tram': 1351, 'af': 1352, 'tribal': 1353, 'feet': 1354, 'month': 1355, 'beyonce': 1356, 'confirms': 1357, 'abandoned': 1358, 'number': 1359, 'cases': 1360, 'parenthood': 1361, 'beyond': 1362, 'genocide': 1363, 'shop': 1364, 'fine': 1365, 'none': 1366, 'wall': 1367, 'burns': 1368, 'kick': 1369, 'shall': 1370, 'word': 1371, 'cop': 1372, 'dying': 1373, 'serious': 1374, 'tips': 1375, 'bombings': 1376, 'continue': 1377, 'dc': 1378, 'forever': 1379, 'loved': 1380, 'earlier': 1381, 'handbags': 1382, 'close': 1383, 'wildfires': 1384, 'calm': 1385, 'attacks': 1386, 'meeting': 1387, 'blog': 1388, 'avoid': 1389, 'situation': 1390, 'wwii': 1391, 'snow': 1392, 'except': 1393, 'deadly': 1394, 'wife': 1395, 'version': 1396, 'pathogens': 1397, 'falls': 1398, 'faan': 1399, 'cable': 1400, 'question': 1401, 'ah': 1402, 'crime': 1403, 'yo': 1404, 'sir': 1405, 'firefighter': 1406, 'began': 1407, 'interesting': 1408, 'foxnews': 1409, 'captures': 1410, 'indian': 1411, 'proof': 1412, 'steve': 1413, 'app': 1414, 'stupid': 1415, 'collaps': 1416, 'reasons': 1417, 'walking': 1418, 'feat': 1419, 'joe': 1420, 'track': 1421, 'seattle': 1422, 'supposed': 1423, 'tonto': 1424, 'palestinian': 1425, 'mix': 1426, 'meat': 1427, 'arrived': 1428, 'allows': 1429, 'pool': 1430, 'hostag': 1431, 'population': 1432, 'prevent': 1433, 'box': 1434, 'victims': 1435, 'coffee': 1436, 'damaged': 1437, 'community': 1438, 'direction': 1439, 'false': 1440, 'bringing': 1441, 'wound': 1442, 'pop': 1443, 'tablet': 1444, 'guide': 1445, 'leading': 1446, 'list': 1447, 'tcot': 1448, 'block': 1449, 'louis': 1450, 'lose': 1451, 'budget': 1452, 'highway': 1453, 'lane': 1454, 'cheese': 1455, 'states': 1456, 'cost': 1457, 'grow': 1458, 'common': 1459, 'dangerous': 1460, 'eat': 1461, 'pics': 1462, 'rains': 1463, 'alive': 1464, 'relatives': 1465, 'fleets': 1466, 'totaling': 1467, 'conference': 1468, 'bank': 1469, 'bodi': 1470, 'sometimes': 1471, 'disco': 1472, 'avoiding': 1473, 'technology': 1474, 'ray': 1475, 'usually': 1476, 'shadow': 1477, 'aka': 1478, 'meet': 1479, 'allah': 1480, 'bought': 1481, 'asking': 1482, 'linkury': 1483, 'combo': 1484, 'abstorm': 1485, 'church': 1486, 'tears': 1487, 'massive': 1488, 'hobbit': 1489, 'units': 1490, 'civilians': 1491, 'rocks': 1492, 'apocalyps': 1493, 'civilian': 1494, 'fact': 1495, 'awful': 1496, 'together': 1497, 'mo': 1498, 'floor': 1499, 'message': 1500, 'books': 1501, 'plus': 1502, 'beyhive': 1503, 'cook': 1504, 'inner': 1505, 'md': 1506, 'picture': 1507, 'epic': 1508, 'se': 1509, 'rn': 1510, 'tired': 1511, 'canyon': 1512, 'ten': 1513, 'writing': 1514, 'updated': 1515, 'spring': 1516, 'ii': 1517, 'quran': 1518, 'va': 1519, 'freak': 1520, 'saving': 1521, 'collid': 1522, 'fantasy': 1523, 'football': 1524, 'threatening': 1525, 'sister': 1526, 'swallows': 1527, 'leaving': 1528, 'traumatis': 1529, 'stealing': 1530, 'relief': 1531, 'accidents': 1532, 'create': 1533, 'seek': 1534, 'experience': 1535, 'justice': 1536, 'threat': 1537, 'bro': 1538, 'antioch': 1539, 'capsizes': 1540, 'user': 1541, 'j': 1542, 'bitch': 1543, 'automatic': 1544, 'compliant': 1545, 'actions': 1546, 'calling': 1547, 'ny': 1548, 'earthquak': 1549, 'character': 1550, 'upset': 1551, 'companies': 1552, 'shares': 1553, 'cinema': 1554, 'hello': 1555, 'special': 1556, 'slightly': 1557, 'michael': 1558, 'boys': 1559, 'mumbai': 1560, 'conditions': 1561, 'ceo': 1562, 'cannot': 1563, 'spaceship': 1564, 'england': 1565, 'express': 1566, 'concerned': 1567, 'feminists': 1568, 'respond': 1569, 'ban': 1570, 'followers': 1571, 'ian': 1572, 'qewcmxd': 1573, 'updates': 1574, 'extremely': 1575, 'spos': 1576, 'nature': 1577, 'greatest': 1578, 'legacy': 1579, 'mile': 1580, 'practice': 1581, 'created': 1582, 'apply': 1583, 'stage': 1584, 'equipment': 1585, 'seat': 1586, 'dubstep': 1587, 'dnb': 1588, 'squad': 1589, 'hiring': 1590, 'ways': 1591, 'program': 1592, 'anti': 1593, 'lovely': 1594, 'mediterran': 1595, 'wa': 1596, 'yesterday': 1597, 'shut': 1598, 'economy': 1599, 'maintenance': 1600, 'extreme': 1601, 'episode': 1602, 'italian': 1603, 'listening': 1604, 'john': 1605, 'wd': 1606, 'costs': 1607, 'christmas': 1608, 'brain': 1609, 'stopped': 1610, 'magic': 1611, 'emmerdal': 1612, 'watched': 1613, 'concert': 1614, 'forecast': 1615, 'da': 1616, 'rail': 1617, 'congress': 1618, 'mt': 1619, 'workers': 1620, 'township': 1621, 'jst': 1622, 'response': 1623, 'irandeal': 1624, 'sidelines': 1625, 'six': 1626, 'target': 1627, 'sw': 1628, 'quest': 1629, 'republicans': 1630, 'spent': 1631, 'annual': 1632, 'allow': 1633, 'reduce': 1634, 'held': 1635, 'nine': 1636, 'exchange': 1637, 'moved': 1638, 'seriously': 1639, 'careful': 1640, 'fruit': 1641, 'weird': 1642, 'hunt': 1643, 'cream': 1644, 'pre': 1645, 'troops': 1646, 'angel': 1647, 'foot': 1648, 'mini': 1649, 'mid': 1650, 'videos': 1651, 'starts': 1652, 'veterans': 1653, 'evacu': 1654, 'huh': 1655, 'illegal': 1656, 'afghanistan': 1657, 'microlight': 1658, 'dorret': 1659, 'theres': 1660, 'acres': 1661, 'indeed': 1662, 'ps': 1663, 'limited': 1664, 'recovery': 1665, 'foxtrot': 1666, 'portland': 1667, 'german': 1668, 'theatre': 1669, 'pleas': 1670, 'catastroph': 1671, 'hop': 1672, 'gaza': 1673, 'stone': 1674, 'powerful': 1675, 'lack': 1676, 'australian': 1677, 'named': 1678, 'powerlines': 1679, 'focus': 1680, 'rubber': 1681, 'drill': 1682, 'warnings': 1683, 'knew': 1684, 'loop': 1685, 'spr': 1686, 'miles': 1687, 'strategy': 1688, 'gta': 1689, 'florida': 1690, 'rising': 1691, 'parley': 1692, 'authorities': 1693, 'unit': 1694, 'lights': 1695, 'epicentre': 1696, 'senior': 1697, 'plains': 1698, 'sparked': 1699, 'areas': 1700, 'leads': 1701, 'estimate': 1702, 'associated': 1703, 'terrible': 1704, 'within': 1705, 'ev': 1706, 'jam': 1707, 'remains': 1708, 'vehicles': 1709, 'max': 1710, 'hands': 1711, 'lif': 1712, 'ha': 1713, 'seconds': 1714, 'injuri': 1715, 'storms': 1716, 'okwx': 1717, 'lil': 1718, 'orange': 1719, 'headed': 1720, 'manchester': 1721, 'heroes': 1722, 'ideas': 1723, 'fuel': 1724, 'baseball': 1725, 'lov': 1726, 'tr': 1727, 'bruh': 1728, 'debate': 1729, 'shipping': 1730, 'kidnapped': 1731, 'stars': 1732, 'moon': 1733, 'deals': 1734, 'exactly': 1735, 'murderous': 1736, 'fox': 1737, 'pussy': 1738, 'choice': 1739, 'criminals': 1740, 'nowplay': 1741, 'woke': 1742, 'unless': 1743, 'poll': 1744, 'ferguson': 1745, 'missed': 1746, 'feed': 1747, 'entertainment': 1748, 'battlefield': 1749, 'pack': 1750, 'executives': 1751, 'prosecuted': 1752, 'energy': 1753, 'cleared': 1754, 'averted': 1755, 'window': 1756, 'alaska': 1757, 'mudslid': 1758, 'broke': 1759, 'opens': 1760, 'releases': 1761, 'mtvhottest': 1762, 'sadly': 1763, 'windows': 1764, 'starting': 1765, 'planet': 1766, 'enemy': 1767, 'destiny': 1768, 'civil': 1769, 'review': 1770, 'wired': 1771, 'rohingya': 1772, 'prison': 1773, 'founder': 1774, 'sicily': 1775, 'loss': 1776, 'scary': 1777, 'crap': 1778, 'carrying': 1779, 'flam': 1780, 'murdered': 1781, 'mac': 1782, 'pak': 1783, 'complete': 1784, 'blvd': 1785, 'bet': 1786, 'damag': 1787, 'female': 1788, 'ya': 1789, 'learning': 1790, 'field': 1791, 'bathroom': 1792, 'sees': 1793, 'fish': 1794, 'plague': 1795, 'onto': 1796, 'knows': 1797, 'jack': 1798, 'girlfriend': 1799, 'invoices': 1800, 'prime': 1801, 'sat': 1802, 'jackson': 1803, 'original': 1804, 'shelter': 1805, 'claim': 1806, 'ir': 1807, 'icemoon': 1808, 'djicemoon': 1809, 'trapmusic': 1810, 'ices': 1811, 'talking': 1812, 'guns': 1813, 'cops': 1814, 'percent': 1815, 'bottom': 1816, 'anchorage': 1817, 'rea': 1818, 'voice': 1819, 'future': 1820, 'everyday': 1821, 'operation': 1822, 'syria': 1823, 'visit': 1824, 'nursing': 1825, 'alert': 1826, 'mma': 1827, 'trfc': 1828, 'q': 1829, 'newyork': 1830, 'imagine': 1831, 'machine': 1832, 'fyi': 1833, 'ended': 1834, 'cover': 1835, 'science': 1836, 'photography': 1837, 'ex': 1838, 'notices': 1839, 'grief': 1840, 'perfect': 1841, 'style': 1842, 'triple': 1843, 'parker': 1844, 'happens': 1845, 'aid': 1846, 'understand': 1847, 'plug': 1848, 'sale': 1849, 'collection': 1850, 'calif': 1851, 'honestly': 1852, 'directioners': 1853, 'fell': 1854, 'quot': 1855, 'fr': 1856, 'trip': 1857, 'dozens': 1858, 'tax': 1859, 'hill': 1860, 'root': 1861, 'opening': 1862, 'easy': 1863, 'release': 1864, 'happening': 1865, 'patient': 1866, 'arabia': 1867, 'waiting': 1868, 'law': 1869, 'crying': 1870, 'ultimate': 1871, 'sport': 1872, 'shame': 1873, 'guardian': 1874, 'respect': 1875, 'knee': 1876, 'newest': 1877, 'evil': 1878, 'final': 1879, 'broad': 1880, 'continues': 1881, 'edt': 1882, 'impact': 1883, 'completely': 1884, 'french': 1885, 'ted': 1886, 'pls': 1887, 'cyclist': 1888, 'fix': 1889, 'casualti': 1890, 'aim': 1891, 'remain': 1892, 'wed': 1893, 'afternoon': 1894, 'bitches': 1895, 'soundcloud': 1896, 'political': 1897, 'touch': 1898, 'mido': 1899, 'considering': 1900, 'surrounded': 1901, 'error': 1902, 'grace': 1903, 'laugh': 1904, 'alleged': 1905, 'shepherd': 1906, 'arsenal': 1907, 'salem': 1908, 'afghan': 1909, 'vietnam': 1910, 'weak': 1911, 'lmfao': 1912, 'dropped': 1913, 'movies': 1914, 'mother': 1915, 'spirit': 1916, 'sweet': 1917, 'afraid': 1918, 'subject': 1919, 'nobody': 1920, 'built': 1921, 'hurts': 1922, 'throw': 1923, 'yobe': 1924, 'mi': 1925, 'mansehra': 1926, 'ugh': 1927, 'page': 1928, 'daughter': 1929, 'personal': 1930, 'education': 1931, 'cos': 1932, 'exp': 1933, 'coastal': 1934, 'animalrescue': 1935, 'trailer': 1936, 'safe': 1937, 'jewish': 1938, 'confirm': 1939, 'clinton': 1940, 'hip': 1941, 'twist': 1942, 'faced': 1943, 'protest': 1944, 'rally': 1945, 'smoking': 1946, 'buffalo': 1947, 'desol': 1948, 'drug': 1949, 'fallen': 1950, 'minister': 1951, 'status': 1952, 'runway': 1953, 'madinah': 1954, 'prophetmuhammad': 1955, 'price': 1956, 'pull': 1957, 'inundation': 1958, 'ne': 1959, 'solar': 1960, 'july': 1961, 'admits': 1962, 'scheme': 1963, 'lgbt': 1964, 'bells': 1965, 'toll': 1966, 'funds': 1967, 'captain': 1968, 'todd': 1969, 'parts': 1970, 'author': 1971, 'babies': 1972, 'matt': 1973, 'several': 1974, 'dare': 1975, 'recommend': 1976, 'campus': 1977, 'advisory': 1978, 'quickly': 1979, 'lifted': 1980, 'tryna': 1981, 'experiments': 1982, 'vvplfqvp': 1983, 'sinjar': 1984, 'questions': 1985, 'pipeline': 1986, 'interest': 1987, 'bargain': 1988, 'hunters': 1989, 'accidentally': 1990, 'mention': 1991, 'button': 1992, 'blk': 1993, 'fog': 1994, 'consider': 1995, 'abcnews': 1996, 'diet': 1997, 'youngheroesid': 1998, 'pantherattack': 1999, 'toward': 2000, 'approaches': 2001, 'fail': 2002, 'wash': 2003, 'route': 2004, 'boston': 2005, 'repair': 2006, 'disrupts': 2007, 'trolley': 2008, 'starring': 2009, 'anymore': 2010, 'cramer': 2011, 'robot': 2012, 'bike': 2013, 'rider': 2014, 'inch': 2015, 'wmata': 2016, 'jesus': 2017, 'ms': 2018, 'cuz': 2019, 'twia': 2020, 'delay': 2021, 'satchel': 2022, 'holy': 2023, 'en': 2024, 'tom': 2025, 'quick': 2026, 'somebody': 2027, 'facebook': 2028, 'picked': 2029, 'failed': 2030, 'audio': 2031, 'id': 2032, 'americans': 2033, 'thats': 2034, 'wearing': 2035, 'add': 2036, 'survival': 2037, 'migrant': 2038, 'design': 2039, 'turns': 2040, 'damages': 2041, 'jan': 2042, 'mark': 2043, 'jet': 2044, 'triggered': 2045, 'falcon': 2046, 'brakes': 2047, 'threatens': 2048, 'path': 2049, 'southern': 2050, 'riots': 2051, 'twin': 2052, 'sink': 2053, 'attention': 2054, 'philly': 2055, 'floyd': 2056, 'tracks': 2057, 'animals': 2058, 'sunset': 2059, 'un': 2060, 'whether': 2061, 'putin': 2062, 'ag': 2063, 'evidence': 2064, 'officers': 2065, 'idk': 2066, 'covered': 2067, 'predict': 2068, 'realise': 2069, 'upper': 2070, 'blocking': 2071, 'ksawlyux': 2072, 'bestnaijamad': 2073, 'gang': 2074, 'muslim': 2075, 'strikes': 2076, 'lorries': 2077, 'michigan': 2078, 'cousin': 2079, 'burst': 2080, 'gam': 2081, 'society': 2082, 'nashville': 2083, 'hatchet': 2084, 'plate': 2085, 'dragon': 2086, 'warn': 2087, 'tempered': 2088, 'protector': 2089, 'blackberry': 2090, 'sittwe': 2091, 'msf': 2092, 'huffman': 2093, 'unveiled': 2094, 'joy': 2095, 'italy': 2096, 'iphone': 2097, 'users': 2098, 'unlocked': 2099, 'advance': 2100, 'progress': 2101, 'esh': 2102, 'kept': 2103, 'malaysian': 2104, 'commercial': 2105, 'incredible': 2106, 'walmart': 2107, 'lie': 2108, 'teams': 2109, 'stops': 2110, 'ig': 2111, 'elephant': 2112, 'remembering': 2113, 'singing': 2114, 'surviv': 2115, 'connector': 2116, 'palms': 2117, 'eruption': 2118, 'hes': 2119, 'fake': 2120, 'yrs': 2121, 'xd': 2122, 'tells': 2123, 'motorcycle': 2124, 'size': 2125, 'wins': 2126, 'lion': 2127, 'housing': 2128, 'homeless': 2129, 'heights': 2130, 'welcome': 2131, 'revealed': 2132, 'freakiest': 2133, 'forced': 2134, 'hopefully': 2135, 'everywhere': 2136, 'register': 2137, 'senator': 2138, 'exploration': 2139, 'towel': 2140, 'rome': 2141, 'vulnerable': 2142, 'begins': 2143, 'tube': 2144, 'factory': 2145, 'toilet': 2146, 'brazil': 2147, 'bat': 2148, 'copycat': 2149, 'rest': 2150, 'intern': 2151, 'prophet': 2152, 'char': 2153, 'club': 2154, 'hearts': 2155, 'activity': 2156, 'blamed': 2157, 'rear': 2158, 'exist': 2159, 'murd': 2160, 'survivor': 2161, 'mikeparractor': 2162, 'flat': 2163, 'crossed': 2164, 'flying': 2165, 'bath': 2166, 'worked': 2167, 'inj': 2168, 'min': 2169, 'stephen': 2170, 'org': 2171, 'mess': 2172, 'title': 2173, 'address': 2174, 'minecraft': 2175, 'victory': 2176, 'chelsea': 2177, 'served': 2178, 'article': 2179, 'rolling': 2180, 'winter': 2181, 'mourning': 2182, 'stabbing': 2183, 'stir': 2184, 'duty': 2185, 'bout': 2186, 'mining': 2187, 'apparently': 2188, 'cancer': 2189, 'ch': 2190, 'maryland': 2191, 'mansion': 2192, 'bear': 2193, 'events': 2194, 'active': 2195, 'fund': 2196, 'laws': 2197, 'tornadoes': 2198, 'google': 2199, 'motorcyclist': 2200, 'bicyclist': 2201, 'pow': 2202, 'dry': 2203, 'scott': 2204, 'seven': 2205, 'mentions': 2206, 'structure': 2207, 'project': 2208, 'management': 2209, 'steel': 2210, 'rare': 2211, 'cdc': 2212, 'steps': 2213, 'especially': 2214, 'hughes': 2215, 'hurt': 2216, 'fwy': 2217, 'mhtwfnet': 2218, 'swimming': 2219, 'diving': 2220, 'library': 2221, 'radar': 2222, 'bjp': 2223, 'prices': 2224, 'posts': 2225, 'beginning': 2226, 'include': 2227, 'lowndes': 2228, 'subs': 2229, 'officially': 2230, 'stuart': 2231, 'correction': 2232, 'clearly': 2233, 'tubestrike': 2234, 'boss': 2235, 'ill': 2236, 'port': 2237, 'details': 2238, 'becomes': 2239, 'mood': 2240, 'babi': 2241, 'outlook': 2242, 'mayan': 2243, 'dream': 2244, 'points': 2245, 'maximum': 2246, 'surf': 2247, 'lands': 2248, 'images': 2249, 'alps': 2250, 'tropical': 2251, 'examining': 2252, 'levels': 2253, 'crackdown': 2254, 'arrive': 2255, 'code': 2256, 'uses': 2257, 'xbox': 2258, 'pro': 2259, 'ring': 2260, 'choking': 2261, 'recall': 2262, 'peaceful': 2263, 'bowl': 2264, 'emotionally': 2265, 'plant': 2266, 'tuned': 2267, 'sparks': 2268, 'clash': 2269, 'accused': 2270, 'asleep': 2271, 'sanctions': 2272, 'cr': 2273, 'bn': 2274, 'married': 2275, 'cry': 2276, 'fifth': 2277, 'universe': 2278, 'aussie': 2279, 'thriller': 2280, 'sacramento': 2281, 'efforts': 2282, 'crack': 2283, 'tickets': 2284, 'highest': 2285, 'cybksxhfd': 2286, 'monsoon': 2287, 'vine': 2288, 'naved': 2289, 'shoes': 2290, 'hurrican': 2291, 'discovery': 2292, 'mama': 2293, 'amongst': 2294, 'secrets': 2295, 'access': 2296, 'legit': 2297, 'success': 2298, 'structures': 2299, 'adult': 2300, 'conflict': 2301, 'thomas': 2302, 'crashes': 2303, 'written': 2304, 'explos': 2305, 'including': 2306, 'characters': 2307, 'fb': 2308, 'negative': 2309, 'extra': 2310, 'kaduna': 2311, 'primary': 2312, 'ran': 2313, 'spider': 2314, 'bare': 2315, 'thousand': 2316, 'oc': 2317, 'shared': 2318, 'darude': 2319, 'expecting': 2320, 'accuses': 2321, 'historic': 2322, 'clear': 2323, 'surprise': 2324, 'kingdom': 2325, 'van': 2326, 'pin': 2327, 'manager': 2328, 'carryi': 2329, 'simulate': 2330, 'nu': 2331, 'student': 2332, 'looting': 2333, 'reach': 2334, 'loves': 2335, 'blasts': 2336, 'counter': 2337, 'drinking': 2338, 'apple': 2339, 'father': 2340, 'al': 2341, 'prabhu': 2342, 'calamity': 2343, 'slow': 2344, 'legal': 2345, 'pc': 2346, 'george': 2347, 'lonewolffur': 2348, 'tea': 2349, 'serial': 2350, 'nnmqlzo': 2351, 'ofcyyr': 2352, 'needed': 2353, 'load': 2354, 'interview': 2355, 'lower': 2356, 'leg': 2357, 'karymsky': 2358, 'crater': 2359, 'strategicpatience': 2360, 'idp': 2361, 'rqwuoyfm': 2362, 'streets': 2363, 'rose': 2364, 'hir': 2365, 'decisions': 2366, 'produced': 2367, 'blake': 2368, 'lethal': 2369, 'shar': 2370, 'festival': 2371, 'somehow': 2372, 'utterly': 2373, 'apartment': 2374, 'yazidis': 2375, 'responds': 2376, 'forward': 2377, 'leaders': 2378, 'cal': 2379, 'mill': 2380, 'warned': 2381, 'rockyfire': 2382, 'normal': 2383, 'weed': 2384, 'zujwuiomb': 2385, 'mental': 2386, 'satellite': 2387, 'gusty': 2388, 'willing': 2389, 'sr': 2390, 'democracy': 2391, 'fired': 2392, 'wisenews': 2393, 'replacing': 2394, 'chest': 2395, 'cbc': 2396, 'reward': 2397, 'sa': 2398, 'waimate': 2399, 'cigarette': 2400, 'iger': 2401, 'accid': 2402, 'curved': 2403, 'hotel': 2404, 'pond': 2405, 'owners': 2406, 'degree': 2407, 'nfl': 2408, 'passenger': 2409, 'tag': 2410, 'omfg': 2411, 'cleanup': 2412, 'morgan': 2413, 'dollar': 2414, 'nb': 2415, 'nema': 2416, 'memory': 2417, 'replace': 2418, 'loan': 2419, 'given': 2420, 'print': 2421, 'league': 2422, 'kurtschlichter': 2423, 'hundred': 2424, 'ink': 2425, 'pulls': 2426, 'earrings': 2427, 'bug': 2428, 'enjoying': 2429, 'shirt': 2430, 'cotton': 2431, 'doubt': 2432, 'yea': 2433, 'recently': 2434, 'piling': 2435, 'dreams': 2436, 'starter': 2437, 'torch': 2438, 'electronic': 2439, 'resistant': 2440, 'couples': 2441, 'abandon': 2442, 'suffer': 2443, 'suv': 2444, 'rep': 2445, 'step': 2446, 'gotten': 2447, 'footage': 2448, 'los': 2449, 'unlocking': 2450, 'egypt': 2451, 'predicted': 2452, 'toronto': 2453, 'asian': 2454, 'sprinter': 2455, 'frontline': 2456, 'lez': 2457, 'external': 2458, 'karachi': 2459, 'blow': 2460, 'mail': 2461, 'color': 2462, 'po': 2463, 'unsafe': 2464, 'reno': 2465, 'larger': 2466, 'players': 2467, 'ems': 2468, 'eden': 2469, 'mlb': 2470, 'reap': 2471, 'anybody': 2472, 'vegas': 2473, 'cities': 2474, 'elevated': 2475, 'photoshop': 2476, 'tweets': 2477, 'delug': 2478, 'birds': 2479, 'lungs': 2480, 'markets': 2481, 'truly': 2482, 'current': 2483, 'checked': 2484, 'fort': 2485, 'bound': 2486, 'table': 2487, 'met': 2488, 'benefits': 2489, 'hoax': 2490, 'device': 2491, 'edition': 2492, 'mission': 2493, 'hills': 2494, 'smash': 2495, 'ear': 2496, 'certain': 2497, 'treat': 2498, 'previously': 2499, 'estimated': 2500, 'irish': 2501, 'raynbowaffair': 2502, 'editor': 2503, 'diamondkesawn': 2504, 'ramag': 2505, 'models': 2506, 'uganda': 2507, 'known': 2508, 'poverty': 2509, 'reveals': 2510, 'microsoft': 2511, 'demand': 2512, 'revolution': 2513, 'fits': 2514, 'pov': 2515, 'charge': 2516, 'matako': 2517, 'computer': 2518, 'statement': 2519, 'refuge': 2520, 'specif': 2521, 'smithsonian': 2522, 'elem': 2523, 'interested': 2524, 'battl': 2525, 'majority': 2526, 'system': 2527, 'oth': 2528, 'dublin': 2529, 'fate': 2530, 'luck': 2531, 'sp': 2532, 'movement': 2533, 'swim': 2534, 'insane': 2535, 'realized': 2536, 'panick': 2537, 'warfighting': 2538, 'robots': 2539, 'lying': 2540, 'towards': 2541, 'blowing': 2542, 'cute': 2543, 'eating': 2544, 'offer': 2545, 'smile': 2546, 'discovered': 2547, 'itunes': 2548, 'rocket': 2549, 'defense': 2550, 'cats': 2551, 'click': 2552, 'boxer': 2553, 'asap': 2554, 'age': 2555, 'troubl': 2556, 'minutes': 2557, 'relax': 2558, 'average': 2559, 'eb': 2560, 'lanes': 2561, 'ukraine': 2562, 'vets': 2563, 'blows': 2564, 'heaven': 2565, 'er': 2566, 'planning': 2567, 'anyway': 2568, 'beam': 2569, 'sarah': 2570, 'targeting': 2571, 'minority': 2572, 'cleveland': 2573, 'vacant': 2574, 'sleep': 2575, 'rights': 2576, 'fly': 2577, 'feeding': 2578, 'pun': 2579, 'english': 2580, 'kurdish': 2581, 'militant': 2582, 'invalid': 2583, 'rexyy': 2584, 'porn': 2585, 'wondering': 2586, 'pulled': 2587, 'd': 2588, 'forgotten': 2589, 'maria': 2590, 'snap': 2591, 'streak': 2592, 'europe': 2593, 'telling': 2594, 'olympic': 2595, 'ireland': 2596, 'follows': 2597, 'gift': 2598, 'iranian': 2599, 'horses': 2600, 'dvd': 2601, 'cia': 2602, 'crowd': 2603, 'documents': 2604, 'mexico': 2605, 'letting': 2606, 'uribe': 2607, 'usagov': 2608, 'auth': 2609, 'brutally': 2610, 'abused': 2611, 'mum': 2612, 'desire': 2613, 'responsibility': 2614, 'fingers': 2615, 'psychiatric': 2616, 'providence': 2617, 'appreciate': 2618, 'nasty': 2619, 'jap': 2620, 'eu': 2621, 'doctor': 2622, 'electrical': 2623, 'resulted': 2624, 'worstsummerjob': 2625, 'laughing': 2626, 'didnt': 2627, 'skin': 2628, 'nic': 2629, 'ride': 2630, 'simple': 2631, 'study': 2632, 'sets': 2633, 'results': 2634, 'ends': 2635, 'servers': 2636, 'cricket': 2637, 'effort': 2638, 'mets': 2639, 'wet': 2640, 'stuck': 2641, 'stranded': 2642, 'zionist': 2643, 'palestinians': 2644, 'overnight': 2645, 'tour': 2646, 'clev': 2647, 'feminist': 2648, 'eq': 2649, 'mountains': 2650, 'member': 2651, 'warns': 2652, 'trap': 2653, 'sexual': 2654, 'chinese': 2655, 'score': 2656, 'profile': 2657, 'arms': 2658, 'abuse': 2659, 'gon': 2660, 'usual': 2661, 'tank': 2662, 'method': 2663, 'alberta': 2664, 'involved': 2665, 'rapidly': 2666, 'continued': 2667, 'mike': 2668, 'plaguing': 2669, 'qeblokeve': 2670, 'encmhzy': 2671, 'wicked': 2672, 'oops': 2673, 'mus': 2674, 'activates': 2675, 'links': 2676, 'cave': 2677, 'farrakhan': 2678, 'paint': 2679, 'shower': 2680, 'became': 2681, 'ptsd': 2682, 'broadway': 2683, 'trial': 2684, 'valley': 2685, 'jacksonville': 2686, 'constantly': 2687, 'bid': 2688, 'pepper': 2689, 'saturday': 2690, 'hitting': 2691, 'emerg': 2692, 'cord': 2693, 'cancel': 2694, 'card': 2695, 'av': 2696, 'prefer': 2697, 'mystery': 2698, 'hits': 2699, 'dang': 2700, 'screenshots': 2701, 'combat': 2702, 'magnum': 2703, 'opus': 2704, 'promise': 2705, 'busi': 2706, 'sub': 2707, 'clean': 2708, 'problems': 2709, 'selfies': 2710, 'hosting': 2711, 'strange': 2712, 'val': 2713, 'third': 2714, 'leader': 2715, 'crew': 2716, 'purple': 2717, 'speed': 2718, 'drop': 2719, 'quality': 2720, 'positive': 2721, 'melt': 2722, 'kicked': 2723, 'reportedly': 2724, 'nw': 2725, 'belt': 2726, 'chocolate': 2727, 'threats': 2728, 'dk': 2729, 'debt': 2730, 'james': 2731, 'warming': 2732, 'cloud': 2733, 'independent': 2734, 'opinion': 2735, 'chill': 2736, 'reminds': 2737, 'wealth': 2738, 'battling': 2739, 'ego': 2740, 'okanagan': 2741, 'shanghai': 2742, 'famous': 2743, 'sandiego': 2744, 'waste': 2745, 'ocean': 2746, 'intensity': 2747, 'golf': 2748, 'generation': 2749, 'finnish': 2750, 'trafford': 2751, 'odeon': 2752, 'ns': 2753, 'specimens': 2754, 'thru': 2755, 'increased': 2756, 'harbor': 2757, 'bob': 2758, 'drove': 2759, 'bb': 2760, 'holiday': 2761, 'vinyl': 2762, 'acts': 2763, 'staff': 2764, 'bal': 2765, 'vuitton': 2766, 'monogram': 2767, 'heads': 2768, 'passed': 2769, 'decided': 2770, 'option': 2771, 'present': 2772, 'scientists': 2773, 'solution': 2774, 'activated': 2775, 'yall': 2776, 'spain': 2777, 'edinburgh': 2778, 'warship': 2779, 'depth': 2780, 'clutch': 2781, 'charging': 2782, 'lunch': 2783, 'amsterdam': 2784, 'actual': 2785, 'marvel': 2786, 'hwo': 2787, 'bounty': 2788, 'struck': 2789, 'wx': 2790, 'memes': 2791, 'chaos': 2792, 'rob': 2793, 'pilots': 2794, 'hilarious': 2795, 'recover': 2796, 'kind': 2797, 'tear': 2798, 'pam': 2799, 'channel': 2800, 'decide': 2801, 'carry': 2802, 'rage': 2803, 'canaanites': 2804, 'pitch': 2805, 'anyth': 2806, 'kenya': 2807, 'returned': 2808, 'chat': 2809, 'cup': 2810, 'fettilootch': 2811, 'slanglucci': 2812, 'oppressions': 2813, 'mollvdyd': 2814, 'hungry': 2815, 'multiplayer': 2816, 'foster': 2817, 'dress': 2818, 'prepared': 2819, 'mitt': 2820, 'taylor': 2821, 'christie': 2822, 'tastes': 2823, 'evacuations': 2824, 'charles': 2825, 'prompts': 2826, 'fav': 2827, 'latestnews': 2828, 'johnson': 2829, 'guillermo': 2830, 'tracking': 2831, 'dental': 2832, 'eventually': 2833, 'cov': 2834, 'gunfire': 2835, 'idc': 2836, 'supports': 2837, 'whales': 2838, 'cont': 2839, 'afterlif': 2840, 'agreed': 2841, 'warships': 2842, 'ending': 2843, 'context': 2844, 'tongue': 2845, 'combined': 2846, 'happi': 2847, 'persons': 2848, 'nm': 2849, 'blessed': 2850, 'ohio': 2851, 'degrees': 2852, 'kuwait': 2853, 'period': 2854, 'concept': 2855, 'samaritans': 2856, 'disappear': 2857, 'distance': 2858, 'encouragement': 2859, 'apocalyptic': 2860, 'losses': 2861, 'luis': 2862, 'captured': 2863, 'cd': 2864, 'veteran': 2865, 'thick': 2866, 'shoulders': 2867, 'camping': 2868, 'derby': 2869, 'attitude': 2870, 'nam': 2871, 'maj': 2872, 'weeks': 2873, 'farm': 2874, 'neil': 2875, 'brings': 2876, 'gateau': 2877, 'calories': 2878, 'parking': 2879, 'charlotte': 2880, 'countries': 2881, 'push': 2882, 'innocent': 2883, 'daughters': 2884, 'bot': 2885, 'stereo': 2886, 'grown': 2887, 'newsintweets': 2888, 'battleship': 2889, 'satan': 2890, 'caitlin': 2891, 'kiernan': 2892, 'centipede': 2893, 'numbered': 2894, 'suffering': 2895, 'fraction': 2896, 'organizations': 2897, 'sources': 2898, 'creativity': 2899, 'brave': 2900, 'oper': 2901, 'taxiways': 2902, 'navbl': 2903, 'wnd': 2904, 'inst': 2905, 'apch': 2906, 'rwy': 2907, 'tmp': 2908, 'miami': 2909, 'atlanta': 2910, 'supervisor': 2911, 'ugly': 2912, 'psychological': 2913, 'guard': 2914, 'works': 2915, 'changed': 2916, 'olive': 2917, 'multiple': 2918, 'workplace': 2919, 'operations': 2920, 'retail': 2921, 'wee': 2922, 'hillary': 2923, 'tune': 2924, 'suppose': 2925, 'labs': 2926, 'jazz': 2927, 'dundee': 2928, 'bullets': 2929, 'store': 2930, 'projects': 2931, 'mitigation': 2932, 'blind': 2933, 'annihil': 2934, 'seemed': 2935, 'dat': 2936, 'tested': 2937, 'modiministry': 2938, 'railway': 2939, 'disasters': 2940, 'outdoor': 2941, 'draco': 2942, 'washed': 2943, 'bee': 2944, 'zombie': 2945, 'abbott': 2946, 'bend': 2947, 'mak': 2948, 'richard': 2949, 'michele': 2950, 'taco': 2951, 'impressed': 2952, 'rating': 2953, 'mortal': 2954, 'kombat': 2955, 'pp': 2956, 'gusts': 2957, 'filled': 2958, 'slower': 2959, 'cow': 2960, 'welfare': 2961, 'np': 2962, 'solve': 2963, 'pedestrian': 2964, 'crazi': 2965, 'birth': 2966, 'september': 2967, 'annoying': 2968, 'harry': 2969, 'julian': 2970, 'attempt': 2971, 'yellow': 2972, 'joel': 2973, 'gel': 2974, 'grey': 2975, 'turbine': 2976, 'bluetooth': 2977, 'wireless': 2978, 'headphones': 2979, 'thoyhrhkfj': 2980, 'wvjabgm': 2981, 'nigeria': 2982, 'tests': 2983, 'tooth': 2984, 'radioactive': 2985, 'soup': 2986, 'recipes': 2987, 'collapses': 2988, 'northeast': 2989, 'brush': 2990, 'sweden': 2991, 'cue': 2992, 'diamond': 2993, 'defend': 2994, 'role': 2995, 'showed': 2996, 'slide': 2997, 'icymi': 2998, 'humans': 2999, 'opposite': 3000, 'laid': 3001, 'portion': 3002, 'stepped': 3003, 'immediately': 3004, 'ey': 3005, 'cnbc': 3006, 'minor': 3007, 'bride': 3008, 'castle': 3009, 'belonged': 3010, 'nuke': 3011, 'horrors': 3012, 'closes': 3013, 'voluntary': 3014, 'cabin': 3015, 'reid': 3016, 'sham': 3017, 'unsuckdcmetro': 3018, 'op': 3019, 'integrity': 3020, 'arrest': 3021, 'empty': 3022, 'timeline': 3023, 'particularly': 3024, 'christ': 3025, 'hahaha': 3026, 'sentinel': 3027, 'dallas': 3028, 'bu': 3029, 'grade': 3030, 'casper': 3031, 'whats': 3032, 'hike': 3033, 'traff': 3034, 'openly': 3035, 'materials': 3036, 'meant': 3037, 'idps': 3038, 'wom': 3039, 'sydney': 3040, 'analysis': 3041, 'refused': 3042, 'warcraft': 3043, 'chain': 3044, 'multi': 3045, 'bff': 3046, 'spil': 3047, 'becoming': 3048, 'purchase': 3049, 'chevy': 3050, 'classic': 3051, 'barn': 3052, 'wratkajl': 3053, 'franklin': 3054, 'anxiety': 3055, 'putting': 3056, 'boot': 3057, 'autumn': 3058, 'wit': 3059, 'hype': 3060, 'flaming': 3061, 'medieval': 3062, 'wire': 3063, 'blanket': 3064, 'skinny': 3065, 'contemplating': 3066, 'wwi': 3067, 'environment': 3068, 'ahh': 3069, 'solitude': 3070, 'frontpage': 3071, 'rickperry': 3072, 'foxnew': 3073, 'lasting': 3074, 'fashionable': 3075, 'mountaineering': 3076, 'leisure': 3077, 'tab': 3078, 'per': 3079, 'previous': 3080, 'dem': 3081, 'pregnant': 3082, 'julie': 3083, 'betrayed': 3084, 'although': 3085, 'sws': 3086, 'fantastic': 3087, 'btw': 3088, 'however': 3089, 'croat': 3090, 'landfall': 3091, 'model': 3092, 'cam': 3093, 'installation': 3094, 'cladding': 3095, 'venezuela': 3096, 'tough': 3097, 'doors': 3098, 'skies': 3099, 'gives': 3100, 'fresh': 3101, 'phones': 3102, 'candy': 3103, 'rush': 3104, 'catches': 3105, 'locker': 3106, 'grab': 3107, 'specific': 3108, 'intact': 3109, 'wrapup': 3110, 'disappoints': 3111, 'newlyweds': 3112, 'nose': 3113, 'dannyonpc': 3114, 'hardline': 3115, 'throwingknif': 3116, 'circle': 3117, 'reality': 3118, 'paramedic': 3119, 'kiss': 3120, 'looked': 3121, 'beforeitsnews': 3122, 'wonderful': 3123, 'roberts': 3124, 'vladimir': 3125, 'pair': 3126, 'tied': 3127, 'race': 3128, 'roll': 3129, 'matters': 3130, 'capture': 3131, 'forces': 3132, 'type': 3133, 'hmm': 3134, 'enjoyed': 3135, 'peac': 3136, 'brothers': 3137, 'armory': 3138, 'sf': 3139, 'announcement': 3140, 'fal': 3141, 'location': 3142, 'border': 3143, 'respons': 3144, 'monster': 3145, 'salvador': 3146, 'capital': 3147, 'cyclists': 3148, 'partner': 3149, 'website': 3150, 'schools': 3151, 'older': 3152, 'concern': 3153, 'queens': 3154, 'sending': 3155, 'jeans': 3156, 'pocket': 3157, 'client': 3158, 'contact': 3159, 'lightening': 3160, 'lone': 3161, 'audience': 3162, 'federal': 3163, 'grabbers': 3164, 'constant': 3165, 'butter': 3166, 'joke': 3167, 'aware': 3168, 'passing': 3169, 'afp': 3170, 'gods': 3171, 'eight': 3172, 'boyfriend': 3173, 'lauren': 3174, 'someth': 3175, 'sing': 3176, 'don': 3177, 'ihhen': 3178, 'sized': 3179, 'vazwoamzk': 3180, 'pacific': 3181, 'freedom': 3182, 'wi': 3183, 'caution': 3184, 'desert': 3185, 'tool': 3186, 'holland': 3187, 'scotland': 3188, 'leav': 3189, 'ontario': 3190, 'nasa': 3191, 'responded': 3192, 'jax': 3193, 'prayers': 3194, 'excellent': 3195, 'onlinecommunities': 3196, 'hamas': 3197, 'egged': 3198, 'forgiven': 3199, 'morn': 3200, 'fixing': 3201, 'promises': 3202, 'communities': 3203, 'jr': 3204, 'sm': 3205, 'lulgzimbestpicts': 3206, 'muscle': 3207, 'applications': 3208, 'unr': 3209, 'wy': 3210, 'yorker': 3211, 'mistake': 3212, 'snapchat': 3213, 'temporary': 3214, 'oral': 3215, 'chris': 3216, 'cooler': 3217, 'ik': 3218, 'attacking': 3219, 'investigation': 3220, 'ears': 3221, 'ashley': 3222, 'asia': 3223, 'museum': 3224, 'til': 3225, 'experienced': 3226, 'background': 3227, 'runner': 3228, 'roanoke': 3229, 'verdict': 3230, 'leo': 3231, 'tbt': 3232, 'seasons': 3233, 'hom': 3234, 'frog': 3235, 'reviews': 3236, 'leaves': 3237, 'romance': 3238, 'tak': 3239, 'definitely': 3240, 'lay': 3241, 'silent': 3242, 'palin': 3243, 'bbsp': 3244, 'comparison': 3245, 'jamaica': 3246, 'symphony': 3247, 'memphis': 3248, 'massacr': 3249, 'acting': 3250, 'detained': 3251, 'arm': 3252, 'lgl': 3253, 'blks': 3254, 'saddlebrooke': 3255, 'feast': 3256, 'vancouver': 3257, 'launch': 3258, 'houston': 3259, 'villages': 3260, 'finds': 3261, 'fed': 3262, 'seri': 3263, 'speaking': 3264, 'spanish': 3265, 'band': 3266, 'beard': 3267, 'grazed': 3268, 'charges': 3269, 'marked': 3270, 'numbers': 3271, 'butt': 3272, 'rio': 3273, 'dramatic': 3274, 'condition': 3275, 'targets': 3276, 'clothes': 3277, 'recorded': 3278, 'lvlhwawo': 3279, 'viwxyxdyk': 3280, 'prior': 3281, 'password': 3282, 'dependency': 3283, 'counselor': 3284, 'waterways': 3285, 'avenue': 3286, 'senate': 3287, 'winston': 3288, 'fucked': 3289, 'therapy': 3290, 'boom': 3291, 'fkn': 3292, 'ultimalucha': 3293, 'alright': 3294, 'twice': 3295, 'variety': 3296, 'garden': 3297, 'twins': 3298, 'thus': 3299, 'spears': 3300, 'wood': 3301, 'often': 3302, 'visited': 3303, 'jon': 3304, 'stewart': 3305, 'angeles': 3306, 'ty': 3307, 'recap': 3308, 'eh': 3309, 'besides': 3310, 'flow': 3311, 'amazing': 3312, 'santa': 3313, 'decision': 3314, 'gained': 3315, 'stats': 3316, 'davidvonderhaar': 3317, 'pump': 3318, 'stamp': 3319, 'electric': 3320, 'safer': 3321, 'cad': 3322, 'election': 3323, 'slowly': 3324, 'toe': 3325, 'yay': 3326, 'pdx': 3327, 'meter': 3328, 'hd': 3329, 'planted': 3330, 'togeth': 3331, 'controlled': 3332, 'hybrid': 3333, 'raid': 3334, 'bully': 3335, 'plac': 3336, 'raining': 3337, 'nap': 3338, 'cbs': 3339, 'painting': 3340, 'taste': 3341, 'comments': 3342, 'welcom': 3343, 'cakes': 3344, 'sassy': 3345, 'hunk': 3346, 'smoky': 3347, 'aoms': 3348, 'ibooklove': 3349, 'bookboost': 3350, 'abbswinston': 3351, 'reporting': 3352, 'charts': 3353, 'procedures': 3354, 'drone': 3355, 'driven': 3356, 'tons': 3357, 'moth': 3358, 'largest': 3359, 'soccer': 3360, 'anymor': 3361, 'joining': 3362, 'bs': 3363, 'traditional': 3364, 'shoot': 3365, 'palestine': 3366, 'talks': 3367, 'mullah': 3368, 'omar': 3369, 'cock': 3370, 'deputies': 3371, 'steam': 3372, 'lessons': 3373, 'bake': 3374, 'clouds': 3375, 'journalist': 3376, 'recalls': 3377, 'moments': 3378, 'oak': 3379, 'summerf': 3380, 'mud': 3381, 'regret': 3382, 'germany': 3383, 'robinson': 3384, 'realdonaldtrump': 3385, 'voter': 3386, 'domestic': 3387, 'pcs': 3388, 'jones': 3389, 'chair': 3390, 'roller': 3391, 'nj': 3392, 'sb': 3393, 'email': 3394, 'tries': 3395, 'thoughts': 3396, 'demon': 3397, 'individual': 3398, 'ornament': 3399, 'republican': 3400, 'neighborhood': 3401, 'supernatural': 3402, 'droid': 3403, 'ski': 3404, 'lan': 3405, 'beats': 3406, 'shark': 3407, 'refugee': 3408, 'spend': 3409, 'restricted': 3410, 'voting': 3411, 'transporting': 3412, 'salvation': 3413, 'patched': 3414, 'os': 3415, 'exploit': 3416, 'sg': 3417, 'cap': 3418, 'places': 3419, 'cain': 3420, 'bypass': 3421, 'ars': 3422, 'invest': 3423, 'dick': 3424, 'leadership': 3425, 'daniel': 3426, 'pizza': 3427, 'acute': 3428, 'medical': 3429, 'fam': 3430, 'catching': 3431, 'solid': 3432, 'tampa': 3433, 'otherwise': 3434, 'standing': 3435, 'motor': 3436, 'cupcake': 3437, 'fac': 3438, 'tape': 3439, 'spinning': 3440, 'simply': 3441, 'declared': 3442, 'suddenly': 3443, 'ml': 3444, 'modi': 3445, 'patch': 3446, 'leveled': 3447, 'returns': 3448, 'faroeislands': 3449, 'lived': 3450, 'yemen': 3451, 'cum': 3452, 'noah': 3453, 'locke': 3454, 'justin': 3455, 'stolen': 3456, 'fights': 3457, 'startup': 3458, 'regular': 3459, 'neither': 3460, 'gordon': 3461, 'prince': 3462, 'honey': 3463, 'adding': 3464, 'generally': 3465, 'shakes': 3466, 'tools': 3467, 'gray': 3468, 'logo': 3469, 'private': 3470, 'zero': 3471, 'soviet': 3472, 'ages': 3473, 'possibly': 3474, 'sharp': 3475, 'packs': 3476, 'faster': 3477, 'gadgets': 3478, 'invasion': 3479, 'split': 3480, 'fill': 3481, 'fd': 3482, 'object': 3483, 'charlie': 3484, 'hang': 3485, 'wrap': 3486, 'buddi': 3487, 'recycling': 3488, 'campaign': 3489, 'blowout': 3490, 'cargo': 3491, 'quote': 3492, 'ryan': 3493, 'sigalert': 3494, 'southbound': 3495, 'btwn': 3496, 'warm': 3497, 'impossible': 3498, 'dinner': 3499, 'mercy': 3500, 'bars': 3501, 'metrics': 3502, 'penalties': 3503, 'vi': 3504, 'marine': 3505, 'cm': 3506, 'opened': 3507, 'realize': 3508, 'stretch': 3509, 'apollobrown': 3510, 'auctions': 3511, 'diss': 3512, 'skills': 3513, 'britain': 3514, 'enter': 3515, 'ability': 3516, 'arriving': 3517, 'www': 3518, 'madison': 3519, 'angels': 3520, 'legion': 3521, 'sucks': 3522, 'challenge': 3523, 'alternatives': 3524, 'accionempresa': 3525, 'gerenciatodo': 3526, 'protect': 3527, 'horrific': 3528, 'fitness': 3529, 'excited': 3530, 'beer': 3531, 'consequences': 3532, 'drinks': 3533, 'ts': 3534, 'nri': 3535, 'trs': 3536, 'tdp': 3537, 'allowed': 3538, 'stress': 3539, 'worried': 3540, 'milkshake': 3541, 'surv': 3542, 'recent': 3543, 'detectado': 3544, 'example': 3545, 'nytim': 3546, 'biological': 3547, 'widespread': 3548, 'relationship': 3549, 'cunt': 3550, 'royal': 3551, 'pets': 3552, 'batters': 3553, 'freezing': 3554, 'surge': 3555, 'sixth': 3556, 'garbage': 3557, 'gps': 3558, 'sort': 3559, 'deserves': 3560, 'dutch': 3561, 'dtn': 3562, 'flooded': 3563, 'charger': 3564, 'failur': 3565, 'anger': 3566, 'vintage': 3567, 'messenger': 3568, 'residential': 3569, 'wings': 3570, 'memorial': 3571, 'coach': 3572, 'wither': 3573, 'seem': 3574, 'safely': 3575, 'entered': 3576, 'twitt': 3577, 'slip': 3578, 'understanding': 3579, 'corners': 3580, 'physical': 3581, 'vid': 3582, 'trubgme': 3583, 'tony': 3584, 'kerricktrial': 3585, 'transit': 3586, 'taliban': 3587, 'certainly': 3588, 'apparent': 3589, 'restore': 3590, 'perhaps': 3591, 'hunger': 3592, 'gamergate': 3593, 'tidal': 3594, 'fbi': 3595, 'grateful': 3596, 'nytimes': 3597, 'notifications': 3598, 'te': 3599, 'trash': 3600, 'tinyjecht': 3601, 'sampling': 3602, 'somalia': 3603, 'bg': 3604, 'random': 3605, 'crystal': 3606, 'nba': 3607, 'haiyan': 3608, 'jim': 3609, 'terms': 3610, 'ordered': 3611, 'koinnews': 3612, 'aa': 3613, 'swear': 3614, 'alex': 3615, 'jay': 3616, 'responsible': 3617, 'christians': 3618, 'cameron': 3619, 'bees': 3620, 'yahoo': 3621, 'residents': 3622, 'hieroglyphics': 3623, 'honors': 3624, 'lowly': 3625, 'nation': 3626, 'rid': 3627, 'removal': 3628, 'range': 3629, 'nike': 3630, 'crashing': 3631, 'forgot': 3632, 'catch': 3633, 'gmt': 3634, 'souls': 3635, 'heading': 3636, 'credit': 3637, 'sophie': 3638, 'patrick': 3639, 'deck': 3640, 'rap': 3641, 'adventures': 3642, 'plot': 3643, 'offers': 3644, 'breakingnews': 3645, 'longest': 3646, 'digit': 3647, 'unknown': 3648, 'reut': 3649, 'armed': 3650, 'remembered': 3651, 'bedroom': 3652, 'speaker': 3653, 'complex': 3654, 'violence': 3655, 'key': 3656, 'tflbusalerts': 3657, 'bears': 3658, 'reshapes': 3659, 'movi': 3660, 'brand': 3661, 'mega': 3662, 'marker': 3663, 'reminder': 3664, 'blames': 3665, 'instagram': 3666, 'rescu': 3667, 'mfs': 3668, 'designs': 3669, 'lego': 3670, 'heartless': 3671, 'whipped': 3672, 'utter': 3673, 'foul': 3674, 'longs': 3675, 'clip': 3676, 'bowling': 3677, 'barackobama': 3678, 'belongs': 3679, 'curb': 3680, 'bulletin': 3681, 'roof': 3682, 'greece': 3683, 'meals': 3684, 'indonesia': 3685, 'blame': 3686, 'zouma': 3687, 'throwing': 3688, 'flew': 3689, 'covers': 3690, 'healing': 3691, 'fair': 3692, 'chil': 3693, 'cecilthelion': 3694, 'ops': 3695, 'everyon': 3696, 'repeat': 3697, 'gf': 3698, 'lip': 3699, 'dam': 3700, 'estate': 3701, 'iii': 3702, 'halifax': 3703, 'tie': 3704, 'kisii': 3705, 'grew': 3706, 'thinks': 3707, 'provide': 3708, 'treatment': 3709, 'stands': 3710, 'blah': 3711, 'chosen': 3712, 'pit': 3713, 'vegetarian': 3714, 'climatechange': 3715, 'pissed': 3716, 'flashbacks': 3717, 'console': 3718, 'kraft': 3719, 'singles': 3720, 'helicopters': 3721, 'activities': 3722, 'worker': 3723, 'milk': 3724, 'routecomplex': 3725, 'noaa': 3726, 'looping': 3727, 'ruined': 3728, 'bump': 3729, 'famin': 3730, 'tb': 3731, 'throwback': 3732, 'exc': 3733, 'mov': 3734, 'firetruck': 3735, 'firefighting': 3736, 'cites': 3737, 'interlaken': 3738, 'macia': 3739, 'cc': 3740, 'everytime': 3741, 'cruise': 3742, 'trials': 3743, 'repay': 3744, 'strict': 3745, 'liability': 3746, 'aviation': 3747, 'beware': 3748, 'temper': 3749, 'foxy': 3750, 'gn': 3751, 'thy': 3752, 'lakes': 3753, 'restaur': 3754, 'bill': 3755, 'daesh': 3756, 'june': 3757, 'legendary': 3758, 'whenever': 3759, 'hahahaha': 3760, 'lolol': 3761, 'wwe': 3762, 'atmospheric': 3763, 'newz': 3764, 'visits': 3765, 'ridicul': 3766, 'backup': 3767, 'bwp': 3768, 'idmhswewqw': 3769, 'nepal': 3770, 'buried': 3771, 'soldier': 3772, 'ranking': 3773, 'enormous': 3774, 'denial': 3775, 'adjust': 3776, 'shoe': 3777, 'extender': 3778, 'diarrhea': 3779, 'stressful': 3780, 'selfie': 3781, 'thuggin': 3782, 'tru': 3783, 'jhpdssvhv': 3784, 'nv': 3785, 'ut': 3786, 'vet': 3787, 'proper': 3788, 'mariah': 3789, 'mall': 3790, 'michaelsos': 3791, 'reopen': 3792, 'advice': 3793, 'solicitor': 3794, 'lonely': 3795, 'muzzamil': 3796, 'offr': 3797, 'acoustic': 3798, 'poorly': 3799, 'indie': 3800, 'dystopian': 3801, 'teens': 3802, 'escaping': 3803, 'priceless': 3804, 'pisgah': 3805, 'invaded': 3806, 'sons': 3807, 'psalms': 3808, 'sin': 3809, 'thighs': 3810, 'tide': 3811, 'safari': 3812, 'magazine': 3813, 'fold': 3814, 'snd': 3815, 'vital': 3816, 'log': 3817, 'function': 3818, 'grills': 3819, 'cheap': 3820, 'bett': 3821, 'vacation': 3822, 'aunt': 3823, 'isidcubj': 3824, 'saturn': 3825, 'lawsuit': 3826, 'greatbritishbakeoff': 3827, 'jumped': 3828, 'upwards': 3829, 'taught': 3830, 'occur': 3831, 'precious': 3832, 'weathernetwork': 3833, 'correct': 3834, 'challenged': 3835, 'genius': 3836, 'ed': 3837, 'hinton': 3838, 'evacuating': 3839, 'jamesmelville': 3840, 'promote': 3841, 'groups': 3842, 'northwestern': 3843, 'finished': 3844, 'completed': 3845, 'closures': 3846, 'individuals': 3847, 'permanent': 3848, 'setlist': 3849, 'greedy': 3850, 'emot': 3851, 'sdgoutwntb': 3852, 'agents': 3853, 'moves': 3854, 'fnaf': 3855, 'wattpad': 3856, 'sean': 3857, 'fatally': 3858, 'vermont': 3859, 'channels': 3860, 'transformed': 3861, 'liable': 3862, 'artist': 3863, 'thegame': 3864, 'emperor': 3865, 'ra': 3866, 'corey': 3867, 'label': 3868, 'backyard': 3869, 'higher': 3870, 'conclud': 3871, 'sorrows': 3872, 'amirit': 3873, 'dumb': 3874, 'giveaway': 3875, 'stu': 3876, 'tyre': 3877, 'entrepreneur': 3878, 'publicizing': 3879, 'lnp': 3880, 'permanently': 3881, 'anna': 3882, 'earbuds': 3883, 'livingsafely': 3884, 'nixon': 3885, 'hiding': 3886, 'bel': 3887, 'mc': 3888, 'arsonistmusic': 3889, 'college': 3890, 'espn': 3891, 'diaporama': 3892, 'sixpenceee': 3893, 'located': 3894, 'arwx': 3895, 'apart': 3896, 'wanting': 3897, 'sniping': 3898, 'chevrolet': 3899, 'unhappiness': 3900, 'delayed': 3901, 'exposed': 3902, 'cash': 3903, 'ke': 3904, 'ki': 3905, 'horizon': 3906, 'resources': 3907, 'applaud': 3908, 'inc': 3909, 'condos': 3910, 'hamilton': 3911, 'kosciusko': 3912, 'newberg': 3913, 'jacque': 3914, 'betz': 3915, 'coral': 3916, 'mock': 3917, 'psa': 3918, 'crusty': 3919, 'schedul': 3920, 'knight': 3921, 'increase': 3922, 'electricity': 3923, 'begging': 3924, 'nicki': 3925, 'minaj': 3926, 'ovofest': 3927, 'downstairs': 3928, 'insomnia': 3929, 'grrrr': 3930, 'anellatulip': 3931, 'magisters': 3932, 'gates': 3933, 'mandatory': 3934, 'centers': 3935, 'nankana': 3936, 'sahib': 3937, 'correspondent': 3938, 'nyt': 3939, 'pan': 3940, 'spontaneously': 3941, 'motiv': 3942, 'asics': 3943, 'ronnie': 3944, 'fieg': 3945, 'kith': 3946, 'bluedio': 3947, 'headset': 3948, 'tasmania': 3949, 'mkx': 3950, 'difficult': 3951, 'esp': 3952, 'appointment': 3953, 'excuse': 3954, 'environmental': 3955, 'tuning': 3956, 'chunks': 3957, 'downpours': 3958, 'liveonk': 3959, 'grenades': 3960, 'ironically': 3961, 'graveyard': 3962, 'explains': 3963, 'comingsoon': 3964, 'abu': 3965, 'baraa': 3966, 'sharing': 3967, 'tf': 3968, 'spirits': 3969, 'eastward': 3970, 'auto': 3971, 'specialists': 3972, 'reacted': 3973, 'concerns': 3974, 'settle': 3975, 'equal': 3976, 'hutch': 3977, 'bluejay': 3978, 'diego': 3979, 'facing': 3980, 'groom': 3981, 'edge': 3982, 'hous': 3983, 'sosfam': 3984, 'portugal': 3985, 'suffered': 3986, 'shore': 3987, 'faceless': 3988, 'pickerel': 3989, 'montgomery': 3990, 'expensive': 3991, 'dw': 3992, 'norman': 3993, 'lapse': 3994, 'lines': 3995, 'raw': 3996, 'rolls': 3997, 'scars': 3998, 'tumblr': 3999, 'trigg': 4000, 'hoping': 4001, 'labour': 4002, 'easi': 4003, 'republic': 4004, 'freaking': 4005, 'underway': 4006, 'knoxville': 4007, 'gem': 4008, 'rmg': 4009, 'cracking': 4010, 'nh': 4011, 'mins': 4012, 'manufactured': 4013, 'gardens': 4014, 'wreckag': 4015, 'spending': 4016, 'elsa': 4017, 'honest': 4018, 'inspired': 4019, 'fil': 4020, 'drawn': 4021, 'trinity': 4022, 'asks': 4023, 'tahoe': 4024, 'helps': 4025, 'bottle': 4026, 'victoria': 4027, 'nhl': 4028, 'yep': 4029, 'downfall': 4030, 'growth': 4031, 'bites': 4032, 'features': 4033, 'assholes': 4034, 'nnw': 4035, 'expert': 4036, 'prepper': 4037, 'viralspel': 4038, 'jewelry': 4039, 'euro': 4040, 'crimes': 4041, 'despite': 4042, 'crippling': 4043, 'cafe': 4044, 'bite': 4045, 'sweater': 4046, 'cage': 4047, 'dealing': 4048, 'lmfaoooo': 4049, 'xl': 4050, 'hockey': 4051, 'mufc': 4052, 'dirk': 4053, 'basic': 4054, 'loads': 4055, 'kinder': 4056, 'buckle': 4057, 'casual': 4058, 'stylish': 4059, 'pockets': 4060, 'whistle': 4061, 'knife': 4062, 'capsized': 4063, 'workout': 4064, 'corner': 4065, 'knox': 4066, 'unfortunately': 4067, 'proceeds': 4068, 'items': 4069, 'typical': 4070, 'mic': 4071, 'dealbreaker': 4072, 'aq': 4073, 'auction': 4074, 'retro': 4075, 'sudden': 4076, 'patna': 4077, 'brian': 4078, 'isil': 4079, 'utv': 4080, 'demi': 4081, 'stans': 4082, 'balance': 4083, 'bigamist': 4084, 'urgent': 4085, 'villagers': 4086, 'gloucester': 4087, 'defendant': 4088, 'gander': 4089, 'curiosity': 4090, 'forgive': 4091, 'hatred': 4092, 'bernardino': 4093, 'luke': 4094, 'microphone': 4095, 'shocking': 4096, 'cmon': 4097, 'polit': 4098, 'pakpattan': 4099, 'proposed': 4100, 'trek': 4101, 'sympathy': 4102, 'nsfw': 4103, 'wok': 4104, 'aust': 4105, 'gr': 4106, 'latimes': 4107, 'ctd': 4108, 'rockbottomradfm': 4109, 'challenges': 4110, 'prob': 4111, 'letters': 4112, 'encounter': 4113, 'pulwama': 4114, 'liv': 4115, 'micom': 4116, 'contrast': 4117, 'gridlock': 4118, 'tanks': 4119, 'jupiter': 4120, 'rooms': 4121, 'bother': 4122, 'drum': 4123, 'stick': 4124, 'wcw': 4125, 'tha': 4126, 'ambul': 4127, 'significant': 4128, 'creates': 4129, 'questioning': 4130, 'regarding': 4131, 'disappearance': 4132, 'whomever': 4133, 'skill': 4134, 'troll': 4135, 'boise': 4136, 'lifts': 4137, 'odds': 4138, 'glided': 4139, 'answ': 4140, 'necessary': 4141, 'jason': 4142, 'losing': 4143, 'las': 4144, 'initial': 4145, 'affects': 4146, 'faulty': 4147, 'concrete': 4148, 'specialist': 4149, 'autoinsurance': 4150, 'clueless': 4151, 'ydetwgribk': 4152, 'factors': 4153, 'dm': 4154, 'pkwy': 4155, 'manutd': 4156, 'coyotes': 4157, 'lizards': 4158, 'approaching': 4159, 'niagara': 4160, 'removed': 4161, 'kca': 4162, 'votejktid': 4163, 'screw': 4164, 'discuss': 4165, 'bradleybrad': 4166, 'upgraded': 4167, 'mohammed': 4168, 'michelebachman': 4169, 'firey': 4170, 'inferno': 4171, 'accept': 4172, 'globalwarming': 4173, 'wealthy': 4174, 'devil': 4175, 'greg': 4176, 'negros': 4177, 'mx': 4178, 'batfanuk': 4179, 'favs': 4180, 'shantae': 4181, 'whatev': 4182, 'chem': 4183, 'peacefully': 4184, 'proud': 4185, 'bronx': 4186, 'overload': 4187, 'wannabe': 4188, 'chances': 4189, 'options': 4190, 'write': 4191, 'theological': 4192, 'troy': 4193, 'fourth': 4194, 'albany': 4195, 'gunmen': 4196, 'drivers': 4197, 'language': 4198, 'spilled': 4199, 'crude': 4200, 'pedestrians': 4201, 'nostrils': 4202, 'lit': 4203, 'liter': 4204, 'so': 4205, 'pol': 4206, 'montetjwitter': 4207, 'cld': 4208, 'sct': 4209, 'bkn': 4210, 'drag': 4211, 'wayne': 4212, 'puppy': 4213, 'dryer': 4214, 'paper': 4215, 'outage': 4216, 'fragile': 4217, 'feinstein': 4218, 'hurry': 4219, 'nwo': 4220, 'judge': 4221, 'recognize': 4222, 'certificate': 4223, 'touched': 4224, 'devalue': 4225, 'edyfoepu': 4226, 'mkxlpkfa': 4227, 'slayer': 4228, 'jeff': 4229, 'riyadh': 4230, 'arabian': 4231, 'adults': 4232, 'oliver': 4233, 'ttes': 4234, 'helpline': 4235, 'anxious': 4236, 'nfpa': 4237, 'et': 4238, 'regardless': 4239, 'beginners': 4240, 'customers': 4241, 'perquisite': 4242, 'internal': 4243, 'hermancranston': 4244, 'atk': 4245, 'letsfootball': 4246, 'skanndtyagi': 4247, 'respected': 4248, 'cgffpmr': 4249, 'summit': 4250, 'contain': 4251, 'weath': 4252, 'joneskyle': 4253, 'pomo': 4254, 'dydfvzamj': 4255, 'gofundm': 4256, 'mmmmmm': 4257, 'oooooohhhh': 4258, 'oooh': 4259, 'ooh': 4260, 'ga': 4261, 'tokyo': 4262, 'command': 4263, 'unity': 4264, 'breathing': 4265, 'finding': 4266, 'justified': 4267, 'sounding': 4268, 'braking': 4269, 'inevitably': 4270, 'wors': 4271, 'studio': 4272, 'sheer': 4273, 'odd': 4274, 'sail': 4275, 'rages': 4276, 'reaches': 4277, 'wod': 4278, 'hardcore': 4279, 'si': 4280, 'excitement': 4281, 'worn': 4282, 'syndrome': 4283, 'flip': 4284, 'heroin': 4285, 'uncle': 4286, 'usu': 4287, 'displace': 4288, 'enhanced': 4289, 'uber': 4290, 'premature': 4291, 'porridge': 4292, 'hopes': 4293, 'amageddon': 4294, 'freespeech': 4295, 'tj': 4296, 'ho': 4297, 'babe': 4298, 'protests': 4299, 'mole': 4300, 'loses': 4301, 'rene': 4302, 'magnitude': 4303, 'intensifies': 4304, 'sexy': 4305, 'meme': 4306, 'earned': 4307, 'alexbelloli': 4308, 'sl': 4309, 'connecto': 4310, 'motorcraft': 4311, 'wpt': 4312, 'premium': 4313, 'layout': 4314, 'vanessa': 4315, 'li': 4316, 'goat': 4317, 'enroute': 4318, 'twentynine': 4319, 'wo': 4320, 'brock': 4321, 'descriptions': 4322, 'vip': 4323, 'surely': 4324, 'paved': 4325, 'hypocrisy': 4326, 'weston': 4327, 'custer': 4328, 'pennington': 4329, 'diplomacy': 4330, 'billneelynbc': 4331, 'humidity': 4332, 'compound': 4333, 'trail': 4334, 'teeth': 4335, 'sponsor': 4336, 'station': 4337, 'temp': 4338, 'hamburg': 4339, 'deny': 4340, 'tragic': 4341, 'claimed': 4342, 'riding': 4343, 'sputnik': 4344, 'custom': 4345, 'grass': 4346, 'ni': 4347, 'homosexuality': 4348, 'bi': 4349, 'shock': 4350, 'heal': 4351, 'ignored': 4352, 'affleck': 4353, 'exhaust': 4354, 'fm': 4355, 'greenway': 4356, 'presence': 4357, 'growing': 4358, 'clock': 4359, 'ethereal': 4360, 'born': 4361, 'performing': 4362, 'arts': 4363, 'reduced': 4364, 'journalism': 4365, 'sorri': 4366, 'plants': 4367, 'titanic': 4368, 'misery': 4369, 'smooth': 4370, 'carried': 4371, 'conquest': 4372, 'shaker': 4373, 'remorse': 4374, 'worldnew': 4375, 'megadeth': 4376, 'deadliest': 4377, 'dems': 4378, 'facility': 4379, 'ug': 4380, 'baruch': 4381, 'goldstein': 4382, 'weight': 4383, 'alarmed': 4384, 'lrt': 4385, 'bitcoin': 4386, 'btdjgwekqx': 4387, 'november': 4388, 'advanced': 4389, 'exposure': 4390, 'acdelco': 4391, 'artificial': 4392, 'ad': 4393, 'wftv': 4394, 'railways': 4395, 'unawares': 4396, 'player': 4397, 'brick': 4398, 'disruptive': 4399, 'soaking': 4400, 'alcohol': 4401, 'december': 4402, 'tutor': 4403, 'decades': 4404, 'university': 4405, 'yazidi': 4406, 'eurotunnel': 4407, 'coursing': 4408, 'weyrey': 4409, 'gidi': 4410, 'apt': 4411, 'sk': 4412, 'master': 4413, 'rubbl': 4414, 'approves': 4415, 'association': 4416, 'directors': 4417, 'choose': 4418, 'skqpwsnoin': 4419, 'achimota': 4420, 'liveonline': 4421, 'iokuuguq': 4422, 'divided': 4423, 'matthew': 4424, 'posted': 4425, 'nuggets': 4426, 'sand': 4427, 'karma': 4428, 'vampiro': 4429, 'luchaunderground': 4430, 'display': 4431, 'saf': 4432, 'vegetable': 4433, 'gear': 4434, 'gilbert': 4435, 'edllncvu': 4436, 'boko': 4437, 'haram': 4438, 'malik': 4439, 'jailed': 4440, 'unto': 4441, 'dec': 4442, 'len': 4443, 'compete': 4444, 'ambulances': 4445, 'jake': 4446, 'techesback': 4447, 'payday': 4448, 'habits': 4449, 'seal': 4450, 'summerfate': 4451, 'sac': 4452, 'bark': 4453, 'whao': 4454, 'pohycnd': 4455, 'hanna': 4456, 'dear': 4457, 'argument': 4458, 'referring': 4459, 'celtic': 4460, 'form': 4461, 'fte': 4462, 'swarm': 4463, 'sunny': 4464, 'beliefs': 4465, 'blutz': 4466, 'turning': 4467, 'enrt': 4468, 'feelin': 4469, 'circuit': 4470, 'scoopit': 4471, 'coincide': 4472, 'opposition': 4473, 'noted': 4474, 'jimmyfallon': 4475, 'fairy': 4476, 'dedicated': 4477, 'holmgren': 4478, 'lou': 4479, 'garfield': 4480, 'dances': 4481, 'dreaming': 4482, 'scar': 4483, 'sarcasm': 4484, 'jealous': 4485, 'preservation': 4486, 'imagined': 4487, 'acc': 4488, 'kashmir': 4489, 'safmosksn': 4490, 'sony': 4491, 'weighs': 4492, 'oregon': 4493, 'hmu': 4494, 'blocks': 4495, 'atlantic': 4496, 'nosurrender': 4497, 'todays': 4498, 'delo': 4499, 'scuf': 4500, 'xb': 4501, 'relentless': 4502, 'candle': 4503, 'horn': 4504, 'bangladesh': 4505, 'komen': 4506, 'sketch': 4507, 'recommended': 4508, 'swing': 4509, 'hel': 4510, 'grants': 4511, 'fiasco': 4512, 'sid': 4513, 'jmkcbkcov': 4514, 'cannon': 4515, 'billboard': 4516, 'gopdebate': 4517, 'col': 4518, 'boring': 4519, 'tyr': 4520, 'customs': 4521, 'phew': 4522, 'requiring': 4523, 'drives': 4524, 'saturated': 4525, 'commonwealth': 4526, 'swansea': 4527, 'earthquakes': 4528, 'afc': 4529, 'frontlines': 4530, 'screamqueens': 4531, 'katherine': 4532, 'evolve': 4533, 'politifiact': 4534, 'pants': 4535, 'shook': 4536, 'ssw': 4537, 'anza': 4538, 'shooter': 4539, 'cod': 4540, 'cutting': 4541, 'billings': 4542, 'rapidcity': 4543, 'cheyenn': 4544, 'mentioned': 4545, 'bil': 4546, 'britishbakeoff': 4547, 'geneva': 4548, 'esteemed': 4549, 'childhood': 4550, 'mouth': 4551, 'southdowns': 4552, 'hampshire': 4553, 'treeporn': 4554, 'assembly': 4555, 'dolce': 4556, 'redeemeth': 4557, 'servants': 4558, 'legio': 4559, 'rag': 4560, 'whts': 4561, 'colluded': 4562, 'wht': 4563, 'idis': 4564, 'stil': 4565, 'mulop': 4566, 'removing': 4567, 'inec': 4568, 'abia': 4569, 'pattern': 4570, 'lamha': 4571, 'coaster': 4572, 'niall': 4573, 'steal': 4574, 'wholesale': 4575, 'pickup': 4576, 'acquire': 4577, 'addition': 4578, 'driv': 4579, 'idfire': 4580, 'sheet': 4581, 'pa': 4582, 'josh': 4583, 'xxx': 4584, 'metlife': 4585, 'racing': 4586, 'forth': 4587, 'chases': 4588, 'generalnews': 4589, 'gallipoli': 4590, 'johannesburg': 4591, 'mutual': 4592, 'streaming': 4593, 'nails': 4594, 'relive': 4595, 'nope': 4596, 'jedi': 4597, 'hasbro': 4598, 'destructive': 4599, 'eastbound': 4600, 'freeway': 4601, 'jeep': 4602, 'marketforce': 4603, 'jamaicaplain': 4604, 'wolves': 4605, 'jordan': 4606, 'bmw': 4607, 'viralspell': 4608, 'eysvvzaqm': 4609, 'shelby': 4610, 'washingtonpost': 4611, 'democrats': 4612, 'charity': 4613, 'corleonedaboss': 4614, 'meets': 4615, 'cindy': 4616, 'noonan': 4617, 'cindynoonan': 4618, 'heartbreak': 4619, 'baltimore': 4620, 'yahistorical': 4621, 'undergroundrailraod': 4622, 'phase': 4623, 'sibling': 4624, 'cta': 4625, 'technica': 4626, 'pres': 4627, 'themed': 4628, 'tops': 4629, 'quite': 4630, 'tale': 4631, 'reject': 4632, 'nations': 4633, 'fueling': 4634, 'adopt': 4635, 'someon': 4636, 'not': 4637, 'blueprint': 4638, 'nazi': 4639, 'tgirl': 4640, 'torching': 4641, 'clos': 4642, 'logan': 4643, 'sep': 4644, 'ticket': 4645, 'pinpoint': 4646, 'engine': 4647, 'defects': 4648, 'cherokee': 4649, 'hackers': 4650, 'fortune': 4651, 'njdpgxv': 4652, 'quak': 4653, 'peterjukes': 4654, 'grounds': 4655, 'committed': 4656, 'individu': 4657, 'musicians': 4658, 'borderlands': 4659, 'danisnotonfire': 4660, 'phil': 4661, 'various': 4662, 'attract': 4663, 'walter': 4664, 'wel': 4665, 'explain': 4666, 'reckless': 4667, 'westeros': 4668, 'finishing': 4669, 'rick': 4670, 'britney': 4671, 'rey': 4672, 'reagan': 4673, 'administration': 4674, 'throughout': 4675, 'announced': 4676, 'korea': 4677, 'brooke': 4678, 'assisting': 4679, 'invited': 4680, 'looters': 4681, 'sight': 4682, 'dock': 4683, 'refuses': 4684, 'fi': 4685, 'democraci': 4686, 'etisalat': 4687, 'mb': 4688, 'anyname': 4689, 'camps': 4690, 'ct': 4691, 'pancakes': 4692, 'gunsense': 4693, 'renison': 4694, 'tin': 4695, 'inciweb': 4696, 'rogue': 4697, 'siskiyou': 4698, 'distinct': 4699, 'rockstar': 4700, 'tir': 4701, 'soooo': 4702, 'rudd': 4703, 'ud': 4704, 'ypres': 4705, 'cosponsor': 4706, 'renewhealth': 4707, 'insight': 4708, 'whitehouse': 4709, 'es': 4710, 'required': 4711, 'diff': 4712, 'barry': 4713, 'solo': 4714, 'sweetyoung': 4715, 'contract': 4716, 'vantage': 4717, 'visibility': 4718, 'cdcgov': 4719, 'hurricanes': 4720, 'names': 4721, 'hahahah': 4722, 'embroidered': 4723, 'metrofmtalk': 4724, 'rejected': 4725, 'minions': 4726, 'rainfall': 4727, 'throat': 4728, 'landscape': 4729, 'barely': 4730, 'scale': 4731, 'figure': 4732, 'carolina': 4733, 'martinmj': 4734, 'yougov': 4735, 'thin': 4736, 'teenagers': 4737, 'violations': 4738, 'evanston': 4739, 'bicycles': 4740, 'cast': 4741, 'fathers': 4742, 'rated': 4743, 'imdb': 4744, 'su': 4745, 'emerges': 4746, 'quarter': 4747, 'earnings': 4748, 'stocks': 4749, 'colder': 4750, 'fewmoretweets': 4751, 'neighbors': 4752, 'notice': 4753, 'harper': 4754, 'imported': 4755, 'innovation': 4756, 'sharethi': 4757, 'selection': 4758, 'prompted': 4759, 'philadelphia': 4760, 'marquis': 4761, 'carlos': 4762, 'underwriter': 4763, 'product': 4764, 'blizzheroes': 4765, 'diablo': 4766, 'wrapped': 4767, 'gravel': 4768, 'originalfunko': 4769, 'spencers': 4770, 'continually': 4771, 'friendly': 4772, 'keratin': 4773, 'treatments': 4774, 'brazilian': 4775, 'photographer': 4776, 'blunt': 4777, 'irvine': 4778, 'chp': 4779, 'detouring': 4780, 'motion': 4781, 'bicycle': 4782, 'banquet': 4783, 'roger': 4784, 'brady': 4785, 'pcps': 4786, 'physicians': 4787, 'chewing': 4788, 'gum': 4789, 'traveling': 4790, 'minhazmerchant': 4791, 'ouvindo': 4792, 'smart': 4793, 'worries': 4794, 'murfreesboro': 4795, 'detroit': 4796, 'square': 4797, 'bail': 4798, 'envw': 4799, 'nickcocofree': 4800, 'juliedicaro': 4801, 'jdabe': 4802, 'pieces': 4803, 'playthursdays': 4804, 'everybody': 4805, 'mercado': 4806, 'bass': 4807, 'rejects': 4808, 'lately': 4809, 'ntsb': 4810, 'denmark': 4811, 'trunk': 4812, 'trick': 4813, 'hr': 4814, 'suck': 4815, 'gambit': 4816, 'suru': 4817, 'architecture': 4818, 'wav': 4819, 'volga': 4820, 'forb': 4821, 'cartoon': 4822, 'bones': 4823, 'witter': 4824, 'cbplawy': 4825, 'waters': 4826, 'epicenter': 4827, 'ima': 4828, 'bluejays': 4829, 'columbia': 4830, 'sanctioned': 4831, 'sends': 4832, 'protesting': 4833, 'professional': 4834, 'doug': 4835, 'legs': 4836, 'globe': 4837, 'surface': 4838, 'ruining': 4839, 'scariest': 4840, 'mens': 4841, 'waist': 4842, 'director': 4843, 'histori': 4844, 'epilepsy': 4845, 'illinois': 4846, 'slipped': 4847, 'happily': 4848, 'excuses': 4849, 'cli': 4850, 'squirrel': 4851, 'bio': 4852, 'dept': 4853, 'southeast': 4854, 'tigers': 4855, 'affecting': 4856, 'starving': 4857, 'aquarium': 4858, 'sailing': 4859, 'destroyer': 4860, 'decor': 4861, 'kyle': 4862, 'skirt': 4863, 'pipe': 4864, 'apartments': 4865, 'foodscare': 4866, 'offersgo': 4867, 'nestleindia': 4868, 'slips': 4869, 'magginoodle': 4870, 'humanconsumpt': 4871, 'mafia': 4872, 'windy': 4873, 'source': 4874, 'tattoo': 4875, 'donate': 4876, 'receive': 4877, 'assistance': 4878, 'ac': 4879, 'zayn': 4880, 'spinningbot': 4881, 'dollars': 4882, 'pharaoh': 4883, 'cherry': 4884, 'sweat': 4885, 'atmosphere': 4886, 'gig': 4887, 'kitten': 4888, 'cityofcalgary': 4889, 'chjecfrv': 4890, 'royalcarribean': 4891, 'teamhendrick': 4892, 'highly': 4893, 'mnpdnashville': 4894, 'grains': 4895, 'capacity': 4896, 'available': 4897, 'miyagi': 4898, 'harrybecar': 4899, 'chan': 4900, 'capitalism': 4901, 'wudlkqncx': 4902, 'fema': 4903, 'showers': 4904, 'mirage': 4905, 'behalf': 4906, 'cuban': 4907, 'jerry': 4908, 'grenade': 4909, 'shizune': 4910, 'favorites': 4911, 'economies': 4912, 'coping': 4913, 'vgbootcamp': 4914, 'sn': 4915, 'vabengal': 4916, 'zss': 4917, 'chattanooga': 4918, 'hella': 4919, 'cries': 4920, 'kerry': 4921, 'helene': 4922, 'godslove': 4923, 'thanku': 4924, 'coworker': 4925, 'threaten': 4926, 'nan': 4927, 'personally': 4928, 'punish': 4929, 'matches': 4930, 'revelation': 4931, 'potentially': 4932, 'arizona': 4933, 'floated': 4934, 'tc': 4935, 'infosec': 4936, 'strongly': 4937, 'condemn': 4938, 'timkaine': 4939, 'agency': 4940, 'ee': 4941, 'cycling': 4942, 'mishap': 4943, 'crane': 4944, 'hah': 4945, 'impacted': 4946, 'tweetlikeitsseptemberth': 4947, 'ccot': 4948, 'yycstorm': 4949, 'bands': 4950, 'coat': 4951, 'antonio': 4952, 'paris': 4953, 'piner': 4954, 'horndale': 4955, 'walker': 4956, 'prevention': 4957, 'der': 4958, 'worrying': 4959, 'boundaries': 4960, 'unnecessary': 4961, 'schedule': 4962, 'testing': 4963, 'hearthstone': 4964, 'aussies': 4965, 'premonitions': 4966, 'iikssjgbdn': 4967, 'lee': 4968, 'fart': 4969, 'lemon': 4970, 'rossum': 4971, 'talkin': 4972, 'pbban': 4973, 'flags': 4974, 'xp': 4975, 'european': 4976, 'newswatch': 4977, 'lock': 4978, 'lansdowne': 4979, 'sts': 4980, 'ptbo': 4981, 'willian': 4982, 'midnight': 4983, 'sake': 4984, 'missiles': 4985, 'dig': 4986, 'term': 4987, 'atl': 4988, 'fran': 4989, 'punjab': 4990, 'platform': 4991, 'volleyball': 4992, 'fevwarrior': 4993, 'cobra': 4994, 'doublecups': 4995, 'lfkmtzaekk': 4996, 'prod': 4997, 'thisizbwright': 4998, 'forbid': 4999, 'anyways': 5000, 'pertains': 5001, 'impress': 5002, 'wrist': 5003, 'spray': 5004, 'butterfinger': 5005, 'priorities': 5006, 'southampton': 5007, 'arnhem': 5008, 'extends': 5009, 'neck': 5010, 'cyprus': 5011, 'headlines': 5012, 'criminal': 5013, 'moral': 5014, 'systems': 5015, 'endorses': 5016, 'serve': 5017, 'sooo': 5018, 'exacerbated': 5019, 'mgeajelul': 5020, 'oun': 5021, 'societi': 5022, 'samanthaturne': 5023, 'chairs': 5024, 'treated': 5025, 'priority': 5026, 'cope': 5027, 'pledge': 5028, 'allegiance': 5029, 'monkey': 5030, 'fist': 5031, 'investigate': 5032, 'smil': 5033, 'collective': 5034, 'diverse': 5035, 'elite': 5036, 'catfish': 5037, 'digital': 5038, 'bakeofffriends': 5039, 'zionism': 5040, 'ushanka': 5041, 'fur': 5042, 'badge': 5043, 'lions': 5044, 'bell': 5045, 'irony': 5046, 'goulburn': 5047, 'critical': 5048, 'gabon': 5049, 'bloomberg': 5050, 'moms': 5051, 'pill': 5052, 'develop': 5053, 'extension': 5054, 'rained': 5055, 'delete': 5056, 'bridges': 5057, 'pileup': 5058, 'hiphop': 5059, 'durant': 5060, 'favorit': 5061, 'shaking': 5062, 'greenharvard': 5063, 'battered': 5064, 'whatsapp': 5065, 'sqsyuehyi': 5066, 'tndpm': 5067, 'ankle': 5068, 'batteries': 5069, 'facts': 5070, 'donald': 5071, 'drones': 5072, 'brief': 5073, 'swept': 5074, 'rihanna': 5075, 'emsc': 5076, 'pt': 5077, 'selling': 5078, 'unavoidable': 5079, 'consequence': 5080, 'socialism': 5081, 'bbdpnjxsx': 5082, 'toxic': 5083, 'savebees': 5084, 'hack': 5085, 'wmur': 5086, 'dressed': 5087, 'warne': 5088, 'shocked': 5089, 'sponge': 5090, 'gunshot': 5091, 'bicep': 5092, 'torso': 5093, 'jonathanferrel': 5094, '': 5095, 'awaits': 5096, 'communication': 5097, 'maps': 5098, 'limit': 5099, 'outflow': 5100, 'burnt': 5101, 'trend': 5102, 'resulting': 5103, 'probe': 5104, 'technologies': 5105, 'basement': 5106, 'slicker': 5107, 'drugs': 5108, 'instantly': 5109, 'nato': 5110, 'hoped': 5111, 'marines': 5112, 'con': 5113, 'uranium': 5114, 'fishing': 5115, 'attempting': 5116, 'impulse': 5117, 'caus': 5118, 'core': 5119, 'unstable': 5120, 'infinity': 5121, 'pace': 5122, 'sportwatch': 5123, 'nikeplus': 5124, 'yonew': 5125, 'intersection': 5126, 'kanye': 5127, 'empire': 5128, 'rifles': 5129, 'dq': 5130, 'combust': 5131, 'luka': 5132, 'alois': 5133, 'keith': 5134, 'affiliate': 5135, 'legislation': 5136, 'differ': 5137, 'grandpa': 5138, 'absolute': 5139, 'origin': 5140, 'hahah': 5141, 'ipod': 5142, 'que': 5143, 'april': 5144, 'chronicle': 5145, 'fallacy': 5146, 'elbow': 5147, 'marketing': 5148, 'deserve': 5149, 'schiphol': 5150, 'tumbling': 5151, 'smiles': 5152, 'suruc': 5153, 'wal': 5154, 'avengers': 5155, 'comedy': 5156, 'beauty': 5157, 'cak': 5158, 'narendramodi': 5159, 'retweet': 5160, 'pickens': 5161, 'debatequestionswewanttohear': 5162, 'frank': 5163, 'opp': 5164, 'jump': 5165, 'salmon': 5166, 'ptsdchat': 5167, 'ironic': 5168, 'africans': 5169, 'pretend': 5170, 'thurs': 5171, 'gust': 5172, 'loading': 5173, 'gays': 5174, 'destroying': 5175, 'complet': 5176, 'cloudy': 5177, 'londonfire': 5178, 'thankfully': 5179, 'bp': 5180, 'cryptic': 5181, 'guided': 5182, 'dopey': 5183, 'williams': 5184, 'destruct': 5185, 'langley': 5186, 'assistant': 5187, 'crosses': 5188, 'reshape': 5189, 'mineral': 5190, 'tornados': 5191, 'ak': 5192, 'healthcare': 5193, 'sandy': 5194, 'cyber': 5195, 'juice': 5196, 'busy': 5197, 'cancers': 5198, 'equate': 5199, 'blackpool': 5200, 'kowing': 5201, 'beclearoncanc': 5202, 'values': 5203, 'shipwreck': 5204, 'aw': 5205, 'nbc': 5206, 'pounded': 5207, 'peeps': 5208, 'treating': 5209, 'placing': 5210, 'strengthening': 5211, 'ghostwriter': 5212, 'sterling': 5213, 'missionhills': 5214, 'nurse': 5215, 'bundle': 5216, 'kalle': 5217, 'mattson': 5218, 'condemnation': 5219, 'outfit': 5220, 'mischief': 5221, 'mina': 5222, 'raiders': 5223, 'count': 5224, 'dante': 5225, 'balls': 5226, 'dailyko': 5227, 'gameplay': 5228, 'bets': 5229, 'therapies': 5230, 'boeing': 5231, 'thankful': 5232, 'tunes': 5233, 'facilities': 5234, 'affect': 5235, 'jail': 5236, 'drew': 5237, 'talkradio': 5238, 'cee': 5239, 'pendleton': 5240, 'drifting': 5241, 'commute': 5242, 'host': 5243, 'actress': 5244, 'theory': 5245, 'dwarves': 5246, 'ergo': 5247, 'rotator': 5248, 'cuff': 5249, 'penalty': 5250, 'lyrics': 5251, 'douchebag': 5252, 'confirmation': 5253, 'showing': 5254, 'bethlehem': 5255, 'quartz': 5256, 'nylon': 5257, 'fabric': 5258, 'thirst': 5259, 'bago': 5260, 'socialnews': 5261, 'wolf': 5262, 'govern': 5263, 'quotes': 5264, 'auckland': 5265, 'northland': 5266, 'pitcher': 5267, 'mississauga': 5268, 'askcharley': 5269, 'devast': 5270, 'rioters': 5271, 'dom': 5272, 'watertown': 5273, 'roh': 5274, 'bunch': 5275, 'scenes': 5276, 'difference': 5277, 'dears': 5278, 'playstation': 5279, 'ashayo': 5280, 'wide': 5281, 'description': 5282, 'goku': 5283, 'turkmen': 5284, 'offices': 5285, 'coal': 5286, 'commerce': 5287, 'ymcglaun': 5288, 'yelling': 5289, 'nwajlicr': 5290, 'phixznvyn': 5291, 'wheeler': 5292, 'cleric': 5293, 'tanzania': 5294, 'declined': 5295, 'census': 5296, 'breakfast': 5297, 'responder': 5298, 'commit': 5299, 'idfir': 5300, 'instant': 5301, 'hannaph': 5302, 'emails': 5303, 'eric': 5304, 'inevitable': 5305, 'marijuana': 5306, 'surrounding': 5307, 'abusing': 5308, 'obispo': 5309, 'rice': 5310, 'ori': 5311, 'cubs': 5312, 'sur': 5313, 'otrametlife': 5314, 'asylum': 5315, 'revenues': 5316, 'teslas': 5317, 'brewing': 5318, 'poland': 5319, 'buying': 5320, 'lighting': 5321, 'believ': 5322, 'technolog': 5323, 'medals': 5324, 'killings': 5325, 'native': 5326, 'dutton': 5327, 'auspol': 5328, 'monkeys': 5329, 'rutherford': 5330, 'pl': 5331, 'fossil': 5332, 'injur': 5333, 'breathe': 5334, 'surfers': 5335, 'hated': 5336, 'terrifying': 5337, 'enabled': 5338, 'threw': 5339, 'nude': 5340, 'andy': 5341, 'signing': 5342, 'woodlawn': 5343, 'construction': 5344, 'laundry': 5345, 'alloy': 5346, 'vampodgyw': 5347, 'zevakjapcz': 5348, 'thund': 5349, 'emotions': 5350, 'temptation': 5351, 'dis': 5352, 'helsinki': 5353, 'knocking': 5354, 'tremor': 5355, 'soft': 5356, 'eudrylantiqua': 5357, 'salvi': 5358, 'bistro': 5359, 'regional': 5360, 'identitytheft': 5361, 'knob': 5362, 'committee': 5363, 'personnel': 5364, 'arrestpastornganga': 5365, 'damaging': 5366, 'vibez': 5367, 'listenl': 5368, 'define': 5369, 'guaranteed': 5370, 'bashes': 5371, 'iranians': 5372, 'shouting': 5373, 'voodoo': 5374, 'derails': 5375, 'delays': 5376, 'fit': 5377, 'stomach': 5378, 'supreme': 5379, 'harwich': 5380, 'raynor': 5381, 'imperfect': 5382, 'slides': 5383, 'northwest': 5384, 'abortion': 5385, 'friggin': 5386, 'rapp': 5387, 'sanchez': 5388, 'insas': 5389, 'aogashima': 5390, 'niece': 5391, 'fri': 5392, 'witness': 5393, 'gaining': 5394, 'soak': 5395, 'mutant': 5396, 'talent': 5397, 'survey': 5398, 'ministers': 5399, 'fennovoima': 5400, 'fixed': 5401, 'uptown': 5402, 'describing': 5403, 'naval': 5404, 'palermo': 5405, 'occurs': 5406, 'targeted': 5407, 'jacket': 5408, 'unrelenting': 5409, 'careless': 5410, 'campfir': 5411, 'cnew': 5412, 'minimehh': 5413, 'cjoyner': 5414, 'overlooking': 5415, 'blacklivesmatt': 5416, 'onlin': 5417, 'suspense': 5418, 'addiction': 5419, 'ads': 5420, 'cawx': 5421, 'soo': 5422, 'hall': 5423, 'deeds': 5424, 'rape': 5425, 'chose': 5426, 'zak': 5427, 'bagans': 5428, 'thetwister': 5429, 'costly': 5430, 'wce': 5431, 'paid': 5432, 'dudes': 5433, 'ally': 5434, 'urs': 5435, 'rs': 5436, 'robert': 5437, 'snowden': 5438, 'katrina': 5439, 'peanut': 5440, 'bundled': 5441, 'react': 5442, 'darkest': 5443, 'slammed': 5444, 'lifting': 5445, 'section': 5446, 'greek': 5447, 'wmv': 5448, 'sis': 5449, 'favourite': 5450, 'suit': 5451, 'conspiracy': 5452, 'comp': 5453, 'editorial': 5454, 'cas': 5455, 'ky': 5456, 'precipitation': 5457, 'measurement': 5458, 'nasahurricane': 5459, 'misses': 5460, 'releas': 5461, 'mosquito': 5462, 'meinlcymbals': 5463, 'medium': 5464, 'wheel': 5465, 'medicine': 5466, 'abomination': 5467, 'maketh': 5468, 'architect': 5469, 'network': 5470, 'belief': 5471, 'bumper': 5472, 'zones': 5473, 'uniform': 5474, 'landslid': 5475, 'base': 5476, 'stressed': 5477, 'hysteria': 5478, 'indifference': 5479, 'shutdown': 5480, 'usnwsgov': 5481, 'formed': 5482, 'hospitals': 5483, 'mooresville': 5484, 'iredell': 5485, 'hs': 5486, 'wowo': 5487, 'interstate': 5488, 'rohnertparkdps': 5489, 'instructions': 5490, 'loaded': 5491, 'songs': 5492, 'simultaneous': 5493, 'humanity': 5494, 'babes': 5495, 'tub': 5496, 'zdtoydebj': 5497, 'despair': 5498, 'joint': 5499, 'overwork': 5500, 'bengal': 5501, 'mamata': 5502, 'banerjee': 5503, 'dvc': 5504, 'surprised': 5505, 'thu': 5506, 'eaten': 5507, 'vivian': 5508, 'venice': 5509, 'yugvani': 5510, 'cancels': 5511, 'engvaus': 5512, 'silence': 5513, 'shira': 5514, 'contained': 5515, 'uniforms': 5516, 'genuine': 5517, 'edit': 5518, 'whoa': 5519, 'abe': 5520, 'interviews': 5521, 'improve': 5522, 'demonstratio': 5523, 'fdny': 5524, 'closest': 5525, 'sippin': 5526, 'gd': 5527, 'stout': 5528, 'bestseller': 5529, 'incase': 5530, 'electro': 5531, 'adam': 5532, 'circus': 5533, 'tryout': 5534, 'pathogen': 5535, 'ronaldo': 5536, 'lionel': 5537, 'messi': 5538, 'def': 5539, 'reaching': 5540, 'prez': 5541, 'in': 5542, 'handling': 5543, 'spectacular': 5544, 'tor': 5545, 'dolphin': 5546, 'mentally': 5547, 'ford': 5548, 'forbes': 5549, 'phon': 5550, 'mf': 5551, 'earners': 5552, 'theadvocatemag': 5553, 'squeeze': 5554, 'lavenderpoetrycafe': 5555, 'njturnpike': 5556, 'asshole': 5557, 'bean': 5558, 'elect': 5559, 'panel': 5560, 'golem': 5561, 'peopl': 5562, 'lifestyle': 5563, 'pluto': 5564, 'hood': 5565, 'sto': 5566, 'wipp': 5567, 'peak': 5568, 'grandeur': 5569, 'fireman': 5570, 'explodes': 5571, 'autistic': 5572, 'popular': 5573, 'expand': 5574, 'restaurant': 5575, 'novoa': 5576, 'numb': 5577, 'saint': 5578, 'prone': 5579, 'dothraki': 5580, 'eggs': 5581, 'midget': 5582, 'dixon': 5583, 'irand': 5584, 'softenza': 5585, 'boi': 5586, 'wpri': 5587, 'usar': 5588, 'saku': 5589, 'marek': 5590, 'fgdehplo': 5591, 'dzfzymi': 5592, 'lightseraphs': 5593, 'pikachu': 5594, 'nicolaclements': 5595, 'covering': 5596, 'scabs': 5597, 'solut': 5598, 'kabwandi': 5599, 'kasich': 5600, 'mayoroflondon': 5601, 'compulsory': 5602, 'notrocketsci': 5603, 'doctordryadma': 5604, 'mixxtail': 5605, 'watermelon': 5606, 'loko': 5607, 'brittsand': 5608, 'jdrikfx': 5609, 'hngswab': 5610, 'npenlg': 5611, 'kushwush': 5612, 'hog': 5613, 'alcoholandmetal': 5614, 'trusted': 5615, 'gktshiorr': 5616, 'jeuukoi': 5617, 'vtscayibc': 5618, 'radical': 5619, 'xgkyvftf': 5620, 'lennonparham': 5621, 'jessica': 5622, 'stclair': 5623, 'gilmoreguysshow': 5624, 'podcast': 5625, 'ihaveepisodesofgg': 5626, 'nojok': 5627, 'abceyewitness': 5628, 'hometownglori': 5629, 'unite': 5630, 'freesikhpoliticalprisnors': 5631, 'bapusuratsingh': 5632, 'garbanzobean': 5633, 'cutest': 5634, 'indot': 5635, 'bias': 5636, 'gktqvqbk': 5637, 'kmactwn': 5638, 'meaganerd': 5639, 'cereal': 5640, 'kellogg': 5641, 'sugar': 5642, 'stays': 5643, 'crunchy': 5644, 'htjpypsg': 5645, 'ashenforest': 5646, 'floorburnt': 5647, 'manzanita': 5648, 'timber': 5649, 'fympiwp': 5650, 'utrixrjq': 5651, 'vzydmvd': 5652, 'kxslftzi': 5653, 'builder': 5654, 'blackmail': 5655, 'invzices': 5656, 'sllikely': 5657, 'jesse': 5658, 'suffers': 5659, 'rutnewlna': 5660, 'oct': 5661, 'bzjwgmaiw': 5662, 'protestors': 5663, 'skyscrapers': 5664, 'crcnrwvkj': 5665, 'legacyofthesith': 5666, 'sagacioussaber': 5667, 'lordofbetrayal': 5668, 'crescent': 5669, 'formation': 5670, 'trails': 5671, 'firemen': 5672, 'summertime': 5673, 'hcyajsacfj': 5674, 'nssjprpdd': 5675, 'sjkgjxffr': 5676, 'consumes': 5677, 'increasing': 5678, 'lswsitnkuk': 5679, 'wacfvq': 5680, 'bangtan': 5681, 'bt': 5682, 'testified': 5683, 'vxvfaeeyq': 5684, 'censor': 5685, 'pgyiciu': 5686, 'anthonys': 5687, 'tuicruises': 5688, 'aida': 5689, 'faroe': 5690, 'islands': 5691, 'afgzfmzh': 5692, 'stronger': 5693, 'thomassmonson': 5694, 'lds': 5695, 'mormon': 5696, 'mrvxbzywd': 5697, 'stavernise': 5698, 'delivered': 5699, 'khcqpuo': 5700, 'wyrmwood': 5701, 'component': 5702, 'czbohrd': 5703, 'ayhoka': 5704, 'jennifer': 5705, 'aniston': 5706, 'yejtsbm': 5707, 'rcqacnb': 5708, 'thee': 5709, 'thou': 5710, 'idqcfjycym': 5711, 'nikostar': 5712, 'abject': 5713, 'subway': 5714, 'chiasson': 5715, 'sens': 5716, 'coloradoavalanche': 5717, 'bklagma': 5718, 'bkdgcfsuiq': 5719, 'briannafrost': 5720, 'paxton': 5721, 'helen': 5722, 'joined': 5723, 'confesses': 5724, 'tmzxngq': 5725, 'dynastic': 5726, 'yrknephgu': 5727, 'dumuzid': 5728, 'wander': 5729, 'brace': 5730, 'depressed': 5731, 'hexpcotn': 5732, 'melted': 5733, 'cube': 5734, 'omsril': 5735, 'tpoaprjudp': 5736, 'raheel': 5737, 'sharif': 5738, 'chitral': 5739, 'lauded': 5740, 'fwo': 5741, 'opera': 5742, 'jj': 5743, 'dirty': 5744, 'mlstransfers': 5745, 'greggmair': 5746, 'gio': 5747, 'skc': 5748, 'nycfc': 5749, 'besziork': 5750, 'juiityfvo': 5751, 'wwxcobzi': 5752, 'isjkwsd': 5753, 'sihqpluidw': 5754, 'darchambau': 5755, 'azfnvrl': 5756, 'beconfident': 5757, 'wb': 5758, 'compensations': 5759, 'wmdihdizr': 5760, 'palinfoen': 5761, 'palestin': 5762, 'hhahaha': 5763, 'outright': 5764, 'flatten': 5765, 'jusreign': 5766, 'hxmc': 5767, 'disowned': 5768, 'kasab': 5769, 'disowns': 5770, 'hgdrksn': 5771, 'cqlmjojop': 5772, 'shaper': 5773, 'width': 5774, 'adjustable': 5775, 'cpczxohb': 5776, 'entertain': 5777, 'kamindoz': 5778, 'xrdwrcdvm': 5779, 'fxtfflaxi': 5780, 'decisionsondecis': 5781, 'gajtugaui': 5782, 'knomgpfiz': 5783, 'sunflower': 5784, 'vlnmklwwby': 5785, 'peofj': 5786, 'ckosova': 5787, 'bgerljamte': 5788, 'spuhuvgasi': 5789, 'sourmashnumber': 5790, 'tomfromireland': 5791, 'rfcgeom': 5792, 'bbctalkback': 5793, 'succeed': 5794, 'whugaemc': 5795, 'vortex': 5796, 'catcher': 5797, 'oiywrzlz': 5798, 'cantwaittoplayinminneapoli': 5799, 'bjojvmpjx': 5800, 'whoclhbf': 5801, 'ensure': 5802, 'treatmen': 5803, 'followm': 5804, 'forrestmankins': 5805, 'svgtkhwv': 5806, 'cimubweyib': 5807, 'rfstsbd': 5808, 'frustration': 5809, 'grupdates': 5810, 'fqcdphccg': 5811, 'hgf': 5812, 'uh': 5813, 'robbie': 5814, 'redsox': 5815, 'damatu': 5816, 'rzxqssun': 5817, 'lwdcrpehtn': 5818, 'xcgzcgys': 5819, 'tyucdwhg': 5820, 'rave': 5821, 'gmail': 5822, 'chaning': 5823, 'ipad': 5824, 'salute': 5825, 'harder': 5826, 'glorious': 5827, 'triumph': 5828, 'jyapul': 5829, 'remote': 5830, 'kiehjh': 5831, 'separated': 5832, 'fcjvml': 5833, 'fvyrwhuxp': 5834, 'gkyegjtk': 5835, 'personalinjury': 5836, 'otleyhour': 5837, 'klrccwct': 5838, 'qnzyisspo': 5839, 'vwpwdw': 5840, 'gospel': 5841, 'vcqicptki': 5842, 'fiction': 5843, 'lordrsbiscuits': 5844, 'eastwood': 5845, 'knobhead': 5846, 'duvuzhmvut': 5847, 'russellville': 5848, 'clarksville': 5849, 'dardanelle': 5850, 'nhaspj': 5851, 'smug': 5852, 'pizzas': 5853, 'thisispublichealth': 5854, 'wsoc': 5855, 'djufkrrtft': 5856, 'sweetiebirks': 5857, 'mirrorlady': 5858, 'slatukip': 5859, 'aside': 5860, 'alvinnelson': 5861, 'withstand': 5862, 'collisions': 5863, 'immediate': 5864, 'jamessnyder': 5865, 'sgxbeyda': 5866, 'unprepared': 5867, 'emp': 5868, 'possess': 5869, 'shed': 5870, 'polluted': 5871, 'abort': 5872, 'hick': 5873, 'pfft': 5874, 'unhinged': 5875, 'machismo': 5876, 'bullshit': 5877, 'smtwrumq': 5878, 'technews': 5879, 'puledo': 5880, 'upd': 5881, 'cllrraymogford': 5882, 'comprehensive': 5883, 'waking': 5884, 'kooks': 5885, 'qwrrfdgxcc': 5886, 'sstjbepqn': 5887, 'capsize': 5888, 'ronge': 5889, 'sask': 5890, 'bushman': 5891, 'zimbabwe': 5892, 'palmer': 5893, 'cecil': 5894, 'commentes': 5895, 'qwiihnmchr': 5896, 'imad': 5897, 'warrior': 5898, 'transgender': 5899, 'brinco': 5900, 'beacon': 5901, 'nxkumhwd': 5902, 'tcjfckxdzl': 5903, 'emtxtgoc': 5904, 'everydaynaija': 5905, 'nonmclp': 5906, 'dua': 5907, 'econom': 5908, 'zsqmihek': 5909, 'fluctuations': 5910, 'disturbances': 5911, 'imbalances': 5912, 'margaret': 5913, 'wheatley': 5914, 'tuesday': 5915, 'knocked': 5916, 'yday': 5917, 'inbetween': 5918, 'inspi': 5919, 'jywfygclhm': 5920, 'ieizh': 5921, 'tfeanwhhh': 5922, 'sjicbhzfo': 5923, 'damp': 5924, 'qnh': 5925, 'takin': 5926, 'swells': 5927, 'gwiq': 5928, 'casp': 5929, 'gary': 5930, 'entrances': 5931, 'vbqmzapwj': 5932, 'ceyjnybfn': 5933, 'gtgffsex': 5934, 'argue': 5935, 'soonergrunt': 5936, 'fierc': 5937, 'episodes': 5938, 'nigh': 5939, 'paraguay': 5940, 'awwxtyjb': 5941, 'abgctvfua': 5942, 'qwnglkos': 5943, 'airhorn': 5944, 'ripped': 5945, 'hole': 5946, 'eytay': 5947, 'neursis': 5948, 'zyrzxdfki': 5949, 'avi': 5950, 'header': 5951, 'eiqqhregz': 5952, 'insur': 5953, 'nqiobczkrt': 5954, 'cicptkna': 5955, 'whistleblower': 5956, 'ipwysnikg': 5957, 'ieksnfsby': 5958, 'vwcfslkrw': 5959, 'onpnbxzex': 5960, 'umicnet': 5961, 'weekends': 5962, 'vnnizzuz': 5963, 'observations': 5964, 'pccwsgcyma': 5965, 'yumiko': 5966, 'woah': 5967, 'lenkaiswaifu': 5968, 'piracy': 5969, 'slavery': 5970, 'purely': 5971, 'historical': 5972, 'mccauleysdesign': 5973, 'abysmaljoiner': 5974, 'dyamiplotke': 5975, 'purpose': 5976, 'uqnjnky': 5977, 'qlnnmxzfqk': 5978, 'ndvxega': 5979, 'aminespn': 5980, 'mencius': 5981, 'buddha': 5982, 'urbanisation': 5983, 'brahmans': 5984, 'dominance': 5985, 'sayn': 5986, 'ae': 5987, 'photoset': 5988, 'littlebitofbass': 5989, 'silinski': 5990, 'sheeran': 5991, 'premiere': 5992, 'iosthxlcyv': 5993, 'hgcbxukz': 5994, 'kopkcyvtt': 5995, 'buren': 5996, 'kjsvwgbv': 5997, 'okcfox': 5998, 'pantofel': 5999, 'sms': 6000, 'dthneezupe': 6001, 'pnpizodi': 6002, 'invented': 6003, 'insomniacs': 6004, 'ltvvpflsg': 6005, 'testimony': 6006, 'conflicts': 6007, 'tactics': 6008, 'corruption': 6009, 'infiltration': 6010, 'cyuzxwoh': 6011, 'standwithpp': 6012, 'hxdgdho': 6013, 'ajzawi': 6014, 'nrdpjgyl': 6015, 'tidalhifi': 6016, 'mzqqpaig': 6017, 'iso': 6018, 'psp': 6019, 'hbpnfoawii': 6020, 'curls': 6021, 'exercises': 6022, 'greec': 6023, 'oqpsvrgbjc': 6024, 'sxmlgxdvx': 6025, 'rlnwkeg': 6026, 'atleast': 6027, 'jocelyn': 6028, 'rptvfuhx': 6029, 'npckktleq': 6030, 'infinitegrace': 6031, 'poni': 6032, 'collideworship': 6033, 'vnzybfgzcm': 6034, 'bastards': 6035, 'fullscreen': 6036, 'censorship': 6037, 'nmtlpob': 6038, 'indo': 6039, 'pact': 6040, 'xkurdryev': 6041, 'channelstv': 6042, 'intel': 6043, 'icuovl': 6044, 'jaqsloxu': 6045, 'fanfiction': 6046, 'trixie': 6047, 'pageshi': 6048, 'proxies': 6049, 'nhtgtz': 6050, 'promo': 6051, 'ye': 6052, 'scotrail': 6053, 'bloke': 6054, 'hassl': 6055, 'kakympco': 6056, 'zqmtrbkas': 6057, 'yeqqbzxg': 6058, 'kmvrzasxi': 6059, 'heheh': 6060, 'incitement': 6061, 'beinart': 6062, 'otoooedt': 6063, 'unconsci': 6064, 'ucsudkqd': 6065, 'raidersreporter': 6066, 'galaxy': 6067, 'yaoexngw': 6068, 'tsutomi': 6069, 'yamaguchi': 6070, 'otd': 6071, 'daalpenzp': 6072, 'hopefulbatgirl': 6073, 'beaten': 6074, 'ghul': 6075, 'escap': 6076, 'kaiseiw': 6077, 'brewer': 6078, 'hhllqckcep': 6079, 'xppqnyhiwc': 6080, 'tlolpakz': 6081, 'bgajoaxp': 6082, 'fps': 6083, 'kjmgteeklp': 6084, 'xmdhocpda': 6085, 'withering': 6086, 'undermine': 6087, 'mustering': 6088, 'byproduct': 6089, 'czwjwuvi': 6090, 'fgcu': 6091, 'closing': 6092, 'unaware': 6093, 'sanitizing': 6094, 'sites': 6095, 'yrvgykdbm': 6096, 'brb': 6097, 'tuiuwbvvp': 6098, 'hacked': 6099, 'bucks': 6100, 'nsf': 6101, 'burma': 6102, 'enduring': 6103, 'unrest': 6104, 'ay': 6105, 'kathrynschulz': 6106, 'lucysforsale': 6107, 'waited': 6108, 'cab': 6109, 'dren': 6110, 'fhkhcqplj': 6111, 'biggangvh': 6112, 'holymileyray': 6113, 'mooniighthunty': 6114, 'careers': 6115, 'activision': 6116, 'cognizant': 6117, 'gknrpeq': 6118, 'landsli': 6119, 'tgaoqfp': 6120, 'ubfrurafc': 6121, 'alnvdx': 6122, 'wraqtum': 6123, 'settingsuccess': 6124, 'smallbusiness': 6125, 'yswalzvjg': 6126, 'cocker': 6127, 'spaniels': 6128, 'rjrmwnzi': 6129, 'toooooo': 6130, 'bck': 6131, 'naaa': 6132, 'sore': 6133, 'jfsdpfa': 6134, 'atm': 6135, 'christianvalues': 6136, 'kpdpoaf': 6137, 'roofers': 6138, 'prompt': 6139, 'mfeyzoaw': 6140, 'shedding': 6141, 'ypetodx': 6142, 'caaaaaal': 6143, 'sweated': 6144, 'fwqfckncqw': 6145, 'tricky': 6146, 'dicky': 6147, 'miusvpxqt': 6148, 'rosenthal': 6149, 'josie': 6150, 'splifs': 6151, 'elrehjlj': 6152, 'engineermatarai': 6153, 'ate': 6154, 'mataas': 6155, 'kc': 6156, 'dwilliams': 6157, 'ieansquad': 6158, 'nuwrpd': 6159, 'reafs': 6160, 'drama': 6161, 'tennis': 6162, 'defending': 6163, 'champ': 6164, 'svetlana': 6165, 'kuznetsova': 6166, 'withdraws': 6167, 'citi': 6168, 'imhdsklq': 6169, 'uftstzx': 6170, 'demonstrations': 6171, 'cautious': 6172, 'jejcxctmp': 6173, 'lfbdhtgqwg': 6174, 'deepak': 6175, 'chopra': 6176, 'ethgagpyg': 6177, 'japton': 6178, 'poss': 6179, 'timxbif': 6180, 'justicemalala': 6181, 'nkeajresq': 6182, 'nkea': 6183, 'gambia': 6184, 'mercenary': 6185, 'judg': 6186, 'mtmkimwiyi': 6187, 'simmons': 6188, 'camden': 6189, 'handsome': 6190, 'jnozkv': 6191, 'tbxcakdrw': 6192, 'collateral': 6193, 'thewesterngaz': 6194, 'worldwatchesferguson': 6195, 'govjaynixon': 6196, 'clairecmc': 6197, 'citizen': 6198, 'lima': 6199, 'xqrlewiax': 6200, 'cpsesqwm': 6201, 'explosive': 6202, 'tween': 6203, 'septemb': 6204, 'humboldt': 6205, 'cty': 6206, 'sheriff': 6207, 'residence': 6208, 'lassics': 6209, 'eruzbuqzyu': 6210, 'column': 6211, 'yqgpvwgx': 6212, 'kerricktri': 6213, 'greateranglia': 6214, 'fault': 6215, 'stvmlly': 6216, 'safferoonicle': 6217, 'yel': 6218, 'rqipgqslt': 6219, 'ltz': 6220, 'kqaeapb': 6221, 'carfest': 6222, 'tcfledv': 6223, 'umexouhh': 6224, 'starflame': 6225, 'susanj': 6226, 'msnbc': 6227, 'allinwithchris': 6228, 'bsg': 6229, 'sufficiently': 6230, 'hyped': 6231, 'laylovetournay': 6232, 'ryrotheunaware': 6233, 'groaning': 6234, 'meekmill': 6235, 'alllivesmatter': 6236, 'blacklivesmatter': 6237, 'gurmeetramrahim': 6238, 'msgdoingwelfareworks': 6239, 'appx': 6240, 'har': 6241, 'liye': 6242, 'tyar': 6243, 'hai': 6244, 'onvddnkg': 6245, 'utp': 6246, 'vsqqsvgni': 6247, 'itsdanie': 6248, 'noooo': 6249, 'fxdhubq': 6250, 'yzhvobgocq': 6251, 'raishimi': 6252, 'amtalia': 6253, 'sgc': 6254, 'opportunity': 6255, 'siqrguka': 6256, 'cygep': 6257, 'metallica': 6258, 'prohibits': 6259, 'decks': 6260, 'kezsnaml': 6261, 'spokane': 6262, 'struggling': 6263, 'qbskwzk': 6264, 'mvlziysgl': 6265, 'canadasuicide': 6266, 'ktdigmo': 6267, 'universityoflaw': 6268, 'egfskqbv': 6269, 'jilfbrufp': 6270, 'carvvgsrb': 6271, 'lanzqkxg': 6272, 'orcot': 6273, 'orpol': 6274, 'dazqamooc': 6275, 'promised': 6276, 'nukes': 6277, 'xnmxsxi': 6278, 'ryahfniq': 6279, 'insults': 6280, 'devote': 6281, 'pride': 6282, 'reprocussions': 6283, 'retroact': 6284, 'silas': 6285, 'sliced': 6286, 'headlinelike': 6287, 'chopped': 6288, 'cabbage': 6289, 'gh': 6290, 'cape': 6291, 'gtycqyfuam': 6292, 'qwdpvgjbo': 6293, 'defeater': 6294, 'yeaahh': 6295, 'bobbyxfisher': 6296, 'attent': 6297, 'gards': 6298, 'otrametlif': 6299, 'yhmregauxz': 6300, 'scvsupremecourt': 6301, 'dismisses': 6302, 'prisoner': 6303, 'quantum': 6304, 'increas': 6305, 'scofield': 6306, 'hotbox': 6307, 'sona': 6308, 'xomizqzgp': 6309, 'mtwdatd': 6310, 'bulls': 6311, 'betting': 6312, 'rebound': 6313, 'yggzzizo': 6314, 'victorinox': 6315, 'swiss': 6316, 'mop': 6317, 'yfynkkcoh': 6318, 'knehvvohvk': 6319, 'telly': 6320, 'pqcmqchng': 6321, 'grtvnew': 6322, 'taint': 6323, 'evac': 6324, 'gzegjoakkw': 6325, 'electr': 6326, 'werkqibvv': 6327, 'cxeqb': 6328, 'rhiannon': 6329, 'hungover': 6330, 'uhmmmm': 6331, 'mylittlepwnies': 6332, 'anathemazhiv': 6333, 'tonysandos': 6334, 'lebanon': 6335, 'xdescry': 6336, 'trusty': 6337, 'trusti': 6338, 'comma': 6339, 'difficulties': 6340, 'osteen': 6341, 'dawgs': 6342, 'dak': 6343, 'jak': 6344, 'igyupeiu': 6345, 'ykltfjfnc': 6346, 'nuihpkui': 6347, 'ufccghm': 6348, 'micallef': 6349, 'yankees': 6350, 'troubleonmymind': 6351, 'swea': 6352, 'algtcnbaf': 6353, 'wwfqgcqyii': 6354, 'gscswyuupa': 6355, 'trained': 6356, 'urjwsvr': 6357, 'jfreteii': 6358, 'rays': 6359, 'odzgzqemf': 6360, 'damaturu': 6361, 'bbqnkqus': 6362, 'xaermbmvlv': 6363, 'drrichardbesser': 6364, 'dispers': 6365, 'aul': 6366, 'missleylaha': 6367, 'qpr': 6368, 'rorington': 6369, 'nowt': 6370, 'fergie': 6371, 'drinkers': 6372, 'weng': 6373, 'thorium': 6374, 'scandals': 6375, 'murders': 6376, 'mlysdnev': 6377, 'spies': 6378, 'vbhutwgb': 6379, 'ika': 6380, 'rvpaooz': 6381, 'recip': 6382, 'jvcxbdrj': 6383, 'muheyfdo': 6384, 'cunayyh': 6385, 'taufikcj': 6386, 'angusmacneilsnp': 6387, 'embarrassed': 6388, 'indy': 6389, 'zqrsaqrrt': 6390, 'arukvsxw': 6391, 'scotto': 6392, 'gabdcjmag': 6393, 'jyxafdknk': 6394, 'gxgmtwj': 6395, 'elation': 6396, 'pumxlvlsgm': 6397, 'yyhbbhkf': 6398, 'katunews': 6399, 'qposkpmwj': 6400, 'mtqjsvupwi': 6401, 'rdxcfgqem': 6402, 'shootings': 6403, 'explosions': 6404, 'thrown': 6405, 'baffles': 6406, 'ybypievn': 6407, 'hellotybeeren': 6408, 'handside': 6409, 'idiot': 6410, 'daviesmutia': 6411, 'hrsfazuji': 6412, 'vlnjnolnme': 6413, 'ifrogfjri': 6414, 'natalie': 6415, 'stavola': 6416, 'lh': 6417, 'indiefilm': 6418, 'dwpmfb': 6419, 'oooureli': 6420, 'tolerance': 6421, 'iraqis': 6422, 'mutilated': 6423, 'immens': 6424, 'catfishmtv': 6425, 'tailor': 6426, 'kay': 6427, 'robbed': 6428, 'eatfrodx': 6429, 'wayward': 6430, 'surveys': 6431, 'qzloremft': 6432, 'conklin': 6433, 'shuffled': 6434, 'tjnegyk': 6435, 'stjpzi': 6436, 'produces': 6437, 'peterhowenecn': 6438, 'necn': 6439, 'gleejyjky': 6440, 'wqtdnpwa': 6441, 'tortur': 6442, 'silverstar': 6443, 'romero': 6444, 'cared': 6445, 'petebests': 6446, 'dessicated': 6447, 'kneel': 6448, 'parked': 6449, 'modestmouseremix': 6450, 'truestori': 6451, 'ybsizarg': 6452, 'iizvyqyc': 6453, 'gexhzuvk': 6454, 'twit': 6455, 'depression': 6456, 'asphalt': 6457, 'anriombhqn': 6458, 'cameronciletti': 6459, 'tigersjostun': 6460, 'tyyfgqqvm': 6461, 'trois': 6462, 'rivieres': 6463, 'legionstrackandfield': 6464, 'puexnznqb': 6465, 'cdvdssofn': 6466, 'locked': 6467, 'jogger': 6468, 'victoriagittins': 6469, 'tides': 6470, 'jcibenckz': 6471, 'nrbnhmtd': 6472, 'safyuan': 6473, 'citation': 6474, 'possesion': 6475, 'decriminalized': 6476, 'substance': 6477, 'fiendnikki': 6478, 'hkxyzhvmq': 6479, 'kidding': 6480, 'ioryakon': 6481, 'statistically': 6482, 'scalpium': 6483, 'jwseptxga': 6484, 'qwgiwcwz': 6485, 'vacancies': 6486, 'graysondolan': 6487, 'xxkhjysnp': 6488, 'jevhknjgbx': 6489, 'norfolk': 6490, 'xxhlbxji': 6491, 'eqmtkrl': 6492, 'cpeqvlna': 6493, 'gnwt': 6494, 'rvsyxwjcp': 6495, 'xxjxvtj': 6496, 'wsls': 6497, 'childcare': 6498, 'jennasjems': 6499, 'patrickwsl': 6500, 'joelsherman': 6501, 'chipper': 6502, 'corii': 6503, 'spoil': 6504, 'lgizrucy': 6505, 'wishlist': 6506, 'hgedwxtdjn': 6507, 'ohmygoshi': 6508, 'metrobus': 6509, 'bbttdvjw': 6510, 'vivid': 6511, 'triad': 6512, 'jmuuyamdu': 6513, 'guthrie': 6514, 'hcwrkp': 6515, 'router': 6516, 'ddos': 6517, 'vxxmvgtzvg': 6518, 'gaming': 6519, 'jrdwyjwu': 6520, 'mkzpzfkl': 6521, 'convers': 6522, 'ictyosaur': 6523, 'isao': 6524, 'hashimoto': 6525, 'atomicbomb': 6526, 'vthiecc': 6527, 'colts': 6528, 'patriots': 6529, 'whine': 6530, 'cantmakeitup': 6531, 'patriotsnation': 6532, 'tpwgpmhq': 6533, 'adamnibloe': 6534, 'affiliation': 6535, 'cqnow': 6536, 'illustrated': 6537, 'horrifying': 6538, 'gzibmawmn': 6539, 'qllkofdyzx': 6540, 'rgjjumnnah': 6541, 'cwheate': 6542, 'ryleedowns': 6543, 'nevaehburton': 6544, 'dalailama': 6545, 'uriminzok': 6546, 'puppet': 6547, 'naemolgo': 6548, 'firmly': 6549, 'yiraneuni': 6550, 'tiny': 6551, 'wrongdejavu': 6552, 'consent': 6553, 'csx': 6554, 'xszxmwxyp': 6555, 'nmfsgkfza': 6556, 'aojuvmmf': 6557, 'jpykyoen': 6558, 'dmpl': 6559, 'cameo': 6560, 'rev': 6561, 'iubafdxey': 6562, 'aphqusvet': 6563, 'bestcomedyvine': 6564, 'oks': 6565, 'aikworbbt': 6566, 'txlege': 6567, 'eddy': 6568, 'khdozu': 6569, 'ljylxzfbi': 6570, 'orchardalley': 6571, 'les': 6572, 'repression': 6573, 'abcnorio': 6574, 'barrxugsg': 6575, 'recovered': 6576, 'airasia': 6577, 'hlvrkwgip': 6578, 'crowdtappers': 6579, 'joinvroom': 6580, 'ohhhh': 6581, 'tangletalk': 6582, 'courageous': 6583, 'surrender': 6584, 'vhmtytptgr': 6585, 'suzvwadj': 6586, 'wznbyao': 6587, 'lpmdmejs': 6588, 'mdpnipqu': 6589, 'mofo': 6590, 'unarmed': 6591, 'gunned': 6592, 'worseits': 6593, 'whiskey': 6594, 'riverroaming': 6595, 'realis': 6596, 'hastle': 6597, 'document': 6598, 'scissor': 6599, 'alexhammerstone': 6600, 'kttape': 6601, 'ktfounder': 6602, 'remymarcel': 6603, 'frofrofro': 6604, 'bzvitd': 6605, 'lattice': 6606, 'studded': 6607, 'qjkbltcxz': 6608, 'xqpnzykct': 6609, 'wmnonhxeir': 6610, 'bannuk': 6611, 'thoutaylorbrown': 6612, 'laois': 6613, 'advertised': 6614, 'igmfcmupm': 6615, 'uxcfbjmzx': 6616, 'weudlkco': 6617, 'trldskf': 6618, 'expansion': 6619, 'bard': 6620, 'egioxbabo': 6621, 'efcnivnfg': 6622, 'greater': 6623, 'comfortable': 6624, 'wufeibala': 6625, 'biulqprxk': 6626, 'fx': 6627, 'forex': 6628, 'trading': 6629, 'ennullkzm': 6630, 'bicycl': 6631, 'performance': 6632, 'chip': 6633, 'saver': 6634, 'blazer': 6635, 'icrzitqc': 6636, 'onxhkfhna': 6637, 'cooking': 6638, 'crucial': 6639, 'psychic': 6640, 'certified': 6641, 'anarchic': 6642, 'teapot': 6643, 'boironusa': 6644, 'zeno': 6645, 'glononium': 6646, 'bashing': 6647, 'nitroglycerin': 6648, 'wc': 6649, 'oswjrvxc': 6650, 'weebl': 6651, 'stepkans': 6652, 'travelling': 6653, 'inguztyg': 6654, 'tyleroakley': 6655, 'handle': 6656, 'gyzpisbiu': 6657, 'msdntkwyaf': 6658, 'simmering': 6659, 'beneath': 6660, 'concussion': 6661, 'pioneerpress': 6662, 'zlfhucxhl': 6663, 'stung': 6664, 'xasgrjswc': 6665, 'zdtcwfsx': 6666, 'freemarketeer': 6667, 'dibang': 6668, 'dries': 6669, 'bhp': 6670, 'billiton': 6671, 'hqodvdnc': 6672, 'sbee': 6673, 'fuckin': 6674, 'socialmedia': 6675, 'personalize': 6676, 'customer': 6677, 'nbizatlsmv': 6678, 'costing': 6679, 'apiece': 6680, 'purchased': 6681, 'dtdidinqyf': 6682, 'henshaw': 6683, 'fkqksosw': 6684, 'hvzlaradio': 6685, 'grid': 6686, 'avvsoinoz': 6687, 'voyruxcrin': 6688, 'mwcnvtcxvu': 6689, 'clolmorpld': 6690, 'fbakpnyn': 6691, 'lzxwoayex': 6692, 'assume': 6693, 'vogrfn': 6694, 'mkqsvpeg': 6695, 'rjebpibrz': 6696, 'kgkzqtk': 6697, 'hymofsv': 6698, 'duh': 6699, 'paovyzttw': 6700, 'overwhelming': 6701, 'fairly': 6702, 'cramming': 6703, 'tobpieym': 6704, 'slipper': 6705, 'bbxeruep': 6706, 'lalaloopsy': 6707, 'dolls': 6708, 'seed': 6709, 'sunburst': 6710, 'seashore': 6711, 'spice': 6712, 'nytyfcqo': 6713, 'hyypspnyq': 6714, 'cuqshhnb': 6715, 'bftounybw': 6716, 'jdavis': 6717, 'ayzzcupnz': 6718, 'scdnsmc': 6719, 'tellyfckngo': 6720, 'jaycootchi': 6721, 'homie': 6722, 'babality': 6723, 'gunfight': 6724, 'hdpmvef': 6725, 'owpdvcf': 6726, 'reebok': 6727, 'znsvstgwx': 6728, 'phdsquares': 6729, 'acquisitions': 6730, 'epl': 6731, 'nomissski': 6732, 'faints': 6733, 'moorlandschmbr': 6734, 'xvcoslxhw': 6735, 'jbvmgeg': 6736, 'stark': 6737, 'sho': 6738, 'achieving': 6739, 'deltachildren': 6740, 'instaquote': 6741, 'quoteoftheday': 6742, 'waltdisney': 6743, 'blztzwos': 6744, 'gvmubpm': 6745, 'opener': 6746, 'guilty': 6747, 'gasping': 6748, 'giggling': 6749, 'jqsofyzp': 6750, 'fxnplio': 6751, 'youssefyamani': 6752, 'fez': 6753, 'equation': 6754, 'recipe': 6755, 'swellyjetevo': 6756, 'disneyland': 6757, 'tacos': 6758, 'oxqblwq': 6759, 'ufoqjzw': 6760, 'tgfqczey': 6761, 'shell': 6762, 'casting': 6763, 'deviating': 6764, 'dyxtmrydu': 6765, 'oroyunym': 6766, 'cjnxzdxc': 6767, 'logistics': 6768, 'enca': 6769, 'onboard': 6770, 'dnoqxcffh': 6771, 'routine': 6772, 'ghxnecd': 6773, 'weightless': 6774, 'fatburning': 6775, 'burnfat': 6776, 'aknbtuyaef': 6777, 'logic': 6778, 'courage': 6779, 'engag': 6780, 'qumcewty': 6781, 'ktkgsdhhl': 6782, 'gypsy': 6783, 'yvulizbk': 6784, 'midwest': 6785, 'uahicwpih': 6786, 'natur': 6787, 'hrips': 6788, 'corpse': 6789, 'jitt': 6790, 'lordbrathwaite': 6791, 'growingupincolorado': 6792, 'summary': 6793, 'esbsaint': 6794, 'utfir': 6795, 'xfhhxfga': 6796, 'pete': 6797, 'gemmasterful': 6798, 'hipster': 6799, 'lakeeffect': 6800, 'twill': 6801, 'denim': 6802, 'jackets': 6803, 'txtpxumqh': 6804, 'harrystyles': 6805, 'cern': 6806, 'oo': 6807, 'harrybecareful': 6808, 'phuqundqi': 6809, 'wfxbaqmbk': 6810, 'summons': 6811, 'pokemon': 6812, 'typ': 6813, 'cnxxmffra': 6814, 'scottwalker': 6815, 'ucawgulj': 6816, 'enqdfbjump': 6817, 'jamilazzaini': 6818, 'alifaditha': 6819, 'controllers': 6820, 'joonma': 6821, 'porcupine': 6822, 'iylvzycob': 6823, 'nervana': 6824, 'behaviour': 6825, 'pleasantly': 6826, 'div': 6827, 'fought': 6828, 'inkuvdntx': 6829, 'cvegtizog': 6830, 'soap': 6831, 'twain': 6832, 'ygfcqgr': 6833, 'shaw': 6834, 'hickson': 6835, 'kenneth': 6836, 'faried': 6837, 'lamarcus': 6838, 'aldridge': 6839, 'twgpmmd': 6840, 'shopping': 6841, 'lpmmtzlwp': 6842, 'mysteri': 6843, 'yicfhw': 6844, 'tmsnzvkb': 6845, 'efgrthrb': 6846, 'motors': 6847, 'edpbvio': 6848, 'tractor': 6849, 'ifmvp': 6850, 'sold': 6851, 'copi': 6852, 'flatliners': 6853, 'longevity': 6854, 'lucifer': 6855, 'wcfpznsnu': 6856, 'arrogant': 6857, 'crazyweather': 6858, 'xqbwnlbbiu': 6859, 'nephew': 6860, 'romeo': 6861, 'juliet': 6862, 'warmbodi': 6863, 'toddstarnes': 6864, 'impending': 6865, 'heh': 6866, 'cmlfzhxn': 6867, 'jakartapost': 6868, 'capeann': 6869, 'seagulls': 6870, 'triciaoneill': 6871, 'triciaoneillphoto': 6872, 'olsqdium': 6873, 'kfzvmxjst': 6874, 'oicmagasi': 6875, 'chorrxovp': 6876, 'atlbizchron': 6877, 'gzaudyha': 6878, 'pekgcsig': 6879, 'backty': 6880, 'lkuqkop': 6881, 'tna': 6882, 'appease': 6883, 'morbid': 6884, 'destinationimpact': 6885, 'captors': 6886, 'recluse': 6887, 'qstkcv': 6888, 'lifelong': 6889, 'rfbjxbiej': 6890, 'valdes': 6891, 'testy': 6892, 'pati': 6893, 'ethiopian': 6894, 'qcyqhvnha': 6895, 'ovari': 6896, 'nicole': 6897, 'fletcher': 6898, 'rubi': 6899, 'stacks': 6900, 'appli': 6901, 'benstracy': 6902, 'haunting': 6903, 'praroowia': 6904, 'elecman': 6905, 'antipozi': 6906, 'cuck': 6907, 'hmban': 6908, 'oqogmoegu': 6909, 'ssb': 6910, 'namjoon': 6911, 'bye': 6912, 'bread': 6913, 'xvqxdouvt': 6914, 'atljw': 6915, 'cnnbrk': 6916, 'aspect': 6917, 'frpbnhvpyi': 6918, 'burton': 6919, 'fjddxewj': 6920, 'messnermatthew': 6921, 'newc': 6922, 'nzifztcugl': 6923, 'jdvsgvh': 6924, 'towboat': 6925, 'vtc': 6926, 'eaaqumkkc': 6927, 'avubkrv': 6928, 'thesensualeye': 6929, 'apr': 6930, 'boobs': 6931, 'nud': 6932, 'nnyfdl': 6933, 'ujrxkgawp': 6934, 'reads': 6935, 'stuckinbooks': 6936, 'jpoyouxq': 6937, 'wfseaobato': 6938, 'directed': 6939, 'gjfdvuf': 6940, 'dragnking': 6941, 'scare': 6942, 'animatron': 6943, 'relaxinpr': 6944, 'miprv': 6945, 'ylhayfaoou': 6946, 'orangi': 6947, 'sindh': 6948, 'lebrduau': 6949, 'rescuing': 6950, 'pcntczoxv': 6951, 'nakjmeb': 6952, 'rzagdnwtah': 6953, 'uqettagscu': 6954, 'annmarieronan': 6955, 'niamhosullivanx': 6956, 'tat': 6957, 'postering': 6958, 'calgaryfringe': 6959, 'mothernature': 6960, 'yycfringe': 6961, 'killhard': 6962, 'uvqikx': 6963, 'ultimatum': 6964, 'zzpojgngaj': 6965, 'dailytimesngr': 6966, 'row': 6967, 'holed': 6968, 'oeflrc': 6969, 'oliviaapalmerr': 6970, 'thatswhatfriendsarefor': 6971, 'bowknot': 6972, 'womengirls': 6973, 'zip': 6974, 'sqmtkkjimj': 6975, 'rodptxfm': 6976, 'eversafe': 6977, 'jumper': 6978, 'bvktubj': 6979, 'garage': 6980, 'propane': 6981, 'sunnymeade': 6982, 'kfijankjb': 6983, 'mdjllxozp': 6984, 'nasasolarsystem': 6985, 'lbtshxic': 6986, 'jmkdtcymj': 6987, 'ejllzlch': 6988, 'qwsbvflp': 6989, 'rchs': 6990, 'coffins': 6991, 'tommorow': 6992, 'starmade': 6993, 'stardate': 6994, 'planetary': 6995, 'ihhviumtm': 6996, 'texting': 6997, 'messag': 6998, 'catsandsyrup': 6999, 'emts': 7000, 'minimum': 7001, 'wage': 7002, 'oaswlxmr': 7003, 'paramedics': 7004, 'ageekyfangirl': 7005, 'humor': 7006, 'farts': 7007, 'esoteric': 7008, 'astrologian': 7009, 'hector': 7010, 'bellerin': 7011, 'ecmjazai': 7012, 'wifi': 7013, 'hotspot': 7014, 'perform': 7015, 'gamer': 7016, 'backtoback': 7017, 'chargedup': 7018, 'utumvaabz': 7019, 'stormcom': 7020, 'mjtnqbgos': 7021, 'yahoofinance': 7022, 'kgplkedhr': 7023, 'qeihvndnq': 7024, 'quspvvt': 7025, 'piss': 7026, 'moan': 7027, 'choices': 7028, 'demeanor': 7029, 'staid': 7030, 'rationing': 7031, 'wvexjjrg': 7032, 'seanpeconi': 7033, 'lynchonsports': 7034, 'criscyborg': 7035, 'pyvrprnhop': 7036, 'comlgvdbv': 7037, 'bapusvjln': 7038, 'jailbreak': 7039, 'tpnmbjvg': 7040, 'lesley': 7041, 'mariiee': 7042, 'newslv': 7043, 'exdbcxgcr': 7044, 'jiomnrcygt': 7045, 'ouylwuixc': 7046, 'dratomic': 7047, 'trophies': 7048, 'dustpiggies': 7049, 'awash': 7050, 'abstract': 7051, 'dustpig': 7052, 'bamenda': 7053, 'wnamtxlfmt': 7054, 'coidvqv': 7055, 'gujnpljvvt': 7056, 'kshaiqiw': 7057, 'austinpearcy': 7058, 'fleek': 7059, 'erupting': 7060, 'pixar': 7061, 'gschqfest': 7062, 'kristindavis': 7063, 'ypvjgzqqqb': 7064, 'entering': 7065, 'pussi': 7066, 'raised': 7067, 'cdxevmzoj': 7068, 'reacts': 7069, 'izqlkpuz': 7070, 'qzqcwwwcn': 7071, 'cnni': 7072, 'prisonplanet': 7073, 'noting': 7074, 'szwlwlqu': 7075, 'blazerfan': 7076, 'ignoranceshe': 7077, 'latinoand': 7078, 'benothing': 7079, 'morebut': 7080, 'tirelessly': 7081, 'chilli': 7082, 'doritos': 7083, 'broseidonrex': 7084, 'dapurplesharpie': 7085, 'skimmed': 7086, 'fqwtsxlkrz': 7087, 'driverlesscars': 7088, 'failing': 7089, 'yield': 7090, 'dgulffjt': 7091, 'fgvnvcrrx': 7092, 'kftvnunvf': 7093, 'icsjgzte': 7094, 'fxmnlbd': 7095, 'homeworldgym': 7096, 'thisisperidot': 7097, 'nos': 7098, 'stings': 7099, 'craig': 7100, 'nvfkzvfex': 7101, 'brics': 7102, 'santaclara': 7103, 'bayarea': 7104, 'pmlohzurwr': 7105, 'reddevillife': 7106, 'kurtkamka': 7107, 'ariz': 7108, 'zpvjvdpf': 7109, 'daorcey': 7110, 'nsit': 7111, 'graywardens': 7112, 'sonofbaldwin': 7113, 'nova': 7114, 'bookslast': 7115, 'qew': 7116, 'erie': 7117, 'tkyonlyfmk': 7118, 'cnshlnjuqx': 7119, 'duckvillelol': 7120, 'flips': 7121, 'grabs': 7122, 'lnwqdj': 7123, 'runjewels': 7124, 'relations': 7125, 'loveislove': 7126, 'cevwovh': 7127, 'sxkikvx': 7128, 'msmigot': 7129, 'convincing': 7130, 'compelling': 7131, 'deniers': 7132, 'tend': 7133, 'evid': 7134, 'gallup': 7135, 'ari': 7136, 'qdmvtjlzj': 7137, 'jcyxhqaz': 7138, 'shitton': 7139, 'exclusively': 7140, 'playthrough': 7141, 'administrative': 7142, 'mtqjig': 7143, 'sioux': 7144, 'cement': 7145, 'siouxland': 7146, 'siouxlan': 7147, 'sztgmbkohg': 7148, 'mtwhjjn': 7149, 'wackoes': 7150, 'myvintagesoul': 7151, 'manservant': 7152, 'pampered': 7153, 'brit': 7154, 'revers': 7155, 'vergil': 7156, 'agnus': 7157, 'dmd': 7158, 'leedstraif': 7159, 'zhrtcvuff': 7160, 'rbxzzhxkm': 7161, 'mythgriy': 7162, 'mrjekvddp': 7163, 'iadlslqdpd': 7164, 'oysulow': 7165, 'ruby': 7166, 'pours': 7167, 'garza': 7168, 'atlas': 7169, 'leones': 7170, 'copa': 7171, 'usmnt': 7172, 'assumes': 7173, 'tnifeau': 7174, 'czbamzqgl': 7175, 'disabledveterans': 7176, 'groin': 7177, 'thepartyofmeanness': 7178, 'gztolllwo': 7179, 'joys': 7180, 'cpcchzu': 7181, 'iphazvg': 7182, 'wii': 7183, 'shantaeforsmash': 7184, 'shantaehalfgeniehero': 7185, 'nintendo': 7186, 'zztbvjypn': 7187, 'sosfamupdater': 7188, 'granted': 7189, 'lntrhwx': 7190, 'whitewalkers': 7191, 'intrigued': 7192, 'joegoodmanjr': 7193, 'copalibertadores': 7194, 'argentinean': 7195, 'tygokizz': 7196, 'citing': 7197, 'casing': 7198, 'celebrations': 7199, 'hxtuprabc': 7200, 'dqxkjibbki': 7201, 'marc': 7202, 'holl': 7203, 'nennicook': 7204, 'aitchkaycee': 7205, 'vixstuart': 7206, 'benjbeckwith': 7207, 'riddler': 7208, 'presidential': 7209, 'rich': 7210, 'handed': 7211, 'uiqsfgzoox': 7212, 'snowflake': 7213, 'qxxnrksp': 7214, 'bxwqzaor': 7215, 'upgrade': 7216, 'infrastructure': 7217, 'ngehhgyga': 7218, 'sustain': 7219, 'hibdwdja': 7220, 'determine': 7221, 'financially': 7222, 'maxi': 7223, 'erwsieldg': 7224, 'accidentalpropheci': 7225, 'kenai': 7226, 'spur': 7227, 'hbbgyvzyt': 7228, 'booze': 7229, 'displaces': 7230, 'hkwqlppt': 7231, 'pzzjssft': 7232, 'aqrnankfd': 7233, 'chibi': 7234, 'shouted': 7235, 'ksbynews': 7236, 'lilitan': 7237, 'pegibiqkw': 7238, 'eojhpdfg': 7239, 'blam': 7240, 'srsly': 7241, 'dribbling': 7242, 'urself': 7243, 'embarrass': 7244, 'ajzyvepu': 7245, 'zgynebn': 7246, 'kash': 7247, 'foundation': 7248, 'fenusyu': 7249, 'gaping': 7250, 'xafcjyec': 7251, 'mzycuiho': 7252, 'nipddx': 7253, 'egyfnlaoqv': 7254, 'pyrpojn': 7255, 'nghlth': 7256, 'gprayyc': 7257, 'topnew': 7258, 'brokenscnecal': 7259, 'iahngnhvb': 7260, 'nolesfan': 7261, 'nutsandboltssp': 7262, 'lrturwnf': 7263, 'energi': 7264, 'transwomen': 7265, 'butch': 7266, 'lesbian': 7267, 'credited': 7268, 'incit': 7269, 'rtuetdfbqb': 7270, 'csismica': 7271, 'zdpadbtsu': 7272, 'helpme': 7273, 'ticketed': 7274, 'cycle': 7275, 'summervibes': 7276, 'pitmix': 7277, 'brixton': 7278, 'banksy': 7279, 'mybabies': 7280, 'vovktxspo': 7281, 'steven': 7282, 'theme': 7283, 'upstairs': 7284, 'jlyon': 7285, 'ffvii': 7286, 'exclamation': 7287, 'midweek': 7288, 'snowy': 7289, 'scriptettesar': 7290, 'katiecool': 7291, 'ethics': 7292, 'stftjcrjea': 7293, 'unjpork': 7294, 'pattyds': 7295, 'gwfrazee': 7296, 'joshuaassaraf': 7297, 'prmtxjjdu': 7298, 'gastric': 7299, 'carcinoma': 7300, 'gene': 7301, 'senfeinstein': 7302, 'sen': 7303, 'uncontrolled': 7304, 'pardon': 7305, 'mindless': 7306, 'modelbubbles': 7307, 'cnmi': 7308, 'slowreport': 7309, 'implode': 7310, 'infowars': 7311, 'nyjbtcpm': 7312, 'moscow': 7313, 'mphogqddn': 7314, 'kabarmesir': 7315, 'badr': 7316, 'rabaa': 7317, 'observed': 7318, 'rememberrabaa': 7319, 'rss': 7320, 'spouse': 7321, 'tziolftei': 7322, 'vigilent': 7323, 'liberties': 7324, 'nativehuman': 7325, 'myreligion': 7326, 'wwutjej': 7327, 'akqrwjfvl': 7328, 'alton': 7329, 'livestream': 7330, 'nut': 7331, 'gvdfcxiz': 7332, 'joboozoso': 7333, 'usat': 7334, 'dgkmueoaxz': 7335, 'mctjnzxh': 7336, 'reflects': 7337, 'attendance': 7338, 'hanneman': 7339, 'ngcejiy': 7340, 'thursd': 7341, 'ibypekaz': 7342, 'rotten': 7343, 'tomatoes': 7344, 'jddnhmrmmj': 7345, 'rottentomato': 7346, 'mazda': 7347, 'cuxkizwm': 7348, 'snxghru': 7349, 'mpoaefqlk': 7350, 'josephjett': 7351, 'itss': 7352, 'selenaluna': 7353, 'rises': 7354, 'iqjzjxx': 7355, 'goz': 7356, 'manually': 7357, 'ru': 7358, 'domains': 7359, 'kelly': 7360, 'devinjoslyn': 7361, 'kxewlhhuw': 7362, 'requiem': 7363, 'cplyrewfz': 7364, 'bkuylcxg': 7365, 'mumbaitim': 7366, 'greenbuildermag': 7367, 'webinar': 7368, 'xmsvohkccp': 7369, 'firewise': 7370, 'tutorial': 7371, 'ianczlif': 7372, 'ogtuvplht': 7373, 'eofwxnpj': 7374, 'skywarn': 7375, 'slam': 7376, 'knocks': 7377, 'skyeokggb': 7378, 'iyzsdaxb': 7379, 'amoejxqya': 7380, 'lastingness': 7381, 'acquiesce': 7382, 'retreat': 7383, 'ziuw': 7384, 'irtkkgsjx': 7385, 'calfee': 7386, 'mattburgener': 7387, 'motivation': 7388, 'wphauhei': 7389, 'zombies': 7390, 'huthxlkyxi': 7391, 'knives': 7392, 'ojoubot': 7393, 'dmtabgj': 7394, 'zilbynu': 7395, 'jmdsow': 7396, 'justintrudeau': 7397, 'jrtfdtx': 7398, 'khqa': 7399, 'newyear': 7400, 'yuojdnijx': 7401, 'tgejcay': 7402, 'convene': 7403, 'awards': 7404, 'gis': 7405, 'tydry': 7406, 'gisuserpr': 7407, 'geotech': 7408, 'njenga': 7409, 'razing': 7410, 'ywkkarag': 7411, 'lawsonofficial': 7412, 'followed': 7413, 'thankyou': 7414, 'cancelled': 7415, 'penny': 7416, 'womem': 7417, 'mommyisbomb': 7418, 'urban': 7419, 'semwcqdg': 7420, 'owjeiygn': 7421, 'kinetic': 7422, 'typography': 7423, 'flgciaj': 7424, 'dvonwivl': 7425, 'nashsnewvideo': 7426, 'epzwaseyky': 7427, 'cfevtrscu': 7428, 'ugakxch': 7429, 'zhenghxn': 7430, 'akame': 7431, 'ghoul': 7432, 'disappears': 7433, 'lifeaintfairkid': 7434, 'brooo': 7435, 'indigoe': 7436, 'carful': 7437, 'spotting': 7438, 'baggage': 7439, 'exotic': 7440, 'jxeujp': 7441, 'bulletproof': 7442, 'funeral': 7443, 'uqssnaattu': 7444, 'oyogiiyh': 7445, 'hldxaba': 7446, 'scari': 7447, 'truediagnosis': 7448, 'physician': 7449, 'dutyzqrp': 7450, 'oznsxxvx': 7451, 'detroitpls': 7452, 'californians': 7453, 'sahel': 7454, 'chore': 7455, 'ysgvsrtg': 7456, 'hindustan': 7457, 'cczasvzh': 7458, 'adanne': 7459, 'kindly': 7460, 'soonermagic': 7461, 'thatpersianguy': 7462, 'youngsafe': 7463, 'harden': 7464, 'flopping': 7465, 'ident': 7466, 'instagramers': 7467, 'mnjvvtygn': 7468, 'dgatkrdyny': 7469, 'seagull': 7470, 'aleisstokes': 7471, 'intelligencebar': 7472, 'xqjrtli': 7473, 'jdtqnxb': 7474, 'fkhanage': 7475, 'shad': 7476, 'forsythe': 7477, 'runaway': 7478, 'minion': 7479, 'ukwofwtj': 7480, 'trad': 7481, 'authors': 7482, 'plummeting': 7483, 'flint': 7484, 'metropolis': 7485, 'highsmith': 7486, 'zvobmdxhgp': 7487, 'rlive': 7488, 'discussion': 7489, 'herring': 7490, 'scraptrid': 7491, 'martyrs': 7492, 'nuxxfpvd': 7493, 'pilgrims': 7494, 'unimpressed': 7495, 'pwdstroz': 7496, 'crqck': 7497, 'becyme': 7498, 'mayor': 7499, 'includes': 7500, 'foursquar': 7501, 'kamunt': 7502, 'nostalgia': 7503, 'youuu': 7504, 'fqwyeeec': 7505, 'moli': 7506, 'rates': 7507, 'casu': 7508, 'kclkokqia': 7509, 'saudiarabia': 7510, 'lwanevupg': 7511, 'cpqgufzb': 7512, 'msdizftzg': 7513, 'ihphzckm': 7514, 'wuicdttuhf': 7515, 'dungeon': 7516, 'janta': 7517, 'firstpostin': 7518, 'cznxhutasx': 7519, 'slab': 7520, 'ripping': 7521, 'labourleadership': 7522, 'contest': 7523, 'daborsch': 7524, 'lured': 7525, 'fanbase': 7526, 'disappointed': 7527, 'everyones': 7528, 'xeeefzfh': 7529, 'dattomm': 7530, 'funniest': 7531, 'developer': 7532, 'hldxlywbn': 7533, 'bobbyofhomewood': 7534, 'joxroundtable': 7535, 'dropping': 7536, 'witnessed': 7537, 'demons': 7538, 'kessler': 7539, 'exponential': 7540, 'proliferation': 7541, 'satellites': 7542, 'gravitymovi': 7543, 'sfakqnveta': 7544, 'poconorecord': 7545, 'emergencymgtmag': 7546, 'households': 7547, 'zlsumiess': 7548, 'tdcchnq': 7549, 'hckxjeukt': 7550, 'ebpybfhd': 7551, 'dggmbwl': 7552, 'eyrxxlp': 7553, 'jslxtqnq': 7554, 'happiness': 7555, 'randerson': 7556, 'beauti': 7557, 'addict': 7558, 'gzxipmoknb': 7559, 'strickskin': 7560, 'nickscomics': 7561, 'objective': 7562, 'biz': 7563, 'journal': 7564, 'rncvjovc': 7565, 'kirsten': 7566, 'gillibrand': 7567, 'amealamdj': 7568, 'extend': 7569, 'cncpts': 7570, 'solelinks': 7571, 'surpris': 7572, 'kkoovbkndp': 7573, 'cinla': 7574, 'windowgatribble': 7575, 'contrasts': 7576, 'foreboding': 7577, 'expansive': 7578, 'divisions': 7579, 'saturation': 7580, 'hu': 7581, 'schoolboy': 7582, 'pqdmhqr': 7583, 'ieee': 7584, 'spectrum': 7585, 'tzrbqz': 7586, 'examiner': 7587, 'ocmcvfdzkv': 7588, 'kircut': 7589, 'dope': 7590, 'dopest': 7591, 'dangerousbeans': 7592, 'phenomen': 7593, 'spacex': 7594, 'musk': 7595, 'lvizocssr': 7596, 'vazpgftmu': 7597, 'pkuamxwpm': 7598, 'pawvnjsap': 7599, 'trynna': 7600, 'surviving': 7601, 'qzcutbvkt': 7602, 'ameenshaikh': 7603, 'sureshpprabhu': 7604, 'haaretz': 7605, 'ugsbnuwc': 7606, 'mordechai': 7607, 'yehuda': 7608, 'friedman': 7609, 'ramat': 7610, 'beit': 7611, 'shemesh': 7612, 'edwelchmusic': 7613, 'unpacked': 7614, 'angelina': 7615, 'jolie': 7616, 'sef': 7617, 'aids': 7618, 'qbecjlicx': 7619, 'idaho': 7620, 'idwx': 7621, 'crmuxm': 7622, 'ehklpyip': 7623, 'paci': 7624, 'rsf': 7625, 'gag': 7626, 'kcoffbmi': 7627, 'poway': 7628, 'hcg': 7629, 'ensures': 7630, 'whensoever': 7631, 'nevermore': 7632, 'sizygwwf': 7633, 'pzicjudxo': 7634, 'kzhbzxyc': 7635, 'spxlbbdr': 7636, 'stury': 7637, 'note': 7638, 'buff': 7639, 'avjsjfftc': 7640, 'bsgrdywy': 7641, 'ndggrxyqd': 7642, 'guk': 7643, 'nnylxhinpx': 7644, 'lily': 7645, 'xo': 7646, 'cowgirl': 7647, 'sticks': 7648, 'livin': 7649, 'zoom': 7650, 'calorie': 7651, 'klondike': 7652, 'pages': 7653, 'ord': 7654, 'caitsroberts': 7655, 'barra': 7656, 'rsa': 7657, 'bd': 7658, 'bsmjhvgwd': 7659, 'bxalnedi': 7660, 'wosypvqufi': 7661, 'xwsdstjp': 7662, 'spends': 7663, 'srslcxhct': 7664, 'thnexicgq': 7665, 'halfhourhotel': 7666, 'edgarsgift': 7667, 'promotion': 7668, 'zrnair': 7669, 'holdin': 7670, 'luhan': 7671, 'exo': 7672, 'yobyf': 7673, 'splatoon': 7674, 'default': 7675, 'splattershot': 7676, 'fever': 7677, 'yxnagsqvbm': 7678, 'cwmulqu': 7679, 'juliechen': 7680, 'ukeoefmt': 7681, 'downright': 7682, 'referencereference': 7683, 'xekstrin': 7684, 'cried': 7685, 'partake': 7686, 'oyyjlukfj': 7687, 'abran': 7688, 'caballero': 7689, 'nickcannon': 7690, 'realmandyrain': 7691, 'itunesmusic': 7692, 'dehmymlpk': 7693, 'blowmandyup': 7694, 'kbexkgwr': 7695, 'atcmrjzjtp': 7696, 'elkhorn': 7697, 'walerga': 7698, 'qhqoejtu': 7699, 'kfqybkzol': 7700, 'uzyiznm': 7701, 'ijwarh': 7702, 'stripped': 7703, 'exciting': 7704, 'bjycrgfhi': 7705, 'creel': 7706, 'moron': 7707, 'brainless': 7708, 'chromsucks': 7709, 'xeni': 7710, 'ecxmoinzgu': 7711, 'ntwwdwednb': 7712, 'shania': 7713, 'dkrww': 7714, 'wakeupflorida': 7715, 'floridians': 7716, 'trophyhunt': 7717, 'jinmexaj': 7718, 'capicapricapri': 7719, 'brento': 7720, 'bento': 7721, 'wha': 7722, 'outta': 7723, 'francisunderwood': 7724, 'hoc': 7725, 'zqonuvytu': 7726, 'fionagilbert': 7727, 'zpharzyi': 7728, 'lawrence': 7729, 'meade': 7730, 'wolforth': 7731, 'altamonte': 7732, 'tphnpi': 7733, 'bicyclists': 7734, 'occupants': 7735, 'runn': 7736, 'invading': 7737, 'yqjpnquux': 7738, 'nbcnightlynews': 7739, 'foutpwgfwi': 7740, 'faved': 7741, 'thrhkhogcu': 7742, 'tzszmfqxe': 7743, 'princeoffencing': 7744, 'frickin': 7745, 'pharma': 7746, 'overloaded': 7747, 'slone': 7748, 'ripples': 7749, 'byvubgwy': 7750, 'blanksocietyx': 7751, 'favourit': 7752, 'rachelrofe': 7753, 'runkeeper': 7754, 'loseit': 7755, 'perkpearl': 7756, 'orshow': 7757, 'nucnzhp': 7758, 'vufwymwr': 7759, 'ddhworiw': 7760, 'replacement': 7761, 'cosme': 7762, 'zcvfcyy': 7763, 'gbxafymc': 7764, 'appy': 7765, 'myths': 7766, 'obscuring': 7767, 'salon': 7768, 'dlpkpktk': 7769, 'rosemarytravale': 7770, 'screwed': 7771, 'maid': 7772, 'dh': 7773, 'yqtvdsoh': 7774, 'qhujajctr': 7775, 'kai': 7776, 'forbath': 7777, 'goal': 7778, 'drsarwatzaib': 7779, 'mcourt': 7780, 'parliment': 7781, 'tnwhdki': 7782, 'thestrain': 7783, 'kaputt': 7784, 'gregory': 7785, 'wickett': 7786, 'kknnwugwt': 7787, 'charleyisqueen': 7788, 'barber': 7789, 'egg': 7790, 'weyburn': 7791, 'fentanyl': 7792, 'province': 7793, 'bqjtpid': 7794, 'kjszqaj': 7795, 'meowing': 7796, 'louder': 7797, 'missjadebrown': 7798, 'rpdaaoni': 7799, 'jtw': 7800, 'ceiaotexr': 7801, 'bolstering': 7802, 'cooperation': 7803, 'qrkfof': 7804, 'sputnikint': 7805, 'geydmkav': 7806, 'juanny': 7807, 'beisbol': 7808, 'lgm': 7809, 'marginoferror': 7810, 'rom': 7811, 'utica': 7812, 'pleasant': 7813, 'paws': 7814, 'eioqjwgeix': 7815, 'felrahbp': 7816, 'bmsxzbnk': 7817, 'apperception': 7818, 'bridgework': 7819, 'xxhjesc': 7820, 'ybhbarajxp': 7821, 'dreamoforgonon': 7822, 'teeess': 7823, 'bona': 7824, 'fide': 7825, 'cislady': 7826, 'incidental': 7827, 'gidiexclusixe': 7828, 'rgtyzbnkeo': 7829, 'bennycapricon': 7830, 'item': 7831, 'phantasmal': 7832, 'cummerbund': 7833, 'qrhjeigrq': 7834, 'autobiography': 7835, 'lawton': 7836, 'collins': 7837, 'rkhehiaf': 7838, 'qszgjfuutu': 7839, 'langtree': 7840, 'altern': 7841, 'wukcalnqm': 7842, 'tunisian': 7843, 'bardo': 7844, 'fvootqnej': 7845, 'fctrawjcyl': 7846, 'ndtv': 7847, 'suresh': 7848, 'harda': 7849, 'regr': 7850, 'qmlbodvm': 7851, 'smell': 7852, 'rotting': 7853, 'potatoes': 7854, 'smelled': 7855, 'darkreading': 7856, 'eijdxapnp': 7857, 'smb': 7858, 'relay': 7859, 'steals': 7860, 'credentials': 7861, 'enews': 7862, 'eonlinechat': 7863, 'vitaly': 7864, 'churkin': 7865, 'briliantly': 7866, 'exposes': 7867, 'klimkin': 7868, 'ttkvmvujq': 7869, 'wgasoencwc': 7870, 'roanoketim': 7871, 'thr': 7872, 'thrarchives': 7873, 'mgm': 7874, 'wpklqniqw': 7875, 'bdfxdvhq': 7876, 'rvdvjoew': 7877, 'emmychappy': 7878, 'duchovbutt': 7879, 'starbuck': 7880, 'scully': 7881, 'madmakny': 7882, 'davidduchovny': 7883, 'senators': 7884, 'gmxvutf': 7885, 'traintragedy': 7886, 'jthusynjah': 7887, 'ykelquiban': 7888, 'patricia': 7889, 'traina': 7890, 'mcclain': 7891, 'nyg': 7892, 'swayoung': 7893, 'recognised': 7894, 'simon': 7895, 'refuse': 7896, 'shovel': 7897, 'expirehc': 7898, 'eeewomx': 7899, 'scout': 7900, 'ztyzhbvzqp': 7901, 'ruhl': 7902, 'modoc': 7903, 'temporarily': 7904, 'reassign': 7905, 'kjfordays': 7906, 'yelp': 7907, 'bolsters': 7908, 'investigative': 7909, 'patients': 7910, 'eaegofdi': 7911, 'mulan': 7912, 'icrcrqm': 7913, 'wrgankom': 7914, 'tzsqeesd': 7915, 'languishing': 7916, 'exsqijfny': 7917, 'noirandeal': 7918, 'tedcruz': 7919, 'ysipkbkd': 7920, 'asianshawtyy': 7921, 'pjcoyle': 7922, 'included': 7923, 'oamqqbnic': 7924, 'royals': 7925, 'out': 7926, 'aaronthefm': 7927, 'stayed': 7928, 'wooden': 7929, 'gunning': 7930, 'heartache': 7931, 'jhupogbv': 7932, 'amaramin': 7933, 'capable': 7934, 'tevxti': 7935, 'nypoqzt': 7936, 'jarmusch': 7937, 'vampir': 7938, 'spit': 7939, 'craekcwb': 7940, 'susinesses': 7941, 'stlnd': 7942, 'zyhpdjnwg': 7943, 'lfwkuukem': 7944, 'kmnkhnz': 7945, 'stylist': 7946, 'carmi': 7947, 'kqvnutpmm': 7948, 'sayztoagm': 7949, 'vosloorus': 7950, 'gauteng': 7951, 'toyota': 7952, 'bkbgp': 7953, 'odmpeyzu': 7954, 'blaawhysct': 7955, 'ddrzjxvqn': 7956, 'wyoktftrw': 7957, 'umjprrwruu': 7958, 'studies': 7959, 'calabria': 7960, 'malta': 7961, 'hmrtqeykyi': 7962, 'petchary': 7963, 'displeased': 7964, 'spots': 7965, 'congrats': 7966, 'reggaeboyz': 7967, 'aschhfnj': 7968, 'lasted': 7969, 'standstill': 7970, 'thywbbeet': 7971, 'xzfxrglalp': 7972, 'intersections': 7973, 'ghkxup': 7974, 'boarding': 7975, 'galleria': 7976, 'apts': 7977, 'nmpnmqzg': 7978, 'irishspy': 7979, 'allies': 7980, 'sucked': 7981, 'doofus': 7982, 'diamorfiend': 7983, 'jokin': 7984, 'bestie': 7985, 'chainsaw': 7986, 'idgaf': 7987, 'auz': 7988, 'cst': 7989, 'radioriffrocks': 7990, 'pjldahdv': 7991, 'hrs': 7992, 'hump': 7993, 'wnjauarw': 7994, 'urged': 7995, 'delta': 7996, 'coun': 7997, 'hbhbxt': 7998, 'interrogation': 7999, 'uwitvbsbnc': 8000, 'csmyauna': 8001, 'onu': 8002, 'rockefeller': 8003, 'chi': 8004, 'rockefelleruniv': 8005, 'heiress': 8006, 'evade': 8007, 'prosecute': 8008, 'harvardu': 8009, 'kidnap': 8010, 'cuvkfykax': 8011, 'vcjcykqb': 8012, 'evildead': 8013, 'civilization': 8014, 'spfkekqu': 8015, 'queenwendy': 8016, 'doylech': 8017, 'persecution': 8018, 'annoucement': 8019, 'bevujeep': 8020, 'wexler': 8021, 'sanford': 8022, 'hardcover': 8023, 'kkqfkgqcy': 8024, 'smcrof': 8025, 'kpqkcgm': 8026, 'raniakhalek': 8027, 'assprgw': 8028, 'lyxrqbwn': 8029, 'ewfgpjhk': 8030, 'kach': 8031, 'bxgnqxvb': 8032, 'workspace': 8033, 'bored': 8034, 'forsee': 8035, 'badkitty': 8036, 'thisiswhywecanthaveniceth': 8037, 'freaks': 8038, 'listenlive': 8039, 'anodgxzr': 8040, 'usami': 8041, 'gfslkwth': 8042, 'luewaegpi': 8043, 'dilawri': 8044, 'vgjnahiw': 8045, 'kshsgwghfj': 8046, 'nottingham': 8047, 'kmucihrrn': 8048, 'zagbmlsfh': 8049, 'hvyxehxbmq': 8050, 'lhbzhwqb': 8051, 'sedar': 8052, 'sqoawvum': 8053, 'pageparkescorp': 8054, 'chloeunguyen': 8055, 'laurensicle': 8056, 'charstevens': 8057, 'tiara': 8058, 'marei': 8059, 'gemma': 8060, 'bowe': 8061, 'wowpsvd': 8062, 'jakegint': 8063, 'bothered': 8064, 'traditionalist': 8065, 'vagersedolla': 8066, 'uuweikdsp': 8067, 'enemi': 8068, 'tiffanyfrizzell': 8069, 'rafvrtt': 8070, 'jt': 8071, 'ruff': 8072, 'cameronhacker': 8073, 'harassed': 8074, 'sbilayqjq': 8075, 'tbqsqtmqv': 8076, 'cfxhqhvbvb': 8077, 'lvl': 8078, 'satoshis': 8079, 'dmljagotw': 8080, 'robotcoingame': 8081, 'freebitcoin': 8082, 'newsgoldcoast': 8083, 'zzweeezjug': 8084, 'kml': 8085, 'vessels': 8086, 'offshore': 8087, 'itnkbxgwlh': 8088, 'lexi': 8089, 'belle': 8090, 'kgswhsrmn': 8091, 'teamsurvivors': 8092, 'zombiefunrun': 8093, 'lgpnehkao': 8094, 'karijobe': 8095, 'tambourine': 8096, 'codycarnes': 8097, 'cibxlsf': 8098, 'tdhnzyer': 8099, 'apologies': 8100, 'uhsrtrxmm': 8101, 'ipfzwwnxxp': 8102, 'programm': 8103, 'hzpxvaqpz': 8104, 'lwpcorb': 8105, 'ojdtbrwa': 8106, 'jfxqiyivf': 8107, 'occasion': 8108, 'tn': 8109, 'psychologist': 8110, 'lgglfyrm': 8111, 'cedcugeuws': 8112, 'gap': 8113, 'shorts': 8114, 'tarbox': 8115, 'sour': 8116, 'freezer': 8117, 'dummi': 8118, 'roadworks': 8119, 'tottenham': 8120, 'tonne': 8121, 'mat': 8122, 'edna': 8123, 'jefferson': 8124, 'doris': 8125, 'sherfield': 8126, 'lnslzlmi': 8127, 'cogotiwn': 8128, 'hpzhecjvf': 8129, 'saohvjktqc': 8130, 'tozlet': 8131, 'leprosy': 8132, 'jerkface': 8133, 'lateral': 8134, 'lisp': 8135, 'ricket': 8136, 'utahcanary': 8137, 'sigh': 8138, 'grhzlk': 8139, 'cis': 8140, 'offended': 8141, 'transgendered': 8142, 'ynxnvvkcda': 8143, 'weqpesenku': 8144, 'evaded': 8145, 'csxvwxuzt': 8146, 'arizonadot': 8147, 'salado': 8148, 'crackin': 8149, 'wuhgblp': 8150, 'shingal': 8151, 'ezidigenocid': 8152, 'borrowers': 8153, 'sbhhkkzi': 8154, 'bbclaurak': 8155, 'stowing': 8156, 'aboard': 8157, 'carqeuvhh': 8158, 'mfjxhpu': 8159, 'ukohksob': 8160, 'xrgpdlswfd': 8161, 'leagues': 8162, 'newbi': 8163, 'balconi': 8164, 'childfund': 8165, 'pqhqjnztt': 8166, 'fxwsqf': 8167, 'careemergencies': 8168, 'glzmgbmw': 8169, 'easton': 8170, 'softball': 8171, 'fastpitch': 8172, 'ramajpkq': 8173, 'yghhykb': 8174, 'achievement': 8175, 'replaced': 8176, 'socket': 8177, 'rl': 8178, 's': 8179, 'hinatobot': 8180, 'wkbzo': 8181, 'brobread': 8182, 'rbgvlqpjt': 8183, 'mehwkzwtxd': 8184, 'bigperm': 8185, 'drafted': 8186, 'overall': 8187, 'utahgrizz': 8188, 'gpgtafmkt': 8189, 'allay': 8190, 'glanders': 8191, 'equestrian': 8192, 'uotpnsqpz': 8193, 'horsetalknz': 8194, 'immigrant': 8195, 'arrests': 8196, 'blfwsi': 8197, 'bestival': 8198, 'molloy': 8199, 'bikrzzbha': 8200, 'familia': 8201, 'twplnlcx': 8202, 'mauds': 8203, 'jagexsupport': 8204, 'ushuqj': 8205, 'reds': 8206, 'lightly': 8207, 'reserved': 8208, 'acted': 8209, 'flamethrower': 8210, 'tamrcwfygd': 8211, 'jaymcleanauthor': 8212, 'reveillertm': 8213, 'macabrelolita': 8214, 'amino': 8215, 'acids': 8216, 'diobzghfju': 8217, 'recal': 8218, 'jerzbmjqd': 8219, 'blockage': 8220, 'woodward': 8221, 'northbound': 8222, 'davison': 8223, 'shoalstraff': 8224, 'creationsbykole': 8225, 'cork': 8226, 'theemobrago': 8227, 'jitsu': 8228, 'hexagon': 8229, 'yelled': 8230, 'ymorpugt': 8231, 'fxuzzxte': 8232, 'benedict': 8233, 'cumberbatch': 8234, 'itbjdkrzi': 8235, 'ytiexlh': 8236, 'chicken': 8237, 'microwave': 8238, 'intead': 8239, 'applies': 8240, 'horrendous': 8241, 'sbrjqqzix': 8242, 'ariana': 8243, 'grande': 8244, 'tragedi': 8245, 'meerkat': 8246, 'periscope': 8247, 'onihimedesu': 8248, 'manga': 8249, 'triangle': 8250, 'watches': 8251, 'duststormfilm': 8252, 'shattered': 8253, 'visage': 8254, 'kccgbt': 8255, 'communicate': 8256, 'gravitychat': 8257, 'nbcnews': 8258, 'pearlharbor': 8259, 'dantwitty': 8260, 'shuts': 8261, 'eighth': 8262, 'etoffe': 8263, 'charmeuse': 8264, 'clothesless': 8265, 'precisionistic': 8266, 'vestment': 8267, 'psfda': 8268, 'sbrshccj': 8269, 'tvqkeari': 8270, 'robbiewilliams': 8271, 'asswipe': 8272, 'killers': 8273, 'feikcfxed': 8274, 'wir': 8275, 'bgrablkd': 8276, 'nxdadu': 8277, 'goetjgihop': 8278, 'soultech': 8279, 'xixbspot': 8280, 'skyline': 8281, 'lips': 8282, 'cyompzaz': 8283, 'zverhvm': 8284, 'nxszkxid': 8285, 'udkmadkuzi': 8286, 'omgmghgt': 8287, 'wtpoelrzd': 8288, 'emilyeverever': 8289, 'tiostokvx': 8290, 'graduated': 8291, 'revise': 8292, 'scenario': 8293, 'drlkebeypi': 8294, 'bbcintroducing': 8295, 'purpleturtlerdg': 8296, 'giantgiantsound': 8297, 'ofandkoez': 8298, 'rdg': 8299, 'seeds': 8300, 'mre': 8301, 'dchfpxgym': 8302, 'ughptzjulk': 8303, 'obligations': 8304, 'barbi': 8305, 'bearers': 8306, 'whose': 8307, 'yerctj': 8308, 'jul': 8309, 'ocdkpsdfp': 8310, 'femalegilgamesh': 8311, 'assault': 8312, 'useless': 8313, 'penetrate': 8314, 'saadthe': 8315, 'kpdied': 8316, 'kppolic': 8317, 'reizei': 8318, 'sama': 8319, 'rindou': 8320, 'wear': 8321, 'mink': 8322, 'yotqhoh': 8323, 'nkulw': 8324, 'odtzmvqar': 8325, 'lmazrwoy': 8326, 'seemeth': 8327, 'thereof': 8328, 'dywwnbbyvj': 8329, 'deploy': 8330, 'troop': 8331, 'horowitz': 8332, 'vaccines': 8333, 'pagjqfbzk': 8334, 'qzizelxbyr': 8335, 'joked': 8336, 'innings': 8337, 'cubstalk': 8338, 'assured': 8339, 'investigated': 8340, 'kmxzhotfm': 8341, 'albvdnwjtg': 8342, 'gibyqhhkpk': 8343, 'badges': 8344, 'evfcus': 8345, 'motordom': 8346, 'lobbied': 8347, 'visionzero': 8348, 'cavbpgepv': 8349, 'pointing': 8350, 'mmowcmvnj': 8351, 'provokes': 8352, 'fjeafgbzfj': 8353, 'pictures': 8354, 'uzwlgjqzn': 8355, 'unhappy': 8356, 'purposely': 8357, 'fprtnwrot': 8358, 'officialmqm': 8359, 'khfiha': 8360, 'coleslaw': 8361, 'sijnbmczij': 8362, 'gidjqnug': 8363, 'zcfrwado': 8364, 'lorry': 8365, 'pfeaqeski': 8366, 'fntgrnkx': 8367, 'emsn': 8368, 'adavis': 8369, 'cuddling': 8370, 'eve': 8371, 'honored': 8372, 'servic': 8373, 'vpvjhrci': 8374, 'imtygdsqo': 8375, 'qvlxpyyycd': 8376, 'hsrrqzou': 8377, 'gloriavelez': 8378, 'stationcdrkelly': 8379, 'sys': 8380, 'clergyforced': 8381, 'younger': 8382, 'grossly': 8383, 'disfigured': 8384, 'prrbfhxtv': 8385, 'mzmandilynn': 8386, 'binellithresa': 8387, 'uantnksw': 8388, 'loans': 8389, 'finance': 8390, 'liqd': 8391, 'lnpscadaxr': 8392, 'redwing': 8393, 'nxtwxjcavh': 8394, 'olesfrgl': 8395, 'misscharleywebb': 8396, 'xcbyeqmw': 8397, 'offramp': 8398, 'ctejxolpu': 8399, 'itsmegss': 8400, 'flavafraz': 8401, 'whatcanthedo': 8402, 'abyhrgsss': 8403, 'brodyfrieling': 8404, 'brooksie': 8405, 'lindenow': 8406, 'jasonpope': 8407, 'johnfugelsang': 8408, 'jlmicjj': 8409, 'snuegswyj': 8410, 'aberdeen': 8411, 'prcihowu': 8412, 'rtcufagau': 8413, 'wwexdreamer': 8414, 'olympia': 8415, 'yunuegfb': 8416, 'ferno': 8417, 'engineering': 8418, 'inspect': 8419, 'components': 8420, 'gtedldwho': 8421, 'cacheadvance': 8422, 'ant': 8423, 'winged': 8424, 'insects': 8425, 'mnkoyzcp': 8426, 'atcha': 8427, 'golfball': 8428, 'parkchat': 8429, 'eazzy': 8430, 'warranted': 8431, 'taxuxpqa': 8432, 'follownflnews': 8433, 'dujgypima': 8434, 'playoff': 8435, 'indictment': 8436, 'greenspace': 8437, 'tennessee': 8438, 'development': 8439, 'zzcbbqyjq': 8440, 'kksghsblfh': 8441, 'caesars': 8442, 'gzmoblsjxu': 8443, 'cgtqfkur': 8444, 'firms': 8445, 'cybersecurity': 8446, 'laftjgyli': 8447, 'wompppp': 8448, 'mcnabbychic': 8449, 'tiyulifc': 8450, 'retirement': 8451, 'instruction': 8452, 'bookmobile': 8453, 'libraries': 8454, 'lnmywrmq': 8455, 'naayf': 8456, 'chandanee': 8457, 'magu': 8458, 'taxi': 8459, 'rammed': 8460, 'halfway': 8461, 'conf': 8462, 'florin': 8463, 'esblyway': 8464, 'romeocrow': 8465, 'organizing': 8466, 'important': 8467, 'awkward': 8468, 'theatres': 8469, 'mumbaix': 8470, 'ind': 8471, 'tuaryijpqu': 8472, 'treyarch': 8473, 'quart': 8474, 'okcaz': 8475, 'tgdonttkti': 8476, 'fragrance': 8477, 'enemies': 8478, 'ducks': 8479, 'elephants': 8480, 'duck': 8481, 'skateboards': 8482, 'ihinjenqi': 8483, 'syyl': 8484, 'sincethe': 8485, 'depreciations': 8486, 'usd': 8487, 'bfederal': 8488, 'wgqkxmbyb': 8489, 'virg': 8490, 'cylfenyv': 8491, 'satanaofhell': 8492, 'dreamy': 8493, 'neces': 8494, 'tlsnqipn': 8495, 'todayngr': 8496, 'ledofficial': 8497, 'requests': 8498, 'samples': 8499, 'mages': 8500, 'tail': 8501, 'specialize': 8502, 'natsu': 8503, 'dragneel': 8504, 'thugging': 8505, 'delaying': 8506, 'fundamentals': 8507, 'valuations': 8508, 'fwikyurc': 8509, 'jun': 8510, 'yemenis': 8511, 'juzhlgmt': 8512, 'waldo': 8513, 'cooperstown': 8514, 'joestrong': 8515, 'gokitgo': 8516, 'eskyvzvap': 8517, 'pnssiae': 8518, 'lsvsyspdxx': 8519, 'bez': 8520, 'bangin': 8521, 'ros': 8522, 'dylanmcclure': 8523, 'zumiez': 8524, 'zwjpvk': 8525, 'loc': 8526, 'eo': 8527, 'redlands': 8528, 'ftkigmigh': 8529, 'mathew': 8530, 'zke': 8531, 'saladinahmed': 8532, 'referred': 8533, 'yuvzh': 8534, 'ghe': 8535, 'junk': 8536, 'resumed': 8537, 'residual': 8538, 'kristenkoin': 8539, 'abq': 8540, 'bcuz': 8541, 'itsnasb': 8542, 'optichcz': 8543, 'askhcz': 8544, 'elgato': 8545, 'bday': 8546, 'costa': 8547, 'urg': 8548, 'parks': 8549, 'imposition': 8550, 'african': 8551, 'giptuvbi': 8552, 'nigeltanner': 8553, 'newly': 8554, 'maple': 8555, 'friendships': 8556, 'mics': 8557, 'creeping': 8558, 'inflicted': 8559, 'derma': 8560, 'brackets': 8561, 'tindering': 8562, 'passive': 8563, 'aggressively': 8564, 'coerced': 8565, 'commitment': 8566, 'readi': 8567, 'puchhbxj': 8568, 'oneself': 8569, 'foreclosed': 8570, 'tejc': 8571, 'maailiss': 8572, 'ofmhn': 8573, 'conducted': 8574, 'skims': 8575, 'morethan': 8576, 'disorders': 8577, 'kashmirconflict': 8578, 'tower': 8579, 'stephenking': 8580, 'thedarktower': 8581, 'jlpdrxcde': 8582, 'bdisgust': 8583, 'npbfrzejl': 8584, 'ykbyync': 8585, 'easternoregon': 8586, 'vqxnfhrxf': 8587, 'byvlmpepr': 8588, 'pxnatosil': 8589, 'renunciedilma': 8590, 'codsandscrims': 8591, 'empirikgaming': 8592, 'codawscrims': 8593, 'tp': 8594, 'kotc': 8595, 'tpfa': 8596, 'sided': 8597, 'linerless': 8598, 'caps': 8599, 'wrnpywyalj': 8600, 'qviydovx': 8601, 'lesbians': 8602, 'obqmximb': 8603, 'hdahlgrprl': 8604, 'zstpl': 8605, 'mcdonalds': 8606, 'ana': 8607, 'holistic': 8608, 'pot': 8609, 'dispensary': 8610, 'yvvrlghft': 8611, 'smartnew': 8612, 'acura': 8613, 'rsx': 8614, 'vzaiqamdcp': 8615, 'ycecncp': 8616, 'xehwmshlv': 8617, 'dualcom': 8618, 'yesterdays': 8619, 'conveniently': 8620, 'zionists': 8621, 'revere': 8622, 'honour': 8623, 'kobxbea': 8624, 'nagel': 8625, 'vicken': 8626, 'basedlarock': 8627, 'gooncty': 8628, 'hqsulwlth': 8629, 'lenn': 8630, 'dominicana': 8631, 'cocoa': 8632, 'sip': 8633, 'awesomesauc': 8634, 'nanking': 8635, 'eyewitnesses': 8636, 'tipndempuz': 8637, 'wsj': 8638, 'wpo': 8639, 'organic': 8640, 'expander': 8641, 'nvzdilrfgj': 8642, 'ucdtxez': 8643, 'jonxfwlao': 8644, 'comdev': 8645, 'stations': 8646, 'broadcasting': 8647, 'programs': 8648, 'upcoming': 8649, 'iovrymlkp': 8650, 'anew': 8651, 'startrek': 8652, 'tos': 8653, 'aedcsk': 8654, 'terr': 8655, 'torrent': 8656, 'java': 8657, 'vaxshill': 8658, 'measles': 8659, 'complications': 8660, 'looses': 8661, 'atom': 8662, 'hctxghryf': 8663, 'wreak': 8664, 'seatbelt': 8665, 'njqvnd': 8666, 'jhoahpbpq': 8667, 'grant': 8668, 'weymouth': 8669, 'seawalls': 8670, 'thwlilbmo': 8671, 'padres': 8672, 'crowned': 8673, 'tends': 8674, 'efkcoegjck': 8675, 'nkkctttsd': 8676, 'dign': 8677, 'virtual': 8678, 'listings': 8679, 'listed': 8680, 'dorrie': 8681, 'caruana': 8682, 'nfpaytvw': 8683, 'rcmp': 8684, 'tch': 8685, 'whitbourn': 8686, 'prosper': 8687, 'cirtvmlvp': 8688, 'appetite': 8689, 'colinhoffman': 8690, 'bulok': 8691, 'lumbar': 8692, 'brookesddl': 8693, 'hopped': 8694, 'hxwfbppb': 8695, 'bentossell': 8696, 'producthunt': 8697, 'limestone': 8698, 'ln': 8699, 'yellowstone': 8700, 'fieldstone': 8701, 'pbohanna': 8702, 'justaguess': 8703, 'ijlzbcsp': 8704, 'dhggxomcc': 8705, 'nigskdp': 8706, 'avwelbvhn': 8707, 'ssp': 8708, 'aeg': 8709, 'akram': 8710, 'carhot': 8711, 'exchanged': 8712, 'firing': 8713, 'airbullet': 8714, 'meats': 8715, 'incinerator': 8716, 'pulkovo': 8717, 'cleverbot': 8718, 'pros': 8719, 'failures': 8720, 'ol': 8721, 'bobcats': 8722, 'backyards': 8723, 'kestuuyct': 8724, 'pzfbbpmj': 8725, 'reg': 8726, 'competitiveness': 8727, 'brockton': 8728, 'regc': 8729, 'ppc': 8730, 'tipster': 8731, 'previews': 8732, 'pfsryjspc': 8733, 'skdbottgf': 8734, 'songhey': 8735, 'riches': 8736, 'decrease': 8737, 'thief': 8738, 'thetxi': 8739, 'gunnersfan': 8740, 'ham': 8741, 'relegation': 8742, 'doco': 8743, 'setanta': 8744, 'freeview': 8745, 'abuses': 8746, 'tydxauuenq': 8747, 'ecmujkkqx': 8748, 'sqfpeczi': 8749, 'googlemaps': 8750, 'mashup': 8751, 'calculates': 8752, 'foto': 8753, 'tagpstb': 8754, 'gvjslbelp': 8755, 'igxrqpotm': 8756, 'landi': 8757, 'kpbuhgt': 8758, 'peritoengrafoscopia': 8759, 'digging': 8760, 'vanilla': 8761, 'gfqjgoyci': 8762, 'libyan': 8763, 'mjoeebdlxn': 8764, 'fvenexp': 8765, 'bmsedzofsv': 8766, 'natzipvx': 8767, 'leaebycr': 8768, 'drfmmrbyx': 8769, 'demo': 8770, 'kenosha': 8771, 'falphil': 8772, 'liberal': 8773, 'compassion': 8774, 'sexist': 8775, 'valu': 8776, 'staining': 8777, 'budmkennf': 8778, 'photographs': 8779, 'mandate': 8780, 'trace': 8781, 'ximhyrmn': 8782, 'dating': 8783, 'xjwsyrqr': 8784, 'hieifhsmc': 8785, 'rbrwpwipj': 8786, 'starve': 8787, 'waseembadami': 8788, 'condemning': 8789, 'gv': 8790, 'heirs': 8791, 'itgqvii': 8792, 'mtmoiaoo': 8793, 'nnztcmsru': 8794, 'earnest': 8795, 'pletch': 8796, 'blooded': 8797, 'bjaxxvcf': 8798, 'xxjbjxrt': 8799, 'gtylgxroe': 8800, 'ygrjbki': 8801, 'zvdgiyowf': 8802, 'notexplained': 8803, 'infamous': 8804, 'cooper': 8805, 'jlzkhdetg': 8806, 'umwtlrk': 8807, 'lqyxzqdn': 8808, 'mumbling': 8809, 'cackling': 8810, 'lojoorouk': 8811, 'ifezsop': 8812, 'kphdchfnz': 8813, 'ctaztrophe': 8814, 'bwwnlsxhb': 8815, 'ebbfnmaj': 8816, 'extraordinair': 8817, 'arcade': 8818, 'cte': 8819, 'overpriced': 8820, 'brighton': 8821, 'landowner': 8822, 'rjmatw': 8823, 'mtgfxefiv': 8824, 'mtuipnt': 8825, 'paulhollywood': 8826, 'optical': 8827, 'illusion': 8828, 'switzerland': 8829, 'eyevziopg': 8830, 'unaddressed': 8831, 'keithboykin': 8832, 'randallpinkston': 8833, 'pozarmy': 8834, 'gxqauzb': 8835, 'exploring': 8836, 'ville': 8837, 'otrwztsp': 8838, 'xvlkfcvfx': 8839, 'infested': 8840, 'wimp': 8841, 'ewkuria': 8842, 'madisonpa': 8843, 'beef': 8844, 'hkyfova': 8845, 'akwa': 8846, 'ibom': 8847, 'uruan': 8848, 'udom': 8849, 'emmanuel': 8850, 'cnwnska': 8851, 'gbluhrrlto': 8852, 'noooooooooooo': 8853, 'zevankjzl': 8854, 'uuzfslkt': 8855, 'fitz': 8856, 'tantrums': 8857, 'pwdlglkv': 8858, 'ysbcsszi': 8859, 'ubgwfyge': 8860, 'losangel': 8861, 'lsqenukl': 8862, 'aftershocks': 8863, 'hkbpqdncba': 8864, 'xcolwugfjg': 8865, 'josebasedgod': 8866, 'realm': 8867, 'winning': 8868, 'lodormtfsq': 8869, 'devybnvxgq': 8870, 'todayng': 8871, 'motivated': 8872, 'donnelli': 8873, 'bonsai': 8874, 'jidrogb': 8875, 'natgeo': 8876, 'dauntedpsyche': 8877, 'gently': 8878, 'dabbed': 8879, 'glenn': 8880, 'xbznuqkv': 8881, 'houapns': 8882, 'ghosts': 8883, 'campanha': 8884, 'howardu': 8885, 'hardstyle': 8886, 'messy': 8887, 'recording': 8888, 'alien': 8889, 'mixify': 8890, 'absence': 8891, 'interact': 8892, 'karen': 8893, 'enviromental': 8894, 'meeowjco': 8895, 'zoipkpbdo': 8896, 'emilymcfcheslop': 8897, 'pillori': 8898, 'reddakushgodd': 8899, 'smfh': 8900, 'scarier': 8901, 'imaomknna': 8902, 'mechamacgyver': 8903, 'zhsmiavd': 8904, 'gnynjhnej': 8905, 'funemesm': 8906, 'stacdemon': 8907, 'mullin': 8908, 'nmrvthkvah': 8909, 'sjubb': 8910, 'notion': 8911, 'seemly': 8912, 'narcissism': 8913, 'richhomeydon': 8914, 'swag': 8915, 'kukmala': 8916, 'ba': 8917, 'icc': 8918, 'realckt': 8919, 'hhmbdkyo': 8920, 'volunteer': 8921, 'excite': 8922, 'ijwqc': 8923, 'digits': 8924, 'jtzefipdbo': 8925, 'apwxsmm': 8926, 'dslozlsu': 8927, 'chxrmingprince': 8928, 'luna': 8929, 'folding': 8930, 'actavis': 8931, 'suicid': 8932, 'silverwood': 8933, 'policylab': 8934, 'cecanf': 8935, 'neglect': 8936, 'ncyztpb': 8937, 'ikpngsdti': 8938, 'ljhgsdraez': 8939, 'ina': 8940, 'buted': 8941, 'wwa': 8942, 'wholeteam': 8943, 'wholesaleent': 8944, 'jwnxhqov': 8945, 'xqiadghw': 8946, 'ypeelmjdzi': 8947, 'markoturner': 8948, 'annaciclismo': 8949, 'kfovovjso': 8950, 'leonardville': 8951, 'xwihywsg': 8952, 'kijima': 8953, 'deai': 8954, 'sqydkslfzp': 8955, 'postapocalypticflimflam': 8956, 'prodding': 8957, 'bgyij': 8958, 'obkypch': 8959, 'dxirntdsrd': 8960, 'elqlopfk': 8961, 'qkrltrdb': 8962, 'masses': 8963, 'rtqqmgpb': 8964, 'postexistence': 8965, 'elevation': 8966, 'brzjc': 8967, 'papicongress': 8968, 'journo': 8969, 'pragnik': 8970, 'udqakfqu': 8971, 'teqsrip': 8972, 'parties': 8973, 'jfjlbfto': 8974, 'zggpacjpd': 8975, 'lado': 8976, 'tweeting': 8977, 'joshua': 8978, 'typos': 8979, 'lauradeholanda': 8980, 'forrest': 8981, 'rzfbrxw': 8982, 'glassanimals': 8983, 'slithering': 8984, 'viscous': 8985, 'yeahs': 8986, 'erykah': 8987, 'badu': 8988, 'zbgmzh': 8989, 'thyzomvwu': 8990, 'jooxk': 8991, 'otratmetlif': 8992, 'choke': 8993, 'tubenbqnz': 8994, 'kopiteluke': 8995, 'pleasure': 8996, 'huzzah': 8997, 'molly': 8998, 'tanz': 8999, 'vermilion': 9000, 'bmprwhw': 9001, 'harshness': 9002, 'pacing': 9003, 'prontouo': 9004, 'rquubplf': 9005, 'kontrolled': 9006, 'dice': 9007, 'ifak': 9008, 'efak': 9009, 'shud': 9010, 'contries': 9011, 'qiopbtiuvu': 9012, 'domination': 9013, 'folks': 9014, 'bash': 9015, 'jjlfov': 9016, 'gmonvnpsu': 9017, 'rhee': 9018, 'deliciousvomit': 9019, 'cwzhgezaj': 9020, 'sutherland': 9021, 'pine': 9022, 'dorfxofb': 9023, 'theleadernew': 9024, 'mdash': 9025, 'bronville': 9026, 'jjvcdnti': 9027, 'stevie': 9028, 'epexaxgb': 9029, 'lkjfabqzb': 9030, 'oqsgzqlbz': 9031, 'aqua': 9032, 'scghlpiq': 9033, 'fifa': 9034, 'tournaments': 9035, 'whocar': 9036, 'visible': 9037, 'tucson': 9038, 'steep': 9039, 'terrain': 9040, 'zrtrplqv': 9041, 'fireball': 9042, 'gloria': 9043, 'gaynor': 9044, 'oktaviana': 9045, 'devi': 9046, 'hukjzwt': 9047, 'adjuster': 9048, 'safeco': 9049, 'liberty': 9050, 'kmjvqca': 9051, 'gilderoy': 9052, 'integrates': 9053, 'format': 9054, 'interval': 9055, 'shaping': 9056, 'techniqu': 9057, 'xuzeebudv': 9058, 'scegnews': 9059, 'avybysod': 9060, 'liveonstream': 9061, 'reckon': 9062, 'dmt': 9063, 'simul': 9064, 'package': 9065, 'tours': 9066, 'yyeso': 9067, 'errrr': 9068, 'notgoingoutinthat': 9069, 'hellonwheelsamc': 9070, 'talkinghell': 9071, 'giaxdjti': 9072, 'penneys': 9073, 'booktubeathon': 9074, 'yizgizsw': 9075, 'jgvhwyz': 9076, 'dinallyhot': 9077, 'volcanic': 9078, 'thirty': 9079, 'kkjpksbst': 9080, 'trafficalert': 9081, 'citrus': 9082, 'azusa': 9083, 'motorcycles': 9084, 'peeped': 9085, 'frontin': 9086, 'tinted': 9087, 'bumpin': 9088, 'cityofhummus': 9089, 'ilnewsflash': 9090, 'diaspora': 9091, 'fafqlwp': 9092, 'fhrrhcimh': 9093, 'forlapdances': 9094, 'yompxjpptv': 9095, 'pbfyjxya': 9096, 'aphl': 9097, 'cgdjdrso': 9098, 'albums': 9099, 'denali': 9100, 'plummeted': 9101, 'savedenaliwolves': 9102, 'tweetstorm': 9103, 'sywuelyyx': 9104, 'jknpdpwro': 9105, 'cole': 9106, 'tnn': 9107, 'lohzwjpz': 9108, 'coated': 9109, 'layer': 9110, 'grit': 9111, 'hvjmuualxv': 9112, 'tnzhzz': 9113, 'xhonup': 9114, 'untameddirewolf': 9115, 'sansa': 9116, 'blinked': 9117, 'switch': 9118, 'oem': 9119, 'kvnahthuwz': 9120, 'yxknpqmnj': 9121, 'atiivnjdy': 9122, 'fwxifjec': 9123, 'canagal': 9124, 'sj': 9125, 'reply': 9126, 'nycdivorcelaw': 9127, 'denier': 9128, 'algae': 9129, 'bloom': 9130, 'alska': 9131, 'seeweed': 9132, 'caribean': 9133, 'snowball': 9134, 'inhof': 9135, 'dmassa': 9136, 'definite': 9137, 'crown': 9138, 'harp': 9139, 'nzackrrji': 9140, 'tnwx': 9141, 'pmtnnfdww': 9142, 'kbzuatuks': 9143, 'arin': 9144, 'gummy': 9145, 'grumpout': 9146, 'ronwyden': 9147, 'blacks': 9148, 'lyndon': 9149, 'votes': 9150, 'texa': 9151, 'doningtondash': 9152, 'sept': 9153, 'donington': 9154, 'gnwyju': 9155, 'hqzfcxxrsb': 9156, 'vwpdizcko': 9157, 'yahoonewsdigest': 9158, 'ydmulqxg': 9159, 'significance': 9160, 'countri': 9161, 'amen': 9162, 'ritual': 9163, 'iniqzfyioi': 9164, 'refugeesmatter': 9165, 'oezoabc': 9166, 'theburnageblue': 9167, 'macs': 9168, 'sbgirvqvzb': 9169, 'knockout': 9170, 'nyvu': 9171, 'represents': 9172, 'shortfalls': 9173, 'stfmnr': 9174, 'dvjoyga': 9175, 'assailant': 9176, 'zdcvlyqqk': 9177, 'literarycak': 9178, 'homealone': 9179, 'najib': 9180, 'iidkcjsbx': 9181, 'najibrazak': 9182, 'malaysiaairlin': 9183, 'rizzo': 9184, 'twic': 9185, 'nightmarish': 9186, 'ppzgpxybi': 9187, 'dskhkffwc': 9188, 'jmzcaqydfa': 9189, 'declarat': 9190, 'mciksbx': 9191, 'acenewsdesk': 9192, 'deldryden': 9193, 'twitch': 9194, 'icttzdivr': 9195, 'loupascal': 9196, 'prayforsaipan': 9197, 'witches': 9198, 'rivalry': 9199, 'wogc': 9200, 'izaknpjeqw': 9201, 'ctafails': 9202, 'udznvoeh': 9203, 'poooxn': 9204, 'hassanrouhani': 9205, 'doomed': 9206, 'outsid': 9207, 'yixrhqgb': 9208, 'rodarmer': 9209, 'dolla': 9210, 'cg': 9211, 'okinawan': 9212, 'yvsjyzwxjr': 9213, 'rp': 9214, 'silo': 9215, 'hartford': 9216, 'lightumupbeast': 9217, 'ocojppnrh': 9218, 'glory': 9219, 'luiz': 9220, 'santos': 9221, 'physically': 9222, 'gasped': 9223, 'pqrjvgvgxg': 9224, 'canadian': 9225, 'timing': 9226, 'yisyzkc': 9227, 'kfbjvjivqb': 9228, 'bnxpzqdm': 9229, 'asb': 9230, 'unhealed': 9231, 'unending': 9232, 'endoccupation': 9233, 'endconflict': 9234, 'freekashmir': 9235, 'skinless': 9236, 'pred': 9237, 'pox': 9238, 'wixtkab': 9239, 'virus': 9240, 'infectiousdiseases': 9241, 'zkgqspwyj': 9242, 'argues': 9243, 'pelosi': 9244, 'kiev': 9245, 'jnnkrnxvy': 9246, 'loiwuyvr': 9247, 'misguided': 9248, 'prophets': 9249, 'imprison': 9250, 'roadway': 9251, 'statesville': 9252, 'overlooked': 9253, 'whyor': 9254, 'helens': 9255, 'xmdidgpnr': 9256, 'nashhmu': 9257, 'nside': 9258, 'belly': 9259, 'kamchatka': 9260, 'korzhonov': 9261, 'thwgoqd': 9262, 'forev': 9263, 'tt': 9264, 'kettlebell': 9265, 'lopez': 9266, 'hindsight': 9267, 'jhmny': 9268, 'campsite': 9269, 'recommendations': 9270, 'toilets': 9271, 'pub': 9272, 'midges': 9273, 'snakes': 9274, 'couches': 9275, 'pamginsi': 9276, 'sidjsjdjekdjskdjd': 9277, 'vcsafxbi': 9278, 'hoops': 9279, 'recruiting': 9280, 'nugget': 9281, 'chairman': 9282, 'vaccine': 9283, 'xomhai': 9284, 'thisisfaz': 9285, 'kefxtjtakb': 9286, 'precedent': 9287, 'undetected': 9288, 'bzkqplra': 9289, 'uppwxdayd': 9290, 'unsigned': 9291, 'qymalttvzp': 9292, 'iwcudgia': 9293, 'jurors': 9294, 'mitigating': 9295, 'vlswgi': 9296, 'txyusej': 9297, 'salvadoran': 9298, 'cntwbsczj': 9299, 'influential': 9300, 'severing': 9301, 'commun': 9302, 'uphill': 9303, 'etswuodom': 9304, 'cowx': 9305, 'xkowgvo': 9306, 'glue': 9307, 'finger': 9308, 'reps': 9309, 'dip': 9310, 'freestyle': 9311, 'amalie': 9312, 'arena': 9313, 'oogotouz': 9314, 'leonalewis': 9315, 'essenceofme': 9316, 'nxleiijfgs': 9317, 'xsgwmzxpd': 9318, 'qdtoqoc': 9319, 'zmwecbwvao': 9320, 'idasyjybro': 9321, 'gdoaolpq': 9322, 'jade': 9323, 'fl': 9324, 'ybdsljwc': 9325, 'excessive': 9326, 'emerging': 9327, 'file': 9328, 'fiat': 9329, 'chrysler': 9330, 'harman': 9331, 'consumerist': 9332, 'hocepkh': 9333, 'mcgsecur': 9334, 'philipduncan': 9335, 'breakfastone': 9336, 'nights': 9337, 'philip': 9338, 'govts': 9339, 'advised': 9340, 'ubvevuuach': 9341, 'pokemoncards': 9342, 'icequeenfroslas': 9343, 'sal': 9344, 'broadcast': 9345, 'television': 9346, 'superv': 9347, 'pawsox': 9348, 'durham': 9349, 'ckgggyvou': 9350, 'uvdbrxfia': 9351, 'newrelease': 9352, 'jimmy': 9353, 'lapaka': 9354, 'lhfklno': 9355, 'zitqkdfxji': 9356, 'puncture': 9357, 'adkwoglh': 9358, 'sqwizzix': 9359, 'ggqczabu': 9360, 'piano': 9361, 'entertainer': 9362, 'cactus': 9363, 'oocvg': 9364, 'ftw': 9365, 'wsvrb': 9366, 'hull': 9367, 'runabout': 9368, 'prnhrhbt': 9369, 'oahlthrozi': 9370, 'codythompson': 9371, 'cramp': 9372, 'bnnidfzwbd': 9373, 'zhsllswbh': 9374, 'xqsjodu': 9375, 'freddiedeboer': 9376, 'thucydiplease': 9377, 'coates': 9378, 'charleston': 9379, 'broadly': 9380, 'wale': 9381, 'volcanoes': 9382, 'spouting': 9383, 'malabamiandsons': 9384, 'questergirl': 9385, 'ditto': 9386, 'drank': 9387, 'vodka': 9388, 'masochisticmage': 9389, 'swords': 9390, 'thrones': 9391, 'starks': 9392, 'greyjoy': 9393, 'dickheads': 9394, 'basi': 9395, 'bestfriends': 9396, 'yourboy': 9397, 'shawn': 9398, 'guest': 9399, 'chachi': 9400, 'otblbpji': 9401, 'alleg': 9402, 'seas': 9403, 'giannis': 9404, 'submerged': 9405, 'reef': 9406, 'gnwhnsfib': 9407, 'fwpoftwoc': 9408, 'djryanwolf': 9409, 'djcoreygrand': 9410, 'djknyce': 9411, 'djoneplustwo': 9412, 'officialcoredjs': 9413, 'standup': 9414, 'iamtonyneal': 9415, 'pgqmctglj': 9416, 'acwuyr': 9417, 'peacetime': 9418, 'afssgpnzwi': 9419, 'niallhariss': 9420, 'vain': 9421, 'iahjjagq': 9422, 'barack': 9423, 'kolzvbv': 9424, 'mtvsummerstar': 9425, 'videoveranomtv': 9426, 'lana': 9427, 'del': 9428, 'passion': 9429, 'overblown': 9430, 'mmzgphnknp': 9431, 'bilsko': 9432, 'humofthec': 9433, 'xojademarie': 9434, 'batista': 9435, 'uplifting': 9436, 'anchor': 9437, 'esteem': 9438, 'tuscrsxvg': 9439, 'idhjjbq': 9440, 'sanity': 9441, 'wdazlcm': 9442, 'gansey': 9443, 'busting': 9444, 'walls': 9445, 'gujaratriot': 9446, 'mumbairiot': 9447, 'indianperpetrated': 9448, 'chawalchorbjp': 9449, 'unnewsteam': 9450, 'whatever': 9451, 'ianokavo': 9452, 'arranged': 9453, 'guatemalan': 9454, 'fynqhwwb': 9455, 'bizzlemahomie': 9456, 'portaloos': 9457, 'senti': 9458, 'highland': 9459, 'medics': 9460, 'kifmfqlx': 9461, 'ozvlwwtnr': 9462, 'cmumiol': 9463, 'cs': 9464, 'cvgjfpbtrn': 9465, 'ugyegkfsx': 9466, 'che': 9467, 'guevara': 9468, 'greeting': 9469, 'gljbnsfgl': 9470, 'iklen': 9471, 'brant': 9472, 'drummond': 9473, 'eudwnfyuem': 9474, 'timed': 9475, 'pikin': 9476, 'axxdcakzty': 9477, 'delphi': 9478, 'lmrkgporcf': 9479, 'wadnmstov': 9480, 'nigerians': 9481, 'uoophsqu': 9482, 'onthisday': 9483, 'mayflower': 9484, 'laphamsquart': 9485, 'ssnmxsfoa': 9486, 'fwelbnap': 9487, 'medusa': 9488, 'snake': 9489, 'inputs': 9490, 'mxkalmqpdb': 9491, 'kznhtytt': 9492, 'fhiqbpwfh': 9493, 'fredolsencruise': 9494, 'itinerary': 9495, 'dolphins': 9496, 'fem': 9497, 'kmndkfame': 9498, 'pft': 9499, 'barkevious': 9500, 'mingo': 9501, 'browns': 9502, 'dmkgmpji': 9503, 'pijgwlu': 9504, 'hkxxbbo': 9505, 'faafa': 9506, 'toler': 9507, 'pixelsmovie': 9508, 'lvbuwyoh': 9509, 'youtu': 9510, 'lzktjnox': 9511, 'zzcewew': 9512, 'icczds': 9513, 'weatrrih': 9514, 'rivals': 9515, 'loos': 9516, 'boots': 9517, 'wqyjokumh': 9518, 'meisnkvtb': 9519, 'nicklee': 9520, 'loo': 9521, 'rite': 9522, 'tlk': 9523, 'widout': 9524, 'nuh': 9525, 'itz': 9526, 'rubbery': 9527, 'knw': 9528, 'wgmzmjimd': 9529, 'renamed': 9530, 'goonda': 9531, 'motley': 9532, 'hooligans': 9533, 'selfavowed': 9534, 'crooks': 9535, 'determined': 9536, 'zuyydfdi': 9537, 'ogt': 9538, 'colomr': 9539, 'protection': 9540, 'dj': 9541, 'mixes': 9542, 'byebyesoundcloud': 9543, 'realjaxclone': 9544, 'tecno': 9545, 'ime': 9546, 'avzsyi': 9547, 'urfexszg': 9548, 'wbawoblcl': 9549, 'rbmucursf': 9550, 'lyeh': 9551, 'nhjhol': 9552, 'homemade': 9553, 'frozen': 9554, 'yogurt': 9555, 'pops': 9556, 'yzazfceoa': 9557, 'xrcnuamh': 9558, 'hvhowtip': 9559, 'icseshbj': 9560, 'yrgobpj': 9561, 'mvesvssyn': 9562, 'cmaqfn': 9563, 'rubb': 9564, 'demetae': 9565, 'ortbpc': 9566, 'concentration': 9567, 'auntiedote': 9568, 'rioslade': 9569, 'wiggins': 9570, 'akarb': 9571, 'yrvtilw': 9572, 'blank': 9573, 'expression': 9574, 'cheeks': 9575, 'clapping': 9576, 'marvins': 9577, 'subtlety': 9578, 'chrisroth': 9579, 'chaselabsports': 9580, 'preventative': 9581, 'cabling': 9582, 'bracing': 9583, 'ling': 9584, 'rainbows': 9585, 'lknuj': 9586, 'erinmariefishy': 9587, 'novices': 9588, 'ieoggoj': 9589, 'tem': 9590, 'mrmikeeaton': 9591, 'muazimus': 9592, 'hil': 9593, 'fel': 9594, 'zakuun': 9595, 'xonvdux': 9596, 'nf': 9597, 'lkwxuqvn': 9598, 'pvris': 9599, 'grabakahitman': 9600, 'izi': 9601, 'garcia': 9602, 'machida': 9603, 'canal': 9604, 'tookitlikeaman': 9605, 'lovemydentist': 9606, 'sor': 9607, 'renovation': 9608, 'pqipugkuy': 9609, 'smallbiz': 9610, 'machinegunkelly': 9611, 'underground': 9612, 'rotation': 9613, 'condenses': 9614, 'villa': 9615, 'mcv': 9616, 'fddzspugk': 9617, 'coffees': 9618, 'cafetiere': 9619, 'crockery': 9620, 'cometh': 9621, 'bpydsb': 9622, 'cheetosarabia': 9623, 'crudes': 9624, 'cheetos': 9625, 'hint': 9626, 'beyondthebomb': 9627, 'nkculgvmw': 9628, 'willhillbet': 9629, 'satisfying': 9630, 'emile': 9631, 'hirsch': 9632, 'filmmakers': 9633, 'eqonkzndz': 9634, 'entretenimento': 9635, 'jinx': 9636, 'wearethenews': 9637, 'ojywjkuh': 9638, 'tobvwaphw': 9639, 'au': 9640, 'jp': 9641, 'conservative': 9642, 'shoppe': 9643, 'harperanetflixshow': 9644, 'elxn': 9645, 'stopharp': 9646, 'thinkpink': 9647, 'magichairbump': 9648, 'nmhztbewm': 9649, 'bbcwomanshour': 9650, 'setsuko': 9651, 'thurlow': 9652, 'cvjymlkrm': 9653, 'fphueii': 9654, 'anime': 9655, 'detectors': 9656, 'shevlin': 9657, 'hixon': 9658, 'zeejvhni': 9659, 'derives': 9660, 'powers': 9661, 'vincent': 9662, 'peal': 9663, 'hworbnvn': 9664, 'maatmhi': 9665, 'ticklemeshawn': 9666, 'evebrigid': 9667, 'wezjqccf': 9668, 'uavfrtlfs': 9669, 'gpcccxg': 9670, 'existence': 9671, 'prysmian': 9672, 'secures': 9673, 'olgkbha': 9674, 'gevrmbvznb': 9675, 'gloomy': 9676, 'xecggvnsn': 9677, 'backups': 9678, 'bridg': 9679, 'czallstarwes': 9680, 'derbi': 9681, 'sounders': 9682, 'finish': 9683, 'qoxzqve': 9684, 'terrified': 9685, 'shanaynay': 9686, 'fouseytube': 9687, 'zsberqnnn': 9688, 'uwaoasfg': 9689, 'hchzswsi': 9690, 'alipaper': 9691, 'keepingtheviginaclean': 9692, 'preferably': 9693, 'jabhhk': 9694, 'jezjwhub': 9695, 'fdxgmiwaeh': 9696, 'stds': 9697, 'slogan': 9698, 'icy': 9699, 'rum': 9700, 'belie': 9701, 'abnrcr': 9702, 'kotolily': 9703, 'eeasterl': 9704, 'sinc': 9705, 'schelbertgeorg': 9706, 'teaching': 9707, 'ren': 9708, 'messeymetoo': 9709, 'rceejm': 9710, 'hvxuzcvau': 9711, 'ijmccmhhg': 9712, 'bangalore': 9713, 'ofqfgeu': 9714, 'cyberdemon': 9715, 'dew': 9716, 'erodes': 9717, 'naypyidaw': 9718, 'prensa': 9719, 'latina': 9720, 'jodsapi': 9721, 'yohvuwumz': 9722, 'diver': 9723, 'anthony': 9724, 'steamship': 9725, 'qpgvvfofq': 9726, 'oils': 9727, 'ls': 9728, 'sup': 9729, 'thranduil': 9730, 'mirkwood': 9731, 'nyelbuaro': 9732, 'zgiupnt': 9733, 'annoyed': 9734, 'hung': 9735, 'audaciousspunk': 9736, 'dramatically': 9737, 'plummet': 9738, 'nino': 9739, 'boost': 9740, 'agycutkbnn': 9741, 'soaring': 9742, 'vymouzjzre': 9743, 'enrjhqkv': 9744, 'deliberately': 9745, 'pcxarbhan': 9746, 'sigmund': 9747, 'freud': 9748, 'freebesieged': 9749, 'tory': 9750, 'wafer': 9751, 'qfuerey': 9752, 'vbffodtpm': 9753, 'rjgkjkjjn': 9754, 'tarp': 9755, 'protecting': 9756, 'outfield': 9757, 'infield': 9758, 'ldywdydt': 9759, 'vymnrnsthg': 9760, 'mvsqgxk': 9761, 'cus': 9762, 'bah': 9763, 'menswear': 9764, 'urbanfashion': 9765, 'ccwzdtfbus': 9766, 'codemew': 9767, 'mil': 9768, 'credits': 9769, 'contruction': 9770, 'upgrading': 9771, 'ferries': 9772, 'standards': 9773, 'vashon': 9774, 'mukilteo': 9775, 'edgskab': 9776, 'earthquakenew': 9777, 'bksyymvisg': 9778, 'baaaack': 9779, 'petersen': 9780, 'bowhunting': 9781, 'bows': 9782, 'fjgdvgn': 9783, 'expense': 9784, 'izklelzc': 9785, 'driverless': 9786, 'healthinsurance': 9787, 'nieces': 9788, 'megan': 9789, 'swanger': 9790, 'ruthann': 9791, 'mccormick': 9792, 'daisy': 9793, 'henley': 9794, 'dljatw': 9795, 'rabidmonkeys': 9796, 'unique': 9797, 'ztofbiwtd': 9798, 'sworn': 9799, 'proven': 9800, 'hosts': 9801, 'reconnect': 9802, 'rdjporazg': 9803, 'mkwyvmir': 9804, 'encaustic': 9805, 'cerography': 9806, 'byityf': 9807, 'iapmesm': 9808, 'drums': 9809, 'janice': 9810, 'mcxcgzd': 9811, 'whack': 9812, 'exsmuy': 9813, 'lidherotj': 9814, 'freestyles': 9815, 'djdewdwr': 9816, 'beetroot': 9817, 'artumhmbhh': 9818, 'nowoasw': 9819, 'gsbmplbhh': 9820, 'youd': 9821, 'bo': 9822, 'investment': 9823, 'keurig': 9824, 'gtdnwspvi': 9825, 'ashghebranious': 9826, 'trans': 9827, 'generational': 9828, 'volunteers': 9829, 'participate': 9830, 'simulating': 9831, 'nwvrvghf': 9832, 'hvnewsnetwork': 9833, 'definit': 9834, 'ihzemldpu': 9835, 'torrance': 9836, 'tweetinglew': 9837, 'tersestuff': 9838, 'notley': 9839, 'heartland': 9840, 'tens': 9841, 'tfw': 9842, 'slaves': 9843, 'albertans': 9844, 'nears': 9845, 'speak': 9846, 'uogrdauat': 9847, 'sxqtyduvul': 9848, 'breachgamingorg': 9849, 'fuckyeahcarey': 9850, 'bornverified': 9851, 'iqowzgvznl': 9852, 'ireporter': 9853, 'rnyunt': 9854, 'inbounds': 9855, 'bounds': 9856, 'nats': 9857, 'nl': 9858, 'ldeocxuo': 9859, 'bridgeport': 9860, 'burglar': 9861, 'mlcdlb': 9862, 'mjdzmgjow': 9863, 'nuhasfkbv': 9864, 'positivity': 9865, 'amazin': 9866, 'dey': 9867, 'dedication': 9868, 'wmmkirjhw': 9869, 'policyholders': 9870, 'clico': 9871, 'edvivuxz': 9872, 'jycpfiyhg': 9873, 'eagles': 9874, 'matthews': 9875, 'rrqildkil': 9876, 'hotnewscak': 9877, 'jackmulholland': 9878, 'tagged': 9879, 'attackonstiles': 9880, 'punk': 9881, 'alpha': 9882, 'doll': 9883, 'latssuow': 9884, 'kehtreni': 9885, 'drob': 9886, 'nopeach': 9887, 'wnuqqatttp': 9888, 'latim': 9889, 'catalogu': 9890, 'branch': 9891, 'surety': 9892, 'pramklrmhz': 9893, 'zaynmaiikist': 9894, 'westmarch': 9895, 'arreat': 9896, 'enolagay': 9897, 'disarmed': 9898, 'jbfhkeq': 9899, 'yup': 9900, 'iispvpb': 9901, 'gargoyle': 9902, 'hoof': 9903, 'coil': 9904, 'iibrcnx': 9905, 'qld': 9906, 'billy': 9907, 'queensland': 9908, 'msgnndxoek': 9909, 'chapoutier': 9910, 'crozes': 9911, 'hermitage': 9912, 'violets': 9913, 'slate': 9914, 'yum': 9915, 'wine': 9916, 'skvwnhz': 9917, 'laurenjauregui': 9918, 'eyugkbyxr': 9919, 'misrjxuir': 9920, 'buddys': 9921, 'towns': 9922, 'mirrors': 9923, 'reflected': 9924, 'desir': 9925, 'chemicals': 9926, 'strives': 9927, 'maintain': 9928, 'eco': 9929, 'hearitfrompatty': 9930, 'snowywolf': 9931, 'thegreenparty': 9932, 'hollywarnexx': 9933, 'apaz': 9934, 'connormidd': 9935, 'krsyxmmc': 9936, 'ellenfromnowon': 9937, 'nexus': 9938, 'shifter': 9939, 'rjpjbwvfck': 9940, 'rbcinsurance': 9941, 'browsers': 9942, 'machines': 9943, 'existant': 9944, 'wolter': 9945, 'peeters': 9946, 'nsw': 9947, 'rural': 9948, 'gxenhwze': 9949, 'srbqlmuwbv': 9950, 'sheeting': 9951, 'aaaaaand': 9952, 'lamb': 9953, 'intro': 9954, 'lemznfk': 9955, 'kiddo': 9956, 'gi': 9957, 'sang': 9958, 'pir': 9959, 'auc': 9960, 'njvpxzmjv': 9961, 'ijdwzvt': 9962, 'testicles': 9963, 'fath': 9964, 'rjopjkbydr': 9965, 'nufdgwyev': 9966, 'okscwyohc': 9967, 'xzvltzzk': 9968, 'balanced': 9969, 'insanity': 9970, 'grimrail': 9971, 'depot': 9972, 'qochspybw': 9973, 'kaccpkwf': 9974, 'nnixodhigc': 9975, 'goodell': 9976, 'ucnckrnlow': 9977, 'appreciativeinquiry': 9978, 'soeaggbkj': 9979, 'tdwprvbi': 9980, 'alextucker': 9981, 'chick': 9982, 'chews': 9983, 'median': 9984, 'plzrlmi': 9985, 'transformation': 9986, 'pyehwodwun': 9987, 'aliens': 9988, 'exterminate': 9989, 'pbnnskz': 9990, 'awn': 9991, 'alarming': 9992, 'vhkj': 9993, 'tjwbseipw': 9994, 'mistaken': 9995, 'cataclysmic': 9996, 'reator': 9997, 'motogp': 9998, 'indianapolis': 9999, 'espargaro': 10000, 'rnylsra': 10001, 'igxxfzko': 10002, 'azlxydvzk': 10003, 'archetype': 10004, 'grounded': 10005, 'readiness': 10006, 'fpoj': 10007, 'wxbrarcp': 10008, 'dnj': 10009, 'rjcaxjpo': 10010, 'newsbuffalo': 10011, 'guardrails': 10012, 'savannahross': 10013, 'uhc': 10014, 'creeper': 10015, 'salty': 10016, 'jackman': 10017, 'downgraded': 10018, 'hmmuduqt': 10019, 'examples': 10020, 'tmogtifb': 10021, 'atombomb': 10022, 'dubbo': 10023, 'hdbmfovutz': 10024, 'dailyliber': 10025, 'benzema': 10026, 'increasingly': 10027, 'benitez': 10028, 'empathi': 10029, 'ocx': 10030, 'kirkmin': 10031, 'barthubbuch': 10032, 'weei': 10033, 'bait': 10034, 'patriot': 10035, 'hater': 10036, 'cydia': 10037, 'tweak': 10038, 'wkmfdignt': 10039, 'phillipten': 10040, 'detonates': 10041, 'xyckgxzv': 10042, 'drothvader': 10043, 'nevalistis': 10044, 'arachys': 10045, 'scuqzpnq': 10046, 'sewing': 10047, 'superstition': 10048, 'swami': 10049, 'agnivesh': 10050, 'methods': 10051, 'touching': 10052, 'obtaing': 10053, 'rank': 10054, 'transcription': 10055, 'butiqob': 10056, 'cranboonitz': 10057, 'hereticofeth': 10058, 'mwcywjzi': 10059, 'etyzygba': 10060, 'dubloadz': 10061, 'droppd': 10062, 'meelllttting': 10063, 'vxsqpfena': 10064, 'xrprtkffj': 10065, 'stony': 10066, 'felons': 10067, 'wbecdmhqo': 10068, 'stressing': 10069, 'nikoniko': 10070, 'spaceshiptwo': 10071, 'eysblyxl': 10072, 'kpcc': 10073, 'woundedpigeon': 10074, 'ssoaevcvo': 10075, 'xpwkodpqto': 10076, 'quirk': 10077, 'hxvihdushp': 10078, 'dantmatrafajlo': 10079, 'animallogic': 10080, 'lotg': 10081, 'smoothed': 10082, 'bird': 10083, 'chalked': 10084, 'mouse': 10085, 'subtle': 10086, 'mapleridge': 10087, 'lougheed': 10088, 'dewdney': 10089, 'eto': 10090, 'hif': 10091, 'hm': 10092, 'ebolatrends': 10093, 'ihvmtmzxne': 10094, 'jliemrsnnj': 10095, 'acswzocw': 10096, 'roofing': 10097, 'ielacrrw': 10098, 'themagickidraps': 10099, 'executing': 10100, 'mfalcon': 10101, 'fantosex': 10102, 'amend': 10103, 'mogacola': 10104, 'zamtriossu': 10105, 'doctors': 10106, 'stockholm': 10107, 'copperfields': 10108, 'unxcsv': 10109, 'danryckert': 10110, 'drewscanlon': 10111, 'stealth': 10112, 'silenc': 10113, 'fcqmkffflw': 10114, 'vayaymbngu': 10115, 'damnaarielle': 10116, 'entirely': 10117, 'irfcnszv': 10118, 'erdogan': 10119, 'socialists': 10120, 'zxauidrxu': 10121, 'shareahol': 10122, 'whereas': 10123, 'jez': 10124, 'printing': 10125, 'reffbkvgr': 10126, 'mzgraciebaby': 10127, 'jumpin': 10128, 'officialrealrap': 10129, 'mm': 10130, 'flyopinemonkey': 10131, 'honshu': 10132, 'coronet': 10133, 'allied': 10134, 'moore': 10135, 'octnpyueei': 10136, 'kunstler': 10137, 'acitemt': 10138, 'residualincome': 10139, 'mlm': 10140, 'wqjlshwg': 10141, 'burger': 10142, 'tetdlyimn': 10143, 'newscomauhq': 10144, 'offloading': 10145, 'material': 10146, 'rachelcaine': 10147, 'weatherit': 10148, 'minds': 10149, 'dmtzmgyrik': 10150, 'johnfromcranber': 10151, 'makinmemories': 10152, 'gmpbdmt': 10153, 'kabktcjnl': 10154, 'afk': 10155, 'johanfranzen': 10156, 'orchs': 10157, 'lining': 10158, 'mizuta': 10159, 'glmcaxni': 10160, 'pvc': 10161, 'lqazljvg': 10162, 'qhsyfrwec': 10163, 'sweoei': 10164, 'shells': 10165, 'construct': 10166, 'edlkfdw': 10167, 'pllolz': 10168, 'hangout': 10169, 'est': 10170, 'qkahxwlwxa': 10171, 'erdfpryp': 10172, 'ikzakly': 10173, 'jsunnews': 10174, 'snbowatp': 10175, 'fowdeci': 10176, 'freshness': 10177, 'cilopmleb': 10178, 'proportions': 10179, 'commences': 10180, 'manage': 10181, 'vis': 10182, 'disrwhqgym': 10183, 'decree': 10184, 'kpnnktlxh': 10185, 'bubblycuteone': 10186, 'okayyyyyy': 10187, 'rinkydnk': 10188, 'zaibatsunews': 10189, 'neoprogressive': 10190, 'pushleft': 10191, 'ecology': 10192, 'rts': 10193, 'afghetc': 10194, 'humanitarian': 10195, 'braves': 10196, 'dumping': 10197, 'decis': 10198, 'qbmcsjavt': 10199, 'classycolkett': 10200, 'thorgan': 10201, 'gladbach': 10202, 'gsamymt': 10203, 'sterlingknight': 10204, 'crashsterling': 10205, 'carmel': 10206, 'joeysterling': 10207, 'isnt': 10208, 'fsngewux': 10209, 'pdnhhtzh': 10210, 'bfestwbzt': 10211, 'dna': 10212, 'attend': 10213, 'organized': 10214, 'bvckdpdti': 10215, 'systematic': 10216, 'torture': 10217, 'grahamwp': 10218, 'nar': 10219, 'phuket': 10220, 'qyaendvdgc': 10221, 'zpahnsxn': 10222, 'zsdvweglf': 10223, 'devia': 10224, 'ler': 10225, 'wattys': 10226, 'teenfiction': 10227, 'gmghr': 10228, 'xqxbvg': 10229, 'fence': 10230, 'homeowners': 10231, 'vlaiuvtomm': 10232, 'ajpnebg': 10233, 'reiterate': 10234, 'mindset': 10235, 'lgtzkwmqw': 10236, 'elwoods': 10237, 'blazingelwoods': 10238, 'qyzpbgkmr': 10239, 'lzffptaz': 10240, 'ftsn': 10241, 'ftsnnewsdesk': 10242, 'marley': 10243, 'brinx': 10244, 'striptease': 10245, 'spreads': 10246, 'pounding': 10247, 'imperialism': 10248, 'spins': 10249, 'militarism': 10250, 'crushes': 10251, 'peoples': 10252, 'nvbtcnca': 10253, 'savagenation': 10254, 'peasants': 10255, 'stalin': 10256, 'redistribute': 10257, 'bejftygjil': 10258, 'jlczidzvu': 10259, 'stl': 10260, 'ace': 10261, 'grille': 10262, 'mounts': 10263, 'speedtech': 10264, 'amber': 10265, 'tsekuyvm': 10266, 'tjozutxl': 10267, 'frautrapani': 10268, 'missdaoh': 10269, 'modnao': 10270, 'migraine': 10271, 'cnyxjq': 10272, 'kierannicholson': 10273, 'pisces': 10274, 'jlabuz': 10275, 'sods': 10276, 'amman': 10277, 'diverted': 10278, 'gurion': 10279, 'jkpjpchi': 10280, 'darwin': 10281, 'quotesttg': 10282, 'helio': 10283, 'flynn': 10284, 'onr': 10285, 'inlysvl': 10286, 'sptkfaq': 10287, 'huhzxliig': 10288, 'earl': 10289, 'megaquake': 10290, 'frdnnd': 10291, 'canvas': 10292, 'letter': 10293, 'zipper': 10294, 'scxfcwit': 10295, 'gxotohsj': 10296, 'waved': 10297, 'misl': 10298, 'aisle': 10299, 'serbian': 10300, 'foods': 10301, 'clothing': 10302, 'sect': 10303, 'thisdayinhistory': 10304, 'confederate': 10305, 'iwelszifz': 10306, 'superhero': 10307, 'dravet': 10308, 'drowns': 10309, 'vbotjndp': 10310, 'juic': 10311, 'partially': 10312, 'adorableappple': 10313, 'mmda': 10314, 'wveoed': 10315, 'pugprob': 10316, 'pkofytkdx': 10317, 'lqdwefpqd': 10318, 'ggnbvzohwu': 10319, 'cristianinspire': 10320, 'ixjqgsxu': 10321, 'hienshi': 10322, 'gbay': 10323, 'wouldnt': 10324, 'packing': 10325, 'councilscc': 10326, 'dqsvyusi': 10327, 'wowsavannah': 10328, 'collect': 10329, 'mortar': 10330, 'pestle': 10331, 'burp': 10332, 'zwvyisypb': 10333, 'apd': 10334, 'qyccvuubkr': 10335, 'glasses': 10336, 'adumbbb': 10337, 'habbo': 10338, 'tic': 10339, 'tac': 10340, 'battleships': 10341, 'matchwood': 10342, 'ollymursaus': 10343, 'tasted': 10344, 'trusting': 10345, 'writescoffee': 10346, 'stoqac': 10347, 'iartg': 10348, 'rwa': 10349, 'twrw': 10350, 'rrbc': 10351, 'homebuyer': 10352, 'miscalculation': 10353, 'mwjcdk': 10354, 'kindermorgan': 10355, 'nosajjjin': 10356, 'wukvdavuju': 10357, 'seyqwehe': 10358, 'whelen': 10359, 'ss': 10360, 'amplifier': 10361, 'aiwusevq': 10362, 'ginjuwn': 10363, 'clnv': 10364, 'iafflocal': 10365, 'begforcum': 10366, 'allday': 10367, 'cumshots': 10368, 'cumcovered': 10369, 'sexycumshots': 10370, 'cumtown': 10371, 'bj': 10372, 'nutt': 10373, 'cumslut': 10374, 'girlslovecum': 10375, 'cxyjjoz': 10376, 'omega': 10377, 'writer': 10378, 'explores': 10379, 'religion': 10380, 'rayner': 10381, 'utcpdidfo': 10382, 'newsarama': 10383, 'aelinrhee': 10384, 'mascara': 10385, 'smeared': 10386, 'whistled': 10387, 'suvs': 10388, 'dickhead': 10389, 'gecko': 10390, 'chillin': 10391, 'wxelajuh': 10392, 'nycha': 10393, 'nyburst': 10394, 'wsiidujoh': 10395, 'unexercised': 10396, 'honda': 10397, 'psqd': 10398, 'makewaterwork': 10399, 'maxed': 10400, 'txrbdaubnn': 10401, 'uecegox': 10402, 'westerncanadadrought': 10403, 'uooygbbaz': 10404, 'sivan': 10405, 'basalt': 10406, 'massage': 10407, 'jjxcnwbp': 10408, 'wonderfully': 10409, 'instal': 10410, 'austin': 10411, 'awxrzsqh': 10412, 'oafni': 10413, 'cbpsgskvo': 10414, 'cvpdvhxdr': 10415, 'fdmxpfcmo': 10416, 'fueled': 10417, 'rkdzbtgc': 10418, 'lasvegaslocally': 10419, 'vitalvegas': 10420, 'reined': 10421, 'stool': 10422, 'sjoeingt': 10423, 'bjjoifzuhl': 10424, 'iywzallsn': 10425, 'ghetto': 10426, 'reunite': 10427, 'kilgvay': 10428, 'pieceofme': 10429, 'mjywpcf': 10430, 'lwjhzaj': 10431, 'kmgdvvsaz': 10432, 'bytsfmsmd': 10433, 'stfmbbzfb': 10434, 'dqvjhncv': 10435, 'wxhmpppjq': 10436, 'troylercraft': 10437, 'spammers': 10438, 'steveycheese': 10439, 'mapmyrun': 10440, 'xrcchkago': 10441, 'snapharmony': 10442, 'ypvvqzjzt': 10443, 'elderly': 10444, 'companionship': 10445, 'chester': 10446, 'chestertweetsuk': 10447, 'retooled': 10448, 'retirees': 10449, 'handicapped': 10450, 'nomorehandout': 10451, 'shrimplevy': 10452, 'krpzjeu': 10453, 'wreaoka': 10454, 'heebsterrr': 10455, 'perrie': 10456, 'edwards': 10457, 'engagement': 10458, 'gedoxsppl': 10459, 'aczruorytd': 10460, 'unu': 10461, 'bgmcsrbvd': 10462, 'uploading': 10463, 'smoochy': 10464, 'awakenings': 10465, 'clips': 10466, 'bicentennial': 10467, 'oppose': 10468, 'smallforestelf': 10469, 'umm': 10470, 'oomf': 10471, 'instagrams': 10472, 'emilee': 10473, 'lucypalladino': 10474, 'classes': 10475, 'billionaires': 10476, 'billion': 10477, 'blakeschmidt': 10478, 'gbqtcspc': 10479, 'deathmule': 10480, 'sxhgfithjw': 10481, 'mk': 10482, 'tremors': 10483, 'stalag': 10484, 'ermac': 10485, 'tournament': 10486, 'masterpiece': 10487, 'mmchale': 10488, 'matching': 10489, 'lipstick': 10490, 'rediscovered': 10491, 'nars': 10492, 'emilyschuman': 10493, 'eghgjk': 10494, 'vxegcmmvbv': 10495, 'collar': 10496, 'kirstiealley': 10497, 'animaladvocate': 10498, 'engineshed': 10499, 'omnbatjeao': 10500, 'scraped': 10501, 'summerk': 10502, 'twhjlm': 10503, 'romanatwoodvlogs': 10504, 'geeknwjjsz': 10505, 'vmwtouyohm': 10506, 'radios': 10507, 'stoponesounds': 10508, 'airwaves': 10509, 'gsswam': 10510, 'stickynyc': 10511, 'roots': 10512, 'pcsnxjq': 10513, 'xohmmlmdi': 10514, 'ririnsider': 10515, 'hendricks': 10516, 'hospitality': 10517, 'neanea': 10518, 'usvyhdgog': 10519, 'chronicillness': 10520, 'avoided': 10521, 'mylifestory': 10522, 'fyjwjdkmi': 10523, 'rcnsjuayq': 10524, 'dqylcrfk': 10525, 'edfringe': 10526, 'mnfl': 10527, 'titania': 10528, 'summerhallery': 10529, 'reimagining': 10530, 'shakespeare': 10531, 'midsummer': 10532, 'iiaigzkbnj': 10533, 'mixtape': 10534, 'goin': 10535, 'uungrqougn': 10536, 'kffojrzp': 10537, 'jobggtp': 10538, 'sapphirescallop': 10539, 'oppa': 10540, 'haaaaaa': 10541, 'llegaste': 10542, 'tu': 10543, 'btpqdehlp': 10544, 'tomislav': 10545, 'salopek': 10546, 'wiqjeruktf': 10547, 'zoepzsoki': 10548, 'montalbanony': 10549, 'arovolturi': 10550, 'rscr': 10551, 'lifeline': 10552, 'fci': 10553, 'hay': 10554, 'masonite': 10555, 'wahpeton': 10556, 'kwvqnijq': 10557, 'uelzwvom': 10558, 'briefing': 10559, 'disclos': 10560, 'wbilaq': 10561, 'rickybonessxm': 10562, 'sirius': 10563, 'sayin': 10564, 'zachzaidman': 10565, 'thescore': 10566, 'wld': 10567, 'cart': 10568, 'boycottbear': 10569, 'caneyttwev': 10570, 'devon': 10571, 'breneman': 10572, 'heated': 10573, 'gtxymzbv': 10574, 'lsjowgyvqh': 10575, 'robertmeyer': 10576, 'farmers': 10577, 'kiildugpo': 10578, 'wps': 10579, 'weeklong': 10580, 'hunwx': 10581, 'eljqjhu': 10582, 'reviewers': 10583, 'boxset': 10584, 'lindsay': 10585, 'buroker': 10586, 'yusycui': 10587, 'mzmxmyklxv': 10588, 'mateo': 10589, 'doesnt': 10590, 'pointless': 10591, 'sctcqjvjx': 10592, 'sakhalintribune': 10593, 'mdelimzi': 10594, 'tounge': 10595, 'pepperoni': 10596, 'writebothfists': 10597, 'gamefeed': 10598, 'gxkzctc': 10599, 'videogam': 10600, 'creation': 10601, 'ai': 10602, 'automation': 10603, 'workforce': 10604, 'inequality': 10605, 'condolence': 10606, 'emrzicb': 10607, 'reporters': 10608, 'experiencing': 10609, 'arzemsrfq': 10610, 'intent': 10611, 'bills': 10612, 'upa': 10613, 'nda': 10614, 'hoes': 10615, 'darrellissa': 10616, 'fjlyjl': 10617, 'mwwwowcayo': 10618, 'plvzlrkvk': 10619, 'fortunately': 10620, 'pirates': 10621, 'acquired': 10622, 'blowltan': 10623, 'queer': 10624, 'sultry': 10625, 'rosenbergs': 10626, 'sethalphaeus': 10627, 'paramore': 10628, 'muse': 10629, 'northbayhealth': 10630, 'shines': 10631, 'bskpdur': 10632, 'wbcbsytj': 10633, 'jets': 10634, 'zergele': 10635, 'qendil': 10636, 'tesco': 10637, 'complaint': 10638, 'qzvkpahsq': 10639, 'bcldqmmehg': 10640, 'occasionb': 10641, 'indepth': 10642, 'aypzvhma': 10643, 'goode': 10644, 'championships': 10645, 'pgkbtmbap': 10646, 'mon': 10647, 'stallion': 10648, 'kbeastx': 10649, 'genisys': 10650, 'agre': 10651, 'lvgcmyiyj': 10652, 'cocky': 10653, 'strutted': 10654, 'parisian': 10655, 'accustom': 10656, 'mgneaifl': 10657, 'uqhmipv': 10658, 'dhs': 10659, 'urgbd': 10660, 'tnuvgf': 10661, 'erker': 10662, 'eep': 10663, 'brenas': 10664, 'puerto': 10665, 'rico': 10666, 'sdzrrfzhmi': 10667, 'warfare': 10668, 'founding': 10669, 'tgtcrujio': 10670, 'casually': 10671, 'jasmine': 10672, 'spid': 10673, 'bolshevik': 10674, 'monopolized': 10675, 'supply': 10676, 'seize': 10677, 'hunhry': 10678, 'xouvdhwz': 10679, 'beached': 10680, 'rqbspucjdf': 10681, 'coreyashe': 10682, 'rendered': 10683, 'cpwiecegv': 10684, 'rzlytnezu': 10685, 'jzwrwlvlsj': 10686, 'otbjjhh': 10687, 'yancey': 10688, 'rvmmutgvc': 10689, 'algeria': 10690, 'laughs': 10691, 'sticking': 10692, 'ttqilhpw': 10693, 'researchers': 10694, 'select': 10695, 'viibxgjav': 10696, 'esemjrncc': 10697, 'nudes': 10698, 'launches': 10699, 'airstrikes': 10700, 'kurdistan': 10701, 'dawabsha': 10702, 'erode': 10703, 'homegrown': 10704, 'qntnwm': 10705, 'oekucqzl': 10706, 'shaolin': 10707, 'shen': 10708, 'chiang': 10709, 'venoms': 10710, 'kung': 10711, 'fu': 10712, 'favori': 10713, 'hoodedu': 10714, 'berlatsky': 10715, 'climbed': 10716, 'wheels': 10717, 'io': 10718, 'hawk': 10719, 'srk': 10720, 'wqixgmhfh': 10721, 'versethe': 10722, 'univers': 10723, 'roman': 10724, 'gwcxoojyv': 10725, 'igmpj': 10726, 'dangling': 10727, 'piercing': 10728, 'crystals': 10729, 'impressions': 10730, 'lieu': 10731, 'triumphs': 10732, 'vdefmulx': 10733, 'yqpaijsag': 10734, 'mbooaniqi': 10735, 'earthtwerk': 10736, 'jhscgdag': 10737, 'treescape': 10738, 'podz': 10739, 'pmggavtokp': 10740, 'fierce': 10741, 'stillness': 10742, 'aspects': 10743, 'weigh': 10744, 'extern': 10745, 'financing': 10746, 'secured': 10747, 'dawxokke': 10748, 'cracks': 10749, 'cousins': 10750, 'pdjoqjc': 10751, 'dzlensegw': 10752, 'olap': 10753, 'jwfnnssxt': 10754, 'multidimensi': 10755, 'zaztbq': 10756, 'fetch': 10757, 'pyjamas': 10758, 'kasktwxfl': 10759, 'tjmbzobo': 10760, 'lewis': 10761, 'bhzrugus': 10762, 'toviqoofv': 10763, 'ranefihbuk': 10764, 'mflrvbhqa': 10765, 'azeiogme': 10766, 'assessment': 10767, 'optimization': 10768, 'routing': 10769, 'sustainable': 10770, 'umanaahwmi': 10771, 'smarttek': 10772, 'mpers': 10773, 'oionqlfql': 10774, 'ktbesoa': 10775, 'fonts': 10776, 'announce': 10777, 'dull': 10778, 'monotonous': 10779, 'camila': 10780, 'spree': 10781, 'dorismatsui': 10782, 'supporting': 10783, 'qwqksb': 10784, 'drmartyfox': 10785, 'libs': 10786, 'tepco': 10787, 'yjyrzav': 10788, 'orbette': 10789, 'threatconnect': 10790, 'hrlxnjk': 10791, 'dfir': 10792, 'threatintel': 10793, 'rokiieee': 10794, 'indi': 10795, 'sjxllzosw': 10796, 'indiannew': 10797, 'iuhkcy': 10798, 'pqyxxool': 10799, 'freegeezy': 10800, 'kqtlaodh': 10801, 'zqbxexi': 10802, 'cuqsysej': 10803, 'ary': 10804, 'cowardly': 10805, 'fried': 10806, 'ravioli': 10807, 'porcini': 10808, 'ricotta': 10809, 'nmcpgvwq': 10810, 'soinfgxyx': 10811, 'progressive': 10812, 'greetings': 10813, 'pens': 10814, 'publications': 10815, 'fxpixqujt': 10816, 'gunpt': 10817, 'importance': 10818, 'exits': 10819, 'heartbeat': 10820, 'familiar': 10821, 'calhoun': 10822, 'nrc': 10823, 'pztbqimpuw': 10824, 'paddytomlinson': 10825, 'ayekoradio': 10826, 'brasswork': 10827, 'shaken': 10828, 'qhaxvhwh': 10829, 'netlabel': 10830, 'electronicmusic': 10831, 'ccmus': 10832, 'ikvjicmg': 10833, 'cizjafnm': 10834, 'kaylak': 10835, 'pgbbmcfx': 10836, 'ddijzynkf': 10837, 'uustfn': 10838, 'zxathetis': 10839, 'badly': 10840, 'requa': 10841, 'spell': 10842, 'properly': 10843, 'typo': 10844, 'rgyaybosa': 10845, 'idols': 10846, 'wdym': 10847, 'alisonannyoung': 10848, 'exclusive': 10849, 'demolishes': 10850, 'hoisting': 10851, 'dyymlnzj': 10852, 'medinah': 10853, 'imkeepingmydayjob': 10854, 'kcmbbwwpg': 10855, 'vqkdfgnr': 10856, 'vdqam': 10857, 'qhoxftir': 10858, 'oi': 10859, 'pdosrgcf': 10860, 'hqdczzdmbn': 10861, 'cadrhioxp': 10862, 'eunice': 10863, 'njoki': 10864, 'aiii': 10865, 'calmly': 10866, 'varagesale': 10867, 'candace': 10868, 'dx': 10869, 'yqqslb': 10870, 'sexydragonmagic': 10871, 'realization': 10872, 'span': 10873, 'nvpwrkl': 10874, 'fvck': 10875, 'pmcpczpnd': 10876, 'askin': 10877, 'answers': 10878, 'cell': 10879, 'ioqtte': 10880, 'klxaucnpi': 10881, 'sirtophamhat': 10882, 'scynic': 10883, 'nafeezahmed': 10884, 'jeremyduns': 10885, 'wheat': 10886, 'trespass': 10887, 'lest': 10888, 'sweetpea': 10889, 'allotment': 10890, 'brightening': 10891, 'rainy': 10892, 'ndbfopkm': 10893, 'klarajoelsson': 10894, 'bummer': 10895, 'calwildfires': 10896, 'aftermath': 10897, 'wwxbgubww': 10898, 'amazondeals': 10899, 'skylanders': 10900, 'pmbuzfgin': 10901, 'buzzfeed': 10902, 'qsiplcfa': 10903, 'parade': 10904, 'oneheartonemindonecss': 10905, 'qdhxtoem': 10906, 'zicac': 10907, 'briefcase': 10908, 'axvffdn': 10909, 'nno': 10910, 'cmfnoync': 10911, 'emiiliexirwin': 10912, 'blaming': 10913, 'addresses': 10914, 'veld': 10915, 'refund': 10916, 'vkurtozj': 10917, 'trc': 10918, 'torontorc': 10919, 'articals': 10920, 'qddssfwu': 10921, 'soapscoop': 10922, 'yh': 10923, 'kfomcsc': 10924, 'nzhrchcgv': 10925, 'thyroid': 10926, 'ftunlhddg': 10927, 'photogenic': 10928, 'gosh': 10929, 'cxaupnemu': 10930, 'twilightfairy': 10931, 'leicester': 10932, 'merc': 10933, 'hqewmreyso': 10934, 'yyfclj': 10935, 'kalinandmyles': 10936, 'kalinwhite': 10937, 'givebackkalinwhiteaccount': 10938, 'dallascowboys': 10939, 'healthi': 10940, 'ulupxyzjwv': 10941, 'soloquiero': 10942, 'firefight': 10943, 'adriasimon': 10944, 'fqqigvlq': 10945, 'jgdlxfaw': 10946, 'ivwtynoujk': 10947, 'cityofmemphis': 10948, 'remaining': 10949, 'sections': 10950, 'greystone': 10951, 'lzljzzkcfa': 10952, 'watchthevideo': 10953, 'pxrvgjik': 10954, 'moaqaufa': 10955, 'nkouzwwrt': 10956, 'godsfirstson': 10957, 'practically': 10958, 'engulf': 10959, 'carted': 10960, 'guards': 10961, 'dbhonork': 10962, 'justus': 10963, 'corn': 10964, 'flakes': 10965, 'baseballquotes': 10966, 'dynasti': 10967, 'homefolks': 10968, 'opinionated': 10969, 'proposal': 10970, 'modernized': 10971, 'omw': 10972, 'firework': 10973, 'lrbtvueom': 10974, 'thebriankrause': 10975, 'leos': 10976, 'metaphorically': 10977, 'piperwearsthepants': 10978, 'charm': 10979, 'bst': 10980, 'mons': 10981, 'hanover': 10982, 'karlsruhe': 10983, 'gotthard': 10984, 'yoitocxiq': 10985, 'nhs': 10986, 'elijah': 10987, 'huriivfdkc': 10988, 'gpv': 10989, 'wnw': 10990, 'ljbjajdm': 10991, 'aluminum': 10992, 'missouri': 10993, 'naomi': 10994, 'wdseihyqu': 10995, 'rdo': 10996, 'hdvzirbci': 10997, 'zonewolf': 10998, 'ukygzd': 10999, 'secondhand': 11000, 'ydgmgbryl': 11001, 'mandem': 11002, 'totteham': 11003, 'maddddd': 11004, 'ting': 11005, 'bettyfreedoms': 11006, 'abninfvet': 11007, 'unconsciously': 11008, 'gwsauk': 11009, 'waiver': 11010, 'mariahcarey': 11011, 'xxzdnmbi': 11012, 'bufxmd': 11013, 'hcywrwnl': 11014, 'twxzvxbx': 11015, 'foxnewsinsider': 11016, 'vest': 11017, 'hearitfrompa': 11018, 'abolxmhvi': 11019, 'cbccalgary': 11020, 'underpasses': 11021, 'enacts': 11022, 'charlesadler': 11023, 'mustard': 11024, 'pepp': 11025, 'emily': 11026, 'difficultpeople': 11027, 'sneezing': 11028, 'placed': 11029, 'smack': 11030, 'christopherszen': 11031, 'hunterlove': 11032, 'tblack': 11033, 'russaky': 11034, 'kabul': 11035, 'oarmcgvb': 11036, 'piprhys': 11037, 'harms': 11038, 'lavapixcom': 11039, 'meteoearth': 11040, 'mfckpvzfv': 11041, 'sgecnkfthu': 11042, 'tomdean': 11043, 'shifted': 11044, 'easili': 11045, 'element': 11046, 'hanpcrrk': 11047, 'ujnrgfangj': 11048, 'tmipegqyev': 11049, 'correlate': 11050, 'marketwatch': 11051, 'mvrsyuppk': 11052, 'willis': 11053, 'foreman': 11054, 'vckitedev': 11055, 'unrealtouch': 11056, 'usarmy': 11057, 'jagm': 11058, 'tow': 11059, 'mnqchfk': 11060, 'hoke': 11061, 'excepting': 11062, 'versus': 11063, 'dfljev': 11064, 'vulrclwbd': 11065, 'realtime': 11066, 'regress': 11067, 'lizzie': 11068, 'cstsmith': 11069, 'thnk': 11070, 'float': 11071, 'rotations': 11072, 'leaning': 11073, 'learni': 11074, 'wgllubnw': 11075, 'cosmetic': 11076, 'periwinkle': 11077, 'copper': 11078, 'piping': 11079, 'abnlseqb': 11080, 'simulation': 11081, 'dcdecfv': 11082, 'dwbcduvdk': 11083, 'shelli': 11084, 'entitlement': 11085, 'ridiculous': 11086, 'wvngriypq': 11087, 'reipuwp': 11088, 'lcbdwmz': 11089, 'lionx': 11090, 'kirafrog': 11091, 'wario': 11092, 'screeching': 11093, 'accompanying': 11094, 'wisely': 11095, 'carnage': 11096, 'continuing': 11097, 'ggindependencmessag': 11098, 'descended': 11099, 'shadowed': 11100, 'crest': 11101, 'striking': 11102, 'harshly': 11103, 'wwp': 11104, 'serving': 11105, 'oif': 11106, 'oef': 11107, 'invisible': 11108, 'shhlvdplz': 11109, 'deadgirltalking': 11110, 'unfortunemelody': 11111, 'jaylenejoybeligan': 11112, 'tarynel': 11113, 'dredougie': 11114, 'santanico': 11115, 'pvkgojni': 11116, 'warped': 11117, 'attila': 11118, 'issu': 11119, 'buscemi': 11120, 'firefightr': 11121, 'fame': 11122, 'workd': 11123, 'shifts': 11124, 'diggin': 11125, 'wtc': 11126, 'lookg': 11127, 'lfjpnszuo': 11128, 'myhohvrhil': 11129, 'tmhthfdo': 11130, 'testimonials': 11131, 'muanfwcrw': 11132, 'directions': 11133, 'cafire': 11134, 'wildfir': 11135, 'beluga': 11136, 'seaworld': 11137, 'opseaworld': 11138, 'mzkujlfcv': 11139, 'critters': 11140, 'dxktshuj': 11141, 'charg': 11142, 'fzujgsxjg': 11143, 'mydrought': 11144, 'awareness': 11145, 'zvhxiv': 11146, 'dril': 11147, 'fpaoulwun': 11148, 'zhxxdpm': 11149, 'euroquak': 11150, 'jwdfpygnt': 11151, 'usg': 11152, 'paeds': 11153, 'imaging': 11154, 'foamed': 11155, 'foamcc': 11156, 'trooper': 11157, 'bobble': 11158, 'funko': 11159, 'kjbxieypma': 11160, 'enpjcfm': 11161, 'jxsfkvik': 11162, 'cmsgexmfc': 11163, 'sanonofr': 11164, 'targigbz': 11165, 'snapchatselfie': 11166, 'wrongperson': 11167, 'whimsy': 11168, 'someones': 11169, 'smth': 11170, 'rsyytng': 11171, 'deepest': 11172, 'condolences': 11173, 'officeofrg': 11174, 'wielding': 11175, 'woken': 11176, 'yhvji': 11177, 'ahamedis': 11178, 'messiah': 11179, 'dajaal': 11180, 'gog': 11181, 'magog': 11182, 'gym': 11183, 'flurry': 11184, 'owen': 11185, 'ferrell': 11186, 'bullet': 11187, 'twcnewsclt': 11188, 'nnbexhklhr': 11189, 'qiqdwdfg': 11190, 'gpvzvi': 11191, 'qrbtdcqcj': 11192, 'ltqcaey': 11193, 'taaoveg': 11194, 'iiii': 11195, 'riveeee': 11196, 'intervene': 11197, 'vitesse': 11198, 'supporters': 11199, 'buildup': 11200, 'skvnmtzgeg': 11201, 'reusing': 11202, 'equipments': 11203, 'drumming': 11204, 'champaign': 11205, 'fdbdp': 11206, 'tbr': 11207, 'browsing': 11208, 'homepag': 11209, 'xlqgvbr': 11210, 'limpar': 11211, 'sweeping': 11212, 'ayfdjebhy': 11213, 'reduces': 11214, 'jvivtzrv': 11215, 'yiayplan': 11216, 'amiibos': 11217, 'ranks': 11218, 'demise': 11219, 'ajkmcuswho': 11220, 'rant': 11221, 'xoxo': 11222, 'bluewestlo': 11223, 'upgdcyil': 11224, 'restor': 11225, 'twoptwips': 11226, 'sifting': 11227, 'oumchznq': 11228, 'possibility': 11229, 'nazis': 11230, 'kapokekito': 11231, 'northgate': 11232, 'innocents': 11233, 'explicitly': 11234, 'behavior': 11235, 'qadrkejzt': 11236, 'cary': 11237, 'condo': 11238, 'mimhhc': 11239, 'hubris': 11240, 'req': 11241, 'vision': 11242, 'rigour': 11243, 'scam': 11244, 'sarcastic': 11245, 'jssmmlnaq': 11246, 'raheelsharif': 11247, 'manifesting': 11248, 'helm': 11249, 'stormy': 11250, 'vzwsupport': 11251, 'texts': 11252, 'kunalkapoor': 11253, 'chaser': 11254, 'wjysehmw': 11255, 'pod': 11256, 'hebrooon': 11257, 'derivative': 11258, 'formula': 11259, 'stole': 11260, 'honduran': 11261, 'minors': 11262, 'ndwepizdq': 11263, 'khulna': 11264, 'enyndxppm': 11265, 'gqpijmkan': 11266, 'jaureguiswisdom': 11267, 'ive': 11268, 'languag': 11269, 'athletics': 11270, 'doping': 11271, 'monetary': 11272, 'requir': 11273, 'bloopandablast': 11274, 'parad': 11275, 'intriguing': 11276, 'dominant': 11277, 'jobbing': 11278, 'xssvgimvb': 11279, 'oimpoxcu': 11280, 'wildlif': 11281, 'eggalie': 11282, 'mnhfxhodb': 11283, 'hannah': 11284, 'jengriffinfnc': 11285, 'arriv': 11286, 'xumylcbq': 11287, 'dumbass': 11288, 'huhwpmrywz': 11289, 'iit': 11290, 'logically': 11291, 'sanct': 11292, 'gmtty': 11293, 'kyee': 11294, 'nockthie': 11295, 'hamlet': 11296, 'taungbazar': 11297, 'buthidaung': 11298, 'severely': 11299, 'kasitaroch': 11300, 'vivianunhcr': 11301, 'prayed': 11302, 'wfitkkvx': 11303, 'huffpostrelig': 11304, 'carmike': 11305, 'cinemas': 11306, 'behfhsppud': 11307, 'dyersdcrh': 11308, 'mcpmxmurk': 11309, 'resilience': 11310, 'factsheet': 11311, 'fcfpijiqt': 11312, 'vxuftvtau': 11313, 'okamsczbwg': 11314, 'aisumage': 11315, 'akumareisu': 11316, 'ophelia': 11317, 'cocaine': 11318, 'alameda': 11319, 'cok': 11320, 'snyoohseq': 11321, 'eugzhciun': 11322, 'adqvgrvr': 11323, 'pictured': 11324, 'yibbbxf': 11325, 'canceling': 11326, 'agrees': 11327, 'fgwxeprak': 11328, 'deedee': 11329, 'casey': 11330, 'caves': 11331, 'ktqsaarm': 11332, 'evnxscx': 11333, 'jyheffect': 11334, 'fitba': 11335, 'walked': 11336, 'kinesiology': 11337, 'ironman': 11338, 'durability': 11339, 'effectiveness': 11340, 'ejymkzpeex': 11341, 'iyuntxduv': 11342, 'concludes': 11343, 'deactivated': 11344, 'iaeect': 11345, 'folk': 11346, 'do': 11347, 'sgfnebgt': 11348, 'grlxurkod': 11349, 'jlujqsu': 11350, 'walfrtfka': 11351, 'studying': 11352, 'phfoeozyp': 11353, 'grilled': 11354, 'sandwich': 11355, 'figur': 11356, 'sandunes': 11357, 'gentle': 11358, 'lapping': 11359, 'gulls': 11360, 'sizewell': 11361, 'xcuihibn': 11362, 'alexjacobsonpfs': 11363, 'andre': 11364, 'gore': 11365, 'usfs': 11366, 'acronym': 11367, 'nadrgrxc': 11368, 'retweeted': 11369, 'cultsierre': 11370, 'mufczqjrl': 11371, 'ssltesmhi': 11372, 'stlouis': 11373, 'caraccidentlawyer': 11374, 'speeding': 11375, 'kzomof': 11376, 'skxvmcba': 11377, 'ohyayyyyay': 11378, 'warlord': 11379, 'thrusts': 11380, 'jams': 11381, 'womb': 11382, 'ieccjdoub': 11383, 'gigagil': 11384, 'iof': 11385, 'morality': 11386, 'nficuloj': 11387, 'wwfacunft': 11388, 'yfqxvak': 11389, 'kxrehvthl': 11390, 'hagerstown': 11391, 'yourstate': 11392, 'whag': 11393, 'underwater': 11394, 'cfploxcr': 11395, 'cbgzxunk': 11396, 'followlasg': 11397, 'urgentthere': 11398, 'storey': 11399, 'oworoshoki': 11400, 'mainland': 11401, 'imminent': 11402, 'xjbdcaahf': 11403, 'acfirhzn': 11404, 'ngata': 11405, 'zdtoqhhg': 11406, 'erjyanjxm': 11407, 'vbrpeujanl': 11408, 'fqmyprlgg': 11409, 'ruebs': 11410, 'endures': 11411, 'climb': 11412, 'jxhazebnqk': 11413, 'jays': 11414, 'rocking': 11415, 'joeybats': 11416, 'rogers': 11417, 'offs': 11418, 'moseby': 11419, 'barfield': 11420, 'qfyyazifx': 11421, 'cekbxjmpbj': 11422, 'spying': 11423, 'hidden': 11424, 'nsa': 11425, 'software': 11426, 'qycwjjaj': 11427, 'thedoolinggroup': 11428, 'slams': 11429, 'bordento': 11430, 'yqhfioxqm': 11431, 'solano': 11432, 'skaggs': 11433, 'mylieruxk': 11434, 'kwislo': 11435, 'dreamer': 11436, 'eerpoahpk': 11437, 'bryansinger': 11438, 'rupaul': 11439, 'alexshipppp': 11440, 'oqwjxrt': 11441, 'bardissimo': 11442, 'henry': 11443, 'bilsen': 11444, 'disappeared': 11445, 'zpkjztrp': 11446, 'liwkjybe': 11447, 'norg': 11448, 'pundit': 11449, 'grave': 11450, 'fabvlvnm': 11451, 'ruddyyyyyy': 11452, 'jamiegriff': 11453, 'jamie': 11454, 'vzgslepkkh': 11455, 'shadowman': 11456, 'monstrosities': 11457, 'tbpqlyfyot': 11458, 'hdckeposqc': 11459, 'escorts': 11460, 'gfe': 11461, 'dubai': 11462, 'nahgfmudt': 11463, 'ri': 11464, 'hardest': 11465, 'yard': 11466, 'casewrites': 11467, 'naeyvsg': 11468, 'currency': 11469, 'transgress': 11470, 'ward': 11471, 'payment': 11472, 'unsecured': 11473, 'jbumzqpk': 11474, 'carriage': 11475, 'tennews': 11476, 'hfyrloqyq': 11477, 'rappers': 11478, 'whale': 11479, 'cocktail': 11480, 'mas': 11481, 'verde': 11482, 'mezcal': 11483, 'chartreuse': 11484, 'cucumber': 11485, 'bitters': 11486, 'reuosjekm': 11487, 'ocd': 11488, 'ercjmnea': 11489, 'jcszcjihlh': 11490, 'gentlemen': 11491, 'elevator': 11492, 'noses': 11493, 'pressed': 11494, 'zcfhisrw': 11495, 'vwykdauvm': 11496, 'bekrpjnyhs': 11497, 'ltyefjdma': 11498, 'indiatv': 11499, 'laawuud': 11500, 'dopeitsval': 11501, 'humbled': 11502, 'acczqzw': 11503, 'vltbrwbr': 11504, 'ciwwuqthin': 11505, 'achieve': 11506, 'excellence': 11507, 'habit': 11508, 'actionmoviestaughtus': 11509, 'spac': 11510, 'exqkmlgnj': 11511, 'nwspocatello': 11512, 'brunt': 11513, 'grayed': 11514, 'interspersed': 11515, 'crowtherjohn': 11516, 'effiedeans': 11517, 'lbr': 11518, 'couldnt': 11519, 'situ': 11520, 'wacttgda': 11521, 'basebal': 11522, 'yzgwzbhr': 11523, 'rhtaqjvqn': 11524, 'tourist': 11525, 'jackholes': 11526, 'abandonedpics': 11527, 'abbandoned': 11528, 'darsena': 11529, 'castello': 11530, 'scaligero': 11531, 'sirmion': 11532, 'aubrey': 11533, 'dispatchers': 11534, 'boone': 11535, 'fhkxtrhyu': 11536, 'flashflood': 11537, 'gilgit': 11538, 'farmland': 11539, 'fixrh': 11540, 'ibedxgfy': 11541, 'benjm': 11542, 'tourofutah': 11543, 'bgrego': 11544, 'pacquiao': 11545, 'marquez': 11546, 'unfilled': 11547, 'durvod': 11548, 'vjaryxa': 11549, 'wkvvqvkt': 11550, 'artisteoftheweekfact': 11551, 'conversations': 11552, 'coastcoastdjs': 11553, 'jiwonle': 11554, 'clubbang': 11555, 'adidas': 11556, 'swingman': 11557, 'jersey': 11558, 'toayjowc': 11559, 'teemo': 11560, 'tytpbcgwi': 11561, 'xbzwyhct': 11562, 'jmbvpanxr': 11563, 'danielle': 11564, 'ou': 11565, 'wbball': 11566, 'prove': 11567, 'begun': 11568, 'tren': 11569, 'vhcxtvcinr': 11570, 'stray': 11571, 'strangers': 11572, 'qhfqluiry': 11573, 'reshareworthi': 11574, 'extent': 11575, 'privilege': 11576, 'unfair': 11577, 'devpeace': 11578, 'jwxrxlsqo': 11579, 'feelingman': 11580, 'overcharging': 11581, 'rent': 11582, 'nowher': 11583, 'documenting': 11584, 'qzdou': 11585, 'uprootin': 11586, 'fhvokmph': 11587, 'skaausjpo': 11588, 'oliviamil': 11589, 'sara': 11590, 'livemint': 11591, 'rptouzijs': 11592, 'mlhfefhr': 11593, 'allthenew': 11594, 'marge': 11595, 'ehek': 11596, 'uncertain': 11597, 'rreojgu': 11598, 'mute': 11599, 'lender': 11600, 'fees': 11601, 'linkedin': 11602, 'pmbtxmo': 11603, 'fljwxjjp': 11604, 'devise': 11605, 'sonofliberty': 11606, 'illuminated': 11607, 'brightly': 11608, 'danielsahyounie': 11609, 'wvtpuryx': 11610, 'ogun': 11611, 'smugglers': 11612, 'engage': 11613, 'shootout': 11614, 'allegedly': 11615, 'puxbcloyk': 11616, 'rory': 11617, 'mcilroy': 11618, 'chinadotcom': 11619, 'udtgwfscp': 11620, 'vwsxlqn': 11621, 'tracklist': 11622, 'ablaz': 11623, 'aussi': 11624, 'summon': 11625, 'directly': 11626, 'kfyebhbdi': 11627, 'ecstatic': 11628, 'racco': 11629, 'tqdzvgwx': 11630, 'animalrescu': 11631, 'rangerkaitimay': 11632, 'strawberries': 11633, 'mqydxrlae': 11634, 'epjjkbb': 11635, 'ds': 11636, 'haboppeji': 11637, 'kurd': 11638, 'ghghqm': 11639, 'qhbzkerott': 11640, 'cogxbox': 11641, 'xboxone': 11642, 'flower': 11643, 'printed': 11644, 'rjzwcasx': 11645, 'wtdiavua': 11646, 'stacedemon': 11647, 'nelson': 11648, 'mandela': 11649, 'qrljyuez': 11650, 'xfguklrltf': 11651, 'feguhwmc': 11652, 'hoe': 11653, 'lethbridge': 11654, 'mdt': 11655, 'yqyiwjnez': 11656, 'preppers': 11657, 'doomsday': 11658, 'shtf': 11659, 'preppertalk': 11660, 'vpqtgeqlma': 11661, 'zvchjclf': 11662, 'qpgzrh': 11663, 'teamfollowback': 11664, 'followback': 11665, 'lollapalooza': 11666, 'shotgun': 11667, 'denton': 11668, 'rcnjli': 11669, 'tumbles': 11670, 'todayi': 11671, 'sweeps': 11672, 'dist': 11673, 'sfa': 11674, 'rwbxzm': 11675, 'maaaaan': 11676, 'fjdmqhyai': 11677, 'sebe': 11678, 'sriramk': 11679, 'dlin': 11680, 'pmarca': 11681, 'commons': 11682, 'ownership': 11683, 'ciytyfgpr': 11684, 'kalmikya': 11685, 'astrakhan': 11686, 'volgagrad': 11687, 'dagestan': 11688, 'locusts': 11689, 'fwzwxtp': 11690, 'timeworld': 11691, 'thruuu': 11692, 'aimduway': 11693, 'cgbjwmhii': 11694, 'scholars': 11695, 'imprisoning': 11696, 'flhfmehzh': 11697, 'reblogged': 11698, 'xrpsoo': 11699, 'ofentse': 11700, 'tsi': 11701, 'correcting': 11702, 'dvieablofz': 11703, 'catalinas': 11704, 'ntawgezjx': 11705, 'dbftyid': 11706, 'welcomes': 11707, 'mjjqpsv': 11708, 'cjqqcgohg': 11709, 'axkxnoyz': 11710, 'shakjn': 11711, 'magnums': 11712, 'finale': 11713, 'stori': 11714, 'mafireems': 11715, 'qufwxrjiql': 11716, 'kcarosawmur': 11717, 'edvpitswy': 11718, 'xsbddlziy': 11719, 'afycso': 11720, 'rememb': 11721, 'radychildrens': 11722, 'igwstttkwk': 11723, 'anakin': 11724, 'wbc': 11725, 'ponting': 11726, 'hsgktezucn': 11727, 'notified': 11728, 'rrzbzgon': 11729, 'bedrooms': 11730, 'baths': 11731, 'qmsrressd': 11732, 'zlajcssq': 11733, 'dianneg': 11734, 'nagaski': 11735, 'yelllowheather': 11736, 'undeserving': 11737, 'mithitennis': 11738, 'crackedgem': 11739, 'iron': 11740, 'rjacsitep': 11741, 'plqfbik': 11742, 'explosives': 11743, 'rigged': 11744, 'eastern': 11745, 'spotlight': 11746, 'paradise': 11747, 'wniagospel': 11748, 'heufawzm': 11749, 'bnhtxaezmm': 11750, 'oversee': 11751, 'vhqtbypzt': 11752, 'fade': 11753, 'shipsxanchors': 11754, 'idek': 11755, 'christycroley': 11756, 'vela': 11757, 'qreoevlu': 11758, 'mssqsvnbm': 11759, 'livescience': 11760, 'dpgdnaoyp': 11761, 'fcjfdkdz': 11762, 'omgbethersss': 11763, 'bethanymota': 11764, 'broader': 11765, 'conservation': 11766, 'akgovbillwalker': 11767, 'reinstate': 11768, 'buffer': 11769, 'protectdenaliwolv': 11770, 'fo': 11771, 'evyelwlc': 11772, 'wexzadgc': 11773, 'hendrixonfire': 11774, 'blackcats': 11775, 'noob': 11776, 'mixed': 11777, 'violated': 11778, 'server': 11779, 'sunbathe': 11780, 'drnookm': 11781, 'matijwkzbh': 11782, 'flunkie': 11783, 'gzsruzvq': 11784, 'lifetime': 11785, 'ehlcqkxl': 11786, 'blackinamerica': 11787, 'growingupblack': 11788, 'weakening': 11789, 'lubbock': 11790, 'boundary': 11791, 'pwtzutay': 11792, 'jetengine': 11793, 'turbojet': 11794, 'boing': 11795, 'kxxnszpnk': 11796, 'ndxrkncln': 11797, 'uswarcrim': 11798, 'wvobvvtxkg': 11799, 'dismantling': 11800, 'vnaccfd': 11801, 'fijapxykrq': 11802, 'xwmsawwm': 11803, 'teyerugsi': 11804, 'domain': 11805, 'sophistication': 11806, 'closely': 11807, 'zrnf': 11808, 'metrotown': 11809, 'maintained': 11810, 'burnaby': 11811, 'changeforthewors': 11812, 'acousticmaloley': 11813, 'sequwmvfx': 11814, 'cntpnqo': 11815, 'qdfasaelm': 11816, 'floatin': 11817, 'jawgpsp': 11818, 'developing': 11819, 'symptoms': 11820, 'rqkkuhey': 11821, 'pisco': 11822, 'coya': 11823, 'ppekbqdcnc': 11824, 'ewnunphdo': 11825, 'lastma': 11826, 'lagos': 11827, 'vzsftrbg': 11828, 'overtaking': 11829, 'bathandnortheastsomerset': 11830, 'fafcnln': 11831, 'vvorm': 11832, 'negligence': 11833, 'fireworks': 11834, 'incidents': 11835, 'dwzynpb': 11836, 'wisdc': 11837, 'deathusa': 11838, 'serarcnrbi': 11839, 'mynjwbc': 11840, 'rtpjrhsq': 11841, 'stankyboy': 11842, 'snqfhpymo': 11843, 'uoozxaus': 11844, 'mgbizjfgd': 11845, 'prediction': 11846, 'expanded': 11847, 'slight': 11848, 'twcnews': 11849, 'ncwx': 11850, 'dgbehld': 11851, 'nanotech': 11852, 'clots': 11853, 'hfyvslbb': 11854, 'obligatory': 11855, 'ja': 11856, 'itsjustinstuart': 11857, 'mnkajiqn': 11858, 'barak': 11859, 'depends': 11860, 'dwight': 11861, 'eisenhow': 11862, 'yhvetmyz': 11863, 'wgugzm': 11864, 'editaxohaze': 11865, 'cuffed': 11866, 'roving': 11867, 'raccoons': 11868, 'toughens': 11869, 'ojusyzrq': 11870, 'tuzacdwfqd': 11871, 'hlportal': 11872, 'xdtvhfnb': 11873, 'ibaraki': 11874, 'prefecture': 11875, 'offing': 11876, 'landolina': 11877, 'btniwagt': 11878, 'realestate': 11879, 'hhzyoqela': 11880, 'basildudin': 11881, 'barbaric': 11882, 'saudies': 11883, 'austrian': 11884, 'vdiliicyr': 11885, 'autoames': 11886, 'ventilated': 11887, 'bandolier': 11888, 'dix': 11889, 'fzytwqkwv': 11890, 'fresno': 11891, 'designer': 11892, 'qualit': 11893, 'zgjgghdurf': 11894, 'unkn': 11895, 'jsehpwq': 11896, 'submissions': 11897, 'starbucks': 11898, 'momneedscoffee': 11899, 'iwontmakeit': 11900, 'nashvilletraffic': 11901, 'ghkegj': 11902, 'stunckle': 11903, 'crazydoctorlady': 11904, 'rods': 11905, 'creatur': 11906, 'trib': 11907, 'suspended': 11908, 'ryzhxklw': 11909, 'pxpoqktjo': 11910, 'munch': 11911, 'endangered': 11912, 'speci': 11913, 'tanstaafl': 11914, 'correlation': 11915, 'imply': 11916, 'peterdutton': 11917, 'labor': 11918, 'ment': 11919, 'alil': 11920, 'zipped': 11921, 'camilacabello': 11922, 'externally': 11923, 'equally': 11924, 'incapable': 11925, 'nothingness': 11926, 'blaise': 11927, 'pasc': 11928, 'ysxunvceh': 11929, 'kelworldpeace': 11930, 'taxstone': 11931, 'yoga': 11932, 'ibiza': 11933, 'dannyjohnjules': 11934, 'spencer': 11935, 'fearon': 11936, 'christielinford': 11937, 'rawfoodbliss': 11938, 'humid': 11939, 'forehead': 11940, 'flared': 11941, 'oli': 11942, 'extract': 11943, 'tbs': 11944, 'adsmbqkwu': 11945, 'glyoyfoc': 11946, 'sfrgnwo': 11947, 'trailed': 11948, 'colin': 11949, 'hvbjajs': 11950, 'adzkburt': 11951, 'lim': 11952, 'leh': 11953, 'tpuueatb': 11954, 'cyhitheprynce': 11955, 'elephantintheroom': 11956, 'modibo': 11957, 'maiga': 11958, 'fucktard': 11959, 'coyi': 11960, 'zlagvuza': 11961, 'xofvkmv': 11962, 'markwschaef': 11963, 'circular': 11964, 'ruins': 11965, 'odratxrqs': 11966, 'neon': 11967, 'rockin': 11968, 'sedan': 11969, 'pulse': 11970, 'uwobuuwmk': 11971, 'bickleton': 11972, 'vivaargentina': 11973, 'boxing': 11974, 'imagini': 11975, 'noi': 11976, 'clipuri': 11977, 'jcfwukofe': 11978, 'cliptv': 11979, 'desolationofsmaug': 11980, 'poze': 11981, 'thehobbit': 11982, 'kcdefvut': 11983, 'orphanage': 11984, 'obviously': 11985, 'djarelcn': 11986, 'haji': 11987, 'hunter': 11988, 'middleeasteye': 11989, 'muzzies': 11990, 'payback': 11991, 'pyramidhead': 11992, 'halt': 11993, 'ghostwriting': 11994, 'trends': 11995, 'startups': 11996, 'sjhhsrps': 11997, 'oifnhpcs': 11998, 'dani': 11999, 'gkprvzqlk': 12000, 'fanarmyfaceoff': 12001, 'kgtxnnbji': 12002, 'wbcshirl': 12003, 'doessnt': 12004, 'rejoice': 12005, 'calamities': 12006, 'ect': 12007, 'presume': 12008, 'soggy': 12009, 'lashings': 12010, 'moist': 12011, 'expo': 12012, 'yhruga': 12013, 'lyme': 12014, 'rgtghodpw': 12015, 'epabinczmj': 12016, 'sgzgtgfw': 12017, 'homies': 12018, 'inmate': 12019, 'approach': 12020, 'ihucoglw': 12021, 'delany': 12022, 'dhalgren': 12023, 'beastly': 12024, 'downing': 12025, 'geek': 12026, 'hesse': 12027, 'plays': 12028, 'tngpshnl': 12029, 'imzlnzltf': 12030, 'etcpb': 12031, 'marketers': 12032, 'marketer': 12033, 'kpmyqujsu': 12034, 'oaanwlha': 12035, 'captivity': 12036, 'introduced': 12037, 'compensate': 12038, 'ncjlxzfwaa': 12039, 'psalm': 12040, 'spokes': 12041, 'raptors': 12042, 'beg': 12043, 'rang': 12044, 'musik': 12045, 'goodlook': 12046, 'explanation': 12047, 'request': 12048, 'provided': 12049, 'ashj': 12050, 'vbrgjmiy': 12051, 'ayshun': 12052, 'daviskawalya': 12053, 'mauryn': 12054, 'goodbyes': 12055, 'hogan': 12056, 'thanking': 12057, 'publicity': 12058, 'mthe': 12059, 'premises': 12060, 'mantra': 12061, 'gehtski': 12062, 'eileenmfl': 12063, 'davidjordan': 12064, 'stephanenny': 12065, 'particular': 12066, 'nuys': 12067, 'fxuxvzx': 12068, 'vannuyscouncil': 12069, 'hddbmuyca': 12070, 'robertbenglund': 12071, 'iaogcsoy': 12072, 'djiwgpxv': 12073, 'truths': 12074, 'ufuwrgku': 12075, 'sparking': 12076, 'akxbskdn': 12077, 'tadhgtgmtel': 12078, 'oup': 12079, 'thda': 12080, 'kicks': 12081, 'xzlrwcpik': 12082, 'oxlxmkoyq': 12083, 'web': 12084, 'umtnnimtbm': 12085, 'fotofill': 12086, 'gorg': 12087, 'entity': 12088, 'montego': 12089, 'sewer': 12090, 'tvjnew': 12091, 'iamrrsb': 12092, 'pdehdtcpk': 12093, 'skywars': 12094, 'flechadas': 12095, 'sinistra': 12096, 'roy': 12097, 'spx': 12098, 'finite': 12099, 'mint': 12100, 'uhfmrtq': 12101, 'qulgakebhb': 12102, 'docks': 12103, 'pmikavykl': 12104, 'fifty': 12105, 'dates': 12106, 'kohooje': 12107, 'datingtips': 12108, 'goodread': 12109, 'siding': 12110, 'rdxzsleac': 12111, 'qwijrriyif': 12112, 'deosl': 12113, 'xavier': 12114, 'meaningless': 12115, 'lwilliams': 12116, 'wilshere': 12117, 'recordand': 12118, 'behaviors': 12119, 'arsen': 12120, 'jmawrlthb': 12121, 'kfbtccu': 12122, 'xyjrpsai': 12123, 'novel': 12124, 'iot': 12125, 'conserve': 12126, 'nnvzwv': 12127, 'modest': 12128, 'sniff': 12129, 'sniiiiiiff': 12130, 'donny': 12131, 'jude': 12132, 'mugabi': 12133, 'abortions': 12134, 'comings': 12135, 'labelled': 12136, 'qpssnacv': 12137, 'bcqzqjrzn': 12138, 'legna': 12139, 'sides': 12140, 'anpgnjfd': 12141, 'zel': 12142, 'kno': 12143, 'davis': 12144, 'nurses': 12145, 'judith': 12146, 'hopfer': 12147, 'deglin': 12148, 'vallerand': 12149, 'iufsuvhk': 12150, 'afrhnllyd': 12151, 'roinsmejj': 12152, 'tjzjin': 12153, 'yduixefipe': 12154, 'lxtjckls': 12155, 'almighty': 12156, 'strength': 12157, 'eikzab': 12158, 'hannahkauthor': 12159, 'freeamirnow': 12160, 'freeallfour': 12161, 'gwnlhneku': 12162, 'modbbdfvr': 12163, 'scnwexbv': 12164, 'brochure': 12165, 'downside': 12166, 'vjxanap': 12167, 'fco': 12168, 'tobias': 12169, 'ellwood': 12170, 'condemns': 12171, 'cwhozz': 12172, 'afterlife': 12173, 'jvjalygn': 12174, 'qxmweljbc': 12175, 'robertcalifornia': 12176, 'thereisonlysex': 12177, 'wiped': 12178, 'yaqrsximph': 12179, 'argentaelite': 12180, 'trollkrattos': 12181, 'juan': 12182, 'transcend': 12183, 'diversified': 12184, 'nriqnao': 12185, 'feelings': 12186, 'eerie': 12187, 'revealing': 12188, 'cadrought': 12189, 'lakeisabella': 12190, 'jpanzar': 12191, 'pvexbiiqsk': 12192, 'officialtjonez': 12193, 'fzidhqrk': 12194, 'zaire': 12195, 'mulruifnn': 12196, 'specialguest': 12197, 'crapgamer': 12198, 'gamescom': 12199, 'niqqa': 12200, 'dvuridz': 12201, 'kissimmee': 12202, 'fpyrugolh': 12203, 'benignovito': 12204, 'libertybell': 12205, 'hillarymass': 12206, 'shadowflame': 12207, 'wraith': 12208, 'ldbaorsuz': 12209, 'preserve': 12210, 'ajw': 12211, 'xjgkjvma': 12212, 'jishin': 12213, 'minamisoma': 12214, 'playingnow': 12215, 'bloodbound': 12216, 'dlyruusqk': 12217, 'lengths': 12218, 'amroxynx': 12219, 'fkvqxdci': 12220, 'poplar': 12221, 'ordained': 12222, 'spurgeon': 12223, 'yinuovbv': 12224, 'calais': 12225, 'pymtwxpm': 12226, 'rebooting': 12227, 'smp': 12228, 'apvlhhjo': 12229, 'ljntejgmb': 12230, 'heyseto': 12231, 'sunburn': 12232, 'nowhere': 12233, 'icrgseagya': 12234, 'kpvymhmub': 12235, 'theboyofmasks': 12236, 'manor': 12237, 'poem': 12238, 'chann': 12239, 'receipts': 12240, 'gtfo': 12241, 'desper': 12242, 'spa': 12243, 'exjzqjni': 12244, 'ij': 12245, 'hiulmu': 12246, 'transfer': 12247, 'virgil': 12248, 'dijk': 12249, 'pvmrlnva': 12250, 'infographic': 12251, 'uvaojzcycz': 12252, 'thetimepast': 12253, 'saalon': 12254, 'resolved': 12255, 'fricken': 12256, 'eyecuts': 12257, 'erasuterism': 12258, 'gal': 12259, 'deco': 12260, 'trickier': 12261, 'splash': 12262, 'vwuqqiy': 12263, 'leejasper': 12264, 'tories': 12265, 'interestrateris': 12266, 'girlthatsrio': 12267, 'uncles': 12268, 'wise': 12269, 'bytbzsux': 12270, 'ip': 12271, 'owvsclicx': 12272, 'hornybigbadwolf': 12273, 'easlgeab': 12274, 'pipeliners': 12275, 'pstbbqav': 12276, 'diarrhq': 12277, 'claiming': 12278, 'banthebomb': 12279, 'gywwsqj': 12280, 'sought': 12281, 'jpqlrunjj': 12282, 'jbpgkgowsi': 12283, 'chilis': 12284, 'molten': 12285, 'wonders': 12286, 'ddnewslive': 12287, 'nitishkumar': 12288, 'arvindkejriwal': 12289, 'mofanon': 12290, 'ixiybapqa': 12291, 'lynchburg': 12292, 'zepzqydbi': 12293, 'ganpwtg': 12294, 'bioter': 12295, 'nhusewli': 12296, 'chelsdelong': 12297, 'kendra': 12298, 'leigh': 12299, 'inws': 12300, 'spsgsp': 12301, 'ldcwkyuaff': 12302, 'uv': 12303, 'gin': 12304, 'mjfdcrjsj': 12305, 'listia': 12306, 'baskgod': 12307, 'popcorn': 12308, 'xxoupfynq': 12309, 'abjabhqh': 12310, 'mileena': 12311, 'stfxuniversity': 12312, 'lawtundhm': 12313, 'fucoqhclad': 12314, 'lxmdiseucn': 12315, 'yug': 12316, 'skynews': 12317, 'scum': 12318, 'canc': 12319, 'wahhabism': 12320, 'zion': 12321, 'hyperbole': 12322, 'saintsfc': 12323, 'strip': 12324, 'gopsicpbm': 12325, 'fowlers': 12326, 'occup': 12327, 'slsp': 12328, 'encor': 12329, 'dgeljryt': 12330, 'theellenshow': 12331, 'signatures': 12332, 'baekhyun': 12333, 'suho': 12334, 'attending': 12335, 'idol': 12336, 'championship': 12337, 'syjexo': 12338, 'oazjpwueyr': 12339, 'lekhnkbar': 12340, 'okinawa': 12341, 'gargron': 12342, 'nightmare': 12343, 'alas': 12344, 'nightmares': 12345, 'rbzomwgjee': 12346, 'bcpoli': 12347, 'canpoli': 12348, 'vanpoli': 12349, 'donnie': 12350, 'crazyindapeg': 12351, 'understandable': 12352, 'teafrystlik': 12353, 'darken': 12354, 'ungodly': 12355, 'bolt': 12356, 'qtrh': 12357, 'oqhjbuenl': 12358, 'cle': 12359, 'cuyahoga': 12360, 'greening': 12361, 'ifsdxvp': 12362, 'ekbludwh': 12363, 'osama': 12364, 'mhmmm': 12365, 'woo': 12366, 'hoo': 12367, 'azimel': 12368, 'scientist': 12369, 'deceased': 12370, 'heels': 12371, 'investig': 12372, 'thesewphist': 12373, 'whoever': 12374, 'holds': 12375, 'fuckface': 12376, 'wineisdumb': 12377, 'spam': 12378, 'm': 12379, 'exporting': 12380, 'solving': 12381, 'uttanbigrx': 12382, 'dnbuogsk': 12383, 'ufcbdzh': 12384, 'vsvyqet': 12385, 'pbs': 12386, 'mageavexis': 12387, 'origins': 12388, 'displac': 12389, 'accepte': 12390, 'vghrbebda': 12391, 'bmxsndxg': 12392, 'ignore': 12393, 'vrpmplczci': 12394, 'immxaen': 12395, 'hxunjcc': 12396, 'uuewmjl': 12397, 'jwivwywf': 12398, 'osage': 12399, 'brunette': 12400, 'stretches': 12401, 'victorian': 12402, 'sofa': 12403, 'acrgdqhj': 12404, 'wocowae': 12405, 'oioecbshf': 12406, 'ush': 12407, 'capoeira': 12408, 'suny': 12409, 'ctr': 12410, 'goshen': 12411, 'dzgcovc': 12412, 'stormbeard': 12413, 'judas': 12414, 'priest': 12415, 'scorpions': 12416, 'astonishing': 12417, 'convection': 12418, 'spits': 12419, 'nlwx': 12420, 'yolozr': 12421, 'ndabndiv': 12422, 'paratroopers': 12423, 'fury': 12424, 'ugesklcnm': 12425, 'meteors': 12426, 'appleofficlal': 12427, 'migrating': 12428, 'iphoto': 12429, 'wasted': 12430, 'hrsto': 12431, 'hamayun': 12432, 'shaheed': 12433, 'heli': 12434, 'zubsym': 12435, 'uonebahhh': 12436, 'swayback': 12437, 'vnosgzj': 12438, 'calfir': 12439, 'uvavyrgv': 12440, 'aggressif': 12441, 'aggress': 12442, 'messed': 12443, 'mainly': 12444, 'giorgio': 12445, 'hiatt': 12446, 'cw': 12447, 'jqnjgko': 12448, 'attended': 12449, 'romford': 12450, 'iyjejopwi': 12451, 'deepwater': 12452, 'distribution': 12453, 'settlement': 12454, 'dkpsrkgpc': 12455, 'christiec': 12456, 'onesie': 12457, 'recalled': 12458, 'pamznyyuw': 12459, 'popeyes': 12460, 'rq': 12461, 'xijhnvh': 12462, 'sikh': 12463, 'dviyer': 12464, 'colorlines': 12465, 'nlbltynv': 12466, 'bjrrqhhohl': 12467, 'haley': 12468, 'whaley': 12469, 'ofclans': 12470, 'profil': 12471, 'nsslcvr': 12472, 'lindasocvat': 12473, 'resting': 12474, 'vulcan': 12475, 'gaehrbhek': 12476, 'nick': 12477, 'lhdcpnzxa': 12478, 'littl': 12479, 'prgbbayl': 12480, 'mobil': 12481, 'jrowah': 12482, 'lxjjgyva': 12483, 'uxperxco': 12484, 'cabrillo': 12485, 'magellan': 12486, 'mir': 12487, 'chargers': 12488, 'lhtvkcoiso': 12489, 'pat': 12490, 'spen': 12491, 'ryjwxcki': 12492, 'zhejiang': 12493, 'picbkdjm': 12494, 'hilly': 12495, 'ris': 12496, 'togthe': 12497, 'gyhmrkjm': 12498, 'xbmmiteq': 12499, 'morels': 12500, 'ambleside': 12501, 'farmr': 12502, 'mart': 12503, 'mushroom': 12504, 'foragesecret': 12505, 'wvmijsa': 12506, 'reaad': 12507, 'plsss': 12508, 'induced': 12509, 'lookss': 12510, 'tkkfya': 12511, 'kodiak': 12512, 'aqcsusqbdy': 12513, 'moderate': 12514, 'spreading': 12515, 'macon': 12516, 'warnerrobins': 12517, 'milledgeville': 12518, 'gawx': 12519, 'phnezcw': 12520, 'mba': 12521, 'careen': 12522, 'eovm': 12523, 'epicff': 12524, 'vimeo': 12525, 'lkxiuxjaq': 12526, 'burglary': 12527, 'wftcrlzp': 12528, 'usagi': 12529, 'airhead': 12530, 'misstep': 12531, 'scheer': 12532, 'huebel': 12533, 'flsamldsn': 12534, 'dayton': 12535, 'lhkjzivo': 12536, 'proc': 12537, 'philippine': 12538, 'pdgsrfsc': 12539, 'changepilipina': 12540, 'wasting': 12541, 'edsheeran': 12542, 'beet': 12543, 'luigmhmai': 12544, 'hayden': 12545, 'poses': 12546, 'strips': 12547, 'thatrussianman': 12548, 'hazmat': 12549, 'qzixci': 12550, 'urwjir': 12551, 'gxwqy': 12552, 'hav': 12553, 'sht': 12554, 'heavydirtysoul': 12555, 'lnidvobff': 12556, 'rightly': 12557, 'despicable': 12558, 'ocalan': 12559, 'marxism': 12560, 'gskmvlgk': 12561, 'exznmxbinj': 12562, 'epa': 12563, 'norkxbrsg': 12564, 'txoybrn': 12565, 'thenewshyp': 12566, 'stormtrooper': 12567, 'engaged': 12568, 'somme': 12569, 'yxvmiflvc': 12570, 'yzfqjsvpz': 12571, 'dannyraynard': 12572, 'aguero': 12573, 'striker': 12574, 'berahino': 12575, 'gbctmhxpw': 12576, 'reboot': 12577, 'dsxaie': 12578, 'rjg': 12579, 'sterotypical': 12580, 'annddd': 12581, 'colorism': 12582, 'prevalent': 12583, 'owenrbroadhurst': 12584, 'juanmthompson': 12585, 'hist': 12586, 'odwswawq': 12587, 'strain': 12588, 'legionna': 12589, 'rsvatjvh': 12590, 'serephina': 12591, 'kuetsnlht': 12592, 'smashing': 12593, 'pumpkins': 12594, 'pqsrshhb': 12595, 'cabins': 12596, 'reidlake': 12597, 'maca': 12598, 'nwt': 12599, 'yzf': 12600, 'bebwcmpl': 12601, 'mopheme': 12602, 'bigstar': 12603, 'vuzuhustl': 12604, 'swedish': 12605, 'kdthctemv': 12606, 'xzqbwnfo': 12607, 'slikrickdarula': 12608, 'davidcovucci': 12609, 'lolly': 12610, 'knickers': 12611, 'vaginaorcake': 12612, 'euusnpsq': 12613, 'gixgaynxz': 12614, 'psrfhx': 12615, 'license': 12616, 'cwgcciwv': 12617, 'dlizfkki': 12618, 'comuiokmp': 12619, 'ezralevant': 12620, 'modmxot': 12621, 'osscqir': 12622, 'commodity': 12623, 'escaped': 12624, 'hngtkdqmv': 12625, 'partnerships': 12626, 'afterhaiyan': 12627, 'gaegplw': 12628, 'yolandaph': 12629, 'livelihood': 12630, 'disasterrecovery': 12631, 'currensy': 12632, 'els': 12633, 'awwww': 12634, 'rewatchingthepilot': 12635, 'teamscorpion': 12636, 'cyclon': 12637, 'cmhqwwulz': 12638, 'kdwazhqtov': 12639, 'uhfnyabsw': 12640, 'xcqourvl': 12641, 'takeaways': 12642, 'magnificent': 12643, 'dbdwtocgxf': 12644, 'morganite': 12645, 'gemstone': 12646, 'opal': 12647, 'hhpvsatqxn': 12648, 'drxpshi': 12649, 'registered': 12650, 'zgrlreyv': 12651, 'bedding': 12652, 'sticker': 12653, 'decals': 12654, 'ykuauovjo': 12655, 'athens': 12656, 'scourge': 12657, 'whedonesque': 12658, 'fanged': 12659, 'qjhdculi': 12660, 'daretotaha': 12661, 'foreskin': 12662, 'aodftbmgu': 12663, 'idspdkruk': 12664, 'nepazwkna': 12665, 'doctorfluxx': 12666, 'stefanejones': 12667, 'spinnellii': 12668, 'themermacorn': 12669, 'embarrassing': 12670, 'kbrzzmfc': 12671, 'tafs': 12672, 'pchneg': 12673, 'zqrcptlrum': 12674, 'tnxquorwb': 12675, 'ninja': 12676, 'commence': 12677, 'goooooooo': 12678, 'fzewihmb': 12679, 'neizeknm': 12680, 'aimlessly': 12681, 'detersion': 12682, 'hlg': 12683, 'supremacist': 12684, 'anders': 12685, 'breivik': 12686, 'unsurprisingly': 12687, 'lxnjvltr': 12688, 'doricreates': 12689, 'alhanda': 12690, 'moonbeam': 12691, 'tokes': 12692, 'dinosaurdracula': 12693, 'irhhgvs': 12694, 'godof': 12695, 'loki': 12696, 'daggers': 12697, 'jammed': 12698, 'thigh': 12699, 'grabbed': 12700, 'sif': 12701, 'humanityi': 12702, 'apologized': 12703, 'nuclearweapons': 12704, 'twykznrlc': 12705, 'mane': 12706, 'johnni': 12707, 'tactical': 12708, 'headquarters': 12709, 'cqjjyjfz': 12710, 'wth': 12711, 'rotating': 12712, 'jdiist': 12713, 'remembers': 12714, 'schulz': 12715, 'gaelite': 12716, 'orchard': 12717, 'belligerent': 12718, 'unfold': 12719, 'episcopal': 12720, 'priests': 12721, 'interracial': 12722, 'harrowing': 12723, 'harassment': 12724, 'rgjishybs': 12725, 'pandemic': 12726, 'nbcvbsonm': 12727, 'preschool': 12728, 'nhmvervv': 12729, 'lyxzmthe': 12730, 'pbcrtmj': 12731, 'aphiabeta': 12732, 'ugliness': 12733, 'amesocialaction': 12734, 'frat': 12735, 'bioterrorismi': 12736, 'tolewant': 12737, 'glenstannard': 12738, 'essexweather': 12739, 'abouts': 12740, 'tkeoaedqkq': 12741, 'toyumxbo': 12742, 'phndcmm': 12743, 'bsbvwk': 12744, 'walkthrough': 12745, 'jonvoyag': 12746, 'finer': 12747, 'subatomic': 12748, 'spells': 12749, 'wcbrgnj': 12750, 'wkrn': 12751, 'tolled': 12752, 'nbzikcjphp': 12753, 'boylesports': 12754, 'casino': 12755, 'zildpvknxp': 12756, 'ydbspf': 12757, 'souda': 12758, 'sonia': 12759, 'kneelbot': 12760, 'wider': 12761, 'gqbzbjli': 12762, 'exyrcqpu': 12763, 'militarydotcom': 12764, 'bigbrother': 12765, 'migwcmtj': 12766, 'xjaqtowm': 12767, 'mrosiwc': 12768, 'slimebeast': 12769, 'ulrmyklnh': 12770, 'wgg': 12771, 'sumn': 12772, 'biolab': 12773, 'dumbfounded': 12774, 'rujvvpnbv': 12775, 'dampen': 12776, 'fdzzumywi': 12777, 'roisyxjlw': 12778, 'rqozjtt': 12779, 'tarzana': 12780, 'hkyfkugzw': 12781, 'skyrim': 12782, 'net': 12783, 'udomcri': 12784, 'omxwcz': 12785, 'asymbina': 12786, 'tithenai': 12787, 'hampered': 12788, 'liking': 12789, 'ella': 12790, 'vickers': 12791, 'washable': 12792, 'ysfyeahpvg': 12793, 'acaciapenn': 12794, 'shidddd': 12795, 'storen': 12796, 'curing': 12797, 'puppies': 12798, 'disrespect': 12799, 'pressing': 12800, 'shirts': 12801, 'docked': 12802, 'etgqfmg': 12803, 'materialism': 12804, 'sdxzhjcox': 12805, 'jariana': 12806, 'barrington': 12807, 'hoffman': 12808, 'estates': 12809, 'afte': 12810, 'bnphxorzg': 12811, 'snoop': 12812, 'collie': 12813, 'buddz': 12814, 'thehammers': 12815, 'tonycottee': 12816, 'alsowhat': 12817, 'bilic': 12818, 'slated': 12819, 'themhe': 12820, 'nipzmflibd': 12821, 'mcsekhxs': 12822, 'iifgazfil': 12823, 'floored': 12824, 'cups': 12825, 'lag': 12826, 'rstvzhq': 12827, 'overtime': 12828, 'kodak': 12829, 'kiykrsfi': 12830, 'showcas': 12831, 'daem': 12832, 'asf': 12833, 'umqbyrupbd': 12834, 'chieftain': 12835, 'tasks': 12836, 'dickson': 12837, 'donation': 12838, 'lqgoepsxp': 12839, 'heyitsepark': 12840, 'squeezed': 12841, 'blubb': 12842, 'breakth': 12843, 'mgyvglenk': 12844, 'cjkyayj': 12845, 'insid': 12846, 'testa': 12847, 'distinction': 12848, 'divers': 12849, 'htarvrg': 12850, 'exitlxgisj': 12851, 'temecula': 12852, 'zrrgbgh': 12853, 'foxdebatequestions': 12854, 'institute': 12855, 'sharia': 12856, 'efcbiczm': 12857, 'blakeshelton': 12858, 'jeez': 12859, 'kiddie': 12860, 'ploppi': 12861, 'ucbfgibfor': 12862, 'muhamadjab': 12863, 'catholicism': 12864, 'homophobia': 12865, 'seismicsoftware': 12866, 'sales': 12867, 'enablement': 12868, 'kwmrcekvtf': 12869, 'timestack': 12870, 'sunsets': 12871, 'mesmerizing': 12872, 'casxcdf': 12873, 'thereal': 12874, 'irjcrqu': 12875, 'comin': 12876, 'cables': 12877, 'shite': 12878, 'plez': 12879, 'truckload': 12880, 'panics': 12881, 'wjntaokdhf': 12882, 'receives': 12883, 'impacting': 12884, 'drvmisot': 12885, 'swsbuamn': 12886, 'wktma': 12887, 'wpgvayfkbq': 12888, 'honeybunzgem': 12889, 'primalkitchen': 12890, 'stages': 12891, 'hadnt': 12892, 'butgod': 12893, 'cultivating': 12894, 'oltqdjbqe': 12895, 'pjnet': 12896, 'mowptyqkp': 12897, 'reozhem': 12898, 'bonhomme': 12899, 'xgn': 12900, 'ronin': 12901, 'carbon': 12902, 'preset': 12903, 'nades': 12904, 'exofficio': 12905, 'acbryenuo': 12906, 'amateur': 12907, 'reprises': 12908, 'horrormovies': 12909, 'wcdoffcj': 12910, 'bftiapff': 12911, 'goof': 12912, 'guild': 12913, 'saunders': 12914, 'hkbxxvdiw': 12915, 'damidnighter': 12916, 'arent': 12917, 'vanished': 12918, 'march': 12919, 'scseestapreparando': 12920, 'mag': 12921, 'khuzdar': 12922, 'wednes': 12923, 'ilmccclv': 12924, 'volcanodiscov': 12925, 'devastates': 12926, 'fcujsioyqo': 12927, 'pcylzlpt': 12928, 'jpugipsf': 12929, 'soabax': 12930, 'jzcedayrg': 12931, 'poster': 12932, 'zjodgqhyp': 12933, 'converting': 12934, 'vzhtibejh': 12935, 'int': 12936, 'bridgeportspeed': 12937, 'dihtgqhej': 12938, 'wedneday': 12939, 'taykreidler': 12940, 'loveyouuuu': 12941, 'aintsheperty': 12942, 'wemwdtfw': 12943, 'sbnation': 12944, 'xyifdacxo': 12945, 'sjtvzggcxu': 12946, 'wjwyjbncat': 12947, 'erisqkt': 12948, 'bubble': 12949, 'twi': 12950, 'ryeqmxirj': 12951, 'manchesterlit': 12952, 'joshcorman': 12953, 'respondents': 12954, 'fading': 12955, 'consciousness': 12956, 'ytnnndz': 12957, 'poignant': 12958, 'mwmtbdrl': 12959, 'oldmjwph': 12960, 'cochrane': 12961, 'enacted': 12962, 'allen': 12963, 'enbot': 12964, 'mutek': 12965, 'montreal': 12966, 'vjbhxnxo': 12967, 'isea': 12968, 'greet': 12969, 'bask': 12970, 'warmth': 12971, 'bliss': 12972, 'mtr': 12973, 'tglkuusz': 12974, 'res': 12975, 'doppler': 12976, 'edmond': 12977, 'lrxsdsnhm': 12978, 'funkflex': 12979, 'flex': 12980, 'azxdlcxga': 12981, 'wished': 12982, 'spilt': 12983, 'mayonnais': 12984, 'tire': 12985, 'phxlinve': 12986, 'fuxhnel': 12987, 'mash': 12988, 'torrential': 12989, 'infantry': 12990, 'lume': 12991, 'dial': 12992, 'analog': 12993, 'hepkxghb': 12994, 'ebvglmra': 12995, 'awtscucbbv': 12996, 'keampurley': 12997, 'cvkqigraz': 12998, 'ikmgidvbm': 12999, 'afyzusln': 13000, 'robertoneill': 13001, 'hardly': 13002, 'pkhujd': 13003, 'deconstruct': 13004, 'kerri': 13005, 'sackville': 13006, 'tm': 13007, 'afzqvotutj': 13008, 'boyhaus': 13009, 'montana': 13010, 'fidzx': 13011, 'defjxekgx': 13012, 'prophecy': 13013, 'combining': 13014, 'xfccvmxuwb': 13015, 'ffnzitkgn': 13016, 'ajabrown': 13017, 'wmnbitap': 13018, 'directory': 13019, 'inches': 13020, 'aliveafter': 13021, 'sctwjkxr': 13022, 'ynduotimr': 13023, 'fxfllrien': 13024, 'inlsrfk': 13025, 'qrypekfoe': 13026, 'standardized': 13027, 'idrlets': 13028, 'parentsacrossam': 13029, 'billg': 13030, 'amumumux': 13031, 'quit': 13032, 'actin': 13033, 'szuter': 13034, 'efbivle': 13035, 'yorqapwrk': 13036, 'ejrmerkd': 13037, 'implores': 13038, 'motorists': 13039, 'reserves': 13040, 'hikfmkjsn': 13041, 'hurn': 13042, 'tokteacher': 13043, 'skynet': 13044, 'umwigrz': 13045, 'warra': 13046, 'esevu': 13047, 'emznspwnk': 13048, 'uprooting': 13049, 'enrpgrgtt': 13050, 'utopian': 13051, 'gulags': 13052, 'hashd': 13053, 'shaabi': 13054, 'theft': 13055, 'agauabr': 13056, 'qnatubnwh': 13057, 'tpvnroov': 13058, 'pseylyzck': 13059, 'peel': 13060, 'male': 13061, 'southdown': 13062, 'windsor': 13063, 'unlicensed': 13064, 'wocakehyx': 13065, 'cggszugw': 13066, 'pimgbic': 13067, 'theori': 13068, 'troyslaby': 13069, 'slopeofhope': 13070, 'dilute': 13071, 'keegan': 13072, 'admin': 13073, 'byjdfarv': 13074, 'skyler': 13075, 'zomatoaus': 13076, 'lovefood': 13077, 'lkqykrbg': 13078, 'cracker': 13079, 'ccdwxkm': 13080, 'slash': 13081, 'djchjfzp': 13082, 'coercion': 13083, 'weakness': 13084, 'ensuring': 13085, 'gnorijnsva': 13086, 'perceive': 13087, 'faintly': 13088, 'sputtering': 13089, 'vast': 13090, 'glacier': 13091, 'eternity': 13092, 'gyrsi': 13093, 'unrecognized': 13094, 'arab': 13095, 'ikmyit': 13096, 'ejghnafhi': 13097, 'kayla': 13098, 'peep': 13099, 'goats': 13100, 'ofecstcvc': 13101, 'boygbpjw': 13102, 'tita': 13103, 'tdeqwmzxn': 13104, 'jetixrestored': 13105, 'teamo': 13106, 'supremo': 13107, 'pogo': 13108, 'wblimlmtx': 13109, 'cbsbigbrother': 13110, 'ouch': 13111, 'clelli': 13112, 'zaszwxjj': 13113, 'jfb': 13114, 'tfb': 13115, 'alrasyiditurasya': 13116, 'izjtoojzkp': 13117, 'smantibatam': 13118, 'rohsmantibatam': 13119, 'typewriter': 13120, 'gunk': 13121, 'boomerangtime': 13122, 'rskarim': 13123, 'sopameer': 13124, 'wattashit': 13125, 'ridah': 13126, 'railed': 13127, 'deepthought': 13128, 'arobmxci': 13129, 'xyzoei': 13130, 'pollster': 13131, 'cara': 13132, 'chucker': 13133, 'tfbkqolx': 13134, 'vmas': 13135, 'fqqpfjvx': 13136, 'mccain': 13137, 'whoops': 13138, 'photographed': 13139, 'chilling': 13140, 'jnromsez': 13141, 'acmilan': 13142, 'wyuqscv': 13143, 'cochisecollege': 13144, 'ldxukngsk': 13145, 'uaoaogc': 13146, 'pmhmmkspaq': 13147, 'platinum': 13148, 'gknpylua': 13149, 'nicolekidman': 13150, 'oprah': 13151, 'grubbing': 13152, 'kikes': 13153, 'cluei': 13154, 'telekinesis': 13155, 'beside': 13156, 'targe': 13157, 'mdapxlwo': 13158, 'tribe': 13159, 'qglkplud': 13160, 'kacrlpjcl': 13161, 'yjjbntcazi': 13162, 'setzorah': 13163, 'bspjttc': 13164, 'msmiggi': 13165, 'vods': 13166, 'presentation': 13167, 'deadlydemi': 13168, 'staying': 13169, 'barrier': 13170, 'kealba': 13171, 'ymcwwdj': 13172, 'hook': 13173, 'elementary': 13174, 'lwlexxjus': 13175, 'emaaalay': 13176, 'yeda': 13177, 'yakub': 13178, 'mfkqyxdxg': 13179, 'elizabeth': 13180, 'superintendent': 13181, 'lanford': 13182, 'vplrhkau': 13183, 'sxhwtnnlf': 13184, 'pgbqbczu': 13185, 'rpbxdfnxk': 13186, 'afloat': 13187, 'pension': 13188, 'ceeuzwhvf': 13189, 'pummel': 13190, 'jkymedofc': 13191, 'astros': 13192, 'stunningly': 13193, 'bats': 13194, 'mia': 13195, 'inning': 13196, 'describes': 13197, 'surah': 13198, 'humaza': 13199, 'reflect': 13200, 'birb': 13201, 'horiikawa': 13202, 'bradford': 13203, 'weep': 13204, 'leeds': 13205, 'olnfzbzb': 13206, 'hungri': 13207, 'superman': 13208, 'slowpoke': 13209, 'poc': 13210, 'kurds': 13211, 'trampling': 13212, 'vandalized': 13213, 'diyala': 13214, 'izfdyccg': 13215, 'mistakes': 13216, 'shantaeskyy': 13217, 'musicvideo': 13218, 'uuzaumdobc': 13219, 'planners': 13220, 'singled': 13221, 'bokgpspbh': 13222, 'srujzljgl': 13223, 'brelgmnc': 13224, 'gainesville': 13225, 'yosemite': 13226, 'sam': 13227, 'drumpf': 13228, 'rabbit': 13229, 'creek': 13230, 'indonesian': 13231, 'raung': 13232, 'mugkahl': 13233, 'southwest': 13234, 'omaha': 13235, 'utility': 13236, 'pole': 13237, 'dangkxl': 13238, 'helmet': 13239, 'silvery': 13240, 'floors': 13241, 'karnal': 13242, 'pbcanpcx': 13243, 'alwx': 13244, 'gtqmgsgcsb': 13245, 'mskndekh': 13246, 'subcommittee': 13247, 'oversight': 13248, 'htt': 13249, 'mqbyravkh': 13250, 'carb': 13251, 'consultative': 13252, 'subconscious': 13253, 'xkdrx': 13254, 'connect': 13255, 'tarmineta': 13256, 'dissuaded': 13257, 'geoffrickly': 13258, 'tee': 13259, 'lbmekyphm': 13260, 'tayiorrmade': 13261, 'megatronafc': 13262, 'ankles': 13263, 'boards': 13264, 'jzgxwrgfqg': 13265, 'tackettdc': 13266, 'ajtxuafoem': 13267, 'islamist': 13268, 'anjem': 13269, 'choudary': 13270, 'ubbenxwyk': 13271, 'patrickjbutler': 13272, 'damiengayle': 13273, 'closure': 13274, 'phhvmlfoo': 13275, 'brittanypetko': 13276, 'stare': 13277, 'furi': 13278, 'yxtzbtvmhm': 13279, 'jggqwbv': 13280, 'napviygkyk': 13281, 'zimmerman': 13282, 'rzimmermanjr': 13283, 'renewsit': 13284, 'sock': 13285, 'ybshleiep': 13286, 'diageo': 13287, 'stresses': 13288, 'revolt': 13289, 'gfsusulgq': 13290, 'millennium': 13291, 'plaza': 13292, 'layzbayh': 13293, 'etkdunn': 13294, 'lrelvrmw': 13295, 'wtafaepukz': 13296, 'hzhoavza': 13297, 'fife': 13298, 'hucxqnobf': 13299, 'tonymcguinness': 13300, 'creamfields': 13301, 'mainstag': 13302, 'thedailyshow': 13303, 'mahalo': 13304, 'nui': 13305, 'loa': 13306, 'jonvoyage': 13307, 'holomua': 13308, 'ohhmyjoshh': 13309, 'stevenrulles': 13310, 'certainty': 13311, 'occas': 13312, 'investing': 13313, 'strategies': 13314, 'securing': 13315, 'jzwrisxepf': 13316, 'nuduannz': 13317, 'supposedly': 13318, 'representing': 13319, 'cgi': 13320, 'rkzsqdghz': 13321, 'hara': 13322, 'kiri': 13323, 'uoaqkkr': 13324, 'packed': 13325, 'contemplation': 13326, 'bridal': 13327, 'wiwnpfxa': 13328, 'xysnxumt': 13329, 'nbcpolitics': 13330, 'barracks': 13331, 'bombers': 13332, 'yoenis': 13333, 'production': 13334, 'hikers': 13335, 'trailheads': 13336, 'ablzmgzv': 13337, 'foliage': 13338, 'ignited': 13339, 'hik': 13340, 'surges': 13341, 'irpssresrq': 13342, 'trillion': 13343, 'qhwekxuw': 13344, 'lorr': 13345, 'dzxzqw': 13346, 'moor': 13347, 'jimmozel': 13348, 'puck': 13349, 'njrjxqbjr': 13350, 'ashdod': 13351, 'emittin': 13352, 'swqlmydka': 13353, 'trinna': 13354, 'bulak': 13355, 'jaclynsonne': 13356, 'oliviaann': 13357, 'guessing': 13358, 'chikislizeth': 13359, 'remembrance': 13360, 'iieweqir': 13361, 'hvusqzyqo': 13362, 'apologise': 13363, 'sincerely': 13364, 'grudges': 13365, 'unfollow': 13366, 'baking': 13367, 'onnnn': 13368, 'tfuahfpp': 13369, 'hempoil': 13370, 'cannabis': 13371, 'rhedxmey': 13372, 'eydbmdx': 13373, 'glimpses': 13374, 'hyderabad': 13375, 'dctvujlhc': 13376, 'qoxjnqsau': 13377, 'guvtizyche': 13378, 'defensenews': 13379, 'comus': 13380, 'subsd': 13381, 'sywhxtk': 13382, 'navi': 13383, 'sxwjyrkl': 13384, 'aewglvqreh': 13385, 'detkenlang': 13386, 'kcrnmjkj': 13387, 'qpwotugui': 13388, 'checkout': 13389, 'nurgle': 13390, 'snuck': 13391, 'khrone': 13392, 'heqhnzf': 13393, 'rpvzbesuqj': 13394, 'junko': 13395, 'lspnycvolo': 13396, 'nhpkfbfqm': 13397, 'mirmanda': 13398, 'evaaasr': 13399, 'mineness': 13400, 'spymiqnecj': 13401, 'yahooschwab': 13402, 'leedsrouge': 13403, 'daisycuttertz': 13404, 'grogparty': 13405, 'burke': 13406, 'imam': 13407, 'bcjylerryx': 13408, 'bind': 13409, 'llf': 13410, 'oqequegf': 13411, 'grov': 13412, 'saltriverwildhorses': 13413, 'ikuayuseqt': 13414, 'bqbhuyfm': 13415, 'stemming': 13416, 'rosters': 13417, 'arizzo': 13418, 'jlester': 13419, 'xgnjgleeq': 13420, 'xkonkzzl': 13421, 'dxvtgibvo': 13422, 'almusafirah': 13423, 'innit': 13424, 'audreyp': 13425, 'teena': 13426, 'darryl': 13427, 'brooks': 13428, 'elitesportsny': 13429, 'lopezandthelion': 13430, 'natsnation': 13431, 'zlojdaju': 13432, 'oamsgajagahahah': 13433, 'laighign': 13434, 'etkbwrcrv': 13435, 'seeker': 13436, 'zsykzjbzg': 13437, 'fremont': 13438, 'alley': 13439, 'kezi': 13440, 'sahbhlxssh': 13441, 'mln': 13442, 'dxvzfdh': 13443, 'sthlrbun': 13444, 'jqxmgcqz': 13445, 'nhnew': 13446, 'bagged': 13447, 'lac': 13448, 'hxoxorq': 13449, 'uxppoqjlb': 13450, 'yytwhd': 13451, 'edison': 13452, 'lightbulb': 13453, 'wank': 13454, 'charminar': 13455, 'engineers': 13456, 'telangana': 13457, 'nljvpvfyz': 13458, 'fiya': 13459, 'netkicorp': 13460, 'guests': 13461, 'eltnevqn': 13462, 'prisoners': 13463, 'treblinka': 13464, 'rebelled': 13465, 'seizing': 13466, 'nmgpimeii': 13467, 'bhavana': 13468, 'connecticut': 13469, 'qwpuxpywbf': 13470, 'jlxzfkxi': 13471, 'fdsaooiskj': 13472, 'uvmqvafq': 13473, 'pnwcmkqu': 13474, 'growingupspoiled': 13475, 'clay': 13476, 'pigeon': 13477, 'wjumppb': 13478, 'ndgpwyxuh': 13479, 'attached': 13480, 'cheat': 13481, 'waterproof': 13482, 'weiqin': 13483, 'michel': 13484, 'lujo': 13485, 'jgsioujas': 13486, 'tzeyhfn': 13487, 'lmumzkltln': 13488, 'yebxxarybf': 13489, 'srruqfffr': 13490, 'cadzxagmsi': 13491, 'artectura': 13492, 'florence': 13493, 'leblvf': 13494, 'blevins': 13495, 'heyimbeeyt': 13496, 'disappointing': 13497, 'aubilenon': 13498, 'markkriegsman': 13499, 'pfmnvnam': 13500, 'vkwqbojfjc': 13501, 'bowery': 13502, 'mesgcngaz': 13503, 'dl': 13504, 'symantec': 13505, 'groceries': 13506, 'aching': 13507, 'straighten': 13508, 'swooping': 13509, 'scares': 13510, 'fing': 13511, 'uilpgiev': 13512, 'mpxtokww': 13513, 'mydakjf': 13514, 'spyro': 13515, 'texture': 13516, 'hacks': 13517, 'bliddngtf': 13518, 'hopeinchrist': 13519, 'lifelettercaf': 13520, 'repulsive': 13521, 'victimiser': 13522, 'evangelical': 13523, 'liar': 13524, 'dupe': 13525, 'overdrive': 13526, 'choppergate': 13527, 'bronwynbishop': 13528, 'blacken': 13529, 'parched': 13530, 'harris': 13531, 'tinder': 13532, 'ilwtyyup': 13533, 'mwzqcjhzpb': 13534, 'overrated': 13535, 'apano': 13536, 'delud': 13537, 'gideonstrumpet': 13538, 'ueppjwvlcb': 13539, 'watersafety': 13540, 'rgj': 13541, 'kafwdrmtn': 13542, 'rolandonabeats': 13543, 'ellie': 13544, 'goulding': 13545, 'acesse': 13546, 'nosso': 13547, 'para': 13548, 'ouvir': 13549, 'zkugxmt': 13550, 'businessman': 13551, 'foiled': 13552, 'troupe': 13553, 'racial': 13554, 'breakdanc': 13555, 'horoscope': 13556, 'gkunpznhn': 13557, 'wxii': 13558, 'davidson': 13559, 'counti': 13560, 'looooooooooool': 13561, 'jrkgylt': 13562, 'qyczywkgg': 13563, 'phujntj': 13564, 'greenlacey': 13565, 'preseasonworkout': 13566, 'pkkcdwjyg': 13567, 'worldnetdaili': 13568, 'lucio': 13569, 'overwatch': 13570, 'fmiuhqabi': 13571, 'guiltygearxxacp': 13572, 'sklflzz': 13573, 'xhdzgpyw': 13574, 'ghsyhyav': 13575, 'rrghtewp': 13576, 'brucewillis': 13577, 'cxdjapzxmp': 13578, 'robpulsenews': 13579, 'huyovoetripolye': 13580, 'phillips': 13581, 'ldnr': 13582, 'xwnjysvv': 13583, 'wedn': 13584, 'bkpfpogysi': 13585, 'kotzvdh': 13586, 'irishtimesworld': 13587, 'styled': 13588, 'undergroundbestsellers': 13589, 'dilijhmur': 13590, 'hibernating': 13591, 'pbx': 13592, 'irrespective': 13593, 'careerism': 13594, 'crbzfz': 13595, 'mmvdspjp': 13596, 'lockdown': 13597, 'rumor': 13598, 'advertise': 13599, 'lizhphoto': 13600, 'outburst': 13601, 'aggression': 13602, 'sux': 13603, 'qrhngkjc': 13604, 'darkness': 13605, 'redeem': 13606, 'serene': 13607, 'particulate': 13608, 'voltaic': 13609, 'voc': 13610, 'petroleum': 13611, 'bacteria': 13612, 'decomposit': 13613, 'zkknmsen': 13614, 'fzhjfbxld': 13615, 'uninvestigated': 13616, 'incite': 13617, 'ezbtgtrz': 13618, 'hourfamine': 13619, 'worldvision': 13620, 'xqdvghzg': 13621, 'ovo': 13622, 'ziphimup': 13623, 'thingsihate': 13624, 'rvacchianonydn': 13625, 'qegmrhsms': 13626, 'pkfvlksld': 13627, 'travellers': 13628, 'qsheuyfw': 13629, 'lifeguard': 13630, 'paztdblgyk': 13631, 'imawvmzsa': 13632, 'carpet': 13633, 'fundraiser': 13634, 'oso': 13635, 'maraatql': 13636, 'cgwldn': 13637, 'wkpzpjcau': 13638, 'pumped': 13639, 'southridgelif': 13640, 'staged': 13641, 'locomotive': 13642, 'eixhthm': 13643, 'santiago': 13644, 'hollyw': 13645, 'cecvlhw': 13646, 'lolgop': 13647, 'fraud': 13648, 'amirite': 13649, 'vra': 13650, 'fekgybyf': 13651, 'ubdywd': 13652, 'nqxqyiw': 13653, 'etgprbpg': 13654, 'jamienye': 13655, 'coaching': 13656, 'defence': 13657, 'cursed': 13658, 'cowboys': 13659, 'woes': 13660, 'claiborne': 13661, 'giqbvli': 13662, 'alexandrian': 13663, 'librari': 13664, 'suckers': 13665, 'sins': 13666, 'isaiah': 13667, 'contemporary': 13668, 'vers': 13669, 'hmrtoydj': 13670, 'traitor': 13671, 'donjazzy': 13672, 'policeng': 13673, 'humanrights': 13674, 'xyflwyg': 13675, 'kennethbauer': 13676, 'noodles': 13677, 'overhead': 13678, 'oakridge': 13679, 'resolution': 13680, 'wccorosen': 13681, 'lloyds': 13682, 'insure': 13683, 'corycove': 13684, 'jagexhelpdibi': 13685, 'jag': 13686, 'wildhorses': 13687, 'whpjjc': 13688, 'ppjitcnml': 13689, 'yubkhfiyh': 13690, 'locksmithing': 13691, 'respecting': 13692, 'elaboration': 13693, 'locks': 13694, 'lpdkl': 13695, 'hypbetm': 13696, 'cnjplior': 13697, 'tbzmrx': 13698, 'pierce': 13699, 'veil': 13700, 'bracelet': 13701, 'wristband': 13702, 'qcwhdizy': 13703, 'inezzaesd': 13704, 'kamon': 13705, 'masterchef': 13706, 'mygc': 13707, 'suspend': 13708, 'ehhferz': 13709, 'hse': 13710, 'husheekxm': 13711, 'jnhnxoisn': 13712, 'zenit': 13713, 'hfvnyftc': 13714, 'alreadi': 13715, 'uymxocfs': 13716, 'orianna': 13717, 'adani': 13718, 'backed': 13719, 'sjeunnm': 13720, 'yahoonew': 13721, 'harveymaine': 13722, 'aaaa': 13723, 'lemme': 13724, 'roomr': 13725, 'hears': 13726, 'qmdsnbcmh': 13727, 'fujiwara': 13728, 'shunichiro': 13729, 'battery': 13730, 'muppet': 13731, 'lukebox': 13732, 'avvhpnpch': 13733, 'noise': 13734, 'qzlpfhpwdo': 13735, 'trkvxctw': 13736, 'dspwshjw': 13737, 'illegals': 13738, 'protected': 13739, 'punishment': 13740, 'convivted': 13741, 'foreign': 13742, 'rodkiai': 13743, 'vsoxkbtnq': 13744, 'nuxxnvs': 13745, 'xngrfnqsx': 13746, 'fedporn': 13747, 'absurd': 13748, 'satire': 13749, 'indistinguishable': 13750, 'selmoooooo': 13751, 'edvinnn': 13752, 'imtariik': 13753, 'dzafic': 13754, 'haris': 13755, 'selmo': 13756, 'witnessing': 13757, 'slaught': 13758, 'noahshack': 13759, 'perlno': 13760, 'ootd': 13761, 'doubleghats': 13762, 'jsuhupzvp': 13763, 'nvrffrbo': 13764, 'cvinch': 13765, 'waow': 13766, 'staci': 13767, 'vault': 13768, 'zarri': 13769, 'rhett': 13770, 'krefeld': 13771, 'ijetalert': 13772, 'cigs': 13773, 'breath': 13774, 'smells': 13775, 'ash': 13776, 'tray': 13777, 'disgust': 13778, 'westminister': 13779, 'knott': 13780, 'eumlcaedw': 13781, 'ctfdltm': 13782, 'beaumont': 13783, 'benews': 13784, 'pmehojvya': 13785, 'disclosed': 13786, 'zqihnhdwpv': 13787, 'osi': 13788, 'magner': 13789, 'discusses': 13790, 'psbxlhvu': 13791, 'environ': 13792, 'jymdypsj': 13793, 'pkmmcadg': 13794, 'rsdkwzrcg': 13795, 'icfcowb': 13796, 'jaagcfartw': 13797, 'hzlkffc': 13798, 'worldnetdaily': 13799, 'hunterston': 13800, 'process': 13801, 'smithereen': 13802, 'bpmfjhar': 13803, 'wolverine': 13804, 'scrambledeggs': 13805, 'kia': 13806, 'insides': 13807, 'customized': 13808, 'dcubecrafts': 13809, 'greetingcards': 13810, 'tqxpcb': 13811, 'whippenz': 13812, 'supthaec': 13813, 'takis': 13814, 'rubbing': 13815, 'programme': 13816, 'vjsaqpxngn': 13817, 'xwnrgvkzc': 13818, 'swpdqboi': 13819, 'advantages': 13820, 'apropos': 13821, 'favorable': 13822, 'regard': 13823, 'pwhvgwax': 13824, 'nissannews': 13825, 'hospitalized': 13826, 'bing': 13827, 'dwyjqvfi': 13828, 'noahj': 13829, 'xntojmmts': 13830, 'sticky': 13831, 'richarkkirkarch': 13832, 'ausinstarchitect': 13833, 'queenswharf': 13834, 'brisbane': 13835, 'jmkywhvmp': 13836, 'financialreview': 13837, 'exilbkzmp': 13838, 'ehomnojb': 13839, 'fcbxrthpg': 13840, 'biukowglz': 13841, 'hotboy': 13842, 'raabchar': 13843, 'drphil': 13844, 'morganlawgrp': 13845, 'inflict': 13846, 'consistent': 13847, 'dimens': 13848, 'khalidkkazi': 13849, 'mate': 13850, 'erally': 13851, 'unplug': 13852, 'myelf': 13853, 'yzdmouxqbo': 13854, 'pexfgawrg': 13855, 'ferrochrome': 13856, 'verge': 13857, 'rtfirzcpoc': 13858, 'hooligan': 13859, 'uknews': 13860, 'qmpqhi': 13861, 'ppfa': 13862, 'stor': 13863, 'movingk': 13864, 'expertwhin': 13865, 'redo': 13866, 'ayyy': 13867, 'freeing': 13868, 'doc': 13869, 'newidea': 13870, 'maratha': 13871, 'scorched': 13872, 'bengalis': 13873, 'padded': 13874, 'qty': 13875, 'jbibeibg': 13876, 'pktaqwqg': 13877, 'tubestrik': 13878, 'weloveyoulouis': 13879, 'direct': 13880, 'legitimate': 13881, 'needing': 13882, 'argus': 13883, 'heidia': 13884, 'usqqqhqvj': 13885, 'dserialpcilp': 13886, 'pci': 13887, 'dual': 13888, 'lbsjjb': 13889, 'zdtzrbsw': 13890, 'saintrobinho': 13891, 'demonstrated': 13892, 'vanuatu': 13893, 'encouraged': 13894, 'afmkcfntl': 13895, 'qzxfklf': 13896, 'foxnewsvideo': 13897, 'aiiamericangiri': 13898, 'anhqdc': 13899, 'qjuuwcwpx': 13900, 'vaftdzez': 13901, 'drift': 13902, 'storming': 13903, 'bebacksoon': 13904, 'faction': 13905, 'ypbvsijya': 13906, 'dflvynqr': 13907, 'vcvbuacz': 13908, 'luzukokoti': 13909, 'umntu': 13910, 'wakho': 13911, 'adamantly': 13912, 'opposed': 13913, 'udxobyua': 13914, 'badastronomer': 13915, 'farther': 13916, 'gazette': 13917, 'jhcrtvf': 13918, 'lightningstrike': 13919, 'rjjxucxpm': 13920, 'ferry': 13921, 'qvsobg': 13922, 'iapvtqxlht': 13923, 'wamkreckd': 13924, 'waterboarding': 13925, 'dipping': 13926, 'sxgzxh': 13927, 'dlc': 13928, 'rahulkanwal': 13929, 'jammu': 13930, 'zdieodwbog': 13931, 'msoreo': 13932, 'vnylvdp': 13933, 'holly': 13934, 'usdmdxzvb': 13935, 'cools': 13936, 'durban': 13937, 'abnzqwlig': 13938, 'hhpvpaeln': 13939, 'memorable': 13940, 'debates': 13941, 'ronald': 13942, 'romp': 13943, 'xohtjqjwh': 13944, 'indians': 13945, 'smirking': 13946, 'remorseless': 13947, 'boasting': 13948, 'fpjlwoxklg': 13949, 'chowchilla': 13950, 'schoenfeld': 13951, 'glwoakppjq': 13952, 'wllflfndgg': 13953, 'pennies': 13954, 'suites': 13955, 'paobghvc': 13956, 'eqjcpwilvn': 13957, 'initiative': 13958, 'alliance': 13959, 'assad': 13960, 'regime': 13961, 'sturgis': 13962, 'kotaweather': 13963, 'epiyenqyl': 13964, 'nopow': 13965, 'xqvgzzmmn': 13966, 'sleepjunkies': 13967, 'pills': 13968, 'snmfict': 13969, 'sisters': 13970, 'uorxffnfx': 13971, 'countless': 13972, 'orchestrated': 13973, 'gbwldqqk': 13974, 'dveppehs': 13975, 'roddypiperautos': 13976, 'bavgewu': 13977, 'taxreturn': 13978, 'cleaning': 13979, 'cri': 13980, 'gxqwdqzbd': 13981, 'hollyorange': 13982, 'wbre': 13983, 'wyou': 13984, 'jhvigsxjg': 13985, 'colnharun': 13986, 'panik': 13987, 'kelbytomlinson': 13988, 'hujvgsflus': 13989, 'fleetwood': 13990, 'gilmanrocks': 13991, 'thread': 13992, 'sqpshawsw': 13993, 'udlebhuz': 13994, 'pioneer': 13995, 'paleface': 13996, 'raft': 13997, 'container': 13998, 'enkelbiljett': 13999, 'menolippu': 14000, 'ykvsttvdwo': 14001, 'ifqqpurx': 14002, 'bre': 14003, 'morrow': 14004, 'crocodile': 14005, 'gravy': 14006, 'kidscompany': 14007, 'bcpmvylsih': 14008, 'drbcrypjp': 14009, 'hfsiaxvq': 14010, 'yytkpzkg': 14011, 'ohmyloz': 14012, 'rondarousey': 14013, 'bhsuxvqnf': 14014, 'museawayfic': 14015, 'beenghosting': 14016, 'xylodemon': 14017, 'quarters': 14018, 'woods': 14019, 'disciplinary': 14020, 'measures': 14021, 'yllqjljiiq': 14022, 'buffett': 14023, 'sectors': 14024, 'jdqpflmkr': 14025, 'awesom': 14026, 'charred': 14027, 'rips': 14028, 'neighboring': 14029, 'jawstmr': 14030, 'emvohmmj': 14031, 'angela': 14032, 'sanders': 14033, 'roundhouse': 14034, 'perc': 14035, 'haxjgoac': 14036, 'sergiopiaggio': 14037, 'alves': 14038, 'fejsbusq': 14039, 'lisowski': 14040, 'whitewashes': 14041, 'masters': 14042, 'quals': 14043, 'mligpuhvoh': 14044, 'snooker': 14045, 'tcscdyy': 14046, 'newsmorn': 14047, 'cufgvupkzi': 14048, 'latino': 14049, 'lunaflyy': 14050, 'drain': 14051, 'mjrezoxlj': 14052, 'junsuisengen': 14053, 'changing': 14054, 'csaresu': 14055, 'sdmrzgeryx': 14056, 'oddball': 14057, 'observer': 14058, 'wxrgpcw': 14059, 'paqan': 14060, 'jeesss': 14061, 'medic': 14062, 'giglwdmhi': 14063, 'kylewappler': 14064, 'thisishavehope': 14065, 'pdnlspxw': 14066, 'hksbmijqz': 14067, 'ophiuchus': 14068, 'truelove': 14069, 'lith': 14070, 'seduction': 14071, 'astrology': 14072, 'rtrrt': 14073, 'lotz': 14074, 'pla': 14075, 'anoth': 14076, 'naked': 14077, 'radneck': 14078, 'blcbabma': 14079, 'ecnsufpa': 14080, 'legionnairesdisease': 14081, 'pneumonia': 14082, 'americanlegion': 14083, 'convention': 14084, 'reviving': 14085, 'leezy': 14086, 'grabbing': 14087, 'sweaty': 14088, 'grwdrkuf': 14089, 'meaning': 14090, 'dignity': 14091, 'siena': 14092, 'henderson': 14093, 'fdiujldj': 14094, 'blaaaaaaa': 14095, 'vibrate': 14096, 'resolutevan': 14097, 'lthmwtlfp': 14098, 'startelegram': 14099, 'kairfqql': 14100, 'jdbtlymehi': 14101, 'suspects': 14102, 'ajpbdcalew': 14103, 'bmqecpja': 14104, 'eminem': 14105, 'nate': 14106, 'dogg': 14107, 'lancasteronline': 14108, 'phwllkrfi': 14109, 'lancast': 14110, 'dacherryontop': 14111, 'ohh': 14112, 'planes': 14113, 'zpxefmyng': 14114, 'improvements': 14115, 'rqlpsayeb': 14116, 'connorfranta': 14117, 'askconnor': 14118, 'touchdown': 14119, 'nonucleariran': 14120, 'badirandeal': 14121, 'jebbush': 14122, 'zphpjtqud': 14123, 'dmuupqgwi': 14124, 'zdhwrnczc': 14125, 'blonde': 14126, 'courtney': 14127, 'laudner': 14128, 'teases': 14129, 'panties': 14130, 'punished': 14131, 'cqxjweqqu': 14132, 'zhpsowxri': 14133, 'reopened': 14134, 'knx': 14135, 'njpio': 14136, 'lolo': 14137, 'dmerida': 14138, 'nataly': 14139, 'steak': 14140, 'swam': 14141, 'bounced': 14142, 'suffice': 14143, 'johns': 14144, 'diblzo': 14145, 'hdjsrntj': 14146, 'kroschel': 14147, 'vail': 14148, 'agencies': 14149, 'swwylrkfv': 14150, 'sabcnewsroom': 14151, 'sabotage': 14152, 'cfc': 14153, 'creationmin': 14154, 'rwrabbit': 14155, 'gooneratheist': 14156, 'atheistic': 14157, 'lolatjesus': 14158, 'worldwide': 14159, 'wond': 14160, 'samihonkonen': 14161, 'kus': 14162, 'moferadio': 14163, 'heavybag': 14164, 'qotring': 14165, 'battlerapchris': 14166, 'spydycsc': 14167, 'tbotx': 14168, 'tsbtigdsdt': 14169, 'iknyokzzr': 14170, 'qckqcxhw': 14171, 'fizzy': 14172, 'seats': 14173, 'ljxceqwp': 14174, 'holidays': 14175, 'wordk': 14176, 'zmn': 14177, 'lara': 14178, 'likes': 14179, 'flesh': 14180, 'clawing': 14181, 'jnwkxx': 14182, 'coldmpress': 14183, 'commiting': 14184, 'kainyusanagi': 14185, 'grummz': 14186, 'pixelcanuck': 14187, 'balding': 14188, 'biker': 14189, 'emo': 14190, 'generic': 14191, 'ppsellsbabyparts': 14192, 'wzcrxoqz': 14193, 'bts': 14194, 'jimin': 14195, 'meg': 14196, 'xrbqjhn': 14197, 'playa': 14198, 'racaivffq': 14199, 'manual': 14200, 'kessily': 14201, 'mishacollins': 14202, 'allthekidneybeansandsorbetmisha': 14203, 'y': 14204, 'jennife': 14205, 'holes': 14206, 'avalanches': 14207, 'xrrlnhelap': 14208, 'restive': 14209, 'wpd': 14210, 'sophiewisey': 14211, 'cleav': 14212, 'expose': 14213, 'cleavage': 14214, 'kvlppxfg': 14215, 'xszicdwxq': 14216, 'mgn': 14217, 'fdjuyvzmrv': 14218, 'wizkidayo': 14219, 'cya': 14220, 'marshall': 14221, 'dambisa': 14222, 'moyo': 14223, 'prosyn': 14224, 'oped': 14225, 'lgzjkgg': 14226, 'mfswtysta': 14227, 'janeenorman': 14228, 'probability': 14229, 'deputy': 14230, 'cdohgnjmst': 14231, 'imullbvu': 14232, 'constitute': 14233, 'epidemic': 14234, 'jblrrnmdsm': 14235, 'publichealth': 14236, 'translated': 14237, 'dmrsyeiqz': 14238, 'dyoglhmre': 14239, 'hkmrtdzf': 14240, 'fftokdvt': 14241, 'blowjobs': 14242, 'cannibalism': 14243, 'masturbation': 14244, 'genocid': 14245, 'icymagistrate': 14246, 'icicle': 14247, 'projectiles': 14248, 'miniatur': 14249, 'goooooooaaaaaal': 14250, 'undone': 14251, 'adverse': 14252, 'gotriangle': 14253, 'sxdxuudci': 14254, 'uhhhhh': 14255, 'crusade': 14256, 'optpslgkc': 14257, 'noches': 14258, 'bestia': 14259, 'alexis': 14260, 'teammates': 14261, 'goodnight': 14262, 'gunners': 14263, 'ucjjhvgr': 14264, 'siirlnvz': 14265, 'murlo': 14266, 'android': 14267, 'tribez': 14268, 'pbclfsxrld': 14269, 'androidgames': 14270, 'gameinsight': 14271, 'grapes': 14272, 'focuses': 14273, 'wingers': 14274, 'prem': 14275, 'basically': 14276, 'kbstrxnhup': 14277, 'bnrdkgxavr': 14278, 'usama': 14279, 'ladins': 14280, 'naturally': 14281, 'counterstrike': 14282, 'zyxrw': 14283, 'bfowler': 14284, 'brctmnybji': 14285, 'ikuggvbyei': 14286, 'bsf': 14287, 'jawans': 14288, 'fidayeen': 14289, 'aks': 14290, 'lkeqwyuw': 14291, 'hhwveudfv': 14292, 'frail': 14293, 'hilversum': 14294, 'meters': 14295, 'surfac': 14296, 'monsters': 14297, 'pulling': 14298, 'thriving': 14299, 'hub': 14300, 'rosvxqelqj': 14301, 'qxer': 14302, 'ayhhhhhdjjfjrjjrdjjek': 14303, 'paugai': 14304, 'dwarfonjetpack': 14305, 'indoors': 14306, 'arfur': 14307, 'georgecol': 14308, 'evppapn': 14309, 'kplfaut': 14310, 'avoids': 14311, 'hlyhdfwsqb': 14312, 'gwsnbmmcqf': 14313, 'oegfqbiqiq': 14314, 'kaotix': 14315, 'craving': 14316, 'jaiden': 14317, 'pianohands': 14318, 'taxis': 14319, 'olnfbek': 14320, 'fvzsgjtbew': 14321, 'umdlkdi': 14322, 'follower': 14323, 'graph': 14324, 'ulxfdqn': 14325, 'posting': 14326, 'rebecca': 14327, 'roga': 14328, 'blkwcupzq': 14329, 'qfrawlnba': 14330, 'evahanderek': 14331, 'marleyknysh': 14332, 'ivpkqyag': 14333, 'tygavnuk': 14334, 'jose': 14335, 'willow': 14336, 'glen': 14337, 'trestle': 14338, 'battles': 14339, 'taxzkc': 14340, 'kgb': 14341, 'cossack': 14342, 'blardto': 14343, 'einsqstfq': 14344, 'hearths': 14345, 'oftddglb': 14346, 'kne': 14347, 'pwjjimrfly': 14348, 'nlccollide': 14349, 'wpxfyyri': 14350, 'latin': 14351, 'argentina': 14352, 'myymif': 14353, 'outbid': 14354, 'lbpxbucnv': 14355, 'catlow': 14356, 'swivels': 14357, 'stormchase': 14358, 'ef': 14359, 'sicroaanz': 14360, 'ioahisp': 14361, 'meditationbymsg': 14362, 'meditation': 14363, 'divine': 14364, 'blessing': 14365, 'vmflnxvzc': 14366, 'hazards': 14367, 'hashtags': 14368, 'perth': 14369, 'winner': 14370, 'iinet': 14371, 'nbn': 14372, 'buffering': 14373, 'ggperglvki': 14374, 'tanslash': 14375, 'brains': 14376, 'lgrocbxpqo': 14377, 'cyhi': 14378, 'cortezera': 14379, 'rescind': 14380, 'honor': 14381, 'urdriuac': 14382, 'nalathekoala': 14383, 'sequalae': 14384, 'suicides': 14385, 'homicid': 14386, 'cgmjlseylo': 14387, 'mikecroninwmur': 14388, 'iaplwvqsw': 14389, 'dffrntsgd': 14390, 'riceechrispies': 14391, 'chrisdanielshow': 14392, 'pee': 14393, 'francisco': 14394, 'tvlfrhmm': 14395, 'onvxnczw': 14396, 'tnggxnmk': 14397, 'hvymoz': 14398, 'ibeyiofficial': 14399, 'olnktinm': 14400, 'icfqliop': 14401, 'lakh': 14402, 'kckh': 14403, 'bae': 14404, 'backroom': 14405, 'thisiswhywecanthavenicethings': 14406, 'kgxnwziuxd': 14407, 'sweep': 14408, 'psiaupc': 14409, 'mailonlin': 14410, 'uqvadfbca': 14411, 'xela': 14412, 'struggle': 14413, 'dcfd': 14414, 'chrlyc': 14415, 'iaff': 14416, 'misdirection': 14417, 'ignite': 14418, 'vanishing': 14419, 'phantom': 14420, 'kurokobot': 14421, 'sanfrancisco': 14422, 'ojuhfkhvb': 14423, 'ftqmfhyb': 14424, 'cher': 14425, 'lloyd': 14426, 'foodborne': 14427, 'illness': 14428, 'frackfreelancs': 14429, 'deccgovuk': 14430, 'frackfree': 14431, 'tarleton': 14432, 'jsccxkja': 14433, 'txetcysmh': 14434, 'justinejayyy': 14435, 'ohgod': 14436, 'nathan': 14437, 'snowbal': 14438, 'teahivetweets': 14439, 'inund': 14440, 'lesotho': 14441, 'mattcohenfake': 14442, 'gamma': 14443, 'january': 14444, 'waits': 14445, 'fkvyhqlk': 14446, 'newsdict': 14447, 'vassalboro': 14448, 'gazebo': 14449, 'petel': 14450, 'mcguire': 14451, 'uuewccdtow': 14452, 'winik': 14453, 'efswpsxz': 14454, 'nbmaaaof': 14455, 'nia': 14456, 'quizzed': 14457, 'denies': 14458, 'ogzjokdsv': 14459, 'elections': 14460, 'achedin': 14461, 'indiahttp': 14462, 'informationng': 14463, 'hxigcenf': 14464, 'rdovqauax': 14465, 'autism': 14466, 'specialne': 14467, 'tezltqeyw': 14468, 'leelanau': 14469, 'grand': 14470, 'traverse': 14471, 'extended': 14472, 'oskfyjck': 14473, 'besaf': 14474, 'glosblue': 14475, 'racist': 14476, 'avigdorliberman': 14477, 'susiya': 14478, 'beheadings': 14479, 'liotxthh': 14480, 'subcontractor': 14481, 'cgg': 14482, 'cairo': 14483, 'udkesjml': 14484, 'libertygeek': 14485, 'kissing': 14486, 'lejonusq': 14487, 'mqmcolwbzc': 14488, 'slew': 14489, 'unfml': 14490, 'gamin': 14491, 'ight': 14492, 'wrqfuhh': 14493, 'salmanmydarling': 14494, 'dub': 14495, 'illogical': 14496, 'arkmcvcln': 14497, 'frequent': 14498, 'midtown': 14499, 'kqjevyqzlv': 14500, 'cn': 14501, 'hmwhobpr': 14502, 'satin': 14503, 'mbyflid': 14504, 'ddmtguzz': 14505, 'realhotcullen': 14506, 'lyrium': 14507, 'thirsty': 14508, 'dehydr': 14509, 'href': 14510, 'wnowfvcbms': 14511, 'jxwojxqndc': 14512, 'dvqjvxpo': 14513, 'treasures': 14514, 'drains': 14515, 'kahkmtrj': 14516, 'evttqpeia': 14517, 'teachers': 14518, 'zfivvxydzi': 14519, 'amdollela': 14520, 'kulli': 14521, 'a': 14522, 'goldrush': 14523, 'chonce': 14524, 'cryibg': 14525, 'pzotpdgaki': 14526, 'versions': 14527, 'rin': 14528, 'misha': 14529, 'emi': 14530, 'kenji': 14531, 'yuuko': 14532, 'nomiya': 14533, 'hisao': 14534, 'omgggg': 14535, 'vnugmgkt': 14536, 'closur': 14537, 'gears': 14538, 'preview': 14539, 'sdgzdxnt': 14540, 'iglnqpgbnw': 14541, 'aoesbvn': 14542, 'rushlimbaugh': 14543, 'clintons': 14544, 'meddl': 14545, 'catoinstitute': 14546, 'deeply': 14547, 'easily': 14548, 'solved': 14549, 'hxcaxjbu': 14550, 'tammy': 14551, 'elijahmallari': 14552, 'bigrigradio': 14553, 'awar': 14554, 'await': 14555, 'disembarkment': 14556, 'vessel': 14557, 'tconnellyr': 14558, 'aimcyh': 14559, 'hirochii': 14560, 'andbtizao': 14561, 'autismawar': 14562, 'eulogies': 14563, 'tormented': 14564, 'matias': 14565, 'xavi': 14566, 'cpnbbzkzg': 14567, 'orcas': 14568, 'complaining': 14569, 'emblem': 14570, 'gigant': 14571, 'difficulty': 14572, 'hannomottola': 14573, 'trpreston': 14574, 'mlrydalch': 14575, 'bjpsamvad': 14576, 'argent': 14577, 'amaz': 14578, 'joshsternberg': 14579, 'fantast': 14580, 'mold': 14581, 'proudgreenhome': 14582, 'kavaovjzv': 14583, 'zfyqsawvrk': 14584, 'toiindianews': 14585, 'ofcourse': 14586, 'caued': 14587, 'washing': 14588, 'molecularly': 14589, 'lungcancer': 14590, 'twipymus': 14591, 'qtjmdpi': 14592, 'effected': 14593, 'cali': 14594, 'leandotorg': 14595, 'lean': 14596, 'quicker': 14597, 'suzbkywtt': 14598, 'ciwxabva': 14599, 'ojqkfgub': 14600, 'sexuality': 14601, 'diagnosis': 14602, 'digitalhealth': 14603, 'hcsm': 14604, 'jkcdiqvxc': 14605, 'mystical': 14606, 'gcdxydbsc': 14607, 'mlk': 14608, 'praiz': 14609, 'oxvtlpmf': 14610, 'irkcbkd': 14611, 'savior': 14612, 'uzwxjbgzh': 14613, 'therealrittz': 14614, 'kansas': 14615, 'hyatt': 14616, 'aia': 14617, 'cote': 14618, 'thsiqswp': 14619, 'huffpostart': 14620, 'quiet': 14621, 'phandom': 14622, 'tyler': 14623, 'tyewzfhqa': 14624, 'fee': 14625, 'rotary': 14626, 'uvopwz': 14627, 'stretched': 14628, 'igzvge': 14629, 'mdnfxyg': 14630, 'dunmvjitl': 14631, 'rgdrjvhf': 14632, 'ssrgrmqcz': 14633, 'frisbvk': 14634, 'imsushickoflove': 14635, 'alekalicante': 14636, 'gauz': 14637, 'zctcchoj': 14638, 'colo': 14639, 'lzkely': 14640, 'olrules': 14641, 'chapter': 14642, 'encounters': 14643, 'qxarfag': 14644, 'gthddzavhg': 14645, 'losangelestimes': 14646, 'wspuxorewb': 14647, 'forestservice': 14648, 'dhsscitech': 14649, 'kybqcsvrza': 14650, 'ihkymsmp': 14651, 'lage': 14652, 'grantgordy': 14653, 'rossmartin': 14654, 'ibrahimmisau': 14655, 'zcjearci': 14656, 'havxobcsvu': 14657, 'slightest': 14658, 'stirring': 14659, 'morty': 14660, 'uqkxvbium': 14661, 'theghostparty': 14662, 'vin': 14663, 'yygb': 14664, 'prepares': 14665, 'strongest': 14666, 'hideous': 14667, 'uglypeopl': 14668, 'halloikbenwil': 14669, 'gamotgisw': 14670, 'freediscountbks': 14671, 'axvqldtehc': 14672, 'amreading': 14673, 'iysxwpvmk': 14674, 'sessions': 14675, 'klitschko': 14676, 'jszzqstx': 14677, 'xsxoo': 14678, 'liam': 14679, 'payne': 14680, 'addtexastonextdtour': 14681, 'kasiakosek': 14682, 'desk': 14683, 'misfortunebut': 14684, 'fighterdena': 14685, 'vol': 14686, 'deejayempiresound': 14687, 'rqiuqxnmx': 14688, 'rightways': 14689, 'inspections': 14690, 'vzirhnmm': 14691, 'rightwaystan': 14692, 'shekhargupta': 14693, 'mihirssharma': 14694, 'realised': 14695, 'trp': 14696, 'mockeri': 14697, 'ibazrhlsur': 14698, 'bwwqnyqi': 14699, 'ugzuiqprw': 14700, 'nwsbayarea': 14701, 'jmcwrites': 14702, 'pitchwars': 14703, 'realism': 14704, 'xrltnoh': 14705, 'thankkk': 14706, 'notificationsu': 14707, 'fella': 14708, 'parsholics': 14709, 'superb': 14710, 'jus': 14711, 'awesomelove': 14712, 'frvrgr': 14713, 'submitt': 14714, 'nbugsmqlrg': 14715, 'aviationaddict': 14716, 'ddnt': 14717, 'reign': 14718, 'coco': 14719, 'ostentatious': 14720, 'lzobqohb': 14721, 'tsvaisw': 14722, 'acebabes': 14723, 'healthweekly': 14724, 'amateurnest': 14725, 'vibrates': 14726, 'handl': 14727, 'vjaljasx': 14728, 'mechanical': 14729, 'oyvxbztv': 14730, 'nkmxuverg': 14731, 'tangled': 14732, 'bans': 14733, 'bzxxzaw': 14734, 'dmoneydemi': 14735, 'forsure': 14736, 'dtb': 14737, 'watchout': 14738, 'appoints': 14739, 'brig': 14740, 'gen': 14741, 'kaiser': 14742, 'mississippi': 14743, 'commission': 14744, 'mrc': 14745, 'vdukcvyji': 14746, 'prablematicla': 14747, 'adweek': 14748, 'ptevymt': 14749, 'ashberxo': 14750, 'traces': 14751, 'organ': 14752, 'harvesting': 14753, 'izkbohri': 14754, 'tremont': 14755, 'fpkiqbusr': 14756, 'vdgfxyxbw': 14757, 'wcaqxedf': 14758, 'odai': 14759, 'bucharest': 14760, 'romania': 14761, 'pjigxpvpl': 14762, 'fuso': 14763, 'yamashiro': 14764, 'cachet': 14765, 'aqzliml': 14766, 'fvrjdqa': 14767, 'deployments': 14768, 'nzflxigvr': 14769, 'pea': 14770, 'scwx': 14771, 'tsaletftkt': 14772, 'kotowsa': 14773, 'sudan': 14774, 'mexwohdtg': 14775, 'gbfidw': 14776, 'paying': 14777, 'influencers': 14778, 'socialtimes': 14779, 'ptcxcragi': 14780, 'bod': 14781, 'portgassdk': 14782, 'bolasie': 14783, 'ctneptl': 14784, 'milwaukee': 14785, 'indyfest': 14786, 'tfanqqys': 14787, 'rakwwritpo': 14788, 'alexeivolkov': 14789, 'mcfaul': 14790, 'roskomnadzor': 14791, 'ridiculously': 14792, 'politicized': 14793, 'zdjhyfro': 14794, 'reflections': 14795, 'forms': 14796, 'delusion': 14797, 'seeking': 14798, 'pity': 14799, 'dxfqoukt': 14800, 'rude': 14801, 'nev': 14802, 'pusssssssssy': 14803, 'shoook': 14804, 'organicallyrude': 14805, 'mattingly': 14806, 'bundy': 14807, 'mcgwire': 14808, 'breaks': 14809, 'mistr': 14810, 'maddie': 14811, 'tae': 14812, 'oktxduo': 14813, 'ixvmw': 14814, 'bbshelli': 14815, 'rkuidmaq': 14816, 'risky': 14817, 'slain': 14818, 'mexican': 14819, 'unknowingly': 14820, 'qxhowcvr': 14821, 'breitbartnew': 14822, 'kncmjci': 14823, 'swviazsphk': 14824, 'rosewell': 14825, 'elugblpb': 14826, 'upi': 14827, 'irannucleard': 14828, 'pone': 14829, 'cantar': 14830, 'lightn': 14831, 'flgovscott': 14832, 'males': 14833, 'gvwnhb': 14834, 'everton': 14835, 'wonderkid': 14836, 'nbemnc': 14837, 'obfdeqcp': 14838, 'yazjeowvk': 14839, 'eighty': 14840, 'speutk': 14841, 'inmates': 14842, 'remand': 14843, 'osmiuxkhw': 14844, 'zodiac': 14845, 'trey': 14846, 'dupree': 14847, 'sparkz': 14848, 'beatz': 14849, 'chuck': 14850, 'hdkdjlw': 14851, 'collaborating': 14852, 'ktlrfmy': 14853, 'ipthonoti': 14854, 'grandmother': 14855, 'ndcyqri': 14856, 'hua': 14857, 'kmtwangf': 14858, 'striked': 14859, 'otm': 14860, 'justifying': 14861, 'quarrel': 14862, 'zijktkyk': 14863, 'ought': 14864, 'cxhizprad': 14865, 'pwmkxad': 14866, 'nykaed': 14867, 'mkjoxdko': 14868, 'boulder': 14869, 'stearns': 14870, 'cadmlnko': 14871, 'ucyfeayu': 14872, 'dnwwoybrk': 14873, 'inroices': 14874, 'avenged': 14875, 'sevenfold': 14876, 'qbdryxsglc': 14877, 'vzodqfflv': 14878, 'fuckboy': 14879, 'pseudojuuzo': 14880, 'calknvvc': 14881, 'ywvqkgbbi': 14882, 'sffcomp': 14883, 'uisnqiuif': 14884, 'crimsonfuckingv': 14885, 'bitchlvecannon': 14886, 'admit': 14887, 'seras': 14888, 'sasha': 14889, 'peice': 14890, 'sidewalk': 14891, 'frightening': 14892, 'bdotqdsln': 14893, 'wqow': 14894, 'hjsfddfi': 14895, 'raychielovesu': 14896, 'lemonade': 14897, 'semi': 14898, 'kkcnppzmk': 14899, 'msuyqtpk': 14900, 'vzxoswj': 14901, 'mhpnoakb': 14902, 'swiftycommissh': 14903, 'taoistinsight': 14904, 'immortaltech': 14905, 'tht': 14906, 'killin': 14907, 'benson': 14908, 'clegg': 14909, 'damascus': 14910, 'grinds': 14911, 'alloosh': 14912, 'manure': 14913, 'pile': 14914, 'rakhpbwm': 14915, 'riooooos': 14916, 'beast': 14917, 'pyseb': 14918, 'jerseys': 14919, 'nruzhrxqu': 14920, 'dialtat': 14921, 'hdvmhsqxhm': 14922, 'hired': 14923, 'incompet': 14924, 'ell': 14925, 'rubybot': 14926, 'qltwhojqya': 14927, 'mistresspip': 14928, 'amazed': 14929, 'mistress': 14930, 'drayesha': 14931, 'indiakomuntorjawabdo': 14932, 'wjljqyag': 14933, 'waimea': 14934, 'czdwoowa': 14935, 'atchisonsean': 14936, 'homukami': 14937, 'srs': 14938, 'views': 14939, 'wpwpsfx': 14940, 'mesick': 14941, 'agtopyzk': 14942, 'bricks': 14943, 'crazyideascollege': 14944, 'dhsbuuk': 14945, 'dysfunctional': 14946, 'mcconnell': 14947, 'judicial': 14948, 'nominations': 14949, 'vtakymgk': 14950, 'ballew': 14951, 'statements': 14952, 'sliding': 14953, 'writers': 14954, 'nester': 14955, 'sonoranrattler': 14956, 'writingtips': 14957, 'slttorrlh': 14958, 'kzbsohtwb': 14959, 'phelimkine': 14960, 'gokjeb': 14961, 'krwzyahm': 14962, 'vai': 14963, 'vir': 14964, 'pra': 14965, 'grandad': 14966, 'retiredfilth': 14967, 'tianta': 14968, 'uziwgzryny': 14969, 'slingnew': 14970, 'spookyfob': 14971, 'feelslikefob': 14972, 'kindness': 14973, 'stump': 14974, 'foothill': 14975, 'ctijdpxabk': 14976, 'mv': 14977, 'strutting': 14978, 'angelriveralib': 14979, 'jaawuiovdc': 14980, 'wrbxdwy': 14981, 'croydon': 14982, 'crowds': 14983, 'reeves': 14984, 'croydonization': 14985, 'damnnnn': 14986, 'gmcr': 14987, 'accord': 14988, 'blasting': 14989, 'benediction': 14990, 'sanelesstheory': 14991, 'sigeeqcz': 14992, 'wbogsejsj': 14993, 'springs': 14994, 'elk': 14995, 'monday': 14996, 'jfvuqa': 14997, 'saddle': 14998, 'accountable': 14999, 'preferable': 15000, 'brass': 15001, 'tawfmcaw': 15002, 'oz': 15003, 'jar': 15004, 'ameribag': 15005, 'healthy': 15006, 'backpack': 15007, 'khaki': 15008, 'tan': 15009, 'beige': 15010, 'rktylofj': 15011, 'ahhtheenikki': 15012, 'dwwpdet': 15013, 'damsels': 15014, 'distress': 15015, 'peers': 15016, 'xrcavd': 15017, 'xysdnxz': 15018, 'mnpcerno': 15019, 'geuhcsz': 15020, 'vwslgfp': 15021, 'homasttopa': 15022, 'nowwwwww': 15023, 'ikpeazu': 15024, 'apga': 15025, 'akzzoec': 15026, 'dart': 15027, 'participating': 15028, 'intensive': 15029, 'technical': 15030, 'tlaod': 15031, 'hunted': 15032, 'competitive': 15033, 'sszlyv': 15034, 'choppas': 15035, 'pydisney': 15036, 'bieb': 15037, 'jwfiiljwr': 15038, 'liveleakfun': 15039, 'ionwarvrfi': 15040, 'gains': 15041, 'silentsiris': 15042, 'norse': 15043, 'landscapes': 15044, 'snotgreen': 15045, 'wasteland': 15046, 'jota': 15047, 'ess': 15048, 'peeked': 15049, 'immune': 15050, 'deafening': 15051, 'ehltyyfak': 15052, 'pmxezuoay': 15053, 'lickin': 15054, 'donuts': 15055, 'ahahahga': 15056, 'esn': 15057, 'cilla': 15058, 'stroke': 15059, 'fadiiyk': 15060, 'jrxgolnpqw': 15061, 'linkvzbn': 15062, 'sometimesi': 15063, 'anxietyproblem': 15064, 'kp': 15065, 'destination': 15066, 'roadid': 15067, 'hikdcfmf': 15068, 'filmed': 15069, 'aogchjmvs': 15070, 'clnsxzyz': 15071, 'voortrekker': 15072, 'tambo': 15073, 'intl': 15074, 'kscqkfkkf': 15075, 'skqoucmr': 15076, 'licensed': 15077, 'agent': 15078, 'produc': 15079, 'vmjrtuvmh': 15080, 'denv': 15081, 'tanehisicoates': 15082, 'laced': 15083, 'monologue': 15084, 'charlize': 15085, 'coulda': 15086, 'urogyn': 15087, 'mesh': 15088, 'offenders': 15089, 'npoqlkqup': 15090, 'meshnewsdesk': 15091, 'fairfax': 15092, 'jaxhzjccd': 15093, 'lightman': 15094, 'wsvawof': 15095, 'kedjxanmm': 15096, 'annonymous': 15097, 'revel': 15098, 'farewell': 15099, 'gtxrwm': 15100, 'wate': 15101, 'qqsmshajn': 15102, 'gail': 15103, 'russell': 15104, 'dalroy': 15105, 'vfkedgrso': 15106, 'sdlowwnu': 15107, 'hkavtvx': 15108, 'cxbhjn': 15109, 'rascal': 15110, 'flatts': 15111, 'htyysgr': 15112, 'klavierstuk': 15113, 'lvg': 15114, 'spurs': 15115, 'smaller': 15116, 'lcb': 15117, 'cl': 15118, 'ioabsli': 15119, 'thatsabinegirl': 15120, 'dose': 15121, 'falmer': 15122, 'tvvlgfni': 15123, 'dunking': 15124, 'ufn': 15125, 'mcfadden': 15126, 'hamstring': 15127, 'teamstream': 15128, 'jwqkvjhj': 15129, 'kou': 15130, 'massgrave': 15131, 'mutldif': 15132, 'dzlpnpx': 15133, 'fiery': 15134, 'disdain': 15135, 'nekmrpohu': 15136, 'lamsdzkcuz': 15137, 'shield': 15138, 'qwoqamh': 15139, 'esrkmazeq': 15140, 'rnqebaycvm': 15141, 'xwoevmkaa': 15142, 'deadpool': 15143, 'wears': 15144, 'fyroxsl': 15145, 'isai': 15146, 'psm': 15147, 'scattered': 15148, 'mugged': 15149, 'keetytz': 15150, 'semasirtalk': 15151, 'bankstown': 15152, 'stacey': 15153, 'wattle': 15154, 'sydtraffic': 15155, 'trafficnetwork': 15156, 'chojo': 15157, 'pumpkin': 15158, 'straightfir': 15159, 'butterlondon': 15160, 'crayons': 15161, 'rams': 15162, 'bbloggers': 15163, 'dsbldfuxu': 15164, 'telnet': 15165, 'streamyx': 15166, 'kyxfxmxa': 15167, 'qkzspxn': 15168, 'thedayct': 15169, 'dismissed': 15170, 'raped': 15171, 'occupational': 15172, 'isi': 15173, 'negotiating': 15174, 'vsoxiooy': 15175, 'fcekihti': 15176, 'marksmaponyane': 15177, 'sundowns': 15178, 'improv': 15179, 'hkgxzjlmx': 15180, 'rhxmghspd': 15181, 'firefigthers': 15182, 'northampton': 15183, 'hppldjhtz': 15184, 'malistkiss': 15185, 'sunnis': 15186, 'righteous': 15187, 'shias': 15188, 'defeats': 15189, 'ideals': 15190, 'leitchfield': 15191, 'bella': 15192, 'edward': 15193, 'rosalie': 15194, 'adoption': 15195, 'sponsorships': 15196, 'ajaysnplg': 15197, 'dodge': 15198, 'bodied': 15199, 'libby': 15200, 'mcejzzxgh': 15201, 'beauscoven': 15202, 'debbie': 15203, 'mvsrjdxd': 15204, 'robertharding': 15205, 'repjohnkatko': 15206, 'netanyahu': 15207, 'flush': 15208, 'mycareer': 15209, 'tyrone': 15210, 'mrbikd': 15211, 'vuln': 15212, 'oxxrnabun': 15213, 'yhyyou': 15214, 'khq': 15215, 'anlhwizkz': 15216, 'innovative': 15217, 'znevglufm': 15218, 'sincer': 15219, 'tftbbxaz': 15220, 'iraqi': 15221, 'seekers': 15222, 'ndetention': 15223, 'unscreened': 15224, 'bkrgga': 15225, 'dcclotheslin': 15226, 'qivrzojzv': 15227, 'rjkrraj': 15228, 'karnakarank': 15229, 'vimvith': 15230, 'wud': 15231, 'thalapathi': 15232, 'glaucoma': 15233, 'fluid': 15234, 'builds': 15235, 'optic': 15236, 'nerve': 15237, 'eyefact': 15238, 'lolla': 15239, 'yrfzwjr': 15240, 'mueller': 15241, 'complaints': 15242, 'nov': 15243, 'pedhcsni': 15244, 'sholt': 15245, 'mtgrotto': 15246, 'ecoc': 15247, 'carlsbadbugkil': 15248, 'lowered': 15249, 'zgyddywa': 15250, 'yhquuvok': 15251, 'species': 15252, 'kanger': 15253, 'coils': 15254, 'vaping': 15255, 'cykrxaluh': 15256, 'endorsement': 15257, 'expens': 15258, 'adamtuss': 15259, 'climbing': 15260, 'vern': 15261, 'sq': 15262, 'fools': 15263, 'tsipras': 15264, 'wallybaiter': 15265, 'gbrnulpfh': 15266, 'practitioner': 15267, 'recruitment': 15268, 'counselors': 15269, 'wasilla': 15270, 'lkzcnynxx': 15271, 'carlilescanoelivery': 15272, 'lovemyjob': 15273, 'zorsqura': 15274, 'fcixkxqh': 15275, 'languages': 15276, 'rdfaakkbnj': 15277, 'qxhhcwd': 15278, 'loathing': 15279, 'ma': 15280, 'welles': 15281, 'antichrist': 15282, 'desecrates': 15283, 'jerusalem': 15284, 'gettin': 15285, 'dalztonc': 15286, 'gns': 15287, 'ryzmzsgdw': 15288, 'gassymexican': 15289, 'lpgfqnpjd': 15290, 'realities': 15291, 'glitch': 15292, 'tvyqczgjdi': 15293, 'unsure': 15294, 'paging': 15295, 'uxqkieqdyf': 15296, 'dogger': 15297, 'westward': 15298, 'regent': 15299, 'towing': 15300, 'metre': 15301, 'hobby': 15302, 'lobby': 15303, 'ama': 15304, 'qcbcxoko': 15305, 'foxa': 15306, 'cmcsa': 15307, 'sni': 15308, 'amcx': 15309, 'viab': 15310, 'twx': 15311, 'aqinavlb': 15312, 'rvfriedmann': 15313, 'lodisilverado': 15314, 'ritzy': 15315, 'jewel': 15316, 'nffc': 15317, 'wesley': 15318, 'verhoek': 15319, 'household': 15320, 'tpan': 15321, 'maroute': 15322, 'imeshika': 15323, 'hapa': 15324, 'mats': 15325, 'aar': 15326, 'bonnieg': 15327, 'piga': 15328, 'kijan': 15329, 'leaking': 15330, 'sewage': 15331, 'vscpgmsjxi': 15332, 'beck': 15333, 'arnley': 15334, 'odmxwdhm': 15335, 'gaheujruju': 15336, 'perished': 15337, 'holodomor': 15338, 'erected': 15339, 'djlwznieh': 15340, 'imxxkzhbl': 15341, 'michaelgbaron': 15342, 'lefties': 15343, 'hashtagteaclub': 15344, 'pars': 15345, 'defender': 15346, 'tod': 15347, 'ensu': 15348, 'flickershowell': 15349, 'reince': 15350, 'presssec': 15351, 'draw': 15352, 'consistently': 15353, 'rcqcd': 15354, 'tegajmril': 15355, 'slating': 15356, 'gpaulista': 15357, 'jackwilshere': 15358, 'disgrace': 15359, 'xlfiovhfj': 15360, 'raqzpdvk': 15361, 'bugs': 15362, 'jungle': 15363, 'qpqrson': 15364, 'uyugfgkh': 15365, 'gaotrgmtr': 15366, 'heared': 15367, 'dislike': 15368, 'femnism': 15369, 'rpvtsduma': 15370, 'xozbpbjb': 15371, 'lithium': 15372, 'ageakvnx': 15373, 'prairie': 15374, 'zzudilrea': 15375, 'misty': 15376, 'emmy': 15377, 'fin': 15378, 'amymwwcpym': 15379, 'tqruqdlg': 15380, 'billmccabe': 15381, 'benji': 15382, 'devos': 15383, 'tomcatarts': 15384, 'cel': 15385, 'bbsnews': 15386, 'hebron': 15387, 'gnefwxh': 15388, 'epcotexplorer': 15389, 'ransacked': 15390, 'awesomeeeeeee': 15391, 'gadget': 15392, 'jtxjiygrl': 15393, 'ibxcragtt': 15394, 'trophy': 15395, 'neqweuj': 15396, 'badchoices': 15397, 'bantrophyhunt': 15398, 'mariankeyes': 15399, 'hvmmdebdx': 15400, 'jggmkiney': 15401, 'forbesasia': 15402, 'wk': 15403, 'rainier': 15404, 'seward': 15405, 'seattledot': 15406, 'seattletim': 15407, 'deans': 15408, 'itzzkwfhg': 15409, 'mazing': 15410, 'ficdqbqwl': 15411, 'awmbnr': 15412, 'spike': 15413, 'ckec': 15414, 'uubovygqi': 15415, 'ani': 15416, 'lwwojxttiv': 15417, 'remainontop': 15418, 'gostei': 15419, 'um': 15420, 'deo': 15421, 'christinartnd': 15422, 'bwekjcept': 15423, 'postcards': 15424, 'polaroids': 15425, 'indexing': 15426, 'remedial': 15427, 'angioplasty': 15428, 'dissertation': 15429, 'dismayed': 15430, 'vgvjgrzoo': 15431, 'impulsive': 15432, 'redesign': 15433, 'mistrustful': 15434, 'friendship': 15435, 'vaunpswja': 15436, 'onegreenplanet': 15437, 'mjstefggu': 15438, 'congestion': 15439, 'plotted': 15440, 'bneryvz': 15441, 'snapping': 15442, 'stlkhfb': 15443, 'miracle': 15444, 'mankind': 15445, 'karinagarciaxo': 15446, 'bud': 15447, 'koreans': 15448, 'apksnplxzj': 15449, 'bartlett': 15450, 'astroturfers': 15451, 'crumbl': 15452, 'noahcrothman': 15453, 'bore': 15454, 'minutiae': 15455, 'champagne': 15456, 'qrepylluk': 15457, 'rvczmimfvx': 15458, 'dye': 15459, 'dy': 15460, 'osuoivnigo': 15461, 'wmutcdgb': 15462, 'aesop': 15463, 'err': 15464, 'qchvjqovk': 15465, 'gcudfnfgg': 15466, 'ttw': 15467, 'bumzvmwam': 15468, 'sanitised': 15469, 'narrative': 15470, 'gkpanzvg': 15471, 'provocation': 15472, 'lhwvtbhzg': 15473, 'furious': 15474, 'carmqivkwu': 15475, 'imilsfxntf': 15476, 'filipino': 15477, 'newyorkcity': 15478, 'lennox': 15479, 'drjustinmazur': 15480, 'megancoopy': 15481, 'laurathorne': 15482, 'mesqtvdu': 15483, 'yixfghdi': 15484, 'temperature': 15485, 'ysnmwwyvc': 15486, 'alpotnbq': 15487, 'goodbye': 15488, 'gobsmacked': 15489, 'bqtyxda': 15490, 'jasmines': 15491, 'littlewomenla': 15492, 'truckcrash': 15493, 'overturns': 15494, 'fortworth': 15495, 'rsljqfp': 15496, 'lduniywk': 15497, 'pastor': 15498, 'rov': 15499, 'cyxbrzxwq': 15500, 'xxumtoeke': 15501, 'monitoring': 15502, 'income': 15503, 'dorett': 15504, 'unpredictable': 15505, 'disconnected': 15506, 'lilithsaintcrow': 15507, 'eswnsetftf': 15508, 'bcsxyecji': 15509, 'dfxikvx': 15510, 'misfitrarity': 15511, 'misfit': 15512, 'pflmmg': 15513, 'qrugzvg': 15514, 'kbwpcmmbm': 15515, 'gaaenodu': 15516, 'tgcrvofj': 15517, 'redblood': 15518, 'videoclip': 15519, 'pymmruwf': 15520, 'dazzle': 15521, 'audacityjamesta': 15522, 'pckfnlyn': 15523, 'twilight': 15524, 'encore': 15525, 'jacquie': 15526, 'biggar': 15527, 'znptdicqxe': 15528, 'kindlecountdown': 15529, 'mfrwauthor': 15530, 'mgtab': 15531, 'dialyses': 15532, 'sundercr': 15533, 'remixes': 15534, 'merged': 15535, 'sil': 15536, 'arobotlegion': 15537, 'oppressed': 15538, 'ignor': 15539, 'hknuwzz': 15540, 'fairxx': 15541, 'playoverwatch': 15542, 'blizzardcs': 15543, 'georg': 15544, 'yellows': 15545, 'saxxoq': 15546, 'svygenjuv': 15547, 'trident': 15548, 'pumper': 15549, 'ims': 15550, 'plastic': 15551, 'faqnfupegn': 15552, 'mqfofkxtyh': 15553, 'gpm': 15554, 'bullseye': 15555, 'vcezicbb': 15556, 'seclusion': 15557, 'compliance': 15558, 'morevoic': 15559, 'volfan': 15560, 'tneazzy': 15561, 'mizzou': 15562, 'muschamp': 15563, 'bama': 15564, 'nsaggfnxz': 15565, 'odzshfi': 15566, 'jvppkhji': 15567, 'passeng': 15568, 'arian': 15569, 'yeat': 15570, 'ayyo': 15571, 'dei': 15572, 'cbaxcubah': 15573, 'persistent': 15574, 'fastings': 15575, 'woxvprixq': 15576, 'poured': 15577, 'fallontonight': 15578, 'pdoayyj': 15579, 'clogs': 15580, 'jrdwyyax': 15581, 'kinkyconnors': 15582, 'ptkrxtzjtv': 15583, 'dffjonvep': 15584, 'zaynmalik': 15585, 'kakajambori': 15586, 'yor': 15587, 'mechan': 15588, 'lwwfwr': 15589, 'nawqoqol': 15590, 'painful': 15591, 'bannist': 15592, 'qctfbwon': 15593, 'wrote': 15594, 'greatly': 15595, 'rfvjhef': 15596, 'challenging': 15597, 'jfftcqj': 15598, 'therein': 15599, 'tucglmgvr': 15600, 'rochdale': 15601, 'heywood': 15602, 'countermoonbat': 15603, 'pcbvuflfj': 15604, 'aphyr': 15605, 'somethin': 15606, 'clancy': 15607, 'novels': 15608, 'paperback': 15609, 'obixncxn': 15610, 'tomcl': 15611, 'kkdxzmvg': 15612, 'hdchfyaw': 15613, 'lhh': 15614, 'mastered': 15615, 'biexwdldwc': 15616, 'magnets': 15617, 'objects': 15618, 'btusjejuy': 15619, 'zrtfxlukr': 15620, 'alarms': 15621, 'accidently': 15622, 'exams': 15623, 'tdaktglup': 15624, 'gqskwqzuul': 15625, 'booksbyroger': 15626, 'lmbjpxg': 15627, 'msbfrrsn': 15628, 'countynew': 15629, 'resemblance': 15630, 'campbell': 15631, 'bozlwrz': 15632, 'kennel': 15633, 'yorkshire': 15634, 'onlyftf': 15635, 'tusky': 15636, 'robsimss': 15637, 'cantmisskid': 15638, 'anonchimp': 15639, 'mlvkxlii': 15640, 'aseer': 15641, 'pmtqhivsxx': 15642, 'ljmgdpdlv': 15643, 'pictur': 15644, 'avbronstein': 15645, 'popehat': 15646, 'instapundit': 15647, 'estimates': 15648, 'rgyuakcdr': 15649, 'ltmgdpjaf': 15650, 'shayoly': 15651, 'xpddwhtem': 15652, 'kasabwe': 15653, 'biryani': 15654, 'scefpfvaeu': 15655, 'neanderrebel': 15656, 'democrat': 15657, 'cebu': 15658, 'philippi': 15659, 'alrvkqpq': 15660, 'easier': 15661, 'hgbmcirk': 15662, 'ysxghcgz': 15663, 'concur': 15664, 'mmk': 15665, 'dxwfxpwh': 15666, 'namekians': 15667, 'sow': 15668, 'ixwcutkc': 15669, 'disneyirh': 15670, 'tatzfkch': 15671, 'housed': 15672, 'osborn': 15673, 'extinguish': 15674, 'cest': 15675, 'fforecast': 15676, 'teamhennessy': 15677, 'tprimo': 15678, 'djeddygnj': 15679, 'colombian': 15680, 'mrvfidfn': 15681, 'suggs': 15682, 'psychrewatch': 15683, 'restart': 15684, 'fleet': 15685, 'dbaujpub': 15686, 'mariomaraczi': 15687, 'freaked': 15688, 'trossen': 15689, 'abbyairshow': 15690, 'vxjcxukmd': 15691, 'reliefweb': 15692, 'abgfglhx': 15693, 'roguewatson': 15694, 'dukes': 15695, 'undercover': 15696, 'mav': 15697, 'junfpnedl': 15698, 'yfavsuogvl': 15699, 'isirllct': 15700, 'xglahzl': 15701, 'thmblaatzp': 15702, 'pantalonesfuego': 15703, 'deployed': 15704, 'fwupyurzi': 15705, 'qxqrr': 15706, 'mpp': 15707, 'lambasts': 15708, 'kanglaonline': 15709, 'jpxylac': 15710, 'epzgguqji': 15711, 'halljh': 15712, 'offic': 15713, 'lzasrljo': 15714, 'iemxgseb': 15715, 'oqbdasmvy': 15716, 'newbeginningsanimalrescu': 15717, 'pspmahgkq': 15718, 'eau': 15719, 'claire': 15720, 'sentenced': 15721, 'chippewa': 15722, 'kqpkydthj': 15723, 'lincoln': 15724, 'btijamfiu': 15725, 'blowers': 15726, 'tuffers': 15727, 'batting': 15728, 'bbctms': 15729, 'tmzbhjcyf': 15730, 'alcoholism': 15731, 'tgtlzya': 15732, 'forgiving': 15733, 'crcoemwf': 15734, 'posters': 15735, 'banki': 15736, 'gzzqqth': 15737, 'oven': 15738, 'degre': 15739, 'ebrointheam': 15740, 'biggie': 15741, 'flawless': 15742, 'yqckqqd': 15743, 'bbcengland': 15744, 'birmingham': 15745, 'qkgftcam': 15746, 'walqae': 15747, 'merycormier': 15748, 'cosima': 15749, 'shay': 15750, 'thehighfessions': 15751, 'blasted': 15752, 'iowa': 15753, 'torro': 15754, 'loco': 15755, 'conversation': 15756, 'fahlo': 15757, 'olpbmyxw': 15758, 'bieber': 15759, 'oncqgcoa': 15760, 'lfnippnoto': 15761, 'slcemugm': 15762, 'footed': 15763, 'pajamas': 15764, 'opt': 15765, 'midfield': 15766, 'soni': 15767, 'soner': 15768, 'sonisoner': 15769, 'devffptcvj': 15770, 'parental': 15771, 'offspring': 15772, 'preconditioning': 15773, 'corals': 15774, 'ncivgo': 15775, 'mrtophypup': 15776, 'drool': 15777, 'lonepine': 15778, 'descendants': 15779, 'canberra': 15780, 'tfvvnrpc': 15781, 'zznbvfuvo': 15782, 'barcelona': 15783, 'alba': 15784, 'jyiegtnch': 15785, 'dakota': 15786, 'skye': 15787, 'horny': 15788, 'juicy': 15789, 'gsomtdpmoj': 15790, 'stiiilo': 15791, 'carr': 15792, 'ijobzmzp': 15793, 'nqruqtz': 15794, 'nro': 15795, 'unauthorized': 15796, 'fool': 15797, 'fsycmnf': 15798, 'unharmed': 15799, 'denied': 15800, 'nationals': 15801, 'exfnjjlh': 15802, 'skardu': 15803, 'nqnwktrhsa': 15804, 'charact': 15805, 'ffkcjpfj': 15806, 'baffling': 15807, 'telegraph': 15808, 'headlin': 15809, 'greer': 15810, 'nqzbmzuli': 15811, 'tlnfwf': 15812, 'rocyyeidm': 15813, 'kakeru': 15814, 'teduka': 15815, 'bfore': 15816, 'bomd': 15817, 'vzlnsio': 15818, 'dudairbbpo': 15819, 'padosfyxnm': 15820, 'himozask': 15821, 'qqxsyzob': 15822, 'kern': 15823, 'mornings': 15824, 'airing': 15825, 'kbak': 15826, 'rorktmpqns': 15827, 'liveonkbak': 15828, 'edznxgoud': 15829, 'bong': 15830, 'suff': 15831, 'hairdryer': 15832, 'leaks': 15833, 'joints': 15834, 'eliminate': 15835, 'homeimprovement': 15836, 'kxcust': 15837, 'niggr': 15838, 'gif': 15839, 'africansinsf': 15840, 'beyondgps': 15841, 'etdgpiwxti': 15842, 'theconspiracytheory': 15843, 'newep': 15844, 'principles': 15845, 'practices': 15846, 'ssuyhkgrb': 15847, 'tderbtgzk': 15848, 'brak': 15849, 'boyinahorsemask': 15850, 'panda': 15851, 'ocxbwgyft': 15852, 'joshacagan': 15853, 'stack': 15854, 'dvds': 15855, 'tdeukjzzii': 15856, 'cartoony': 15857, 'papa': 15858, 'zmcqrmoi': 15859, 'sorrow': 15860, 'throwin': 15861, 'lucas': 15862, 'duda': 15863, 'ghost': 15864, 'badass': 15865, 'surgeri': 15866, 'vixmeldrew': 15867, 'favors': 15868, 'miubkzm': 15869, 'polmnyz': 15870, 'bdsgfcfax': 15871, 'tzxeggokd': 15872, 'dmgnwwc': 15873, 'necro': 15874, 'alot': 15875, 'kidneys': 15876, 'wpvbhhoq': 15877, 'unijrvrrq': 15878, 'bgcwezb': 15879, 'frustrated': 15880, 'quantit': 15881, 'cymgltg': 15882, 'britons': 15883, 'himalaya': 15884, 'wgrxlypdo': 15885, 'bjhaavaye': 15886, 'paoiqus': 15887, 'elielcruz': 15888, 'streams': 15889, 'qmszfyu': 15890, 'hfzkmcen': 15891, 'vveusesgf': 15892, 'nqluornx': 15893, 'blink': 15894, 'dciqirnu': 15895, 'cpanel': 15896, 'birkbjee': 15897, 'buzwjmw': 15898, 'wpilpmymf': 15899, 'nhdidaj': 15900, 'exyqd': 15901, 'ovletgdqm': 15902, 'nycbuildings': 15903, 'mirik': 15904, 'nepd': 15905, 'loyko': 15906, 'texans': 15907, 'fogzrnpfv': 15908, 'ntjcthmc': 15909, 'pytqmrvp': 15910, 'xtljzbjgl': 15911, 'iphooey': 15912, 'bachmann': 15913, 'ron': 15914, 'catwoman': 15915, 'crazier': 15916, 'oneborn': 15917, 'qyxthkrbh': 15918, 'pajemxnz': 15919, 'cambridge': 15920, 'pzeixixk': 15921, 'palm': 15922, 'grindhouse': 15923, 'screening': 15924, 'texaschainsawmassacre': 15925, 'wopsgbvvv': 15926, 'morbidmovi': 15927, 'freddie': 15928, 'insanelimits': 15929, 'plugin': 15930, 'tps': 15931, 'tdm': 15932, 'breakingnewslh': 15933, 'bree': 15934, 'mars': 15935, 'seventies': 15936, 'hwrf': 15937, 'lashes': 15938, 'taipei': 15939, 'cnkvileb': 15940, 'dirt': 15941, 'agqoxm': 15942, 'sevenfigz': 15943, 'bpnqxmd': 15944, 'lmwkjsycgj': 15945, 'dbuobdxz': 15946, 'tracy': 15947, 'jryodr': 15948, 'kendall': 15949, 'jenner': 15950, 'organisms': 15951, 'sumeprof': 15952, 'judson': 15953, 'xtra': 15954, 'roster': 15955, 'barring': 15956, 'keits': 15957, 'liva': 15958, 'reactions': 15959, 'dznejuvd': 15960, 'absolut': 15961, 'sumya': 15962, 'html': 15963, 'yowbrovf': 15964, 'vrucerw': 15965, 'nlm': 15966, 'dimrc': 15967, 'providers': 15968, 'auoeyirq': 15969, 'mango': 15970, 'carl': 15971, 'everest': 15972, 'cobes': 15973, 'whitt': 15974, 'frost': 15975, 'snuff': 15976, 'godly': 15977, 'someday': 15978, 'hardbal': 15979, 'fences': 15980, 'idiots': 15981, 'swollen': 15982, 'riv': 15983, 'remodeled': 15984, 'mmgsyahdzb': 15985, 'stefano': 15986, 'airlift': 15987, 'zaaxfjsvb': 15988, 'zrzejpefj': 15989, 'vzrmjhy': 15990, 'xevueefqbz': 15991, 'disillusioned': 15992, 'crowe': 15993, 'tropes': 15994, 'twon': 15995, 'cityofkamloops': 15996, 'sec': 15997, 'kamloops': 15998, 'tanszyfp': 15999, 'vinnie': 16000, 'northumbria': 16001, 'upaqgnlf': 16002, 'cookie': 16003, 'dough': 16004, 'smoak': 16005, 'eepzhoth': 16006, 'addoq': 16007, 'spark': 16008, 'vsgqolrg': 16009, 'puhcbqx': 16010, 'dvweq': 16011, 'locksmith': 16012, 'domesticate': 16013, 'mechanic': 16014, 'circa': 16015, 'gba': 16016, 'qccffzv': 16017, 'gunfir': 16018, 'zachlowe': 16019, 'racer': 16020, 'dawson': 16021, 'hhhvkxfaih': 16022, 'talked': 16023, 'sudkkweez': 16024, 'pwamgozj': 16025, 'lcc': 16026, 'thebuffshow': 16027, 'thetwisterokc': 16028, 'shaniatwain': 16029, 'twisterlovesshania': 16030, 'ohtaa': 16031, 'gettinglost': 16032, 'jennellensbb': 16033, 'muncle': 16034, 'superficial': 16035, 'prompting': 16036, 'rvpaklhvi': 16037, 'exhibition': 16038, 'gvaipmlsl': 16039, 'snaymldiun': 16040, 'finalise': 16041, 'alt': 16042, 'destinythegame': 16043, 'bungie': 16044, 'experiences': 16045, 'managers': 16046, 'implication': 16047, 'glov': 16048, 'praise': 16049, 'ministry': 16050, 'wdyouth': 16051, 'biblestudy': 16052, 'ujkegbcc': 16053, 'bcccavyr': 16054, 'byuwnbeki': 16055, 'tacit': 16056, 'gerryconnolly': 16057, 'repdonbeyer': 16058, 'debacle': 16059, 'mgr': 16060, 'qldgjm': 16061, 'mickinyman': 16062, 'theatlantic': 16063, 'scratching': 16064, 'pedals': 16065, 'resoluteshield': 16066, 'cdngawql': 16067, 'zfwmjhslh': 16068, 'uhxodscwi': 16069, 'jdkqctid': 16070, 'jacinta': 16071, 'mar': 16072, 'mlmsuzvz': 16073, 'offshoot': 16074, 'etitgpsrun': 16075, 'slums': 16076, 'manifestation': 16077, 'citizens': 16078, 'illegality': 16079, 'discourse': 16080, 'confounds': 16081, 'stopevict': 16082, 'fandom': 16083, 'rbbnjkoqud': 16084, 'pays': 16085, 'columbus': 16086, 'nezfctfc': 16087, 'zonnqgsxyw': 16088, 'qgldvhu': 16089, 'baked': 16090, 'alaskan': 16091, 'shaped': 16092, 'neverforget': 16093, 'abha': 16094, 'xwzzeqw': 16095, 'nominates': 16096, 'ohhsehuns': 16097, 'rcvdrwowvo': 16098, 'remaster': 16099, 'frame': 16100, 'windwaker': 16101, 'mkayla': 16102, 'petty': 16103, 'childish': 16104, 'chrissie': 16105, 'finn': 16106, 'goodluck': 16107, 'dame': 16108, 'hashgqaf': 16109, 'baskets': 16110, 'charming': 16111, 'tonyakappes': 16112, 'xyavtno': 16113, 'paranorm': 16114, 'amirkingkhan': 16115, 'floydmayweath': 16116, 'chriscesq': 16117, 'reputation': 16118, 'prestige': 16119, 'prosser': 16120, 'hnydbzov': 16121, 'tryouts': 16122, 'woodland': 16123, 'wisdomwed': 16124, 'bonus': 16125, 'lifehacks': 16126, 'tbmfqbcw': 16127, 'mtrqjfd': 16128, 'thejenmorillo': 16129, 'lhmrypdrj': 16130, 'pqhuthssi': 16131, 'rar': 16132, 'iwdrfx': 16133, 'silentmind': 16134, 'bookofdaniel': 16135, 'fkqjyezyg': 16136, 'goals': 16137, 'inspir': 16138, 'justsaying': 16139, 'randomthought': 16140, 'flqxdqpy': 16141, 'longaberger': 16142, 'floral': 16143, 'strap': 16144, 'fbsnrghu': 16145, 'hhs': 16146, 'selects': 16147, 'infectious': 16148, 'qmotxxdkj': 16149, 'patrol': 16150, 'suns': 16151, 'grzchkdf': 16152, 'mal': 16153, 'kingmyth': 16154, 'nasipmvh': 16155, 'pagasa': 16156, 'panay': 16157, 'guimaras': 16158, 'landslides': 16159, 'mountainous': 16160, 'cagov': 16161, 'vp': 16162, 'oofcl': 16163, 'xwnoaw': 16164, 'elreynetwork': 16165, 'oxouwyut': 16166, 'crabbycale': 16167, 'sgftkaegq': 16168, 'hesbpuy': 16169, 'relaxing': 16170, 'soothmyslumber': 16171, 'watermeloann': 16172, 'populardemand': 16173, 'thewebbeffect': 16174, 'fqirslja': 16175, 'akilah': 16176, 'vnfnmyli': 16177, 'annihilate': 16178, 'talisman': 16179, 'keen': 16180, 'cristiano': 16181, 'mipasho': 16182, 'lxvlqvbcr': 16183, 'rlpttkbgw': 16184, 'audi': 16185, 'dieanpink': 16186, 'yu': 16187, 'nita': 16188, 'attractive': 16189, 'conclusions': 16190, 'vwtfx': 16191, 'papiichampoo': 16192, 'era': 16193, 'civility': 16194, 'jpuesi': 16195, 'ttrhjuau': 16196, 'zrrnbtb': 16197, 'namffldhh': 16198, 'sacrifice': 16199, 'terrific': 16200, 'qamgvqafzc': 16201, 'toxicsavior': 16202, 'froze': 16203, 'cjutfxbm': 16204, 'riser': 16205, 'dierks': 16206, 'bentley': 16207, 'iheartradio': 16208, 'zqoscqdh': 16209, 'ylvvfbb': 16210, 'neat': 16211, 'uaodoquda': 16212, 'pleb': 16213, 'mxaaaa': 16214, 'spin': 16215, 'contributing': 16216, 'fittscott': 16217, 'showcase': 16218, 'popularmmos': 16219, 'muljaeux': 16220, 'frtpzte': 16221, 'thorin': 16222, 'sandbox': 16223, 'papcrdoll': 16224, 'deactivate': 16225, 'choic': 16226, 'biigdleq': 16227, 'dobzcpitm': 16228, 'knbvytnwc': 16229, 'qz': 16230, 'taraswart': 16231, 'giang': 16232, 'attempted': 16233, 'jbrkzsri': 16234, 'villicanaalicia': 16235, 'fsqdwx': 16236, 'samajp': 16237, 'tone': 16238, 'soonersportstv': 16239, 'oevaco': 16240, 'widda': 16241, 'goner': 16242, 'whoop': 16243, 'greinke': 16244, 'georgefoster': 16245, 'edmund': 16246, 'fitzgerald': 16247, 'disinfo': 16248, 'yuinmerqs': 16249, 'criticalmedia': 16250, 'patio': 16251, 'umbrella': 16252, 'flipped': 16253, 'writ': 16254, 'ihawvlo': 16255, 'cottage': 16256, 'grove': 16257, 'dcdmnvh': 16258, 'unhqcqbex': 16259, 'createdunique': 16260, 'keren': 16261, 'serpa': 16262, 'arianareed': 16263, 'pcincytfh': 16264, 'bengston': 16265, 'upward': 16266, 'smem': 16267, 'rgoguytlf': 16268, 'profit': 16269, 'obsessed': 16270, 'anutoopkf': 16271, 'superbug': 16272, 'biolabs': 16273, 'epidemics': 16274, 'biosurveillance': 16275, 'outbreaks': 16276, 'homeland': 16277, 'cvhygwcbzv': 16278, 'aqmpxzov': 16279, 'phiddleface': 16280, 'extensive': 16281, 'bclqpwfdod': 16282, 'infected': 16283, 'piercings': 16284, 'ohbvyvtl': 16285, 'ymutindr': 16286, 'becca': 16287, 'caitlyn': 16288, 'ygybjdi': 16289, 'sobbing': 16290, 'endlessly': 16291, 'confused': 16292, 'mtsalert': 16293, 'riders': 16294, 'developed': 16295, 'vicinity': 16296, 'reached': 16297, 'opjwunuvg': 16298, 'musbikejf': 16299, 'acdfzui': 16300, 'cooool': 16301, 'repatriating': 16302, 'wvvgmej': 16303, 'mccainenl': 16304, 'stonewall': 16305, 'calestous': 16306, 'zynfxt': 16307, 'itzmasbvz': 16308, 'looney': 16309, 'griffin': 16310, 'ariabrisard': 16311, 'leiaorganasolo': 16312, 'fwqpcekg': 16313, 'ramp': 16314, 'exum': 16315, 'stem': 16316, 'pifutrbu': 16317, 'rnk': 16318, 'rockingham': 16319, 'stokes': 16320, 'powder': 16321, 'discussed': 16322, 'introduction': 16323, 'aesthetic': 16324, 'bzirgmwj': 16325, 'diverts': 16326, 'declaring': 16327, 'aiexcbkfq': 16328, 'harbhajan': 16329, 'singh': 16330, 'stuartbroad': 16331, 'yuvi': 16332, 'ing': 16333, 'gishwhes': 16334, 'soaked': 16335, 'pads': 16336, 'tampons': 16337, 'mishacollin': 16338, 'joedawg': 16339, 'wording': 16340, 'imo': 16341, 'mothernaturenetwork': 16342, 'thundersnow': 16343, 'uncommon': 16344, 'eydapaupvg': 16345, 'szmnextdoor': 16346, 'yrbegzafx': 16347, 'wrightsboro': 16348, 'dduxthvvnr': 16349, 'wdssvci': 16350, 'indiana': 16351, 'reopening': 16352, 'lafayette': 16353, 'repairs': 16354, 'daniglasgow': 16355, 'cfouwpbrcg': 16356, 'ci': 16357, 'gbvdnczjou': 16358, 'chis': 16359, 'salyers': 16360, 'blair': 16361, 'jenna': 16362, 'bdnfdpdaz': 16363, 'gsaomjnm': 16364, 'conditionsprivation': 16365, 'imaewuwc': 16366, 'terwilliger': 16367, 'ecdhizja': 16368, 'ukfloods': 16369, 'trekkers': 16370, 'himalayas': 16371, 'nsfzkfgznj': 16372, 'veimhea': 16373, 'springer': 16374, 'spaniel': 16375, 'gdkpoonp': 16376, 'gohpibc': 16377, 'eles': 16378, 'kaylee': 16379, 'jannellix': 16380, 'puts': 16381, 'wooooooo': 16382, 'gamerant': 16383, 'esports': 16384, 'ehhmqqr': 16385, 'umtffajjb': 16386, 'talkmc': 16387, 'sbzwruwufh': 16388, 'wadpplwj': 16389, 'yjthnabv': 16390, 'puezvbd': 16391, 'demco': 16392, 'hitch': 16393, 'ultra': 16394, 'pivot': 16395, 'hrdwgfbfyq': 16396, 'nuohkmpzfj': 16397, 'rbsvlppu': 16398, 'minded': 16399, 'keeper': 16400, 'runnin': 16401, 'dispute': 16402, 'oazghozgya': 16403, 'gunfail': 16404, 'nra': 16405, 'ctpugz': 16406, 'cufi': 16407, 'jews': 16408, 'convert': 16409, 'arwwrzpsr': 16410, 'mkjqyfmp': 16411, 'dorman': 16412, 'wxceszte': 16413, 'pygkssscfr': 16414, 'vanderbilt': 16415, 'ccdxcglqw': 16416, 'majesty': 16417, 'salman': 16418, 'khan': 16419, 'unstoppable': 16420, 'bajrangi': 16421, 'bhaijaan': 16422, 'creating': 16423, 'crosed': 16424, 'benkin': 16425, 'mili': 16426, 'probs': 16427, 'kings': 16428, 'eqccrtlnbd': 16429, 'itzsteven': 16430, 'xdojjjj': 16431, 'whopper': 16432, 'cudkryuuan': 16433, 'dkozymvyl': 16434, 'accounts': 16435, 'gleaned': 16436, 'yrqgnblkac': 16437, 'uae': 16438, 'mideast': 16439, 'ncms': 16440, 'thundering': 16441, 'tkskezm': 16442, 'sqgogjsr': 16443, 'nightbeat': 16444, 'veronicadlcruz': 16445, 'minutemix': 16446, 'egyptian': 16447, 'croatian': 16448, 'gtxndnjrrl': 16449, 'films': 16450, 'incredibly': 16451, 'creative': 16452, 'artists': 16453, 'interviewed': 16454, 'anatomy': 16455, 'jmpdsxlk': 16456, 'babysweet': 16457, 'pfannebeckers': 16458, 'inspiring': 16459, 'rediscover': 16460, 'fantabulous': 16461, 'wmhyxkil': 16462, 'funkylilshack': 16463, 'mariaf': 16464, 'slapping': 16465, 'showdown': 16466, 'qgrdpajr': 16467, 'atlarnxx': 16468, 'ghujxet': 16469, 'kkbxiblah': 16470, 'ubkqtxhr': 16471, 'oxljnavf': 16472, 'gfz': 16473, 'minuscule': 16474, 'qeopmcjbcz': 16475, 'finna': 16476, 'boutta': 16477, 'hurting': 16478, 'fphfesemyj': 16479, 'hvvnr': 16480, 'noises': 16481, 'epsom': 16482, 'wimbledon': 16483, 'ilford': 16484, 'pnhpljho': 16485, 'eurocrisis': 16486, 'bbmsrwow': 16487, 'nikistitz': 16488, 'rabhqrth': 16489, 'thesmallclark': 16490, 'fled': 16491, 'journey': 16492, 'cows': 16493, 'ngkrzpza': 16494, 'mtczaawpt': 16495, 'thhjjwp': 16496, 'edekrmqtpq': 16497, 'sensitive': 16498, 'jhtlwuey': 16499, 'lbhexixv': 16500, 'emosrmuvqa': 16501, 'tslqjokvh': 16502, 'sinkingshipindy': 16503, 'scarlet': 16504, 'lenore': 16505, 'saison': 16506, 'stonebrewingco': 16507, 'bigsim': 16508, 'pundits': 16509, 'eshtylbnl': 16510, 'johnsontionne': 16511, 'taaylordarr': 16512, 'hsxfvmtc': 16513, 'iewdrenauk': 16514, 'sirbrandonknt': 16515, 'lesnar': 16516, 'cena': 16517, 'summerslam': 16518, 'nwqwjqkz': 16519, 'yioivkx': 16520, 'uabstephenlong': 16521, 'courtlizcamp': 16522, 'shirley': 16523, 'caesar': 16524, 'kochslasq': 16525, 'plenty': 16526, 'ipa': 16527, 'radler': 16528, 'anmdkdrv': 16529, 'vcirnmdv': 16530, 'noel': 16531, 'pouring': 16532, 'coquitlam': 16533, 'geqkdaocv': 16534, 'dgbgzecgm': 16535, 'sfvwqvjya': 16536, 'bright': 16537, 'ueatxrhi': 16538, 'ibsvyrph': 16539, 'shii': 16540, 'intend': 16541, 'chrisman': 16542, 'ssicmyrmh': 16543, 'rpneajfod': 16544, 'pulaekxcq': 16545, 'beth': 16546, 'underwood': 16547, 'gravity': 16548, 'exited': 16549, 'gqebqz': 16550, 'hjpiri': 16551, 'thh': 16552, 'furst': 16553, 'acne': 16554, 'jasminehuerta': 16555, 'hknqrgedb': 16556, 'dispatch': 16557, 'encoded': 16558, 'sensory': 16559, 'cognitive': 16560, 'dmbxpd': 16561, 'agnzbusqq': 16562, 'qave': 16563, 'knowlddge': 16564, 'pap': 16565, 'iembot': 16566, 'hfo': 16567, 'hana': 16568, 'maui': 16569, 'ggdzsvbz': 16570, 'kbearcdw': 16571, 'agusgo': 16572, 'shoutout': 16573, 'vyuualoqw': 16574, 'twimbos': 16575, 'zimpapersview': 16576, 'cbddiqig': 16577, 'jbjrgepq': 16578, 'defines': 16579, 'perpetrators': 16580, 'breeder': 16581, 'bred': 16582, 'dragonvale': 16583, 'qgumxheo': 16584, 'lecvmsx': 16585, 'vfbwnyol': 16586, 'spoke': 16587, 'kennedy': 16588, 'avert': 16589, 'bolster': 16590, 'approv': 16591, 'ctjutvytg': 16592, 'divis': 16593, 'reopens': 16594, 'oabjztbvyz': 16595, 'gpbxrrdc': 16596, 'blairmcdougall': 16597, 'commenting': 16598, 'dealings': 16599, 'arkan': 16600, 'yfoghgt': 16601, 'wxia': 16602, 'zqqjrqsbjm': 16603, 'mdnugvubwn': 16604, 'senatemajldr': 16605, 'rand': 16606, 'qzdqrbrlh': 16607, 'dnuhwsxo': 16608, 'norwaymfa': 16609, 'bahrain': 16610, 'gfjfgtodad': 16611, 'langata': 16612, 'coloiccarnality': 16613, 'instincts': 16614, 'scratches': 16615, 'patron': 16616, 'australians': 16617, 'oceans': 16618, 'urine': 16619, 'georgous': 16620, 'demonstr': 16621, 'gaabyx': 16622, 'activist': 16623, 'lunasagalle': 16624, 'synapsenkotze': 16625, 'bastard': 16626, 'awadgolf': 16627, 'capitalist': 16628, 'voted': 16629, 'yzzxxknism': 16630, 'zzseehipm': 16631, 'onlvffyoy': 16632, 'fblnifdac': 16633, 'blinker': 16634, 'fleeing': 16635, 'vietnamese': 16636, 'vhrlswvzql': 16637, 'egcvybjae': 16638, 'mawzbt': 16639, 'perforated': 16640, 'shear': 16641, 'sfor': 16642, 'cxojhdr': 16643, 'sharply': 16644, 'dfyrppzkpu': 16645, 'iwsdbgdzq': 16646, 'egmlni': 16647, 'pyrbliss': 16648, 'frusciante': 16649, 'cyvxeff': 16650, 'ksgmydmx': 16651, 'ov': 16652, 'mzkpfogi': 16653, 'typing': 16654, 'ants': 16655, 'notes': 16656, 'zotar': 16657, 'skeleton': 16658, 'alchemist': 16659, 'atamathon': 16660, 'gpwrckzi': 16661, 'vyhhg': 16662, 'haircuts': 16663, 'minimal': 16664, 'delhi': 16665, 'acid': 16666, 'hpmwel': 16667, 'filming': 16668, 'chernobyl': 16669, 'sonyprousa': 16670, 'lumixusa': 16671, 'djiglobal': 16672, 'profbriancox': 16673, 'gljhvead': 16674, 'pink': 16675, 'hpa': 16676, 'nbdotiew': 16677, 'zehrs': 16678, 'ratings': 16679, 'categories': 16680, 'defined': 16681, 'odydtqpk': 16682, 'burberryant': 16683, 'missambear': 16684, 'quoted': 16685, 'ejvjolc': 16686, 'gritty': 16687, 'pasta': 16688, 'thursdays': 16689, 'amico': 16690, 'amicospizzato': 16691, 'seeyouatamicos': 16692, 'mzvqxbkt': 16693, 'jvycxxvi': 16694, 'obsolete': 16695, 'atjawwtj': 16696, 'mjmwaer': 16697, 'adxiyi': 16698, 'overrun': 16699, 'serv': 16700, 'acdcd': 16701, 'loot': 16702, 'hart': 16703, 'nuff': 16704, 'ydnpvtg': 16705, 'xuldcosh': 16706, 'rfp': 16707, 'transporta': 16708, 'gtrvecen': 16709, 'bageflfgt': 16710, 'bvxqakfrx': 16711, 'aashiqui': 16712, 'anu': 16713, 'aggarwal': 16714, 'otfplqw': 16715, 'actively': 16716, 'embraced': 16717, 'audiences': 16718, 'emhub': 16719, 'ugc': 16720, 'mbpvwitxf': 16721, 'chillimik': 16722, 'hushlegs': 16723, 'comparing': 16724, 'brilliant': 16725, 'seecyc': 16726, 'stephaniemarija': 16727, 'dressing': 16728, 'incessant': 16729, 'xmoyevjsj': 16730, 'explicitpretti': 16731, 'khsbzkfdo': 16732, 'worstoverdose': 16733, 'jaileens': 16734, 'caked': 16735, 'preacher': 16736, 'faces': 16737, 'daplllfuqk': 16738, 'georgie': 16739, 'forreal': 16740, 'whipe': 16741, 'intragenerational': 16742, 'sandra': 16743, 'bland': 16744, 'zweygphpf': 16745, 'yfppifdkqo': 16746, 'ajyulmftif': 16747, 'goofballs': 16748, 'pd': 16749, 'hahxpchy': 16750, 'vqvwxjyu': 16751, 'mclaughlin': 16752, 'ginga': 16753, 'defeat': 16754, 'drago': 16755, 'designed': 16756, 'deserved': 16757, 'kevinbacon': 16758, 'soz': 16759, 'jxkmkpalp': 16760, 'eclyqqc': 16761, 'shouout': 16762, 'kasadlla': 16763, 'vocals': 16764, 'punkblunts': 16765, 'sincerelyevelnn': 16766, 'scored': 16767, 'punch': 16768, 'squeaky': 16769, 'skull': 16770, 'aetgbxmpl': 16771, 'rbsjmlej': 16772, 'michaelwestbiz': 16773, 'tfl': 16774, 'downtime': 16775, 'icsfdsifqb': 16776, 'hfxstanfield': 16777, 'beelievedc': 16778, 'discoverycntr': 16779, 'contractor': 16780, 'supernovalester': 16781, 'jfc': 16782, 'voltaire': 16783, 'zyssobxntc': 16784, 'wmoyibwec': 16785, 'lucymayofficial': 16786, 'rsverlztm': 16787, 'ihudzmq': 16788, 'granttamane': 16789, 'drewwtaylor': 16790, 'dtop': 16791, 'hillside': 16792, 'pits': 16793, 'lqlxgsxu': 16794, 'coats': 16795, 'sprite': 16796, 'nsnjmevi': 16797, 'temecafreeman': 16798, 'transportation': 16799, 'wheelers': 16800, 'amssumm': 16801, 'komo': 16802, 'qcpmktgllr': 16803, 'vsfllowgh': 16804, 'constitutional': 16805, 'politic': 16806, 'gfasowzn': 16807, 'mogurt': 16808, 'toosoon': 16809, 'welshninja': 16810, 'hashtag': 16811, 'postponed': 16812, 'fnmjegfm': 16813, 'nyeaeifr': 16814, 'danagould': 16815, 'waynesteratl': 16816, 'checks': 16817, 'equ': 16818, 'bzzdedcthl': 16819, 'oqjnuyibxm': 16820, 'qqcgkbegs': 16821, 'efs': 16822, 'zstuvsbqq': 16823, 'charon': 16824, 'stew': 16825, 'roar': 16826, 'dlvyfvnqe': 16827, 'carneross': 16828, 'remarkably': 16829, 'puny': 16830, 'epoch': 16831, 'mercury': 16832, 'moulding': 16833, 'cj': 16834, 'jobvbvkfnz': 16835, 'czpmzhtd': 16836, 'zlcoueoq': 16837, 'jolly': 16838, 'jinu': 16839, 'babri': 16840, 'todayhave': 16841, 'reveng': 16842, 'sodamntrue': 16843, 'wbivkzjip': 16844, 'hailing': 16845, 'haildamage': 16846, 'yycweather': 16847, 'captureyyc': 16848, 'nother': 16849, 'sejorg': 16850, 'netflix': 16851, 'documentary': 16852, 'narrated': 16853, 'parter': 16854, 'lghyv': 16855, 'scichat': 16856, 'sci': 16857, 'aufjowj': 16858, 'exquisite': 16859, 'ywvteo': 16860, 'cumshot': 16861, 'porno': 16862, 'fre': 16863, 'sd': 16864, 'johngreen': 16865, 'robthier': 16866, 'tora': 16867, 'hank': 16868, 'youwnxvs': 16869, 'grizzly': 16870, 'vbvfmke': 16871, 'breakingnew': 16872, 'fwqlobooy': 16873, 'bromleythe': 16874, 'thpbdpdj': 16875, 'chim': 16876, 'themaine': 16877, 'enders': 16878, 'mgs': 16879, 'pagexxi': 16880, 'ledmvezcol': 16881, 'eacau': 16882, 'fvpwnidl': 16883, 'bwdhibtiks': 16884, 'qelrocibi': 16885, 'fqvobg': 16886, 'jbxbiclu': 16887, 'ce': 16888, 'wcfmxe': 16889, 'badotweet': 16890, 'drsmxwcr': 16891, 'laughtraders': 16892, 'capitulation': 16893, 'yhngsjlg': 16894, 'tweeted': 16895, 'ioqmbmdg': 16896, 'kamayani': 16897, 'janata': 16898, 'gratia': 16899, 'sdtzsgelq': 16900, 'doe': 16901, 'filter': 16902, 'offsite': 16903, 'gfdhfmpcel': 16904, 'sleeper': 16905, 'railing': 16906, 'czpdnobit': 16907, 'anarchi': 16908, 'linden': 16909, 'lite': 16910, 'cure': 16911, 'izwxlb': 16912, 'lind': 16913, 'okmlagvkjv': 16914, 'mirad': 16915, 'clgtotvsf': 16916, 'pmharper': 16917, 'njmidysxof': 16918, 'abcchicago': 16919, 'navista': 16920, 'tinderbox': 16921, 'clown': 16922, 'tennoatax': 16923, 'tenno': 16924, 'dojo': 16925, 'ahhhh': 16926, 'yxsnvj': 16927, 'japanjapan': 16928, 'inferior': 16929, 'anonymous': 16930, 'fuels': 16931, 'ymftxfch': 16932, 'idngent': 16933, 'jamaicaobserver': 16934, 'cnewslive': 16935, 'jyiekeoh': 16936, 'mockingpanems': 16937, 'cuddlesforjen': 16938, 'bellalinn': 16939, 'alrighty': 16940, 'retract': 16941, 'cihcnrch': 16942, 'wordpressdotcom': 16943, 'disclaim': 16944, 'fest': 16945, 'goggles': 16946, 'unwanted': 16947, 'parksboardfacts': 16948, 'zippoline': 16949, 'moveit': 16950, 'busines': 16951, 'shzsymausi': 16952, 'twenty': 16953, 'cedarglad': 16954, 'campers': 16955, 'blazes': 16956, 'wwgadpffkw': 16957, 'vgtunwohi': 16958, 'muttatek': 16959, 'kwwwkwwwk': 16960, 'hug': 16961, 'jiahahahha': 16962, 'yeyeulala': 16963, 'bottling': 16964, 'invincible': 16965, 'zntgwndmj': 16966, 'resort': 16967, 'nz': 16968, 'ajisa': 16969, 'hugomatz': 16970, 'calgarians': 16971, 'stunned': 16972, 'fkfavsssz': 16973, 'nne': 16974, 'geysers': 16975, 'xelysycn': 16976, 'jnsdrwbp': 16977, 'hhbu': 16978, 'darkndtatted': 16979, 'holm': 16980, 'roles': 16981, 'ximpnczxth': 16982, 'candidates': 16983, 'grimes': 16984, 'voters': 16985, 'pbegof': 16986, 'totoooooo': 16987, 'totoooooooooo': 16988, 'historicalmages': 16989, 'stratford': 16990, 'awcuuwb': 16991, 'azovgvsb': 16992, 'saves': 16993, 'maine': 16994, 'dove': 16995, 'geometric': 16996, 'totes': 16997, 'lgfxgozvx': 16998, 'tkjybjjskl': 16999, 'stm': 17000, 'quem': 17001, 'lembra': 17002, 'qvxvqtpz': 17003, 'vuwbsrsnri': 17004, 'jozerphine': 17005, 'everythign': 17006, 'mcpherson': 17007, 'braveri': 17008, 'wqwjsgphl': 17009, 'bzwiqptu': 17010, 'mentalhealthgov': 17011, 'ahhhhh': 17012, 'alec': 17013, 'tort': 17014, 'injustice': 17015, 'qejedwsfdg': 17016, 'drvox': 17017, 'agw': 17018, 'yceeemd': 17019, 'ezeisasmc': 17020, 'juneau': 17021, 'uytojyk': 17022, 'vac': 17023, 'reginald': 17024, 'qgynuup': 17025, 'wishtqrm': 17026, 'tnuacivc': 17027, 'sakorgdqul': 17028, 'ifs': 17029, 'ands': 17030, 'buts': 17031, 'hfgjgfgfel': 17032, 'burford': 17033, 'council': 17034, 'praying': 17035, 'aknynpv': 17036, 'carri': 17037, 'mxzyxld': 17038, 'everyth': 17039, 'ronda': 17040, 'rousey': 17041, 'mayweather': 17042, 'ijzcytbffo': 17043, 'bluebirddenver': 17044, 'gucci': 17045, 'mkrxqzehmy': 17046, 'watsmxytva': 17047, 'wedwynkfs': 17048, 'arti': 17049, 'kaboom': 17050, 'gorgeous': 17051, 'ycwaulqzu': 17052, 'nbanews': 17053, 'ojoecwqa': 17054, 'destiel': 17055, 'mkxuxozt': 17056, 'eganator': 17057, 'princessduck': 17058, 'allocating': 17059, 'veneto': 17060, 'wesxudt': 17061, 'yhaqawxok': 17062, 'figures': 17063, 'zgsjwxdrcm': 17064, 'isle': 17065, 'tlc': 17066, 'ombostn': 17067, 'allahsfinest': 17068, 'gimp': 17069, 'newave': 17070, 'xqlgwoymt': 17071, 'hqnxqmeg': 17072, 'irqujaesck': 17073, 'qdweknrmi': 17074, 'sgxpuol': 17075, 'cortneymo': 17076, 'buffs': 17077, 'oaqtjawgxg': 17078, 'bitten': 17079, 'cspan': 17080, 'maker': 17081, 'convertible': 17082, 'llwuqnvg': 17083, 'upsetting': 17084, 'ndjjado': 17085, 'lbjsqyo': 17086, 'jorrynja': 17087, 'bf': 17088, 'ter': 17089, 'jfnvaxfph': 17090, 'implicit': 17091, 'hljucxi': 17092, 'nrustuh': 17093, 'ushiocomics': 17094, 'submitting': 17095, 'pqslugjk': 17096, 'pattonoswalt': 17097, 'alamodc': 17098, 'pmxlezjbrc': 17099, 'worsen': 17100, 'olzavtjfkh': 17101, 'aptapyxr': 17102, 'ufnxxavqs': 17103, 'thatwitchem': 17104, 'emmachosenone': 17105, 'jessienovoarp': 17106, 'jessie': 17107, 'liana': 17108, 'cmunimrg': 17109, 'idm': 17110, 'gotham': 17111, 'bcs': 17112, 'theyre': 17113, 'bartender': 17114, 'tricycle': 17115, 'ljeryhitwh': 17116, 'chips': 17117, 'snacks': 17118, 'redbull': 17119, 'snack': 17120, 'appszkvx': 17121, 'diretube': 17122, 'vijxccdi': 17123, 'ysxhfwmgod': 17124, 'specials': 17125, 'epicentr': 17126, 'sustainability': 17127, 'task': 17128, 'presents': 17129, 'levy': 17130, 'wdtv': 17131, 'fibehaxc': 17132, 'fadelurker': 17133, 'dalinthanelan': 17134, 'camped': 17135, 'redcliffe': 17136, 'aidan': 17137, 'eyorbmfo': 17138, 'xtezgjfsa': 17139, 'naturaldisasters': 17140, 'tqwrwjqwo': 17141, 'horno': 17142, 'microbes': 17143, 'zahnewjri': 17144, 'losdelsonido': 17145, 'ivanberroa': 17146, 'ykdspnrdq': 17147, 'meds': 17148, 'ppact': 17149, 'leak': 17150, 'evkcefst': 17151, 'beuaiug': 17152, 'huffpostcomedy': 17153, 'attendees': 17154, 'xwvwsfti': 17155, 'jhukhwm': 17156, 'calumchambers': 17157, 'phillip': 17158, 'amritsar': 17159, 'exaggerated': 17160, 'bloodbath': 17161, 'introducing': 17162, 'interpretation': 17163, 'myquwijn': 17164, 'dorette': 17165, 'jannet': 17166, 'corp': 17167, 'breaches': 17168, 'coverage': 17169, 'ekkyhxpe': 17170, 'ynnxoucr': 17171, 'worri': 17172, 'ylytylh': 17173, 'commenters': 17174, 'underestimate': 17175, 'bene': 17176, 'gesserit': 17177, 'litany': 17178, 'dune': 17179, 'atgrannyshous': 17180, 'unexplainable': 17181, 'childhooddefin': 17182, 'zmwtxydz': 17183, 'pearl': 17184, 'emptive': 17185, 'iaaglpw': 17186, 'sneaks': 17187, 'cockpit': 17188, 'wehvs': 17189, 'pihhnil': 17190, 'rlftjmhhvt': 17191, 'ffylajwp': 17192, 'theevilolives': 17193, 'hypo': 17194, 'zhguyebj': 17195, 'anytime': 17196, 'chowtaxis': 17197, 'newport': 17198, 'jackie': 17199, 'bristol': 17200, 'messages': 17201, 'appreci': 17202, 'dfr': 17203, 'monthly': 17204, 'dnbheaven': 17205, 'ejkrfna': 17206, 'sphwewfi': 17207, 'ygibrlv': 17208, 'zbhvdcxz': 17209, 'zourryart': 17210, 'rmcnzkszl': 17211, 'izjkkpwiz': 17212, 'hrqcjdovjz': 17213, 'examin': 17214, 'benjamin': 17215, 'francis': 17216, 'leftwich': 17217, 'kjygiy': 17218, 'cutekitten': 17219, 'catsofinstagram': 17220, 'summerinsweden': 17221, 'katt': 17222, 'katterp': 17223, 'dumle': 17224, 'dagens': 17225, 'pzfxdnbch': 17226, 'valleywx': 17227, 'sel': 17228, 'oyymgwhn': 17229, 'hinterestin': 17230, 'funni': 17231, 'heather': 17232, 'ava': 17233, 'sparxxx': 17234, 'threesome': 17235, 'trunks': 17236, 'freiza': 17237, 'cleanest': 17238, 'merci': 17239, 'fjkcrlir': 17240, 'karnythia': 17241, 'exercised': 17242, 'att': 17243, 'goodby': 17244, 'courts': 17245, 'szeapueuvi': 17246, 'rebahe': 17247, 'zenande': 17248, 'mcfen': 17249, 'ndzedze': 17250, 'ashesash': 17251, 'atv': 17252, 'dpxdlec': 17253, 'jddvhfi': 17254, 'jackperu': 17255, 'courses': 17256, 'jmdzwksdm': 17257, 'senzu': 17258, 'gohan': 17259, 'pouch': 17260, 'purified': 17261, 'pale': 17262, 'moonlight': 17263, 'sousse': 17264, 'tunis': 17265, 'myhhthsli': 17266, 'silverhusky': 17267, 'shtap': 17268, 'connor': 17269, 'franta': 17270, 'howell': 17271, 'omron': 17272, 'hem': 17273, 'monitor': 17274, 'cuffs': 17275, 'gjbainqwn': 17276, 'jphgplcx': 17277, 'jxbrxmf': 17278, 'bsepjum': 17279, 'hpagqrywa': 17280, 'saumur': 17281, 'hcdiweflc': 17282, 'zlvebeoavg': 17283, 'affliction': 17284, 'primarily': 17285, 'uesuku': 17286, 'untangle': 17287, 'besttalkradio': 17288, 'jzutxwt': 17289, 'pyrotechnic': 17290, 'artwork': 17291, 'cai': 17292, 'guo': 17293, 'qiang': 17294, 'blossom': 17295, 'orovzfsku': 17296, 'sensanders': 17297, 'wrked': 17298, 're': 17299, 'engines': 17300, 'fighters': 17301, 'scen': 17302, 'marynmck': 17303, 'adorable': 17304, 'cans': 17305, 'kaldi': 17306, 'uisxvfv': 17307, 'groupon': 17308, 'loretta': 17309, 'fuddy': 17310, 'authenticating': 17311, 'sole': 17312, 'mzrhfojtj': 17313, 'playoffs': 17314, 'positively': 17315, 'univsfoundation': 17316, 'rwaphdauv': 17317, 'bangladeshaffected': 17318, 'rivers': 17319, 'bangladeshflood': 17320, 'mariasherwood': 17321, 'johnjcampbell': 17322, 'vyghniah': 17323, 'locomotives': 17324, 'magne': 17325, 'traction': 17326, 'xezbssqy': 17327, 'cxqokg': 17328, 'eur': 17329, 'bwin': 17330, 'sikkgfphr': 17331, 'jfyfzddlrn': 17332, 'fadc': 17333, 'amo': 17334, 'lsmxvwrj': 17335, 'zuqgvjneqa': 17336, 'celestial': 17337, 'separate': 17338, 'trajectories': 17339, 'intertwine': 17340, 'cours': 17341, 'hamptonroadsfor': 17342, 'qnqzduw': 17343, 'dhyljllrhl': 17344, 'pandora': 17345, 'vzcvadkcqp': 17346, 'vfbbchwrfd': 17347, 'baan': 17348, 'thai': 17349, 'sushi': 17350, 'udpfrxrl': 17351, 'emdjnnltp': 17352, 'earn': 17353, 'mcr': 17354, 'snort': 17355, 'jsthauk': 17356, 'flavorchargedtea': 17357, 'dmunni': 17358, 'jeannamibian': 17359, 'noooooooo': 17360, 'gazans': 17361, 'jwhnewft': 17362, 'presstv': 17363, 'nywrkrqkn': 17364, 'nevada': 17365, 'exceptional': 17366, 'steady': 17367, 'nyoxuebfa': 17368, 'droughtgov': 17369, 'wamjorhi': 17370, 'tiles': 17371, 'zacb': 17372, 'dell': 17373, 'colombia': 17374, 'zhjlflbhzl': 17375, 'mjbiuvbmo': 17376, 'icdtdftj': 17377, 'ubwozut': 17378, 'triumphant': 17379, 'yolk': 17380, 'fqjagapd': 17381, 'squabble': 17382, 'immigration': 17383, 'tunnel': 17384, 'vfcklmcsx': 17385, 'jvaivkmsy': 17386, 'sportinggoods': 17387, 'nrjjmpmo': 17388, 'asae': 17389, 'exhibitor': 17390, 'value': 17391, 'rceprqxle': 17392, 'assnchat': 17393, 'yvvpznzmxg': 17394, 'suh': 17395, 'finsup': 17396, 'ieeuxxza': 17397, 'cyciuuc': 17398, 'ybemgzl': 17399, 'zogdpdu': 17400, 'tradcatknight': 17401, 'okanowa': 17402, 'mainline': 17403, 'bloodi': 17404, 'pwwpumrbj': 17405, 'yspondqo': 17406, 'cjrssryrt': 17407, 'pascoe': 17408, 'vale': 17409, 'outbound': 17410, 'tullamarine': 17411, 'citylink': 17412, 'moreland': 17413, 'travelelixir': 17414, 'helo': 17415, 'shak': 17416, 'theeconomist': 17417, 'portrait': 17418, 'yuan': 17419, 'sjboksib': 17420, 'ubjzskmrc': 17421, 'kiroseattle': 17422, 'elliott': 17423, 'jlputva': 17424, 'progressives': 17425, 'earths': 17426, 'appalling': 17427, 'businessmen': 17428, 'jlwhaowfqa': 17429, 'saveti': 17430, 'nprfreshair': 17431, 'skipping': 17432, 'deb': 17433, 'buyout': 17434, 'giants': 17435, 'worldpay': 17436, 'ipo': 17437, 'gjskurr': 17438, 'productive': 17439, 'enterprise': 17440, 'independence': 17441, 'rowyso': 17442, 'leoblakecarter': 17443, 'mglpgrrm': 17444, 'natasha': 17445, 'rideout': 17446, 'chains': 17447, 'insult': 17448, 'adsvdpnpr': 17449, 'okgooner': 17450, 'liver': 17451, 'iwate': 17452, 'gmoulzqq': 17453, 'johndcgow': 17454, 'jqibobx': 17455, 'sqngirdvz': 17456, 'lomasvisto': 17457, 'hipsters': 17458, 'devours': 17459, 'intersectio': 17460, 'qwtkbfmc': 17461, 'cadenadeseguidor': 17462, 'jorge': 17463, 'bhufevagpu': 17464, 'hardy': 17465, 'files': 17466, 'aladdin': 17467, 'braoubgec': 17468, 'spnihjqx': 17469, 'marilyn': 17470, 'monroe': 17471, 'ripriprip': 17472, 'sailors': 17473, 'artillery': 17474, 'cartridges': 17475, 'rwgxram': 17476, 'freemurphy': 17477, 'hitchhiking': 17478, 'sorely': 17479, 'sammy': 17480, 'kfc': 17481, 'tkmotaeaco': 17482, 'ccvctelcw': 17483, 'dougmartin': 17484, 'qjpvgavn': 17485, 'tweettaiji': 17486, 'worship': 17487, 'superstitions': 17488, 'icrc': 17489, 'bkhzcwwl': 17490, 'routes': 17491, 'fwptaelgv': 17492, 'spread': 17493, 'palmoil': 17494, 'znmdsrvp': 17495, 'ftcbgmki': 17496, 'uftrxppv': 17497, 'meyerbjoern': 17498, 'thelonevirologi': 17499, 'mackayim': 17500, 'newspaper': 17501, 'knowing': 17502, 'rffpqbazf': 17503, 'lzk': 17504, 'auxsmdgun': 17505, 'gopkrfzmf': 17506, 'unfolded': 17507, 'dqddgvgbf': 17508, 'quiug': 17509, 'vftybei': 17510, 'jsdf': 17511, 'exercis': 17512, 'nout': 17513, 'rubbin': 17514, 'mufjdtlsm': 17515, 'davidvitter': 17516, 'vfctrzaok': 17517, 'kmpfhglhoo': 17518, 'addicts': 17519, 'defensive': 17520, 'decreases': 17521, 'vulner': 17522, 'jppeko': 17523, 'anthelmintic': 17524, 'drawing': 17525, 'btjpeobto': 17526, 'clyjl': 17527, 'zojadelin': 17528, 'impairs': 17529, 'zisuwlqrhf': 17530, 'mudgupuns': 17531, 'aqxwolbcfq': 17532, 'looooool': 17533, 'jevrcwudpm': 17534, 'nora': 17535, 'notic': 17536, 'osjurfddkt': 17537, 'faze': 17538, 'schwarber': 17539, 'cervelli': 17540, 'puff': 17541, 'smok': 17542, 'refer': 17543, 'lame': 17544, 'effective': 17545, 'revitup': 17546, 'pizzarev': 17547, 'bpbmxsxw': 17548, 'dtfswnjzil': 17549, 'jtytxrrk': 17550, 'dnazoi': 17551, 'rhode': 17552, 'modernize': 17553, 'apjbrpmqg': 17554, 'davidfernandez': 17555, 'theblaze': 17556, 'zdbtktww': 17557, 'gusramzps': 17558, 'junction': 17559, 'beep': 17560, 'moe': 17561, 'bouta': 17562, 'musician': 17563, 'recreates': 17564, 'clever': 17565, 'ydjpophdw': 17566, 'maxsys': 17567, 'qtizcbwwg': 17568, 'caixxumsos': 17569, 'yprjwmighl': 17570, 'rrkrcjyw': 17571, 'kesabaran': 17572, 'membuahkan': 17573, 'hasil': 17574, 'indah': 17575, 'pada': 17576, 'saat': 17577, 'tepat': 17578, 'ngfzpvd': 17579, 'connections': 17580, 'indiegogo': 17581, 'jmastrodonato': 17582, 'ortiz': 17583, 'bunting': 17584, 'forefathers': 17585, 'william': 17586, 'nyxjndora': 17587, 'andygilder': 17588, 'rspca': 17589, 'infomercial': 17590, 'crept': 17591, 'gemmahentsch': 17592, 'megynkelly': 17593, 'dloesch': 17594, 'envision': 17595, 'activate': 17596, 'timey': 17597, 'riwuprbhu': 17598, 'pknkchmr': 17599, 'thecomedyquote': 17600, 'shadezofgrey': 17601, 'pperez': 17602, 'mulberry': 17603, 'antony': 17604, 'ftmrklmn': 17605, 'perfectly': 17606, 'nlndjkyo': 17607, 'edmonton': 17608, 'fgvwkfqox': 17609, 'liquidation': 17610, 'ruor': 17611, 'ggtmdquddo': 17612, 'fxaihu': 17613, 'akcsl': 17614, 'venture': 17615, 'suitable': 17616, 'durrellb': 17617, 'punishing': 17618, 'visting': 17619, 'georgina': 17620, 'rat': 17621, 'pylfbtiu': 17622, 'dorling': 17623, 'kindersley': 17624, 'publishing': 17625, 'tjltpzfw': 17626, 'ge': 17627, 'reactors': 17628, 'hrcoxquik': 17629, 'wnptvbmt': 17630, 'imekjacv': 17631, 'carlachamorros': 17632, 'ucudwiuan': 17633, 'zeal': 17634, 'indecisiveness': 17635, 'bv': 17636, 'publish': 17637, 'favor': 17638, 'skyhawkmm': 17639, 'traplord': 17640, 'fredosantana': 17641, 'lilreese': 17642, 'mosh': 17643, 'qsekoeubmd': 17644, 'hamecxk': 17645, 'biwrdxcm': 17646, 'thomashcrown': 17647, 'grandfather': 17648, 'jkl': 17649, 'harlan': 17650, 'ryzhcpoq': 17651, 'sunshin': 17652, 'weallheartonedirection': 17653, 'uwijmegl': 17654, 'dt': 17655, 'georgegalloway': 17656, 'gallowaymayor': 17657, 'pickpocket': 17658, 'liverpool': 17659, 'stree': 17660, 'vxingoqq': 17661, 'dctniqit': 17662, 'abbruchsimul': 17663, 'uchiha': 17664, 'genit': 17665, 'echoes': 17666, 'fwd': 17667, 'suffield': 17668, 'bptmlfp': 17669, 'imawesome': 17670, 'agr': 17671, 'shitty': 17672, 'istg': 17673, 'sonofbobbob': 17674, 'shimmyfab': 17675, 'trickxie': 17676, 'chopping': 17677, 'rooftops': 17678, 'desperation': 17679, 'dislocation': 17680, 'separation': 17681, 'isolation': 17682, 'mallelis': 17683, 'mason': 17684, 'violin': 17685, 'skip': 17686, 'unnxvqc': 17687, 'zxiqngulc': 17688, 'vbsjtniv': 17689, 'janenelson': 17690, 'stephenscifi': 17691, 'adaptation': 17692, 'optioned': 17693, 'sciencefict': 17694, 'crptotech': 17695, 'banks': 17696, 'khztevedja': 17697, 'banking': 17698, 'bitcoing': 17699, 'blockchain': 17700, 'qreinwgg': 17701, 'hzkuyz': 17702, 'sirensicebreaker': 17703, 'heroine': 17704, 'hpljurobo': 17705, 'wackos': 17706, 'afrikaan': 17707, 'preorder': 17708, 'thebargain': 17709, 'umljztmcb': 17710, 'rgpemtqej': 17711, 'uncontrollable': 17712, 'njlqrqcnl': 17713, 'annajhm': 17714, 'jcomanse': 17715, 'staubs': 17716, 'rslm': 17717, 'blanktgt': 17718, 'fartanxieti': 17719, 'slosher': 17720, 'splatdown': 17721, 'switching': 17722, 'splatling': 17723, 'agdq': 17724, 'kororinpa': 17725, 'marble': 17726, 'mania': 17727, 'tloz': 17728, 'oracle': 17729, 'metroid': 17730, 'aauizggcq': 17731, 'snazzychipz': 17732, 'juliekragt': 17733, 'wildwestsixgun': 17734, 'stable': 17735, 'lpugrj': 17736, 'ixjjlplvo': 17737, 'wn': 17738, 'ikhdyhvnc': 17739, 'nana': 17740, 'restlessness': 17741, 'yaxrjicrr': 17742, 'pumbrnebj': 17743, 'tonyhsieh': 17744, 'anonym': 17745, 'libraryeliza': 17746, 'taylorswift': 17747, 'approval': 17748, 'kolmzbzpz': 17749, 'musicadvisori': 17750, 'pnaqxprweg': 17751, 'mochichiiiii': 17752, 'hikagezero': 17753, 'wew': 17754, 'quarrels': 17755, 'dlvzaayqr': 17756, 'cslabbpj': 17757, 'millcityio': 17758, 'theramin': 17759, 'sneak': 17760, 'spoiled': 17761, 'humble': 17762, 'sophieingle': 17763, 'angharadjames': 17764, 'gifts': 17765, 'banana': 17766, 'malt': 17767, 'loaf': 17768, 'worm': 17769, 'suspending': 17770, 'ser': 17771, 'idqgqdnjq': 17772, 'zar': 17773, 'cringes': 17774, 'toss': 17775, 'marrie': 17776, 'igllpho': 17777, 'robertwelch': 17778, 'cutlery': 17779, 'bqkyigng': 17780, 'gnzwxqktam': 17781, 'fuerkgwui': 17782, 'mvggglmvc': 17783, 'acrylic': 17784, 'xfubqbgg': 17785, 'dustinbrowder': 17786, 'chase': 17787, 'frequently': 17788, 'distraction': 17789, 'render': 17790, 'gain': 17791, 'proxy': 17792, 'ssu': 17793, 'kslnhq': 17794, 'ncjpgfznv': 17795, 'gerjauey': 17796, 'lorsrgqf': 17797, 'mmiyekzz': 17798, 'stevenontwatter': 17799, 'pussyxdestroyer': 17800, 'nuts': 17801, 'flavored': 17802, 'forming': 17803, 'guam': 17804, 'molav': 17805, 'brits': 17806, 'hsdbgciyr': 17807, 'daughterofnai': 17808, 'tenshi': 17809, 'yuki': 17810, 'heyot': 17811, 'calfreedommom': 17812, 'steph': 17813, 'contributor': 17814, 'fwtobiu': 17815, 'affair': 17816, 'ojyabyz': 17817, 'cjctbocxg': 17818, 'jasalhad': 17819, 'brianboru': 17820, 'jimskiv': 17821, 'hijinks': 17822, 'clowns': 17823, 'hkcadsna': 17824, 'giyaaddcc': 17825, 'du': 17826, 'nochilllukehammings': 17827, 'texansdc': 17828, 'kylekrenek': 17829, 'zepp': 17830, 'frobeus': 17831, 'teddy': 17832, 'bsxaqhsim': 17833, 'robertson': 17834, 'alumrgle': 17835, 'hkctfbi': 17836, 'alllll': 17837, 'nittys': 17838, 'stockwel': 17839, 'align': 17840, 'caribbean': 17841, 'fighter': 17842, 'preparing': 17843, 'mrsbinker': 17844, 'emiliorivera': 17845, 'davidlabrava': 17846, 'diesel': 17847, 'breed': 17848, 'pug': 17849, 'professionally': 17850, 'unsensibly': 17851, 'outrun': 17852, 'bieyguqpb': 17853, 'jbone': 17854, 'jen': 17855, 'czqrcixw': 17856, 'vickie': 17857, 'unqualified': 17858, 'treaty': 17859, 'telegraphworld': 17860, 'mmmm': 17861, 'umgdwlja': 17862, 'invokces': 17863, 'deemed': 17864, 'xrfvidxa': 17865, 'oihwgezdck': 17866, 'featuring': 17867, 'mxykecrzr': 17868, 'janiethekillr': 17869, 'sketchbook': 17870, 'biting': 17871, 'mask': 17872, 'gulfport': 17873, 'realizations': 17874, 'cjuighbxyn': 17875, 'heavyweight': 17876, 'rapping': 17877, 'yvmphdzx': 17878, 'gbepdiwzt': 17879, 'cascade': 17880, 'childress': 17881, 'dilyvrowyj': 17882, 'certificates': 17883, 'safes': 17884, 'kmdqmnln': 17885, 'arsonists': 17886, 'plastics': 17887, 'adelaide': 17888, 'pcaldicott': 17889, 'newsadl': 17890, 'rxwdnvbg': 17891, 'ryans': 17892, 'adipunxhu': 17893, 'biztip': 17894, 'alternative': 17895, 'westchester': 17896, 'eligible': 17897, 'xsrvujyiz': 17898, 'jewhaditm': 17899, 'kellkane': 17900, 'narrowly': 17901, 'etp': 17902, 'hszjafxrvi': 17903, 'technique': 17904, 'bmurph': 17905, 'youtsey': 17906, 'termnr': 17907, 'goblue': 17908, 'wrestleon': 17909, 'oaskgkiqj': 17910, 'beloeil': 17911, 'richelieu': 17912, 'laurent': 17913, 'expanding': 17914, 'hmuyzmvqh': 17915, 'jasoncundy': 17916, 'utd': 17917, 'pedro': 17918, 'blu': 17919, 'kiranahmedd': 17920, 'smkznfza': 17921, 'bbcnews': 17922, 'mwlippert': 17923, 'southkorea': 17924, 'electrocutedboiling': 17925, 'waterfur': 17926, 'adhzyi': 17927, 'district': 17928, 'cpr': 17929, 'panama': 17930, 'athlete': 17931, 'kfkaoshkh': 17932, 'baqocmcjqc': 17933, 'benaffleck': 17934, 'nstfnxpa': 17935, 'wkvscbtlp': 17936, 'tnonrlp': 17937, 'hw': 17938, 'keeping': 17939, 'fastfuri': 17940, 'pdiitafq': 17941, 'dynamix': 17942, 'zqkdoxbi': 17943, 'kyrikoni': 17944, 'expressandstar': 17945, 'veg': 17946, 'kltita': 17947, 'incredulous': 17948, 'outcry': 17949, 'taxpayers': 17950, 'similar': 17951, 'objection': 17952, 'xhnews': 17953, 'grzrnqj': 17954, 'dfyasvjnf': 17955, 'uncover': 17956, 'slumber': 17957, 'thinner': 17958, 'bnwygxluh': 17959, 'tattoos': 17960, 'voxfwkcx': 17961, 'notorious': 17962, 'laboratory': 17963, 'dealer': 17964, 'peta': 17965, 'qgqlpmrfjd': 17966, 'lovemywife': 17967, 'shedid': 17968, 'washard': 17969, 'stopping': 17970, 'shkimonmlw': 17971, 'tagzbcxfj': 17972, 'sksjccrj': 17973, 'slit': 17974, 'apologize': 17975, 'snipe': 17976, 'slqnphnt': 17977, 'driller': 17978, 'boxed': 17979, 'htlvlxr': 17980, 'wesleylowery': 17981, 'bukidnon': 17982, 'zhsckvysn': 17983, 'scrolling': 17984, 'exact': 17985, 'vegan': 17986, 'bk': 17987, 'strictly': 17988, 'kxplyomrr': 17989, 'govegan': 17990, 'uniteblu': 17991, 'sacdwvdxt': 17992, 'zsnsartw': 17993, 'hendy': 17994, 'purdies': 17995, 'hopeinhearts': 17996, 'encouraging': 17997, 'ucistqug': 17998, 'sectarian': 17999, 'shia': 18000, 'militias': 18001, 'withdraw': 18002, 'fightin': 18003, 'uve': 18004, 'bulgarian': 18005, 'tittie': 18006, 'noemotion': 18007, 'edk': 18008, 'pathfinders': 18009, 'odqryjncf': 18010, 'mediocrity': 18011, 'ilqwqjxs': 18012, 'awnytpwjr': 18013, 'theatershooting': 18014, 'testify': 18015, 'therefore': 18016, 'exam': 18017, 'jury': 18018, 'aerospace': 18019, 'exec': 18020, 'wing': 18021, 'swmlhoo': 18022, 'permits': 18023, 'vdxwdoy': 18024, 'comcastcares': 18025, 'happing': 18026, 'thetshirtkid': 18027, 'lowkey': 18028, 'acmrmzq': 18029, 'neal': 18030, 'rigga': 18031, 'virxkgmpc': 18032, 'redcoatjackpot': 18033, 'managed': 18034, 'curs': 18035, 'applied': 18036, 'childsexabuse': 18037, 'dlaubnvtn': 18038, 'ryanoss': 18039, 'hitters': 18040, 'pitchers': 18041, 'asukager': 18042, 'magical': 18043, 'marlene': 18044, 'menahem': 18045, 'moshav': 18046, 'safsufa': 18047, 'modqnalwsb': 18048, 'cooavhi': 18049, 'tornadogiveaway': 18050, 'thebookclub': 18051, 'ljomctuzfy': 18052, 'zgvsloxp': 18053, 'brrookkllyynnr': 18054, 'politely': 18055, 'jared': 18056, 'kpivxgjnqt': 18057, 'messengers': 18058, 'zippers': 18059, 'epiqdbxvzo': 18060, 'bhfoylqljp': 18061, 'qnvxjpalj': 18062, 'oonsjhcsd': 18063, 'movietheatre': 18064, 'qlxoqkji': 18065, 'backs': 18066, 'rmucfjcazr': 18067, 'moir': 18068, 'sgdofsmrq': 18069, 'xlegcuora': 18070, 'actor': 18071, 'rossbarton': 18072}\n"
          ]
        }
      ]
    },
    {
      "cell_type": "code",
      "source": [
        "vocab_size = len(word_index) + 1\n",
        "print(\"Vocabulary Size :\", vocab_size)"
      ],
      "metadata": {
        "colab": {
          "base_uri": "https://localhost:8080/"
        },
        "id": "I-tOObMWvU09",
        "outputId": "6fc4cd8d-da51-480f-d1c1-bb6c92e22570"
      },
      "execution_count": null,
      "outputs": [
        {
          "output_type": "stream",
          "name": "stdout",
          "text": [
            "Vocabulary Size : 18073\n"
          ]
        }
      ]
    },
    {
      "cell_type": "code",
      "source": [
        "X_train = pad_sequences(tokenizer.texts_to_sequences(X_train),maxlen = 30)\n",
        "X_test = pad_sequences(tokenizer.texts_to_sequences(X_test),maxlen = 30)"
      ],
      "metadata": {
        "id": "tYk9MeKwv4-U"
      },
      "execution_count": null,
      "outputs": []
    },
    {
      "cell_type": "code",
      "source": [
        "!wget http://nlp.stanford.edu/data/glove.6B.zip\n",
        "!unzip glove.6B.zip"
      ],
      "metadata": {
        "colab": {
          "base_uri": "https://localhost:8080/"
        },
        "id": "AdEPZ7TLy9wQ",
        "outputId": "fb16b171-0d30-463d-9da9-6287f94ff0ff"
      },
      "execution_count": null,
      "outputs": [
        {
          "output_type": "stream",
          "name": "stdout",
          "text": [
            "--2022-02-06 02:44:52--  http://nlp.stanford.edu/data/glove.6B.zip\n",
            "Resolving nlp.stanford.edu (nlp.stanford.edu)... 171.64.67.140\n",
            "Connecting to nlp.stanford.edu (nlp.stanford.edu)|171.64.67.140|:80... connected.\n",
            "HTTP request sent, awaiting response... 302 Found\n",
            "Location: https://nlp.stanford.edu/data/glove.6B.zip [following]\n",
            "--2022-02-06 02:44:53--  https://nlp.stanford.edu/data/glove.6B.zip\n",
            "Connecting to nlp.stanford.edu (nlp.stanford.edu)|171.64.67.140|:443... connected.\n",
            "HTTP request sent, awaiting response... 301 Moved Permanently\n",
            "Location: http://downloads.cs.stanford.edu/nlp/data/glove.6B.zip [following]\n",
            "--2022-02-06 02:44:53--  http://downloads.cs.stanford.edu/nlp/data/glove.6B.zip\n",
            "Resolving downloads.cs.stanford.edu (downloads.cs.stanford.edu)... 171.64.64.22\n",
            "Connecting to downloads.cs.stanford.edu (downloads.cs.stanford.edu)|171.64.64.22|:80... connected.\n",
            "HTTP request sent, awaiting response... 200 OK\n",
            "Length: 862182613 (822M) [application/zip]\n",
            "Saving to: ‘glove.6B.zip’\n",
            "\n",
            "glove.6B.zip        100%[===================>] 822.24M  5.05MB/s    in 2m 40s  \n",
            "\n",
            "2022-02-06 02:47:33 (5.14 MB/s) - ‘glove.6B.zip’ saved [862182613/862182613]\n",
            "\n",
            "Archive:  glove.6B.zip\n",
            "  inflating: glove.6B.50d.txt        \n",
            "  inflating: glove.6B.100d.txt       \n",
            "  inflating: glove.6B.200d.txt       \n",
            "  inflating: glove.6B.300d.txt       \n"
          ]
        }
      ]
    },
    {
      "cell_type": "code",
      "source": [
        "embeddings_index = {}\n",
        "# opening the downloaded glove embeddings file\n",
        "f = open('glove.6B.300d.txt')\n",
        "for line in f:\n",
        "    # For each line file, the words are split and stored in a list\n",
        "    values = line.split()\n",
        "    word = value = values[0]\n",
        "    coefs = np.asarray(values[1:], dtype='float32')\n",
        "    embeddings_index[word] = coefs\n",
        "f.close()\n",
        "print('Found %s word vectors.' %len(embeddings_index))"
      ],
      "metadata": {
        "colab": {
          "base_uri": "https://localhost:8080/"
        },
        "id": "jFFmtELyzOf7",
        "outputId": "caf1f7ab-ae66-4c07-a114-cecbff719e74"
      },
      "execution_count": null,
      "outputs": [
        {
          "output_type": "stream",
          "name": "stdout",
          "text": [
            "Found 400000 word vectors.\n"
          ]
        }
      ]
    },
    {
      "cell_type": "code",
      "source": [
        "# creating an matrix with zeroes of shape vocab x embedding dimension\n",
        "embedding_matrix = np.zeros((vocab_size, 300))\n",
        "# Iterate through word, index in the dictionary\n",
        "for word, i in word_index.items():\n",
        "    # extract the corresponding vector for the vocab indice of same word\n",
        "    embedding_vector = embeddings_index.get(word)\n",
        "    if embedding_vector is not None:\n",
        "        # Storing it in a matrix\n",
        "        embedding_matrix[i] = embedding_vector"
      ],
      "metadata": {
        "id": "p-zVty1CzZaH"
      },
      "execution_count": null,
      "outputs": []
    },
    {
      "cell_type": "code",
      "source": [
        "embedding_layer = tf.keras.layers.Embedding(vocab_size,300,weights=[embedding_matrix],\n",
        "                                          input_length=30,trainable=False)"
      ],
      "metadata": {
        "id": "q37s8MoXzk0V"
      },
      "execution_count": null,
      "outputs": []
    },
    {
      "cell_type": "markdown",
      "source": [
        "#Model Architecture"
      ],
      "metadata": {
        "id": "0eHBhmweGd0j"
      }
    },
    {
      "cell_type": "code",
      "source": [
        "# The Input layer \n",
        "sequence_input = Input(shape=(30,), dtype='int32')\n",
        "# Inputs passed to the embedding layer\n",
        "embedding_sequences = embedding_layer(sequence_input)\n",
        "# dropout and conv layer \n",
        "x = SpatialDropout1D(0.2)(embedding_sequences)\n",
        "x = Conv1D(64, 5, activation='relu')(x)\n",
        "# Passed on to the LSTM layer\n",
        "x = Bidirectional(LSTM(64, dropout=0.2, recurrent_dropout=0.2))(x)\n",
        "x = Dense(512, activation='relu')(x)\n",
        "x = Dropout(0.5)(x)\n",
        "x = Dense(512, activation='relu')(x)\n",
        "# Passed on to activation layer to get final output\n",
        "outputs = Dense(1, activation='sigmoid')(x)\n",
        "model = tf.keras.Model(sequence_input, outputs)"
      ],
      "metadata": {
        "colab": {
          "base_uri": "https://localhost:8080/"
        },
        "id": "IzHpFFgkGalY",
        "outputId": "332d2a48-6bdf-41cc-c244-7aa457b22a95"
      },
      "execution_count": null,
      "outputs": [
        {
          "output_type": "stream",
          "name": "stdout",
          "text": [
            "WARNING:tensorflow:Layer lstm will not use cuDNN kernels since it doesn't meet the criteria. It will use a generic GPU kernel as fallback when running on GPU.\n",
            "WARNING:tensorflow:Layer lstm will not use cuDNN kernels since it doesn't meet the criteria. It will use a generic GPU kernel as fallback when running on GPU.\n",
            "WARNING:tensorflow:Layer lstm will not use cuDNN kernels since it doesn't meet the criteria. It will use a generic GPU kernel as fallback when running on GPU.\n"
          ]
        }
      ]
    },
    {
      "cell_type": "code",
      "source": [
        "model.summary()"
      ],
      "metadata": {
        "colab": {
          "base_uri": "https://localhost:8080/"
        },
        "id": "39eMt2sqHJb_",
        "outputId": "fb6772c3-0984-4ad9-a87c-3d6b01cfba30"
      },
      "execution_count": null,
      "outputs": [
        {
          "output_type": "stream",
          "name": "stdout",
          "text": [
            "Model: \"model\"\n",
            "_________________________________________________________________\n",
            " Layer (type)                Output Shape              Param #   \n",
            "=================================================================\n",
            " input_1 (InputLayer)        [(None, 30)]              0         \n",
            "                                                                 \n",
            " embedding (Embedding)       (None, 30, 300)           5421900   \n",
            "                                                                 \n",
            " spatial_dropout1d (SpatialD  (None, 30, 300)          0         \n",
            " ropout1D)                                                       \n",
            "                                                                 \n",
            " conv1d (Conv1D)             (None, 26, 64)            96064     \n",
            "                                                                 \n",
            " bidirectional (Bidirectiona  (None, 128)              66048     \n",
            " l)                                                              \n",
            "                                                                 \n",
            " dense (Dense)               (None, 512)               66048     \n",
            "                                                                 \n",
            " dropout (Dropout)           (None, 512)               0         \n",
            "                                                                 \n",
            " dense_1 (Dense)             (None, 512)               262656    \n",
            "                                                                 \n",
            " dense_2 (Dense)             (None, 1)                 513       \n",
            "                                                                 \n",
            "=================================================================\n",
            "Total params: 5,913,229\n",
            "Trainable params: 491,329\n",
            "Non-trainable params: 5,421,900\n",
            "_________________________________________________________________\n"
          ]
        }
      ]
    },
    {
      "cell_type": "code",
      "source": [
        "model.compile(optimizer=Adam(learning_rate=0.01), loss='binary_crossentropy',metrics=['accuracy'])\n",
        "ReduceLROnPlateau = ReduceLROnPlateau(factor=0.1,min_lr = 0.01, monitor = 'val_loss',verbose = 1)"
      ],
      "metadata": {
        "id": "yJFDfQ3tHPe9"
      },
      "execution_count": null,
      "outputs": []
    },
    {
      "cell_type": "code",
      "source": [
        "training = model.fit(X_train, y_train, batch_size=1024, epochs=20,\n",
        "                    validation_data=(X_test, y_test), callbacks=[ReduceLROnPlateau])"
      ],
      "metadata": {
        "colab": {
          "base_uri": "https://localhost:8080/"
        },
        "id": "1XxgIskeImfO",
        "outputId": "c066ba02-8046-4e5c-d5bb-6195acbad8fc"
      },
      "execution_count": null,
      "outputs": [
        {
          "output_type": "stream",
          "name": "stdout",
          "text": [
            "Epoch 1/20\n",
            "6/6 [==============================] - 20s 690ms/step - loss: 1.0169 - accuracy: 0.5466 - val_loss: 0.6153 - val_accuracy: 0.6382 - lr: 0.0100\n",
            "Epoch 2/20\n",
            "6/6 [==============================] - 5s 851ms/step - loss: 0.5792 - accuracy: 0.7094 - val_loss: 0.4861 - val_accuracy: 0.7833 - lr: 0.0100\n",
            "Epoch 3/20\n",
            "6/6 [==============================] - 6s 1s/step - loss: 0.4741 - accuracy: 0.7897 - val_loss: 0.4540 - val_accuracy: 0.7912 - lr: 0.0100\n",
            "Epoch 4/20\n",
            "6/6 [==============================] - 5s 794ms/step - loss: 0.4320 - accuracy: 0.8126 - val_loss: 0.4412 - val_accuracy: 0.8024 - lr: 0.0100\n",
            "Epoch 5/20\n",
            "6/6 [==============================] - 6s 947ms/step - loss: 0.4084 - accuracy: 0.8250 - val_loss: 0.4414 - val_accuracy: 0.8017 - lr: 0.0100\n",
            "Epoch 6/20\n",
            "6/6 [==============================] - 5s 765ms/step - loss: 0.3868 - accuracy: 0.8348 - val_loss: 0.4507 - val_accuracy: 0.7984 - lr: 0.0100\n",
            "Epoch 7/20\n",
            "6/6 [==============================] - 5s 859ms/step - loss: 0.3482 - accuracy: 0.8591 - val_loss: 0.4591 - val_accuracy: 0.7951 - lr: 0.0100\n",
            "Epoch 8/20\n",
            "6/6 [==============================] - 5s 840ms/step - loss: 0.3169 - accuracy: 0.8711 - val_loss: 0.4830 - val_accuracy: 0.7984 - lr: 0.0100\n",
            "Epoch 9/20\n",
            "6/6 [==============================] - 6s 961ms/step - loss: 0.2901 - accuracy: 0.8788 - val_loss: 0.5052 - val_accuracy: 0.7912 - lr: 0.0100\n",
            "Epoch 10/20\n",
            "6/6 [==============================] - 6s 1s/step - loss: 0.2526 - accuracy: 0.8975 - val_loss: 0.5533 - val_accuracy: 0.7787 - lr: 0.0100\n",
            "Epoch 11/20\n",
            "6/6 [==============================] - 5s 769ms/step - loss: 0.2284 - accuracy: 0.9084 - val_loss: 0.6140 - val_accuracy: 0.7663 - lr: 0.0100\n",
            "Epoch 12/20\n",
            "6/6 [==============================] - 6s 934ms/step - loss: 0.2174 - accuracy: 0.9141 - val_loss: 0.6010 - val_accuracy: 0.7945 - lr: 0.0100\n",
            "Epoch 13/20\n",
            "6/6 [==============================] - 6s 893ms/step - loss: 0.1905 - accuracy: 0.9238 - val_loss: 0.6665 - val_accuracy: 0.7853 - lr: 0.0100\n",
            "Epoch 14/20\n",
            "6/6 [==============================] - 5s 887ms/step - loss: 0.1817 - accuracy: 0.9263 - val_loss: 0.7264 - val_accuracy: 0.7859 - lr: 0.0100\n",
            "Epoch 15/20\n",
            "6/6 [==============================] - 3s 501ms/step - loss: 0.1568 - accuracy: 0.9381 - val_loss: 0.6964 - val_accuracy: 0.7761 - lr: 0.0100\n",
            "Epoch 16/20\n",
            "6/6 [==============================] - 4s 696ms/step - loss: 0.1484 - accuracy: 0.9422 - val_loss: 0.7734 - val_accuracy: 0.7892 - lr: 0.0100\n",
            "Epoch 17/20\n",
            "6/6 [==============================] - 6s 880ms/step - loss: 0.1288 - accuracy: 0.9491 - val_loss: 0.8076 - val_accuracy: 0.7853 - lr: 0.0100\n",
            "Epoch 18/20\n",
            "6/6 [==============================] - 7s 1s/step - loss: 0.1223 - accuracy: 0.9544 - val_loss: 0.8336 - val_accuracy: 0.7905 - lr: 0.0100\n",
            "Epoch 19/20\n",
            "6/6 [==============================] - 5s 929ms/step - loss: 0.1145 - accuracy: 0.9506 - val_loss: 0.8858 - val_accuracy: 0.7814 - lr: 0.0100\n",
            "Epoch 20/20\n",
            "6/6 [==============================] - 6s 912ms/step - loss: 0.1072 - accuracy: 0.9583 - val_loss: 0.8878 - val_accuracy: 0.7741 - lr: 0.0100\n"
          ]
        }
      ]
    },
    {
      "cell_type": "code",
      "source": [
        "# Plot train accuracy and loss\n",
        "accuraties = training.history['accuracy']\n",
        "losses = training.history['loss']\n",
        "accuraties_losses = list(zip(accuraties,losses))\n",
        "\n",
        "accuraties_losses_df = pd.DataFrame(accuraties_losses, columns={\"accuraties\", \"losses\"})\n",
        "\n",
        "plt.figure(figsize=(10,4))\n",
        "plt.suptitle(\"Train Accuracy vs Train Loss\")\n",
        "sns.lineplot(data=accuraties_losses_df)\n",
        "plt.show()"
      ],
      "metadata": {
        "colab": {
          "base_uri": "https://localhost:8080/",
          "height": 297
        },
        "id": "1AIL1xK7NbRi",
        "outputId": "0c1355c0-fa9d-4938-dfb0-4a4e66d02216"
      },
      "execution_count": null,
      "outputs": [
        {
          "output_type": "display_data",
          "data": {
            "image/png": "[encoded data removed]",
            "text/plain": [
              "<Figure size 720x288 with 1 Axes>"
            ]
          },
          "metadata": {}
        }
      ]
    },
    {
      "cell_type": "code",
      "source": [
        "scores = model.predict(X_test, verbose=1, batch_size=10000)"
      ],
      "metadata": {
        "colab": {
          "base_uri": "https://localhost:8080/"
        },
        "id": "ojzFtG2XKebe",
        "outputId": "c1e39269-cfdd-4326-f4ac-b60da6f8c19a"
      },
      "execution_count": null,
      "outputs": [
        {
          "output_type": "stream",
          "name": "stdout",
          "text": [
            "1/1 [==============================] - 1s 951ms/step\n"
          ]
        }
      ]
    },
    {
      "cell_type": "code",
      "source": [
        "def predict_tweet_sentiment(score):\n",
        "    return 1 if score>0.5 else 0"
      ],
      "metadata": {
        "id": "BIknxPlGKjzA"
      },
      "execution_count": null,
      "outputs": []
    },
    {
      "cell_type": "code",
      "source": [
        "model_predictions = [predict_tweet_sentiment(score) for score in scores]"
      ],
      "metadata": {
        "id": "9D9PJFadKwOK"
      },
      "execution_count": null,
      "outputs": []
    },
    {
      "cell_type": "code",
      "source": [
        "from sklearn.metrics import classification_report\n",
        "print(classification_report(y_test, model_predictions))"
      ],
      "metadata": {
        "colab": {
          "base_uri": "https://localhost:8080/"
        },
        "id": "iP5zpdX4KxtM",
        "outputId": "0d6d0e21-a400-44e1-9d4e-5ce68fecb4ab"
      },
      "execution_count": null,
      "outputs": [
        {
          "output_type": "stream",
          "name": "stdout",
          "text": [
            "              precision    recall  f1-score   support\n",
            "\n",
            "           0       0.82      0.79      0.80       886\n",
            "           1       0.72      0.76      0.74       637\n",
            "\n",
            "    accuracy                           0.77      1523\n",
            "   macro avg       0.77      0.77      0.77      1523\n",
            "weighted avg       0.78      0.77      0.77      1523\n",
            "\n"
          ]
        }
      ]
    },
    {
      "cell_type": "code",
      "source": [
        "# Plot confusion matrix\n",
        "conf_matrix = metrics.confusion_matrix(y_test, model_predictions)\n",
        "\n",
        "fig, ax = plt.subplots()\n",
        "sns.heatmap(conf_matrix, cbar=False, cmap='Reds', annot=True, fmt='d')\n",
        "ax.set(xlabel=\"Predicted Value\", ylabel=\"True Value\", title=\"Confusion Matrix\")\n",
        "ax.set_yticklabels(labels=['0', '1'], rotation=0)\n",
        "plt.show()"
      ],
      "metadata": {
        "colab": {
          "base_uri": "https://localhost:8080/",
          "height": 301
        },
        "id": "Y6F-qNk7NC3t",
        "outputId": "7c13f7e0-2c02-4c09-f853-bc76066d3a45"
      },
      "execution_count": null,
      "outputs": [
        {
          "output_type": "display_data",
          "data": {
            "image/png": "[encoded data removed]",
            "text/plain": [
              "<Figure size 432x288 with 1 Axes>"
            ]
          },
          "metadata": {}
        }
      ]
    },
    {
      "cell_type": "markdown",
      "source": [
        "#Tuning Hyperparameteres"
      ],
      "metadata": {
        "id": "DcNCqRPFD_el"
      }
    },
    {
      "cell_type": "code",
      "source": [
        ""
      ],
      "metadata": {
        "id": "XhXNxOcLEAot"
      },
      "execution_count": null,
      "outputs": []
    }
  ]
}