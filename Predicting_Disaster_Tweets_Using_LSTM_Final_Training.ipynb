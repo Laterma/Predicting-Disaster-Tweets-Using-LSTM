{
  "nbformat": 4,
  "nbformat_minor": 0,
  "metadata": {
    "colab": {
      "name": "Predicting Disaster Tweets Using LSTM Final-Training",
      "provenance": [],
      "collapsed_sections": []
    },
    "kernelspec": {
      "name": "python3",
      "display_name": "Python 3"
    },
    "language_info": {
      "name": "python"
    },
    "accelerator": "GPU"
  },
  "cells": [
    {
      "cell_type": "markdown",
      "source": [
        "# **Predicting Disaster Tweets Using LSTM**"
      ],
      "metadata": {
        "id": "aLH2S3E6VmMt"
      }
    },
    {
      "cell_type": "code",
      "source": [
        "import pandas as pd\n",
        "import seaborn as sns\n",
        "import numpy as np\n",
        "import matplotlib.pyplot as plt\n",
        "import seaborn as sns\n",
        "\n",
        "from collections import Counter\n",
        "\n",
        "import re\n",
        "text_cleaning_regex = \"@S+|https?:S+|http?:S|[^A-Za-z0-9]+\"\n",
        "\n",
        "import nltk.corpus\n",
        "nltk.download('stopwords')\n",
        "from nltk.corpus import stopwords\n",
        "stop_words = stopwords.words('english')\n",
        "\n",
        "import nltk\n",
        "from nltk.stem import SnowballStemmer\n",
        "stemmer = SnowballStemmer('english')\n",
        "\n",
        "from keras.preprocessing.text import Tokenizer\n",
        "tokenizer = Tokenizer()\n",
        "\n",
        "from keras.preprocessing.sequence import pad_sequences\n",
        "\n",
        "from sklearn.preprocessing import LabelEncoder\n",
        "encoder = LabelEncoder()\n",
        "\n",
        "import tensorflow as tf\n",
        "import keras\n",
        "\n",
        "from tensorflow.keras.layers import Conv1D, Bidirectional, LSTM, Dense, Dropout, Input, SpatialDropout1D\n",
        "from tensorflow.keras.callbacks import ModelCheckpoint\n",
        "\n",
        "from tensorflow.keras.optimizers import Adam\n",
        "from tensorflow.keras.callbacks import ReduceLROnPlateau\n",
        "\n",
        "from sklearn import model_selection, metrics, preprocessing, ensemble, model_selection, metrics\n",
        "\n",
        "\n",
        "from tensorflow import keras\n",
        "from tensorflow.keras import layers\n",
        "from sklearn import model_selection\n",
        "from tensorflow.keras.preprocessing.sequence import pad_sequences\n",
        "\n",
        "import pickle"
      ],
      "metadata": {
        "id": "JoHWR8fMaa2M",
        "colab": {
          "base_uri": "https://localhost:8080/"
        },
        "outputId": "ae0f7186-477b-4847-fa30-22ad3242ae27"
      },
      "execution_count": null,
      "outputs": [
        {
          "output_type": "stream",
          "name": "stdout",
          "text": [
            "[nltk_data] Downloading package stopwords to /root/nltk_data...\n",
            "[nltk_data]   Package stopwords is already up-to-date!\n"
          ]
        }
      ]
    },
    {
      "cell_type": "markdown",
      "source": [
        "# Download Data"
      ],
      "metadata": {
        "id": "i7ueytncVvvR"
      }
    },
    {
      "cell_type": "code",
      "source": [
        "# !mkdir Dataset\n",
        "# %cd  Dataset"
      ],
      "metadata": {
        "id": "PeGoVbujZW93"
      },
      "execution_count": null,
      "outputs": []
    },
    {
      "cell_type": "code",
      "source": [
        "# !wget https://github.com/Laterma/Predicting-Disaster-Tweets-Using-LSTM/blob/main/Predicting_Disaster_Tweets.rar\n",
        "!git clone https://github.com/Laterma/Predicting-Disaster-Tweets-Using-LSTM.git"
      ],
      "metadata": {
        "colab": {
          "base_uri": "https://localhost:8080/"
        },
        "id": "k-5g3NC8Y-qk",
        "outputId": "e0ac2e65-9a72-4ecc-facc-4fb69325c4d4"
      },
      "execution_count": null,
      "outputs": [
        {
          "output_type": "stream",
          "name": "stdout",
          "text": [
            "fatal: destination path 'Predicting-Disaster-Tweets-Using-LSTM' already exists and is not an empty directory.\n"
          ]
        }
      ]
    },
    {
      "cell_type": "code",
      "source": [
        "# !unrar e Predicting_Disaster_Tweets.rar"
      ],
      "metadata": {
        "id": "oJ80aIrNZpWF"
      },
      "execution_count": null,
      "outputs": []
    },
    {
      "cell_type": "markdown",
      "source": [
        "# Loading Dataset"
      ],
      "metadata": {
        "id": "RZpJI0TWaUJU"
      }
    },
    {
      "cell_type": "code",
      "source": [
        "df_train = pd.read_csv('Predicting-Disaster-Tweets-Using-LSTM/train.csv')"
      ],
      "metadata": {
        "id": "95O1Vv6-bBrU"
      },
      "execution_count": null,
      "outputs": []
    },
    {
      "cell_type": "code",
      "source": [
        "df_test = pd.read_csv('Predicting-Disaster-Tweets-Using-LSTM/test.csv')"
      ],
      "metadata": {
        "id": "3wSprysWbFB3"
      },
      "execution_count": null,
      "outputs": []
    },
    {
      "cell_type": "markdown",
      "source": [
        "# Exploring The Data"
      ],
      "metadata": {
        "id": "ErG3iS02bRdm"
      }
    },
    {
      "cell_type": "code",
      "source": [
        "df_train.head(10)"
      ],
      "metadata": {
        "colab": {
          "base_uri": "https://localhost:8080/",
          "height": 363
        },
        "id": "sFl4e1HjFKnf",
        "outputId": "d94bae05-79b5-44bd-9718-f0f92557a715"
      },
      "execution_count": null,
      "outputs": [
        {
          "output_type": "execute_result",
          "data": {
            "text/html": [
              "\n",
              "  <div id=\"df-4eb2654f-d191-491a-bd3f-ef3dd3d7adb9\">\n",
              "    <div class=\"colab-df-container\">\n",
              "      <div>\n",
              "<style scoped>\n",
              "    .dataframe tbody tr th:only-of-type {\n",
              "        vertical-align: middle;\n",
              "    }\n",
              "\n",
              "    .dataframe tbody tr th {\n",
              "        vertical-align: top;\n",
              "    }\n",
              "\n",
              "    .dataframe thead th {\n",
              "        text-align: right;\n",
              "    }\n",
              "</style>\n",
              "<table border=\"1\" class=\"dataframe\">\n",
              "  <thead>\n",
              "    <tr style=\"text-align: right;\">\n",
              "      <th></th>\n",
              "      <th>id</th>\n",
              "      <th>keyword</th>\n",
              "      <th>location</th>\n",
              "      <th>text</th>\n",
              "      <th>target</th>\n",
              "    </tr>\n",
              "  </thead>\n",
              "  <tbody>\n",
              "    <tr>\n",
              "      <th>0</th>\n",
              "      <td>1</td>\n",
              "      <td>NaN</td>\n",
              "      <td>NaN</td>\n",
              "      <td>Our Deeds are the Reason of this #earthquake M...</td>\n",
              "      <td>1</td>\n",
              "    </tr>\n",
              "    <tr>\n",
              "      <th>1</th>\n",
              "      <td>4</td>\n",
              "      <td>NaN</td>\n",
              "      <td>NaN</td>\n",
              "      <td>Forest fire near La Ronge Sask. Canada</td>\n",
              "      <td>1</td>\n",
              "    </tr>\n",
              "    <tr>\n",
              "      <th>2</th>\n",
              "      <td>5</td>\n",
              "      <td>NaN</td>\n",
              "      <td>NaN</td>\n",
              "      <td>All residents asked to 'shelter in place' are ...</td>\n",
              "      <td>1</td>\n",
              "    </tr>\n",
              "    <tr>\n",
              "      <th>3</th>\n",
              "      <td>6</td>\n",
              "      <td>NaN</td>\n",
              "      <td>NaN</td>\n",
              "      <td>13,000 people receive #wildfires evacuation or...</td>\n",
              "      <td>1</td>\n",
              "    </tr>\n",
              "    <tr>\n",
              "      <th>4</th>\n",
              "      <td>7</td>\n",
              "      <td>NaN</td>\n",
              "      <td>NaN</td>\n",
              "      <td>Just got sent this photo from Ruby #Alaska as ...</td>\n",
              "      <td>1</td>\n",
              "    </tr>\n",
              "    <tr>\n",
              "      <th>5</th>\n",
              "      <td>8</td>\n",
              "      <td>NaN</td>\n",
              "      <td>NaN</td>\n",
              "      <td>#RockyFire Update =&gt; California Hwy. 20 closed...</td>\n",
              "      <td>1</td>\n",
              "    </tr>\n",
              "    <tr>\n",
              "      <th>6</th>\n",
              "      <td>10</td>\n",
              "      <td>NaN</td>\n",
              "      <td>NaN</td>\n",
              "      <td>#flood #disaster Heavy rain causes flash flood...</td>\n",
              "      <td>1</td>\n",
              "    </tr>\n",
              "    <tr>\n",
              "      <th>7</th>\n",
              "      <td>13</td>\n",
              "      <td>NaN</td>\n",
              "      <td>NaN</td>\n",
              "      <td>I'm on top of the hill and I can see a fire in...</td>\n",
              "      <td>1</td>\n",
              "    </tr>\n",
              "    <tr>\n",
              "      <th>8</th>\n",
              "      <td>14</td>\n",
              "      <td>NaN</td>\n",
              "      <td>NaN</td>\n",
              "      <td>There's an emergency evacuation happening now ...</td>\n",
              "      <td>1</td>\n",
              "    </tr>\n",
              "    <tr>\n",
              "      <th>9</th>\n",
              "      <td>15</td>\n",
              "      <td>NaN</td>\n",
              "      <td>NaN</td>\n",
              "      <td>I'm afraid that the tornado is coming to our a...</td>\n",
              "      <td>1</td>\n",
              "    </tr>\n",
              "  </tbody>\n",
              "</table>\n",
              "</div>\n",
              "      <button class=\"colab-df-convert\" onclick=\"convertToInteractive('df-4eb2654f-d191-491a-bd3f-ef3dd3d7adb9')\"\n",
              "              title=\"Convert this dataframe to an interactive table.\"\n",
              "              style=\"display:none;\">\n",
              "        \n",
              "  <svg xmlns=\"http://www.w3.org/2000/svg\" height=\"24px\"viewBox=\"0 0 24 24\"\n",
              "       width=\"24px\">\n",
              "    <path d=\"M0 0h24v24H0V0z\" fill=\"none\"/>\n",
              "    <path d=\"M18.56 5.44l.94 2.06.94-2.06 2.06-.94-2.06-.94-.94-2.06-.94 2.06-2.06.94zm-11 1L8.5 8.5l.94-2.06 2.06-.94-2.06-.94L8.5 2.5l-.94 2.06-2.06.94zm10 10l.94 2.06.94-2.06 2.06-.94-2.06-.94-.94-2.06-.94 2.06-2.06.94z\"/><path d=\"M17.41 7.96l-1.37-1.37c-.4-.4-.92-.59-1.43-.59-.52 0-1.04.2-1.43.59L10.3 9.45l-7.72 7.72c-.78.78-.78 2.05 0 2.83L4 21.41c.39.39.9.59 1.41.59.51 0 1.02-.2 1.41-.59l7.78-7.78 2.81-2.81c.8-.78.8-2.07 0-2.86zM5.41 20L4 18.59l7.72-7.72 1.47 1.35L5.41 20z\"/>\n",
              "  </svg>\n",
              "      </button>\n",
              "      \n",
              "  <style>\n",
              "    .colab-df-container {\n",
              "      display:flex;\n",
              "      flex-wrap:wrap;\n",
              "      gap: 12px;\n",
              "    }\n",
              "\n",
              "    .colab-df-convert {\n",
              "      background-color: #E8F0FE;\n",
              "      border: none;\n",
              "      border-radius: 50%;\n",
              "      cursor: pointer;\n",
              "      display: none;\n",
              "      fill: #1967D2;\n",
              "      height: 32px;\n",
              "      padding: 0 0 0 0;\n",
              "      width: 32px;\n",
              "    }\n",
              "\n",
              "    .colab-df-convert:hover {\n",
              "      background-color: #E2EBFA;\n",
              "      box-shadow: 0px 1px 2px rgba(60, 64, 67, 0.3), 0px 1px 3px 1px rgba(60, 64, 67, 0.15);\n",
              "      fill: #174EA6;\n",
              "    }\n",
              "\n",
              "    [theme=dark] .colab-df-convert {\n",
              "      background-color: #3B4455;\n",
              "      fill: #D2E3FC;\n",
              "    }\n",
              "\n",
              "    [theme=dark] .colab-df-convert:hover {\n",
              "      background-color: #434B5C;\n",
              "      box-shadow: 0px 1px 3px 1px rgba(0, 0, 0, 0.15);\n",
              "      filter: drop-shadow(0px 1px 2px rgba(0, 0, 0, 0.3));\n",
              "      fill: #FFFFFF;\n",
              "    }\n",
              "  </style>\n",
              "\n",
              "      <script>\n",
              "        const buttonEl =\n",
              "          document.querySelector('#df-4eb2654f-d191-491a-bd3f-ef3dd3d7adb9 button.colab-df-convert');\n",
              "        buttonEl.style.display =\n",
              "          google.colab.kernel.accessAllowed ? 'block' : 'none';\n",
              "\n",
              "        async function convertToInteractive(key) {\n",
              "          const element = document.querySelector('#df-4eb2654f-d191-491a-bd3f-ef3dd3d7adb9');\n",
              "          const dataTable =\n",
              "            await google.colab.kernel.invokeFunction('convertToInteractive',\n",
              "                                                     [key], {});\n",
              "          if (!dataTable) return;\n",
              "\n",
              "          const docLinkHtml = 'Like what you see? Visit the ' +\n",
              "            '<a target=\"_blank\" href=https://colab.research.google.com/notebooks/data_table.ipynb>data table notebook</a>'\n",
              "            + ' to learn more about interactive tables.';\n",
              "          element.innerHTML = '';\n",
              "          dataTable['output_type'] = 'display_data';\n",
              "          await google.colab.output.renderOutput(dataTable, element);\n",
              "          const docLink = document.createElement('div');\n",
              "          docLink.innerHTML = docLinkHtml;\n",
              "          element.appendChild(docLink);\n",
              "        }\n",
              "      </script>\n",
              "    </div>\n",
              "  </div>\n",
              "  "
            ],
            "text/plain": [
              "   id keyword  ...                                               text target\n",
              "0   1     NaN  ...  Our Deeds are the Reason of this #earthquake M...      1\n",
              "1   4     NaN  ...             Forest fire near La Ronge Sask. Canada      1\n",
              "2   5     NaN  ...  All residents asked to 'shelter in place' are ...      1\n",
              "3   6     NaN  ...  13,000 people receive #wildfires evacuation or...      1\n",
              "4   7     NaN  ...  Just got sent this photo from Ruby #Alaska as ...      1\n",
              "5   8     NaN  ...  #RockyFire Update => California Hwy. 20 closed...      1\n",
              "6  10     NaN  ...  #flood #disaster Heavy rain causes flash flood...      1\n",
              "7  13     NaN  ...  I'm on top of the hill and I can see a fire in...      1\n",
              "8  14     NaN  ...  There's an emergency evacuation happening now ...      1\n",
              "9  15     NaN  ...  I'm afraid that the tornado is coming to our a...      1\n",
              "\n",
              "[10 rows x 5 columns]"
            ]
          },
          "metadata": {},
          "execution_count": 7
        }
      ]
    },
    {
      "cell_type": "code",
      "source": [
        "df_test.head(10)"
      ],
      "metadata": {
        "colab": {
          "base_uri": "https://localhost:8080/",
          "height": 363
        },
        "outputId": "28813617-a373-49b4-b7ee-b228ba4b50b4",
        "id": "C2ADvXmktKVY"
      },
      "execution_count": null,
      "outputs": [
        {
          "output_type": "execute_result",
          "data": {
            "text/html": [
              "\n",
              "  <div id=\"df-b9f71245-23df-4303-85f1-dfe780961024\">\n",
              "    <div class=\"colab-df-container\">\n",
              "      <div>\n",
              "<style scoped>\n",
              "    .dataframe tbody tr th:only-of-type {\n",
              "        vertical-align: middle;\n",
              "    }\n",
              "\n",
              "    .dataframe tbody tr th {\n",
              "        vertical-align: top;\n",
              "    }\n",
              "\n",
              "    .dataframe thead th {\n",
              "        text-align: right;\n",
              "    }\n",
              "</style>\n",
              "<table border=\"1\" class=\"dataframe\">\n",
              "  <thead>\n",
              "    <tr style=\"text-align: right;\">\n",
              "      <th></th>\n",
              "      <th>id</th>\n",
              "      <th>keyword</th>\n",
              "      <th>location</th>\n",
              "      <th>text</th>\n",
              "    </tr>\n",
              "  </thead>\n",
              "  <tbody>\n",
              "    <tr>\n",
              "      <th>0</th>\n",
              "      <td>0</td>\n",
              "      <td>NaN</td>\n",
              "      <td>NaN</td>\n",
              "      <td>Just happened a terrible car crash</td>\n",
              "    </tr>\n",
              "    <tr>\n",
              "      <th>1</th>\n",
              "      <td>2</td>\n",
              "      <td>NaN</td>\n",
              "      <td>NaN</td>\n",
              "      <td>Heard about #earthquake is different cities, s...</td>\n",
              "    </tr>\n",
              "    <tr>\n",
              "      <th>2</th>\n",
              "      <td>3</td>\n",
              "      <td>NaN</td>\n",
              "      <td>NaN</td>\n",
              "      <td>there is a forest fire at spot pond, geese are...</td>\n",
              "    </tr>\n",
              "    <tr>\n",
              "      <th>3</th>\n",
              "      <td>9</td>\n",
              "      <td>NaN</td>\n",
              "      <td>NaN</td>\n",
              "      <td>Apocalypse lighting. #Spokane #wildfires</td>\n",
              "    </tr>\n",
              "    <tr>\n",
              "      <th>4</th>\n",
              "      <td>11</td>\n",
              "      <td>NaN</td>\n",
              "      <td>NaN</td>\n",
              "      <td>Typhoon Soudelor kills 28 in China and Taiwan</td>\n",
              "    </tr>\n",
              "    <tr>\n",
              "      <th>5</th>\n",
              "      <td>12</td>\n",
              "      <td>NaN</td>\n",
              "      <td>NaN</td>\n",
              "      <td>We're shaking...It's an earthquake</td>\n",
              "    </tr>\n",
              "    <tr>\n",
              "      <th>6</th>\n",
              "      <td>21</td>\n",
              "      <td>NaN</td>\n",
              "      <td>NaN</td>\n",
              "      <td>They'd probably still show more life than Arse...</td>\n",
              "    </tr>\n",
              "    <tr>\n",
              "      <th>7</th>\n",
              "      <td>22</td>\n",
              "      <td>NaN</td>\n",
              "      <td>NaN</td>\n",
              "      <td>Hey! How are you?</td>\n",
              "    </tr>\n",
              "    <tr>\n",
              "      <th>8</th>\n",
              "      <td>27</td>\n",
              "      <td>NaN</td>\n",
              "      <td>NaN</td>\n",
              "      <td>What a nice hat?</td>\n",
              "    </tr>\n",
              "    <tr>\n",
              "      <th>9</th>\n",
              "      <td>29</td>\n",
              "      <td>NaN</td>\n",
              "      <td>NaN</td>\n",
              "      <td>Fuck off!</td>\n",
              "    </tr>\n",
              "  </tbody>\n",
              "</table>\n",
              "</div>\n",
              "      <button class=\"colab-df-convert\" onclick=\"convertToInteractive('df-b9f71245-23df-4303-85f1-dfe780961024')\"\n",
              "              title=\"Convert this dataframe to an interactive table.\"\n",
              "              style=\"display:none;\">\n",
              "        \n",
              "  <svg xmlns=\"http://www.w3.org/2000/svg\" height=\"24px\"viewBox=\"0 0 24 24\"\n",
              "       width=\"24px\">\n",
              "    <path d=\"M0 0h24v24H0V0z\" fill=\"none\"/>\n",
              "    <path d=\"M18.56 5.44l.94 2.06.94-2.06 2.06-.94-2.06-.94-.94-2.06-.94 2.06-2.06.94zm-11 1L8.5 8.5l.94-2.06 2.06-.94-2.06-.94L8.5 2.5l-.94 2.06-2.06.94zm10 10l.94 2.06.94-2.06 2.06-.94-2.06-.94-.94-2.06-.94 2.06-2.06.94z\"/><path d=\"M17.41 7.96l-1.37-1.37c-.4-.4-.92-.59-1.43-.59-.52 0-1.04.2-1.43.59L10.3 9.45l-7.72 7.72c-.78.78-.78 2.05 0 2.83L4 21.41c.39.39.9.59 1.41.59.51 0 1.02-.2 1.41-.59l7.78-7.78 2.81-2.81c.8-.78.8-2.07 0-2.86zM5.41 20L4 18.59l7.72-7.72 1.47 1.35L5.41 20z\"/>\n",
              "  </svg>\n",
              "      </button>\n",
              "      \n",
              "  <style>\n",
              "    .colab-df-container {\n",
              "      display:flex;\n",
              "      flex-wrap:wrap;\n",
              "      gap: 12px;\n",
              "    }\n",
              "\n",
              "    .colab-df-convert {\n",
              "      background-color: #E8F0FE;\n",
              "      border: none;\n",
              "      border-radius: 50%;\n",
              "      cursor: pointer;\n",
              "      display: none;\n",
              "      fill: #1967D2;\n",
              "      height: 32px;\n",
              "      padding: 0 0 0 0;\n",
              "      width: 32px;\n",
              "    }\n",
              "\n",
              "    .colab-df-convert:hover {\n",
              "      background-color: #E2EBFA;\n",
              "      box-shadow: 0px 1px 2px rgba(60, 64, 67, 0.3), 0px 1px 3px 1px rgba(60, 64, 67, 0.15);\n",
              "      fill: #174EA6;\n",
              "    }\n",
              "\n",
              "    [theme=dark] .colab-df-convert {\n",
              "      background-color: #3B4455;\n",
              "      fill: #D2E3FC;\n",
              "    }\n",
              "\n",
              "    [theme=dark] .colab-df-convert:hover {\n",
              "      background-color: #434B5C;\n",
              "      box-shadow: 0px 1px 3px 1px rgba(0, 0, 0, 0.15);\n",
              "      filter: drop-shadow(0px 1px 2px rgba(0, 0, 0, 0.3));\n",
              "      fill: #FFFFFF;\n",
              "    }\n",
              "  </style>\n",
              "\n",
              "      <script>\n",
              "        const buttonEl =\n",
              "          document.querySelector('#df-b9f71245-23df-4303-85f1-dfe780961024 button.colab-df-convert');\n",
              "        buttonEl.style.display =\n",
              "          google.colab.kernel.accessAllowed ? 'block' : 'none';\n",
              "\n",
              "        async function convertToInteractive(key) {\n",
              "          const element = document.querySelector('#df-b9f71245-23df-4303-85f1-dfe780961024');\n",
              "          const dataTable =\n",
              "            await google.colab.kernel.invokeFunction('convertToInteractive',\n",
              "                                                     [key], {});\n",
              "          if (!dataTable) return;\n",
              "\n",
              "          const docLinkHtml = 'Like what you see? Visit the ' +\n",
              "            '<a target=\"_blank\" href=https://colab.research.google.com/notebooks/data_table.ipynb>data table notebook</a>'\n",
              "            + ' to learn more about interactive tables.';\n",
              "          element.innerHTML = '';\n",
              "          dataTable['output_type'] = 'display_data';\n",
              "          await google.colab.output.renderOutput(dataTable, element);\n",
              "          const docLink = document.createElement('div');\n",
              "          docLink.innerHTML = docLinkHtml;\n",
              "          element.appendChild(docLink);\n",
              "        }\n",
              "      </script>\n",
              "    </div>\n",
              "  </div>\n",
              "  "
            ],
            "text/plain": [
              "   id keyword location                                               text\n",
              "0   0     NaN      NaN                 Just happened a terrible car crash\n",
              "1   2     NaN      NaN  Heard about #earthquake is different cities, s...\n",
              "2   3     NaN      NaN  there is a forest fire at spot pond, geese are...\n",
              "3   9     NaN      NaN           Apocalypse lighting. #Spokane #wildfires\n",
              "4  11     NaN      NaN      Typhoon Soudelor kills 28 in China and Taiwan\n",
              "5  12     NaN      NaN                 We're shaking...It's an earthquake\n",
              "6  21     NaN      NaN  They'd probably still show more life than Arse...\n",
              "7  22     NaN      NaN                                  Hey! How are you?\n",
              "8  27     NaN      NaN                                   What a nice hat?\n",
              "9  29     NaN      NaN                                          Fuck off!"
            ]
          },
          "metadata": {},
          "execution_count": 8
        }
      ]
    },
    {
      "cell_type": "code",
      "source": [
        "df_train.info()"
      ],
      "metadata": {
        "colab": {
          "base_uri": "https://localhost:8080/"
        },
        "id": "yPZMwFytFc11",
        "outputId": "a0103e68-c3b9-4c7f-d43d-c79dd07b4a42"
      },
      "execution_count": null,
      "outputs": [
        {
          "output_type": "stream",
          "name": "stdout",
          "text": [
            "<class 'pandas.core.frame.DataFrame'>\n",
            "RangeIndex: 7613 entries, 0 to 7612\n",
            "Data columns (total 5 columns):\n",
            " #   Column    Non-Null Count  Dtype \n",
            "---  ------    --------------  ----- \n",
            " 0   id        7613 non-null   int64 \n",
            " 1   keyword   7552 non-null   object\n",
            " 2   location  5080 non-null   object\n",
            " 3   text      7613 non-null   object\n",
            " 4   target    7613 non-null   int64 \n",
            "dtypes: int64(2), object(3)\n",
            "memory usage: 297.5+ KB\n"
          ]
        }
      ]
    },
    {
      "cell_type": "code",
      "source": [
        "print(\" \\nCount total NaN at each column in a DataFrame : \\n\\n\",\n",
        "      df_train.isnull().sum())"
      ],
      "metadata": {
        "colab": {
          "base_uri": "https://localhost:8080/"
        },
        "id": "TOTLOoFwGLIh",
        "outputId": "28c66968-0027-4161-bdbb-3ab1cd05f7f1"
      },
      "execution_count": null,
      "outputs": [
        {
          "output_type": "stream",
          "name": "stdout",
          "text": [
            " \n",
            "Count total NaN at each column in a DataFrame : \n",
            "\n",
            " id             0\n",
            "keyword       61\n",
            "location    2533\n",
            "text           0\n",
            "target         0\n",
            "dtype: int64\n"
          ]
        }
      ]
    },
    {
      "cell_type": "code",
      "source": [
        "print(f\" The percentage of missing data in columns is: \\n\\n\",\n",
        "      df_train.isnull().sum()/len(df_train)*100)"
      ],
      "metadata": {
        "colab": {
          "base_uri": "https://localhost:8080/"
        },
        "id": "tegBM7FnGykp",
        "outputId": "1922f6d1-530f-4e6e-e2da-2d6977c8aad5"
      },
      "execution_count": null,
      "outputs": [
        {
          "output_type": "stream",
          "name": "stdout",
          "text": [
            " The percentage of missing data in columns is: \n",
            "\n",
            " id           0.000000\n",
            "keyword      0.801261\n",
            "location    33.272035\n",
            "text         0.000000\n",
            "target       0.000000\n",
            "dtype: float64\n"
          ]
        }
      ]
    },
    {
      "cell_type": "code",
      "source": [
        "for i in list(df_train):\n",
        "    # show the list of values  \n",
        "    print(f\"The Unique values of column {i} is {df_train[i].nunique()}\")"
      ],
      "metadata": {
        "colab": {
          "base_uri": "https://localhost:8080/"
        },
        "id": "7LI4hW3VL5OO",
        "outputId": "f7d58365-50b8-4870-ebbe-d25f92e97eb2"
      },
      "execution_count": null,
      "outputs": [
        {
          "output_type": "stream",
          "name": "stdout",
          "text": [
            "The Unique values of column id is 7613\n",
            "The Unique values of column keyword is 221\n",
            "The Unique values of column location is 3341\n",
            "The Unique values of column text is 7503\n",
            "The Unique values of column target is 2\n"
          ]
        }
      ]
    },
    {
      "cell_type": "code",
      "source": [
        "df_train['location'].value_counts()[:15]"
      ],
      "metadata": {
        "colab": {
          "base_uri": "https://localhost:8080/"
        },
        "id": "ig3z4L0mNSdk",
        "outputId": "f8f97ca3-be05-4b7f-a733-3ed1d66bc5f2"
      },
      "execution_count": null,
      "outputs": [
        {
          "output_type": "execute_result",
          "data": {
            "text/plain": [
              "USA                104\n",
              "New York            71\n",
              "United States       50\n",
              "London              45\n",
              "Canada              29\n",
              "Nigeria             28\n",
              "UK                  27\n",
              "Los Angeles, CA     26\n",
              "India               24\n",
              "Mumbai              22\n",
              "Washington, DC      21\n",
              "Kenya               20\n",
              "Worldwide           19\n",
              "Australia           18\n",
              "Chicago, IL         18\n",
              "Name: location, dtype: int64"
            ]
          },
          "metadata": {},
          "execution_count": 13
        }
      ]
    },
    {
      "cell_type": "code",
      "source": [
        "df_train['keyword'].value_counts()[:15]"
      ],
      "metadata": {
        "colab": {
          "base_uri": "https://localhost:8080/"
        },
        "id": "rQsQfq8GOk6V",
        "outputId": "56afdc28-2924-4971-e0d6-38d0e992ff93"
      },
      "execution_count": null,
      "outputs": [
        {
          "output_type": "execute_result",
          "data": {
            "text/plain": [
              "fatalities     45\n",
              "deluge         42\n",
              "armageddon     42\n",
              "sinking        41\n",
              "damage         41\n",
              "harm           41\n",
              "body%20bags    41\n",
              "outbreak       40\n",
              "evacuate       40\n",
              "fear           40\n",
              "collided       40\n",
              "siren          40\n",
              "twister        40\n",
              "windstorm      40\n",
              "sinkhole       39\n",
              "Name: keyword, dtype: int64"
            ]
          },
          "metadata": {},
          "execution_count": 14
        }
      ]
    },
    {
      "cell_type": "markdown",
      "source": [
        "#The most common stop/non-stop words"
      ],
      "metadata": {
        "id": "2P8VYXoAPcNU"
      }
    },
    {
      "cell_type": "code",
      "source": [
        "text_list = []\n",
        "stop_words_list = []\n",
        "nonstop_words_list = []\n",
        "\n",
        "def rm_uni_code(text):\n",
        "    text = re.sub(text_cleaning_regex, ' ', str(text).lower()).strip()\n",
        "    return text\n",
        "\n",
        "df_train['temp_column'] = df_train['text']"
      ],
      "metadata": {
        "id": "TkFf0SSk3aGj"
      },
      "execution_count": null,
      "outputs": []
    },
    {
      "cell_type": "code",
      "source": [
        "df_train['temp_column']"
      ],
      "metadata": {
        "colab": {
          "base_uri": "https://localhost:8080/"
        },
        "id": "9qe_DMV07HfO",
        "outputId": "bb4b5a46-34ef-401a-f093-ae34465fe355"
      },
      "execution_count": null,
      "outputs": [
        {
          "output_type": "execute_result",
          "data": {
            "text/plain": [
              "0       Our Deeds are the Reason of this #earthquake M...\n",
              "1                  Forest fire near La Ronge Sask. Canada\n",
              "2       All residents asked to 'shelter in place' are ...\n",
              "3       13,000 people receive #wildfires evacuation or...\n",
              "4       Just got sent this photo from Ruby #Alaska as ...\n",
              "                              ...                        \n",
              "7608    Two giant cranes holding a bridge collapse int...\n",
              "7609    @aria_ahrary @TheTawniest The out of control w...\n",
              "7610    M1.94 [01:04 UTC]?5km S of Volcano Hawaii. htt...\n",
              "7611    Police investigating after an e-bike collided ...\n",
              "7612    The Latest: More Homes Razed by Northern Calif...\n",
              "Name: temp_column, Length: 7613, dtype: object"
            ]
          },
          "metadata": {},
          "execution_count": 16
        }
      ]
    },
    {
      "cell_type": "code",
      "source": [
        "df_train['temp_column'] = df_train['text'].apply(lambda x: rm_uni_code(x) )\n"
      ],
      "metadata": {
        "id": "1dDr6wiW7mlD"
      },
      "execution_count": null,
      "outputs": []
    },
    {
      "cell_type": "code",
      "source": [
        "df_train['temp_column']"
      ],
      "metadata": {
        "colab": {
          "base_uri": "https://localhost:8080/"
        },
        "outputId": "bfe2cf13-5c94-4d08-8958-d1c4183e8232",
        "id": "XhhwQIqr732P"
      },
      "execution_count": null,
      "outputs": [
        {
          "output_type": "execute_result",
          "data": {
            "text/plain": [
              "0       our deeds are the reason of this earthquake ma...\n",
              "1                   forest fire near la ronge sask canada\n",
              "2       all residents asked to shelter in place are be...\n",
              "3       13 000 people receive wildfires evacuation ord...\n",
              "4       just got sent this photo from ruby alaska as s...\n",
              "                              ...                        \n",
              "7608    two giant cranes holding a bridge collapse int...\n",
              "7609    aria ahrary thetawniest the out of control wil...\n",
              "7610    m1 94 01 04 utc 5km s of volcano hawaii http t...\n",
              "7611    police investigating after an e bike collided ...\n",
              "7612    the latest more homes razed by northern califo...\n",
              "Name: temp_column, Length: 7613, dtype: object"
            ]
          },
          "metadata": {},
          "execution_count": 18
        }
      ]
    },
    {
      "cell_type": "code",
      "source": [
        "text_list = \" \".join(df_train[\"temp_column\"]).split()\n",
        "for x in text_list:\n",
        "  if x in stop_words:\n",
        "    stop_words_list.append(x)\n",
        "  else:\n",
        "    nonstop_words_list.append(x)"
      ],
      "metadata": {
        "id": "QorWJIvp674S"
      },
      "execution_count": null,
      "outputs": []
    },
    {
      "cell_type": "markdown",
      "source": [
        "#The 6 most common non-stop words"
      ],
      "metadata": {
        "id": "xWgqmWld-Xsy"
      }
    },
    {
      "cell_type": "code",
      "source": [
        "Counter(nonstop_words_list).most_common(6)"
      ],
      "metadata": {
        "colab": {
          "base_uri": "https://localhost:8080/"
        },
        "id": "NOLKuRCg90Q8",
        "outputId": "569e33fc-910d-4d96-f605-b19385728093"
      },
      "execution_count": null,
      "outputs": [
        {
          "output_type": "execute_result",
          "data": {
            "text/plain": [
              "[('co', 4740),\n",
              " ('http', 4309),\n",
              " ('https', 412),\n",
              " ('like', 348),\n",
              " ('amp', 344),\n",
              " ('fire', 254)]"
            ]
          },
          "metadata": {},
          "execution_count": 20
        }
      ]
    },
    {
      "cell_type": "markdown",
      "source": [
        "#The 6 most common stop words"
      ],
      "metadata": {
        "id": "sn8S4SBYP9nA"
      }
    },
    {
      "cell_type": "code",
      "source": [
        "Counter(stop_words_list).most_common(6)"
      ],
      "metadata": {
        "colab": {
          "base_uri": "https://localhost:8080/"
        },
        "id": "KZlLuTIT2t26",
        "outputId": "59a690e2-9c87-46ff-f85c-279944c404fb"
      },
      "execution_count": null,
      "outputs": [
        {
          "output_type": "execute_result",
          "data": {
            "text/plain": [
              "[('t', 5231),\n",
              " ('the', 3284),\n",
              " ('a', 2209),\n",
              " ('in', 1989),\n",
              " ('to', 1949),\n",
              " ('of', 1830)]"
            ]
          },
          "metadata": {},
          "execution_count": 21
        }
      ]
    },
    {
      "cell_type": "markdown",
      "source": [
        "#Preparing Data"
      ],
      "metadata": {
        "id": "jHoyJYvyPju5"
      }
    },
    {
      "cell_type": "code",
      "source": [
        "df_train = df_train.drop(['location', 'keyword', 'id', 'temp_column'], axis=1)\n",
        "# df_test = df_test.drop(['location', 'keyword', 'id'], axis=1)\n",
        "df_train.head(10)"
      ],
      "metadata": {
        "colab": {
          "base_uri": "https://localhost:8080/",
          "height": 363
        },
        "id": "VeqYKbMYbaqV",
        "outputId": "4c024724-e7ac-487d-e70f-e306aa57f4cd"
      },
      "execution_count": null,
      "outputs": [
        {
          "output_type": "execute_result",
          "data": {
            "text/html": [
              "\n",
              "  <div id=\"df-142f4cdd-ac8e-4a47-b842-09693ff9ef6c\">\n",
              "    <div class=\"colab-df-container\">\n",
              "      <div>\n",
              "<style scoped>\n",
              "    .dataframe tbody tr th:only-of-type {\n",
              "        vertical-align: middle;\n",
              "    }\n",
              "\n",
              "    .dataframe tbody tr th {\n",
              "        vertical-align: top;\n",
              "    }\n",
              "\n",
              "    .dataframe thead th {\n",
              "        text-align: right;\n",
              "    }\n",
              "</style>\n",
              "<table border=\"1\" class=\"dataframe\">\n",
              "  <thead>\n",
              "    <tr style=\"text-align: right;\">\n",
              "      <th></th>\n",
              "      <th>text</th>\n",
              "      <th>target</th>\n",
              "    </tr>\n",
              "  </thead>\n",
              "  <tbody>\n",
              "    <tr>\n",
              "      <th>0</th>\n",
              "      <td>Our Deeds are the Reason of this #earthquake M...</td>\n",
              "      <td>1</td>\n",
              "    </tr>\n",
              "    <tr>\n",
              "      <th>1</th>\n",
              "      <td>Forest fire near La Ronge Sask. Canada</td>\n",
              "      <td>1</td>\n",
              "    </tr>\n",
              "    <tr>\n",
              "      <th>2</th>\n",
              "      <td>All residents asked to 'shelter in place' are ...</td>\n",
              "      <td>1</td>\n",
              "    </tr>\n",
              "    <tr>\n",
              "      <th>3</th>\n",
              "      <td>13,000 people receive #wildfires evacuation or...</td>\n",
              "      <td>1</td>\n",
              "    </tr>\n",
              "    <tr>\n",
              "      <th>4</th>\n",
              "      <td>Just got sent this photo from Ruby #Alaska as ...</td>\n",
              "      <td>1</td>\n",
              "    </tr>\n",
              "    <tr>\n",
              "      <th>5</th>\n",
              "      <td>#RockyFire Update =&gt; California Hwy. 20 closed...</td>\n",
              "      <td>1</td>\n",
              "    </tr>\n",
              "    <tr>\n",
              "      <th>6</th>\n",
              "      <td>#flood #disaster Heavy rain causes flash flood...</td>\n",
              "      <td>1</td>\n",
              "    </tr>\n",
              "    <tr>\n",
              "      <th>7</th>\n",
              "      <td>I'm on top of the hill and I can see a fire in...</td>\n",
              "      <td>1</td>\n",
              "    </tr>\n",
              "    <tr>\n",
              "      <th>8</th>\n",
              "      <td>There's an emergency evacuation happening now ...</td>\n",
              "      <td>1</td>\n",
              "    </tr>\n",
              "    <tr>\n",
              "      <th>9</th>\n",
              "      <td>I'm afraid that the tornado is coming to our a...</td>\n",
              "      <td>1</td>\n",
              "    </tr>\n",
              "  </tbody>\n",
              "</table>\n",
              "</div>\n",
              "      <button class=\"colab-df-convert\" onclick=\"convertToInteractive('df-142f4cdd-ac8e-4a47-b842-09693ff9ef6c')\"\n",
              "              title=\"Convert this dataframe to an interactive table.\"\n",
              "              style=\"display:none;\">\n",
              "        \n",
              "  <svg xmlns=\"http://www.w3.org/2000/svg\" height=\"24px\"viewBox=\"0 0 24 24\"\n",
              "       width=\"24px\">\n",
              "    <path d=\"M0 0h24v24H0V0z\" fill=\"none\"/>\n",
              "    <path d=\"M18.56 5.44l.94 2.06.94-2.06 2.06-.94-2.06-.94-.94-2.06-.94 2.06-2.06.94zm-11 1L8.5 8.5l.94-2.06 2.06-.94-2.06-.94L8.5 2.5l-.94 2.06-2.06.94zm10 10l.94 2.06.94-2.06 2.06-.94-2.06-.94-.94-2.06-.94 2.06-2.06.94z\"/><path d=\"M17.41 7.96l-1.37-1.37c-.4-.4-.92-.59-1.43-.59-.52 0-1.04.2-1.43.59L10.3 9.45l-7.72 7.72c-.78.78-.78 2.05 0 2.83L4 21.41c.39.39.9.59 1.41.59.51 0 1.02-.2 1.41-.59l7.78-7.78 2.81-2.81c.8-.78.8-2.07 0-2.86zM5.41 20L4 18.59l7.72-7.72 1.47 1.35L5.41 20z\"/>\n",
              "  </svg>\n",
              "      </button>\n",
              "      \n",
              "  <style>\n",
              "    .colab-df-container {\n",
              "      display:flex;\n",
              "      flex-wrap:wrap;\n",
              "      gap: 12px;\n",
              "    }\n",
              "\n",
              "    .colab-df-convert {\n",
              "      background-color: #E8F0FE;\n",
              "      border: none;\n",
              "      border-radius: 50%;\n",
              "      cursor: pointer;\n",
              "      display: none;\n",
              "      fill: #1967D2;\n",
              "      height: 32px;\n",
              "      padding: 0 0 0 0;\n",
              "      width: 32px;\n",
              "    }\n",
              "\n",
              "    .colab-df-convert:hover {\n",
              "      background-color: #E2EBFA;\n",
              "      box-shadow: 0px 1px 2px rgba(60, 64, 67, 0.3), 0px 1px 3px 1px rgba(60, 64, 67, 0.15);\n",
              "      fill: #174EA6;\n",
              "    }\n",
              "\n",
              "    [theme=dark] .colab-df-convert {\n",
              "      background-color: #3B4455;\n",
              "      fill: #D2E3FC;\n",
              "    }\n",
              "\n",
              "    [theme=dark] .colab-df-convert:hover {\n",
              "      background-color: #434B5C;\n",
              "      box-shadow: 0px 1px 3px 1px rgba(0, 0, 0, 0.15);\n",
              "      filter: drop-shadow(0px 1px 2px rgba(0, 0, 0, 0.3));\n",
              "      fill: #FFFFFF;\n",
              "    }\n",
              "  </style>\n",
              "\n",
              "      <script>\n",
              "        const buttonEl =\n",
              "          document.querySelector('#df-142f4cdd-ac8e-4a47-b842-09693ff9ef6c button.colab-df-convert');\n",
              "        buttonEl.style.display =\n",
              "          google.colab.kernel.accessAllowed ? 'block' : 'none';\n",
              "\n",
              "        async function convertToInteractive(key) {\n",
              "          const element = document.querySelector('#df-142f4cdd-ac8e-4a47-b842-09693ff9ef6c');\n",
              "          const dataTable =\n",
              "            await google.colab.kernel.invokeFunction('convertToInteractive',\n",
              "                                                     [key], {});\n",
              "          if (!dataTable) return;\n",
              "\n",
              "          const docLinkHtml = 'Like what you see? Visit the ' +\n",
              "            '<a target=\"_blank\" href=https://colab.research.google.com/notebooks/data_table.ipynb>data table notebook</a>'\n",
              "            + ' to learn more about interactive tables.';\n",
              "          element.innerHTML = '';\n",
              "          dataTable['output_type'] = 'display_data';\n",
              "          await google.colab.output.renderOutput(dataTable, element);\n",
              "          const docLink = document.createElement('div');\n",
              "          docLink.innerHTML = docLinkHtml;\n",
              "          element.appendChild(docLink);\n",
              "        }\n",
              "      </script>\n",
              "    </div>\n",
              "  </div>\n",
              "  "
            ],
            "text/plain": [
              "                                                text  target\n",
              "0  Our Deeds are the Reason of this #earthquake M...       1\n",
              "1             Forest fire near La Ronge Sask. Canada       1\n",
              "2  All residents asked to 'shelter in place' are ...       1\n",
              "3  13,000 people receive #wildfires evacuation or...       1\n",
              "4  Just got sent this photo from Ruby #Alaska as ...       1\n",
              "5  #RockyFire Update => California Hwy. 20 closed...       1\n",
              "6  #flood #disaster Heavy rain causes flash flood...       1\n",
              "7  I'm on top of the hill and I can see a fire in...       1\n",
              "8  There's an emergency evacuation happening now ...       1\n",
              "9  I'm afraid that the tornado is coming to our a...       1"
            ]
          },
          "metadata": {},
          "execution_count": 22
        }
      ]
    },
    {
      "cell_type": "code",
      "source": [
        "df_test.head(10)"
      ],
      "metadata": {
        "colab": {
          "base_uri": "https://localhost:8080/",
          "height": 363
        },
        "id": "DZiRKTv0FY25",
        "outputId": "725ee74f-726c-40a9-9288-ee998035660d"
      },
      "execution_count": null,
      "outputs": [
        {
          "output_type": "execute_result",
          "data": {
            "text/html": [
              "\n",
              "  <div id=\"df-6bd9771b-79f8-482c-af2e-5956c5ee8d87\">\n",
              "    <div class=\"colab-df-container\">\n",
              "      <div>\n",
              "<style scoped>\n",
              "    .dataframe tbody tr th:only-of-type {\n",
              "        vertical-align: middle;\n",
              "    }\n",
              "\n",
              "    .dataframe tbody tr th {\n",
              "        vertical-align: top;\n",
              "    }\n",
              "\n",
              "    .dataframe thead th {\n",
              "        text-align: right;\n",
              "    }\n",
              "</style>\n",
              "<table border=\"1\" class=\"dataframe\">\n",
              "  <thead>\n",
              "    <tr style=\"text-align: right;\">\n",
              "      <th></th>\n",
              "      <th>id</th>\n",
              "      <th>keyword</th>\n",
              "      <th>location</th>\n",
              "      <th>text</th>\n",
              "    </tr>\n",
              "  </thead>\n",
              "  <tbody>\n",
              "    <tr>\n",
              "      <th>0</th>\n",
              "      <td>0</td>\n",
              "      <td>NaN</td>\n",
              "      <td>NaN</td>\n",
              "      <td>Just happened a terrible car crash</td>\n",
              "    </tr>\n",
              "    <tr>\n",
              "      <th>1</th>\n",
              "      <td>2</td>\n",
              "      <td>NaN</td>\n",
              "      <td>NaN</td>\n",
              "      <td>Heard about #earthquake is different cities, s...</td>\n",
              "    </tr>\n",
              "    <tr>\n",
              "      <th>2</th>\n",
              "      <td>3</td>\n",
              "      <td>NaN</td>\n",
              "      <td>NaN</td>\n",
              "      <td>there is a forest fire at spot pond, geese are...</td>\n",
              "    </tr>\n",
              "    <tr>\n",
              "      <th>3</th>\n",
              "      <td>9</td>\n",
              "      <td>NaN</td>\n",
              "      <td>NaN</td>\n",
              "      <td>Apocalypse lighting. #Spokane #wildfires</td>\n",
              "    </tr>\n",
              "    <tr>\n",
              "      <th>4</th>\n",
              "      <td>11</td>\n",
              "      <td>NaN</td>\n",
              "      <td>NaN</td>\n",
              "      <td>Typhoon Soudelor kills 28 in China and Taiwan</td>\n",
              "    </tr>\n",
              "    <tr>\n",
              "      <th>5</th>\n",
              "      <td>12</td>\n",
              "      <td>NaN</td>\n",
              "      <td>NaN</td>\n",
              "      <td>We're shaking...It's an earthquake</td>\n",
              "    </tr>\n",
              "    <tr>\n",
              "      <th>6</th>\n",
              "      <td>21</td>\n",
              "      <td>NaN</td>\n",
              "      <td>NaN</td>\n",
              "      <td>They'd probably still show more life than Arse...</td>\n",
              "    </tr>\n",
              "    <tr>\n",
              "      <th>7</th>\n",
              "      <td>22</td>\n",
              "      <td>NaN</td>\n",
              "      <td>NaN</td>\n",
              "      <td>Hey! How are you?</td>\n",
              "    </tr>\n",
              "    <tr>\n",
              "      <th>8</th>\n",
              "      <td>27</td>\n",
              "      <td>NaN</td>\n",
              "      <td>NaN</td>\n",
              "      <td>What a nice hat?</td>\n",
              "    </tr>\n",
              "    <tr>\n",
              "      <th>9</th>\n",
              "      <td>29</td>\n",
              "      <td>NaN</td>\n",
              "      <td>NaN</td>\n",
              "      <td>Fuck off!</td>\n",
              "    </tr>\n",
              "  </tbody>\n",
              "</table>\n",
              "</div>\n",
              "      <button class=\"colab-df-convert\" onclick=\"convertToInteractive('df-6bd9771b-79f8-482c-af2e-5956c5ee8d87')\"\n",
              "              title=\"Convert this dataframe to an interactive table.\"\n",
              "              style=\"display:none;\">\n",
              "        \n",
              "  <svg xmlns=\"http://www.w3.org/2000/svg\" height=\"24px\"viewBox=\"0 0 24 24\"\n",
              "       width=\"24px\">\n",
              "    <path d=\"M0 0h24v24H0V0z\" fill=\"none\"/>\n",
              "    <path d=\"M18.56 5.44l.94 2.06.94-2.06 2.06-.94-2.06-.94-.94-2.06-.94 2.06-2.06.94zm-11 1L8.5 8.5l.94-2.06 2.06-.94-2.06-.94L8.5 2.5l-.94 2.06-2.06.94zm10 10l.94 2.06.94-2.06 2.06-.94-2.06-.94-.94-2.06-.94 2.06-2.06.94z\"/><path d=\"M17.41 7.96l-1.37-1.37c-.4-.4-.92-.59-1.43-.59-.52 0-1.04.2-1.43.59L10.3 9.45l-7.72 7.72c-.78.78-.78 2.05 0 2.83L4 21.41c.39.39.9.59 1.41.59.51 0 1.02-.2 1.41-.59l7.78-7.78 2.81-2.81c.8-.78.8-2.07 0-2.86zM5.41 20L4 18.59l7.72-7.72 1.47 1.35L5.41 20z\"/>\n",
              "  </svg>\n",
              "      </button>\n",
              "      \n",
              "  <style>\n",
              "    .colab-df-container {\n",
              "      display:flex;\n",
              "      flex-wrap:wrap;\n",
              "      gap: 12px;\n",
              "    }\n",
              "\n",
              "    .colab-df-convert {\n",
              "      background-color: #E8F0FE;\n",
              "      border: none;\n",
              "      border-radius: 50%;\n",
              "      cursor: pointer;\n",
              "      display: none;\n",
              "      fill: #1967D2;\n",
              "      height: 32px;\n",
              "      padding: 0 0 0 0;\n",
              "      width: 32px;\n",
              "    }\n",
              "\n",
              "    .colab-df-convert:hover {\n",
              "      background-color: #E2EBFA;\n",
              "      box-shadow: 0px 1px 2px rgba(60, 64, 67, 0.3), 0px 1px 3px 1px rgba(60, 64, 67, 0.15);\n",
              "      fill: #174EA6;\n",
              "    }\n",
              "\n",
              "    [theme=dark] .colab-df-convert {\n",
              "      background-color: #3B4455;\n",
              "      fill: #D2E3FC;\n",
              "    }\n",
              "\n",
              "    [theme=dark] .colab-df-convert:hover {\n",
              "      background-color: #434B5C;\n",
              "      box-shadow: 0px 1px 3px 1px rgba(0, 0, 0, 0.15);\n",
              "      filter: drop-shadow(0px 1px 2px rgba(0, 0, 0, 0.3));\n",
              "      fill: #FFFFFF;\n",
              "    }\n",
              "  </style>\n",
              "\n",
              "      <script>\n",
              "        const buttonEl =\n",
              "          document.querySelector('#df-6bd9771b-79f8-482c-af2e-5956c5ee8d87 button.colab-df-convert');\n",
              "        buttonEl.style.display =\n",
              "          google.colab.kernel.accessAllowed ? 'block' : 'none';\n",
              "\n",
              "        async function convertToInteractive(key) {\n",
              "          const element = document.querySelector('#df-6bd9771b-79f8-482c-af2e-5956c5ee8d87');\n",
              "          const dataTable =\n",
              "            await google.colab.kernel.invokeFunction('convertToInteractive',\n",
              "                                                     [key], {});\n",
              "          if (!dataTable) return;\n",
              "\n",
              "          const docLinkHtml = 'Like what you see? Visit the ' +\n",
              "            '<a target=\"_blank\" href=https://colab.research.google.com/notebooks/data_table.ipynb>data table notebook</a>'\n",
              "            + ' to learn more about interactive tables.';\n",
              "          element.innerHTML = '';\n",
              "          dataTable['output_type'] = 'display_data';\n",
              "          await google.colab.output.renderOutput(dataTable, element);\n",
              "          const docLink = document.createElement('div');\n",
              "          docLink.innerHTML = docLinkHtml;\n",
              "          element.appendChild(docLink);\n",
              "        }\n",
              "      </script>\n",
              "    </div>\n",
              "  </div>\n",
              "  "
            ],
            "text/plain": [
              "   id keyword location                                               text\n",
              "0   0     NaN      NaN                 Just happened a terrible car crash\n",
              "1   2     NaN      NaN  Heard about #earthquake is different cities, s...\n",
              "2   3     NaN      NaN  there is a forest fire at spot pond, geese are...\n",
              "3   9     NaN      NaN           Apocalypse lighting. #Spokane #wildfires\n",
              "4  11     NaN      NaN      Typhoon Soudelor kills 28 in China and Taiwan\n",
              "5  12     NaN      NaN                 We're shaking...It's an earthquake\n",
              "6  21     NaN      NaN  They'd probably still show more life than Arse...\n",
              "7  22     NaN      NaN                                  Hey! How are you?\n",
              "8  27     NaN      NaN                                   What a nice hat?\n",
              "9  29     NaN      NaN                                          Fuck off!"
            ]
          },
          "metadata": {},
          "execution_count": 23
        }
      ]
    },
    {
      "cell_type": "code",
      "source": [
        "df_test = df_test.drop(['location', 'keyword', 'id'], axis=1)\n",
        "df_test.head(10)"
      ],
      "metadata": {
        "colab": {
          "base_uri": "https://localhost:8080/",
          "height": 363
        },
        "id": "zY4XU4eCbuQ6",
        "outputId": "8e44d705-da16-4e8a-c18a-a738fc5aefd1"
      },
      "execution_count": null,
      "outputs": [
        {
          "output_type": "execute_result",
          "data": {
            "text/html": [
              "\n",
              "  <div id=\"df-83754e53-6b7a-4634-bf07-19ada74d2dd8\">\n",
              "    <div class=\"colab-df-container\">\n",
              "      <div>\n",
              "<style scoped>\n",
              "    .dataframe tbody tr th:only-of-type {\n",
              "        vertical-align: middle;\n",
              "    }\n",
              "\n",
              "    .dataframe tbody tr th {\n",
              "        vertical-align: top;\n",
              "    }\n",
              "\n",
              "    .dataframe thead th {\n",
              "        text-align: right;\n",
              "    }\n",
              "</style>\n",
              "<table border=\"1\" class=\"dataframe\">\n",
              "  <thead>\n",
              "    <tr style=\"text-align: right;\">\n",
              "      <th></th>\n",
              "      <th>text</th>\n",
              "    </tr>\n",
              "  </thead>\n",
              "  <tbody>\n",
              "    <tr>\n",
              "      <th>0</th>\n",
              "      <td>Just happened a terrible car crash</td>\n",
              "    </tr>\n",
              "    <tr>\n",
              "      <th>1</th>\n",
              "      <td>Heard about #earthquake is different cities, s...</td>\n",
              "    </tr>\n",
              "    <tr>\n",
              "      <th>2</th>\n",
              "      <td>there is a forest fire at spot pond, geese are...</td>\n",
              "    </tr>\n",
              "    <tr>\n",
              "      <th>3</th>\n",
              "      <td>Apocalypse lighting. #Spokane #wildfires</td>\n",
              "    </tr>\n",
              "    <tr>\n",
              "      <th>4</th>\n",
              "      <td>Typhoon Soudelor kills 28 in China and Taiwan</td>\n",
              "    </tr>\n",
              "    <tr>\n",
              "      <th>5</th>\n",
              "      <td>We're shaking...It's an earthquake</td>\n",
              "    </tr>\n",
              "    <tr>\n",
              "      <th>6</th>\n",
              "      <td>They'd probably still show more life than Arse...</td>\n",
              "    </tr>\n",
              "    <tr>\n",
              "      <th>7</th>\n",
              "      <td>Hey! How are you?</td>\n",
              "    </tr>\n",
              "    <tr>\n",
              "      <th>8</th>\n",
              "      <td>What a nice hat?</td>\n",
              "    </tr>\n",
              "    <tr>\n",
              "      <th>9</th>\n",
              "      <td>Fuck off!</td>\n",
              "    </tr>\n",
              "  </tbody>\n",
              "</table>\n",
              "</div>\n",
              "      <button class=\"colab-df-convert\" onclick=\"convertToInteractive('df-83754e53-6b7a-4634-bf07-19ada74d2dd8')\"\n",
              "              title=\"Convert this dataframe to an interactive table.\"\n",
              "              style=\"display:none;\">\n",
              "        \n",
              "  <svg xmlns=\"http://www.w3.org/2000/svg\" height=\"24px\"viewBox=\"0 0 24 24\"\n",
              "       width=\"24px\">\n",
              "    <path d=\"M0 0h24v24H0V0z\" fill=\"none\"/>\n",
              "    <path d=\"M18.56 5.44l.94 2.06.94-2.06 2.06-.94-2.06-.94-.94-2.06-.94 2.06-2.06.94zm-11 1L8.5 8.5l.94-2.06 2.06-.94-2.06-.94L8.5 2.5l-.94 2.06-2.06.94zm10 10l.94 2.06.94-2.06 2.06-.94-2.06-.94-.94-2.06-.94 2.06-2.06.94z\"/><path d=\"M17.41 7.96l-1.37-1.37c-.4-.4-.92-.59-1.43-.59-.52 0-1.04.2-1.43.59L10.3 9.45l-7.72 7.72c-.78.78-.78 2.05 0 2.83L4 21.41c.39.39.9.59 1.41.59.51 0 1.02-.2 1.41-.59l7.78-7.78 2.81-2.81c.8-.78.8-2.07 0-2.86zM5.41 20L4 18.59l7.72-7.72 1.47 1.35L5.41 20z\"/>\n",
              "  </svg>\n",
              "      </button>\n",
              "      \n",
              "  <style>\n",
              "    .colab-df-container {\n",
              "      display:flex;\n",
              "      flex-wrap:wrap;\n",
              "      gap: 12px;\n",
              "    }\n",
              "\n",
              "    .colab-df-convert {\n",
              "      background-color: #E8F0FE;\n",
              "      border: none;\n",
              "      border-radius: 50%;\n",
              "      cursor: pointer;\n",
              "      display: none;\n",
              "      fill: #1967D2;\n",
              "      height: 32px;\n",
              "      padding: 0 0 0 0;\n",
              "      width: 32px;\n",
              "    }\n",
              "\n",
              "    .colab-df-convert:hover {\n",
              "      background-color: #E2EBFA;\n",
              "      box-shadow: 0px 1px 2px rgba(60, 64, 67, 0.3), 0px 1px 3px 1px rgba(60, 64, 67, 0.15);\n",
              "      fill: #174EA6;\n",
              "    }\n",
              "\n",
              "    [theme=dark] .colab-df-convert {\n",
              "      background-color: #3B4455;\n",
              "      fill: #D2E3FC;\n",
              "    }\n",
              "\n",
              "    [theme=dark] .colab-df-convert:hover {\n",
              "      background-color: #434B5C;\n",
              "      box-shadow: 0px 1px 3px 1px rgba(0, 0, 0, 0.15);\n",
              "      filter: drop-shadow(0px 1px 2px rgba(0, 0, 0, 0.3));\n",
              "      fill: #FFFFFF;\n",
              "    }\n",
              "  </style>\n",
              "\n",
              "      <script>\n",
              "        const buttonEl =\n",
              "          document.querySelector('#df-83754e53-6b7a-4634-bf07-19ada74d2dd8 button.colab-df-convert');\n",
              "        buttonEl.style.display =\n",
              "          google.colab.kernel.accessAllowed ? 'block' : 'none';\n",
              "\n",
              "        async function convertToInteractive(key) {\n",
              "          const element = document.querySelector('#df-83754e53-6b7a-4634-bf07-19ada74d2dd8');\n",
              "          const dataTable =\n",
              "            await google.colab.kernel.invokeFunction('convertToInteractive',\n",
              "                                                     [key], {});\n",
              "          if (!dataTable) return;\n",
              "\n",
              "          const docLinkHtml = 'Like what you see? Visit the ' +\n",
              "            '<a target=\"_blank\" href=https://colab.research.google.com/notebooks/data_table.ipynb>data table notebook</a>'\n",
              "            + ' to learn more about interactive tables.';\n",
              "          element.innerHTML = '';\n",
              "          dataTable['output_type'] = 'display_data';\n",
              "          await google.colab.output.renderOutput(dataTable, element);\n",
              "          const docLink = document.createElement('div');\n",
              "          docLink.innerHTML = docLinkHtml;\n",
              "          element.appendChild(docLink);\n",
              "        }\n",
              "      </script>\n",
              "    </div>\n",
              "  </div>\n",
              "  "
            ],
            "text/plain": [
              "                                                text\n",
              "0                 Just happened a terrible car crash\n",
              "1  Heard about #earthquake is different cities, s...\n",
              "2  there is a forest fire at spot pond, geese are...\n",
              "3           Apocalypse lighting. #Spokane #wildfires\n",
              "4      Typhoon Soudelor kills 28 in China and Taiwan\n",
              "5                 We're shaking...It's an earthquake\n",
              "6  They'd probably still show more life than Arse...\n",
              "7                                  Hey! How are you?\n",
              "8                                   What a nice hat?\n",
              "9                                          Fuck off!"
            ]
          },
          "metadata": {},
          "execution_count": 24
        }
      ]
    },
    {
      "cell_type": "code",
      "source": [
        "df_train.info()"
      ],
      "metadata": {
        "colab": {
          "base_uri": "https://localhost:8080/"
        },
        "id": "xSxlP_GEHY0N",
        "outputId": "601c7ce4-71b1-48c6-8ed5-f29aeb56eba2"
      },
      "execution_count": null,
      "outputs": [
        {
          "output_type": "stream",
          "name": "stdout",
          "text": [
            "<class 'pandas.core.frame.DataFrame'>\n",
            "RangeIndex: 7613 entries, 0 to 7612\n",
            "Data columns (total 2 columns):\n",
            " #   Column  Non-Null Count  Dtype \n",
            "---  ------  --------------  ----- \n",
            " 0   text    7613 non-null   object\n",
            " 1   target  7613 non-null   int64 \n",
            "dtypes: int64(1), object(1)\n",
            "memory usage: 119.1+ KB\n"
          ]
        }
      ]
    },
    {
      "cell_type": "code",
      "metadata": {
        "colab": {
          "base_uri": "https://localhost:8080/"
        },
        "id": "Q0ommxJsfvm6",
        "outputId": "53b89fa0-92bf-4f01-da4b-a56887652cd9"
      },
      "source": [
        "df_train['target'].value_counts()"
      ],
      "execution_count": null,
      "outputs": [
        {
          "output_type": "execute_result",
          "data": {
            "text/plain": [
              "0    4342\n",
              "1    3271\n",
              "Name: target, dtype: int64"
            ]
          },
          "metadata": {},
          "execution_count": 26
        }
      ]
    },
    {
      "cell_type": "code",
      "source": [
        "sns.set_theme(style=\"darkgrid\")\n",
        "ax = sns.countplot(x=\"target\", data=df_train)"
      ],
      "metadata": {
        "colab": {
          "base_uri": "https://localhost:8080/",
          "height": 285
        },
        "id": "umqRt-rHjSoj",
        "outputId": "27973b50-0a65-41ec-d836-25b469a46a11"
      },
      "execution_count": null,
      "outputs": [
        {
          "output_type": "display_data",
          "data": {
            "image/png": "[encoded data removed]",
            "text/plain": [
              "<Figure size 432x288 with 1 Axes>"
            ]
          },
          "metadata": {}
        }
      ]
    },
    {
      "cell_type": "code",
      "source": [
        "for col in df_train.columns:\n",
        "  print(f\"The number of nan values in {col} is: {df_train[col].isna().sum()}\")"
      ],
      "metadata": {
        "colab": {
          "base_uri": "https://localhost:8080/"
        },
        "id": "FpACLZFylB0g",
        "outputId": "62fe72a9-54e0-4dd3-c124-4cd25334ed26"
      },
      "execution_count": null,
      "outputs": [
        {
          "output_type": "stream",
          "name": "stdout",
          "text": [
            "The number of nan values in text is: 0\n",
            "The number of nan values in target is: 0\n"
          ]
        }
      ]
    },
    {
      "cell_type": "code",
      "source": [
        "df_train['cleaned_text']= df_train['text']\n",
        "df_test['cleaned_text'] = df_test['text']"
      ],
      "metadata": {
        "id": "TnJ_sNdSqM4U"
      },
      "execution_count": null,
      "outputs": []
    },
    {
      "cell_type": "code",
      "source": [
        "df_train[['text', 'cleaned_text']]"
      ],
      "metadata": {
        "colab": {
          "base_uri": "https://localhost:8080/",
          "height": 424
        },
        "id": "-rD46Y8oG4RE",
        "outputId": "6b9e2b91-d07c-4440-df7e-41ed36247b89"
      },
      "execution_count": null,
      "outputs": [
        {
          "output_type": "execute_result",
          "data": {
            "text/html": [
              "\n",
              "  <div id=\"df-5d15a3f6-2745-4314-a3c8-aafafac91d21\">\n",
              "    <div class=\"colab-df-container\">\n",
              "      <div>\n",
              "<style scoped>\n",
              "    .dataframe tbody tr th:only-of-type {\n",
              "        vertical-align: middle;\n",
              "    }\n",
              "\n",
              "    .dataframe tbody tr th {\n",
              "        vertical-align: top;\n",
              "    }\n",
              "\n",
              "    .dataframe thead th {\n",
              "        text-align: right;\n",
              "    }\n",
              "</style>\n",
              "<table border=\"1\" class=\"dataframe\">\n",
              "  <thead>\n",
              "    <tr style=\"text-align: right;\">\n",
              "      <th></th>\n",
              "      <th>text</th>\n",
              "      <th>cleaned_text</th>\n",
              "    </tr>\n",
              "  </thead>\n",
              "  <tbody>\n",
              "    <tr>\n",
              "      <th>0</th>\n",
              "      <td>Our Deeds are the Reason of this #earthquake M...</td>\n",
              "      <td>Our Deeds are the Reason of this #earthquake M...</td>\n",
              "    </tr>\n",
              "    <tr>\n",
              "      <th>1</th>\n",
              "      <td>Forest fire near La Ronge Sask. Canada</td>\n",
              "      <td>Forest fire near La Ronge Sask. Canada</td>\n",
              "    </tr>\n",
              "    <tr>\n",
              "      <th>2</th>\n",
              "      <td>All residents asked to 'shelter in place' are ...</td>\n",
              "      <td>All residents asked to 'shelter in place' are ...</td>\n",
              "    </tr>\n",
              "    <tr>\n",
              "      <th>3</th>\n",
              "      <td>13,000 people receive #wildfires evacuation or...</td>\n",
              "      <td>13,000 people receive #wildfires evacuation or...</td>\n",
              "    </tr>\n",
              "    <tr>\n",
              "      <th>4</th>\n",
              "      <td>Just got sent this photo from Ruby #Alaska as ...</td>\n",
              "      <td>Just got sent this photo from Ruby #Alaska as ...</td>\n",
              "    </tr>\n",
              "    <tr>\n",
              "      <th>...</th>\n",
              "      <td>...</td>\n",
              "      <td>...</td>\n",
              "    </tr>\n",
              "    <tr>\n",
              "      <th>7608</th>\n",
              "      <td>Two giant cranes holding a bridge collapse int...</td>\n",
              "      <td>Two giant cranes holding a bridge collapse int...</td>\n",
              "    </tr>\n",
              "    <tr>\n",
              "      <th>7609</th>\n",
              "      <td>@aria_ahrary @TheTawniest The out of control w...</td>\n",
              "      <td>@aria_ahrary @TheTawniest The out of control w...</td>\n",
              "    </tr>\n",
              "    <tr>\n",
              "      <th>7610</th>\n",
              "      <td>M1.94 [01:04 UTC]?5km S of Volcano Hawaii. htt...</td>\n",
              "      <td>M1.94 [01:04 UTC]?5km S of Volcano Hawaii. htt...</td>\n",
              "    </tr>\n",
              "    <tr>\n",
              "      <th>7611</th>\n",
              "      <td>Police investigating after an e-bike collided ...</td>\n",
              "      <td>Police investigating after an e-bike collided ...</td>\n",
              "    </tr>\n",
              "    <tr>\n",
              "      <th>7612</th>\n",
              "      <td>The Latest: More Homes Razed by Northern Calif...</td>\n",
              "      <td>The Latest: More Homes Razed by Northern Calif...</td>\n",
              "    </tr>\n",
              "  </tbody>\n",
              "</table>\n",
              "<p>7613 rows × 2 columns</p>\n",
              "</div>\n",
              "      <button class=\"colab-df-convert\" onclick=\"convertToInteractive('df-5d15a3f6-2745-4314-a3c8-aafafac91d21')\"\n",
              "              title=\"Convert this dataframe to an interactive table.\"\n",
              "              style=\"display:none;\">\n",
              "        \n",
              "  <svg xmlns=\"http://www.w3.org/2000/svg\" height=\"24px\"viewBox=\"0 0 24 24\"\n",
              "       width=\"24px\">\n",
              "    <path d=\"M0 0h24v24H0V0z\" fill=\"none\"/>\n",
              "    <path d=\"M18.56 5.44l.94 2.06.94-2.06 2.06-.94-2.06-.94-.94-2.06-.94 2.06-2.06.94zm-11 1L8.5 8.5l.94-2.06 2.06-.94-2.06-.94L8.5 2.5l-.94 2.06-2.06.94zm10 10l.94 2.06.94-2.06 2.06-.94-2.06-.94-.94-2.06-.94 2.06-2.06.94z\"/><path d=\"M17.41 7.96l-1.37-1.37c-.4-.4-.92-.59-1.43-.59-.52 0-1.04.2-1.43.59L10.3 9.45l-7.72 7.72c-.78.78-.78 2.05 0 2.83L4 21.41c.39.39.9.59 1.41.59.51 0 1.02-.2 1.41-.59l7.78-7.78 2.81-2.81c.8-.78.8-2.07 0-2.86zM5.41 20L4 18.59l7.72-7.72 1.47 1.35L5.41 20z\"/>\n",
              "  </svg>\n",
              "      </button>\n",
              "      \n",
              "  <style>\n",
              "    .colab-df-container {\n",
              "      display:flex;\n",
              "      flex-wrap:wrap;\n",
              "      gap: 12px;\n",
              "    }\n",
              "\n",
              "    .colab-df-convert {\n",
              "      background-color: #E8F0FE;\n",
              "      border: none;\n",
              "      border-radius: 50%;\n",
              "      cursor: pointer;\n",
              "      display: none;\n",
              "      fill: #1967D2;\n",
              "      height: 32px;\n",
              "      padding: 0 0 0 0;\n",
              "      width: 32px;\n",
              "    }\n",
              "\n",
              "    .colab-df-convert:hover {\n",
              "      background-color: #E2EBFA;\n",
              "      box-shadow: 0px 1px 2px rgba(60, 64, 67, 0.3), 0px 1px 3px 1px rgba(60, 64, 67, 0.15);\n",
              "      fill: #174EA6;\n",
              "    }\n",
              "\n",
              "    [theme=dark] .colab-df-convert {\n",
              "      background-color: #3B4455;\n",
              "      fill: #D2E3FC;\n",
              "    }\n",
              "\n",
              "    [theme=dark] .colab-df-convert:hover {\n",
              "      background-color: #434B5C;\n",
              "      box-shadow: 0px 1px 3px 1px rgba(0, 0, 0, 0.15);\n",
              "      filter: drop-shadow(0px 1px 2px rgba(0, 0, 0, 0.3));\n",
              "      fill: #FFFFFF;\n",
              "    }\n",
              "  </style>\n",
              "\n",
              "      <script>\n",
              "        const buttonEl =\n",
              "          document.querySelector('#df-5d15a3f6-2745-4314-a3c8-aafafac91d21 button.colab-df-convert');\n",
              "        buttonEl.style.display =\n",
              "          google.colab.kernel.accessAllowed ? 'block' : 'none';\n",
              "\n",
              "        async function convertToInteractive(key) {\n",
              "          const element = document.querySelector('#df-5d15a3f6-2745-4314-a3c8-aafafac91d21');\n",
              "          const dataTable =\n",
              "            await google.colab.kernel.invokeFunction('convertToInteractive',\n",
              "                                                     [key], {});\n",
              "          if (!dataTable) return;\n",
              "\n",
              "          const docLinkHtml = 'Like what you see? Visit the ' +\n",
              "            '<a target=\"_blank\" href=https://colab.research.google.com/notebooks/data_table.ipynb>data table notebook</a>'\n",
              "            + ' to learn more about interactive tables.';\n",
              "          element.innerHTML = '';\n",
              "          dataTable['output_type'] = 'display_data';\n",
              "          await google.colab.output.renderOutput(dataTable, element);\n",
              "          const docLink = document.createElement('div');\n",
              "          docLink.innerHTML = docLinkHtml;\n",
              "          element.appendChild(docLink);\n",
              "        }\n",
              "      </script>\n",
              "    </div>\n",
              "  </div>\n",
              "  "
            ],
            "text/plain": [
              "                                                   text                                       cleaned_text\n",
              "0     Our Deeds are the Reason of this #earthquake M...  Our Deeds are the Reason of this #earthquake M...\n",
              "1                Forest fire near La Ronge Sask. Canada             Forest fire near La Ronge Sask. Canada\n",
              "2     All residents asked to 'shelter in place' are ...  All residents asked to 'shelter in place' are ...\n",
              "3     13,000 people receive #wildfires evacuation or...  13,000 people receive #wildfires evacuation or...\n",
              "4     Just got sent this photo from Ruby #Alaska as ...  Just got sent this photo from Ruby #Alaska as ...\n",
              "...                                                 ...                                                ...\n",
              "7608  Two giant cranes holding a bridge collapse int...  Two giant cranes holding a bridge collapse int...\n",
              "7609  @aria_ahrary @TheTawniest The out of control w...  @aria_ahrary @TheTawniest The out of control w...\n",
              "7610  M1.94 [01:04 UTC]?5km S of Volcano Hawaii. htt...  M1.94 [01:04 UTC]?5km S of Volcano Hawaii. htt...\n",
              "7611  Police investigating after an e-bike collided ...  Police investigating after an e-bike collided ...\n",
              "7612  The Latest: More Homes Razed by Northern Calif...  The Latest: More Homes Razed by Northern Calif...\n",
              "\n",
              "[7613 rows x 2 columns]"
            ]
          },
          "metadata": {},
          "execution_count": 30
        }
      ]
    },
    {
      "cell_type": "code",
      "source": [
        "df_test[['text', 'cleaned_text']]"
      ],
      "metadata": {
        "colab": {
          "base_uri": "https://localhost:8080/",
          "height": 424
        },
        "id": "mWJpcarDyF7J",
        "outputId": "313d0432-8714-403d-e55c-78a7fa8e9a2d"
      },
      "execution_count": null,
      "outputs": [
        {
          "output_type": "execute_result",
          "data": {
            "text/html": [
              "\n",
              "  <div id=\"df-e8fc492e-8d18-429c-a7ed-d9e2700b0b39\">\n",
              "    <div class=\"colab-df-container\">\n",
              "      <div>\n",
              "<style scoped>\n",
              "    .dataframe tbody tr th:only-of-type {\n",
              "        vertical-align: middle;\n",
              "    }\n",
              "\n",
              "    .dataframe tbody tr th {\n",
              "        vertical-align: top;\n",
              "    }\n",
              "\n",
              "    .dataframe thead th {\n",
              "        text-align: right;\n",
              "    }\n",
              "</style>\n",
              "<table border=\"1\" class=\"dataframe\">\n",
              "  <thead>\n",
              "    <tr style=\"text-align: right;\">\n",
              "      <th></th>\n",
              "      <th>text</th>\n",
              "      <th>cleaned_text</th>\n",
              "    </tr>\n",
              "  </thead>\n",
              "  <tbody>\n",
              "    <tr>\n",
              "      <th>0</th>\n",
              "      <td>Just happened a terrible car crash</td>\n",
              "      <td>Just happened a terrible car crash</td>\n",
              "    </tr>\n",
              "    <tr>\n",
              "      <th>1</th>\n",
              "      <td>Heard about #earthquake is different cities, s...</td>\n",
              "      <td>Heard about #earthquake is different cities, s...</td>\n",
              "    </tr>\n",
              "    <tr>\n",
              "      <th>2</th>\n",
              "      <td>there is a forest fire at spot pond, geese are...</td>\n",
              "      <td>there is a forest fire at spot pond, geese are...</td>\n",
              "    </tr>\n",
              "    <tr>\n",
              "      <th>3</th>\n",
              "      <td>Apocalypse lighting. #Spokane #wildfires</td>\n",
              "      <td>Apocalypse lighting. #Spokane #wildfires</td>\n",
              "    </tr>\n",
              "    <tr>\n",
              "      <th>4</th>\n",
              "      <td>Typhoon Soudelor kills 28 in China and Taiwan</td>\n",
              "      <td>Typhoon Soudelor kills 28 in China and Taiwan</td>\n",
              "    </tr>\n",
              "    <tr>\n",
              "      <th>...</th>\n",
              "      <td>...</td>\n",
              "      <td>...</td>\n",
              "    </tr>\n",
              "    <tr>\n",
              "      <th>3258</th>\n",
              "      <td>EARTHQUAKE SAFETY LOS ANGELES ÛÒ SAFETY FASTE...</td>\n",
              "      <td>EARTHQUAKE SAFETY LOS ANGELES ÛÒ SAFETY FASTE...</td>\n",
              "    </tr>\n",
              "    <tr>\n",
              "      <th>3259</th>\n",
              "      <td>Storm in RI worse than last hurricane. My city...</td>\n",
              "      <td>Storm in RI worse than last hurricane. My city...</td>\n",
              "    </tr>\n",
              "    <tr>\n",
              "      <th>3260</th>\n",
              "      <td>Green Line derailment in Chicago http://t.co/U...</td>\n",
              "      <td>Green Line derailment in Chicago http://t.co/U...</td>\n",
              "    </tr>\n",
              "    <tr>\n",
              "      <th>3261</th>\n",
              "      <td>MEG issues Hazardous Weather Outlook (HWO) htt...</td>\n",
              "      <td>MEG issues Hazardous Weather Outlook (HWO) htt...</td>\n",
              "    </tr>\n",
              "    <tr>\n",
              "      <th>3262</th>\n",
              "      <td>#CityofCalgary has activated its Municipal Eme...</td>\n",
              "      <td>#CityofCalgary has activated its Municipal Eme...</td>\n",
              "    </tr>\n",
              "  </tbody>\n",
              "</table>\n",
              "<p>3263 rows × 2 columns</p>\n",
              "</div>\n",
              "      <button class=\"colab-df-convert\" onclick=\"convertToInteractive('df-e8fc492e-8d18-429c-a7ed-d9e2700b0b39')\"\n",
              "              title=\"Convert this dataframe to an interactive table.\"\n",
              "              style=\"display:none;\">\n",
              "        \n",
              "  <svg xmlns=\"http://www.w3.org/2000/svg\" height=\"24px\"viewBox=\"0 0 24 24\"\n",
              "       width=\"24px\">\n",
              "    <path d=\"M0 0h24v24H0V0z\" fill=\"none\"/>\n",
              "    <path d=\"M18.56 5.44l.94 2.06.94-2.06 2.06-.94-2.06-.94-.94-2.06-.94 2.06-2.06.94zm-11 1L8.5 8.5l.94-2.06 2.06-.94-2.06-.94L8.5 2.5l-.94 2.06-2.06.94zm10 10l.94 2.06.94-2.06 2.06-.94-2.06-.94-.94-2.06-.94 2.06-2.06.94z\"/><path d=\"M17.41 7.96l-1.37-1.37c-.4-.4-.92-.59-1.43-.59-.52 0-1.04.2-1.43.59L10.3 9.45l-7.72 7.72c-.78.78-.78 2.05 0 2.83L4 21.41c.39.39.9.59 1.41.59.51 0 1.02-.2 1.41-.59l7.78-7.78 2.81-2.81c.8-.78.8-2.07 0-2.86zM5.41 20L4 18.59l7.72-7.72 1.47 1.35L5.41 20z\"/>\n",
              "  </svg>\n",
              "      </button>\n",
              "      \n",
              "  <style>\n",
              "    .colab-df-container {\n",
              "      display:flex;\n",
              "      flex-wrap:wrap;\n",
              "      gap: 12px;\n",
              "    }\n",
              "\n",
              "    .colab-df-convert {\n",
              "      background-color: #E8F0FE;\n",
              "      border: none;\n",
              "      border-radius: 50%;\n",
              "      cursor: pointer;\n",
              "      display: none;\n",
              "      fill: #1967D2;\n",
              "      height: 32px;\n",
              "      padding: 0 0 0 0;\n",
              "      width: 32px;\n",
              "    }\n",
              "\n",
              "    .colab-df-convert:hover {\n",
              "      background-color: #E2EBFA;\n",
              "      box-shadow: 0px 1px 2px rgba(60, 64, 67, 0.3), 0px 1px 3px 1px rgba(60, 64, 67, 0.15);\n",
              "      fill: #174EA6;\n",
              "    }\n",
              "\n",
              "    [theme=dark] .colab-df-convert {\n",
              "      background-color: #3B4455;\n",
              "      fill: #D2E3FC;\n",
              "    }\n",
              "\n",
              "    [theme=dark] .colab-df-convert:hover {\n",
              "      background-color: #434B5C;\n",
              "      box-shadow: 0px 1px 3px 1px rgba(0, 0, 0, 0.15);\n",
              "      filter: drop-shadow(0px 1px 2px rgba(0, 0, 0, 0.3));\n",
              "      fill: #FFFFFF;\n",
              "    }\n",
              "  </style>\n",
              "\n",
              "      <script>\n",
              "        const buttonEl =\n",
              "          document.querySelector('#df-e8fc492e-8d18-429c-a7ed-d9e2700b0b39 button.colab-df-convert');\n",
              "        buttonEl.style.display =\n",
              "          google.colab.kernel.accessAllowed ? 'block' : 'none';\n",
              "\n",
              "        async function convertToInteractive(key) {\n",
              "          const element = document.querySelector('#df-e8fc492e-8d18-429c-a7ed-d9e2700b0b39');\n",
              "          const dataTable =\n",
              "            await google.colab.kernel.invokeFunction('convertToInteractive',\n",
              "                                                     [key], {});\n",
              "          if (!dataTable) return;\n",
              "\n",
              "          const docLinkHtml = 'Like what you see? Visit the ' +\n",
              "            '<a target=\"_blank\" href=https://colab.research.google.com/notebooks/data_table.ipynb>data table notebook</a>'\n",
              "            + ' to learn more about interactive tables.';\n",
              "          element.innerHTML = '';\n",
              "          dataTable['output_type'] = 'display_data';\n",
              "          await google.colab.output.renderOutput(dataTable, element);\n",
              "          const docLink = document.createElement('div');\n",
              "          docLink.innerHTML = docLinkHtml;\n",
              "          element.appendChild(docLink);\n",
              "        }\n",
              "      </script>\n",
              "    </div>\n",
              "  </div>\n",
              "  "
            ],
            "text/plain": [
              "                                                   text                                       cleaned_text\n",
              "0                    Just happened a terrible car crash                 Just happened a terrible car crash\n",
              "1     Heard about #earthquake is different cities, s...  Heard about #earthquake is different cities, s...\n",
              "2     there is a forest fire at spot pond, geese are...  there is a forest fire at spot pond, geese are...\n",
              "3              Apocalypse lighting. #Spokane #wildfires           Apocalypse lighting. #Spokane #wildfires\n",
              "4         Typhoon Soudelor kills 28 in China and Taiwan      Typhoon Soudelor kills 28 in China and Taiwan\n",
              "...                                                 ...                                                ...\n",
              "3258  EARTHQUAKE SAFETY LOS ANGELES ÛÒ SAFETY FASTE...  EARTHQUAKE SAFETY LOS ANGELES ÛÒ SAFETY FASTE...\n",
              "3259  Storm in RI worse than last hurricane. My city...  Storm in RI worse than last hurricane. My city...\n",
              "3260  Green Line derailment in Chicago http://t.co/U...  Green Line derailment in Chicago http://t.co/U...\n",
              "3261  MEG issues Hazardous Weather Outlook (HWO) htt...  MEG issues Hazardous Weather Outlook (HWO) htt...\n",
              "3262  #CityofCalgary has activated its Municipal Eme...  #CityofCalgary has activated its Municipal Eme...\n",
              "\n",
              "[3263 rows x 2 columns]"
            ]
          },
          "metadata": {},
          "execution_count": 31
        }
      ]
    },
    {
      "cell_type": "code",
      "source": [
        "def clean_tweets(tweet):\n",
        "  \n",
        "  #remove uni-code characters and lower case the tweets\n",
        "  tweet = re.sub(text_cleaning_regex, ' ', str(tweet).lower()).strip()\n",
        "\n",
        "  # remove numbers from text\n",
        "  tweet = re.sub(r'\\d+', '', tweet)\n",
        "\n",
        "  #stemming\n",
        "  tweet = stemmer.stem(tweet)\n",
        "\n",
        "  #remove stop words\n",
        "  stop = stopwords.words('english')\n",
        "  tweet = \" \".join([word for word in tweet.split() if word not in (stop)])\n",
        "\n",
        "  #apply tokenization\n",
        "  tweet = re.split('\\W+',tweet)\n",
        "\n",
        "  # return \" \".join(\" \".join(tweet).split())\n",
        "  return tweet\n",
        "\n",
        "df_train['cleaned_text'] = df_train['text'].apply(lambda x: clean_tweets(x) )\n",
        "df_test['cleaned_text'] = df_test['text'].apply(lambda x: clean_tweets(x) )\n",
        "\n"
      ],
      "metadata": {
        "id": "uQHZgR6bPcyA"
      },
      "execution_count": null,
      "outputs": []
    },
    {
      "cell_type": "code",
      "source": [
        "df_train[['text', 'cleaned_text']]"
      ],
      "metadata": {
        "colab": {
          "base_uri": "https://localhost:8080/",
          "height": 424
        },
        "id": "4jNMGmi5V6j1",
        "outputId": "19e91925-d10e-418f-bb08-b5698e4c8093"
      },
      "execution_count": null,
      "outputs": [
        {
          "output_type": "execute_result",
          "data": {
            "text/html": [
              "\n",
              "  <div id=\"df-3e013589-34f0-40ff-b75b-89935188fc1f\">\n",
              "    <div class=\"colab-df-container\">\n",
              "      <div>\n",
              "<style scoped>\n",
              "    .dataframe tbody tr th:only-of-type {\n",
              "        vertical-align: middle;\n",
              "    }\n",
              "\n",
              "    .dataframe tbody tr th {\n",
              "        vertical-align: top;\n",
              "    }\n",
              "\n",
              "    .dataframe thead th {\n",
              "        text-align: right;\n",
              "    }\n",
              "</style>\n",
              "<table border=\"1\" class=\"dataframe\">\n",
              "  <thead>\n",
              "    <tr style=\"text-align: right;\">\n",
              "      <th></th>\n",
              "      <th>text</th>\n",
              "      <th>cleaned_text</th>\n",
              "    </tr>\n",
              "  </thead>\n",
              "  <tbody>\n",
              "    <tr>\n",
              "      <th>0</th>\n",
              "      <td>Our Deeds are the Reason of this #earthquake M...</td>\n",
              "      <td>[deeds, reason, earthquake, may, allah, forgiv...</td>\n",
              "    </tr>\n",
              "    <tr>\n",
              "      <th>1</th>\n",
              "      <td>Forest fire near La Ronge Sask. Canada</td>\n",
              "      <td>[forest, fire, near, la, ronge, sask, canada]</td>\n",
              "    </tr>\n",
              "    <tr>\n",
              "      <th>2</th>\n",
              "      <td>All residents asked to 'shelter in place' are ...</td>\n",
              "      <td>[residents, asked, shelter, place, notified, o...</td>\n",
              "    </tr>\n",
              "    <tr>\n",
              "      <th>3</th>\n",
              "      <td>13,000 people receive #wildfires evacuation or...</td>\n",
              "      <td>[people, receive, wildfires, evacuation, order...</td>\n",
              "    </tr>\n",
              "    <tr>\n",
              "      <th>4</th>\n",
              "      <td>Just got sent this photo from Ruby #Alaska as ...</td>\n",
              "      <td>[got, sent, photo, ruby, alaska, smoke, wildfi...</td>\n",
              "    </tr>\n",
              "    <tr>\n",
              "      <th>...</th>\n",
              "      <td>...</td>\n",
              "      <td>...</td>\n",
              "    </tr>\n",
              "    <tr>\n",
              "      <th>7608</th>\n",
              "      <td>Two giant cranes holding a bridge collapse int...</td>\n",
              "      <td>[two, giant, cranes, holding, bridge, collapse...</td>\n",
              "    </tr>\n",
              "    <tr>\n",
              "      <th>7609</th>\n",
              "      <td>@aria_ahrary @TheTawniest The out of control w...</td>\n",
              "      <td>[aria, ahrary, thetawniest, control, wild, fir...</td>\n",
              "    </tr>\n",
              "    <tr>\n",
              "      <th>7610</th>\n",
              "      <td>M1.94 [01:04 UTC]?5km S of Volcano Hawaii. htt...</td>\n",
              "      <td>[utc, km, volcano, hawaii, http, co, zdtoydebj]</td>\n",
              "    </tr>\n",
              "    <tr>\n",
              "      <th>7611</th>\n",
              "      <td>Police investigating after an e-bike collided ...</td>\n",
              "      <td>[police, investigating, e, bike, collided, car...</td>\n",
              "    </tr>\n",
              "    <tr>\n",
              "      <th>7612</th>\n",
              "      <td>The Latest: More Homes Razed by Northern Calif...</td>\n",
              "      <td>[latest, homes, razed, northern, california, w...</td>\n",
              "    </tr>\n",
              "  </tbody>\n",
              "</table>\n",
              "<p>7613 rows × 2 columns</p>\n",
              "</div>\n",
              "      <button class=\"colab-df-convert\" onclick=\"convertToInteractive('df-3e013589-34f0-40ff-b75b-89935188fc1f')\"\n",
              "              title=\"Convert this dataframe to an interactive table.\"\n",
              "              style=\"display:none;\">\n",
              "        \n",
              "  <svg xmlns=\"http://www.w3.org/2000/svg\" height=\"24px\"viewBox=\"0 0 24 24\"\n",
              "       width=\"24px\">\n",
              "    <path d=\"M0 0h24v24H0V0z\" fill=\"none\"/>\n",
              "    <path d=\"M18.56 5.44l.94 2.06.94-2.06 2.06-.94-2.06-.94-.94-2.06-.94 2.06-2.06.94zm-11 1L8.5 8.5l.94-2.06 2.06-.94-2.06-.94L8.5 2.5l-.94 2.06-2.06.94zm10 10l.94 2.06.94-2.06 2.06-.94-2.06-.94-.94-2.06-.94 2.06-2.06.94z\"/><path d=\"M17.41 7.96l-1.37-1.37c-.4-.4-.92-.59-1.43-.59-.52 0-1.04.2-1.43.59L10.3 9.45l-7.72 7.72c-.78.78-.78 2.05 0 2.83L4 21.41c.39.39.9.59 1.41.59.51 0 1.02-.2 1.41-.59l7.78-7.78 2.81-2.81c.8-.78.8-2.07 0-2.86zM5.41 20L4 18.59l7.72-7.72 1.47 1.35L5.41 20z\"/>\n",
              "  </svg>\n",
              "      </button>\n",
              "      \n",
              "  <style>\n",
              "    .colab-df-container {\n",
              "      display:flex;\n",
              "      flex-wrap:wrap;\n",
              "      gap: 12px;\n",
              "    }\n",
              "\n",
              "    .colab-df-convert {\n",
              "      background-color: #E8F0FE;\n",
              "      border: none;\n",
              "      border-radius: 50%;\n",
              "      cursor: pointer;\n",
              "      display: none;\n",
              "      fill: #1967D2;\n",
              "      height: 32px;\n",
              "      padding: 0 0 0 0;\n",
              "      width: 32px;\n",
              "    }\n",
              "\n",
              "    .colab-df-convert:hover {\n",
              "      background-color: #E2EBFA;\n",
              "      box-shadow: 0px 1px 2px rgba(60, 64, 67, 0.3), 0px 1px 3px 1px rgba(60, 64, 67, 0.15);\n",
              "      fill: #174EA6;\n",
              "    }\n",
              "\n",
              "    [theme=dark] .colab-df-convert {\n",
              "      background-color: #3B4455;\n",
              "      fill: #D2E3FC;\n",
              "    }\n",
              "\n",
              "    [theme=dark] .colab-df-convert:hover {\n",
              "      background-color: #434B5C;\n",
              "      box-shadow: 0px 1px 3px 1px rgba(0, 0, 0, 0.15);\n",
              "      filter: drop-shadow(0px 1px 2px rgba(0, 0, 0, 0.3));\n",
              "      fill: #FFFFFF;\n",
              "    }\n",
              "  </style>\n",
              "\n",
              "      <script>\n",
              "        const buttonEl =\n",
              "          document.querySelector('#df-3e013589-34f0-40ff-b75b-89935188fc1f button.colab-df-convert');\n",
              "        buttonEl.style.display =\n",
              "          google.colab.kernel.accessAllowed ? 'block' : 'none';\n",
              "\n",
              "        async function convertToInteractive(key) {\n",
              "          const element = document.querySelector('#df-3e013589-34f0-40ff-b75b-89935188fc1f');\n",
              "          const dataTable =\n",
              "            await google.colab.kernel.invokeFunction('convertToInteractive',\n",
              "                                                     [key], {});\n",
              "          if (!dataTable) return;\n",
              "\n",
              "          const docLinkHtml = 'Like what you see? Visit the ' +\n",
              "            '<a target=\"_blank\" href=https://colab.research.google.com/notebooks/data_table.ipynb>data table notebook</a>'\n",
              "            + ' to learn more about interactive tables.';\n",
              "          element.innerHTML = '';\n",
              "          dataTable['output_type'] = 'display_data';\n",
              "          await google.colab.output.renderOutput(dataTable, element);\n",
              "          const docLink = document.createElement('div');\n",
              "          docLink.innerHTML = docLinkHtml;\n",
              "          element.appendChild(docLink);\n",
              "        }\n",
              "      </script>\n",
              "    </div>\n",
              "  </div>\n",
              "  "
            ],
            "text/plain": [
              "                                                   text                                       cleaned_text\n",
              "0     Our Deeds are the Reason of this #earthquake M...  [deeds, reason, earthquake, may, allah, forgiv...\n",
              "1                Forest fire near La Ronge Sask. Canada      [forest, fire, near, la, ronge, sask, canada]\n",
              "2     All residents asked to 'shelter in place' are ...  [residents, asked, shelter, place, notified, o...\n",
              "3     13,000 people receive #wildfires evacuation or...  [people, receive, wildfires, evacuation, order...\n",
              "4     Just got sent this photo from Ruby #Alaska as ...  [got, sent, photo, ruby, alaska, smoke, wildfi...\n",
              "...                                                 ...                                                ...\n",
              "7608  Two giant cranes holding a bridge collapse int...  [two, giant, cranes, holding, bridge, collapse...\n",
              "7609  @aria_ahrary @TheTawniest The out of control w...  [aria, ahrary, thetawniest, control, wild, fir...\n",
              "7610  M1.94 [01:04 UTC]?5km S of Volcano Hawaii. htt...    [utc, km, volcano, hawaii, http, co, zdtoydebj]\n",
              "7611  Police investigating after an e-bike collided ...  [police, investigating, e, bike, collided, car...\n",
              "7612  The Latest: More Homes Razed by Northern Calif...  [latest, homes, razed, northern, california, w...\n",
              "\n",
              "[7613 rows x 2 columns]"
            ]
          },
          "metadata": {},
          "execution_count": 33
        }
      ]
    },
    {
      "cell_type": "code",
      "source": [
        "df_test[['text', 'cleaned_text']]"
      ],
      "metadata": {
        "colab": {
          "base_uri": "https://localhost:8080/",
          "height": 424
        },
        "outputId": "5c1c201a-6546-44d2-b5f7-21832dbf65c9",
        "id": "3uBUiXZvzM_d"
      },
      "execution_count": null,
      "outputs": [
        {
          "output_type": "execute_result",
          "data": {
            "text/html": [
              "\n",
              "  <div id=\"df-a9e13715-29f1-4411-a948-f887be4778b3\">\n",
              "    <div class=\"colab-df-container\">\n",
              "      <div>\n",
              "<style scoped>\n",
              "    .dataframe tbody tr th:only-of-type {\n",
              "        vertical-align: middle;\n",
              "    }\n",
              "\n",
              "    .dataframe tbody tr th {\n",
              "        vertical-align: top;\n",
              "    }\n",
              "\n",
              "    .dataframe thead th {\n",
              "        text-align: right;\n",
              "    }\n",
              "</style>\n",
              "<table border=\"1\" class=\"dataframe\">\n",
              "  <thead>\n",
              "    <tr style=\"text-align: right;\">\n",
              "      <th></th>\n",
              "      <th>text</th>\n",
              "      <th>cleaned_text</th>\n",
              "    </tr>\n",
              "  </thead>\n",
              "  <tbody>\n",
              "    <tr>\n",
              "      <th>0</th>\n",
              "      <td>Just happened a terrible car crash</td>\n",
              "      <td>[happened, terrible, car, crash]</td>\n",
              "    </tr>\n",
              "    <tr>\n",
              "      <th>1</th>\n",
              "      <td>Heard about #earthquake is different cities, s...</td>\n",
              "      <td>[heard, earthquake, different, cities, stay, s...</td>\n",
              "    </tr>\n",
              "    <tr>\n",
              "      <th>2</th>\n",
              "      <td>there is a forest fire at spot pond, geese are...</td>\n",
              "      <td>[forest, fire, spot, pond, geese, fleeing, acr...</td>\n",
              "    </tr>\n",
              "    <tr>\n",
              "      <th>3</th>\n",
              "      <td>Apocalypse lighting. #Spokane #wildfires</td>\n",
              "      <td>[apocalypse, lighting, spokane, wildfir]</td>\n",
              "    </tr>\n",
              "    <tr>\n",
              "      <th>4</th>\n",
              "      <td>Typhoon Soudelor kills 28 in China and Taiwan</td>\n",
              "      <td>[typhoon, soudelor, kills, china, taiwan]</td>\n",
              "    </tr>\n",
              "    <tr>\n",
              "      <th>...</th>\n",
              "      <td>...</td>\n",
              "      <td>...</td>\n",
              "    </tr>\n",
              "    <tr>\n",
              "      <th>3258</th>\n",
              "      <td>EARTHQUAKE SAFETY LOS ANGELES ÛÒ SAFETY FASTE...</td>\n",
              "      <td>[earthquake, safety, los, angeles, safety, fas...</td>\n",
              "    </tr>\n",
              "    <tr>\n",
              "      <th>3259</th>\n",
              "      <td>Storm in RI worse than last hurricane. My city...</td>\n",
              "      <td>[storm, ri, worse, last, hurricane, city, amp,...</td>\n",
              "    </tr>\n",
              "    <tr>\n",
              "      <th>3260</th>\n",
              "      <td>Green Line derailment in Chicago http://t.co/U...</td>\n",
              "      <td>[green, line, derailment, chicago, http, co, u...</td>\n",
              "    </tr>\n",
              "    <tr>\n",
              "      <th>3261</th>\n",
              "      <td>MEG issues Hazardous Weather Outlook (HWO) htt...</td>\n",
              "      <td>[meg, issues, hazardous, weather, outlook, hwo...</td>\n",
              "    </tr>\n",
              "    <tr>\n",
              "      <th>3262</th>\n",
              "      <td>#CityofCalgary has activated its Municipal Eme...</td>\n",
              "      <td>[cityofcalgary, activated, municipal, emergenc...</td>\n",
              "    </tr>\n",
              "  </tbody>\n",
              "</table>\n",
              "<p>3263 rows × 2 columns</p>\n",
              "</div>\n",
              "      <button class=\"colab-df-convert\" onclick=\"convertToInteractive('df-a9e13715-29f1-4411-a948-f887be4778b3')\"\n",
              "              title=\"Convert this dataframe to an interactive table.\"\n",
              "              style=\"display:none;\">\n",
              "        \n",
              "  <svg xmlns=\"http://www.w3.org/2000/svg\" height=\"24px\"viewBox=\"0 0 24 24\"\n",
              "       width=\"24px\">\n",
              "    <path d=\"M0 0h24v24H0V0z\" fill=\"none\"/>\n",
              "    <path d=\"M18.56 5.44l.94 2.06.94-2.06 2.06-.94-2.06-.94-.94-2.06-.94 2.06-2.06.94zm-11 1L8.5 8.5l.94-2.06 2.06-.94-2.06-.94L8.5 2.5l-.94 2.06-2.06.94zm10 10l.94 2.06.94-2.06 2.06-.94-2.06-.94-.94-2.06-.94 2.06-2.06.94z\"/><path d=\"M17.41 7.96l-1.37-1.37c-.4-.4-.92-.59-1.43-.59-.52 0-1.04.2-1.43.59L10.3 9.45l-7.72 7.72c-.78.78-.78 2.05 0 2.83L4 21.41c.39.39.9.59 1.41.59.51 0 1.02-.2 1.41-.59l7.78-7.78 2.81-2.81c.8-.78.8-2.07 0-2.86zM5.41 20L4 18.59l7.72-7.72 1.47 1.35L5.41 20z\"/>\n",
              "  </svg>\n",
              "      </button>\n",
              "      \n",
              "  <style>\n",
              "    .colab-df-container {\n",
              "      display:flex;\n",
              "      flex-wrap:wrap;\n",
              "      gap: 12px;\n",
              "    }\n",
              "\n",
              "    .colab-df-convert {\n",
              "      background-color: #E8F0FE;\n",
              "      border: none;\n",
              "      border-radius: 50%;\n",
              "      cursor: pointer;\n",
              "      display: none;\n",
              "      fill: #1967D2;\n",
              "      height: 32px;\n",
              "      padding: 0 0 0 0;\n",
              "      width: 32px;\n",
              "    }\n",
              "\n",
              "    .colab-df-convert:hover {\n",
              "      background-color: #E2EBFA;\n",
              "      box-shadow: 0px 1px 2px rgba(60, 64, 67, 0.3), 0px 1px 3px 1px rgba(60, 64, 67, 0.15);\n",
              "      fill: #174EA6;\n",
              "    }\n",
              "\n",
              "    [theme=dark] .colab-df-convert {\n",
              "      background-color: #3B4455;\n",
              "      fill: #D2E3FC;\n",
              "    }\n",
              "\n",
              "    [theme=dark] .colab-df-convert:hover {\n",
              "      background-color: #434B5C;\n",
              "      box-shadow: 0px 1px 3px 1px rgba(0, 0, 0, 0.15);\n",
              "      filter: drop-shadow(0px 1px 2px rgba(0, 0, 0, 0.3));\n",
              "      fill: #FFFFFF;\n",
              "    }\n",
              "  </style>\n",
              "\n",
              "      <script>\n",
              "        const buttonEl =\n",
              "          document.querySelector('#df-a9e13715-29f1-4411-a948-f887be4778b3 button.colab-df-convert');\n",
              "        buttonEl.style.display =\n",
              "          google.colab.kernel.accessAllowed ? 'block' : 'none';\n",
              "\n",
              "        async function convertToInteractive(key) {\n",
              "          const element = document.querySelector('#df-a9e13715-29f1-4411-a948-f887be4778b3');\n",
              "          const dataTable =\n",
              "            await google.colab.kernel.invokeFunction('convertToInteractive',\n",
              "                                                     [key], {});\n",
              "          if (!dataTable) return;\n",
              "\n",
              "          const docLinkHtml = 'Like what you see? Visit the ' +\n",
              "            '<a target=\"_blank\" href=https://colab.research.google.com/notebooks/data_table.ipynb>data table notebook</a>'\n",
              "            + ' to learn more about interactive tables.';\n",
              "          element.innerHTML = '';\n",
              "          dataTable['output_type'] = 'display_data';\n",
              "          await google.colab.output.renderOutput(dataTable, element);\n",
              "          const docLink = document.createElement('div');\n",
              "          docLink.innerHTML = docLinkHtml;\n",
              "          element.appendChild(docLink);\n",
              "        }\n",
              "      </script>\n",
              "    </div>\n",
              "  </div>\n",
              "  "
            ],
            "text/plain": [
              "                                                   text                                       cleaned_text\n",
              "0                    Just happened a terrible car crash                   [happened, terrible, car, crash]\n",
              "1     Heard about #earthquake is different cities, s...  [heard, earthquake, different, cities, stay, s...\n",
              "2     there is a forest fire at spot pond, geese are...  [forest, fire, spot, pond, geese, fleeing, acr...\n",
              "3              Apocalypse lighting. #Spokane #wildfires           [apocalypse, lighting, spokane, wildfir]\n",
              "4         Typhoon Soudelor kills 28 in China and Taiwan          [typhoon, soudelor, kills, china, taiwan]\n",
              "...                                                 ...                                                ...\n",
              "3258  EARTHQUAKE SAFETY LOS ANGELES ÛÒ SAFETY FASTE...  [earthquake, safety, los, angeles, safety, fas...\n",
              "3259  Storm in RI worse than last hurricane. My city...  [storm, ri, worse, last, hurricane, city, amp,...\n",
              "3260  Green Line derailment in Chicago http://t.co/U...  [green, line, derailment, chicago, http, co, u...\n",
              "3261  MEG issues Hazardous Weather Outlook (HWO) htt...  [meg, issues, hazardous, weather, outlook, hwo...\n",
              "3262  #CityofCalgary has activated its Municipal Eme...  [cityofcalgary, activated, municipal, emergenc...\n",
              "\n",
              "[3263 rows x 2 columns]"
            ]
          },
          "metadata": {},
          "execution_count": 34
        }
      ]
    },
    {
      "cell_type": "code",
      "source": [
        "# train and test splitting\n",
        "X_train, X_test,y_train, y_test = model_selection.train_test_split(df_train['cleaned_text'],\n",
        "                                                                   df_train['target'],\n",
        "                                                                   test_size=0.2,\n",
        "                                                                   random_state=0, \n",
        "                                                                   shuffle=True)\n",
        "print(\"Train Data size:\", len(X_train))\n",
        "print(\"Test Data size\", len(X_test))"
      ],
      "metadata": {
        "id": "mKjqYqOJ0Cc_",
        "colab": {
          "base_uri": "https://localhost:8080/"
        },
        "outputId": "081ed1fc-d211-44e2-b49f-3c3e54c768e1"
      },
      "execution_count": null,
      "outputs": [
        {
          "output_type": "stream",
          "name": "stdout",
          "text": [
            "Train Data size: 6090\n",
            "Test Data size 1523\n"
          ]
        }
      ]
    },
    {
      "cell_type": "markdown",
      "source": [
        "# Pre-Building the model"
      ],
      "metadata": {
        "id": "M8ZfDk1vxmNL"
      }
    },
    {
      "cell_type": "code",
      "source": [
        "X_train"
      ],
      "metadata": {
        "colab": {
          "base_uri": "https://localhost:8080/"
        },
        "id": "lMWNB8eLwoM-",
        "outputId": "61a1e1c5-5940-4cdd-ebe5-cf0ba90471f7"
      },
      "execution_count": null,
      "outputs": [
        {
          "output_type": "execute_result",
          "data": {
            "text/plain": [
              "1386    [ted, cruz, fires, back, jeb, amp, bush, lose,...\n",
              "4048    [first, year, forest, service, spent, half, an...\n",
              "3086    [lightseraphs, pissed, could, pikachu, electro...\n",
              "272               [gonna, fight, taylor, soon, get, ther]\n",
              "7462    [nicolaclements, sure, covering, head, wounds,...\n",
              "                              ...                        \n",
              "4931    [real, heroes, rip, brave, hearts, http, co, q...\n",
              "3264    [car, engulfed, flames, backs, traffic, parley...\n",
              "1653    [great, british, bake, back, dorret, chocolate...\n",
              "2607    [black, eye, space, battle, occurred, star, in...\n",
              "2732    [mikeparractor, absolutely, devastated, actor,...\n",
              "Name: cleaned_text, Length: 6090, dtype: object"
            ]
          },
          "metadata": {},
          "execution_count": 36
        }
      ]
    },
    {
      "cell_type": "code",
      "source": [
        "X_test"
      ],
      "metadata": {
        "colab": {
          "base_uri": "https://localhost:8080/"
        },
        "id": "sUNf18O7E85i",
        "outputId": "75f9ddaf-bb9f-4cd2-e3b4-a95101a97d41"
      },
      "execution_count": null,
      "outputs": [
        {
          "output_type": "execute_result",
          "data": {
            "text/plain": [
              "311     [katiekatcubs, already, know, shit, goes, worl...\n",
              "4970    [lemairelee, danharmon, people, near, meltdown...\n",
              "527     [tix, calgary, flames, vs, col, avalanche, pre...\n",
              "6362    [ever, think, running, choices, life, rembr, k...\n",
              "800          [dotish, blight, car, go, right, ahead, min]\n",
              "                              ...                        \n",
              "3728                        [nothing, fear, taking, risk]\n",
              "1657    [almost, collapsed, bc, said, wish, came, true...\n",
              "6367    [alfapedia, might, come, burst, bomb, making, ...\n",
              "1670             [always, super, awkward, worlds, collid]\n",
              "2839    [philippines, must, protect, internally, displ...\n",
              "Name: cleaned_text, Length: 1523, dtype: object"
            ]
          },
          "metadata": {},
          "execution_count": 37
        }
      ]
    },
    {
      "cell_type": "code",
      "source": [
        "tokenizer.fit_on_texts(X_train)\n",
        "word_index = tokenizer.word_index\n",
        "print(word_index)"
      ],
      "metadata": {
        "id": "eoQkThL-ItaA",
        "colab": {
          "base_uri": "https://localhost:8080/"
        },
        "outputId": "43c92818-34f1-4ad8-8c6a-44ab950a249a"
      },
      "execution_count": null,
      "outputs": [
        {
          "output_type": "stream",
          "name": "stdout",
          "text": [
            "{'co': 1, 'http': 2, 'https': 3, 'amp': 4, 'like': 5, 'new': 6, 'fire': 7, 'get': 8, 'via': 9, 'one': 10, 'people': 11, 'news': 12, 'emergency': 13, 'video': 14, 'u': 15, 'disaster': 16, 'would': 17, 'police': 18, 'still': 19, 'us': 20, 'california': 21, 'crash': 22, 'back': 23, 'burning': 24, 'body': 25, 'day': 26, 'got': 27, 'first': 28, 'suicide': 29, 'storm': 30, 'rt': 31, 'know': 32, 'time': 33, 'man': 34, 'today': 35, 'going': 36, 'dead': 37, 'killed': 38, 'pm': 39, 'buildings': 40, 'year': 41, 'world': 42, 'attack': 43, 'bomb': 44, 'w': 45, 'nuclear': 46, 'see': 47, 'families': 48, 'car': 49, 'fires': 50, 'full': 51, 'war': 52, 'two': 53, 'train': 54, 'hiroshima': 55, 'go': 56, 'love': 57, 'may': 58, 'gt': 59, 'good': 60, 'think': 61, 'say': 62, 'old': 63, 'best': 64, 'let': 65, 'mass': 66, 'life': 67, 'watch': 68, 'way': 69, 'many': 70, 'could': 71, 'mh': 72, 'accident': 73, 'death': 74, 'help': 75, 'another': 76, 'last': 77, 'bombing': 78, 'work': 79, 'right': 80, 'youtube': 81, 'years': 82, 'look': 83, 'need': 84, 'hot': 85, 'take': 86, 'really': 87, 'fatal': 88, 'make': 89, 'army': 90, 'even': 91, 'want': 92, 'home': 93, 'wildfire': 94, 'forest': 95, 'collapse': 96, 'great': 97, 'obama': 98, 'water': 99, 'th': 100, 'reddit': 101, 'god': 102, 'read': 103, 'never': 104, 'black': 105, 'japan': 106, 'school': 107, 'northern': 108, 'legionnaires': 109, 'much': 110, 'please': 111, 'lol': 112, 'city': 113, 'typhoon': 114, 'latest': 115, 'homes': 116, 'floods': 117, 'state': 118, 'hope': 119, 'near': 120, 'live': 121, 'im': 122, 'flood': 123, 'atomic': 124, 'feel': 125, 'said': 126, 'hit': 127, 'since': 128, 'area': 129, 'content': 130, 'thunderstorm': 131, 'bomber': 132, 'b': 133, 'fear': 134, 'everyone': 135, 'evacuation': 136, 'every': 137, 'cross': 138, 'top': 139, 'stop': 140, 'come': 141, 'oil': 142, 'truck': 143, 'wild': 144, 'weapon': 145, 'p': 146, 'destroy': 147, 'getting': 148, 'well': 149, 'shit': 150, 'ass': 151, 'weather': 152, 'malaysia': 153, 'wreck': 154, 'confirmed': 155, 'without': 156, 'flames': 157, 'injured': 158, 'loud': 159, 'rain': 160, 'r': 161, 'coming': 162, 'severe': 163, 'ever': 164, 'head': 165, 'murder': 166, 'plan': 167, 'next': 168, 'lightning': 169, 'flooding': 170, 'military': 171, 'photo': 172, 'always': 173, 'warning': 174, 'end': 175, 'bag': 176, 'found': 177, 'little': 178, 'looks': 179, 'made': 180, 'fucking': 181, 'heat': 182, 'sinking': 183, 'china': 184, 'movie': 185, 'damage': 186, 'c': 187, 'night': 188, 'red': 189, 'wounded': 190, 'high': 191, 'explosion': 192, 'times': 193, 'services': 194, 'bloody': 195, 'food': 196, 'gonna': 197, 'wind': 198, 'devastated': 199, 'hazard': 200, 'collided': 201, 'earthquake': 202, 'debris': 203, 'blood': 204, 'trapped': 205, 'summer': 206, 'around': 207, 'sinkhole': 208, 'road': 209, 'spill': 210, 'hail': 211, 'outbreak': 212, 'landslide': 213, 'weapons': 214, 'boy': 215, 'family': 216, 'big': 217, 'bad': 218, 'liked': 219, 'thank': 220, 'rescue': 221, 'report': 222, 'fall': 223, 'charged': 224, 'st': 225, 'terrorist': 226, 'keep': 227, 'cause': 228, 'run': 229, 'free': 230, 'whole': 231, 'migrants': 232, 'someone': 233, 'show': 234, 'tonight': 235, 'investigators': 236, 'wreckage': 237, 'week': 238, 'breaking': 239, 'check': 240, 'panic': 241, 'save': 242, 'missing': 243, 'women': 244, 'crush': 245, 'post': 246, 'put': 247, 'bags': 248, 'story': 249, 'smoke': 250, 'riot': 251, 'deaths': 252, 'derail': 253, 'girl': 254, 'also': 255, 'injury': 256, 'woman': 257, 'update': 258, 'derailment': 259, 'sunk': 260, 'windstorm': 261, 'terrorism': 262, 'blown': 263, 'island': 264, 'refugees': 265, 'says': 266, 'harm': 267, 'phone': 268, 'collision': 269, 'bang': 270, 'drought': 271, 'suspect': 272, 'dust': 273, 'came': 274, 'face': 275, 'natural': 276, 'august': 277, 'thing': 278, 'engulfed': 279, 'failure': 280, 'demolish': 281, 'national': 282, 'fuck': 283, 'bioterror': 284, 'rescued': 285, 'bridge': 286, 'boat': 287, 'attacked': 288, 'drown': 289, 'trauma': 290, 'white': 291, 'light': 292, 'house': 293, 'service': 294, 'half': 295, 'away': 296, 'x': 297, 'hurricane': 298, 'famine': 299, 'left': 300, 'siren': 301, 'displaced': 302, 'whirlwind': 303, 'pandemonium': 304, 'n': 305, 'send': 306, 'hijacker': 307, 'curfew': 308, 'sandstorm': 309, 'armageddon': 310, 'county': 311, 'wrecked': 312, 'thunder': 313, 'iran': 314, 'fedex': 315, 'saudi': 316, 'stock': 317, 'real': 318, 'structural': 319, 'ebay': 320, 'group': 321, 'battle': 322, 'quarantine': 323, 'must': 324, 'quarantined': 325, 'rescuers': 326, 'america': 327, 'wave': 328, 'tragedy': 329, 'catastrophe': 330, 'three': 331, 'ok': 332, 'bombed': 333, 'land': 334, 'drowning': 335, 'river': 336, 'hijacking': 337, 'air': 338, 'hundreds': 339, 'blew': 340, 'market': 341, 'hostages': 342, 'change': 343, 'massacre': 344, 'power': 345, 'soon': 346, 'heard': 347, 'affected': 348, 'officer': 349, 'oh': 350, 'km': 351, 'e': 352, 'desolation': 353, 'tsunami': 354, 'believe': 355, 'evacuate': 356, 'self': 357, 'released': 358, 'rainstorm': 359, 'plane': 360, 'things': 361, 'fir': 362, 'prebreak': 363, 'catastrophic': 364, 'ruin': 365, 'ambulance': 366, 'demolition': 367, 'volcano': 368, 'set': 369, 'rd': 370, 'saw': 371, 'injuries': 372, 'start': 373, 'blast': 374, 'least': 375, 'chemical': 376, 'cool': 377, 'past': 378, 'stay': 379, 'play': 380, 'hellfire': 381, 'arson': 382, 'long': 383, 'deluge': 384, 'kills': 385, 'anniversary': 386, 'game': 387, 'crashed': 388, 'devastation': 389, 'due': 390, 'call': 391, 'calgary': 392, 'wanna': 393, 'mosque': 394, 'derailed': 395, 'baby': 396, 'destruction': 397, 'fight': 398, 'detonate': 399, 'plans': 400, 'hijack': 401, 'yet': 402, 'lot': 403, 'inundated': 404, 'kids': 405, 'tornado': 406, 'lives': 407, 'use': 408, 'yr': 409, 'razed': 410, 'song': 411, 'isis': 412, 'collapsed': 413, 'tomorrow': 414, 'screamed': 415, 'l': 416, 'survived': 417, 'lava': 418, 'fun': 419, 'possible': 420, 'shoulder': 421, 'horrible': 422, 'bus': 423, 'minute': 424, 'detonation': 425, 'ur': 426, 'responders': 427, 'drowned': 428, 'traumatised': 429, 'government': 430, 'casualties': 431, 'sound': 432, 'survive': 433, 'airplane': 434, 'part': 435, 'survivors': 436, 'stretcher': 437, 'burned': 438, 'mudslide': 439, 'fatalities': 440, 'far': 441, 'kill': 442, 'evacuated': 443, 'officials': 444, 'cyclone': 445, 'something': 446, 'heart': 447, 'caused': 448, 'media': 449, 'electrocuted': 450, 'longer': 451, 'cliff': 452, 'traffic': 453, 'hazardous': 454, 'violent': 455, 'electrocute': 456, 'hostage': 457, 'sue': 458, 'utc': 459, 'reunion': 460, 'twister': 461, 'fatality': 462, 'india': 463, 'yes': 464, 'exploded': 465, 'better': 466, 'lt': 467, 'mp': 468, 'meltdown': 469, 'fan': 470, 'line': 471, 'lab': 472, 'south': 473, 'security': 474, 'murderer': 475, 'blight': 476, 'flattened': 477, 'danger': 478, 'snowstorm': 479, 'casualty': 480, 'bush': 481, 'nearby': 482, 'declares': 483, 'aug': 484, 'american': 485, 'thought': 486, 'obliterate': 487, 'went': 488, 'actually': 489, 'job': 490, 'tell': 491, 'offensive': 492, 'bagging': 493, 'issues': 494, 'lost': 495, 'trouble': 496, 'horror': 497, 'support': 498, 'screams': 499, 'airport': 500, 'blazing': 501, 'conclusively': 502, 'sure': 503, 'thanks': 504, 'stand': 505, 'wake': 506, 'place': 507, 'bigger': 508, 'low': 509, 'pkk': 510, 'israeli': 511, 'center': 512, 'guy': 513, 'data': 514, 'hat': 515, 'days': 516, 'upheaval': 517, 'health': 518, 'collide': 519, 'seismic': 520, 'tv': 521, 'burn': 522, 'wait': 523, 'crews': 524, 'died': 525, 'policy': 526, 'goes': 527, 'bioterrorism': 528, 'demolished': 529, 'rubble': 530, 'eyewitness': 531, 'making': 532, 'crushed': 533, 'already': 534, 'hey': 535, 'brown': 536, 'saipan': 537, 'hollywood': 538, 'abc': 539, 'care': 540, 'rioting': 541, 'islam': 542, 'k': 543, 'projected': 544, 'detonated': 545, 'west': 546, 'screaming': 547, 'country': 548, 'used': 549, 'shot': 550, 'ago': 551, 'twitter': 552, 'shooting': 553, 'peace': 554, 'beautiful': 555, 'transport': 556, 'site': 557, 'money': 558, 'second': 559, 'remember': 560, 'team': 561, 'die': 562, 'done': 563, 'hours': 564, 'listen': 565, 'person': 566, 'manslaughter': 567, 'happy': 568, 'deal': 569, 'wrong': 570, 'find': 571, 'refugio': 572, 'costlier': 573, 'turkey': 574, 'eyes': 575, 'leave': 576, 'gbbo': 577, 'probably': 578, 'destroyed': 579, 'waves': 580, 'street': 581, 'picking': 582, 'bodies': 583, 'searching': 584, 'building': 585, 'obliterated': 586, 'annihilated': 587, 'v': 588, 'children': 589, 'yeah': 590, 'leather': 591, 'soudelor': 592, 'hailstorm': 593, 'miners': 594, 'swallowed': 595, 'inside': 596, 'bestnaijamade': 597, 'property': 598, 'sensor': 599, 'win': 600, 'wounds': 601, 'music': 602, 'usa': 603, 'signs': 604, 'deluged': 605, 'rise': 606, 'trying': 607, 'everything': 608, 'control': 609, 'aircraft': 610, 'h': 611, 'bc': 612, 'youtub': 613, 'apocalypse': 614, 'pretty': 615, 'saved': 616, 'ca': 617, 'book': 618, 'north': 619, 'photos': 620, 'nearly': 621, 'texas': 622, 'effect': 623, 'reactor': 624, 'bar': 625, 'east': 626, 'pick': 627, 'hear': 628, 'scream': 629, 'anthrax': 630, 'watching': 631, 'almost': 632, 'memories': 633, 'move': 634, 'side': 635, 'australia': 636, 'words': 637, 'spot': 638, 'class': 639, 'explode': 640, 'literally': 641, 'fast': 642, 'g': 643, 'knock': 644, 'nothing': 645, 'haha': 646, 'annihilation': 647, 'mom': 648, 'guys': 649, 'follow': 650, 'sirens': 651, 'might': 652, 'major': 653, 'pay': 654, 'become': 655, 'uk': 656, 'lord': 657, 'avalanche': 658, 'makes': 659, 'arsonist': 660, 'pakistan': 661, 'myanmar': 662, 'trains': 663, 'heavy': 664, 'reuters': 665, 'star': 666, 'poor': 667, 'pic': 668, 'helicopter': 669, 'gets': 670, 'closed': 671, 'link': 672, 'computers': 673, 'blizzard': 674, 'ablaze': 675, 'online': 676, 'men': 677, 'human': 678, 'official': 679, 'angry': 680, 'cnn': 681, 'feared': 682, 'panicking': 683, 'mayhem': 684, 'ignition': 685, 'course': 686, 'mad': 687, 'obliteration': 688, 'maybe': 689, 'flag': 690, 'aftershock': 691, 'called': 692, 'appears': 693, 'bayelsa': 694, 'la': 695, 'russia': 696, 'toddler': 697, 'thousands': 698, 'zone': 699, 'miss': 700, 'space': 701, 'level': 702, 'daily': 703, 'outside': 704, 'happened': 705, 'truth': 706, 'large': 707, 'hour': 708, 'nowplaying': 709, 'action': 710, 'seen': 711, 'huge': 712, 'damn': 713, 'cake': 714, 'flash': 715, 'omg': 716, 'anyone': 717, 'mishaps': 718, 'amid': 719, 'crisis': 720, 'hell': 721, 'hate': 722, 'youth': 723, 'ladies': 724, 'banned': 725, 'bbc': 726, 'chance': 727, 'blue': 728, 'film': 729, 'beach': 730, 'feeling': 731, 'climate': 732, 'ship': 733, 'fukushima': 734, 'bleeding': 735, 'temple': 736, 'history': 737, 'desolate': 738, 'vehicle': 739, 'anything': 740, 'across': 741, 'others': 742, 'taken': 743, 'marks': 744, 'eye': 745, 'houses': 746, 'centre': 747, 'blaze': 748, 'though': 749, 'dog': 750, 'info': 751, 'caught': 752, 'issued': 753, 'turned': 754, 'reports': 755, 'talk': 756, 'germs': 757, 'dont': 758, 'sounds': 759, 'russian': 760, 'gun': 761, 'israel': 762, 'behind': 763, 'explod': 764, 'london': 765, 'coaches': 766, 'cars': 767, 'gems': 768, 'terror': 769, 'sea': 770, 'entire': 771, 'former': 772, 'wow': 773, 'till': 774, 'muslims': 775, 'mount': 776, 'reason': 777, 'public': 778, 'worst': 779, 'unconfirmed': 780, 'neighbour': 781, 'declaration': 782, 'patience': 783, 'bed': 784, 'france': 785, 'wanted': 786, 'fans': 787, 'town': 788, 'try': 789, 'tree': 790, 'view': 791, 'pain': 792, 'name': 793, 'totally': 794, 'instead': 795, 'sick': 796, 'early': 797, 'break': 798, 'hand': 799, 'rules': 800, 'funtenna': 801, 'giant': 802, 'order': 803, 'research': 804, 'fat': 805, 'favorite': 806, 'point': 807, 'flight': 808, 'needs': 809, 'expect': 810, 'friend': 811, 'disea': 812, 'downtown': 813, 'couple': 814, 'sorry': 815, 'looking': 816, 'meek': 817, 'womens': 818, 'tim': 819, 'drive': 820, 'okay': 821, 'playing': 822, 'madhya': 823, 'pradesh': 824, 'village': 825, 'dr': 826, 'drake': 827, 'pray': 828, 'sex': 829, 'christian': 830, 'mod': 831, 'sky': 832, 'child': 833, 'four': 834, 'jonathan': 835, 'richmond': 836, 'small': 837, 'finally': 838, 'image': 839, 'moment': 840, 'tweet': 841, 'quiz': 842, 'trench': 843, 'seeing': 844, 'libya': 845, 'upon': 846, 'takes': 847, 'turn': 848, 'enough': 849, 'nagasaki': 850, 'coast': 851, 'young': 852, 'arrested': 853, 'cut': 854, 'camp': 855, 'escape': 856, 'outrage': 857, 'japanese': 858, 'gave': 859, 'tote': 860, 'subreddits': 861, 'chile': 862, 'risk': 863, 'middle': 864, 'gop': 865, 'build': 866, 'added': 867, 'vs': 868, 'virgin': 869, 'galactic': 870, 'running': 871, 'room': 872, 'york': 873, 'download': 874, 'pamela': 875, 'park': 876, 'radio': 877, 'rly': 878, 'govt': 879, 'apc': 880, 'businesses': 881, 'comes': 882, 'learn': 883, 'art': 884, 'hard': 885, 'bring': 886, 'took': 887, 'mountain': 888, 'walk': 889, 'shots': 890, 'act': 891, 'trust': 892, 'friends': 893, 'landing': 894, 'canada': 895, 'press': 896, 'chicago': 897, 'bless': 898, 'earth': 899, 'shows': 900, 'playlist': 901, 'holding': 902, 'different': 903, 'felt': 904, 'buy': 905, 'department': 906, 'idea': 907, 'lmao': 908, 'scared': 909, 'nws': 910, 'planned': 911, 'mph': 912, 'potus': 913, 'dies': 914, 'green': 915, 'victim': 916, 'information': 917, 'thursday': 918, 'horse': 919, 'alarm': 920, 'taking': 921, 'case': 922, 'sitting': 923, 'non': 924, 'led': 925, 'firefighters': 926, 'likely': 927, 'pakistani': 928, 'secret': 929, 'insurance': 930, 'fashion': 931, 'brooklyn': 932, 'di': 933, 'alone': 934, 'nd': 935, 'disease': 936, 'ball': 937, 'standard': 938, 'waving': 939, 'geller': 940, 'told': 941, 'party': 942, 'following': 943, 'f': 944, 'give': 945, 'obliter': 946, 'test': 947, 'driving': 948, 'united': 949, 'de': 950, 'awesome': 951, 'amazon': 952, 'colorado': 953, 'glass': 954, 'africa': 955, 'sad': 956, 'comment': 957, 'crazy': 958, 'lies': 959, 'worry': 960, 'metal': 961, 'gold': 962, 'album': 963, 'cat': 964, 'silver': 965, 'working': 966, 'ave': 967, 'open': 968, 'lake': 969, 'strong': 970, 'investigating': 971, 'crematoria': 972, 'causes': 973, 'washington': 974, 'nigga': 975, 'morning': 976, 'map': 977, 'front': 978, 'handbag': 979, 'faux': 980, 'career': 981, 'happen': 982, 'san': 983, 'disney': 984, 'join': 985, 'series': 986, 'safety': 987, 'cold': 988, 'militants': 989, 'lady': 990, 'claims': 991, 'jobs': 992, 'islamic': 993, 'taiwan': 994, 'experts': 995, 'em': 996, 'paul': 997, 'western': 998, 'ap': 999, 'oklahoma': 1000, 'effects': 1001, 'hi': 1002, 'girls': 1003, 'soul': 1004, 'reported': 1005, 'salt': 1006, 'dance': 1007, 'thinking': 1008, 'recount': 1009, 'sign': 1010, 'nigerian': 1011, 'parole': 1012, 'saying': 1013, 'travel': 1014, 'wtf': 1015, 'apollo': 1016, 'marians': 1017, 'tension': 1018, 'pdp': 1019, 'along': 1020, 'shape': 1021, 'tried': 1022, 'company': 1023, 'internet': 1024, 'pilot': 1025, 'season': 1026, 'ice': 1027, 'driver': 1028, 'deep': 1029, 'mode': 1030, 'strike': 1031, 'weekend': 1032, 'enugu': 1033, 'international': 1034, 'president': 1035, 'cdt': 1036, 'wish': 1037, 'nyc': 1038, 'ancient': 1039, 'bombs': 1040, 'wrought': 1041, 'arianagrande': 1042, 'hair': 1043, 'cant': 1044, 'al': 1045, 'sent': 1046, 'super': 1047, 'kit': 1048, 'bay': 1049, 'gas': 1050, 'incident': 1051, 'specially': 1052, 'stadium': 1053, 'provoke': 1054, 'answer': 1055, 'date': 1056, 'dad': 1057, 'financial': 1058, 'falling': 1059, 'winds': 1060, 'helping': 1061, 'shift': 1062, 'mean': 1063, 'business': 1064, 'ashes': 1065, 'cree': 1066, 'lamp': 1067, 'aba': 1068, 'delivers': 1069, 'months': 1070, 'biggest': 1071, 'board': 1072, 'loving': 1073, 'twelve': 1074, 'disast': 1075, 'niggas': 1076, 'giving': 1077, 'fully': 1078, 'petition': 1079, 'else': 1080, 'sun': 1081, 'british': 1082, 'chief': 1083, 'ready': 1084, 'hero': 1085, 'senso': 1086, 'central': 1087, 'wednesday': 1088, 'global': 1089, 'true': 1090, 'guess': 1091, 'absolutely': 1092, 'usgs': 1093, 'emmerdale': 1094, 'total': 1095, 'turkish': 1096, 'ebola': 1097, 'plunging': 1098, 'dark': 1099, 'cameroon': 1100, 'radiation': 1101, 'round': 1102, 'trump': 1103, 'ppl': 1104, 'queen': 1105, 'animal': 1106, 'fighting': 1107, 'less': 1108, 'rock': 1109, 'kinda': 1110, 'ft': 1111, 'wonder': 1112, 'started': 1113, 'pass': 1114, 'sense': 1115, 'evening': 1116, 'calls': 1117, 'general': 1118, 'event': 1119, 'occurred': 1120, 'issue': 1121, 'region': 1122, 'rocky': 1123, 'door': 1124, 'text': 1125, 'changes': 1126, 'insurer': 1127, 'according': 1128, 'expected': 1129, 'smaug': 1130, 'currently': 1131, 'main': 1132, 'based': 1133, 'worth': 1134, 'piece': 1135, 'account': 1136, 'owner': 1137, 'office': 1138, 'etc': 1139, 'nc': 1140, 'causing': 1141, 'usatoday': 1142, 'rather': 1143, 'force': 1144, 'members': 1145, 'modified': 1146, 'training': 1147, 'purse': 1148, 'dan': 1149, 'buses': 1150, 'double': 1151, 'stuff': 1152, 'blocked': 1153, 'friday': 1154, 'related': 1155, 'dude': 1156, 'udhampur': 1157, 'suspected': 1158, 'med': 1159, 'navy': 1160, 'five': 1161, 'passengers': 1162, 'bit': 1163, 'problem': 1164, 'hwy': 1165, 'ground': 1166, 'exchanging': 1167, 'edm': 1168, 'el': 1169, 'hawaii': 1170, 'ep': 1171, 'ones': 1172, 'ben': 1173, 'theater': 1174, 'orders': 1175, 'means': 1176, 'ks': 1177, 'sit': 1178, 'killer': 1179, 'gone': 1180, 'parents': 1181, 'played': 1182, 'governor': 1183, 'search': 1184, 'begin': 1185, 'teen': 1186, 'share': 1187, 'lucky': 1188, 'prepare': 1189, 'setting': 1190, 'tent': 1191, 'com': 1192, 'worlds': 1193, 'seems': 1194, 'pil': 1195, 'mine': 1196, 'sismo': 1197, 'games': 1198, 'smh': 1199, 'industry': 1200, 'lead': 1201, 'sh': 1202, 'mary': 1203, 'among': 1204, 'court': 1205, 'king': 1206, 'tho': 1207, 'matter': 1208, 'short': 1209, 'reading': 1210, 'forget': 1211, 'ask': 1212, 'millions': 1213, 'ross': 1214, 'destroys': 1215, 'worldnews': 1216, 'wedding': 1217, 'bleed': 1218, 'bin': 1219, 'ar': 1220, 'remove': 1221, 'browser': 1222, 'z': 1223, 'seeks': 1224, 'municipal': 1225, 'mind': 1226, 'worse': 1227, 'social': 1228, 'gov': 1229, 'rule': 1230, 'struggles': 1231, 'birthday': 1232, 'ahead': 1233, 'stream': 1234, 'brought': 1235, 'funny': 1236, 'gay': 1237, 'number': 1238, 'exit': 1239, 'georgia': 1240, 'killing': 1241, 'moving': 1242, 'internally': 1243, 'local': 1244, 'gotta': 1245, 'broken': 1246, 'hobo': 1247, 'feels': 1248, 'mr': 1249, 'philippines': 1250, 'thunderstorms': 1251, 'trent': 1252, 'drink': 1253, 'offroad': 1254, 'metro': 1255, 'rate': 1256, 'politics': 1257, 'vote': 1258, 'drunk': 1259, 'nah': 1260, 'ww': 1261, 'million': 1262, 'potential': 1263, 'linked': 1264, 'syrian': 1265, 'late': 1266, 'lets': 1267, 'gunman': 1268, 'glad': 1269, 'wants': 1270, 'wont': 1271, 'living': 1272, 'gm': 1273, 'roosevelt': 1274, 'hold': 1275, 'return': 1276, 'stories': 1277, 'articles': 1278, 'result': 1279, 'students': 1280, 'sports': 1281, 'single': 1282, 'david': 1283, 'match': 1284, 'lots': 1285, 'hearing': 1286, 'beat': 1287, 'iraq': 1288, 'keeps': 1289, 'chang': 1290, 'alabama': 1291, 'brother': 1292, 'scene': 1293, 'repatriated': 1294, 'wa': 1295, 'able': 1296, 'trees': 1297, 'union': 1298, 'using': 1299, 'denver': 1300, 'straight': 1301, 'wars': 1302, 'later': 1303, 'runs': 1304, 'hospital': 1305, 'agree': 1306, 'preparedness': 1307, 'dogs': 1308, 'asked': 1309, 'cruz': 1310, 'jeb': 1311, 'record': 1312, 'ridge': 1313, 'colour': 1314, 'enjoy': 1315, 'desires': 1316, 'airlines': 1317, 'economic': 1318, 'loose': 1319, 'emotional': 1320, 'roads': 1321, 'sunday': 1322, 'thx': 1323, 'pressure': 1324, 'rip': 1325, 'either': 1326, 'involving': 1327, 'ships': 1328, 'soldiers': 1329, 'screen': 1330, 'laden': 1331, 'grows': 1332, 'kindle': 1333, 'tech': 1334, 'usually': 1335, 'signed': 1336, 'grill': 1337, 'phoenix': 1338, 'yyc': 1339, 'sleeping': 1340, 'terrorists': 1341, 'heavenly': 1342, 'mediterranean': 1343, 'cranes': 1344, 'fears': 1345, 'justinbieber': 1346, 'nice': 1347, 'son': 1348, 'tram': 1349, 'af': 1350, 'tribal': 1351, 'feet': 1352, 'month': 1353, 'beyonce': 1354, 'confirms': 1355, 'abandoned': 1356, 'cases': 1357, 'picture': 1358, 'parenthood': 1359, 'beyond': 1360, 'genocide': 1361, 'shop': 1362, 'fine': 1363, 'none': 1364, 'wall': 1365, 'leads': 1366, 'burns': 1367, 'calling': 1368, 'kick': 1369, 'shall': 1370, 'word': 1371, 'cop': 1372, 'dying': 1373, 'serious': 1374, 'tips': 1375, 'leaving': 1376, 'bombings': 1377, 'continue': 1378, 'dc': 1379, 'forever': 1380, 'loved': 1381, 'earlier': 1382, 'handbags': 1383, 'close': 1384, 'kid': 1385, 'wildfires': 1386, 'calm': 1387, 'attacks': 1388, 'meeting': 1389, 'blog': 1390, 'avoid': 1391, 'situation': 1392, 'wwii': 1393, 'snow': 1394, 'except': 1395, 'deadly': 1396, 'wife': 1397, 'version': 1398, 'pathogens': 1399, 'falls': 1400, 'faan': 1401, 'ny': 1402, 'cable': 1403, 'question': 1404, 'ah': 1405, 'crime': 1406, 'yo': 1407, 'sir': 1408, 'firefighter': 1409, 'began': 1410, 'interesting': 1411, 'foxnews': 1412, 'captures': 1413, 'indian': 1414, 'proof': 1415, 'steve': 1416, 'app': 1417, 'stupid': 1418, 'collaps': 1419, 'reasons': 1420, 'walking': 1421, 'feat': 1422, 'joe': 1423, 'track': 1424, 'seattle': 1425, 'supposed': 1426, 'tonto': 1427, 'palestinian': 1428, 'mix': 1429, 'meat': 1430, 'arrived': 1431, 'allows': 1432, 'pool': 1433, 'hostag': 1434, 'population': 1435, 'prevent': 1436, 'box': 1437, 'victims': 1438, 'coffee': 1439, 'damaged': 1440, 'community': 1441, 'direction': 1442, 'false': 1443, 'bringing': 1444, 'wound': 1445, 'pop': 1446, 'tablet': 1447, 'guide': 1448, 'leading': 1449, 'list': 1450, 'tcot': 1451, 'block': 1452, 'louis': 1453, 'lose': 1454, 'budget': 1455, 'ther': 1456, 'highway': 1457, 'lane': 1458, 'cheese': 1459, 'states': 1460, 'cost': 1461, 'grow': 1462, 'common': 1463, 'dangerous': 1464, 'eat': 1465, 'pics': 1466, 'rains': 1467, 'alive': 1468, 'relatives': 1469, 'zon': 1470, 'fleets': 1471, 'totaling': 1472, 'conference': 1473, 'bank': 1474, 'bodi': 1475, 'sometimes': 1476, 'disco': 1477, 'avoiding': 1478, 'technology': 1479, 'ray': 1480, 'shadow': 1481, 'aka': 1482, 'meet': 1483, 'allah': 1484, 'bought': 1485, 'asking': 1486, 'linkury': 1487, 'combo': 1488, 'abstorm': 1489, 'church': 1490, 'tears': 1491, 'massive': 1492, 'hobbit': 1493, 'units': 1494, 'civilians': 1495, 'rocks': 1496, 'civilian': 1497, 'fact': 1498, 'awful': 1499, 'together': 1500, 'mo': 1501, 'floor': 1502, 'message': 1503, 'books': 1504, 'plus': 1505, 'beyhive': 1506, 'cook': 1507, 'warnings': 1508, 'inner': 1509, 'md': 1510, 'epic': 1511, 'rn': 1512, 'tired': 1513, 'canyon': 1514, 'ten': 1515, 'writing': 1516, 'updated': 1517, 'spring': 1518, 'ii': 1519, 'quran': 1520, 'va': 1521, 'freak': 1522, 'saving': 1523, 'collid': 1524, 'ha': 1525, 'fantasy': 1526, 'football': 1527, 'threatening': 1528, 'sister': 1529, 'swallows': 1530, 'stealing': 1531, 'relief': 1532, 'accidents': 1533, 'create': 1534, 'seek': 1535, 'experience': 1536, 'justice': 1537, 'threat': 1538, 'bro': 1539, 'antioch': 1540, 'capsizes': 1541, 'user': 1542, 'j': 1543, 'bitch': 1544, 'woke': 1545, 'automatic': 1546, 'compliant': 1547, 'actions': 1548, 'earthquak': 1549, 'character': 1550, 'upset': 1551, 'companies': 1552, 'shares': 1553, 'cinema': 1554, 'hello': 1555, 'special': 1556, 'slightly': 1557, 'starting': 1558, 'michael': 1559, 'boys': 1560, 'mumbai': 1561, 'conditions': 1562, 'ceo': 1563, 'cannot': 1564, 'spaceship': 1565, 'england': 1566, 'express': 1567, 'concerned': 1568, 'feminists': 1569, 'respond': 1570, 'ban': 1571, 'blaz': 1572, 'followers': 1573, 'ian': 1574, 'qewcmxd': 1575, 'updates': 1576, 'extremely': 1577, 'spos': 1578, 'nature': 1579, 'greatest': 1580, 'legacy': 1581, 'mile': 1582, 'practice': 1583, 'created': 1584, 'knows': 1585, 'apply': 1586, 'stage': 1587, 'equipment': 1588, 'seat': 1589, 'dubstep': 1590, 'dnb': 1591, 'squad': 1592, 'hiring': 1593, 'ways': 1594, 'program': 1595, 'anti': 1596, 'lovely': 1597, 'mediterran': 1598, 'yesterday': 1599, 'shut': 1600, 'economy': 1601, 'maintenance': 1602, 'extreme': 1603, 'episode': 1604, 'cover': 1605, 'italian': 1606, 'listening': 1607, 'john': 1608, 'wd': 1609, 'costs': 1610, 'christmas': 1611, 'sale': 1612, 'brain': 1613, 'stopped': 1614, 'magic': 1615, 'watched': 1616, 'concert': 1617, 'forecast': 1618, 'da': 1619, 'congress': 1620, 'mt': 1621, 'workers': 1622, 'township': 1623, 'jst': 1624, 'response': 1625, 'irandeal': 1626, 'sidelines': 1627, 'six': 1628, 'target': 1629, 'sw': 1630, 'quest': 1631, 'republicans': 1632, 'spent': 1633, 'annual': 1634, 'reduce': 1635, 'held': 1636, 'nine': 1637, 'exchange': 1638, 'moved': 1639, 'seriously': 1640, 'careful': 1641, 'fruit': 1642, 'weird': 1643, 'hunt': 1644, 'cream': 1645, 'pre': 1646, 'troops': 1647, 'angel': 1648, 'foot': 1649, 'mini': 1650, 'mid': 1651, 'videos': 1652, 'starts': 1653, 'veterans': 1654, 'evacu': 1655, 'huh': 1656, 'illegal': 1657, 'afghanistan': 1658, 'mi': 1659, 'microlight': 1660, 'dorret': 1661, 'theres': 1662, 'acres': 1663, 'indeed': 1664, 'ps': 1665, 'limited': 1666, 'recovery': 1667, 'foxtrot': 1668, 'portland': 1669, 'german': 1670, 'theatre': 1671, 'catastroph': 1672, 'hop': 1673, 'gaza': 1674, 'stone': 1675, 'apocalyps': 1676, 'powerful': 1677, 'lack': 1678, 'australian': 1679, 'named': 1680, 'powerlines': 1681, 'focus': 1682, 'rubber': 1683, 'drill': 1684, 'knew': 1685, 'loop': 1686, 'spr': 1687, 'miles': 1688, 'se': 1689, 'strategy': 1690, 'gta': 1691, 'florida': 1692, 'rising': 1693, 'parley': 1694, 'authorities': 1695, 'unit': 1696, 'lights': 1697, 'epicentre': 1698, 'senior': 1699, 'plains': 1700, 'sparked': 1701, 'areas': 1702, 'mention': 1703, 'estimate': 1704, 'associated': 1705, 'terrible': 1706, 'within': 1707, 'jam': 1708, 'remains': 1709, 'vehicles': 1710, 'max': 1711, 'hands': 1712, 'lif': 1713, 'seconds': 1714, 'injuri': 1715, 'storms': 1716, 'okwx': 1717, 'lil': 1718, 'orange': 1719, 'traumatis': 1720, 'headed': 1721, 'manchester': 1722, 'heroes': 1723, 'ideas': 1724, 'fuel': 1725, 'picked': 1726, 'baseball': 1727, 'tr': 1728, 'bruh': 1729, 'debate': 1730, 'shipping': 1731, 'kidnapped': 1732, 'stars': 1733, 'moon': 1734, 'deals': 1735, 'exactly': 1736, 'murderous': 1737, 'fox': 1738, 'pussy': 1739, 'choice': 1740, 'criminals': 1741, 'nowplay': 1742, 'unless': 1743, 'poll': 1744, 'ferguson': 1745, 'missed': 1746, 'feed': 1747, 'entertainment': 1748, 'battlefield': 1749, 'pack': 1750, 'executives': 1751, 'prosecuted': 1752, 'energy': 1753, 'cleared': 1754, 'averted': 1755, 'window': 1756, 'alaska': 1757, 'mudslid': 1758, 'broke': 1759, 'blamed': 1760, 'opens': 1761, 'releases': 1762, 'mtvhottest': 1763, 'sadly': 1764, 'windows': 1765, 'planet': 1766, 'enemy': 1767, 'destiny': 1768, 'civil': 1769, 'review': 1770, 'wired': 1771, 'rohingya': 1772, 'prison': 1773, 'founder': 1774, 'sicily': 1775, 'loss': 1776, 'scary': 1777, 'crap': 1778, 'carrying': 1779, 'flam': 1780, 'murdered': 1781, 'mac': 1782, 'pak': 1783, 'complete': 1784, 'blvd': 1785, 'bet': 1786, 'female': 1787, 'ya': 1788, 'learning': 1789, 'field': 1790, 'bathroom': 1791, 'sees': 1792, 'fish': 1793, 'plague': 1794, 'onto': 1795, 'jack': 1796, 'girlfriend': 1797, 'invoices': 1798, 'prime': 1799, 'sat': 1800, 'jackson': 1801, 'original': 1802, 'shelter': 1803, 'claim': 1804, 'ir': 1805, 'icemoon': 1806, 'djicemoon': 1807, 'trapmusic': 1808, 'ices': 1809, 'talking': 1810, 'guns': 1811, 'cops': 1812, 'percent': 1813, 'bottom': 1814, 'anchorage': 1815, 'rea': 1816, 'voice': 1817, 'future': 1818, 'everyday': 1819, 'operation': 1820, 'syria': 1821, 'visit': 1822, 'nursing': 1823, 'alert': 1824, 'mma': 1825, 'trfc': 1826, 'q': 1827, 'newyork': 1828, 'worked': 1829, 'imagine': 1830, 'machine': 1831, 'fyi': 1832, 'ended': 1833, 'science': 1834, 'photography': 1835, 'ex': 1836, 'notices': 1837, 'grief': 1838, 'perfect': 1839, 'style': 1840, 'triple': 1841, 'parker': 1842, 'happens': 1843, 'aid': 1844, 'understand': 1845, 'plug': 1846, 'collection': 1847, 'calif': 1848, 'honestly': 1849, 'directioners': 1850, 'emmerdal': 1851, 'fell': 1852, 'quot': 1853, 'fr': 1854, 'trip': 1855, 'dozens': 1856, 'rail': 1857, 'tax': 1858, 'hill': 1859, 'root': 1860, 'opening': 1861, 'easy': 1862, 'release': 1863, 'happening': 1864, 'patient': 1865, 'arabia': 1866, 'waiting': 1867, 'law': 1868, 'crying': 1869, 'ultimate': 1870, 'mor': 1871, 'sport': 1872, 'shame': 1873, 'guardian': 1874, 'respect': 1875, 'knee': 1876, 'newest': 1877, 'evil': 1878, 'final': 1879, 'broad': 1880, 'continues': 1881, 'edt': 1882, 'impact': 1883, 'completely': 1884, 'examining': 1885, 'french': 1886, 'ted': 1887, 'allow': 1888, 'pls': 1889, 'cyclist': 1890, 'fix': 1891, 'casualti': 1892, 'aim': 1893, 'remain': 1894, 'wed': 1895, 'afternoon': 1896, 'bitches': 1897, 'soundcloud': 1898, 'political': 1899, 'touch': 1900, 'mido': 1901, 'considering': 1902, 'surrounded': 1903, 'error': 1904, 'grace': 1905, 'laugh': 1906, 'alleged': 1907, 'shepherd': 1908, 'arsenal': 1909, 'salem': 1910, 'afghan': 1911, 'vietnam': 1912, 'weak': 1913, 'lmfao': 1914, 'dropped': 1915, 'movies': 1916, 'mother': 1917, 'spirit': 1918, 'shoes': 1919, 'afraid': 1920, 'subject': 1921, 'nobody': 1922, 'built': 1923, 'hurts': 1924, 'throw': 1925, 'yobe': 1926, 'mansehra': 1927, 'ugh': 1928, 'page': 1929, 'daughter': 1930, 'personal': 1931, 'education': 1932, 'cos': 1933, 'exp': 1934, 'coastal': 1935, 'animalrescue': 1936, 'trailer': 1937, 'safe': 1938, 'jewish': 1939, 'pleas': 1940, 'confirm': 1941, 'clinton': 1942, 'hip': 1943, 'twist': 1944, 'faced': 1945, 'protest': 1946, 'rally': 1947, 'smoking': 1948, 'buffalo': 1949, 'desol': 1950, 'drug': 1951, 'fallen': 1952, 'minister': 1953, 'status': 1954, 'runway': 1955, 'madinah': 1956, 'prophetmuhammad': 1957, 'price': 1958, 'pull': 1959, 'inundation': 1960, 'solar': 1961, 'july': 1962, 'admits': 1963, 'scheme': 1964, 'lgbt': 1965, 'bells': 1966, 'toll': 1967, 'funds': 1968, 'captain': 1969, 'todd': 1970, 'parts': 1971, 'author': 1972, 'babies': 1973, 'matt': 1974, 'several': 1975, 'dare': 1976, 'recommend': 1977, 'campus': 1978, 'advisory': 1979, 'quickly': 1980, 'lifted': 1981, 'tryna': 1982, 'experiments': 1983, 'vvplfqvp': 1984, 'sinjar': 1985, 'questions': 1986, 'pipeline': 1987, 'interest': 1988, 'bargain': 1989, 'hunters': 1990, 'accidentally': 1991, 'button': 1992, 'blk': 1993, 'fog': 1994, 'consider': 1995, 'abcnews': 1996, 'diet': 1997, 'youngheroesid': 1998, 'pantherattack': 1999, 'toward': 2000, 'approaches': 2001, 'fail': 2002, 'wash': 2003, 'route': 2004, 'boston': 2005, 'repair': 2006, 'disrupts': 2007, 'trolley': 2008, 'starring': 2009, 'anymore': 2010, 'cramer': 2011, 'robot': 2012, 'bike': 2013, 'rider': 2014, 'inch': 2015, 'wmata': 2016, 'jesus': 2017, 'ms': 2018, 'cuz': 2019, 'twia': 2020, 'delay': 2021, 'satchel': 2022, 'holy': 2023, 'en': 2024, 'tom': 2025, 'quick': 2026, 'somebody': 2027, 'facebook': 2028, 'failed': 2029, 'audio': 2030, 'id': 2031, 'americans': 2032, 'thats': 2033, 'wearing': 2034, 'add': 2035, 'survival': 2036, 'migrant': 2037, 'design': 2038, 'turns': 2039, 'damages': 2040, 'jan': 2041, 'mark': 2042, 'jet': 2043, 'triggered': 2044, 'falcon': 2045, 'brakes': 2046, 'threatens': 2047, 'path': 2048, 'southern': 2049, 'riots': 2050, 'twin': 2051, 'sink': 2052, 'attention': 2053, 'philly': 2054, 'floyd': 2055, 'tracks': 2056, 'tweets': 2057, 'animals': 2058, 'sunset': 2059, 'un': 2060, 'whether': 2061, 'putin': 2062, 'evidence': 2063, 'officers': 2064, 'idk': 2065, 'covered': 2066, 'predict': 2067, 'realise': 2068, 'upper': 2069, 'blocking': 2070, 'ksawlyux': 2071, 'gang': 2072, 'muslim': 2073, 'strikes': 2074, 'oth': 2075, 'lorries': 2076, 'michigan': 2077, 'cousin': 2078, 'burst': 2079, 'society': 2080, 'nashville': 2081, 'hatchet': 2082, 'plate': 2083, 'dragon': 2084, 'tempered': 2085, 'protector': 2086, 'blackberry': 2087, 'sittwe': 2088, 'msf': 2089, 'huffman': 2090, 'unveiled': 2091, 'joy': 2092, 'italy': 2093, 'iphone': 2094, 'users': 2095, 'unlocked': 2096, 'advance': 2097, 'progress': 2098, 'esh': 2099, 'kept': 2100, 'malaysian': 2101, 'commercial': 2102, 'incredible': 2103, 'walmart': 2104, 'lie': 2105, 'teams': 2106, 'stops': 2107, 'ig': 2108, 'elephant': 2109, 'remembering': 2110, 'singing': 2111, 'surviv': 2112, 'connector': 2113, 'palms': 2114, 'damag': 2115, 'eruption': 2116, 'hes': 2117, 'fake': 2118, 'yrs': 2119, 'xd': 2120, 'tells': 2121, 'motorcycle': 2122, 'size': 2123, 'wins': 2124, 'lion': 2125, 'housing': 2126, 'homeless': 2127, 'heights': 2128, 'welcome': 2129, 'revealed': 2130, 'freakiest': 2131, 'forced': 2132, 'hopefully': 2133, 'everywhere': 2134, 'register': 2135, 'senator': 2136, 'exploration': 2137, 'towel': 2138, 'rome': 2139, 'vulnerable': 2140, 'begins': 2141, 'tube': 2142, 'factory': 2143, 'toilet': 2144, 'brazil': 2145, 'bat': 2146, 'copycat': 2147, 'rest': 2148, 'intern': 2149, 'prophet': 2150, 'char': 2151, 'club': 2152, 'hearts': 2153, 'activity': 2154, 'rear': 2155, 'exist': 2156, 'murd': 2157, 'survivor': 2158, 'mikeparractor': 2159, 'flat': 2160, 'crossed': 2161, 'flying': 2162, 'inj': 2163, 'min': 2164, 'stephen': 2165, 'org': 2166, 'title': 2167, 'address': 2168, 'shower': 2169, 'minecraft': 2170, 'victory': 2171, 'chelsea': 2172, 'served': 2173, 'article': 2174, 'rolling': 2175, 'winter': 2176, 'mourning': 2177, 'stabbing': 2178, 'stir': 2179, 'duty': 2180, 'bout': 2181, 'mining': 2182, 'apparently': 2183, 'cancer': 2184, 'maryland': 2185, 'mansion': 2186, 'bear': 2187, 'events': 2188, 'active': 2189, 'fund': 2190, 'laws': 2191, 'tornadoes': 2192, 'google': 2193, 'motorcyclist': 2194, 'bicyclist': 2195, 'pow': 2196, 'dry': 2197, 'scott': 2198, 'seven': 2199, 'mentions': 2200, 'structure': 2201, 'project': 2202, 'management': 2203, 'steel': 2204, 'rare': 2205, 'cdc': 2206, 'steps': 2207, 'especially': 2208, 'hughes': 2209, 'hurt': 2210, 'fwy': 2211, 'mhtwfnet': 2212, 'swimming': 2213, 'diving': 2214, 'library': 2215, 'radar': 2216, 'bjp': 2217, 'prices': 2218, 'posts': 2219, 'beginning': 2220, 'include': 2221, 'lowndes': 2222, 'subs': 2223, 'officially': 2224, 'stuart': 2225, 'correction': 2226, 'clearly': 2227, 'tubestrike': 2228, 'boss': 2229, 'ill': 2230, 'port': 2231, 'details': 2232, 'becomes': 2233, 'mood': 2234, 'babi': 2235, 'outlook': 2236, 'mayan': 2237, 'dream': 2238, 'points': 2239, 'maximum': 2240, 'surf': 2241, 'lands': 2242, 'images': 2243, 'alps': 2244, 'tropical': 2245, 'carry': 2246, 'levels': 2247, 'crackdown': 2248, 'arrive': 2249, 'code': 2250, 'uses': 2251, 'xbox': 2252, 'pro': 2253, 'ring': 2254, 'choking': 2255, 'recall': 2256, 'peaceful': 2257, 'bowl': 2258, 'emotionally': 2259, 'plant': 2260, 'tuned': 2261, 'sparks': 2262, 'clash': 2263, 'accused': 2264, 'asleep': 2265, 'sanctions': 2266, 'cr': 2267, 'bn': 2268, 'married': 2269, 'cry': 2270, 'fifth': 2271, 'universe': 2272, 'aussie': 2273, 'thriller': 2274, 'sacramento': 2275, 'efforts': 2276, 'crack': 2277, 'tickets': 2278, 'highest': 2279, 'cybksxhfd': 2280, 'monsoon': 2281, 'vine': 2282, 'naved': 2283, 'discovery': 2284, 'sweet': 2285, 'mama': 2286, 'amongst': 2287, 'secrets': 2288, 'access': 2289, 'legit': 2290, 'success': 2291, 'structures': 2292, 'adult': 2293, 'conflict': 2294, 'thomas': 2295, 'crashes': 2296, 'written': 2297, 'including': 2298, 'characters': 2299, 'fb': 2300, 'negative': 2301, 'extra': 2302, 'kaduna': 2303, 'primary': 2304, 'ran': 2305, 'spider': 2306, 'bare': 2307, 'thousand': 2308, 'oc': 2309, 'shared': 2310, 'darude': 2311, 'expecting': 2312, 'accuses': 2313, 'historic': 2314, 'clear': 2315, 'surprise': 2316, 'kingdom': 2317, 'van': 2318, 'pin': 2319, 'manager': 2320, 'carryi': 2321, 'simulate': 2322, 'nu': 2323, 'student': 2324, 'looting': 2325, 'reach': 2326, 'loves': 2327, 'blasts': 2328, 'counter': 2329, 'drinking': 2330, 'apple': 2331, 'father': 2332, 'prabhu': 2333, 'calamity': 2334, 'slow': 2335, 'legal': 2336, 'pc': 2337, 'george': 2338, 'lonewolffur': 2339, 'tea': 2340, 'serial': 2341, 'nnmqlzo': 2342, 'ofcyyr': 2343, 'needed': 2344, 'load': 2345, 'interview': 2346, 'lower': 2347, 'leg': 2348, 'karymsky': 2349, 'crater': 2350, 'strategicpatience': 2351, 'idp': 2352, 'rqwuoyfm': 2353, 'streets': 2354, 'rose': 2355, 'hir': 2356, 'decisions': 2357, 'produced': 2358, 'september': 2359, 'blake': 2360, 'lethal': 2361, 'shar': 2362, 'festival': 2363, 'somehow': 2364, 'utterly': 2365, 'apartment': 2366, 'yazidis': 2367, 'responds': 2368, 'forward': 2369, 'leaders': 2370, 'mill': 2371, 'warned': 2372, 'rockyfire': 2373, 'normal': 2374, 'weed': 2375, 'zujwuiomb': 2376, 'mental': 2377, 'satellite': 2378, 'gusty': 2379, 'willing': 2380, 'sr': 2381, 'democracy': 2382, 'fired': 2383, 'wisenews': 2384, 'replacing': 2385, 'chest': 2386, 'cbc': 2387, 'reward': 2388, 'sa': 2389, 'waimate': 2390, 'cigarette': 2391, 'iger': 2392, 'accid': 2393, 'curved': 2394, 'hotel': 2395, 'pond': 2396, 'owners': 2397, 'degree': 2398, 'nfl': 2399, 'passenger': 2400, 'tag': 2401, 'omfg': 2402, 'cleanup': 2403, 'morgan': 2404, 'dollar': 2405, 'nb': 2406, 'nema': 2407, 'meant': 2408, 'memory': 2409, 'replace': 2410, 'loan': 2411, 'given': 2412, 'print': 2413, 'league': 2414, 'kurtschlichter': 2415, 'hundred': 2416, 'ink': 2417, 'pulls': 2418, 'earrings': 2419, 'bug': 2420, 'enjoying': 2421, 'shirt': 2422, 'cotton': 2423, 'doubt': 2424, 'yea': 2425, 'recently': 2426, 'piling': 2427, 'dreams': 2428, 'starter': 2429, 'torch': 2430, 'electronic': 2431, 'resistant': 2432, 'couples': 2433, 'abandon': 2434, 'suffer': 2435, 'suv': 2436, 'rep': 2437, 'step': 2438, 'gotten': 2439, 'footage': 2440, 'hav': 2441, 'los': 2442, 'unlocking': 2443, 'egypt': 2444, 'predicted': 2445, 'toronto': 2446, 'asian': 2447, 'sprinter': 2448, 'frontline': 2449, 'lez': 2450, 'external': 2451, 'karachi': 2452, 'blow': 2453, 'mail': 2454, 'color': 2455, 'po': 2456, 'unsafe': 2457, 'reno': 2458, 'larger': 2459, 'players': 2460, 'ems': 2461, 'eden': 2462, 'mlb': 2463, 'reap': 2464, 'anybody': 2465, 'vegas': 2466, 'cities': 2467, 'elevated': 2468, 'photoshop': 2469, 'delug': 2470, 'birds': 2471, 'lungs': 2472, 'markets': 2473, 'truly': 2474, 'current': 2475, 'checked': 2476, 'fort': 2477, 'bound': 2478, 'ag': 2479, 'table': 2480, 'met': 2481, 'benefits': 2482, 'hoax': 2483, 'device': 2484, 'ev': 2485, 'edition': 2486, 'mission': 2487, 'hills': 2488, 'smash': 2489, 'ear': 2490, 'certain': 2491, 'treat': 2492, 'previously': 2493, 'estimated': 2494, 'irish': 2495, 'raynbowaffair': 2496, 'editor': 2497, 'diamondkesawn': 2498, 'ramag': 2499, 'models': 2500, 'uganda': 2501, 'known': 2502, 'poverty': 2503, 'reveals': 2504, 'microsoft': 2505, 'client': 2506, 'gam': 2507, 'demand': 2508, 'revolution': 2509, 'passing': 2510, 'fits': 2511, 'pov': 2512, 'charge': 2513, 'matako': 2514, 'computer': 2515, 'statement': 2516, 'warn': 2517, 'refuge': 2518, 'specif': 2519, 'smithsonian': 2520, 'elem': 2521, 'interested': 2522, 'majority': 2523, 'system': 2524, 'dublin': 2525, 'fate': 2526, 'luck': 2527, 'sp': 2528, 'movement': 2529, 'swim': 2530, 'insane': 2531, 'realized': 2532, 'panick': 2533, 'warfighting': 2534, 'robots': 2535, 'lying': 2536, 'towards': 2537, 'blowing': 2538, 'reporting': 2539, 'cute': 2540, 'eating': 2541, 'offer': 2542, 'smile': 2543, 'discovered': 2544, 'itunes': 2545, 'rocket': 2546, 'defense': 2547, 'cats': 2548, 'click': 2549, 'boxer': 2550, 'asap': 2551, 'age': 2552, 'troubl': 2553, 'minutes': 2554, 'relax': 2555, 'average': 2556, 'eb': 2557, 'lanes': 2558, 'ukraine': 2559, 'vets': 2560, 'blows': 2561, 'heaven': 2562, 'er': 2563, 'planning': 2564, 'anyway': 2565, 'beam': 2566, 'sarah': 2567, 'targeting': 2568, 'minority': 2569, 'cleveland': 2570, 'vacant': 2571, 'sleep': 2572, 'rights': 2573, 'fly': 2574, 'feeding': 2575, 'pun': 2576, 'english': 2577, 'kurdish': 2578, 'militant': 2579, 'invalid': 2580, 'rexyy': 2581, 'porn': 2582, 'wondering': 2583, 'pulled': 2584, 'forgotten': 2585, 'maria': 2586, 'snap': 2587, 'streak': 2588, 'europe': 2589, 'telling': 2590, 'olympic': 2591, 'ireland': 2592, 'follows': 2593, 'gift': 2594, 'iranian': 2595, 'horses': 2596, 'dvd': 2597, 'cia': 2598, 'crowd': 2599, 'documents': 2600, 'mexico': 2601, 'letting': 2602, 'uribe': 2603, 'usagov': 2604, 'auth': 2605, 'brutally': 2606, 'abused': 2607, 'mum': 2608, 'desire': 2609, 'responsibility': 2610, 'fingers': 2611, 'psychiatric': 2612, 'providence': 2613, 'appreciate': 2614, 'nasty': 2615, 'jap': 2616, 'eu': 2617, 'doctor': 2618, 'electrical': 2619, 'bath': 2620, 'resulted': 2621, 'worstsummerjob': 2622, 'laughing': 2623, 'didnt': 2624, 'skin': 2625, 'nic': 2626, 'ride': 2627, 'simple': 2628, 'study': 2629, 'sets': 2630, 'mess': 2631, 'results': 2632, 'ends': 2633, 'servers': 2634, 'cricket': 2635, 'effort': 2636, 'mets': 2637, 'wet': 2638, 'stuck': 2639, 'stranded': 2640, 'zionist': 2641, 'palestinians': 2642, 'overnight': 2643, 'tour': 2644, 'clev': 2645, 'feminist': 2646, 'eq': 2647, 'clouds': 2648, 'mountains': 2649, 'member': 2650, 'warns': 2651, 'trap': 2652, 'sexual': 2653, 'chinese': 2654, 'lik': 2655, 'score': 2656, 'profile': 2657, 'arms': 2658, 'abuse': 2659, 'gon': 2660, 'usual': 2661, 'ch': 2662, 'tank': 2663, 'method': 2664, 'alberta': 2665, 'involved': 2666, 'rapidly': 2667, 'continued': 2668, 'mike': 2669, 'plaguing': 2670, 'qeblokeve': 2671, 'encmhzy': 2672, 'wicked': 2673, 'oops': 2674, 'mus': 2675, 'activates': 2676, 'links': 2677, 'cave': 2678, 'farrakhan': 2679, 'paint': 2680, 'became': 2681, 'ptsd': 2682, 'broadway': 2683, 'trial': 2684, 'valley': 2685, 'jacksonville': 2686, 'constantly': 2687, 'bid': 2688, 'pepper': 2689, 'saturday': 2690, 'hitting': 2691, 'emerg': 2692, 'cord': 2693, 'cancel': 2694, 'card': 2695, 'av': 2696, 'prefer': 2697, 'mystery': 2698, 'hits': 2699, 'dang': 2700, 'screenshots': 2701, 'combat': 2702, 'magnum': 2703, 'opus': 2704, 'promise': 2705, 'busi': 2706, 'sub': 2707, 'clean': 2708, 'problems': 2709, 'selfies': 2710, 'hosting': 2711, 'strange': 2712, 'val': 2713, 'third': 2714, 'leader': 2715, 'crew': 2716, 'purple': 2717, 'speed': 2718, 'drop': 2719, 'quality': 2720, 'positive': 2721, 'kicked': 2722, 'reportedly': 2723, 'nw': 2724, 'belt': 2725, 'chocolate': 2726, 'threats': 2727, 'dk': 2728, 'debt': 2729, 'james': 2730, 'warming': 2731, 'independent': 2732, 'opinion': 2733, 'chill': 2734, 'reminds': 2735, 'wealth': 2736, 'battling': 2737, 'ego': 2738, 'okanagan': 2739, 'shanghai': 2740, 'famous': 2741, 'sandiego': 2742, 'waste': 2743, 'ocean': 2744, 'intensity': 2745, 'golf': 2746, 'generation': 2747, 'finnish': 2748, 'trafford': 2749, 'odeon': 2750, 'ns': 2751, 'specimens': 2752, 'thru': 2753, 'increased': 2754, 'harbor': 2755, 'bob': 2756, 'drove': 2757, 'bb': 2758, 'holiday': 2759, 'vinyl': 2760, 'restore': 2761, 'acts': 2762, 'staff': 2763, 'bal': 2764, 'vuitton': 2765, 'monogram': 2766, 'heads': 2767, 'passed': 2768, 'decided': 2769, 'option': 2770, 'present': 2771, 'scientists': 2772, 'solution': 2773, 'activated': 2774, 'yall': 2775, 'spain': 2776, 'edinburgh': 2777, 'warship': 2778, 'depth': 2779, 'clutch': 2780, 'charging': 2781, 'lunch': 2782, 'amsterdam': 2783, 'actual': 2784, 'marvel': 2785, 'hwo': 2786, 'bounty': 2787, 'struck': 2788, 'wx': 2789, 'memes': 2790, 'chaos': 2791, 'rob': 2792, 'pilots': 2793, 'hilarious': 2794, 'recover': 2795, 'kind': 2796, 'tear': 2797, 'pam': 2798, 'channel': 2799, 'decide': 2800, 'rage': 2801, 'canaanites': 2802, 'pitch': 2803, 'anyth': 2804, 'kenya': 2805, 'returned': 2806, 'chat': 2807, 'cup': 2808, 'fettilootch': 2809, 'slanglucci': 2810, 'oppressions': 2811, 'mollvdyd': 2812, 'hungry': 2813, 'multiplayer': 2814, 'foster': 2815, 'dress': 2816, 'prepared': 2817, 'mitt': 2818, 'taylor': 2819, 'christie': 2820, 'tastes': 2821, 'evacuations': 2822, 'charles': 2823, 'prompts': 2824, 'fav': 2825, 'latestnews': 2826, 'johnson': 2827, 'guillermo': 2828, 'tracking': 2829, 'dental': 2830, 'eventually': 2831, 'gunfire': 2832, 'idc': 2833, 'supports': 2834, 'whales': 2835, 'cont': 2836, 'afterlif': 2837, 'agreed': 2838, 'warships': 2839, 'ending': 2840, 'context': 2841, 'tongue': 2842, 'combined': 2843, 'persons': 2844, 'nm': 2845, 'blessed': 2846, 'ohio': 2847, 'degrees': 2848, 'kuwait': 2849, 'period': 2850, 'concept': 2851, 'samaritans': 2852, 'disappear': 2853, 'distance': 2854, 'encouragement': 2855, 'apocalyptic': 2856, 'losses': 2857, 'luis': 2858, 'captured': 2859, 'hurrican': 2860, 'cd': 2861, 'veteran': 2862, 'thick': 2863, 'shoulders': 2864, 'mall': 2865, 'camping': 2866, 'derby': 2867, 'attitude': 2868, 'nam': 2869, 'maj': 2870, 'weeks': 2871, 'farm': 2872, 'explos': 2873, 'neil': 2874, 'brings': 2875, 'gateau': 2876, 'calories': 2877, 'parking': 2878, 'charlotte': 2879, 'countries': 2880, 'innocent': 2881, 'daughters': 2882, 'bot': 2883, 'stereo': 2884, 'thi': 2885, 'grown': 2886, 'newsintweets': 2887, 'battleship': 2888, 'satan': 2889, 'caitlin': 2890, 'kiernan': 2891, 'centipede': 2892, 'numbered': 2893, 'suffering': 2894, 'fraction': 2895, 'organizations': 2896, 'sources': 2897, 'creativity': 2898, 'brave': 2899, 'oper': 2900, 'taxiways': 2901, 'navbl': 2902, 'wnd': 2903, 'inst': 2904, 'apch': 2905, 'rwy': 2906, 'tmp': 2907, 'miami': 2908, 'atlanta': 2909, 'supervisor': 2910, 'ugly': 2911, 'psychological': 2912, 'guard': 2913, 'works': 2914, 'changed': 2915, 'olive': 2916, 'multiple': 2917, 'workplace': 2918, 'operations': 2919, 'retail': 2920, 'wee': 2921, 'hillary': 2922, 'tune': 2923, 'suppose': 2924, 'labs': 2925, 'jazz': 2926, 'dundee': 2927, 'bullets': 2928, 'store': 2929, 'projects': 2930, 'mitigation': 2931, 'agents': 2932, 'blind': 2933, 'annihil': 2934, 'seemed': 2935, 'dat': 2936, 'tested': 2937, 'modiministry': 2938, 'railway': 2939, 'disasters': 2940, 'outdoor': 2941, 'draco': 2942, 'washed': 2943, 'bee': 2944, 'zombie': 2945, 'abbott': 2946, 'bend': 2947, 'richard': 2948, 'michele': 2949, 'taco': 2950, 'impressed': 2951, 'rating': 2952, 'mortal': 2953, 'kombat': 2954, 'pp': 2955, 'gusts': 2956, 'filled': 2957, 'slower': 2958, 'cow': 2959, 'welfare': 2960, 'np': 2961, 'solve': 2962, 'pedestrian': 2963, 'crazi': 2964, 'birth': 2965, 'annoying': 2966, 'harry': 2967, 'julian': 2968, 'attempt': 2969, 'increase': 2970, 'yellow': 2971, 'pan': 2972, 'joel': 2973, 'gel': 2974, 'grey': 2975, 'turbine': 2976, 'bluetooth': 2977, 'wireless': 2978, 'headphones': 2979, 'thoyhrhkfj': 2980, 'wvjabgm': 2981, 'nigeria': 2982, 'tests': 2983, 'tooth': 2984, 'radioactive': 2985, 'soup': 2986, 'recipes': 2987, 'collapses': 2988, 'northeast': 2989, 'brush': 2990, 'sweden': 2991, 'cue': 2992, 'diamond': 2993, 'defend': 2994, 'role': 2995, 'showed': 2996, 'slide': 2997, 'icymi': 2998, 'humans': 2999, 'opposite': 3000, 'laid': 3001, 'portion': 3002, 'stepped': 3003, 'immediately': 3004, 'ey': 3005, 'cnbc': 3006, 'minor': 3007, 'bride': 3008, 'castle': 3009, 'belonged': 3010, 'nuke': 3011, 'horrors': 3012, 'closes': 3013, 'voluntary': 3014, 'cabin': 3015, 'reid': 3016, 'sham': 3017, 'unsuckdcmetro': 3018, 'op': 3019, 'integrity': 3020, 'arrest': 3021, 'empty': 3022, 'timeline': 3023, 'particularly': 3024, 'christ': 3025, 'hahaha': 3026, 'sentinel': 3027, 'dallas': 3028, 'bu': 3029, 'grade': 3030, 'casper': 3031, 'whats': 3032, 'hike': 3033, 'traff': 3034, 'openly': 3035, 'materials': 3036, 'idps': 3037, 'wom': 3038, 'sydney': 3039, 'analysis': 3040, 'refused': 3041, 'warcraft': 3042, 'chain': 3043, 'multi': 3044, 'bff': 3045, 'becoming': 3046, 'purchase': 3047, 'chevy': 3048, 'classic': 3049, 'barn': 3050, 'wratkajl': 3051, 'franklin': 3052, 'anxiety': 3053, 'putting': 3054, 'boot': 3055, 'autumn': 3056, 'wit': 3057, 'hype': 3058, 'flaming': 3059, 'medieval': 3060, 'wire': 3061, 'blanket': 3062, 'skinny': 3063, 'contemplating': 3064, 'wwi': 3065, 'environment': 3066, 'ahh': 3067, 'solitude': 3068, 'frontpage': 3069, 'rickperry': 3070, 'foxnew': 3071, 'lasting': 3072, 'fashionable': 3073, 'mountaineering': 3074, 'leisure': 3075, 'tab': 3076, 'per': 3077, 'previous': 3078, 'dem': 3079, 'pregnant': 3080, 'julie': 3081, 'betrayed': 3082, 'although': 3083, 'sws': 3084, 'fantastic': 3085, 'btw': 3086, 'however': 3087, 'croat': 3088, 'landfall': 3089, 'model': 3090, 'cam': 3091, 'installation': 3092, 'cladding': 3093, 'venezuela': 3094, 'tough': 3095, 'doors': 3096, 'skies': 3097, 'gives': 3098, 'probe': 3099, 'fresh': 3100, 'phones': 3101, 'candy': 3102, 'rush': 3103, 'catches': 3104, 'locker': 3105, 'grab': 3106, 'specific': 3107, 'intact': 3108, 'wrapup': 3109, 'disappoints': 3110, 'newlyweds': 3111, 'nose': 3112, 'dannyonpc': 3113, 'hardline': 3114, 'throwingknif': 3115, 'circle': 3116, 'reality': 3117, 'paramedic': 3118, 'looked': 3119, 'beforeitsnews': 3120, 'wonderful': 3121, 'roberts': 3122, 'vladimir': 3123, 'pair': 3124, 'tied': 3125, 'race': 3126, 'roll': 3127, 'matters': 3128, 'capture': 3129, 'forces': 3130, 'type': 3131, 'hmm': 3132, 'enjoyed': 3133, 'brothers': 3134, 'armory': 3135, 'sf': 3136, 'announcement': 3137, 'location': 3138, 'border': 3139, 'respons': 3140, 'monster': 3141, 'salvador': 3142, 'capital': 3143, 'cyclists': 3144, 'partner': 3145, 'website': 3146, 'schools': 3147, 'older': 3148, 'concern': 3149, 'queens': 3150, 'sending': 3151, 'jeans': 3152, 'pocket': 3153, 'contact': 3154, 'lightening': 3155, 'lone': 3156, 'audience': 3157, 'federal': 3158, 'grabbers': 3159, 'constant': 3160, 'butter': 3161, 'joke': 3162, 'aware': 3163, 'afp': 3164, 'gods': 3165, 'eight': 3166, 'boyfriend': 3167, 'lauren': 3168, 'someth': 3169, 'sing': 3170, 'ihhen': 3171, 'sized': 3172, 'vazwoamzk': 3173, 'pacific': 3174, 'freedom': 3175, 'wi': 3176, 'caution': 3177, 'battl': 3178, 'desert': 3179, 'tool': 3180, 'holland': 3181, 'scotland': 3182, 'ontario': 3183, 'nasa': 3184, 'responded': 3185, 'jax': 3186, 'prayers': 3187, 'excellent': 3188, 'onlinecommunities': 3189, 'hamas': 3190, 'egged': 3191, 'forgiven': 3192, 'morn': 3193, 'fixing': 3194, 'promises': 3195, 'communities': 3196, 'jr': 3197, 'sm': 3198, 'lulgzimbestpicts': 3199, 'muscle': 3200, 'applications': 3201, 'unr': 3202, 'wy': 3203, 'yorker': 3204, 'mistake': 3205, 'snapchat': 3206, 'temporary': 3207, 'oral': 3208, 'chris': 3209, 'cooler': 3210, 'ik': 3211, 'attacking': 3212, 'investigation': 3213, 'ears': 3214, 'ashley': 3215, 'asia': 3216, 'bi': 3217, 'museum': 3218, 'til': 3219, 'experienced': 3220, 'background': 3221, 'runner': 3222, 'roanoke': 3223, 'verdict': 3224, 'leo': 3225, 'tbt': 3226, 'seasons': 3227, 'hom': 3228, 'frog': 3229, 'reviews': 3230, 'leaves': 3231, 'romance': 3232, 'definitely': 3233, 'lay': 3234, 'silent': 3235, 'palin': 3236, 'bbsp': 3237, 'comparison': 3238, 'jamaica': 3239, 'symphony': 3240, 'memphis': 3241, 'massacr': 3242, 'acting': 3243, 'detained': 3244, 'arm': 3245, 'lgl': 3246, 'blks': 3247, 'saddlebrooke': 3248, 'feast': 3249, 'vancouver': 3250, 'launch': 3251, 'houston': 3252, 'villages': 3253, 'finds': 3254, 'fed': 3255, 'seri': 3256, 'speaking': 3257, 'spanish': 3258, 'band': 3259, 'beard': 3260, 'grazed': 3261, 'charges': 3262, 'marked': 3263, 'numbers': 3264, 'butt': 3265, 'rio': 3266, 'dramatic': 3267, 'condition': 3268, 'targets': 3269, 'clothes': 3270, 'recorded': 3271, 'lvlhwawo': 3272, 'viwxyxdyk': 3273, 'electrocut': 3274, 'prior': 3275, 'password': 3276, 'dependency': 3277, 'counselor': 3278, 'waterways': 3279, 'avenue': 3280, 'senate': 3281, 'winston': 3282, 'fucked': 3283, 'therapy': 3284, 'boom': 3285, 'fkn': 3286, 'ultimalucha': 3287, 'alright': 3288, 'twice': 3289, 'variety': 3290, 'garden': 3291, 'twins': 3292, 'thus': 3293, 'spears': 3294, 'wood': 3295, 'often': 3296, 'visited': 3297, 'jon': 3298, 'stewart': 3299, 'angeles': 3300, 'ty': 3301, 'recap': 3302, 'eh': 3303, 'besides': 3304, 'flow': 3305, 'amazing': 3306, 'santa': 3307, 'decision': 3308, 'gained': 3309, 'stats': 3310, 'davidvonderhaar': 3311, 'pump': 3312, 'stamp': 3313, 'electric': 3314, 'safer': 3315, 'cad': 3316, 'election': 3317, 'slowly': 3318, 'toe': 3319, 'yay': 3320, 'pdx': 3321, 'meter': 3322, 'hd': 3323, 'planted': 3324, 'togeth': 3325, 'controlled': 3326, 'hybrid': 3327, 'raid': 3328, 'bully': 3329, 'plac': 3330, 'raining': 3331, 'nap': 3332, 'cbs': 3333, 'painting': 3334, 'taste': 3335, 'comments': 3336, 'welcom': 3337, 'cakes': 3338, 'sassy': 3339, 'hunk': 3340, 'smoky': 3341, 'aoms': 3342, 'ibooklove': 3343, 'bookboost': 3344, 'abbswinston': 3345, 'charts': 3346, 'procedures': 3347, 'drone': 3348, 'driven': 3349, 'tons': 3350, 'moth': 3351, 'largest': 3352, 'soccer': 3353, 'anymor': 3354, 'joining': 3355, 'bs': 3356, 'traditional': 3357, 'shoot': 3358, 'palestine': 3359, 'talks': 3360, 'mullah': 3361, 'omar': 3362, 'cock': 3363, 'deputies': 3364, 'steam': 3365, 'lessons': 3366, 'bake': 3367, 'journalist': 3368, 'recalls': 3369, 'moments': 3370, 'oak': 3371, 'summerf': 3372, 'mud': 3373, 'regret': 3374, 'germany': 3375, 'robinson': 3376, 'realdonaldtrump': 3377, 'voter': 3378, 'domestic': 3379, 'pcs': 3380, 'jones': 3381, 'chair': 3382, 'roller': 3383, 'nj': 3384, 'sb': 3385, 'email': 3386, 'tries': 3387, 'thoughts': 3388, 'demon': 3389, 'individual': 3390, 'ornament': 3391, 'republican': 3392, 'neighborhood': 3393, 'supernatural': 3394, 'droid': 3395, 'ski': 3396, 'lan': 3397, 'beats': 3398, 'shark': 3399, 'refugee': 3400, 'spend': 3401, 'harper': 3402, 'restricted': 3403, 'voting': 3404, 'transporting': 3405, 'salvation': 3406, 'patched': 3407, 'os': 3408, 'exploit': 3409, 'sg': 3410, 'cap': 3411, 'places': 3412, 'cain': 3413, 'bypass': 3414, 'ars': 3415, 'invest': 3416, 'dick': 3417, 'leadership': 3418, 'daniel': 3419, 'pizza': 3420, 'acute': 3421, 'medical': 3422, 'fam': 3423, 'catching': 3424, 'solid': 3425, 'tampa': 3426, 'otherwise': 3427, 'standing': 3428, 'motor': 3429, 'cupcake': 3430, 'fac': 3431, 'tape': 3432, 'spinning': 3433, 'simply': 3434, 'declared': 3435, 'suddenly': 3436, 'ml': 3437, 'modi': 3438, 'patch': 3439, 'leveled': 3440, 'returns': 3441, 'faroeislands': 3442, 'lived': 3443, 'yemen': 3444, 'cum': 3445, 'noah': 3446, 'locke': 3447, 'justin': 3448, 'stolen': 3449, 'fights': 3450, 'regular': 3451, 'neither': 3452, 'gordon': 3453, 'prince': 3454, 'honey': 3455, 'adding': 3456, 'generally': 3457, 'shakes': 3458, 'tools': 3459, 'gray': 3460, 'logo': 3461, 'private': 3462, 'zero': 3463, 'soviet': 3464, 'ages': 3465, 'possibly': 3466, 'sharp': 3467, 'packs': 3468, 'faster': 3469, 'gadgets': 3470, 'invasion': 3471, 'split': 3472, 'fill': 3473, 'fd': 3474, 'object': 3475, 'charlie': 3476, 'hang': 3477, 'wrap': 3478, 'buddi': 3479, 'recycling': 3480, 'campaign': 3481, 'blowout': 3482, 'cargo': 3483, 'quote': 3484, 'ryan': 3485, 'sigalert': 3486, 'southbound': 3487, 'btwn': 3488, 'warm': 3489, 'impossible': 3490, 'dinner': 3491, 'mercy': 3492, 'bars': 3493, 'metrics': 3494, 'penalties': 3495, 'vi': 3496, 'marine': 3497, 'cm': 3498, 'opened': 3499, 'realize': 3500, 'apollobrown': 3501, 'auctions': 3502, 'diss': 3503, 'skills': 3504, 'britain': 3505, 'enter': 3506, 'ability': 3507, 'arriving': 3508, 'www': 3509, 'madison': 3510, 'cloud': 3511, 'angels': 3512, 'legion': 3513, 'sucks': 3514, 'challenge': 3515, 'alternatives': 3516, 'accionempresa': 3517, 'gerenciatodo': 3518, 'protect': 3519, 'horrific': 3520, 'fitness': 3521, 'excited': 3522, 'beer': 3523, 'consequences': 3524, 'drinks': 3525, 'ts': 3526, 'nri': 3527, 'trs': 3528, 'tdp': 3529, 'allowed': 3530, 'stress': 3531, 'worried': 3532, 'milkshake': 3533, 'recent': 3534, 'detectado': 3535, 'example': 3536, 'nytim': 3537, 'biological': 3538, 'widespread': 3539, 'relationship': 3540, 'cunt': 3541, 'royal': 3542, 'pets': 3543, 'batters': 3544, 'freezing': 3545, 'surge': 3546, 'sixth': 3547, 'garbage': 3548, 'gps': 3549, 'sort': 3550, 'deserves': 3551, 'dutch': 3552, 'dtn': 3553, 'flooded': 3554, 'charger': 3555, 'melt': 3556, 'failur': 3557, 'anger': 3558, 'vintage': 3559, 'messenger': 3560, 'residential': 3561, 'wings': 3562, 'memorial': 3563, 'coach': 3564, 'wither': 3565, 'seem': 3566, 'safely': 3567, 'entered': 3568, 'twitt': 3569, 'slip': 3570, 'understanding': 3571, 'corners': 3572, 'physical': 3573, 'vid': 3574, 'trubgme': 3575, 'tony': 3576, 'kerricktrial': 3577, 'transit': 3578, 'certainly': 3579, 'apparent': 3580, 'perhaps': 3581, 'hunger': 3582, 'gamergate': 3583, 'tidal': 3584, 'fbi': 3585, 'grateful': 3586, 'nytimes': 3587, 'notifications': 3588, 'te': 3589, 'trash': 3590, 'tinyjecht': 3591, 'sampling': 3592, 'somalia': 3593, 'bg': 3594, 'random': 3595, 'crystal': 3596, 'nba': 3597, 'haiyan': 3598, 'jim': 3599, 'terms': 3600, 'ordered': 3601, 'koinnews': 3602, 'aa': 3603, 'swear': 3604, 'alex': 3605, 'jay': 3606, 'responsible': 3607, 'christians': 3608, 'cameron': 3609, 'bees': 3610, 'yahoo': 3611, 'residents': 3612, 'hieroglyphics': 3613, 'honors': 3614, 'lowly': 3615, 'nation': 3616, 'rid': 3617, 'removal': 3618, 'range': 3619, 'ne': 3620, 'nike': 3621, 'crashing': 3622, 'forgot': 3623, 'catch': 3624, 'gmt': 3625, 'souls': 3626, 'heading': 3627, 'credit': 3628, 'sophie': 3629, 'patrick': 3630, 'deck': 3631, 'adventures': 3632, 'plot': 3633, 'offers': 3634, 'breakingnews': 3635, 'longest': 3636, 'digit': 3637, 'unknown': 3638, 'reut': 3639, 'armed': 3640, 'remembered': 3641, 'bedroom': 3642, 'speaker': 3643, 'complex': 3644, 'violence': 3645, 'key': 3646, 'tflbusalerts': 3647, 'bears': 3648, 'reshapes': 3649, 'movi': 3650, 'brand': 3651, 'mega': 3652, 'marker': 3653, 'reminder': 3654, 'blames': 3655, 'instagram': 3656, 'mfs': 3657, 'designs': 3658, 'lego': 3659, 'heartless': 3660, 'whipped': 3661, 'utter': 3662, 'foul': 3663, 'longs': 3664, 'clip': 3665, 'bowling': 3666, 'barackobama': 3667, 'belongs': 3668, 'curb': 3669, 'bulletin': 3670, 'roof': 3671, 'greece': 3672, 'meals': 3673, 'indonesia': 3674, 'hated': 3675, 'blame': 3676, 'zouma': 3677, 'throwing': 3678, 'flew': 3679, 'covers': 3680, 'healing': 3681, 'fair': 3682, 'chil': 3683, 'cecilthelion': 3684, 'ops': 3685, 'everyon': 3686, 'repeat': 3687, 'gf': 3688, 'lip': 3689, 'estate': 3690, 'iii': 3691, 'halifax': 3692, 'tie': 3693, 'kisii': 3694, 'grew': 3695, 'thinks': 3696, 'provide': 3697, 'treatment': 3698, 'stands': 3699, 'blah': 3700, 'chosen': 3701, 'pit': 3702, 'vegetarian': 3703, 'climatechange': 3704, 'pissed': 3705, 'flashbacks': 3706, 'console': 3707, 'kraft': 3708, 'singles': 3709, 'helicopters': 3710, 'activities': 3711, 'worker': 3712, 'milk': 3713, 'routecomplex': 3714, 'noaa': 3715, 'looping': 3716, 'ruined': 3717, 'bump': 3718, 'tb': 3719, 'throwback': 3720, 'cov': 3721, 'exc': 3722, 'mov': 3723, 'firetruck': 3724, 'firefighting': 3725, 'cites': 3726, 'interlaken': 3727, 'macia': 3728, 'cc': 3729, 'everytime': 3730, 'cruise': 3731, 'trials': 3732, 'repay': 3733, 'strict': 3734, 'liability': 3735, 'aviation': 3736, 'beware': 3737, 'temper': 3738, 'foxy': 3739, 'gn': 3740, 'thy': 3741, 'lakes': 3742, 'restaur': 3743, 'bill': 3744, 'daesh': 3745, 'june': 3746, 'legendary': 3747, 'whenever': 3748, 'hahahaha': 3749, 'lolol': 3750, 'wwe': 3751, 'atmospheric': 3752, 'newz': 3753, 'visits': 3754, 'ridicul': 3755, 'backup': 3756, 'bwp': 3757, 'idmhswewqw': 3758, 'nepal': 3759, 'buried': 3760, 'soldier': 3761, 'ranking': 3762, 'enormous': 3763, 'denial': 3764, 'adjust': 3765, 'shoe': 3766, 'extender': 3767, 'diarrhea': 3768, 'stressful': 3769, 'selfie': 3770, 'thuggin': 3771, 'tru': 3772, 'jhpdssvhv': 3773, 'nv': 3774, 'ut': 3775, 'vet': 3776, 'proper': 3777, 'mariah': 3778, 'michaelsos': 3779, 'reopen': 3780, 'advice': 3781, 'solicitor': 3782, 'lonely': 3783, 'muzzamil': 3784, 'offr': 3785, 'acoustic': 3786, 'poorly': 3787, 'indie': 3788, 'dystopian': 3789, 'teens': 3790, 'escaping': 3791, 'priceless': 3792, 'pisgah': 3793, 'invaded': 3794, 'sons': 3795, 'psalms': 3796, 'sin': 3797, 'thighs': 3798, 'tide': 3799, 'safari': 3800, 'magazine': 3801, 'fold': 3802, 'snd': 3803, 'vital': 3804, 'log': 3805, 'function': 3806, 'grills': 3807, 'cheap': 3808, 'vacation': 3809, 'aunt': 3810, 'isidcubj': 3811, 'saturn': 3812, 'lawsuit': 3813, 'greatbritishbakeoff': 3814, 'jumped': 3815, 'upwards': 3816, 'taught': 3817, 'occur': 3818, 'precious': 3819, 'weathernetwork': 3820, 'correct': 3821, 'challenged': 3822, 'genius': 3823, 'ed': 3824, 'hinton': 3825, 'evacuating': 3826, 'jamesmelville': 3827, 'promote': 3828, 'groups': 3829, 'northwestern': 3830, 'finished': 3831, 'completed': 3832, 'closures': 3833, 'individuals': 3834, 'permanent': 3835, 'setlist': 3836, 'greedy': 3837, 'emot': 3838, 'sdgoutwntb': 3839, 'moves': 3840, 'fnaf': 3841, 'wattpad': 3842, 'sean': 3843, 'fatally': 3844, 'vermont': 3845, 'channels': 3846, 'transformed': 3847, 'liable': 3848, 'artist': 3849, 'thegame': 3850, 'emperor': 3851, 'ra': 3852, 'escaped': 3853, 'corey': 3854, 'label': 3855, 'backyard': 3856, 'higher': 3857, 'conclud': 3858, 'sorrows': 3859, 'amirit': 3860, 'dumb': 3861, 'giveaway': 3862, 'stu': 3863, 'tyre': 3864, 'entrepreneur': 3865, 'publicizing': 3866, 'lnp': 3867, 'permanently': 3868, 'anna': 3869, 'earbuds': 3870, 'livingsafely': 3871, 'nixon': 3872, 'hiding': 3873, 'bel': 3874, 'mc': 3875, 'arsonistmusic': 3876, 'college': 3877, 'espn': 3878, 'diaporama': 3879, 'sixpenceee': 3880, 'located': 3881, 'arwx': 3882, 'apart': 3883, 'wanting': 3884, 'sniping': 3885, 'chevrolet': 3886, 'unhappiness': 3887, 'delayed': 3888, 'exposed': 3889, 'cash': 3890, 'ke': 3891, 'ki': 3892, 'horizon': 3893, 'resources': 3894, 'applaud': 3895, 'inc': 3896, 'condos': 3897, 'hamilton': 3898, 'kosciusko': 3899, 'newberg': 3900, 'jacque': 3901, 'betz': 3902, 'coral': 3903, 'mock': 3904, 'psa': 3905, 'cal': 3906, 'crusty': 3907, 'schedul': 3908, 'knight': 3909, 'electricity': 3910, 'begging': 3911, 'nicki': 3912, 'minaj': 3913, 'ovofest': 3914, 'downstairs': 3915, 'insomnia': 3916, 'grrrr': 3917, 'anellatulip': 3918, 'magisters': 3919, 'gates': 3920, 'mandatory': 3921, 'centers': 3922, 'nankana': 3923, 'sahib': 3924, 'correspondent': 3925, 'nyt': 3926, 'spontaneously': 3927, 'motiv': 3928, 'asics': 3929, 'ronnie': 3930, 'fieg': 3931, 'kith': 3932, 'bluedio': 3933, 'headset': 3934, 'tasmania': 3935, 'mkx': 3936, 'difficult': 3937, 'esp': 3938, 'appointment': 3939, 'excuse': 3940, 'environmental': 3941, 'tuning': 3942, 'chunks': 3943, 'downpours': 3944, 'liveonk': 3945, 'grenades': 3946, 'ironically': 3947, 'graveyard': 3948, 'explains': 3949, 'comingsoon': 3950, 'abu': 3951, 'baraa': 3952, 'sharing': 3953, 'tf': 3954, 'spirits': 3955, 'eastward': 3956, 'auto': 3957, 'specialists': 3958, 'reacted': 3959, 'concerns': 3960, 'settle': 3961, 'equal': 3962, 'hutch': 3963, 'bluejay': 3964, 'diego': 3965, 'facing': 3966, 'groom': 3967, 'edge': 3968, 'kidding': 3969, 'hous': 3970, 'sosfam': 3971, 'portugal': 3972, 'suffered': 3973, 'shore': 3974, 'faceless': 3975, 'pickerel': 3976, 'montgomery': 3977, 'expensive': 3978, 'dw': 3979, 'norman': 3980, 'lapse': 3981, 'lines': 3982, 'raw': 3983, 'rolls': 3984, 'scars': 3985, 'tumblr': 3986, 'hoping': 3987, 'labour': 3988, 'easi': 3989, 'republic': 3990, 'freaking': 3991, 'underway': 3992, 'knoxville': 3993, 'gem': 3994, 'rmg': 3995, 'cracking': 3996, 'nh': 3997, 'mins': 3998, 'manufactured': 3999, 'gardens': 4000, 'wreckag': 4001, 'spending': 4002, 'elsa': 4003, 'honest': 4004, 'inspired': 4005, 'realised': 4006, 'fil': 4007, 'drawn': 4008, 'trinity': 4009, 'asks': 4010, 'tahoe': 4011, 'helps': 4012, 'bottle': 4013, 'victoria': 4014, 'nhl': 4015, 'yep': 4016, 'downfall': 4017, 'growth': 4018, 'bites': 4019, 'features': 4020, 'assholes': 4021, 'nnw': 4022, 'expert': 4023, 'prepper': 4024, 'viralspel': 4025, 'jewelry': 4026, 'euro': 4027, 'crimes': 4028, 'despite': 4029, 'crippling': 4030, 'cafe': 4031, 'bite': 4032, 'sweater': 4033, 'cage': 4034, 'dealing': 4035, 'lmfaoooo': 4036, 'xl': 4037, 'hockey': 4038, 'mufc': 4039, 'dirk': 4040, 'basic': 4041, 'loads': 4042, 'kinder': 4043, 'buckle': 4044, 'casual': 4045, 'stylish': 4046, 'pockets': 4047, 'whistle': 4048, 'knife': 4049, 'capsized': 4050, 'workout': 4051, 'engage': 4052, 'corner': 4053, 'knox': 4054, 'unfortunately': 4055, 'proceeds': 4056, 'items': 4057, 'typical': 4058, 'mic': 4059, 'dealbreaker': 4060, 'aq': 4061, 'auction': 4062, 'retro': 4063, 'sudden': 4064, 'patna': 4065, 'brian': 4066, 'isil': 4067, 'utv': 4068, 'demi': 4069, 'stans': 4070, 'balance': 4071, 'bigamist': 4072, 'urgent': 4073, 'villagers': 4074, 'gloucester': 4075, 'defendant': 4076, 'gander': 4077, 'curiosity': 4078, 'forgive': 4079, 'hatred': 4080, 'bernardino': 4081, 'luke': 4082, 'microphone': 4083, 'shocking': 4084, 'cmon': 4085, 'polit': 4086, 'pakpattan': 4087, 'proposed': 4088, 'trek': 4089, 'sympathy': 4090, 'nsfw': 4091, 'aust': 4092, 'gr': 4093, 'scare': 4094, 'latimes': 4095, 'ctd': 4096, 'rockbottomradfm': 4097, 'challenges': 4098, 'letters': 4099, 'encounter': 4100, 'pulwama': 4101, 'liv': 4102, 'micom': 4103, 'contrast': 4104, 'gridlock': 4105, 'tanks': 4106, 'jupiter': 4107, 'rooms': 4108, 'bother': 4109, 'drum': 4110, 'stick': 4111, 'wcw': 4112, 'tha': 4113, 'ambul': 4114, 'significant': 4115, 'creates': 4116, 'questioning': 4117, 'regarding': 4118, 'disappearance': 4119, 'whomever': 4120, 'skill': 4121, 'troll': 4122, 'boise': 4123, 'lifts': 4124, 'odds': 4125, 'glided': 4126, 'answ': 4127, 'necessary': 4128, 'jason': 4129, 'losing': 4130, 'las': 4131, 'initial': 4132, 'affects': 4133, 'faulty': 4134, 'concrete': 4135, 'specialist': 4136, 'autoinsurance': 4137, 'clueless': 4138, 'ydetwgribk': 4139, 'factors': 4140, 'dm': 4141, 'pkwy': 4142, 'manutd': 4143, 'coyotes': 4144, 'lizards': 4145, 'approaching': 4146, 'niagara': 4147, 'removed': 4148, 'kca': 4149, 'votejktid': 4150, 'screw': 4151, 'discuss': 4152, 'bradleybrad': 4153, 'upgraded': 4154, 'mohammed': 4155, 'michelebachman': 4156, 'firey': 4157, 'inferno': 4158, 'accept': 4159, 'globalwarming': 4160, 'wealthy': 4161, 'devil': 4162, 'greg': 4163, 'negros': 4164, 'mx': 4165, 'batfanuk': 4166, 'favs': 4167, 'shantae': 4168, 'whatev': 4169, 'chem': 4170, 'peacefully': 4171, 'fal': 4172, 'proud': 4173, 'bronx': 4174, 'overload': 4175, 'wannabe': 4176, 'chances': 4177, 'options': 4178, 'write': 4179, 'theological': 4180, 'troy': 4181, 'fourth': 4182, 'albany': 4183, 'gunmen': 4184, 'drivers': 4185, 'language': 4186, 'spilled': 4187, 'crude': 4188, 'pedestrians': 4189, 'nostrils': 4190, 'lit': 4191, 'liter': 4192, 'pol': 4193, 'montetjwitter': 4194, 'cld': 4195, 'sct': 4196, 'bkn': 4197, 'drag': 4198, 'wayne': 4199, 'puppy': 4200, 'dryer': 4201, 'paper': 4202, 'outage': 4203, 'fragile': 4204, 'feinstein': 4205, 'hurry': 4206, 'nwo': 4207, 'judge': 4208, 'recognize': 4209, 'certificate': 4210, 'touched': 4211, 'devalue': 4212, 'edyfoepu': 4213, 'mkxlpkfa': 4214, 'slayer': 4215, 'jeff': 4216, 'riyadh': 4217, 'arabian': 4218, 'adults': 4219, 'oliver': 4220, 'ttes': 4221, 'helpline': 4222, 'anxious': 4223, 'nfpa': 4224, 'et': 4225, 'regardless': 4226, 'beginners': 4227, 'customers': 4228, 'perquisite': 4229, 'internal': 4230, 'hermancranston': 4231, 'atk': 4232, 'letsfootball': 4233, 'skanndtyagi': 4234, 'respected': 4235, 'cgffpmr': 4236, 'summit': 4237, 'contain': 4238, 'weath': 4239, 'joneskyle': 4240, 'pomo': 4241, 'dydfvzamj': 4242, 'gofundm': 4243, 'mmmmmm': 4244, 'oooooohhhh': 4245, 'oooh': 4246, 'ooh': 4247, 'ga': 4248, 'tokyo': 4249, 'command': 4250, 'unity': 4251, 'breathing': 4252, 'finding': 4253, 'justified': 4254, 'sounding': 4255, 'braking': 4256, 'inevitably': 4257, 'wors': 4258, 'studio': 4259, 'sheer': 4260, 'odd': 4261, 'sail': 4262, 'rages': 4263, 'reaches': 4264, 'wod': 4265, 'hardcore': 4266, 'si': 4267, 'excitement': 4268, 'worn': 4269, 'syndrome': 4270, 'flip': 4271, 'heroin': 4272, 'uncle': 4273, 'displace': 4274, 'enhanced': 4275, 'uber': 4276, 'premature': 4277, 'porridge': 4278, 'hopes': 4279, 'amageddon': 4280, 'freespeech': 4281, 'tj': 4282, 'ho': 4283, 'babe': 4284, 'protests': 4285, 'mole': 4286, 'loses': 4287, 'rene': 4288, 'magnitude': 4289, 'intensifies': 4290, 'sexy': 4291, 'meme': 4292, 'earned': 4293, 'alexbelloli': 4294, 'sl': 4295, 'connecto': 4296, 'motorcraft': 4297, 'wpt': 4298, 'premium': 4299, 'layout': 4300, 'vanessa': 4301, 'li': 4302, 'goat': 4303, 'enroute': 4304, 'twentynine': 4305, 'wo': 4306, 'brock': 4307, 'descriptions': 4308, 'vip': 4309, 'surely': 4310, 'paved': 4311, 'hypocrisy': 4312, 'weston': 4313, 'custer': 4314, 'pennington': 4315, 'diplomacy': 4316, 'billneelynbc': 4317, 'humidity': 4318, 'compound': 4319, 'trail': 4320, 'teeth': 4321, 'sponsor': 4322, 'station': 4323, 'temp': 4324, 'hamburg': 4325, 'deny': 4326, 'tragic': 4327, 'claimed': 4328, 'riding': 4329, 'sputnik': 4330, 'custom': 4331, 'grass': 4332, 'homosexuality': 4333, 'shock': 4334, 'heal': 4335, 'ignored': 4336, 'affleck': 4337, 'exhaust': 4338, 'fm': 4339, 'greenway': 4340, 'presence': 4341, 'growing': 4342, 'clock': 4343, 'ethereal': 4344, 'born': 4345, 'performing': 4346, 'arts': 4347, 'reduced': 4348, 'journalism': 4349, 'plants': 4350, 'titanic': 4351, 'misery': 4352, 'tak': 4353, 'smooth': 4354, 'carried': 4355, 'conquest': 4356, 'shaker': 4357, 'remorse': 4358, 'worldnew': 4359, 'megadeth': 4360, 'deadliest': 4361, 'allies': 4362, 'dems': 4363, 'facility': 4364, 'ug': 4365, 'baruch': 4366, 'goldstein': 4367, 'weight': 4368, 'alarmed': 4369, 'lrt': 4370, 'bitcoin': 4371, 'btdjgwekqx': 4372, 'november': 4373, 'advanced': 4374, 'exposure': 4375, 'acdelco': 4376, 'artificial': 4377, 'ad': 4378, 'wftv': 4379, 'railways': 4380, 'unawares': 4381, 'player': 4382, 'brick': 4383, 'disruptive': 4384, 'soaking': 4385, 'alcohol': 4386, 'december': 4387, 'tutor': 4388, 'decades': 4389, 'university': 4390, 'yazidi': 4391, 'eurotunnel': 4392, 'coursing': 4393, 'weyrey': 4394, 'gidi': 4395, 'apt': 4396, 'sk': 4397, 'master': 4398, 'rubbl': 4399, 'approves': 4400, 'association': 4401, 'directors': 4402, 'choose': 4403, 'push': 4404, 'skqpwsnoin': 4405, 'achimota': 4406, 'liveonline': 4407, 'iokuuguq': 4408, 'divided': 4409, 'matthew': 4410, 'posted': 4411, 'nuggets': 4412, 'sand': 4413, 'karma': 4414, 'kiss': 4415, 'vampiro': 4416, 'luchaunderground': 4417, 'display': 4418, 'saf': 4419, 'vegetable': 4420, 'gear': 4421, 'gilbert': 4422, 'edllncvu': 4423, 'boko': 4424, 'haram': 4425, 'malik': 4426, 'jailed': 4427, 'unto': 4428, 'dec': 4429, 'len': 4430, 'compete': 4431, 'happi': 4432, 'ambulances': 4433, 'jake': 4434, 'techesback': 4435, 'payday': 4436, 'habits': 4437, 'seal': 4438, 'summerfate': 4439, 'sac': 4440, 'whao': 4441, 'pohycnd': 4442, 'hanna': 4443, 'dear': 4444, 'argument': 4445, 'referring': 4446, 'celtic': 4447, 'form': 4448, 'fte': 4449, 'swarm': 4450, 'sunny': 4451, 'beliefs': 4452, 'blutz': 4453, 'turning': 4454, 'enrt': 4455, 'feelin': 4456, 'circuit': 4457, 'scoopit': 4458, 'coincide': 4459, 'opposition': 4460, 'noted': 4461, 'jimmyfallon': 4462, 'fairy': 4463, 'dedicated': 4464, 'holmgren': 4465, 'lou': 4466, 'garfield': 4467, 'dances': 4468, 'dreaming': 4469, 'sarcasm': 4470, 'jealous': 4471, 'preservation': 4472, 'imagined': 4473, 'acc': 4474, 'kashmir': 4475, 'safmosksn': 4476, 'sony': 4477, 'weighs': 4478, 'oregon': 4479, 'hmu': 4480, 'blocks': 4481, 'atlantic': 4482, 'nosurrender': 4483, 'todays': 4484, 'delo': 4485, 'scuf': 4486, 'xb': 4487, 'relentless': 4488, 'candle': 4489, 'horn': 4490, 'bangladesh': 4491, 'komen': 4492, 'sketch': 4493, 'recommended': 4494, 'swing': 4495, 'hel': 4496, 'grants': 4497, 'fiasco': 4498, 'sid': 4499, 'jmkcbkcov': 4500, 'cannon': 4501, 'billboard': 4502, 'gopdebate': 4503, 'col': 4504, 'boring': 4505, 'tyr': 4506, 'customs': 4507, 'phew': 4508, 'requiring': 4509, 'drives': 4510, 'saturated': 4511, 'commonwealth': 4512, 'swansea': 4513, 'earthquakes': 4514, 'afc': 4515, 'frontlines': 4516, 'screamqueens': 4517, 'katherine': 4518, 'digging': 4519, 'evolve': 4520, 'politifiact': 4521, 'pants': 4522, 'shook': 4523, 'ssw': 4524, 'anza': 4525, 'shooter': 4526, 'cod': 4527, 'cutting': 4528, 'billings': 4529, 'rapidcity': 4530, 'cheyenn': 4531, 'mentioned': 4532, 'bil': 4533, 'britishbakeoff': 4534, 'geneva': 4535, 'esteemed': 4536, 'childhood': 4537, 'mouth': 4538, 'southdowns': 4539, 'hampshire': 4540, 'treeporn': 4541, 'assembly': 4542, 'dolce': 4543, 'redeemeth': 4544, 'servants': 4545, 'legio': 4546, 'rag': 4547, 'whts': 4548, 'colluded': 4549, 'wht': 4550, 'idis': 4551, 'mulop': 4552, 'removing': 4553, 'inec': 4554, 'abia': 4555, 'pattern': 4556, 'lamha': 4557, 'coaster': 4558, 'niall': 4559, 'steal': 4560, 'wholesale': 4561, 'pickup': 4562, 'acquire': 4563, 'addition': 4564, 'driv': 4565, 'idfire': 4566, 'sheet': 4567, 'pa': 4568, 'josh': 4569, 'xxx': 4570, 'metlife': 4571, 'racing': 4572, 'forth': 4573, 'chases': 4574, 'generalnews': 4575, 'gallipoli': 4576, 'johannesburg': 4577, 'mutual': 4578, 'streaming': 4579, 'nails': 4580, 'relive': 4581, 'nope': 4582, 'jedi': 4583, 'hasbro': 4584, 'destructive': 4585, 'eastbound': 4586, 'freeway': 4587, 'jeep': 4588, 'marketforce': 4589, 'jamaicaplain': 4590, 'wolves': 4591, 'jordan': 4592, 'bmw': 4593, 'viralspell': 4594, 'eysvvzaqm': 4595, 'shelby': 4596, 'washingtonpost': 4597, 'democrats': 4598, 'charity': 4599, 'corleonedaboss': 4600, 'meets': 4601, 'cindy': 4602, 'noonan': 4603, 'cindynoonan': 4604, 'heartbreak': 4605, 'baltimore': 4606, 'yahistorical': 4607, 'undergroundrailraod': 4608, 'phase': 4609, 'sibling': 4610, 'cta': 4611, 'technica': 4612, 'pres': 4613, 'themed': 4614, 'tops': 4615, 'quite': 4616, 'tale': 4617, 'reject': 4618, 'nations': 4619, 'fueling': 4620, 'adopt': 4621, 'blueprint': 4622, 'nazi': 4623, 'tgirl': 4624, 'torching': 4625, 'clos': 4626, 'logan': 4627, 'sep': 4628, 'ticket': 4629, 'pinpoint': 4630, 'engine': 4631, 'defects': 4632, 'cherokee': 4633, 'hackers': 4634, 'fortune': 4635, 'njdpgxv': 4636, 'quak': 4637, 'peterjukes': 4638, 'grounds': 4639, 'committed': 4640, 'individu': 4641, 'musicians': 4642, 'borderlands': 4643, 'danisnotonfire': 4644, 'phil': 4645, 'various': 4646, 'attract': 4647, 'walter': 4648, 'explain': 4649, 'reckless': 4650, 'westeros': 4651, 'finishing': 4652, 'rick': 4653, 'britney': 4654, 'rey': 4655, 'walls': 4656, 'reagan': 4657, 'administration': 4658, 'throughout': 4659, 'announced': 4660, 'korea': 4661, 'brooke': 4662, 'assisting': 4663, 'invited': 4664, 'looters': 4665, 'sight': 4666, 'dock': 4667, 'refuses': 4668, 'fi': 4669, 'democraci': 4670, 'etisalat': 4671, 'mb': 4672, 'anyname': 4673, 'camps': 4674, 'ct': 4675, 'pancakes': 4676, 'gunsense': 4677, 'renison': 4678, 'tin': 4679, 'inciweb': 4680, 'rogue': 4681, 'siskiyou': 4682, 'startup': 4683, 'distinct': 4684, 'rockstar': 4685, 'tir': 4686, 'soooo': 4687, 'rudd': 4688, 'ud': 4689, 'ypres': 4690, 'cosponsor': 4691, 'renewhealth': 4692, 'insight': 4693, 'whitehouse': 4694, 'es': 4695, 'required': 4696, 'diff': 4697, 'barry': 4698, 'solo': 4699, 'sweetyoung': 4700, 'contract': 4701, 'vantage': 4702, 'visibility': 4703, 'cdcgov': 4704, 'hurricanes': 4705, 'names': 4706, 'hahahah': 4707, 'embroidered': 4708, 'metrofmtalk': 4709, 'rejected': 4710, 'minions': 4711, 'rainfall': 4712, 'startups': 4713, 'throat': 4714, 'landscape': 4715, 'barely': 4716, 'scale': 4717, 'figure': 4718, 'carolina': 4719, 'martinmj': 4720, 'yougov': 4721, 'thin': 4722, 'teenagers': 4723, 'violations': 4724, 'evanston': 4725, 'bicycles': 4726, 'cast': 4727, 'fathers': 4728, 'rated': 4729, 'imdb': 4730, 'su': 4731, 'emerges': 4732, 'quarter': 4733, 'earnings': 4734, 'stocks': 4735, 'colder': 4736, 'fewmoretweets': 4737, 'neighbors': 4738, 'notice': 4739, 'imported': 4740, 'innovation': 4741, 'sharethi': 4742, 'selection': 4743, 'prompted': 4744, 'philadelphia': 4745, 'marquis': 4746, 'carlos': 4747, 'underwriter': 4748, 'product': 4749, 'blizzheroes': 4750, 'diablo': 4751, 'wrapped': 4752, 'gravel': 4753, 'originalfunko': 4754, 'spencers': 4755, 'continually': 4756, 'friendly': 4757, 'keratin': 4758, 'treatments': 4759, 'brazilian': 4760, 'photographer': 4761, 'blunt': 4762, 'irvine': 4763, 'chp': 4764, 'detouring': 4765, 'motion': 4766, 'bicycle': 4767, 'banquet': 4768, 'roger': 4769, 'brady': 4770, 'peac': 4771, 'pcps': 4772, 'physicians': 4773, 'chewing': 4774, 'gum': 4775, 'traveling': 4776, 'minhazmerchant': 4777, 'ouvindo': 4778, 'smart': 4779, 'worries': 4780, 'murfreesboro': 4781, 'detroit': 4782, 'square': 4783, 'bail': 4784, 'envw': 4785, 'nickcocofree': 4786, 'juliedicaro': 4787, 'jdabe': 4788, 'pieces': 4789, 'playthursdays': 4790, 'everybody': 4791, 'mercado': 4792, 'bass': 4793, 'rejects': 4794, 'lately': 4795, 'stretch': 4796, 'ntsb': 4797, 'denmark': 4798, 'trunk': 4799, 'trick': 4800, 'hr': 4801, 'suck': 4802, 'gambit': 4803, 'suru': 4804, 'architecture': 4805, 'wav': 4806, 'volga': 4807, 'forb': 4808, 'cartoon': 4809, 'bones': 4810, 'witter': 4811, 'cbplawy': 4812, 'waters': 4813, 'epicenter': 4814, 'ima': 4815, 'bluejays': 4816, 'columbia': 4817, 'sanctioned': 4818, 'sends': 4819, 'protesting': 4820, 'professional': 4821, 'doug': 4822, 'legs': 4823, 'globe': 4824, 'surface': 4825, 'ruining': 4826, 'scariest': 4827, 'mens': 4828, 'waist': 4829, 'director': 4830, 'histori': 4831, 'epilepsy': 4832, 'illinois': 4833, 'slipped': 4834, 'happily': 4835, 'excuses': 4836, 'squirrel': 4837, 'bio': 4838, 'dept': 4839, 'southeast': 4840, 'tigers': 4841, 'affecting': 4842, 'starving': 4843, 'aquarium': 4844, 'sailing': 4845, 'destroyer': 4846, 'decor': 4847, 'kyle': 4848, 'skirt': 4849, 'pipe': 4850, 'apartments': 4851, 'foodscare': 4852, 'offersgo': 4853, 'nestleindia': 4854, 'slips': 4855, 'magginoodle': 4856, 'humanconsumpt': 4857, 'mafia': 4858, 'windy': 4859, 'source': 4860, 'tattoo': 4861, 'donate': 4862, 'receive': 4863, 'assistance': 4864, 'ac': 4865, 'zayn': 4866, 'spinningbot': 4867, 'surv': 4868, 'dollars': 4869, 'pharaoh': 4870, 'cherry': 4871, 'sweat': 4872, 'atmosphere': 4873, 'gig': 4874, 'kitten': 4875, 'cityofcalgary': 4876, 'chjecfrv': 4877, 'royalcarribean': 4878, 'teamhendrick': 4879, 'highly': 4880, 'mnpdnashville': 4881, 'mak': 4882, 'grains': 4883, 'capacity': 4884, 'available': 4885, 'miyagi': 4886, 'harrybecar': 4887, 'chan': 4888, 'capitalism': 4889, 'wudlkqncx': 4890, 'fema': 4891, 'showers': 4892, 'mirage': 4893, 'behalf': 4894, 'cuban': 4895, 'jerry': 4896, 'grenade': 4897, 'shizune': 4898, 'favorites': 4899, 'economies': 4900, 'coping': 4901, 'vgbootcamp': 4902, 'sn': 4903, 'vabengal': 4904, 'zss': 4905, 'chattanooga': 4906, 'hella': 4907, 'cries': 4908, 'kerry': 4909, 'helene': 4910, 'godslove': 4911, 'thanku': 4912, 'coworker': 4913, 'threaten': 4914, 'nan': 4915, 'personally': 4916, 'punish': 4917, 'matches': 4918, 'revelation': 4919, 'potentially': 4920, 'arizona': 4921, 'floated': 4922, 'tc': 4923, 'infosec': 4924, 'strongly': 4925, 'condemn': 4926, 'timkaine': 4927, 'agency': 4928, 'ee': 4929, 'cycling': 4930, 'mishap': 4931, 'crane': 4932, 'hah': 4933, 'impacted': 4934, 'parade': 4935, 'tweetlikeitsseptemberth': 4936, 'ccot': 4937, 'yycstorm': 4938, 'bands': 4939, 'coat': 4940, 'antonio': 4941, 'paris': 4942, 'piner': 4943, 'horndale': 4944, 'walker': 4945, 'prevention': 4946, 'der': 4947, 'worrying': 4948, 'boundaries': 4949, 'unnecessary': 4950, 'schedule': 4951, 'testing': 4952, 'hearthstone': 4953, 'aussies': 4954, 'premonitions': 4955, 'iikssjgbdn': 4956, 'lee': 4957, 'fart': 4958, 'lemon': 4959, 'rossum': 4960, 'talkin': 4961, 'pbban': 4962, 'flags': 4963, 'xp': 4964, 'european': 4965, 'newswatch': 4966, 'lock': 4967, 'lansdowne': 4968, 'sts': 4969, 'ptbo': 4970, 'willian': 4971, 'midnight': 4972, 'sake': 4973, 'missiles': 4974, 'term': 4975, 'atl': 4976, 'fran': 4977, 'punjab': 4978, 'platform': 4979, 'volleyball': 4980, 'messed': 4981, 'fevwarrior': 4982, 'walked': 4983, 'cobra': 4984, 'doublecups': 4985, 'lfkmtzaekk': 4986, 'prod': 4987, 'thisizbwright': 4988, 'forbid': 4989, 'anyways': 4990, 'pertains': 4991, 'impress': 4992, 'wrist': 4993, 'spray': 4994, 'butterfinger': 4995, 'priorities': 4996, 'southampton': 4997, 'arnhem': 4998, 'extends': 4999, 'neck': 5000, 'cyprus': 5001, 'taliban': 5002, 'headlines': 5003, 'criminal': 5004, 'moral': 5005, 'systems': 5006, 'endorses': 5007, 'serve': 5008, 'sooo': 5009, 'exacerbated': 5010, 'mgeajelul': 5011, 'oun': 5012, 'societi': 5013, 'samanthaturne': 5014, 'chairs': 5015, 'treated': 5016, 'priority': 5017, 'cope': 5018, 'pledge': 5019, 'allegiance': 5020, 'monkey': 5021, 'fist': 5022, 'investigate': 5023, 'smil': 5024, 'collective': 5025, 'diverse': 5026, 'elite': 5027, 'catfish': 5028, 'digital': 5029, 'bakeofffriends': 5030, 'zionism': 5031, 'ushanka': 5032, 'fur': 5033, 'badge': 5034, 'lions': 5035, 'bell': 5036, 'irony': 5037, 'goulburn': 5038, 'critical': 5039, 'gabon': 5040, 'bloomberg': 5041, 'moms': 5042, 'pill': 5043, 'develop': 5044, 'extension': 5045, 'rained': 5046, 'delete': 5047, 'bridges': 5048, 'pileup': 5049, 'hiphop': 5050, 'durant': 5051, 'favorit': 5052, 'shaking': 5053, 'greenharvard': 5054, 'battered': 5055, 'whatsapp': 5056, 'sqsyuehyi': 5057, 'tndpm': 5058, 'ankle': 5059, 'batteries': 5060, 'facts': 5061, 'donald': 5062, 'drones': 5063, 'brief': 5064, 'swept': 5065, 'rihanna': 5066, 'emsc': 5067, 'pt': 5068, 'selling': 5069, 'unavoidable': 5070, 'consequence': 5071, 'socialism': 5072, 'bbdpnjxsx': 5073, 'toxic': 5074, 'savebees': 5075, 'hack': 5076, 'wmur': 5077, 'dressed': 5078, 'warne': 5079, 'shocked': 5080, 'sponge': 5081, 'gunshot': 5082, 'bicep': 5083, 'torso': 5084, 'jonathanferrel': 5085, 'awaits': 5086, 'communication': 5087, 'maps': 5088, 'limit': 5089, 'outflow': 5090, 'burnt': 5091, 'trend': 5092, 'resulting': 5093, 'technologies': 5094, 'basement': 5095, 'slicker': 5096, 'drugs': 5097, 'instantly': 5098, 'nato': 5099, 'hoped': 5100, 'marines': 5101, 'con': 5102, 'uranium': 5103, 'fishing': 5104, 'attempting': 5105, 'impulse': 5106, 'caus': 5107, 'core': 5108, 'unstable': 5109, 'infinity': 5110, 'pace': 5111, 'sportwatch': 5112, 'nikeplus': 5113, 'yonew': 5114, 'intersection': 5115, 'kanye': 5116, 'empire': 5117, 'rifles': 5118, 'dq': 5119, 'combust': 5120, 'luka': 5121, 'alois': 5122, 'keith': 5123, 'affiliate': 5124, 'legislation': 5125, 'differ': 5126, 'grandpa': 5127, 'absolute': 5128, 'origin': 5129, 'hahah': 5130, 'ipod': 5131, 'que': 5132, 'rap': 5133, 'april': 5134, 'chronicle': 5135, 'fallacy': 5136, 'elbow': 5137, 'marketing': 5138, 'deserve': 5139, 'schiphol': 5140, 'tumbling': 5141, 'smiles': 5142, 'suruc': 5143, 'avengers': 5144, 'comedy': 5145, 'beauty': 5146, 'cak': 5147, 'narendramodi': 5148, 'retweet': 5149, 'pickens': 5150, 'debatequestionswewanttohear': 5151, 'frank': 5152, 'opp': 5153, 'jump': 5154, 'salmon': 5155, 'ptsdchat': 5156, 'ironic': 5157, 'africans': 5158, 'pretend': 5159, 'thurs': 5160, 'gust': 5161, 'loading': 5162, 'gays': 5163, 'destroying': 5164, 'complet': 5165, 'cloudy': 5166, 'londonfire': 5167, 'thankfully': 5168, 'bp': 5169, 'cryptic': 5170, 'guided': 5171, 'dopey': 5172, 'williams': 5173, 'destruct': 5174, 'langley': 5175, 'assistant': 5176, 'crosses': 5177, 'reshape': 5178, 'mineral': 5179, 'tornados': 5180, 'ak': 5181, 'healthcare': 5182, 'sandy': 5183, 'cyber': 5184, 'juice': 5185, 'busy': 5186, 'cancers': 5187, 'equate': 5188, 'blackpool': 5189, 'kowing': 5190, 'beclearoncanc': 5191, 'values': 5192, 'shipwreck': 5193, 'aw': 5194, 'nbc': 5195, 'pounded': 5196, 'peeps': 5197, 'treating': 5198, 'placing': 5199, 'strengthening': 5200, 'ghostwriter': 5201, 'sterling': 5202, 'missionhills': 5203, 'nurse': 5204, 'bundle': 5205, 'kalle': 5206, 'mattson': 5207, 'condemnation': 5208, 'outfit': 5209, 'mischief': 5210, 'mina': 5211, 'raiders': 5212, 'count': 5213, 'dante': 5214, 'balls': 5215, 'dailyko': 5216, 'gameplay': 5217, 'bets': 5218, 'therapies': 5219, 'boeing': 5220, 'thankful': 5221, 'tunes': 5222, 'facilities': 5223, 'affect': 5224, 'jail': 5225, 'drew': 5226, 'talkradio': 5227, 'cee': 5228, 'pendleton': 5229, 'drifting': 5230, 'commute': 5231, 'host': 5232, 'actress': 5233, 'theory': 5234, 'dwarves': 5235, 'ergo': 5236, 'rotator': 5237, 'cuff': 5238, 'penalty': 5239, 'lyrics': 5240, 'douchebag': 5241, 'confirmation': 5242, 'showing': 5243, 'ov': 5244, 'bethlehem': 5245, 'quartz': 5246, 'nylon': 5247, 'fabric': 5248, 'thirst': 5249, 'bago': 5250, 'socialnews': 5251, 'wolf': 5252, 'govern': 5253, 'quotes': 5254, 'auckland': 5255, 'northland': 5256, 'pitcher': 5257, 'mississauga': 5258, 'askcharley': 5259, 'devast': 5260, 'rioters': 5261, 'dom': 5262, 'watertown': 5263, 'roh': 5264, 'bunch': 5265, 'scenes': 5266, 'difference': 5267, 'dears': 5268, 'playstation': 5269, 'ashayo': 5270, 'wide': 5271, 'description': 5272, 'goku': 5273, 'turkmen': 5274, 'offices': 5275, 'sam': 5276, 'coal': 5277, 'commerce': 5278, 'ymcglaun': 5279, 'yelling': 5280, 'nwajlicr': 5281, 'phixznvyn': 5282, 'wheeler': 5283, 'cleric': 5284, 'tanzania': 5285, 'declined': 5286, 'census': 5287, 'breakfast': 5288, 'responder': 5289, 'commit': 5290, 'idfir': 5291, 'instant': 5292, 'hannaph': 5293, 'emails': 5294, 'rapping': 5295, 'eric': 5296, 'inevitable': 5297, 'marijuana': 5298, 'surrounding': 5299, 'abusing': 5300, 'obispo': 5301, 'rice': 5302, 'ori': 5303, 'cubs': 5304, 'sur': 5305, 'otrametlife': 5306, 'asylum': 5307, 'revenues': 5308, 'teslas': 5309, 'brewing': 5310, 'poland': 5311, 'buying': 5312, 'lighting': 5313, 'technolog': 5314, 'medals': 5315, 'killings': 5316, 'native': 5317, 'dutton': 5318, 'auspol': 5319, 'monkeys': 5320, 'rutherford': 5321, 'pl': 5322, 'fossil': 5323, 'injur': 5324, 'breathe': 5325, 'surfers': 5326, 'terrifying': 5327, 'enabled': 5328, 'threw': 5329, 'nude': 5330, 'andy': 5331, 'signing': 5332, 'woodlawn': 5333, 'construction': 5334, 'laundry': 5335, 'alloy': 5336, 'vampodgyw': 5337, 'zevakjapcz': 5338, 'emotions': 5339, 'temptation': 5340, 'dis': 5341, 'helsinki': 5342, 'knocking': 5343, 'tremor': 5344, 'soft': 5345, 'eudrylantiqua': 5346, 'salvi': 5347, 'bistro': 5348, 'regional': 5349, 'identitytheft': 5350, 'knob': 5351, 'committee': 5352, 'personnel': 5353, 'arrestpastornganga': 5354, 'damaging': 5355, 'vibez': 5356, 'listenl': 5357, 'define': 5358, 'guaranteed': 5359, 'bashes': 5360, 'iranians': 5361, 'shouting': 5362, 'voodoo': 5363, 'derails': 5364, 'delays': 5365, 'fit': 5366, 'stomach': 5367, 'supreme': 5368, 'harwich': 5369, 'raynor': 5370, 'imperfect': 5371, 'slides': 5372, 'northwest': 5373, 'abortion': 5374, 'friggin': 5375, 'rapp': 5376, 'sanchez': 5377, 'insas': 5378, 'aogashima': 5379, 'niece': 5380, 'fri': 5381, 'witness': 5382, 'gaining': 5383, 'soak': 5384, 'mutant': 5385, 'talent': 5386, 'survey': 5387, 'ministers': 5388, 'fennovoima': 5389, 'fixed': 5390, 'uptown': 5391, 'describing': 5392, 'naval': 5393, 'palermo': 5394, 'occurs': 5395, 'targeted': 5396, 'jacket': 5397, 'unrelenting': 5398, 'careless': 5399, 'campfir': 5400, 'cnew': 5401, 'minimehh': 5402, 'cjoyner': 5403, 'overlooking': 5404, 'blacklivesmatt': 5405, 'onlin': 5406, 'suspense': 5407, 'addiction': 5408, 'ads': 5409, 'cawx': 5410, 'soo': 5411, 'hall': 5412, 'deeds': 5413, 'rape': 5414, 'chose': 5415, 'zak': 5416, 'bagans': 5417, 'thetwister': 5418, 'costly': 5419, 'wce': 5420, 'paid': 5421, 'dudes': 5422, 'ally': 5423, 'urs': 5424, 'rs': 5425, 'robert': 5426, 'snowden': 5427, 'katrina': 5428, 'peanut': 5429, 'bundled': 5430, 'react': 5431, 'darkest': 5432, 'slammed': 5433, 'lifting': 5434, 'section': 5435, 'greek': 5436, 'wmv': 5437, 'sis': 5438, 'favourite': 5439, 'suit': 5440, 'conspiracy': 5441, 'comp': 5442, 'editorial': 5443, 'cas': 5444, 'ky': 5445, 'precipitation': 5446, 'measurement': 5447, 'nasahurricane': 5448, 'misses': 5449, 'releas': 5450, 'mosquito': 5451, 'meinlcymbals': 5452, 'medium': 5453, 'wheel': 5454, 'medicine': 5455, 'abomination': 5456, 'maketh': 5457, 'architect': 5458, 'network': 5459, 'belief': 5460, 'dame': 5461, 'bumper': 5462, 'zones': 5463, 'uniform': 5464, 'landslid': 5465, 'base': 5466, 'stressed': 5467, 'hysteria': 5468, 'indifference': 5469, 'shutdown': 5470, 'usnwsgov': 5471, 'formed': 5472, 'hospitals': 5473, 'mooresville': 5474, 'iredell': 5475, 'dam': 5476, 'hs': 5477, 'wowo': 5478, 'interstate': 5479, 'rohnertparkdps': 5480, 'instructions': 5481, 'loaded': 5482, 'songs': 5483, 'simultaneous': 5484, 'humanity': 5485, 'babes': 5486, 'tub': 5487, 'zdtoydebj': 5488, 'despair': 5489, 'joint': 5490, 'overwork': 5491, 'bengal': 5492, 'mamata': 5493, 'banerjee': 5494, 'dvc': 5495, 'surprised': 5496, 'thu': 5497, 'eaten': 5498, 'vivian': 5499, 'venice': 5500, 'yugvani': 5501, 'cancels': 5502, 'engvaus': 5503, 'silence': 5504, 'shira': 5505, 'contained': 5506, 'uniforms': 5507, 'genuine': 5508, 'edit': 5509, 'whoa': 5510, 'abe': 5511, 'interviews': 5512, 'improve': 5513, 'demonstratio': 5514, 'fdny': 5515, 'closest': 5516, 'sippin': 5517, 'gd': 5518, 'stout': 5519, 'bestseller': 5520, 'incase': 5521, 'electro': 5522, 'adam': 5523, 'circus': 5524, 'tryout': 5525, 'pathogen': 5526, 'ronaldo': 5527, 'lionel': 5528, 'messi': 5529, 'def': 5530, 'reaching': 5531, 'prez': 5532, 'handling': 5533, 'spectacular': 5534, 'tor': 5535, 'dolphin': 5536, 'mentally': 5537, 'ford': 5538, 'forbes': 5539, 'phon': 5540, 'mf': 5541, 'earners': 5542, 'theadvocatemag': 5543, 'squeeze': 5544, 'lavenderpoetrycafe': 5545, 'njturnpike': 5546, 'asshole': 5547, 'bean': 5548, 'elect': 5549, 'panel': 5550, 'golem': 5551, 'peopl': 5552, 'lifestyle': 5553, 'pluto': 5554, 'hood': 5555, 'sto': 5556, 'wipp': 5557, 'peak': 5558, 'grandeur': 5559, 'fireman': 5560, 'explodes': 5561, 'autistic': 5562, 'rescu': 5563, 'popular': 5564, 'expand': 5565, 'restaurant': 5566, 'novoa': 5567, 'saint': 5568, 'prone': 5569, 'dothraki': 5570, 'eggs': 5571, 'midget': 5572, 'dixon': 5573, 'irand': 5574, 'softenza': 5575, 'boi': 5576, 'wpri': 5577, 'usar': 5578, 'saku': 5579, 'marek': 5580, 'fgdehplo': 5581, 'dzfzymi': 5582, 'lightseraphs': 5583, 'pikachu': 5584, 'nicolaclements': 5585, 'covering': 5586, 'scabs': 5587, 'solut': 5588, 'kabwandi': 5589, 'kasich': 5590, 'mayoroflondon': 5591, 'compulsory': 5592, 'notrocketsci': 5593, 'doctordryadma': 5594, 'mixxtail': 5595, 'watermelon': 5596, 'loko': 5597, 'brittsand': 5598, 'jdrikfx': 5599, 'hngswab': 5600, 'npenlg': 5601, 'kushwush': 5602, 'hog': 5603, 'alcoholandmetal': 5604, 'trusted': 5605, 'gktshiorr': 5606, 'jeuukoi': 5607, 'vtscayibc': 5608, 'radical': 5609, 'xgkyvftf': 5610, 'lennonparham': 5611, 'jessica': 5612, 'stclair': 5613, 'gilmoreguysshow': 5614, 'podcast': 5615, 'ihaveepisodesofgg': 5616, 'nojok': 5617, 'abceyewitness': 5618, 'hometownglori': 5619, 'unite': 5620, 'freesikhpoliticalprisnors': 5621, 'bapusuratsingh': 5622, 'garbanzobean': 5623, 'cutest': 5624, 'indot': 5625, 'bias': 5626, 'gktqvqbk': 5627, 'kmactwn': 5628, 'meaganerd': 5629, 'cereal': 5630, 'kellogg': 5631, 'sugar': 5632, 'stays': 5633, 'crunchy': 5634, 'htjpypsg': 5635, 'ashenforest': 5636, 'floorburnt': 5637, 'manzanita': 5638, 'timber': 5639, 'fympiwp': 5640, 'utrixrjq': 5641, 'vzydmvd': 5642, 'kxslftzi': 5643, 'builder': 5644, 'blackmail': 5645, 'invzices': 5646, 'sllikely': 5647, 'jesse': 5648, 'suffers': 5649, 'rutnewlna': 5650, 'oct': 5651, 'bzjwgmaiw': 5652, 'protestors': 5653, 'skyscrapers': 5654, 'crcnrwvkj': 5655, 'legacyofthesith': 5656, 'sagacioussaber': 5657, 'lordofbetrayal': 5658, 'crescent': 5659, 'formation': 5660, 'trails': 5661, 'firemen': 5662, 'summertime': 5663, 'hcyajsacfj': 5664, 'nssjprpdd': 5665, 'sjkgjxffr': 5666, 'consumes': 5667, 'increasing': 5668, 'lswsitnkuk': 5669, 'wacfvq': 5670, 'bangtan': 5671, 'bt': 5672, 'testified': 5673, 'vxvfaeeyq': 5674, 'censor': 5675, 'pgyiciu': 5676, 'anthonys': 5677, 'tuicruises': 5678, 'aida': 5679, 'faroe': 5680, 'islands': 5681, 'afgzfmzh': 5682, 'stronger': 5683, 'thomassmonson': 5684, 'lds': 5685, 'mormon': 5686, 'mrvxbzywd': 5687, 'stavernise': 5688, 'delivered': 5689, 'khcqpuo': 5690, 'wyrmwood': 5691, 'component': 5692, 'czbohrd': 5693, 'ayhoka': 5694, 'jennifer': 5695, 'aniston': 5696, 'yejtsbm': 5697, 'rcqacnb': 5698, 'thee': 5699, 'thou': 5700, 'idqcfjycym': 5701, 'nikostar': 5702, 'abject': 5703, 'subway': 5704, 'chiasson': 5705, 'sens': 5706, 'coloradoavalanche': 5707, 'bklagma': 5708, 'bkdgcfsuiq': 5709, 'briannafrost': 5710, 'paxton': 5711, 'helen': 5712, 'joined': 5713, 'confesses': 5714, 'tmzxngq': 5715, 'dynastic': 5716, 'yrknephgu': 5717, 'dumuzid': 5718, 'wander': 5719, 'brace': 5720, 'depressed': 5721, 'hexpcotn': 5722, 'melted': 5723, 'cube': 5724, 'omsril': 5725, 'tpoaprjudp': 5726, 'raheel': 5727, 'sharif': 5728, 'chitral': 5729, 'lauded': 5730, 'fwo': 5731, 'opera': 5732, 'jj': 5733, 'dirty': 5734, 'mlstransfers': 5735, 'greggmair': 5736, 'gio': 5737, 'skc': 5738, 'nycfc': 5739, 'besziork': 5740, 'juiityfvo': 5741, 'wwxcobzi': 5742, 'isjkwsd': 5743, 'sihqpluidw': 5744, 'darchambau': 5745, 'azfnvrl': 5746, 'beconfident': 5747, 'wb': 5748, 'compensations': 5749, 'wmdihdizr': 5750, 'palinfoen': 5751, 'palestin': 5752, 'hhahaha': 5753, 'outright': 5754, 'flatten': 5755, 'jusreign': 5756, 'hxmc': 5757, 'disowned': 5758, 'kasab': 5759, 'disowns': 5760, 'hgdrksn': 5761, 'cqlmjojop': 5762, 'shaper': 5763, 'width': 5764, 'adjustable': 5765, 'cpczxohb': 5766, 'entertain': 5767, 'kamindoz': 5768, 'xrdwrcdvm': 5769, 'fxtfflaxi': 5770, 'decisionsondecis': 5771, 'gajtugaui': 5772, 'knomgpfiz': 5773, 'sunflower': 5774, 'vlnmklwwby': 5775, 'peofj': 5776, 'ckosova': 5777, 'bgerljamte': 5778, 'spuhuvgasi': 5779, 'sourmashnumber': 5780, 'tomfromireland': 5781, 'rfcgeom': 5782, 'bbctalkback': 5783, 'succeed': 5784, 'whugaemc': 5785, 'vortex': 5786, 'catcher': 5787, 'oiywrzlz': 5788, 'cantwaittoplayinminneapoli': 5789, 'bjojvmpjx': 5790, 'whoclhbf': 5791, 'ensure': 5792, 'treatmen': 5793, 'followm': 5794, 'forrestmankins': 5795, 'svgtkhwv': 5796, 'cimubweyib': 5797, 'rfstsbd': 5798, 'frustration': 5799, 'grupdates': 5800, 'fqcdphccg': 5801, 'hgf': 5802, 'uh': 5803, 'robbie': 5804, 'redsox': 5805, 'damatu': 5806, 'rzxqssun': 5807, 'lwdcrpehtn': 5808, 'xcgzcgys': 5809, 'tyucdwhg': 5810, 'rave': 5811, 'gmail': 5812, 'chaning': 5813, 'ipad': 5814, 'salute': 5815, 'harder': 5816, 'glorious': 5817, 'triumph': 5818, 'jyapul': 5819, 'remote': 5820, 'kiehjh': 5821, 'separated': 5822, 'fcjvml': 5823, 'fvyrwhuxp': 5824, 'gkyegjtk': 5825, 'personalinjury': 5826, 'otleyhour': 5827, 'klrccwct': 5828, 'qnzyisspo': 5829, 'vwpwdw': 5830, 'gospel': 5831, 'vcqicptki': 5832, 'fiction': 5833, 'lordrsbiscuits': 5834, 'eastwood': 5835, 'knobhead': 5836, 'duvuzhmvut': 5837, 'russellville': 5838, 'clarksville': 5839, 'dardanelle': 5840, 'nhaspj': 5841, 'smug': 5842, 'pizzas': 5843, 'thisispublichealth': 5844, 'wsoc': 5845, 'djufkrrtft': 5846, 'sweetiebirks': 5847, 'mirrorlady': 5848, 'slatukip': 5849, 'aside': 5850, 'alvinnelson': 5851, 'withstand': 5852, 'collisions': 5853, 'immediate': 5854, 'jamessnyder': 5855, 'sgxbeyda': 5856, 'unprepared': 5857, 'emp': 5858, 'possess': 5859, 'pushing': 5860, 'shed': 5861, 'polluted': 5862, 'abort': 5863, 'hick': 5864, 'pfft': 5865, 'unhinged': 5866, 'machismo': 5867, 'bullshit': 5868, 'smtwrumq': 5869, 'technews': 5870, 'puledo': 5871, 'upd': 5872, 'cllrraymogford': 5873, 'comprehensive': 5874, 'waking': 5875, 'kooks': 5876, 'qwrrfdgxcc': 5877, 'sstjbepqn': 5878, 'capsize': 5879, 'ronge': 5880, 'sask': 5881, 'bushman': 5882, 'zimbabwe': 5883, 'palmer': 5884, 'cecil': 5885, 'commentes': 5886, 'qwiihnmchr': 5887, 'imad': 5888, 'warrior': 5889, 'transgender': 5890, 'brinco': 5891, 'beacon': 5892, 'nxkumhwd': 5893, 'tcjfckxdzl': 5894, 'emtxtgoc': 5895, 'everydaynaija': 5896, 'nonmclp': 5897, 'dua': 5898, 'econom': 5899, 'zsqmihek': 5900, 'fluctuations': 5901, 'disturbances': 5902, 'imbalances': 5903, 'margaret': 5904, 'wheatley': 5905, 'tuesday': 5906, 'knocked': 5907, 'yday': 5908, 'inbetween': 5909, 'inspi': 5910, 'jywfygclhm': 5911, 'ieizh': 5912, 'tfeanwhhh': 5913, 'sjicbhzfo': 5914, 'damp': 5915, 'qnh': 5916, 'takin': 5917, 'swells': 5918, 'gwiq': 5919, 'casp': 5920, 'gary': 5921, 'entrances': 5922, 'vbqmzapwj': 5923, 'ceyjnybfn': 5924, 'gtgffsex': 5925, 'argue': 5926, 'soonergrunt': 5927, 'fierc': 5928, 'episodes': 5929, 'nigh': 5930, 'paraguay': 5931, 'awwxtyjb': 5932, 'abgctvfua': 5933, 'qwnglkos': 5934, 'airhorns': 5935, 'ripped': 5936, 'hole': 5937, 'eytay': 5938, 'neursis': 5939, 'zyrzxdfki': 5940, 'avi': 5941, 'header': 5942, 'eiqqhregz': 5943, 'insur': 5944, 'nqiobczkrt': 5945, 'cicptkna': 5946, 'whistleblower': 5947, 'ipwysnikg': 5948, 'ieksnfsby': 5949, 'vwcfslkrw': 5950, 'onpnbxzex': 5951, 'umicnet': 5952, 'weekends': 5953, 'vnnizzuz': 5954, 'observations': 5955, 'pccwsgcyma': 5956, 'yumiko': 5957, 'woah': 5958, 'lenkaiswaifu': 5959, 'piracy': 5960, 'slavery': 5961, 'purely': 5962, 'historical': 5963, 'mccauleysdesign': 5964, 'abysmaljoiner': 5965, 'dyamiplotke': 5966, 'purpose': 5967, 'uqnjnky': 5968, 'qlnnmxzfqk': 5969, 'ndvxega': 5970, 'aminespn': 5971, 'mencius': 5972, 'buddha': 5973, 'urbanisation': 5974, 'brahmans': 5975, 'dominance': 5976, 'sayn': 5977, 'ae': 5978, 'photoset': 5979, 'littlebitofbass': 5980, 'silinski': 5981, 'sheeran': 5982, 'premiere': 5983, 'iosthxlcyv': 5984, 'hgcbxukz': 5985, 'kopkcyvtt': 5986, 'buren': 5987, 'kjsvwgbv': 5988, 'okcfox': 5989, 'pantofel': 5990, 'sms': 5991, 'dthneezupe': 5992, 'pnpizodi': 5993, 'invented': 5994, 'insomniacs': 5995, 'ltvvpflsg': 5996, 'testimony': 5997, 'conflicts': 5998, 'tactics': 5999, 'corruption': 6000, 'infiltration': 6001, 'cyuzxwoh': 6002, 'standwithpp': 6003, 'hxdgdho': 6004, 'ajzawi': 6005, 'nrdpjgyl': 6006, 'tidalhifi': 6007, 'mzqqpaig': 6008, 'iso': 6009, 'psp': 6010, 'hbpnfoawii': 6011, 'curls': 6012, 'exercises': 6013, 'greec': 6014, 'oqpsvrgbjc': 6015, 'sxmlgxdvx': 6016, 'rlnwkeg': 6017, 'atleast': 6018, 'jocelyn': 6019, 'rptvfuhx': 6020, 'npckktleq': 6021, 'infinitegrace': 6022, 'poni': 6023, 'collideworship': 6024, 'vnzybfgzcm': 6025, 'bastards': 6026, 'fullscreen': 6027, 'censorship': 6028, 'nmtlpob': 6029, 'indo': 6030, 'pact': 6031, 'xkurdryev': 6032, 'channelstv': 6033, 'intel': 6034, 'icuovl': 6035, 'jaqsloxu': 6036, 'fanfiction': 6037, 'trixie': 6038, 'pageshi': 6039, 'proxies': 6040, 'nhtgtz': 6041, 'promo': 6042, 'ye': 6043, 'scotrail': 6044, 'bloke': 6045, 'hassl': 6046, 'kakympco': 6047, 'zqmtrbkas': 6048, 'yeqqbzxg': 6049, 'kmvrzasxi': 6050, 'heheh': 6051, 'incitement': 6052, 'beinart': 6053, 'otoooedt': 6054, 'unconsci': 6055, 'ucsudkqd': 6056, 'raidersreporter': 6057, 'galaxy': 6058, 'yaoexngw': 6059, 'tsutomi': 6060, 'yamaguchi': 6061, 'otd': 6062, 'daalpenzp': 6063, 'hopefulbatgirl': 6064, 'beaten': 6065, 'ghul': 6066, 'kaiseiw': 6067, 'brewer': 6068, 'hhllqckcep': 6069, 'xppqnyhiwc': 6070, 'tlolpakz': 6071, 'bgajoaxp': 6072, 'fps': 6073, 'kjmgteeklp': 6074, 'xmdhocpda': 6075, 'withering': 6076, 'undermine': 6077, 'mustering': 6078, 'byproduct': 6079, 'czwjwuvi': 6080, 'fgcu': 6081, 'closing': 6082, 'unaware': 6083, 'sanitizing': 6084, 'sites': 6085, 'yrvgykdbm': 6086, 'brb': 6087, 'tuiuwbvvp': 6088, 'hacked': 6089, 'bucks': 6090, 'nsf': 6091, 'whi': 6092, 'burma': 6093, 'enduring': 6094, 'unrest': 6095, 'ay': 6096, 'kathrynschulz': 6097, 'lucysforsale': 6098, 'waited': 6099, 'cab': 6100, 'dren': 6101, 'fhkhcqplj': 6102, 'biggangvh': 6103, 'holymileyray': 6104, 'mooniighthunty': 6105, 'careers': 6106, 'activision': 6107, 'cognizant': 6108, 'gknrpeq': 6109, 'landsli': 6110, 'tgaoqfp': 6111, 'ubfrurafc': 6112, 'alnvdx': 6113, 'wraqtum': 6114, 'settingsuccess': 6115, 'smallbusiness': 6116, 'yswalzvjg': 6117, 'cocker': 6118, 'spaniels': 6119, 'rjrmwnzi': 6120, 'toooooo': 6121, 'bck': 6122, 'naaa': 6123, 'sore': 6124, 'jfsdpfa': 6125, 'atm': 6126, 'christianvalues': 6127, 'kpdpoaf': 6128, 'roofers': 6129, 'prompt': 6130, 'mfeyzoaw': 6131, 'shedding': 6132, 'ypetodx': 6133, 'caaaaaal': 6134, 'sweated': 6135, 'fwqfckncqw': 6136, 'tricky': 6137, 'dicky': 6138, 'miusvpxqt': 6139, 'rosenthal': 6140, 'josie': 6141, 'splifs': 6142, 'elrehjlj': 6143, 'engineermatarai': 6144, 'ate': 6145, 'mataas': 6146, 'kc': 6147, 'dwilliams': 6148, 'ieansquad': 6149, 'nuwrpd': 6150, 'reafs': 6151, 'drama': 6152, 'tennis': 6153, 'defending': 6154, 'champ': 6155, 'svetlana': 6156, 'kuznetsova': 6157, 'withdraws': 6158, 'citi': 6159, 'imhdsklq': 6160, 'uftstzx': 6161, 'demonstrations': 6162, 'cautious': 6163, 'jejcxctmp': 6164, 'lfbdhtgqwg': 6165, 'deepak': 6166, 'chopra': 6167, 'ethgagpyg': 6168, 'japton': 6169, 'poss': 6170, 'timxbif': 6171, 'justicemalala': 6172, 'nkeajresq': 6173, 'nkea': 6174, 'gambia': 6175, 'mercenary': 6176, 'judg': 6177, 'mtmkimwiyi': 6178, 'simmons': 6179, 'camden': 6180, 'handsome': 6181, 'jnozkv': 6182, 'tbxcakdrw': 6183, 'collateral': 6184, 'thewesterngaz': 6185, 'worldwatchesferguson': 6186, 'govjaynixon': 6187, 'clairecmc': 6188, 'citizen': 6189, 'lima': 6190, 'xqrlewiax': 6191, 'cpsesqwm': 6192, 'explosive': 6193, 'tween': 6194, 'humboldt': 6195, 'cty': 6196, 'sheriff': 6197, 'residence': 6198, 'lassics': 6199, 'eruzbuqzyu': 6200, 'column': 6201, 'yqgpvwgx': 6202, 'kerricktri': 6203, 'greateranglia': 6204, 'fault': 6205, 'stvmlly': 6206, 'safferoonicle': 6207, 'yel': 6208, 'rqipgqslt': 6209, 'ltz': 6210, 'kqaeapb': 6211, 'carfest': 6212, 'tcfledv': 6213, 'umexouhh': 6214, 'starflame': 6215, 'susanj': 6216, 'msnbc': 6217, 'allinwithchris': 6218, 'bsg': 6219, 'sufficiently': 6220, 'hyped': 6221, 'laylovetournay': 6222, 'ryrotheunaware': 6223, 'groaning': 6224, 'meekmill': 6225, 'alllivesmatter': 6226, 'blacklivesmatter': 6227, 'gurmeetramrahim': 6228, 'msgdoingwelfareworks': 6229, 'appx': 6230, 'har': 6231, 'liye': 6232, 'tyar': 6233, 'hai': 6234, 'onvddnkg': 6235, 'utp': 6236, 'vsqqsvgni': 6237, 'itsdanie': 6238, 'noooo': 6239, 'fxdhubq': 6240, 'yzhvobgocq': 6241, 'raishimi': 6242, 'amtalia': 6243, 'sgc': 6244, 'opportunity': 6245, 'siqrguka': 6246, 'cygep': 6247, 'metallica': 6248, 'prohibits': 6249, 'decks': 6250, 'kezsnaml': 6251, 'spokane': 6252, 'struggling': 6253, 'qbskwzk': 6254, 'mvlziysgl': 6255, 'canadasuicide': 6256, 'ktdigmo': 6257, 'universityoflaw': 6258, 'egfskqbv': 6259, 'jilfbrufp': 6260, 'carvvgsrb': 6261, 'lanzqkxg': 6262, 'orcot': 6263, 'orpol': 6264, 'dazqamooc': 6265, 'promised': 6266, 'nukes': 6267, 'xnmxsxi': 6268, 'ryahfniq': 6269, 'insults': 6270, 'devote': 6271, 'pride': 6272, 'reprocussions': 6273, 'retroact': 6274, 'silas': 6275, 'sliced': 6276, 'headlinelike': 6277, 'chopped': 6278, 'cabbage': 6279, 'gh': 6280, 'cape': 6281, 'gtycqyfuam': 6282, 'qwdpvgjbo': 6283, 'defeater': 6284, 'yeaahh': 6285, 'bobbyxfisher': 6286, 'attent': 6287, 'gards': 6288, 'otrametlif': 6289, 'yhmregauxz': 6290, 'scvsupremecourt': 6291, 'dismisses': 6292, 'prisoner': 6293, 'quantum': 6294, 'scofield': 6295, 'hotbox': 6296, 'sona': 6297, 'xomizqzgp': 6298, 'mtwdatd': 6299, 'bulls': 6300, 'betting': 6301, 'rebound': 6302, 'yggzzizo': 6303, 'victorinox': 6304, 'swiss': 6305, 'mop': 6306, 'yfynkkcoh': 6307, 'knehvvohvk': 6308, 'telly': 6309, 'pqcmqchng': 6310, 'grtvnew': 6311, 'taint': 6312, 'evac': 6313, 'gzegjoakkw': 6314, 'electr': 6315, 'werkqibvv': 6316, 'cxeqb': 6317, 'rhiannon': 6318, 'hungover': 6319, 'uhmmmm': 6320, 'mylittlepwnies': 6321, 'anathemazhiv': 6322, 'tonysandos': 6323, 'lebanon': 6324, 'xdescry': 6325, 'trusty': 6326, 'trusti': 6327, 'comma': 6328, 'difficulties': 6329, 'osteen': 6330, 'dawgs': 6331, 'dak': 6332, 'jak': 6333, 'igyupeiu': 6334, 'ykltfjfnc': 6335, 'nuihpkui': 6336, 'ufccghm': 6337, 'micallef': 6338, 'yankees': 6339, 'troubleonmymind': 6340, 'swea': 6341, 'algtcnbaf': 6342, 'wwfqgcqyii': 6343, 'gscswyuupa': 6344, 'trained': 6345, 'urjwsvr': 6346, 'jfreteii': 6347, 'rays': 6348, 'odzgzqemf': 6349, 'damaturu': 6350, 'bbqnkqus': 6351, 'xaermbmvlv': 6352, 'drrichardbesser': 6353, 'dispers': 6354, 'aul': 6355, 'missleylaha': 6356, 'qpr': 6357, 'rorington': 6358, 'nowt': 6359, 'fergie': 6360, 'drinkers': 6361, 'weng': 6362, 'thorium': 6363, 'scandals': 6364, 'murders': 6365, 'mlysdnev': 6366, 'spies': 6367, 'vbhutwgb': 6368, 'ika': 6369, 'rvpaooz': 6370, 'recip': 6371, 'jvcxbdrj': 6372, 'muheyfdo': 6373, 'cunayyh': 6374, 'taufikcj': 6375, 'angusmacneilsnp': 6376, 'embarrassed': 6377, 'indy': 6378, 'zqrsaqrrt': 6379, 'arukvsxw': 6380, 'scotto': 6381, 'gabdcjmag': 6382, 'jyxafdknk': 6383, 'gxgmtwj': 6384, 'elation': 6385, 'pumxlvlsgm': 6386, 'yyhbbhkf': 6387, 'katunews': 6388, 'qposkpmwj': 6389, 'mtqjsvupwi': 6390, 'rdxcfgqem': 6391, 'shootings': 6392, 'explosions': 6393, 'thrown': 6394, 'baffles': 6395, 'ybypievn': 6396, 'hellotybeeren': 6397, 'handside': 6398, 'idiot': 6399, 'daviesmutia': 6400, 'hrsfazuji': 6401, 'vlnjnolnme': 6402, 'ifrogfjri': 6403, 'natalie': 6404, 'stavola': 6405, 'lh': 6406, 'indiefilm': 6407, 'dwpmfb': 6408, 'oooureli': 6409, 'tolerance': 6410, 'iraqis': 6411, 'mutilated': 6412, 'immens': 6413, 'catfishmtv': 6414, 'tailor': 6415, 'kay': 6416, 'robbed': 6417, 'eatfrodx': 6418, 'wayward': 6419, 'surveys': 6420, 'qzloremft': 6421, 'conklin': 6422, 'shuffled': 6423, 'tjnegyk': 6424, 'stjpzi': 6425, 'produces': 6426, 'peterhowenecn': 6427, 'necn': 6428, 'gleejyjky': 6429, 'wqtdnpwa': 6430, 'tortur': 6431, 'silverstar': 6432, 'romero': 6433, 'cared': 6434, 'petebests': 6435, 'dessicated': 6436, 'kneel': 6437, 'parked': 6438, 'modestmouseremix': 6439, 'truestori': 6440, 'ybsizarg': 6441, 'iizvyqyc': 6442, 'gexhzuvk': 6443, 'twit': 6444, 'depression': 6445, 'asphalt': 6446, 'anriombhqn': 6447, 'cameronciletti': 6448, 'tigersjostun': 6449, 'tyyfgqqvm': 6450, 'trois': 6451, 'rivieres': 6452, 'legionstrackandfield': 6453, 'puexnznqb': 6454, 'cdvdssofn': 6455, 'locked': 6456, 'jogger': 6457, 'victoriagittins': 6458, 'tides': 6459, 'jcibenckz': 6460, 'nrbnhmtd': 6461, 'safyuan': 6462, 'citation': 6463, 'possesion': 6464, 'decriminalized': 6465, 'substance': 6466, 'fiendnikki': 6467, 'hkxyzhvmq': 6468, 'ioryakon': 6469, 'statistically': 6470, 'scalpium': 6471, 'jwseptxga': 6472, 'qwgiwcwz': 6473, 'vacancies': 6474, 'graysondolan': 6475, 'xxkhjysnp': 6476, 'jevhknjgbx': 6477, 'norfolk': 6478, 'xxhlbxji': 6479, 'eqmtkrl': 6480, 'cpeqvlna': 6481, 'gnwt': 6482, 'rvsyxwjcp': 6483, 'xxjxvtj': 6484, 'wsls': 6485, 'childcare': 6486, 'jennasjems': 6487, 'patrickwsl': 6488, 'joelsherman': 6489, 'chipper': 6490, 'corii': 6491, 'spoil': 6492, 'lgizrucy': 6493, 'wishlist': 6494, 'hgedwxtdjn': 6495, 'ohmygoshi': 6496, 'metrobus': 6497, 'bbttdvjw': 6498, 'vivid': 6499, 'triad': 6500, 'jmuuyamdu': 6501, 'guthrie': 6502, 'hcwrkp': 6503, 'router': 6504, 'ddos': 6505, 'vxxmvgtzvg': 6506, 'gaming': 6507, 'jrdwyjwu': 6508, 'mkzpzfkl': 6509, 'convers': 6510, 'ictyosaur': 6511, 'isao': 6512, 'hashimoto': 6513, 'atomicbomb': 6514, 'vthiecc': 6515, 'colts': 6516, 'patriots': 6517, 'whine': 6518, 'cantmakeitup': 6519, 'patriotsnation': 6520, 'tpwgpmhq': 6521, 'adamnibloe': 6522, 'affiliation': 6523, 'cqnow': 6524, 'illustrated': 6525, 'horrifying': 6526, 'gzibmawmn': 6527, 'qllkofdyzx': 6528, 'rgjjumnnah': 6529, 'trigg': 6530, 'cwheate': 6531, 'ryleedowns': 6532, 'nevaehburton': 6533, 'dalailama': 6534, 'uriminzok': 6535, 'puppet': 6536, 'naemolgo': 6537, 'firmly': 6538, 'yiraneuni': 6539, 'tiny': 6540, 'wrongdejavu': 6541, 'consent': 6542, 'csx': 6543, 'xszxmwxyp': 6544, 'nmfsgkfza': 6545, 'aojuvmmf': 6546, 'jpykyoen': 6547, 'dmpl': 6548, 'cameo': 6549, 'rev': 6550, 'iubafdxey': 6551, 'aphqusvet': 6552, 'bestcomedyvine': 6553, 'oks': 6554, 'aikworbbt': 6555, 'txlege': 6556, 'eddy': 6557, 'khdozu': 6558, 'ljylxzfbi': 6559, 'orchardalley': 6560, 'les': 6561, 'repression': 6562, 'abcnorio': 6563, 'barrxugsg': 6564, 'recovered': 6565, 'airasia': 6566, 'hlvrkwgip': 6567, 'crowdtappers': 6568, 'joinvroom': 6569, 'ohhhh': 6570, 'tangletalk': 6571, 'courageous': 6572, 'surrender': 6573, 'vhmtytptgr': 6574, 'suzvwadj': 6575, 'wznbyao': 6576, 'lpmdmejs': 6577, 'mdpnipqu': 6578, 'mofo': 6579, 'unarmed': 6580, 'gunned': 6581, 'worseits': 6582, 'whiskey': 6583, 'riverroaming': 6584, 'hastle': 6585, 'document': 6586, 'scissor': 6587, 'alexhammerstone': 6588, 'kttape': 6589, 'ktfounder': 6590, 'remymarcel': 6591, 'frofrofro': 6592, 'bzvitd': 6593, 'lattice': 6594, 'studded': 6595, 'qjkbltcxz': 6596, 'xqpnzykct': 6597, 'wmnonhxeir': 6598, 'bannuk': 6599, 'thoutaylorbrown': 6600, 'laois': 6601, 'advertised': 6602, 'igmfcmupm': 6603, 'uxcfbjmzx': 6604, 'weudlkco': 6605, 'trldskf': 6606, 'expansion': 6607, 'bard': 6608, 'egioxbabo': 6609, 'efcnivnfg': 6610, 'greater': 6611, 'comfortable': 6612, 'wufeibala': 6613, 'biulqprxk': 6614, 'fx': 6615, 'forex': 6616, 'trading': 6617, 'ennullkzm': 6618, 'bicycl': 6619, 'performance': 6620, 'chip': 6621, 'saver': 6622, 'blazer': 6623, 'icrzitqc': 6624, 'onxhkfhna': 6625, 'cooking': 6626, 'crucial': 6627, 'psychic': 6628, 'certified': 6629, 'anarchic': 6630, 'teapot': 6631, 'boironusa': 6632, 'zeno': 6633, 'glononium': 6634, 'bashing': 6635, 'nitroglycerin': 6636, 'wc': 6637, 'oswjrvxc': 6638, 'weebl': 6639, 'stepkans': 6640, 'travelling': 6641, 'inguztyg': 6642, 'tyleroakley': 6643, 'handle': 6644, 'gyzpisbiu': 6645, 'msdntkwyaf': 6646, 'simmering': 6647, 'beneath': 6648, 'concussion': 6649, 'pioneerpress': 6650, 'zlfhucxhl': 6651, 'stung': 6652, 'xasgrjswc': 6653, 'zdtcwfsx': 6654, 'freemarketeer': 6655, 'dibang': 6656, 'dries': 6657, 'bhp': 6658, 'billiton': 6659, 'hqodvdnc': 6660, 'sbee': 6661, 'fuckin': 6662, 'socialmedia': 6663, 'personalize': 6664, 'customer': 6665, 'nbizatlsmv': 6666, 'costing': 6667, 'apiece': 6668, 'purchased': 6669, 'dtdidinqyf': 6670, 'henshaw': 6671, 'fkqksosw': 6672, 'hvzlaradio': 6673, 'grid': 6674, 'avvsoinoz': 6675, 'voyruxcrin': 6676, 'mwcnvtcxvu': 6677, 'clolmorpld': 6678, 'fbakpnyn': 6679, 'lzxwoayex': 6680, 'assume': 6681, 'vogrfn': 6682, 'mkqsvpeg': 6683, 'rjebpibrz': 6684, 'kgkzqtk': 6685, 'hymofsv': 6686, 'duh': 6687, 'paovyzttw': 6688, 'overwhelming': 6689, 'fairly': 6690, 'cramming': 6691, 'tobpieym': 6692, 'lov': 6693, 'slipper': 6694, 'bbxeruep': 6695, 'lalaloopsy': 6696, 'dolls': 6697, 'seed': 6698, 'sunburst': 6699, 'seashore': 6700, 'spice': 6701, 'nytyfcqo': 6702, 'hyypspnyq': 6703, 'cuqshhnb': 6704, 'bftounybw': 6705, 'jdavis': 6706, 'ayzzcupnz': 6707, 'scdnsmc': 6708, 'tellyfckngo': 6709, 'jaycootchi': 6710, 'homie': 6711, 'babality': 6712, 'gunfight': 6713, 'hdpmvef': 6714, 'owpdvcf': 6715, 'reebok': 6716, 'znsvstgwx': 6717, 'phdsquares': 6718, 'acquisitions': 6719, 'epl': 6720, 'nomissski': 6721, 'faints': 6722, 'moorlandschmbr': 6723, 'xvcoslxhw': 6724, 'jbvmgeg': 6725, 'stark': 6726, 'achieving': 6727, 'deltachildren': 6728, 'instaquote': 6729, 'quoteoftheday': 6730, 'waltdisney': 6731, 'blztzwos': 6732, 'gvmubpm': 6733, 'opener': 6734, 'guilty': 6735, 'gasping': 6736, 'giggling': 6737, 'jqsofyzp': 6738, 'fxnplio': 6739, 'youssefyamani': 6740, 'fez': 6741, 'equation': 6742, 'recipe': 6743, 'swellyjetevo': 6744, 'disneyland': 6745, 'tacos': 6746, 'oxqblwq': 6747, 'ufoqjzw': 6748, 'tgfqczey': 6749, 'shell': 6750, 'casting': 6751, 'deviating': 6752, 'dyxtmrydu': 6753, 'oroyunym': 6754, 'cjnxzdxc': 6755, 'logistics': 6756, 'enca': 6757, 'onboard': 6758, 'dnoqxcffh': 6759, 'routine': 6760, 'ghxnecd': 6761, 'weightless': 6762, 'fatburning': 6763, 'burnfat': 6764, 'aknbtuyaef': 6765, 'logic': 6766, 'courage': 6767, 'qumcewty': 6768, 'ktkgsdhhl': 6769, 'gypsy': 6770, 'yvulizbk': 6771, 'midwest': 6772, 'uahicwpih': 6773, 'natur': 6774, 'hrips': 6775, 'corpse': 6776, 'jitt': 6777, 'lordbrathwaite': 6778, 'growingupincolorado': 6779, 'summary': 6780, 'esbsaint': 6781, 'utfir': 6782, 'xfhhxfga': 6783, 'pete': 6784, 'gemmasterful': 6785, 'hipster': 6786, 'lakeeffect': 6787, 'twill': 6788, 'denim': 6789, 'jackets': 6790, 'txtpxumqh': 6791, 'harrystyles': 6792, 'cern': 6793, 'oo': 6794, 'harrybecareful': 6795, 'phuqundqi': 6796, 'wfxbaqmbk': 6797, 'summons': 6798, 'pokemon': 6799, 'typ': 6800, 'cnxxmffra': 6801, 'scottwalker': 6802, 'ucawgulj': 6803, 'enqdfbjump': 6804, 'jamilazzaini': 6805, 'alifaditha': 6806, 'controllers': 6807, 'joonma': 6808, 'porcupine': 6809, 'iylvzycob': 6810, 'nervana': 6811, 'behaviour': 6812, 'pleasantly': 6813, 'div': 6814, 'fought': 6815, 'inkuvdntx': 6816, 'cvegtizog': 6817, 'soap': 6818, 'twain': 6819, 'ygfcqgr': 6820, 'shaw': 6821, 'hickson': 6822, 'kenneth': 6823, 'faried': 6824, 'lamarcus': 6825, 'aldridge': 6826, 'twgpmmd': 6827, 'shopping': 6828, 'lpmmtzlwp': 6829, 'mysteri': 6830, 'yicfhw': 6831, 'tmsnzvkb': 6832, 'efgrthrb': 6833, 'motors': 6834, 'edpbvio': 6835, 'tractor': 6836, 'ifmvp': 6837, 'sold': 6838, 'copi': 6839, 'flatliners': 6840, 'longevity': 6841, 'lucifer': 6842, 'wcfpznsnu': 6843, 'arrogant': 6844, 'crazyweather': 6845, 'xqbwnlbbiu': 6846, 'nephew': 6847, 'romeo': 6848, 'juliet': 6849, 'warmbodi': 6850, 'toddstarnes': 6851, 'impending': 6852, 'heh': 6853, 'cmlfzhxn': 6854, 'jakartapost': 6855, 'capeann': 6856, 'seagulls': 6857, 'triciaoneill': 6858, 'triciaoneillphoto': 6859, 'olsqdium': 6860, 'kfzvmxjst': 6861, 'oicmagasi': 6862, 'chorrxovp': 6863, 'atlbizchron': 6864, 'gzaudyha': 6865, 'pekgcsig': 6866, 'backty': 6867, 'lkuqkop': 6868, 'tna': 6869, 'appease': 6870, 'morbid': 6871, 'destinationimpact': 6872, 'captors': 6873, 'recluse': 6874, 'qstkcv': 6875, 'lifelong': 6876, 'rfbjxbiej': 6877, 'valdes': 6878, 'testy': 6879, 'pati': 6880, 'ethiopian': 6881, 'famin': 6882, 'qcyqhvnha': 6883, 'ovari': 6884, 'nicole': 6885, 'fletcher': 6886, 'rubi': 6887, 'stacks': 6888, 'appli': 6889, 'benstracy': 6890, 'haunting': 6891, 'praroowia': 6892, 'elecman': 6893, 'antipozi': 6894, 'cucks': 6895, 'hmban': 6896, 'oqogmoegu': 6897, 'ssb': 6898, 'namjoon': 6899, 'bye': 6900, 'bread': 6901, 'xvqxdouvt': 6902, 'atljw': 6903, 'cnnbrk': 6904, 'aspect': 6905, 'frpbnhvpyi': 6906, 'burton': 6907, 'fjddxewj': 6908, 'messnermatthew': 6909, 'newc': 6910, 'nzifztcugl': 6911, 'jdvsgvh': 6912, 'towboat': 6913, 'vtc': 6914, 'eaaqumkkc': 6915, 'avubkrv': 6916, 'thesensualeye': 6917, 'apr': 6918, 'boobs': 6919, 'nud': 6920, 'nnyfdl': 6921, 'ujrxkgawp': 6922, 'reads': 6923, 'stuckinbooks': 6924, 'jpoyouxq': 6925, 'wfseaobato': 6926, 'directed': 6927, 'gjfdvuf': 6928, 'dragnking': 6929, 'animatron': 6930, 'relaxinpr': 6931, 'miprv': 6932, 'ylhayfaoou': 6933, 'orangi': 6934, 'sindh': 6935, 'lebrduau': 6936, 'rescuing': 6937, 'pcntczoxv': 6938, 'nakjmeb': 6939, 'rzagdnwtah': 6940, 'uqettagscu': 6941, 'annmarieronan': 6942, 'niamhosullivanx': 6943, 'tat': 6944, 'postering': 6945, 'calgaryfringe': 6946, 'mothernature': 6947, 'yycfringe': 6948, 'killhard': 6949, 'uvqikx': 6950, 'ultimatum': 6951, 'zzpojgngaj': 6952, 'dailytimesngr': 6953, 'row': 6954, 'holed': 6955, 'oeflrc': 6956, 'oliviaapalmerr': 6957, 'thatswhatfriendsarefor': 6958, 'bowknot': 6959, 'womengirls': 6960, 'zip': 6961, 'sqmtkkjimj': 6962, 'rodptxfm': 6963, 'eversafe': 6964, 'jumper': 6965, 'bvktubj': 6966, 'garage': 6967, 'propane': 6968, 'sunnymeade': 6969, 'kfijankjb': 6970, 'mdjllxozp': 6971, 'nasasolarsystem': 6972, 'lbtshxic': 6973, 'jmkdtcymj': 6974, 'ejllzlch': 6975, 'qwsbvflp': 6976, 'rchs': 6977, 'coffins': 6978, 'tommorow': 6979, 'starmade': 6980, 'stardate': 6981, 'planetary': 6982, 'ihhviumtm': 6983, 'texting': 6984, 'messag': 6985, 'catsandsyrup': 6986, 'emts': 6987, 'minimum': 6988, 'wage': 6989, 'oaswlxmr': 6990, 'paramedics': 6991, 'ageekyfangirl': 6992, 'humor': 6993, 'farts': 6994, 'esoteric': 6995, 'astrologian': 6996, 'hector': 6997, 'bellerin': 6998, 'ecmjazai': 6999, 'wifi': 7000, 'hotspot': 7001, 'perform': 7002, 'gamer': 7003, 'backtoback': 7004, 'chargedup': 7005, 'utumvaabz': 7006, 'stormcom': 7007, 'mjtnqbgos': 7008, 'yahoofinance': 7009, 'kgplkedhr': 7010, 'qeihvndnq': 7011, 'quspvvt': 7012, 'piss': 7013, 'moan': 7014, 'choices': 7015, 'demeanor': 7016, 'staid': 7017, 'rationing': 7018, 'wvexjjrg': 7019, 'seanpeconi': 7020, 'lynchonsports': 7021, 'criscyborg': 7022, 'pyvrprnhop': 7023, 'comlgvdbv': 7024, 'bapusvjln': 7025, 'jailbreak': 7026, 'tpnmbjvg': 7027, 'lesley': 7028, 'mariiee': 7029, 'newslv': 7030, 'exdbcxgcr': 7031, 'jiomnrcygt': 7032, 'ouylwuixc': 7033, 'dratomic': 7034, 'trophies': 7035, 'dustpiggies': 7036, 'awash': 7037, 'abstract': 7038, 'dustpig': 7039, 'bamenda': 7040, 'wnamtxlfmt': 7041, 'coidvqv': 7042, 'gujnpljvvt': 7043, 'kshaiqiw': 7044, 'austinpearcy': 7045, 'kisses': 7046, 'fleek': 7047, 'erupting': 7048, 'pixar': 7049, 'gschqfest': 7050, 'kristindavis': 7051, 'ypvjgzqqqb': 7052, 'entering': 7053, 'pussi': 7054, 'raised': 7055, 'cdxevmzoj': 7056, 'reacts': 7057, 'izqlkpuz': 7058, 'qzqcwwwcn': 7059, 'cnni': 7060, 'prisonplanet': 7061, 'noting': 7062, 'szwlwlqu': 7063, 'blazerfan': 7064, 'ignoranceshe': 7065, 'latinoand': 7066, 'benothing': 7067, 'morebut': 7068, 'tirelessly': 7069, 'chilli': 7070, 'doritos': 7071, 'broseidonrex': 7072, 'dapurplesharpie': 7073, 'skimmed': 7074, 'fqwtsxlkrz': 7075, 'driverlesscars': 7076, 'failing': 7077, 'yield': 7078, 'dgulffjt': 7079, 'fgvnvcrrx': 7080, 'kftvnunvf': 7081, 'icsjgzte': 7082, 'fxmnlbd': 7083, 'homeworldgym': 7084, 'thisisperidot': 7085, 'nos': 7086, 'stings': 7087, 'craig': 7088, 'nvfkzvfex': 7089, 'brics': 7090, 'santaclara': 7091, 'bayarea': 7092, 'pmlohzurwr': 7093, 'reddevillife': 7094, 'kurtkamka': 7095, 'ariz': 7096, 'zpvjvdpf': 7097, 'daorcey': 7098, 'nsit': 7099, 'graywardens': 7100, 'sonofbaldwin': 7101, 'nova': 7102, 'bookslast': 7103, 'qew': 7104, 'erie': 7105, 'tkyonlyfmk': 7106, 'cnshlnjuqx': 7107, 'duckvillelol': 7108, 'flips': 7109, 'grabs': 7110, 'lnwqdj': 7111, 'runjewels': 7112, 'relations': 7113, 'loveislove': 7114, 'cevwovh': 7115, 'sxkikvx': 7116, 'msmigot': 7117, 'convincing': 7118, 'compelling': 7119, 'deniers': 7120, 'tend': 7121, 'evid': 7122, 'gallup': 7123, 'ari': 7124, 'qdmvtjlzj': 7125, 'jcyxhqaz': 7126, 'shitton': 7127, 'exclusively': 7128, 'playthrough': 7129, 'administrative': 7130, 'mtqjig': 7131, 'sioux': 7132, 'cement': 7133, 'siouxland': 7134, 'siouxlan': 7135, 'sztgmbkohg': 7136, 'mtwhjjn': 7137, 'wackoes': 7138, 'myvintagesoul': 7139, 'manservant': 7140, 'pampered': 7141, 'brit': 7142, 'reversal': 7143, 'vergil': 7144, 'agnus': 7145, 'dmd': 7146, 'leedstraif': 7147, 'zhrtcvuff': 7148, 'rbxzzhxkm': 7149, 'mythgriy': 7150, 'mrjekvddp': 7151, 'iadlslqdpd': 7152, 'oysulow': 7153, 'ruby': 7154, 'pours': 7155, 'garza': 7156, 'atlas': 7157, 'leones': 7158, 'copa': 7159, 'usmnt': 7160, 'assumes': 7161, 'tnifeau': 7162, 'czbamzqgl': 7163, 'disabledveterans': 7164, 'groin': 7165, 'thepartyofmeanness': 7166, 'gztolllwo': 7167, 'joys': 7168, 'cpcchzu': 7169, 'iphazvg': 7170, 'wii': 7171, 'shantaeforsmash': 7172, 'shantaehalfgeniehero': 7173, 'nintendo': 7174, 'zztbvjypn': 7175, 'sosfamupdater': 7176, 'granted': 7177, 'lntrhwx': 7178, 'whitewalkers': 7179, 'intrigued': 7180, 'joegoodmanjr': 7181, 'copalibertadores': 7182, 'argentinean': 7183, 'tygokizz': 7184, 'citing': 7185, 'casing': 7186, 'celebrations': 7187, 'hxtuprabc': 7188, 'dqxkjibbki': 7189, 'marc': 7190, 'holl': 7191, 'nennicook': 7192, 'aitchkaycee': 7193, 'vixstuart': 7194, 'benjbeckwith': 7195, 'riddler': 7196, 'presidential': 7197, 'rich': 7198, 'handed': 7199, 'uiqsfgzoox': 7200, 'snowflake': 7201, 'qxxnrksp': 7202, 'bxwqzaor': 7203, 'upgrade': 7204, 'infrastructure': 7205, 'ngehhgyga': 7206, 'sustain': 7207, 'hibdwdja': 7208, 'determine': 7209, 'financially': 7210, 'maxi': 7211, 'erwsieldg': 7212, 'accidentalpropheci': 7213, 'kenai': 7214, 'spur': 7215, 'hbbgyvzyt': 7216, 'booze': 7217, 'displaces': 7218, 'hkwqlppt': 7219, 'pzzjssft': 7220, 'aqrnankfd': 7221, 'chibi': 7222, 'shouted': 7223, 'ksbynews': 7224, 'lilitan': 7225, 'pegibiqkw': 7226, 'eojhpdfg': 7227, 'srsly': 7228, 'dribbling': 7229, 'urself': 7230, 'embarrass': 7231, 'ajzyvepu': 7232, 'zgynebn': 7233, 'kash': 7234, 'foundation': 7235, 'fenusyu': 7236, 'gaping': 7237, 'xafcjyec': 7238, 'mzycuiho': 7239, 'nipddx': 7240, 'egyfnlaoqv': 7241, 'pyrpojn': 7242, 'nghlth': 7243, 'gprayyc': 7244, 'topnew': 7245, 'brokenscnecal': 7246, 'iahngnhvb': 7247, 'nolesfan': 7248, 'nutsandboltssp': 7249, 'lrturwnf': 7250, 'energi': 7251, 'transwomen': 7252, 'butch': 7253, 'lesbian': 7254, 'credited': 7255, 'inciting': 7256, 'rtuetdfbqb': 7257, 'csismica': 7258, 'zdpadbtsu': 7259, 'helpme': 7260, 'ticketed': 7261, 'cycle': 7262, 'summervibes': 7263, 'pitmix': 7264, 'brixton': 7265, 'banksy': 7266, 'mybabies': 7267, 'vovktxspo': 7268, 'steven': 7269, 'theme': 7270, 'upstairs': 7271, 'jlyon': 7272, 'ffvii': 7273, 'exclamation': 7274, 'midweek': 7275, 'snowy': 7276, 'scriptettesar': 7277, 'katiecool': 7278, 'ethics': 7279, 'stftjcrjea': 7280, 'unjpork': 7281, 'pattyds': 7282, 'gwfrazee': 7283, 'joshuaassaraf': 7284, 'prmtxjjdu': 7285, 'gastric': 7286, 'carcinoma': 7287, 'gene': 7288, 'senfeinstein': 7289, 'sen': 7290, 'uncontrolled': 7291, 'pardon': 7292, 'mindless': 7293, 'modelbubbles': 7294, 'cnmi': 7295, 'slowreport': 7296, 'implode': 7297, 'infowars': 7298, 'nyjbtcpm': 7299, 'moscow': 7300, 'mphogqddn': 7301, 'kabarmesir': 7302, 'badr': 7303, 'rabaa': 7304, 'observed': 7305, 'rememberrabaa': 7306, 'rss': 7307, 'spouse': 7308, 'tziolftei': 7309, 'vigilent': 7310, 'liberties': 7311, 'nativehuman': 7312, 'myreligion': 7313, 'wwutjej': 7314, 'akqrwjfvl': 7315, 'alton': 7316, 'livestream': 7317, 'nut': 7318, 'gvdfcxiz': 7319, 'joboozoso': 7320, 'usat': 7321, 'dgkmueoaxz': 7322, 'mctjnzxh': 7323, 'reflects': 7324, 'attendance': 7325, 'hanneman': 7326, 'ngcejiy': 7327, 'thursd': 7328, 'ibypekaz': 7329, 'rotten': 7330, 'tomatoes': 7331, 'jddnhmrmmj': 7332, 'rottentomato': 7333, 'mazda': 7334, 'cuxkizwm': 7335, 'snxghru': 7336, 'mpoaefqlk': 7337, 'josephjett': 7338, 'itss': 7339, 'selenaluna': 7340, 'rises': 7341, 'iqjzjxx': 7342, 'goz': 7343, 'manually': 7344, 'ru': 7345, 'domains': 7346, 'kelly': 7347, 'devinjoslyn': 7348, 'kxewlhhuw': 7349, 'requiem': 7350, 'cplyrewfz': 7351, 'bkuylcxg': 7352, 'mumbaitim': 7353, 'greenbuildermag': 7354, 'webinar': 7355, 'xmsvohkccp': 7356, 'firewise': 7357, 'tutorial': 7358, 'ianczlif': 7359, 'ogtuvplht': 7360, 'eofwxnpj': 7361, 'skywarn': 7362, 'slam': 7363, 'knocks': 7364, 'skyeokggb': 7365, 'iyzsdaxb': 7366, 'amoejxqya': 7367, 'lastingness': 7368, 'acquiesce': 7369, 'retreat': 7370, 'ziuw': 7371, 'irtkkgsjx': 7372, 'calfee': 7373, 'mattburgener': 7374, 'motivation': 7375, 'wphauhei': 7376, 'zombies': 7377, 'huthxlkyxi': 7378, 'knives': 7379, 'ojoubot': 7380, 'dmtabgj': 7381, 'zilbynu': 7382, 'jmdsow': 7383, 'justintrudeau': 7384, 'jrtfdtx': 7385, 'khqa': 7386, 'newyear': 7387, 'yuojdnijx': 7388, 'tgejcay': 7389, 'convene': 7390, 'awards': 7391, 'gis': 7392, 'tydry': 7393, 'gisuserpr': 7394, 'geotech': 7395, 'njenga': 7396, 'razing': 7397, 'ywkkarag': 7398, 'lawsonofficial': 7399, 'followed': 7400, 'thankyou': 7401, 'cancelled': 7402, 'penny': 7403, 'womem': 7404, 'mommyisbomb': 7405, 'urban': 7406, 'semwcqdg': 7407, 'owjeiygn': 7408, 'kinetic': 7409, 'typography': 7410, 'flgciaj': 7411, 'dvonwivl': 7412, 'nashsnewvideo': 7413, 'epzwaseyky': 7414, 'cfevtrscu': 7415, 'ugakxch': 7416, 'zhenghxn': 7417, 'akame': 7418, 'ghoul': 7419, 'disappears': 7420, 'lifeaintfairkid': 7421, 'brooo': 7422, 'indigoe': 7423, 'carful': 7424, 'spotting': 7425, 'baggage': 7426, 'exotic': 7427, 'jxeujp': 7428, 'bulletproof': 7429, 'funeral': 7430, 'uqssnaattu': 7431, 'oyogiiyh': 7432, 'hldxaba': 7433, 'scari': 7434, 'truediagnosis': 7435, 'physician': 7436, 'dutyzqrp': 7437, 'oznsxxvx': 7438, 'detroitpls': 7439, 'californians': 7440, 'sahel': 7441, 'chore': 7442, 'ysgvsrtg': 7443, 'hindustan': 7444, 'cczasvzh': 7445, 'adanne': 7446, 'kindly': 7447, 'soonermagic': 7448, 'thatpersianguy': 7449, 'youngsafe': 7450, 'harden': 7451, 'flopping': 7452, 'ident': 7453, 'instagramers': 7454, 'mnjvvtygn': 7455, 'dgatkrdyny': 7456, 'seagull': 7457, 'aleisstokes': 7458, 'intelligencebar': 7459, 'xqjrtli': 7460, 'jdtqnxb': 7461, 'fkhanage': 7462, 'shad': 7463, 'forsythe': 7464, 'runaway': 7465, 'minion': 7466, 'ukwofwtj': 7467, 'trad': 7468, 'authors': 7469, 'plummeting': 7470, 'flint': 7471, 'metropolis': 7472, 'highsmith': 7473, 'zvobmdxhgp': 7474, 'rlive': 7475, 'discussion': 7476, 'herring': 7477, 'scraptrid': 7478, 'martyrs': 7479, 'nuxxfpvd': 7480, 'pilgrims': 7481, 'unimpressed': 7482, 'pwdstroz': 7483, 'crqck': 7484, 'becyme': 7485, 'mayor': 7486, 'includes': 7487, 'foursquar': 7488, 'kamunt': 7489, 'nostalgia': 7490, 'youuu': 7491, 'fqwyeeec': 7492, 'moli': 7493, 'rates': 7494, 'casu': 7495, 'kclkokqia': 7496, 'saudiarabia': 7497, 'lwanevupg': 7498, 'cpqgufzb': 7499, 'msdizftzg': 7500, 'ihphzckm': 7501, 'wuicdttuhf': 7502, 'dungeon': 7503, 'janta': 7504, 'firstpostin': 7505, 'cznxhutasx': 7506, 'slab': 7507, 'ripping': 7508, 'labourleadership': 7509, 'contest': 7510, 'daborsch': 7511, 'lured': 7512, 'fanbase': 7513, 'disappointed': 7514, 'everyones': 7515, 'xeeefzfh': 7516, 'dattomm': 7517, 'funniest': 7518, 'developer': 7519, 'hldxlywbn': 7520, 'bobbyofhomewood': 7521, 'joxroundtable': 7522, 'dropping': 7523, 'witnessed': 7524, 'demons': 7525, 'kessler': 7526, 'exponential': 7527, 'proliferation': 7528, 'satellites': 7529, 'gravitymovi': 7530, 'sfakqnveta': 7531, 'poconorecord': 7532, 'emergencymgtmag': 7533, 'households': 7534, 'zlsumiess': 7535, 'tdcchnq': 7536, 'hckxjeukt': 7537, 'ebpybfhd': 7538, 'dggmbwl': 7539, 'eyrxxlp': 7540, 'jslxtqnq': 7541, 'happiness': 7542, 'randerson': 7543, 'beauti': 7544, 'addict': 7545, 'gzxipmoknb': 7546, 'strickskin': 7547, 'nickscomics': 7548, 'objective': 7549, 'usu': 7550, 'biz': 7551, 'journal': 7552, 'rncvjovc': 7553, 'kirsten': 7554, 'gillibrand': 7555, 'amealamdj': 7556, 'extend': 7557, 'cncpts': 7558, 'solelinks': 7559, 'surpris': 7560, 'kkoovbkndp': 7561, 'cinla': 7562, 'windowgatribble': 7563, 'contrasts': 7564, 'foreboding': 7565, 'expansive': 7566, 'divisions': 7567, 'saturation': 7568, 'hu': 7569, 'schoolboy': 7570, 'pqdmhqr': 7571, 'ieee': 7572, 'spectrum': 7573, 'tzrbqz': 7574, 'examiner': 7575, 'ocmcvfdzkv': 7576, 'kircut': 7577, 'dope': 7578, 'dopest': 7579, 'dangerousbeans': 7580, 'phenomen': 7581, 'spacex': 7582, 'musk': 7583, 'lvizocssr': 7584, 'vazpgftmu': 7585, 'pkuamxwpm': 7586, 'pawvnjsap': 7587, 'trynna': 7588, 'surviving': 7589, 'qzcutbvkt': 7590, 'ameenshaikh': 7591, 'sureshpprabhu': 7592, 'haaretz': 7593, 'ugsbnuwc': 7594, 'mordechai': 7595, 'yehuda': 7596, 'friedman': 7597, 'ramat': 7598, 'beit': 7599, 'shemesh': 7600, 'edwelchmusic': 7601, 'unpacked': 7602, 'angelina': 7603, 'jolie': 7604, 'sef': 7605, 'aids': 7606, 'qbecjlicx': 7607, 'idaho': 7608, 'idwx': 7609, 'crmuxm': 7610, 'ehklpyip': 7611, 'paci': 7612, 'rsf': 7613, 'gag': 7614, 'kcoffbmi': 7615, 'poway': 7616, 'hcg': 7617, 'ensures': 7618, 'whensoever': 7619, 'nevermore': 7620, 'sizygwwf': 7621, 'pzicjudxo': 7622, 'kzhbzxyc': 7623, 'spxlbbdr': 7624, 'stury': 7625, 'note': 7626, 'buff': 7627, 'avjsjfftc': 7628, 'bsgrdywy': 7629, 'ndggrxyqd': 7630, 'guk': 7631, 'nnylxhinpx': 7632, 'lily': 7633, 'xo': 7634, 'cowgirl': 7635, 'sticks': 7636, 'livin': 7637, 'zoom': 7638, 'calorie': 7639, 'klondike': 7640, 'pages': 7641, 'ord': 7642, 'caitsroberts': 7643, 'barra': 7644, 'rsa': 7645, 'bd': 7646, 'bsmjhvgwd': 7647, 'bxalnedi': 7648, 'wosypvqufi': 7649, 'xwsdstjp': 7650, 'spends': 7651, 'srslcxhct': 7652, 'thnexicgq': 7653, 'halfhourhotel': 7654, 'edgarsgift': 7655, 'promotion': 7656, 'zrnair': 7657, 'holdin': 7658, 'luhan': 7659, 'exo': 7660, 'yobyf': 7661, 'splatoon': 7662, 'default': 7663, 'splattershot': 7664, 'fever': 7665, 'yxnagsqvbm': 7666, 'cwmulqu': 7667, 'juliechen': 7668, 'ukeoefmt': 7669, 'downright': 7670, 'referencereference': 7671, 'xekstrin': 7672, 'cried': 7673, 'partake': 7674, 'oyyjlukfj': 7675, 'abran': 7676, 'caballero': 7677, 'nickcannon': 7678, 'realmandyrain': 7679, 'itunesmusic': 7680, 'dehmymlpk': 7681, 'blowmandyup': 7682, 'kbexkgwr': 7683, 'atcmrjzjtp': 7684, 'elkhorn': 7685, 'walerga': 7686, 'qhqoejtu': 7687, 'kfqybkzol': 7688, 'uzyiznm': 7689, 'ijwarh': 7690, 'stripped': 7691, 'exciting': 7692, 'bjycrgfhi': 7693, 'creel': 7694, 'moron': 7695, 'brainless': 7696, 'chromsucks': 7697, 'xeni': 7698, 'ecxmoinzgu': 7699, 'ntwwdwednb': 7700, 'shania': 7701, 'dkrww': 7702, 'wakeupflorida': 7703, 'floridians': 7704, 'trophyhunt': 7705, 'jinmexaj': 7706, 'capicapricapri': 7707, 'brento': 7708, 'bento': 7709, 'wha': 7710, 'outta': 7711, 'francisunderwood': 7712, 'hoc': 7713, 'zqonuvytu': 7714, 'fionagilbert': 7715, 'zpharzyi': 7716, 'lawrence': 7717, 'meade': 7718, 'wolforth': 7719, 'altamonte': 7720, 'tphnpi': 7721, 'bicyclists': 7722, 'occupants': 7723, 'runn': 7724, 'invading': 7725, 'yqjpnquux': 7726, 'nbcnightlynews': 7727, 'foutpwgfwi': 7728, 'faved': 7729, 'thrhkhogcu': 7730, 'tzszmfqxe': 7731, 'princeoffencing': 7732, 'frickin': 7733, 'pharma': 7734, 'overloaded': 7735, 'slone': 7736, 'ripples': 7737, 'byvubgwy': 7738, 'blanksocietyx': 7739, 'favourit': 7740, 'rachelrofe': 7741, 'runkeeper': 7742, 'loseit': 7743, 'perkpearl': 7744, 'orshow': 7745, 'nucnzhp': 7746, 'vufwymwr': 7747, 'ddhworiw': 7748, 'replacement': 7749, 'cosme': 7750, 'zcvfcyy': 7751, 'gbxafymc': 7752, 'appy': 7753, 'myths': 7754, 'obscuring': 7755, 'salon': 7756, 'dlpkpktk': 7757, 'rosemarytravale': 7758, 'screwed': 7759, 'maid': 7760, 'dh': 7761, 'yqtvdsoh': 7762, 'qhujajctr': 7763, 'kai': 7764, 'forbath': 7765, 'goal': 7766, 'drsarwatzaib': 7767, 'mcourt': 7768, 'parliment': 7769, 'tnwhdki': 7770, 'thestrain': 7771, 'kaputt': 7772, 'gregory': 7773, 'wickett': 7774, 'kknnwugwt': 7775, 'charleyisqueen': 7776, 'barber': 7777, 'egg': 7778, 'weyburn': 7779, 'fentanyl': 7780, 'province': 7781, 'bqjtpid': 7782, 'kjszqaj': 7783, 'meowing': 7784, 'louder': 7785, 'missjadebrown': 7786, 'rpdaaoni': 7787, 'jtw': 7788, 'ceiaotexr': 7789, 'bolstering': 7790, 'cooperation': 7791, 'qrkfof': 7792, 'sputnikint': 7793, 'geydmkav': 7794, 'juanny': 7795, 'beisbol': 7796, 'lgm': 7797, 'marginoferror': 7798, 'rom': 7799, 'utica': 7800, 'pleasant': 7801, 'paws': 7802, 'eioqjwgeix': 7803, 'felrahbp': 7804, 'bmsxzbnk': 7805, 'apperception': 7806, 'bridgework': 7807, 'xxhjesc': 7808, 'ybhbarajxp': 7809, 'dreamoforgonon': 7810, 'teeess': 7811, 'bona': 7812, 'fide': 7813, 'cislady': 7814, 'incidental': 7815, 'gidiexclusixe': 7816, 'rgtyzbnkeo': 7817, 'bennycapricon': 7818, 'item': 7819, 'phantasmal': 7820, 'cummerbund': 7821, 'qrhjeigrq': 7822, 'autobiography': 7823, 'lawton': 7824, 'collins': 7825, 'rkhehiaf': 7826, 'qszgjfuutu': 7827, 'langtree': 7828, 'altern': 7829, 'wukcalnqm': 7830, 'tunisian': 7831, 'bardo': 7832, 'fvootqnej': 7833, 'fctrawjcyl': 7834, 'ndtv': 7835, 'suresh': 7836, 'harda': 7837, 'regr': 7838, 'qmlbodvm': 7839, 'smell': 7840, 'rotting': 7841, 'potatoes': 7842, 'smelled': 7843, 'darkreading': 7844, 'eijdxapnp': 7845, 'smb': 7846, 'relay': 7847, 'steals': 7848, 'credentials': 7849, 'enews': 7850, 'eonlinechat': 7851, 'vitaly': 7852, 'churkin': 7853, 'briliantly': 7854, 'exposes': 7855, 'klimkin': 7856, 'ttkvmvujq': 7857, 'wgasoencwc': 7858, 'roanoketim': 7859, 'thr': 7860, 'thrarchives': 7861, 'mgm': 7862, 'wpklqniqw': 7863, 'bdfxdvhq': 7864, 'rvdvjoew': 7865, 'emmychappy': 7866, 'duchovbutt': 7867, 'starbuck': 7868, 'scully': 7869, 'madmakny': 7870, 'davidduchovny': 7871, 'senators': 7872, 'gmxvutf': 7873, 'traintragedy': 7874, 'jthusynjah': 7875, 'ykelquiban': 7876, 'patricia': 7877, 'traina': 7878, 'mcclain': 7879, 'nyg': 7880, 'swayoung': 7881, 'recognised': 7882, 'simon': 7883, 'refuse': 7884, 'shovel': 7885, 'expirehc': 7886, 'eeewomx': 7887, 'scout': 7888, 'ztyzhbvzqp': 7889, 'ruhl': 7890, 'modoc': 7891, 'temporarily': 7892, 'reassign': 7893, 'kjfordays': 7894, 'yelp': 7895, 'bolsters': 7896, 'investigative': 7897, 'patients': 7898, 'eaegofdi': 7899, 'mulan': 7900, 'icrcrqm': 7901, 'wrgankom': 7902, 'tzsqeesd': 7903, 'languishing': 7904, 'exsqijfny': 7905, 'noirandeal': 7906, 'tedcruz': 7907, 'ysipkbkd': 7908, 'asianshawtyy': 7909, 'pjcoyle': 7910, 'included': 7911, 'oamqqbnic': 7912, 'royals': 7913, 'aaronthefm': 7914, 'stayed': 7915, 'wooden': 7916, 'gunning': 7917, 'heartache': 7918, 'jhupogbv': 7919, 'amaramin': 7920, 'capable': 7921, 'tevxti': 7922, 'nypoqzt': 7923, 'jarmusch': 7924, 'vampir': 7925, 'spit': 7926, 'craekcwb': 7927, 'susinesses': 7928, 'stlnd': 7929, 'zyhpdjnwg': 7930, 'lfwkuukem': 7931, 'kmnkhnz': 7932, 'stylist': 7933, 'carmi': 7934, 'kqvnutpmm': 7935, 'sayztoagm': 7936, 'vosloorus': 7937, 'gauteng': 7938, 'toyota': 7939, 'bkbgp': 7940, 'odmpeyzu': 7941, 'blaawhysct': 7942, 'ddrzjxvqn': 7943, 'wyoktftrw': 7944, 'umjprrwruu': 7945, 'studies': 7946, 'calabria': 7947, 'malta': 7948, 'hmrtqeykyi': 7949, 'petchary': 7950, 'displeased': 7951, 'spots': 7952, 'congrats': 7953, 'reggaeboyz': 7954, 'aschhfnj': 7955, 'lasted': 7956, 'standstill': 7957, 'thywbbeet': 7958, 'xzfxrglalp': 7959, 'intersections': 7960, 'ghkxup': 7961, 'boarding': 7962, 'galleria': 7963, 'apts': 7964, 'nmpnmqzg': 7965, 'irishspy': 7966, 'sucked': 7967, 'doofus': 7968, 'diamorfiend': 7969, 'jokin': 7970, 'bestie': 7971, 'chainsaw': 7972, 'idgaf': 7973, 'auz': 7974, 'cst': 7975, 'radioriffrocks': 7976, 'pjldahdv': 7977, 'hrs': 7978, 'hump': 7979, 'wnjauarw': 7980, 'urged': 7981, 'delta': 7982, 'coun': 7983, 'hbhbxt': 7984, 'interrogation': 7985, 'uwitvbsbnc': 7986, 'csmyauna': 7987, 'onu': 7988, 'rockefeller': 7989, 'chi': 7990, 'rockefelleruniv': 7991, 'heiress': 7992, 'evade': 7993, 'prosecute': 7994, 'harvardu': 7995, 'kidnap': 7996, 'cuvkfykax': 7997, 'vcjcykqb': 7998, 'evildead': 7999, 'civilization': 8000, 'spfkekqu': 8001, 'queenwendy': 8002, 'doylech': 8003, 'persecution': 8004, 'annoucement': 8005, 'bevujeep': 8006, 'wexler': 8007, 'sanford': 8008, 'hardcover': 8009, 'kkqfkgqcy': 8010, 'smcrof': 8011, 'kpqkcgm': 8012, 'raniakhalek': 8013, 'assprgw': 8014, 'lyxrqbwn': 8015, 'ewfgpjhk': 8016, 'kach': 8017, 'bxgnqxvb': 8018, 'workspace': 8019, 'bored': 8020, 'forsee': 8021, 'badkitty': 8022, 'thisiswhywecanthaveniceth': 8023, 'freaks': 8024, 'listenlive': 8025, 'anodgxzr': 8026, 'usami': 8027, 'gfslkwth': 8028, 'luewaegpi': 8029, 'dilawri': 8030, 'vgjnahiw': 8031, 'kshsgwghfj': 8032, 'nottingham': 8033, 'kmucihrrn': 8034, 'zagbmlsfh': 8035, 'hvyxehxbmq': 8036, 'lhbzhwqb': 8037, 'sedar': 8038, 'sqoawvum': 8039, 'pageparkescorp': 8040, 'chloeunguyen': 8041, 'laurensicle': 8042, 'charstevens': 8043, 'tiara': 8044, 'marei': 8045, 'gemma': 8046, 'bowe': 8047, 'wowpsvd': 8048, 'jakegint': 8049, 'bothered': 8050, 'traditionalist': 8051, 'vagersedolla': 8052, 'uuweikdsp': 8053, 'enemi': 8054, 'tiffanyfrizzell': 8055, 'rafvrtt': 8056, 'jt': 8057, 'ruff': 8058, 'cameronhacker': 8059, 'harassed': 8060, 'sbilayqjq': 8061, 'tbqsqtmqv': 8062, 'cfxhqhvbvb': 8063, 'lvl': 8064, 'satoshis': 8065, 'dmljagotw': 8066, 'robotcoingame': 8067, 'freebitcoin': 8068, 'newsgoldcoast': 8069, 'zzweeezjug': 8070, 'kml': 8071, 'vessels': 8072, 'offshore': 8073, 'itnkbxgwlh': 8074, 'lexi': 8075, 'belle': 8076, 'kgswhsrmn': 8077, 'teamsurvivors': 8078, 'zombiefunrun': 8079, 'lgpnehkao': 8080, 'karijobe': 8081, 'tambourine': 8082, 'codycarnes': 8083, 'cibxlsf': 8084, 'tdhnzyer': 8085, 'apologies': 8086, 'uhsrtrxmm': 8087, 'ipfzwwnxxp': 8088, 'programm': 8089, 'hzpxvaqpz': 8090, 'lwpcorb': 8091, 'ojdtbrwa': 8092, 'jfxqiyivf': 8093, 'occasion': 8094, 'tn': 8095, 'psychologist': 8096, 'lgglfyrm': 8097, 'cedcugeuws': 8098, 'gap': 8099, 'shorts': 8100, 'tarbox': 8101, 'sour': 8102, 'freezer': 8103, 'dummi': 8104, 'roadworks': 8105, 'tottenham': 8106, 'tonne': 8107, 'mat': 8108, 'edna': 8109, 'jefferson': 8110, 'doris': 8111, 'sherfield': 8112, 'lnslzlmi': 8113, 'cogotiwn': 8114, 'hpzhecjvf': 8115, 'saohvjktqc': 8116, 'tozlet': 8117, 'leprosy': 8118, 'jerkface': 8119, 'lateral': 8120, 'lisp': 8121, 'ricket': 8122, 'utahcanary': 8123, 'sigh': 8124, 'grhzlk': 8125, 'cis': 8126, 'offended': 8127, 'transgendered': 8128, 'ynxnvvkcda': 8129, 'weqpesenku': 8130, 'evaded': 8131, 'csxvwxuzt': 8132, 'arizonadot': 8133, 'salado': 8134, 'crackin': 8135, 'wuhgblp': 8136, 'shingal': 8137, 'ezidigenocid': 8138, 'borrowers': 8139, 'sbhhkkzi': 8140, 'bbclaurak': 8141, 'stowing': 8142, 'aboard': 8143, 'carqeuvhh': 8144, 'mfjxhpu': 8145, 'ukohksob': 8146, 'xrgpdlswfd': 8147, 'leagues': 8148, 'newbi': 8149, 'balconi': 8150, 'childfund': 8151, 'pqhqjnztt': 8152, 'fxwsqf': 8153, 'careemergencies': 8154, 'glzmgbmw': 8155, 'easton': 8156, 'softball': 8157, 'fastpitch': 8158, 'ramajpkq': 8159, 'yghhykb': 8160, 'achievement': 8161, 'replaced': 8162, 'socket': 8163, 'rl': 8164, 'hinatobot': 8165, 'wkbzo': 8166, 'brobread': 8167, 'rbgvlqpjt': 8168, 'mehwkzwtxd': 8169, 'bigperm': 8170, 'drafted': 8171, 'overall': 8172, 'utahgrizz': 8173, 'gpgtafmkt': 8174, 'allay': 8175, 'glanders': 8176, 'equestrian': 8177, 'uotpnsqpz': 8178, 'horsetalknz': 8179, 'immigrant': 8180, 'arrests': 8181, 'blfwsi': 8182, 'bestival': 8183, 'molloy': 8184, 'bikrzzbha': 8185, 'familia': 8186, 'twplnlcx': 8187, 'mauds': 8188, 'jagexsupport': 8189, 'ushuqj': 8190, 'reds': 8191, 'lightly': 8192, 'reserved': 8193, 'acted': 8194, 'flamethrower': 8195, 'tamrcwfygd': 8196, 'jaymcleanauthor': 8197, 'reveillertm': 8198, 'macabrelolita': 8199, 'amino': 8200, 'acids': 8201, 'diobzghfju': 8202, 'recal': 8203, 'jerzbmjqd': 8204, 'blockage': 8205, 'woodward': 8206, 'northbound': 8207, 'davison': 8208, 'shoalstraff': 8209, 'creationsbykole': 8210, 'cork': 8211, 'theemobrago': 8212, 'jitsu': 8213, 'hexagon': 8214, 'yelled': 8215, 'ymorpugt': 8216, 'fxuzzxte': 8217, 'benedict': 8218, 'cumberbatch': 8219, 'itbjdkrzi': 8220, 'ytiexlh': 8221, 'chicken': 8222, 'microwave': 8223, 'intead': 8224, 'applies': 8225, 'horrendous': 8226, 'sbrjqqzix': 8227, 'ariana': 8228, 'grande': 8229, 'tragedi': 8230, 'meerkat': 8231, 'periscope': 8232, 'onihimedesu': 8233, 'manga': 8234, 'triangle': 8235, 'watches': 8236, 'duststormfilm': 8237, 'shattered': 8238, 'visage': 8239, 'kccgbt': 8240, 'communicate': 8241, 'gravitychat': 8242, 'nbcnews': 8243, 'pearlharbor': 8244, 'dantwitty': 8245, 'shuts': 8246, 'eighth': 8247, 'etoffe': 8248, 'charmeuse': 8249, 'clothesless': 8250, 'precisionistic': 8251, 'vestment': 8252, 'psfda': 8253, 'sbrshccj': 8254, 'tvqkeari': 8255, 'robbiewilliams': 8256, 'asswipe': 8257, 'killers': 8258, 'feikcfxed': 8259, 'wir': 8260, 'bgrablkd': 8261, 'nxdadu': 8262, 'goetjgihop': 8263, 'soultech': 8264, 'xixbspot': 8265, 'skyline': 8266, 'lips': 8267, 'cyompzaz': 8268, 'zverhvm': 8269, 'nxszkxid': 8270, 'udkmadkuzi': 8271, 'omgmghgt': 8272, 'wtpoelrzd': 8273, 'emilyeverever': 8274, 'tiostokvx': 8275, 'graduated': 8276, 'revise': 8277, 'scenario': 8278, 'drlkebeypi': 8279, 'bbcintroducing': 8280, 'purpleturtlerdg': 8281, 'giantgiantsound': 8282, 'ofandkoez': 8283, 'rdg': 8284, 'seeds': 8285, 'mre': 8286, 'dchfpxgym': 8287, 'ughptzjulk': 8288, 'obligations': 8289, 'barbi': 8290, 'bearers': 8291, 'whose': 8292, 'yerctj': 8293, 'jul': 8294, 'ocdkpsdfp': 8295, 'femalegilgamesh': 8296, 'assault': 8297, 'useless': 8298, 'penetrate': 8299, 'saadthe': 8300, 'kpdied': 8301, 'kppolic': 8302, 'reizei': 8303, 'sama': 8304, 'rindou': 8305, 'wear': 8306, 'mink': 8307, 'yotqhoh': 8308, 'nkulw': 8309, 'odtzmvqar': 8310, 'lmazrwoy': 8311, 'seemeth': 8312, 'thereof': 8313, 'dywwnbbyvj': 8314, 'deploy': 8315, 'troop': 8316, 'horowitz': 8317, 'vaccines': 8318, 'pagjqfbzk': 8319, 'qzizelxbyr': 8320, 'joked': 8321, 'innings': 8322, 'cubstalk': 8323, 'assured': 8324, 'investigated': 8325, 'kmxzhotfm': 8326, 'albvdnwjtg': 8327, 'gibyqhhkpk': 8328, 'badges': 8329, 'evfcus': 8330, 'motordom': 8331, 'lobbied': 8332, 'visionzero': 8333, 'cavbpgepv': 8334, 'pointing': 8335, 'mmowcmvnj': 8336, 'provokes': 8337, 'fjeafgbzfj': 8338, 'pictures': 8339, 'uzwlgjqzn': 8340, 'unhappy': 8341, 'purposely': 8342, 'fprtnwrot': 8343, 'officialmqm': 8344, 'khfiha': 8345, 'coleslaw': 8346, 'sijnbmczij': 8347, 'gidjqnug': 8348, 'zcfrwado': 8349, 'lorry': 8350, 'pfeaqeski': 8351, 'fntgrnkx': 8352, 'emsn': 8353, 'adavis': 8354, 'cuddling': 8355, 'eve': 8356, 'honored': 8357, 'servic': 8358, 'vpvjhrci': 8359, 'imtygdsqo': 8360, 'qvlxpyyycd': 8361, 'hsrrqzou': 8362, 'gloriavelez': 8363, 'stationcdrkelly': 8364, 'sys': 8365, 'clergyforced': 8366, 'younger': 8367, 'grossly': 8368, 'disfigured': 8369, 'prrbfhxtv': 8370, 'mzmandilynn': 8371, 'binellithresa': 8372, 'uantnksw': 8373, 'loans': 8374, 'finance': 8375, 'liqd': 8376, 'lnpscadaxr': 8377, 'redwing': 8378, 'nxtwxjcavh': 8379, 'olesfrgl': 8380, 'misscharleywebb': 8381, 'xcbyeqmw': 8382, 'offramp': 8383, 'ctejxolpu': 8384, 'itsmegss': 8385, 'barking': 8386, 'flavafraz': 8387, 'whatcanthedo': 8388, 'abyhrgsss': 8389, 'brodyfrieling': 8390, 'brooksie': 8391, 'lindenow': 8392, 'jasonpope': 8393, 'johnfugelsang': 8394, 'jlmicjj': 8395, 'snuegswyj': 8396, 'aberdeen': 8397, 'prcihowu': 8398, 'rtcufagau': 8399, 'wwexdreamer': 8400, 'bett': 8401, 'olympia': 8402, 'yunuegfb': 8403, 'ferno': 8404, 'engineering': 8405, 'inspect': 8406, 'components': 8407, 'gtedldwho': 8408, 'cacheadvance': 8409, 'ant': 8410, 'winged': 8411, 'insects': 8412, 'mnkoyzcp': 8413, 'atcha': 8414, 'golfball': 8415, 'parkchat': 8416, 'eazzy': 8417, 'warranted': 8418, 'taxuxpqa': 8419, 'follownflnews': 8420, 'dujgypima': 8421, 'playoff': 8422, 'indictment': 8423, 'greenspace': 8424, 'tennessee': 8425, 'development': 8426, 'zzcbbqyjq': 8427, 'kksghsblfh': 8428, 'caesars': 8429, 'gzmoblsjxu': 8430, 'cgtqfkur': 8431, 'firms': 8432, 'cybersecurity': 8433, 'laftjgyli': 8434, 'wompppp': 8435, 'mcnabbychic': 8436, 'whil': 8437, 'tiyulifc': 8438, 'retirement': 8439, 'instruction': 8440, 'bookmobile': 8441, 'libraries': 8442, 'lnmywrmq': 8443, 'naayf': 8444, 'chandanee': 8445, 'magu': 8446, 'taxi': 8447, 'rammed': 8448, 'halfway': 8449, 'conf': 8450, 'florin': 8451, 'esblyway': 8452, 'romeocrow': 8453, 'organizing': 8454, 'important': 8455, 'awkward': 8456, 'theatres': 8457, 'mumbaix': 8458, 'ind': 8459, 'tuaryijpqu': 8460, 'treyarch': 8461, 'quart': 8462, 'okcaz': 8463, 'tgdonttkti': 8464, 'fragrance': 8465, 'enemies': 8466, 'bathe': 8467, 'ducks': 8468, 'elephants': 8469, 'duck': 8470, 'skateboards': 8471, 'ihinjenqi': 8472, 'syyl': 8473, 'sincethe': 8474, 'depreciations': 8475, 'usd': 8476, 'bfederal': 8477, 'wgqkxmbyb': 8478, 'virg': 8479, 'cylfenyv': 8480, 'satanaofhell': 8481, 'dreamy': 8482, 'neces': 8483, 'tlsnqipn': 8484, 'todayngr': 8485, 'ledofficial': 8486, 'requests': 8487, 'samples': 8488, 'sweets': 8489, 'mages': 8490, 'tail': 8491, 'specialize': 8492, 'natsu': 8493, 'dragneel': 8494, 'thugging': 8495, 'delaying': 8496, 'fundamentals': 8497, 'valuations': 8498, 'fwikyurc': 8499, 'jun': 8500, 'yemenis': 8501, 'juzhlgmt': 8502, 'waldo': 8503, 'cooperstown': 8504, 'joestrong': 8505, 'gokitgo': 8506, 'eskyvzvap': 8507, 'pnssiae': 8508, 'lsvsyspdxx': 8509, 'bez': 8510, 'bangin': 8511, 'ros': 8512, 'dylanmcclure': 8513, 'zumiez': 8514, 'zwjpvk': 8515, 'loc': 8516, 'eo': 8517, 'redlands': 8518, 'ftkigmigh': 8519, 'mathew': 8520, 'zke': 8521, 'saladinahmed': 8522, 'referred': 8523, 'yuvzh': 8524, 'ghe': 8525, 'sorri': 8526, 'junk': 8527, 'resumed': 8528, 'residual': 8529, 'kristenkoin': 8530, 'abq': 8531, 'bcuz': 8532, 'itsnasb': 8533, 'optichcz': 8534, 'askhcz': 8535, 'elgato': 8536, 'bday': 8537, 'costa': 8538, 'urg': 8539, 'parks': 8540, 'imposition': 8541, 'african': 8542, 'giptuvbi': 8543, 'nigeltanner': 8544, 'newly': 8545, 'maple': 8546, 'friendships': 8547, 'mics': 8548, 'creeping': 8549, 'inflicted': 8550, 'derma': 8551, 'brackets': 8552, 'tindering': 8553, 'passive': 8554, 'aggressively': 8555, 'coerced': 8556, 'commitment': 8557, 'readi': 8558, 'puchhbxj': 8559, 'oneself': 8560, 'foreclosed': 8561, 'tejc': 8562, 'maailiss': 8563, 'ofmhn': 8564, 'conducted': 8565, 'skims': 8566, 'morethan': 8567, 'disorders': 8568, 'kashmirconflict': 8569, 'tower': 8570, 'stephenking': 8571, 'thedarktower': 8572, 'jlpdrxcde': 8573, 'bdisgust': 8574, 'npbfrzejl': 8575, 'ykbyync': 8576, 'easternoregon': 8577, 'vqxnfhrxf': 8578, 'byvlmpepr': 8579, 'pxnatosil': 8580, 'renunciedilma': 8581, 'codsandscrims': 8582, 'empirikgaming': 8583, 'codawscrims': 8584, 'tp': 8585, 'kotc': 8586, 'tpfa': 8587, 'sided': 8588, 'linerless': 8589, 'caps': 8590, 'wrnpywyalj': 8591, 'qviydovx': 8592, 'lesbians': 8593, 'obqmximb': 8594, 'hdahlgrprl': 8595, 'zstpl': 8596, 'mcdonalds': 8597, 'ana': 8598, 'holistic': 8599, 'pot': 8600, 'dispensary': 8601, 'yvvrlghft': 8602, 'smartnew': 8603, 'acura': 8604, 'rsx': 8605, 'vzaiqamdcp': 8606, 'ycecncp': 8607, 'xehwmshlv': 8608, 'dualcom': 8609, 'yesterdays': 8610, 'conveniently': 8611, 'zionists': 8612, 'revere': 8613, 'honour': 8614, 'kobxbea': 8615, 'nagel': 8616, 'vicken': 8617, 'basedlarock': 8618, 'gooncty': 8619, 'hqsulwlth': 8620, 'lenn': 8621, 'dominicana': 8622, 'cocoa': 8623, 'sip': 8624, 'awesomesauc': 8625, 'nanking': 8626, 'eyewitnesses': 8627, 'tipndempuz': 8628, 'wsj': 8629, 'wpo': 8630, 'organic': 8631, 'expander': 8632, 'nvzdilrfgj': 8633, 'ucdtxez': 8634, 'jonxfwlao': 8635, 'comdev': 8636, 'stations': 8637, 'broadcasting': 8638, 'programs': 8639, 'upcoming': 8640, 'iovrymlkp': 8641, 'anew': 8642, 'startrek': 8643, 'tos': 8644, 'aedcsk': 8645, 'terr': 8646, 'torrent': 8647, 'java': 8648, 'vaxshill': 8649, 'measles': 8650, 'complications': 8651, 'looses': 8652, 'atom': 8653, 'hctxghryf': 8654, 'wreak': 8655, 'seatbelt': 8656, 'njqvnd': 8657, 'jhoahpbpq': 8658, 'grant': 8659, 'weymouth': 8660, 'seawalls': 8661, 'thwlilbmo': 8662, 'padres': 8663, 'crowned': 8664, 'tends': 8665, 'efkcoegjck': 8666, 'nkkctttsd': 8667, 'dign': 8668, 'virtual': 8669, 'listings': 8670, 'listed': 8671, 'dorrie': 8672, 'caruana': 8673, 'nfpaytvw': 8674, 'rcmp': 8675, 'tch': 8676, 'whitbourn': 8677, 'prosper': 8678, 'cirtvmlvp': 8679, 'appetite': 8680, 'colinhoffman': 8681, 'bulok': 8682, 'lumbar': 8683, 'brookesddl': 8684, 'hopped': 8685, 'hxwfbppb': 8686, 'bentossell': 8687, 'producthunt': 8688, 'limestone': 8689, 'ln': 8690, 'yellowstone': 8691, 'fieldstone': 8692, 'pbohanna': 8693, 'justaguess': 8694, 'ijlzbcsp': 8695, 'dhggxomcc': 8696, 'nigskdp': 8697, 'avwelbvhn': 8698, 'ssp': 8699, 'aeg': 8700, 'akram': 8701, 'carhot': 8702, 'exchanged': 8703, 'firing': 8704, 'airbullet': 8705, 'meats': 8706, 'incinerator': 8707, 'pulkovo': 8708, 'cleverbot': 8709, 'pros': 8710, 'failures': 8711, 'ol': 8712, 'bobcats': 8713, 'backyards': 8714, 'kestuuyct': 8715, 'pzfbbpmj': 8716, 'reg': 8717, 'competitiveness': 8718, 'brockton': 8719, 'regc': 8720, 'ppc': 8721, 'tipster': 8722, 'previews': 8723, 'pfsryjspc': 8724, 'skdbottgf': 8725, 'songhey': 8726, 'riches': 8727, 'decrease': 8728, 'thief': 8729, 'thetxi': 8730, 'gunnersfan': 8731, 'ham': 8732, 'relegation': 8733, 'doco': 8734, 'setanta': 8735, 'freeview': 8736, 'abuses': 8737, 'tydxauuenq': 8738, 'ecmujkkqx': 8739, 'sqfpeczi': 8740, 'googlemaps': 8741, 'mashup': 8742, 'calculates': 8743, 'foto': 8744, 'tagpstb': 8745, 'gvjslbelp': 8746, 'igxrqpotm': 8747, 'landi': 8748, 'kpbuhgt': 8749, 'peritoengrafoscopia': 8750, 'vanilla': 8751, 'gfqjgoyci': 8752, 'libyan': 8753, 'mjoeebdlxn': 8754, 'fvenexp': 8755, 'bmsedzofsv': 8756, 'natzipvx': 8757, 'leaebycr': 8758, 'drfmmrbyx': 8759, 'demo': 8760, 'kenosha': 8761, 'falphil': 8762, 'liberal': 8763, 'compassion': 8764, 'sexist': 8765, 'valu': 8766, 'staining': 8767, 'budmkennf': 8768, 'photographs': 8769, 'mandate': 8770, 'trace': 8771, 'ximhyrmn': 8772, 'dating': 8773, 'xjwsyrqr': 8774, 'hieifhsmc': 8775, 'rbrwpwipj': 8776, 'starve': 8777, 'waseembadami': 8778, 'condemning': 8779, 'gv': 8780, 'heirs': 8781, 'itgqvii': 8782, 'mtmoiaoo': 8783, 'nnztcmsru': 8784, 'earnest': 8785, 'pletch': 8786, 'blooded': 8787, 'bjaxxvcf': 8788, 'xxjbjxrt': 8789, 'gtylgxroe': 8790, 'ygrjbki': 8791, 'zvdgiyowf': 8792, 'notexplained': 8793, 'infamous': 8794, 'cooper': 8795, 'jlzkhdetg': 8796, 'umwtlrk': 8797, 'lqyxzqdn': 8798, 'mumbling': 8799, 'cackling': 8800, 'lojoorouk': 8801, 'ifezsop': 8802, 'kphdchfnz': 8803, 'ctaztrophe': 8804, 'bwwnlsxhb': 8805, 'ebbfnmaj': 8806, 'extraordinair': 8807, 'arcade': 8808, 'cte': 8809, 'overpriced': 8810, 'brighton': 8811, 'landowner': 8812, 'rjmatw': 8813, 'mtgfxefiv': 8814, 'mtuipnt': 8815, 'paulhollywood': 8816, 'optical': 8817, 'illusion': 8818, 'switzerland': 8819, 'eyevziopg': 8820, 'unaddressed': 8821, 'keithboykin': 8822, 'randallpinkston': 8823, 'pozarmy': 8824, 'gxqauzb': 8825, 'exploring': 8826, 'ville': 8827, 'otrwztsp': 8828, 'xvlkfcvfx': 8829, 'infested': 8830, 'wimp': 8831, 'ewkuria': 8832, 'madisonpa': 8833, 'beef': 8834, 'hkyfova': 8835, 'akwa': 8836, 'ibom': 8837, 'uruan': 8838, 'udom': 8839, 'emmanuel': 8840, 'cnwnska': 8841, 'gbluhrrlto': 8842, 'noooooooooooo': 8843, 'zevankjzl': 8844, 'uuzfslkt': 8845, 'fitz': 8846, 'tantrums': 8847, 'pwdlglkv': 8848, 'ysbcsszi': 8849, 'ubgwfyge': 8850, 'losangel': 8851, 'lsqenukl': 8852, 'aftershocks': 8853, 'hkbpqdncba': 8854, 'xcolwugfjg': 8855, 'josebasedgod': 8856, 'realm': 8857, 'winning': 8858, 'lodormtfsq': 8859, 'devybnvxgq': 8860, 'todayng': 8861, 'motivated': 8862, 'donnelli': 8863, 'bonsai': 8864, 'jidrogb': 8865, 'natgeo': 8866, 'dauntedpsyche': 8867, 'gently': 8868, 'dabbed': 8869, 'glenn': 8870, 'xbznuqkv': 8871, 'houapns': 8872, 'ghosts': 8873, 'campanha': 8874, 'howardu': 8875, 'hardstyle': 8876, 'messy': 8877, 'recording': 8878, 'alien': 8879, 'mixify': 8880, 'absence': 8881, 'interact': 8882, 'karen': 8883, 'enviromental': 8884, 'meeowjco': 8885, 'zoipkpbdo': 8886, 'emilymcfcheslop': 8887, 'pillori': 8888, 'reddakushgodd': 8889, 'smfh': 8890, 'scarier': 8891, 'imaomknna': 8892, 'mechamacgyver': 8893, 'zhsmiavd': 8894, 'gnynjhnej': 8895, 'funemesm': 8896, 'stacdemon': 8897, 'mullin': 8898, 'nmrvthkvah': 8899, 'sjubb': 8900, 'notion': 8901, 'seemly': 8902, 'narcissism': 8903, 'richhomeydon': 8904, 'swag': 8905, 'kukmala': 8906, 'ba': 8907, 'icc': 8908, 'realckt': 8909, 'hhmbdkyo': 8910, 'volunteer': 8911, 'excite': 8912, 'ijwqc': 8913, 'digits': 8914, 'jtzefipdbo': 8915, 'apwxsmm': 8916, 'dslozlsu': 8917, 'chxrmingprince': 8918, 'luna': 8919, 'folding': 8920, 'actavis': 8921, 'suicid': 8922, 'silverwood': 8923, 'policylab': 8924, 'cecanf': 8925, 'neglect': 8926, 'ncyztpb': 8927, 'ikpngsdti': 8928, 'ljhgsdraez': 8929, 'ina': 8930, 'buted': 8931, 'wwa': 8932, 'wholeteam': 8933, 'wholesaleent': 8934, 'jwnxhqov': 8935, 'xqiadghw': 8936, 'ypeelmjdzi': 8937, 'markoturner': 8938, 'annaciclismo': 8939, 'kfovovjso': 8940, 'leonardville': 8941, 'xwihywsg': 8942, 'kijima': 8943, 'deai': 8944, 'sqydkslfzp': 8945, 'postapocalypticflimflam': 8946, 'prodding': 8947, 'bgyij': 8948, 'obkypch': 8949, 'dxirntdsrd': 8950, 'elqlopfk': 8951, 'qkrltrdb': 8952, 'masses': 8953, 'rtqqmgpb': 8954, 'postexistence': 8955, 'elevation': 8956, 'brzjc': 8957, 'papicongress': 8958, 'journo': 8959, 'pragnik': 8960, 'udqakfqu': 8961, 'teqsrip': 8962, 'parties': 8963, 'jfjlbfto': 8964, 'zggpacjpd': 8965, 'lado': 8966, 'tweeting': 8967, 'joshua': 8968, 'typos': 8969, 'lauradeholanda': 8970, 'forrest': 8971, 'rzfbrxw': 8972, 'glassanimals': 8973, 'slithering': 8974, 'viscous': 8975, 'yeahs': 8976, 'erykah': 8977, 'badu': 8978, 'zbgmzh': 8979, 'thyzomvwu': 8980, 'jooxk': 8981, 'otratmetlif': 8982, 'choke': 8983, 'tubenbqnz': 8984, 'kopiteluke': 8985, 'pleasure': 8986, 'huzzah': 8987, 'molly': 8988, 'tanz': 8989, 'vermilion': 8990, 'bmprwhw': 8991, 'harshness': 8992, 'pacing': 8993, 'prontouo': 8994, 'rquubplf': 8995, 'kontrolled': 8996, 'dice': 8997, 'ifak': 8998, 'efak': 8999, 'shud': 9000, 'contries': 9001, 'qiopbtiuvu': 9002, 'domination': 9003, 'folks': 9004, 'bash': 9005, 'jjlfov': 9006, 'gmonvnpsu': 9007, 'rhee': 9008, 'deliciousvomit': 9009, 'cwzhgezaj': 9010, 'sutherland': 9011, 'pine': 9012, 'dorfxofb': 9013, 'theleadernew': 9014, 'mdash': 9015, 'bronville': 9016, 'jjvcdnti': 9017, 'stevie': 9018, 'epexaxgb': 9019, 'lkjfabqzb': 9020, 'oqsgzqlbz': 9021, 'aqua': 9022, 'scghlpiq': 9023, 'fifa': 9024, 'tournaments': 9025, 'whocar': 9026, 'visible': 9027, 'tucson': 9028, 'steep': 9029, 'terrain': 9030, 'zrtrplqv': 9031, 'fireball': 9032, 'gloria': 9033, 'gaynor': 9034, 'oktaviana': 9035, 'devi': 9036, 'hukjzwt': 9037, 'adjuster': 9038, 'safeco': 9039, 'liberty': 9040, 'kmjvqca': 9041, 'gilderoy': 9042, 'integrates': 9043, 'format': 9044, 'interval': 9045, 'shaping': 9046, 'techniqu': 9047, 'xuzeebudv': 9048, 'scegnews': 9049, 'avybysod': 9050, 'liveonstream': 9051, 'reckon': 9052, 'dmt': 9053, 'simul': 9054, 'package': 9055, 'tours': 9056, 'yyeso': 9057, 'errrr': 9058, 'notgoingoutinthat': 9059, 'hellonwheelsamc': 9060, 'talkinghell': 9061, 'giaxdjti': 9062, 'penneys': 9063, 'booktubeathon': 9064, 'yizgizsw': 9065, 'jgvhwyz': 9066, 'dinallyhot': 9067, 'volcanic': 9068, 'thirty': 9069, 'kkjpksbst': 9070, 'trafficalert': 9071, 'citrus': 9072, 'azusa': 9073, 'motorcycles': 9074, 'peeped': 9075, 'frontin': 9076, 'tinted': 9077, 'bumpin': 9078, 'cityofhummus': 9079, 'ilnewsflash': 9080, 'diaspora': 9081, 'fafqlwp': 9082, 'fhrrhcimh': 9083, 'forlapdances': 9084, 'yompxjpptv': 9085, 'pbfyjxya': 9086, 'aphl': 9087, 'cgdjdrso': 9088, 'albums': 9089, 'denali': 9090, 'plummeted': 9091, 'savedenaliwolves': 9092, 'tweetstorm': 9093, 'sywuelyyx': 9094, 'jknpdpwro': 9095, 'cole': 9096, 'tnn': 9097, 'lohzwjpz': 9098, 'coated': 9099, 'layer': 9100, 'grit': 9101, 'hvjmuualxv': 9102, 'tnzhzz': 9103, 'xhonup': 9104, 'untameddirewolf': 9105, 'sansa': 9106, 'blinked': 9107, 'switch': 9108, 'oem': 9109, 'kvnahthuwz': 9110, 'yxknpqmnj': 9111, 'atiivnjdy': 9112, 'fwxifjec': 9113, 'canagal': 9114, 'sj': 9115, 'reply': 9116, 'nycdivorcelaw': 9117, 'denier': 9118, 'algae': 9119, 'bloom': 9120, 'alska': 9121, 'seeweed': 9122, 'caribean': 9123, 'snowball': 9124, 'inhof': 9125, 'dmassa': 9126, 'definite': 9127, 'crown': 9128, 'nzackrrji': 9129, 'tnwx': 9130, 'pmtnnfdww': 9131, 'kbzuatuks': 9132, 'arin': 9133, 'gummy': 9134, 'grumpout': 9135, 'ronwyden': 9136, 'blacks': 9137, 'lyndon': 9138, 'votes': 9139, 'texa': 9140, 'doningtondash': 9141, 'sept': 9142, 'donington': 9143, 'gnwyju': 9144, 'hqzfcxxrsb': 9145, 'vwpdizcko': 9146, 'yahoonewsdigest': 9147, 'ydmulqxg': 9148, 'significance': 9149, 'amen': 9150, 'ritual': 9151, 'iniqzfyioi': 9152, 'refugeesmatter': 9153, 'oezoabc': 9154, 'theburnageblue': 9155, 'macs': 9156, 'sbgirvqvzb': 9157, 'knockout': 9158, 'nyvu': 9159, 'represents': 9160, 'shortfalls': 9161, 'stfmnr': 9162, 'dvjoyga': 9163, 'assailant': 9164, 'zdcvlyqqk': 9165, 'literarycak': 9166, 'homealone': 9167, 'najib': 9168, 'iidkcjsbx': 9169, 'najibrazak': 9170, 'malaysiaairlin': 9171, 'rizzo': 9172, 'twic': 9173, 'nightmarish': 9174, 'ppzgpxybi': 9175, 'dskhkffwc': 9176, 'jmzcaqydfa': 9177, 'declarat': 9178, 'mciksbx': 9179, 'acenewsdesk': 9180, 'deldryden': 9181, 'twitch': 9182, 'icttzdivr': 9183, 'loupascal': 9184, 'prayforsaipan': 9185, 'witches': 9186, 'rivalry': 9187, 'wogc': 9188, 'izaknpjeqw': 9189, 'ctafails': 9190, 'udznvoeh': 9191, 'poooxn': 9192, 'hassanrouhani': 9193, 'doomed': 9194, 'outsid': 9195, 'yixrhqgb': 9196, 'rodarmer': 9197, 'dolla': 9198, 'cg': 9199, 'okinawan': 9200, 'yvsjyzwxjr': 9201, 'rp': 9202, 'silo': 9203, 'hartford': 9204, 'lightumupbeast': 9205, 'ocojppnrh': 9206, 'glory': 9207, 'luiz': 9208, 'santos': 9209, 'physically': 9210, 'gasped': 9211, 'pqrjvgvgxg': 9212, 'canadian': 9213, 'timing': 9214, 'yisyzkc': 9215, 'kfbjvjivqb': 9216, 'bnxpzqdm': 9217, 'asb': 9218, 'unhealed': 9219, 'unending': 9220, 'endoccupation': 9221, 'endconflict': 9222, 'freekashmir': 9223, 'skinless': 9224, 'pred': 9225, 'pox': 9226, 'wixtkab': 9227, 'virus': 9228, 'infectiousdiseases': 9229, 'zkgqspwyj': 9230, 'argues': 9231, 'pelosi': 9232, 'kiev': 9233, 'jnnkrnxvy': 9234, 'loiwuyvr': 9235, 'misguided': 9236, 'prophets': 9237, 'imprison': 9238, 'roadway': 9239, 'statesville': 9240, 'overlooked': 9241, 'whyor': 9242, 'someon': 9243, 'helens': 9244, 'xmdidgpnr': 9245, 'nashhmu': 9246, 'noticed': 9247, 'nside': 9248, 'belly': 9249, 'kamchatka': 9250, 'korzhonov': 9251, 'thwgoqd': 9252, 'forev': 9253, 'tt': 9254, 'kettlebell': 9255, 'lopez': 9256, 'hindsight': 9257, 'jhmny': 9258, 'campsite': 9259, 'recommendations': 9260, 'toilets': 9261, 'pub': 9262, 'midges': 9263, 'snakes': 9264, 'couches': 9265, 'pamginsi': 9266, 'sidjsjdjekdjskdjd': 9267, 'vcsafxbi': 9268, 'hoops': 9269, 'recruiting': 9270, 'nugget': 9271, 'chairman': 9272, 'vaccine': 9273, 'xomhai': 9274, 'thisisfaz': 9275, 'kefxtjtakb': 9276, 'precedent': 9277, 'undetected': 9278, 'bzkqplra': 9279, 'uppwxdayd': 9280, 'unsigned': 9281, 'qymalttvzp': 9282, 'iwcudgia': 9283, 'jurors': 9284, 'mitigating': 9285, 'vlswgi': 9286, 'txyusej': 9287, 'salvadoran': 9288, 'cntwbsczj': 9289, 'influential': 9290, 'severing': 9291, 'commun': 9292, 'uphill': 9293, 'etswuodom': 9294, 'cowx': 9295, 'xkowgvo': 9296, 'glue': 9297, 'finger': 9298, 'reps': 9299, 'dip': 9300, 'freestyle': 9301, 'amalie': 9302, 'arena': 9303, 'oogotouz': 9304, 'leonalewis': 9305, 'essenceofme': 9306, 'nxleiijfgs': 9307, 'xsgwmzxpd': 9308, 'qdtoqoc': 9309, 'zmwecbwvao': 9310, 'idasyjybro': 9311, 'gdoaolpq': 9312, 'jade': 9313, 'fl': 9314, 'ybdsljwc': 9315, 'excessive': 9316, 'emerging': 9317, 'file': 9318, 'fiat': 9319, 'chrysler': 9320, 'harman': 9321, 'consumerist': 9322, 'hocepkh': 9323, 'mcgsecur': 9324, 'philipduncan': 9325, 'breakfastone': 9326, 'nights': 9327, 'philip': 9328, 'govts': 9329, 'advised': 9330, 'ubvevuuach': 9331, 'pokemoncards': 9332, 'icequeenfroslas': 9333, 'broadcast': 9334, 'television': 9335, 'superv': 9336, 'pawsox': 9337, 'durham': 9338, 'ckgggyvou': 9339, 'uvdbrxfia': 9340, 'newrelease': 9341, 'jimmy': 9342, 'lapaka': 9343, 'lhfklno': 9344, 'zitqkdfxji': 9345, 'puncture': 9346, 'adkwoglh': 9347, 'sqwizzix': 9348, 'ggqczabu': 9349, 'piano': 9350, 'entertainer': 9351, 'cactus': 9352, 'oocvg': 9353, 'ftw': 9354, 'wsvrb': 9355, 'hull': 9356, 'runabout': 9357, 'prnhrhbt': 9358, 'oahlthrozi': 9359, 'codythompson': 9360, 'cramp': 9361, 'bnnidfzwbd': 9362, 'zhsllswbh': 9363, 'xqsjodu': 9364, 'freddiedeboer': 9365, 'thucydiplease': 9366, 'coates': 9367, 'charleston': 9368, 'broadly': 9369, 'wel': 9370, 'wale': 9371, 'volcanoes': 9372, 'spouting': 9373, 'malabamiandsons': 9374, 'questergirl': 9375, 'ditto': 9376, 'drank': 9377, 'vodka': 9378, 'masochisticmage': 9379, 'swords': 9380, 'thrones': 9381, 'starks': 9382, 'greyjoy': 9383, 'dickheads': 9384, 'basi': 9385, 'bestfriends': 9386, 'yourboy': 9387, 'shawn': 9388, 'guest': 9389, 'chachi': 9390, 'otblbpji': 9391, 'alleg': 9392, 'seas': 9393, 'giannis': 9394, 'submerged': 9395, 'reef': 9396, 'gnwhnsfib': 9397, 'fwpoftwoc': 9398, 'djryanwolf': 9399, 'djcoreygrand': 9400, 'djknyce': 9401, 'djoneplustwo': 9402, 'officialcoredjs': 9403, 'standup': 9404, 'iamtonyneal': 9405, 'pgqmctglj': 9406, 'acwuyr': 9407, 'peacetime': 9408, 'afssgpnzwi': 9409, 'niallhariss': 9410, 'vain': 9411, 'iahjjagq': 9412, 'barack': 9413, 'kolzvbv': 9414, 'mtvsummerstar': 9415, 'videoveranomtv': 9416, 'lana': 9417, 'del': 9418, 'passion': 9419, 'overblown': 9420, 'mmzgphnknp': 9421, 'bilsko': 9422, 'humofthec': 9423, 'xojademarie': 9424, 'batista': 9425, 'uplifting': 9426, 'anchor': 9427, 'esteem': 9428, 'tuscrsxvg': 9429, 'idhjjbq': 9430, 'sanity': 9431, 'wdazlcm': 9432, 'gansey': 9433, 'busting': 9434, 'gujaratriot': 9435, 'mumbairiot': 9436, 'indianperpetrated': 9437, 'chawalchorbjp': 9438, 'unnewsteam': 9439, 'whatever': 9440, 'ianokavo': 9441, 'arranged': 9442, 'guatemalan': 9443, 'fynqhwwb': 9444, 'bizzlemahomie': 9445, 'portaloos': 9446, 'senti': 9447, 'highland': 9448, 'medics': 9449, 'kifmfqlx': 9450, 'ozvlwwtnr': 9451, 'cmumiol': 9452, 'cs': 9453, 'cvgjfpbtrn': 9454, 'ugyegkfsx': 9455, 'che': 9456, 'guevara': 9457, 'greeting': 9458, 'gljbnsfgl': 9459, 'iklen': 9460, 'brant': 9461, 'drummond': 9462, 'eudwnfyuem': 9463, 'timed': 9464, 'pikin': 9465, 'axxdcakzty': 9466, 'delphi': 9467, 'lmrkgporcf': 9468, 'wadnmstov': 9469, 'nigerians': 9470, 'uoophsqu': 9471, 'onthisday': 9472, 'mayflower': 9473, 'laphamsquart': 9474, 'ssnmxsfoa': 9475, 'fwelbnap': 9476, 'medusa': 9477, 'snake': 9478, 'inputs': 9479, 'mxkalmqpdb': 9480, 'kznhtytt': 9481, 'fhiqbpwfh': 9482, 'fredolsencruise': 9483, 'itinerary': 9484, 'dolphins': 9485, 'fem': 9486, 'kmndkfame': 9487, 'pft': 9488, 'barkevious': 9489, 'mingo': 9490, 'browns': 9491, 'dmkgmpji': 9492, 'pijgwlu': 9493, 'hkxxbbo': 9494, 'faafa': 9495, 'tolerated': 9496, 'pixelsmovie': 9497, 'lvbuwyoh': 9498, 'youtu': 9499, 'lzktjnox': 9500, 'zzcewew': 9501, 'icczds': 9502, 'weatrrih': 9503, 'rivals': 9504, 'loos': 9505, 'boots': 9506, 'wqyjokumh': 9507, 'meisnkvtb': 9508, 'nicklee': 9509, 'loo': 9510, 'rite': 9511, 'tlk': 9512, 'widout': 9513, 'nuh': 9514, 'itz': 9515, 'rubbery': 9516, 'knw': 9517, 'wgmzmjimd': 9518, 'renamed': 9519, 'goonda': 9520, 'motley': 9521, 'hooligans': 9522, 'selfavowed': 9523, 'crooks': 9524, 'determined': 9525, 'zuyydfdi': 9526, 'ogt': 9527, 'colomr': 9528, 'protection': 9529, 'dj': 9530, 'mixes': 9531, 'byebyesoundcloud': 9532, 'realjaxclone': 9533, 'tecno': 9534, 'ime': 9535, 'avzsyi': 9536, 'urfexszg': 9537, 'wbawoblcl': 9538, 'rbmucursf': 9539, 'lyeh': 9540, 'nhjhol': 9541, 'homemade': 9542, 'frozen': 9543, 'yogurt': 9544, 'pops': 9545, 'yzazfceoa': 9546, 'xrcnuamh': 9547, 'hvhowtip': 9548, 'icseshbj': 9549, 'yrgobpj': 9550, 'mvesvssyn': 9551, 'cmaqfn': 9552, 'rubb': 9553, 'demetae': 9554, 'ortbpc': 9555, 'concentration': 9556, 'auntiedote': 9557, 'rioslade': 9558, 'wiggins': 9559, 'akarb': 9560, 'yrvtilw': 9561, 'blank': 9562, 'expression': 9563, 'cheeks': 9564, 'clapping': 9565, 'marvins': 9566, 'subtlety': 9567, 'chrisroth': 9568, 'chaselabsports': 9569, 'preventative': 9570, 'cabling': 9571, 'bracing': 9572, 'ling': 9573, 'rainbows': 9574, 'lknuj': 9575, 'erinmariefishy': 9576, 'novices': 9577, 'ieoggoj': 9578, 'tem': 9579, 'mrmikeeaton': 9580, 'muazimus': 9581, 'hil': 9582, 'fel': 9583, 'zakuun': 9584, 'xonvdux': 9585, 'nf': 9586, 'lkwxuqvn': 9587, 'pvris': 9588, 'grabakahitman': 9589, 'izi': 9590, 'garcia': 9591, 'machida': 9592, 'canal': 9593, 'tookitlikeaman': 9594, 'lovemydentist': 9595, 'sor': 9596, 'renovation': 9597, 'pqipugkuy': 9598, 'smallbiz': 9599, 'machinegunkelly': 9600, 'underground': 9601, 'rotation': 9602, 'condenses': 9603, 'villa': 9604, 'mcv': 9605, 'fddzspugk': 9606, 'coffees': 9607, 'cafetiere': 9608, 'crockery': 9609, 'cometh': 9610, 'bpydsb': 9611, 'cheetosarabia': 9612, 'crudes': 9613, 'cheetos': 9614, 'hint': 9615, 'beyondthebomb': 9616, 'nkculgvmw': 9617, 'willhillbet': 9618, 'satisfying': 9619, 'emile': 9620, 'hirsch': 9621, 'filmmakers': 9622, 'eqonkzndz': 9623, 'entretenimento': 9624, 'jinx': 9625, 'wearethenews': 9626, 'ojywjkuh': 9627, 'tobvwaphw': 9628, 'au': 9629, 'jp': 9630, 'conservative': 9631, 'shoppe': 9632, 'harperanetflixshow': 9633, 'elxn': 9634, 'stopharp': 9635, 'thinkpink': 9636, 'magichairbump': 9637, 'nmhztbewm': 9638, 'bbcwomanshour': 9639, 'setsuko': 9640, 'thurlow': 9641, 'cvjymlkrm': 9642, 'fphueii': 9643, 'anime': 9644, 'detectors': 9645, 'shevlin': 9646, 'hixon': 9647, 'zeejvhni': 9648, 'derives': 9649, 'powers': 9650, 'vincent': 9651, 'peal': 9652, 'hworbnvn': 9653, 'maatmhi': 9654, 'ticklemeshawn': 9655, 'evebrigid': 9656, 'wezjqccf': 9657, 'uavfrtlfs': 9658, 'gpcccxg': 9659, 'existence': 9660, 'prysmian': 9661, 'secures': 9662, 'olgkbha': 9663, 'gevrmbvznb': 9664, 'gloomy': 9665, 'xecggvnsn': 9666, 'backups': 9667, 'bridg': 9668, 'czallstarwes': 9669, 'derbi': 9670, 'sounders': 9671, 'finish': 9672, 'qoxzqve': 9673, 'terrified': 9674, 'shanaynay': 9675, 'fouseytube': 9676, 'zsberqnnn': 9677, 'uwaoasfg': 9678, 'hchzswsi': 9679, 'alipaper': 9680, 'keepingtheviginaclean': 9681, 'preferably': 9682, 'jabhhk': 9683, 'jezjwhub': 9684, 'fdxgmiwaeh': 9685, 'stds': 9686, 'slogan': 9687, 'icy': 9688, 'rum': 9689, 'belie': 9690, 'abnrcr': 9691, 'kotolily': 9692, 'eeasterling': 9693, 'schelbertgeorg': 9694, 'teaching': 9695, 'ren': 9696, 'messeymetoo': 9697, 'rceejm': 9698, 'hvxuzcvau': 9699, 'ijmccmhhg': 9700, 'bangalore': 9701, 'ofqfgeu': 9702, 'cyberdemon': 9703, 'dew': 9704, 'erodes': 9705, 'naypyidaw': 9706, 'prensa': 9707, 'latina': 9708, 'jodsapi': 9709, 'yohvuwumz': 9710, 'diver': 9711, 'anthony': 9712, 'steamship': 9713, 'qpgvvfofq': 9714, 'oils': 9715, 'ls': 9716, 'sup': 9717, 'thranduil': 9718, 'mirkwood': 9719, 'nyelbuaro': 9720, 'zgiupnt': 9721, 'annoyed': 9722, 'hung': 9723, 'audaciousspunk': 9724, 'dramatically': 9725, 'plummet': 9726, 'nino': 9727, 'boost': 9728, 'agycutkbnn': 9729, 'soaring': 9730, 'vymouzjzre': 9731, 'enrjhqkv': 9732, 'deliberately': 9733, 'pcxarbhan': 9734, 'sigmund': 9735, 'freud': 9736, 'freebesieged': 9737, 'tory': 9738, 'wafer': 9739, 'qfuerey': 9740, 'vbffodtpm': 9741, 'rjgkjkjjn': 9742, 'tarp': 9743, 'protecting': 9744, 'outfield': 9745, 'infield': 9746, 'ldywdydt': 9747, 'vymnrnsthg': 9748, 'mvsqgxk': 9749, 'cus': 9750, 'bah': 9751, 'menswear': 9752, 'urbanfashion': 9753, 'ccwzdtfbus': 9754, 'codemew': 9755, 'mil': 9756, 'credits': 9757, 'contruction': 9758, 'upgrading': 9759, 'ferries': 9760, 'standards': 9761, 'vashon': 9762, 'mukilteo': 9763, 'edgskab': 9764, 'earthquakenew': 9765, 'bksyymvisg': 9766, 'baaaack': 9767, 'petersen': 9768, 'bowhunting': 9769, 'bows': 9770, 'fjgdvgn': 9771, 'expense': 9772, 'izklelzc': 9773, 'driverless': 9774, 'healthinsurance': 9775, 'nieces': 9776, 'megan': 9777, 'swanger': 9778, 'ruthann': 9779, 'mccormick': 9780, 'daisy': 9781, 'henley': 9782, 'dljatw': 9783, 'rabidmonkeys': 9784, 'unique': 9785, 'ztofbiwtd': 9786, 'sworn': 9787, 'proven': 9788, 'hosts': 9789, 'reconnect': 9790, 'rdjporazg': 9791, 'mkwyvmir': 9792, 'encaustic': 9793, 'cerography': 9794, 'byityf': 9795, 'iapmesm': 9796, 'drums': 9797, 'janice': 9798, 'mcxcgzd': 9799, 'whack': 9800, 'exsmuy': 9801, 'lidherotj': 9802, 'freestyles': 9803, 'djdewdwr': 9804, 'beetroot': 9805, 'artumhmbhh': 9806, 'nowoasw': 9807, 'gsbmplbhh': 9808, 'youd': 9809, 'bo': 9810, 'investment': 9811, 'keurig': 9812, 'gtdnwspvi': 9813, 'ashghebranious': 9814, 'trans': 9815, 'generational': 9816, 'volunteers': 9817, 'participate': 9818, 'simulating': 9819, 'nwvrvghf': 9820, 'hvnewsnetwork': 9821, 'definition': 9822, 'ihzemldpu': 9823, 'torrance': 9824, 'tweetinglew': 9825, 'tersestuff': 9826, 'notley': 9827, 'heartland': 9828, 'tens': 9829, 'tfw': 9830, 'slaves': 9831, 'albertans': 9832, 'nears': 9833, 'speak': 9834, 'uogrdauat': 9835, 'sxqtyduvul': 9836, 'breachgamingorg': 9837, 'fuckyeahcarey': 9838, 'bornverified': 9839, 'iqowzgvznl': 9840, 'ireporter': 9841, 'rnyunt': 9842, 'inbounds': 9843, 'bounds': 9844, 'nats': 9845, 'nl': 9846, 'ldeocxuo': 9847, 'bridgeport': 9848, 'burglar': 9849, 'mlcdlb': 9850, 'mjdzmgjow': 9851, 'nuhasfkbv': 9852, 'positivity': 9853, 'amazin': 9854, 'dey': 9855, 'dedication': 9856, 'wmmkirjhw': 9857, 'policyholders': 9858, 'clico': 9859, 'edvivuxz': 9860, 'jycpfiyhg': 9861, 'eagles': 9862, 'matthews': 9863, 'rrqildkil': 9864, 'hotnewscak': 9865, 'jackmulholland': 9866, 'tagged': 9867, 'attackonstiles': 9868, 'punk': 9869, 'alpha': 9870, 'doll': 9871, 'latssuow': 9872, 'kehtreni': 9873, 'drob': 9874, 'nopeach': 9875, 'wnuqqatttp': 9876, 'latim': 9877, 'catalogu': 9878, 'branch': 9879, 'surety': 9880, 'pramklrmhz': 9881, 'zaynmaiikist': 9882, 'westmarch': 9883, 'arreat': 9884, 'enolagay': 9885, 'disarmed': 9886, 'jbfhkeq': 9887, 'yup': 9888, 'iispvpb': 9889, 'gargoyle': 9890, 'hoof': 9891, 'coil': 9892, 'iibrcnx': 9893, 'qld': 9894, 'billy': 9895, 'queensland': 9896, 'msgnndxoek': 9897, 'chapoutier': 9898, 'crozes': 9899, 'hermitage': 9900, 'violets': 9901, 'slate': 9902, 'yum': 9903, 'wine': 9904, 'skvwnhz': 9905, 'laurenjauregui': 9906, 'eyugkbyxr': 9907, 'misrjxuir': 9908, 'buddys': 9909, 'towns': 9910, 'mirrors': 9911, 'reflected': 9912, 'desir': 9913, 'chemicals': 9914, 'strives': 9915, 'maintain': 9916, 'eco': 9917, 'hearitfrompatty': 9918, 'snowywolf': 9919, 'thegreenparty': 9920, 'hollywarnexx': 9921, 'apaz': 9922, 'connormidd': 9923, 'krsyxmmc': 9924, 'ellenfromnowon': 9925, 'nexus': 9926, 'shifter': 9927, 'rjpjbwvfck': 9928, 'rbcinsurance': 9929, 'browsers': 9930, 'machines': 9931, 'existant': 9932, 'wolter': 9933, 'peeters': 9934, 'nsw': 9935, 'rural': 9936, 'gxenhwze': 9937, 'srbqlmuwbv': 9938, 'sheeting': 9939, 'aaaaaand': 9940, 'lamb': 9941, 'intro': 9942, 'lemznfk': 9943, 'kiddo': 9944, 'gi': 9945, 'sang': 9946, 'pir': 9947, 'auc': 9948, 'njvpxzmjv': 9949, 'ijdwzvt': 9950, 'testicles': 9951, 'fath': 9952, 'rjopjkbydr': 9953, 'nufdgwyev': 9954, 'okscwyohc': 9955, 'xzvltzzk': 9956, 'balanced': 9957, 'insanity': 9958, 'grimrail': 9959, 'depot': 9960, 'qochspybw': 9961, 'kaccpkwf': 9962, 'nnixodhigc': 9963, 'goodell': 9964, 'ucnckrnlow': 9965, 'appreciativeinquiry': 9966, 'soeaggbkj': 9967, 'tdwprvbi': 9968, 'alextucker': 9969, 'chick': 9970, 'chews': 9971, 'median': 9972, 'plzrlmi': 9973, 'transformation': 9974, 'pyehwodwun': 9975, 'aliens': 9976, 'exterminate': 9977, 'pbnnskz': 9978, 'awn': 9979, 'alarming': 9980, 'vhkj': 9981, 'tjwbseipw': 9982, 'mistaken': 9983, 'cataclysmic': 9984, 'reator': 9985, 'melts': 9986, 'motogp': 9987, 'indianapolis': 9988, 'espargaro': 9989, 'rnylsra': 9990, 'igxxfzko': 9991, 'azlxydvzk': 9992, 'archetype': 9993, 'grounded': 9994, 'readiness': 9995, 'fpoj': 9996, 'wxbrarcp': 9997, 'dnj': 9998, 'rjcaxjpo': 9999, 'newsbuffalo': 10000, 'guardrails': 10001, 'savannahross': 10002, 'uhc': 10003, 'creeper': 10004, 'salty': 10005, 'jackman': 10006, 'downgraded': 10007, 'hmmuduqt': 10008, 'examples': 10009, 'tmogtifb': 10010, 'atombomb': 10011, 'dubbo': 10012, 'hdbmfovutz': 10013, 'dailyliber': 10014, 'benzema': 10015, 'increasingly': 10016, 'benitez': 10017, 'empathi': 10018, 'ocx': 10019, 'kirkmin': 10020, 'barthubbuch': 10021, 'weei': 10022, 'bait': 10023, 'patriot': 10024, 'hater': 10025, 'cydia': 10026, 'tweak': 10027, 'wkmfdignt': 10028, 'phillipten': 10029, 'detonates': 10030, 'xyckgxzv': 10031, 'drothvader': 10032, 'nevalistis': 10033, 'arachys': 10034, 'scuqzpnq': 10035, 'sewing': 10036, 'superstition': 10037, 'swami': 10038, 'agnivesh': 10039, 'methods': 10040, 'touching': 10041, 'obtaing': 10042, 'rank': 10043, 'transcription': 10044, 'butiqob': 10045, 'cranboonitz': 10046, 'hereticofeth': 10047, 'mwcywjzi': 10048, 'etyzygba': 10049, 'dubloadz': 10050, 'droppd': 10051, 'meelllttting': 10052, 'vxsqpfena': 10053, 'xrprtkffj': 10054, 'stony': 10055, 'felons': 10056, 'wbecdmhqo': 10057, 'stressing': 10058, 'nikoniko': 10059, 'spaceshiptwo': 10060, 'eysblyxl': 10061, 'kpcc': 10062, 'woundedpigeon': 10063, 'ssoaevcvo': 10064, 'xpwkodpqto': 10065, 'quirk': 10066, 'hxvihdushp': 10067, 'dantmatrafajlo': 10068, 'animallogic': 10069, 'lotg': 10070, 'smoothed': 10071, 'bird': 10072, 'chalked': 10073, 'mouse': 10074, 'subtle': 10075, 'mapleridge': 10076, 'lougheed': 10077, 'dewdney': 10078, 'eto': 10079, 'hif': 10080, 'hm': 10081, 'ebolatrends': 10082, 'ihvmtmzxne': 10083, 'jliemrsnnj': 10084, 'acswzocw': 10085, 'roofing': 10086, 'ielacrrw': 10087, 'themagickidraps': 10088, 'executing': 10089, 'mfalcon': 10090, 'fantosex': 10091, 'amend': 10092, 'mogacola': 10093, 'zamtriossu': 10094, 'doctors': 10095, 'stockholm': 10096, 'copperfields': 10097, 'unxcsv': 10098, 'danryckert': 10099, 'drewscanlon': 10100, 'stealth': 10101, 'silenced': 10102, 'fcqmkffflw': 10103, 'vayaymbngu': 10104, 'damnaarielle': 10105, 'entirely': 10106, 'irfcnszv': 10107, 'erdogan': 10108, 'socialists': 10109, 'zxauidrxu': 10110, 'shareahol': 10111, 'whereas': 10112, 'jez': 10113, 'printing': 10114, 'reffbkvgr': 10115, 'mzgraciebaby': 10116, 'jumpin': 10117, 'officialrealrap': 10118, 'mm': 10119, 'flyopinemonkey': 10120, 'honshu': 10121, 'coronet': 10122, 'allied': 10123, 'moore': 10124, 'octnpyueei': 10125, 'kunstler': 10126, 'acitemt': 10127, 'residualincome': 10128, 'mlm': 10129, 'wqjlshwg': 10130, 'burger': 10131, 'tetdlyimn': 10132, 'newscomauhq': 10133, 'offloading': 10134, 'material': 10135, 'rachelcaine': 10136, 'weatherit': 10137, 'minds': 10138, 'dmtzmgyrik': 10139, 'johnfromcranber': 10140, 'makinmemories': 10141, 'gmpbdmt': 10142, 'kabktcjnl': 10143, 'afk': 10144, 'johanfranzen': 10145, 'orchs': 10146, 'lining': 10147, 'mizuta': 10148, 'glmcaxni': 10149, 'pvc': 10150, 'lqazljvg': 10151, 'qhsyfrwec': 10152, 'sweoei': 10153, 'shells': 10154, 'construct': 10155, 'edlkfdw': 10156, 'pllolz': 10157, 'hangout': 10158, 'est': 10159, 'qkahxwlwxa': 10160, 'erdfpryp': 10161, 'ikzakly': 10162, 'jsunnews': 10163, 'snbowatp': 10164, 'fowdeci': 10165, 'freshness': 10166, 'cilopmleb': 10167, 'proportions': 10168, 'commences': 10169, 'manage': 10170, 'vis': 10171, 'disrwhqgym': 10172, 'decree': 10173, 'kpnnktlxh': 10174, 'bubblycuteone': 10175, 'okayyyyyy': 10176, 'rinkydnk': 10177, 'zaibatsunews': 10178, 'neoprogressive': 10179, 'pushleft': 10180, 'ecology': 10181, 'rts': 10182, 'afghetc': 10183, 'humanitarian': 10184, 'braves': 10185, 'dumping': 10186, 'decis': 10187, 'qbmcsjavt': 10188, 'classycolkett': 10189, 'thorgan': 10190, 'gladbach': 10191, 'gsamymt': 10192, 'sterlingknight': 10193, 'crashsterling': 10194, 'carmel': 10195, 'joeysterling': 10196, 'isnt': 10197, 'fsngewux': 10198, 'pdnhhtzh': 10199, 'bfestwbzt': 10200, 'dna': 10201, 'attend': 10202, 'organized': 10203, 'bvckdpdti': 10204, 'systematic': 10205, 'torture': 10206, 'grahamwp': 10207, 'nar': 10208, 'phuket': 10209, 'qyaendvdgc': 10210, 'zpahnsxn': 10211, 'zsdvweglf': 10212, 'devia': 10213, 'ler': 10214, 'wattys': 10215, 'teenfiction': 10216, 'gmghr': 10217, 'xqxbvg': 10218, 'fence': 10219, 'homeowners': 10220, 'vlaiuvtomm': 10221, 'ajpnebg': 10222, 'reiterate': 10223, 'mindset': 10224, 'lgtzkwmqw': 10225, 'elwoods': 10226, 'blazingelwoods': 10227, 'qyzpbgkmr': 10228, 'lzffptaz': 10229, 'ftsn': 10230, 'ftsnnewsdesk': 10231, 'marley': 10232, 'brinx': 10233, 'striptease': 10234, 'spreads': 10235, 'pounding': 10236, 'imperialism': 10237, 'spins': 10238, 'militarism': 10239, 'crushes': 10240, 'peoples': 10241, 'nvbtcnca': 10242, 'savagenation': 10243, 'peasants': 10244, 'stalin': 10245, 'redistribute': 10246, 'bejftygjil': 10247, 'jlczidzvu': 10248, 'stl': 10249, 'ace': 10250, 'grille': 10251, 'mounts': 10252, 'speedtech': 10253, 'amber': 10254, 'tsekuyvm': 10255, 'tjozutxl': 10256, 'frautrapani': 10257, 'missdaoh': 10258, 'modnao': 10259, 'migraine': 10260, 'cnyxjq': 10261, 'kierannicholson': 10262, 'pisces': 10263, 'jlabuz': 10264, 'sods': 10265, 'amman': 10266, 'diverted': 10267, 'gurion': 10268, 'jkpjpchi': 10269, 'darwin': 10270, 'quotesttg': 10271, 'helio': 10272, 'flynn': 10273, 'onr': 10274, 'inlysvl': 10275, 'sptkfaq': 10276, 'huhzxliig': 10277, 'earl': 10278, 'megaquake': 10279, 'frdnnd': 10280, 'canvas': 10281, 'letter': 10282, 'zipper': 10283, 'scxfcwit': 10284, 'gxotohsj': 10285, 'waved': 10286, 'misl': 10287, 'aisle': 10288, 'serbian': 10289, 'foods': 10290, 'clothing': 10291, 'sect': 10292, 'thisdayinhistory': 10293, 'confederate': 10294, 'iwelszifz': 10295, 'superhero': 10296, 'dravet': 10297, 'drowns': 10298, 'vbotjndp': 10299, 'juic': 10300, 'partially': 10301, 'adorableappple': 10302, 'mmda': 10303, 'wveoed': 10304, 'pugprob': 10305, 'pkofytkdx': 10306, 'lqdwefpqd': 10307, 'ggnbvzohwu': 10308, 'cristianinspire': 10309, 'ixjqgsxu': 10310, 'hienshi': 10311, 'gbay': 10312, 'wouldnt': 10313, 'packing': 10314, 'councilscc': 10315, 'dqsvyusi': 10316, 'wowsavannah': 10317, 'collect': 10318, 'mortar': 10319, 'pestle': 10320, 'burp': 10321, 'zwvyisypb': 10322, 'apd': 10323, 'qyccvuubkr': 10324, 'glasses': 10325, 'adumbbb': 10326, 'habbo': 10327, 'tic': 10328, 'tac': 10329, 'battleships': 10330, 'matchwood': 10331, 'ollymursaus': 10332, 'tasted': 10333, 'trusting': 10334, 'writescoffee': 10335, 'stoqac': 10336, 'iartg': 10337, 'rwa': 10338, 'twrw': 10339, 'rrbc': 10340, 'homebuyer': 10341, 'miscalculation': 10342, 'mwjcdk': 10343, 'kindermorgan': 10344, 'nosajjjin': 10345, 'wukvdavuju': 10346, 'seyqwehe': 10347, 'whelen': 10348, 'ss': 10349, 'amplifier': 10350, 'aiwusevq': 10351, 'ginjuwn': 10352, 'clnv': 10353, 'iafflocal': 10354, 'begforcum': 10355, 'allday': 10356, 'cumshots': 10357, 'cumcovered': 10358, 'sexycumshots': 10359, 'cumtown': 10360, 'bj': 10361, 'nutt': 10362, 'cumslut': 10363, 'girlslovecum': 10364, 'cxyjjoz': 10365, 'omega': 10366, 'writer': 10367, 'explores': 10368, 'religion': 10369, 'rayner': 10370, 'utcpdidfo': 10371, 'newsarama': 10372, 'aelinrhee': 10373, 'mascara': 10374, 'smeared': 10375, 'whistled': 10376, 'suvs': 10377, 'dickhead': 10378, 'gecko': 10379, 'chillin': 10380, 'wxelajuh': 10381, 'nycha': 10382, 'nyburst': 10383, 'wsiidujoh': 10384, 'unexercised': 10385, 'honda': 10386, 'psqd': 10387, 'makewaterwork': 10388, 'maxed': 10389, 'txrbdaubnn': 10390, 'uecegox': 10391, 'westerncanadadrought': 10392, 'uooygbbaz': 10393, 'sivan': 10394, 'basalt': 10395, 'massage': 10396, 'jjxcnwbp': 10397, 'wonderfully': 10398, 'instal': 10399, 'austin': 10400, 'awxrzsqh': 10401, 'oafni': 10402, 'cbpsgskvo': 10403, 'cvpdvhxdr': 10404, 'fdmxpfcmo': 10405, 'fueled': 10406, 'rkdzbtgc': 10407, 'lasvegaslocally': 10408, 'vitalvegas': 10409, 'reined': 10410, 'stool': 10411, 'sjoeingt': 10412, 'bjjoifzuhl': 10413, 'iywzallsn': 10414, 'ghetto': 10415, 'reunite': 10416, 'kilgvay': 10417, 'pieceofme': 10418, 'mjywpcf': 10419, 'lwjhzaj': 10420, 'kmgdvvsaz': 10421, 'bytsfmsmd': 10422, 'stfmbbzfb': 10423, 'dqvjhncv': 10424, 'wxhmpppjq': 10425, 'troylercraft': 10426, 'spammers': 10427, 'steveycheese': 10428, 'mapmyrun': 10429, 'xrcchkago': 10430, 'snapharmony': 10431, 'ypvvqzjzt': 10432, 'elderly': 10433, 'companionship': 10434, 'chester': 10435, 'chestertweetsuk': 10436, 'retooled': 10437, 'retirees': 10438, 'handicapped': 10439, 'nomorehandout': 10440, 'shrimplevy': 10441, 'krpzjeu': 10442, 'wreaoka': 10443, 'heebsterrr': 10444, 'perrie': 10445, 'edwards': 10446, 'engagement': 10447, 'gedoxsppl': 10448, 'aczruorytd': 10449, 'unu': 10450, 'bgmcsrbvd': 10451, 'uploading': 10452, 'smoochy': 10453, 'awakenings': 10454, 'clips': 10455, 'bicentennial': 10456, 'oppose': 10457, 'smallforestelf': 10458, 'umm': 10459, 'oomf': 10460, 'instagrams': 10461, 'emilee': 10462, 'lucypalladino': 10463, 'classes': 10464, 'billionaires': 10465, 'billion': 10466, 'blakeschmidt': 10467, 'gbqtcspc': 10468, 'deathmule': 10469, 'sxhgfithjw': 10470, 'mk': 10471, 'tremors': 10472, 'stalag': 10473, 'ermac': 10474, 'tournament': 10475, 'masterpiece': 10476, 'mmchale': 10477, 'matching': 10478, 'lipstick': 10479, 'rediscovered': 10480, 'nars': 10481, 'emilyschuman': 10482, 'eghgjk': 10483, 'vxegcmmvbv': 10484, 'collar': 10485, 'kirstiealley': 10486, 'animaladvocate': 10487, 'engineshed': 10488, 'omnbatjeao': 10489, 'scraped': 10490, 'summerk': 10491, 'twhjlm': 10492, 'romanatwoodvlogs': 10493, 'geeknwjjsz': 10494, 'vmwtouyohm': 10495, 'radios': 10496, 'stoponesounds': 10497, 'airwaves': 10498, 'gsswam': 10499, 'stickynyc': 10500, 'roots': 10501, 'pcsnxjq': 10502, 'xohmmlmdi': 10503, 'ririnsider': 10504, 'hendricks': 10505, 'hospitality': 10506, 'neanea': 10507, 'usvyhdgog': 10508, 'chronicillness': 10509, 'avoided': 10510, 'mylifestory': 10511, 'fyjwjdkmi': 10512, 'rcnsjuayq': 10513, 'dqylcrfk': 10514, 'edfringe': 10515, 'mnfl': 10516, 'titania': 10517, 'summerhallery': 10518, 'reimagining': 10519, 'shakespeare': 10520, 'midsummer': 10521, 'iiaigzkbnj': 10522, 'mixtape': 10523, 'goin': 10524, 'uungrqougn': 10525, 'kffojrzp': 10526, 'jobggtp': 10527, 'sapphirescallop': 10528, 'oppa': 10529, 'haaaaaa': 10530, 'llegaste': 10531, 'tu': 10532, 'btpqdehlp': 10533, 'tomislav': 10534, 'salopek': 10535, 'wiqjeruktf': 10536, 'zoepzsoki': 10537, 'montalbanony': 10538, 'arovolturi': 10539, 'rscr': 10540, 'lifeline': 10541, 'fci': 10542, 'hay': 10543, 'masonite': 10544, 'wahpeton': 10545, 'kwvqnijq': 10546, 'uelzwvom': 10547, 'briefing': 10548, 'disclos': 10549, 'wbilaq': 10550, 'rickybonessxm': 10551, 'sirius': 10552, 'sayin': 10553, 'zachzaidman': 10554, 'thescore': 10555, 'wld': 10556, 'cart': 10557, 'boycottbear': 10558, 'caneyttwev': 10559, 'devon': 10560, 'breneman': 10561, 'heated': 10562, 'gtxymzbv': 10563, 'lsjowgyvqh': 10564, 'robertmeyer': 10565, 'farmers': 10566, 'kiildugpo': 10567, 'wps': 10568, 'weeklong': 10569, 'hunwx': 10570, 'eljqjhu': 10571, 'reviewers': 10572, 'boxset': 10573, 'lindsay': 10574, 'buroker': 10575, 'yusycui': 10576, 'mzmxmyklxv': 10577, 'mateo': 10578, 'doesnt': 10579, 'pointless': 10580, 'sctcqjvjx': 10581, 'sakhalintribune': 10582, 'mdelimzi': 10583, 'tounge': 10584, 'pepperoni': 10585, 'writebothfists': 10586, 'gamefeed': 10587, 'gxkzctc': 10588, 'videogam': 10589, 'creation': 10590, 'ai': 10591, 'automation': 10592, 'workforce': 10593, 'inequality': 10594, 'condolence': 10595, 'emrzicb': 10596, 'reporters': 10597, 'experiencing': 10598, 'arzemsrfq': 10599, 'intentions': 10600, 'bills': 10601, 'upa': 10602, 'nda': 10603, 'hoes': 10604, 'darrellissa': 10605, 'fjlyjl': 10606, 'mwwwowcayo': 10607, 'plvzlrkvk': 10608, 'fortunately': 10609, 'pirates': 10610, 'acquired': 10611, 'blowltan': 10612, 'queer': 10613, 'sultry': 10614, 'rosenbergs': 10615, 'sethalphaeus': 10616, 'paramore': 10617, 'muse': 10618, 'northbayhealth': 10619, 'shines': 10620, 'bskpdur': 10621, 'wbcbsytj': 10622, 'jets': 10623, 'zergele': 10624, 'qendil': 10625, 'tesco': 10626, 'complaint': 10627, 'qzvkpahsq': 10628, 'bcldqmmehg': 10629, 'occasionb': 10630, 'indepth': 10631, 'aypzvhma': 10632, 'goode': 10633, 'championships': 10634, 'pgkbtmbap': 10635, 'mon': 10636, 'stallion': 10637, 'kbeastx': 10638, 'genisys': 10639, 'agre': 10640, 'lvgcmyiyj': 10641, 'cocky': 10642, 'strutted': 10643, 'parisian': 10644, 'accustom': 10645, 'mgneaifl': 10646, 'uqhmipv': 10647, 'dhs': 10648, 'urgbd': 10649, 'tnuvgf': 10650, 'erker': 10651, 'eep': 10652, 'brenas': 10653, 'puerto': 10654, 'rico': 10655, 'sdzrrfzhmi': 10656, 'warfare': 10657, 'founding': 10658, 'tgtcrujio': 10659, 'casually': 10660, 'jasmine': 10661, 'spid': 10662, 'bolshevik': 10663, 'monopolized': 10664, 'supply': 10665, 'seize': 10666, 'hunhry': 10667, 'xouvdhwz': 10668, 'beached': 10669, 'rqbspucjdf': 10670, 'coreyashe': 10671, 'rendered': 10672, 'cpwiecegv': 10673, 'rzlytnezu': 10674, 'jzwrwlvlsj': 10675, 'otbjjhh': 10676, 'yancey': 10677, 'rvmmutgvc': 10678, 'algeria': 10679, 'laughs': 10680, 'sticking': 10681, 'ttqilhpw': 10682, 'researchers': 10683, 'select': 10684, 'viibxgjav': 10685, 'esemjrncc': 10686, 'nudes': 10687, 'launches': 10688, 'airstrikes': 10689, 'kurdistan': 10690, 'dawabsha': 10691, 'erode': 10692, 'homegrown': 10693, 'qntnwm': 10694, 'oekucqzl': 10695, 'shaolin': 10696, 'shen': 10697, 'chiang': 10698, 'venoms': 10699, 'kung': 10700, 'fu': 10701, 'favori': 10702, 'hoodedu': 10703, 'berlatsky': 10704, 'climbed': 10705, 'wheels': 10706, 'io': 10707, 'hawk': 10708, 'srk': 10709, 'wqixgmhfh': 10710, 'versethe': 10711, 'univers': 10712, 'roman': 10713, 'gwcxoojyv': 10714, 'igmpj': 10715, 'dangling': 10716, 'piercing': 10717, 'crystals': 10718, 'impressions': 10719, 'lieu': 10720, 'triumphs': 10721, 'vdefmulx': 10722, 'yqpaijsag': 10723, 'mbooaniqi': 10724, 'earthtwerk': 10725, 'jhscgdag': 10726, 'treescape': 10727, 'podz': 10728, 'pmggavtokp': 10729, 'fierce': 10730, 'stillness': 10731, 'aspects': 10732, 'weigh': 10733, 'extern': 10734, 'financing': 10735, 'secured': 10736, 'dawxokke': 10737, 'cracks': 10738, 'cousins': 10739, 'pdjoqjc': 10740, 'dzlensegw': 10741, 'olap': 10742, 'jwfnnssxt': 10743, 'multidimensi': 10744, 'zaztbq': 10745, 'fetch': 10746, 'pyjamas': 10747, 'kasktwxfl': 10748, 'tjmbzobo': 10749, 'lewis': 10750, 'bhzrugus': 10751, 'toviqoofv': 10752, 'ranefihbuk': 10753, 'mflrvbhqa': 10754, 'azeiogme': 10755, 'assessment': 10756, 'optimization': 10757, 'routing': 10758, 'sustainable': 10759, 'umanaahwmi': 10760, 'smarttek': 10761, 'mpers': 10762, 'oionqlfql': 10763, 'ktbesoa': 10764, 'fonts': 10765, 'announce': 10766, 'dull': 10767, 'monotonous': 10768, 'camila': 10769, 'spree': 10770, 'dorismatsui': 10771, 'supporting': 10772, 'qwqksb': 10773, 'drmartyfox': 10774, 'libs': 10775, 'tepco': 10776, 'yjyrzav': 10777, 'orbette': 10778, 'threatconnect': 10779, 'hrlxnjk': 10780, 'dfir': 10781, 'threatintel': 10782, 'rokiieee': 10783, 'indi': 10784, 'sjxllzosw': 10785, 'indiannew': 10786, 'iuhkcy': 10787, 'pqyxxool': 10788, 'freegeezy': 10789, 'kqtlaodh': 10790, 'zqbxexi': 10791, 'cuqsysej': 10792, 'ary': 10793, 'cowardly': 10794, 'fried': 10795, 'ravioli': 10796, 'porcini': 10797, 'ricotta': 10798, 'nmcpgvwq': 10799, 'soinfgxyx': 10800, 'progressive': 10801, 'greetings': 10802, 'pens': 10803, 'publications': 10804, 'fxpixqujt': 10805, 'gunpt': 10806, 'importance': 10807, 'exits': 10808, 'heartbeat': 10809, 'familiar': 10810, 'calhoun': 10811, 'nrc': 10812, 'pztbqimpuw': 10813, 'paddytomlinson': 10814, 'ayekoradio': 10815, 'brasswork': 10816, 'shaken': 10817, 'qhaxvhwh': 10818, 'netlabel': 10819, 'electronicmusic': 10820, 'ccmus': 10821, 'ikvjicmg': 10822, 'cizjafnm': 10823, 'kaylak': 10824, 'pgbbmcfx': 10825, 'ddijzynkf': 10826, 'uustfn': 10827, 'zxathetis': 10828, 'badly': 10829, 'requa': 10830, 'spell': 10831, 'properly': 10832, 'typo': 10833, 'rgyaybosa': 10834, 'idols': 10835, 'wdym': 10836, 'alisonannyoung': 10837, 'exclusive': 10838, 'demolishes': 10839, 'hoisting': 10840, 'dyymlnzj': 10841, 'medinah': 10842, 'imkeepingmydayjob': 10843, 'kcmbbwwpg': 10844, 'vqkdfgnr': 10845, 'vdqam': 10846, 'qhoxftir': 10847, 'oi': 10848, 'pdosrgcf': 10849, 'hqdczzdmbn': 10850, 'cadrhioxp': 10851, 'eunice': 10852, 'njoki': 10853, 'aiii': 10854, 'calmly': 10855, 'varagesale': 10856, 'candace': 10857, 'dx': 10858, 'yqqslb': 10859, 'sexydragonmagic': 10860, 'realization': 10861, 'span': 10862, 'nvpwrkl': 10863, 'fvck': 10864, 'pmcpczpnd': 10865, 'askin': 10866, 'answers': 10867, 'cell': 10868, 'ioqtte': 10869, 'klxaucnpi': 10870, 'sirtophamhat': 10871, 'scynic': 10872, 'nafeezahmed': 10873, 'jeremyduns': 10874, 'wheat': 10875, 'trespass': 10876, 'lest': 10877, 'sweetpea': 10878, 'allotment': 10879, 'brightening': 10880, 'rainy': 10881, 'ndbfopkm': 10882, 'klarajoelsson': 10883, 'bummer': 10884, 'calwildfires': 10885, 'aftermath': 10886, 'wwxbgubww': 10887, 'amazondeals': 10888, 'skylanders': 10889, 'pmbuzfgin': 10890, 'buzzfeed': 10891, 'qsiplcfa': 10892, 'oneheartonemindonecss': 10893, 'qdhxtoem': 10894, 'zicac': 10895, 'briefcase': 10896, 'axvffdn': 10897, 'nno': 10898, 'cmfnoync': 10899, 'emiiliexirwin': 10900, 'blaming': 10901, 'addresses': 10902, 'veld': 10903, 'refund': 10904, 'vkurtozj': 10905, 'trc': 10906, 'torontorc': 10907, 'articals': 10908, 'qddssfwu': 10909, 'soapscoop': 10910, 'yh': 10911, 'kfomcsc': 10912, 'nzhrchcgv': 10913, 'thyroid': 10914, 'ftunlhddg': 10915, 'photogenic': 10916, 'gosh': 10917, 'cxaupnemu': 10918, 'twilightfairy': 10919, 'leicester': 10920, 'merc': 10921, 'hqewmreyso': 10922, 'yyfclj': 10923, 'kalinandmyles': 10924, 'kalinwhite': 10925, 'givebackkalinwhiteaccount': 10926, 'dallascowboys': 10927, 'healthi': 10928, 'ulupxyzjwv': 10929, 'soloquiero': 10930, 'firefight': 10931, 'adriasimon': 10932, 'fqqigvlq': 10933, 'jgdlxfaw': 10934, 'ivwtynoujk': 10935, 'cityofmemphis': 10936, 'remaining': 10937, 'sections': 10938, 'greystone': 10939, 'lzljzzkcfa': 10940, 'watchthevideo': 10941, 'pxrvgjik': 10942, 'moaqaufa': 10943, 'nkouzwwrt': 10944, 'godsfirstson': 10945, 'practically': 10946, 'carted': 10947, 'guards': 10948, 'dbhonork': 10949, 'justus': 10950, 'corn': 10951, 'flakes': 10952, 'baseballquotes': 10953, 'dynasti': 10954, 'homefolks': 10955, 'opinionated': 10956, 'proposal': 10957, 'modernized': 10958, 'omw': 10959, 'firework': 10960, 'lrbtvueom': 10961, 'thebriankrause': 10962, 'leos': 10963, 'metaphorically': 10964, 'piperwearsthepants': 10965, 'charm': 10966, 'bst': 10967, 'mons': 10968, 'hanover': 10969, 'karlsruhe': 10970, 'gotthard': 10971, 'yoitocxiq': 10972, 'nhs': 10973, 'elijah': 10974, 'huriivfdkc': 10975, 'gpv': 10976, 'wnw': 10977, 'ljbjajdm': 10978, 'aluminum': 10979, 'missouri': 10980, 'naomi': 10981, 'wdseihyqu': 10982, 'rdo': 10983, 'hdvzirbci': 10984, 'zonewolf': 10985, 'ukygzd': 10986, 'secondhand': 10987, 'ydgmgbryl': 10988, 'mandem': 10989, 'totteham': 10990, 'maddddd': 10991, 'ting': 10992, 'bettyfreedoms': 10993, 'abninfvet': 10994, 'unconsciously': 10995, 'gwsauk': 10996, 'waiver': 10997, 'mariahcarey': 10998, 'xxzdnmbi': 10999, 'bufxmd': 11000, 'hcywrwnl': 11001, 'twxzvxbx': 11002, 'foxnewsinsider': 11003, 'vest': 11004, 'hearitfrompa': 11005, 'abolxmhvi': 11006, 'cbccalgary': 11007, 'underpasses': 11008, 'enacts': 11009, 'charlesadler': 11010, 'mustard': 11011, 'pepp': 11012, 'emily': 11013, 'difficultpeople': 11014, 'sneezing': 11015, 'placed': 11016, 'smack': 11017, 'christopherszen': 11018, 'hunterlove': 11019, 'tblack': 11020, 'russaky': 11021, 'kabul': 11022, 'oarmcgvb': 11023, 'piprhys': 11024, 'harms': 11025, 'lavapixcom': 11026, 'meteoearth': 11027, 'mfckpvzfv': 11028, 'sgecnkfthu': 11029, 'tomdean': 11030, 'shifted': 11031, 'easili': 11032, 'element': 11033, 'hanpcrrk': 11034, 'ujnrgfangj': 11035, 'tmipegqyev': 11036, 'correlate': 11037, 'marketwatch': 11038, 'mvrsyuppk': 11039, 'willis': 11040, 'foreman': 11041, 'vckitedev': 11042, 'unrealtouch': 11043, 'usarmy': 11044, 'jagm': 11045, 'tow': 11046, 'mnqchfk': 11047, 'dig': 11048, 'hoke': 11049, 'excepting': 11050, 'versus': 11051, 'dfljev': 11052, 'vulrclwbd': 11053, 'realtime': 11054, 'regress': 11055, 'lizzie': 11056, 'cstsmith': 11057, 'thnk': 11058, 'float': 11059, 'rotations': 11060, 'leaning': 11061, 'learni': 11062, 'wgllubnw': 11063, 'cosmetic': 11064, 'periwinkle': 11065, 'copper': 11066, 'piping': 11067, 'abnlseqb': 11068, 'simulation': 11069, 'dcdecfv': 11070, 'dwbcduvdk': 11071, 'shelli': 11072, 'entitlement': 11073, 'ridiculous': 11074, 'wvngriypq': 11075, 'reipuwp': 11076, 'lcbdwmz': 11077, 'lionx': 11078, 'kirafrog': 11079, 'wario': 11080, 'screeching': 11081, 'accompanying': 11082, 'wisely': 11083, 'carnage': 11084, 'continuing': 11085, 'ggindependencmessag': 11086, 'descended': 11087, 'shadowed': 11088, 'crest': 11089, 'striking': 11090, 'harshly': 11091, 'wwp': 11092, 'serving': 11093, 'oif': 11094, 'oef': 11095, 'invisible': 11096, 'shhlvdplz': 11097, 'cli': 11098, 'deadgirltalking': 11099, 'unfortunemelody': 11100, 'jaylenejoybeligan': 11101, 'tarynel': 11102, 'dredougie': 11103, 'santanico': 11104, 'pvkgojni': 11105, 'warped': 11106, 'attila': 11107, 'issu': 11108, 'buscemi': 11109, 'firefightr': 11110, 'fame': 11111, 'workd': 11112, 'shifts': 11113, 'diggin': 11114, 'wtc': 11115, 'lookg': 11116, 'lfjpnszuo': 11117, 'myhohvrhil': 11118, 'tmhthfdo': 11119, 'testimonials': 11120, 'muanfwcrw': 11121, 'directions': 11122, 'cafire': 11123, 'wildfir': 11124, 'beluga': 11125, 'seaworld': 11126, 'opseaworld': 11127, 'mzkujlfcv': 11128, 'critters': 11129, 'dxktshuj': 11130, 'charg': 11131, 'fzujgsxjg': 11132, 'mydrought': 11133, 'awareness': 11134, 'zvhxiv': 11135, 'dril': 11136, 'fpaoulwun': 11137, 'zhxxdpm': 11138, 'euroquak': 11139, 'jwdfpygnt': 11140, 'usg': 11141, 'paeds': 11142, 'imaging': 11143, 'foamed': 11144, 'foamcc': 11145, 'trooper': 11146, 'bobble': 11147, 'funko': 11148, 'kjbxieypma': 11149, 'enpjcfm': 11150, 'jxsfkvik': 11151, 'cmsgexmfc': 11152, 'sanonofr': 11153, 'targigbz': 11154, 'snapchatselfie': 11155, 'wrongperson': 11156, 'whimsy': 11157, 'someones': 11158, 'smth': 11159, 'rsyytng': 11160, 'deepest': 11161, 'condolences': 11162, 'officeofrg': 11163, 'wielding': 11164, 'woken': 11165, 'yhvji': 11166, 'ahamedis': 11167, 'messiah': 11168, 'dajaal': 11169, 'gog': 11170, 'magog': 11171, 'gym': 11172, 'flurry': 11173, 'owen': 11174, 'ferrell': 11175, 'bullet': 11176, 'twcnewsclt': 11177, 'nnbexhklhr': 11178, 'qiqdwdfg': 11179, 'gpvzvi': 11180, 'qrbtdcqcj': 11181, 'ltqcaey': 11182, 'taaoveg': 11183, 'iiii': 11184, 'riveeee': 11185, 'intervene': 11186, 'vitesse': 11187, 'supporters': 11188, 'buildup': 11189, 'skvnmtzgeg': 11190, 'reusing': 11191, 'equipments': 11192, 'drumming': 11193, 'champaign': 11194, 'fdbdp': 11195, 'tbr': 11196, 'browsing': 11197, 'homepag': 11198, 'xlqgvbr': 11199, 'limpar': 11200, 'sweeping': 11201, 'ayfdjebhy': 11202, 'reduces': 11203, 'jvivtzrv': 11204, 'yiayplan': 11205, 'amiibos': 11206, 'ranks': 11207, 'demise': 11208, 'ajkmcuswho': 11209, 'rant': 11210, 'xoxo': 11211, 'bluewestlo': 11212, 'upgdcyil': 11213, 'twoptwips': 11214, 'sifting': 11215, 'oumchznq': 11216, 'possibility': 11217, 'nazis': 11218, 'kapokekito': 11219, 'northgate': 11220, 'innocents': 11221, 'explicitly': 11222, 'behavior': 11223, 'qadrkejzt': 11224, 'cary': 11225, 'condo': 11226, 'mimhhc': 11227, 'hubris': 11228, 'req': 11229, 'vision': 11230, 'rigour': 11231, 'scam': 11232, 'sarcastic': 11233, 'jssmmlnaq': 11234, 'raheelsharif': 11235, 'manifesting': 11236, 'helm': 11237, 'stormy': 11238, 'vzwsupport': 11239, 'texts': 11240, 'kunalkapoor': 11241, 'chaser': 11242, 'wjysehmw': 11243, 'pod': 11244, 'hebrooon': 11245, 'derivative': 11246, 'formula': 11247, 'stole': 11248, 'honduran': 11249, 'minors': 11250, 'ndwepizdq': 11251, 'khulna': 11252, 'enyndxppm': 11253, 'gqpijmkan': 11254, 'jaureguiswisdom': 11255, 'ive': 11256, 'languag': 11257, 'athletics': 11258, 'doping': 11259, 'monetary': 11260, 'requir': 11261, 'bloopandablast': 11262, 'intriguing': 11263, 'dominant': 11264, 'jobbing': 11265, 'xssvgimvb': 11266, 'oimpoxcu': 11267, 'wildlif': 11268, 'eggalie': 11269, 'mnhfxhodb': 11270, 'hannah': 11271, 'jengriffinfnc': 11272, 'arriv': 11273, 'xumylcbq': 11274, 'dumbass': 11275, 'huhwpmrywz': 11276, 'iit': 11277, 'logically': 11278, 'sanction': 11279, 'gmtty': 11280, 'kyee': 11281, 'nockthie': 11282, 'hamlet': 11283, 'taungbazar': 11284, 'buthidaung': 11285, 'severely': 11286, 'kasitaroch': 11287, 'vivianunhcr': 11288, 'prayed': 11289, 'wfitkkvx': 11290, 'huffpostrelig': 11291, 'carmike': 11292, 'cinemas': 11293, 'behfhsppud': 11294, 'dyersdcrh': 11295, 'mcpmxmurk': 11296, 'resilience': 11297, 'factsheet': 11298, 'fcfpijiqt': 11299, 'vxuftvtau': 11300, 'okamsczbwg': 11301, 'aisumage': 11302, 'akumareisu': 11303, 'ophelia': 11304, 'cocaine': 11305, 'alameda': 11306, 'cok': 11307, 'snyoohseq': 11308, 'eugzhciun': 11309, 'adqvgrvr': 11310, 'pictured': 11311, 'yibbbxf': 11312, 'canceling': 11313, 'agrees': 11314, 'fgwxeprak': 11315, 'deedee': 11316, 'casey': 11317, 'caves': 11318, 'ktqsaarm': 11319, 'evnxscx': 11320, 'jyheffect': 11321, 'ni': 11322, 'fitba': 11323, 'kinesiology': 11324, 'ironman': 11325, 'durability': 11326, 'effectiveness': 11327, 'ejymkzpeex': 11328, 'iyuntxduv': 11329, 'concludes': 11330, 'deactivated': 11331, 'iaeect': 11332, 'folk': 11333, 'sgfnebgt': 11334, 'grlxurkod': 11335, 'jlujqsu': 11336, 'walfrtfka': 11337, 'studying': 11338, 'phfoeozyp': 11339, 'grilled': 11340, 'sandwich': 11341, 'figured': 11342, 'sandunes': 11343, 'gentle': 11344, 'lapping': 11345, 'gulls': 11346, 'sizewell': 11347, 'xcuihibn': 11348, 'alexjacobsonpfs': 11349, 'andre': 11350, 'gore': 11351, 'usfs': 11352, 'acronym': 11353, 'nadrgrxc': 11354, 'retweeted': 11355, 'cultsierre': 11356, 'mufczqjrl': 11357, 'ssltesmhi': 11358, 'stlouis': 11359, 'caraccidentlawyer': 11360, 'speeding': 11361, 'kzomof': 11362, 'skxvmcba': 11363, 'ohyayyyyay': 11364, 'warlord': 11365, 'thrusts': 11366, 'jams': 11367, 'womb': 11368, 'ieccjdoub': 11369, 'gigagil': 11370, 'iof': 11371, 'morality': 11372, 'nficuloj': 11373, 'wwfacunft': 11374, 'yfqxvak': 11375, 'kxrehvthl': 11376, 'hagerstown': 11377, 'yourstate': 11378, 'whag': 11379, 'underwater': 11380, 'cfploxcr': 11381, 'cbgzxunk': 11382, 'followlasg': 11383, 'urgentthere': 11384, 'storey': 11385, 'oworoshoki': 11386, 'mainland': 11387, 'imminent': 11388, 'xjbdcaahf': 11389, 'acfirhzn': 11390, 'ngata': 11391, 'zdtoqhhg': 11392, 'erjyanjxm': 11393, 'vbrpeujanl': 11394, 'fqmyprlgg': 11395, 'ruebs': 11396, 'endures': 11397, 'climb': 11398, 'jxhazebnqk': 11399, 'jays': 11400, 'rocking': 11401, 'joeybats': 11402, 'rogers': 11403, 'offs': 11404, 'moseby': 11405, 'barfield': 11406, 'qfyyazifx': 11407, 'cekbxjmpbj': 11408, 'spying': 11409, 'hidden': 11410, 'nsa': 11411, 'software': 11412, 'qycwjjaj': 11413, 'thedoolinggroup': 11414, 'slams': 11415, 'bordento': 11416, 'yqhfioxqm': 11417, 'solano': 11418, 'skaggs': 11419, 'mylieruxk': 11420, 'kwislo': 11421, 'dreamer': 11422, 'eerpoahpk': 11423, 'bryansinger': 11424, 'rupaul': 11425, 'alexshipppp': 11426, 'oqwjxrt': 11427, 'bardissimo': 11428, 'henry': 11429, 'bilsen': 11430, 'disappeared': 11431, 'zpkjztrp': 11432, 'liwkjybe': 11433, 'norg': 11434, 'pundit': 11435, 'grave': 11436, 'rails': 11437, 'fabvlvnm': 11438, 'ruddyyyyyy': 11439, 'jamiegriff': 11440, 'jamie': 11441, 'vzgslepkkh': 11442, 'shadowman': 11443, 'monstrosities': 11444, 'tbpqlyfyot': 11445, 'hdckeposqc': 11446, 'escorts': 11447, 'gfe': 11448, 'dubai': 11449, 'nahgfmudt': 11450, 'ri': 11451, 'hardest': 11452, 'yard': 11453, 'casewrites': 11454, 'naeyvsg': 11455, 'currency': 11456, 'transgress': 11457, 'ward': 11458, 'payment': 11459, 'unsecured': 11460, 'jbumzqpk': 11461, 'carriage': 11462, 'tennews': 11463, 'hfyrloqyq': 11464, 'rappers': 11465, 'whale': 11466, 'cocktail': 11467, 'mas': 11468, 'verde': 11469, 'mezcal': 11470, 'chartreuse': 11471, 'cucumber': 11472, 'bitters': 11473, 'reuosjekm': 11474, 'ocd': 11475, 'ercjmnea': 11476, 'jcszcjihlh': 11477, 'gentlemen': 11478, 'elevator': 11479, 'noses': 11480, 'pressed': 11481, 'zcfhisrw': 11482, 'vwykdauvm': 11483, 'bekrpjnyhs': 11484, 'ltyefjdma': 11485, 'indiatv': 11486, 'laawuud': 11487, 'dopeitsval': 11488, 'humbled': 11489, 'acczqzw': 11490, 'vltbrwbr': 11491, 'ciwwuqthin': 11492, 'achieve': 11493, 'excellence': 11494, 'habit': 11495, 'actionmoviestaughtus': 11496, 'spac': 11497, 'exqkmlgnj': 11498, 'nwspocatello': 11499, 'brunt': 11500, 'grayed': 11501, 'interspersed': 11502, 'crowtherjohn': 11503, 'effiedeans': 11504, 'lbr': 11505, 'couldnt': 11506, 'situ': 11507, 'wacttgda': 11508, 'basebal': 11509, 'yzgwzbhr': 11510, 'rhtaqjvqn': 11511, 'tourist': 11512, 'jackholes': 11513, 'abandonedpics': 11514, 'abbandoned': 11515, 'darsena': 11516, 'castello': 11517, 'scaligero': 11518, 'sirmion': 11519, 'aubrey': 11520, 'dispatchers': 11521, 'boone': 11522, 'fhkxtrhyu': 11523, 'flashflood': 11524, 'gilgit': 11525, 'farmland': 11526, 'fixrh': 11527, 'ibedxgfy': 11528, 'benjm': 11529, 'tourofutah': 11530, 'bgrego': 11531, 'pacquiao': 11532, 'marquez': 11533, 'unfilled': 11534, 'durvod': 11535, 'vjaryxa': 11536, 'wkvvqvkt': 11537, 'artisteoftheweekfact': 11538, 'conversations': 11539, 'coastcoastdjs': 11540, 'jiwonle': 11541, 'clubbang': 11542, 'adidas': 11543, 'swingman': 11544, 'jersey': 11545, 'toayjowc': 11546, 'teemo': 11547, 'tytpbcgwi': 11548, 'xbzwyhct': 11549, 'jmbvpanxr': 11550, 'danielle': 11551, 'ou': 11552, 'wbball': 11553, 'prove': 11554, 'begun': 11555, 'tren': 11556, 'vhcxtvcinr': 11557, 'stray': 11558, 'strangers': 11559, 'qhfqluiry': 11560, 'reshareworthi': 11561, 'extent': 11562, 'privilege': 11563, 'unfair': 11564, 'devpeace': 11565, 'jwxrxlsqo': 11566, 'feelingman': 11567, 'overcharging': 11568, 'rent': 11569, 'nowher': 11570, 'documenting': 11571, 'qzdou': 11572, 'uprootin': 11573, 'fhvokmph': 11574, 'skaausjpo': 11575, 'oliviamil': 11576, 'sara': 11577, 'livemint': 11578, 'rptouzijs': 11579, 'mlhfefhr': 11580, 'allthenew': 11581, 'marge': 11582, 'ehek': 11583, 'uncertain': 11584, 'rreojgu': 11585, 'mute': 11586, 'lender': 11587, 'fees': 11588, 'linkedin': 11589, 'pmbtxmo': 11590, 'fljwxjjp': 11591, 'devise': 11592, 'sonofliberty': 11593, 'illuminated': 11594, 'brightly': 11595, 'danielsahyounie': 11596, 'wvtpuryx': 11597, 'ogun': 11598, 'smugglers': 11599, 'shootout': 11600, 'allegedly': 11601, 'puxbcloyk': 11602, 'rory': 11603, 'mcilroy': 11604, 'chinadotcom': 11605, 'udtgwfscp': 11606, 'vwsxlqn': 11607, 'tracklist': 11608, 'ablaz': 11609, 'aussi': 11610, 'summon': 11611, 'directly': 11612, 'kfyebhbdi': 11613, 'ecstatic': 11614, 'racco': 11615, 'tqdzvgwx': 11616, 'animalrescu': 11617, 'rangerkaitimay': 11618, 'strawberries': 11619, 'mqydxrlae': 11620, 'epjjkbb': 11621, 'ds': 11622, 'haboppeji': 11623, 'kurd': 11624, 'ghghqm': 11625, 'qhbzkerott': 11626, 'cogxbox': 11627, 'xboxone': 11628, 'flower': 11629, 'printed': 11630, 'rjzwcasx': 11631, 'wtdiavua': 11632, 'stacedemon': 11633, 'nelson': 11634, 'mandela': 11635, 'qrljyuez': 11636, 'xfguklrltf': 11637, 'feguhwmc': 11638, 'hoe': 11639, 'lethbridge': 11640, 'mdt': 11641, 'yqyiwjnez': 11642, 'preppers': 11643, 'doomsday': 11644, 'shtf': 11645, 'preppertalk': 11646, 'vpqtgeqlma': 11647, 'zvchjclf': 11648, 'qpgzrh': 11649, 'teamfollowback': 11650, 'followback': 11651, 'lollapalooza': 11652, 'shotgun': 11653, 'denton': 11654, 'rcnjli': 11655, 'tumbles': 11656, 'todayi': 11657, 'sweeps': 11658, 'dist': 11659, 'sfa': 11660, 'rwbxzm': 11661, 'maaaaan': 11662, 'fjdmqhyai': 11663, 'sebe': 11664, 'sriramk': 11665, 'dlin': 11666, 'pmarca': 11667, 'commons': 11668, 'ownership': 11669, 'ciytyfgpr': 11670, 'kalmikya': 11671, 'astrakhan': 11672, 'volgagrad': 11673, 'dagestan': 11674, 'locusts': 11675, 'fwzwxtp': 11676, 'timeworld': 11677, 'thruuu': 11678, 'aimduway': 11679, 'cgbjwmhii': 11680, 'scholars': 11681, 'imprisoning': 11682, 'flhfmehzh': 11683, 'reblogged': 11684, 'xrpsoo': 11685, 'ofentse': 11686, 'tsi': 11687, 'correcting': 11688, 'dvieablofz': 11689, 'catalinas': 11690, 'ntawgezjx': 11691, 'dbftyid': 11692, 'welcomes': 11693, 'mjjqpsv': 11694, 'cjqqcgohg': 11695, 'axkxnoyz': 11696, 'shakjn': 11697, 'magnums': 11698, 'finale': 11699, 'stori': 11700, 'mafireems': 11701, 'qufwxrjiql': 11702, 'kcarosawmur': 11703, 'edvpitswy': 11704, 'xsbddlziy': 11705, 'afycso': 11706, 'radychildrens': 11707, 'igwstttkwk': 11708, 'anakin': 11709, 'wbc': 11710, 'ponting': 11711, 'hsgktezucn': 11712, 'notified': 11713, 'rrzbzgon': 11714, 'bedrooms': 11715, 'baths': 11716, 'qmsrressd': 11717, 'zlajcssq': 11718, 'dianneg': 11719, 'nagaski': 11720, 'yelllowheather': 11721, 'undeserving': 11722, 'mithitennis': 11723, 'crackedgem': 11724, 'iron': 11725, 'rjacsitep': 11726, 'plqfbik': 11727, 'explosives': 11728, 'rigged': 11729, 'eastern': 11730, 'spotlight': 11731, 'paradise': 11732, 'wniagospel': 11733, 'heufawzm': 11734, 'bnhtxaezmm': 11735, 'oversee': 11736, 'vhqtbypzt': 11737, 'fade': 11738, 'shipsxanchors': 11739, 'idek': 11740, 'christycroley': 11741, 'vela': 11742, 'qreoevlu': 11743, 'mssqsvnbm': 11744, 'livescience': 11745, 'dpgdnaoyp': 11746, 'fcjfdkdz': 11747, 'omgbethersss': 11748, 'bethanymota': 11749, 'broader': 11750, 'conservation': 11751, 'akgovbillwalker': 11752, 'reinstate': 11753, 'buffer': 11754, 'protectdenaliwolv': 11755, 'fo': 11756, 'evyelwlc': 11757, 'wexzadgc': 11758, 'hendrixonfire': 11759, 'blackcats': 11760, 'noob': 11761, 'mixed': 11762, 'violated': 11763, 'server': 11764, 'sunbathe': 11765, 'drnookm': 11766, 'matijwkzbh': 11767, 'flunkie': 11768, 'gzsruzvq': 11769, 'lifetime': 11770, 'ehlcqkxl': 11771, 'blackinamerica': 11772, 'growingupblack': 11773, 'weakening': 11774, 'lubbock': 11775, 'boundary': 11776, 'pwtzutay': 11777, 'jetengine': 11778, 'turbojet': 11779, 'boing': 11780, 'kxxnszpnk': 11781, 'ndxrkncln': 11782, 'uswarcrim': 11783, 'wvobvvtxkg': 11784, 'dismantling': 11785, 'vnaccfd': 11786, 'fijapxykrq': 11787, 'xwmsawwm': 11788, 'teyerugsi': 11789, 'domain': 11790, 'sophistication': 11791, 'closely': 11792, 'zrnf': 11793, 'metrotown': 11794, 'maintained': 11795, 'burnaby': 11796, 'changeforthewors': 11797, 'acousticmaloley': 11798, 'sequwmvfx': 11799, 'cntpnqo': 11800, 'qdfasaelm': 11801, 'floatin': 11802, 'jawgpsp': 11803, 'developing': 11804, 'symptoms': 11805, 'rqkkuhey': 11806, 'pisco': 11807, 'coya': 11808, 'ppekbqdcnc': 11809, 'ewnunphdo': 11810, 'lastma': 11811, 'lagos': 11812, 'vzsftrbg': 11813, 'overtaking': 11814, 'bathandnortheastsomerset': 11815, 'fafcnln': 11816, 'vvorm': 11817, 'negligence': 11818, 'fireworks': 11819, 'incidents': 11820, 'dwzynpb': 11821, 'wisdc': 11822, 'deathusa': 11823, 'serarcnrbi': 11824, 'mynjwbc': 11825, 'rtpjrhsq': 11826, 'stankyboy': 11827, 'snqfhpymo': 11828, 'uoozxaus': 11829, 'mgbizjfgd': 11830, 'prediction': 11831, 'expanded': 11832, 'slight': 11833, 'twcnews': 11834, 'ncwx': 11835, 'dgbehld': 11836, 'nanotech': 11837, 'clots': 11838, 'hfyvslbb': 11839, 'obligatory': 11840, 'ja': 11841, 'itsjustinstuart': 11842, 'mnkajiqn': 11843, 'barak': 11844, 'depends': 11845, 'dwight': 11846, 'eisenhow': 11847, 'yhvetmyz': 11848, 'wgugzm': 11849, 'editaxohaze': 11850, 'cuffed': 11851, 'roving': 11852, 'raccoons': 11853, 'toughens': 11854, 'ojusyzrq': 11855, 'tuzacdwfqd': 11856, 'hlportal': 11857, 'xdtvhfnb': 11858, 'ibaraki': 11859, 'prefecture': 11860, 'offing': 11861, 'landolina': 11862, 'btniwagt': 11863, 'realestate': 11864, 'hhzyoqela': 11865, 'basildudin': 11866, 'barbaric': 11867, 'saudies': 11868, 'austrian': 11869, 'vdiliicyr': 11870, 'autoames': 11871, 'ventilated': 11872, 'bandolier': 11873, 'dix': 11874, 'fzytwqkwv': 11875, 'fresno': 11876, 'designer': 11877, 'qualit': 11878, 'zgjgghdurf': 11879, 'unkn': 11880, 'jsehpwq': 11881, 'submissions': 11882, 'starbucks': 11883, 'momneedscoffee': 11884, 'iwontmakeit': 11885, 'nashvilletraffic': 11886, 'ghkegj': 11887, 'stunckle': 11888, 'crazydoctorlady': 11889, 'rods': 11890, 'creatur': 11891, 'trib': 11892, 'suspended': 11893, 'ryzhxklw': 11894, 'pxpoqktjo': 11895, 'munch': 11896, 'endangered': 11897, 'speci': 11898, 'tanstaafl': 11899, 'correlation': 11900, 'imply': 11901, 'peterdutton': 11902, 'labor': 11903, 'alil': 11904, 'zipped': 11905, 'camilacabello': 11906, 'externally': 11907, 'equally': 11908, 'incapable': 11909, 'nothingness': 11910, 'blaise': 11911, 'pasc': 11912, 'ysxunvceh': 11913, 'kelworldpeace': 11914, 'taxstone': 11915, 'yoga': 11916, 'ibiza': 11917, 'dannyjohnjules': 11918, 'spencer': 11919, 'fearon': 11920, 'christielinford': 11921, 'rawfoodbliss': 11922, 'humid': 11923, 'forehead': 11924, 'flared': 11925, 'oli': 11926, 'extract': 11927, 'tbs': 11928, 'adsmbqkwu': 11929, 'glyoyfoc': 11930, 'sfrgnwo': 11931, 'trailed': 11932, 'colin': 11933, 'hvbjajs': 11934, 'adzkburt': 11935, 'lim': 11936, 'leh': 11937, 'tpuueatb': 11938, 'cyhitheprynce': 11939, 'elephantintheroom': 11940, 'modibo': 11941, 'maiga': 11942, 'fucktard': 11943, 'coyi': 11944, 'zlagvuza': 11945, 'xofvkmv': 11946, 'markwschaef': 11947, 'circular': 11948, 'ruins': 11949, 'odratxrqs': 11950, 'neon': 11951, 'rockin': 11952, 'sedan': 11953, 'pulse': 11954, 'uwobuuwmk': 11955, 'bickleton': 11956, 'vivaargentina': 11957, 'boxing': 11958, 'imagini': 11959, 'noi': 11960, 'clipuri': 11961, 'jcfwukofe': 11962, 'cliptv': 11963, 'desolationofsmaug': 11964, 'poze': 11965, 'thehobbit': 11966, 'kcdefvut': 11967, 'orphanage': 11968, 'obviously': 11969, 'djarelcn': 11970, 'haji': 11971, 'hunter': 11972, 'middleeasteye': 11973, 'muzzies': 11974, 'payback': 11975, 'pyramidhead': 11976, 'halt': 11977, 'ghostwriting': 11978, 'trends': 11979, 'sjhhsrps': 11980, 'oifnhpcs': 11981, 'dani': 11982, 'gkprvzqlk': 11983, 'fanarmyfaceoff': 11984, 'kgtxnnbji': 11985, 'wbcshirl': 11986, 'doessnt': 11987, 'rejoice': 11988, 'calamities': 11989, 'ect': 11990, 'presume': 11991, 'soggy': 11992, 'lashings': 11993, 'moist': 11994, 'expo': 11995, 'yhruga': 11996, 'lyme': 11997, 'rgtghodpw': 11998, 'epabinczmj': 11999, 'sgzgtgfw': 12000, 'homies': 12001, 'inmate': 12002, 'approach': 12003, 'ihucoglw': 12004, 'delany': 12005, 'dhalgren': 12006, 'beastly': 12007, 'downing': 12008, 'geek': 12009, 'hesse': 12010, 'plays': 12011, 'tngpshnl': 12012, 'imzlnzltf': 12013, 'etcpb': 12014, 'marketers': 12015, 'marketer': 12016, 'kpmyqujsu': 12017, 'oaanwlha': 12018, 'captivity': 12019, 'introduced': 12020, 'compensate': 12021, 'ncjlxzfwaa': 12022, 'psalm': 12023, 'spokes': 12024, 'raptors': 12025, 'beg': 12026, 'rang': 12027, 'musik': 12028, 'goodlook': 12029, 'explanation': 12030, 'request': 12031, 'provided': 12032, 'ashj': 12033, 'vbrgjmiy': 12034, 'ayshun': 12035, 'daviskawalya': 12036, 'mauryn': 12037, 'goodbyes': 12038, 'hogan': 12039, 'thanking': 12040, 'publicity': 12041, 'mthe': 12042, 'premises': 12043, 'mantra': 12044, 'gehtski': 12045, 'eileenmfl': 12046, 'davidjordan': 12047, 'stephanenny': 12048, 'particular': 12049, 'nuys': 12050, 'fxuxvzx': 12051, 'vannuyscouncil': 12052, 'hddbmuyca': 12053, 'robertbenglund': 12054, 'iaogcsoy': 12055, 'djiwgpxv': 12056, 'truths': 12057, 'ufuwrgku': 12058, 'sparking': 12059, 'akxbskdn': 12060, 'tadhgtgmtel': 12061, 'scar': 12062, 'oup': 12063, 'thda': 12064, 'kicks': 12065, 'xzlrwcpik': 12066, 'oxlxmkoyq': 12067, 'web': 12068, 'umtnnimtbm': 12069, 'fotofill': 12070, 'gorg': 12071, 'entity': 12072, 'montego': 12073, 'sewer': 12074, 'tvjnew': 12075, 'iamrrsb': 12076, 'pdehdtcpk': 12077, 'skywars': 12078, 'flechadas': 12079, 'sinistra': 12080, 'roy': 12081, 'spx': 12082, 'finite': 12083, 'mint': 12084, 'uhfmrtq': 12085, 'qulgakebhb': 12086, 'docks': 12087, 'pmikavykl': 12088, 'fifty': 12089, 'dates': 12090, 'kohooje': 12091, 'datingtips': 12092, 'goodread': 12093, 'siding': 12094, 'rdxzsleac': 12095, 'qwijrriyif': 12096, 'deosl': 12097, 'xavier': 12098, 'meaningless': 12099, 'lwilliams': 12100, 'wilshere': 12101, 'recordand': 12102, 'behaviors': 12103, 'arsen': 12104, 'jmawrlthb': 12105, 'kfbtccu': 12106, 'xyjrpsai': 12107, 'novel': 12108, 'iot': 12109, 'conserve': 12110, 'nnvzwv': 12111, 'modest': 12112, 'sniff': 12113, 'sniiiiiiff': 12114, 'donny': 12115, 'jude': 12116, 'mugabi': 12117, 'abortions': 12118, 'comings': 12119, 'labelled': 12120, 'qpssnacv': 12121, 'bcqzqjrzn': 12122, 'legna': 12123, 'sides': 12124, 'anpgnjfd': 12125, 'zel': 12126, 'kno': 12127, 'davis': 12128, 'nurses': 12129, 'judith': 12130, 'hopfer': 12131, 'deglin': 12132, 'vallerand': 12133, 'iufsuvhk': 12134, 'afrhnllyd': 12135, 'roinsmejj': 12136, 'tjzjin': 12137, 'yduixefipe': 12138, 'lxtjckls': 12139, 'almighty': 12140, 'strength': 12141, 'eikzab': 12142, 'hannahkauthor': 12143, 'freeamirnow': 12144, 'freeallfour': 12145, 'gwnlhneku': 12146, 'modbbdfvr': 12147, 'scnwexbv': 12148, 'brochure': 12149, 'downside': 12150, 'vjxanap': 12151, 'fco': 12152, 'tobias': 12153, 'ellwood': 12154, 'condemns': 12155, 'cwhozz': 12156, 'afterlife': 12157, 'jvjalygn': 12158, 'qxmweljbc': 12159, 'robertcalifornia': 12160, 'thereisonlysex': 12161, 'wiped': 12162, 'yaqrsximph': 12163, 'argentaelite': 12164, 'trollkrattos': 12165, 'juan': 12166, 'transcend': 12167, 'diversified': 12168, 'nriqnao': 12169, 'feelings': 12170, 'eerie': 12171, 'revealing': 12172, 'cadrought': 12173, 'lakeisabella': 12174, 'jpanzar': 12175, 'pvexbiiqsk': 12176, 'officialtjonez': 12177, 'fzidhqrk': 12178, 'zaire': 12179, 'mulruifnn': 12180, 'specialguest': 12181, 'crapgamer': 12182, 'gamescom': 12183, 'niqqa': 12184, 'dvuridz': 12185, 'kissimmee': 12186, 'fpyrugolh': 12187, 'benignovito': 12188, 'libertybell': 12189, 'hillarymass': 12190, 'shadowflame': 12191, 'wraith': 12192, 'ldbaorsuz': 12193, 'preserve': 12194, 'ajw': 12195, 'xjgkjvma': 12196, 'jishin': 12197, 'minamisoma': 12198, 'playingnow': 12199, 'bloodbound': 12200, 'dlyruusqk': 12201, 'lengths': 12202, 'amroxynx': 12203, 'fkvqxdci': 12204, 'poplar': 12205, 'ordained': 12206, 'spurgeon': 12207, 'yinuovbv': 12208, 'calais': 12209, 'pymtwxpm': 12210, 'rebooting': 12211, 'smp': 12212, 'apvlhhjo': 12213, 'ljntejgmb': 12214, 'heyseto': 12215, 'sunburn': 12216, 'nowhere': 12217, 'icrgseagya': 12218, 'kpvymhmub': 12219, 'theboyofmasks': 12220, 'manor': 12221, 'poem': 12222, 'chann': 12223, 'receipts': 12224, 'gtfo': 12225, 'desper': 12226, 'spa': 12227, 'exjzqjni': 12228, 'ij': 12229, 'hiulmu': 12230, 'transfer': 12231, 'virgil': 12232, 'dijk': 12233, 'pvmrlnva': 12234, 'infographic': 12235, 'uvaojzcycz': 12236, 'thetimepast': 12237, 'saalon': 12238, 'resolved': 12239, 'fricken': 12240, 'eyecuts': 12241, 'erasuterism': 12242, 'gal': 12243, 'deco': 12244, 'trickier': 12245, 'splash': 12246, 'wal': 12247, 'bark': 12248, 'vwuqqiy': 12249, 'leejasper': 12250, 'tories': 12251, 'interestrateris': 12252, 'girlthatsrio': 12253, 'uncles': 12254, 'wise': 12255, 'bytbzsux': 12256, 'ip': 12257, 'owvsclicx': 12258, 'hornybigbadwolf': 12259, 'easlgeab': 12260, 'pipeliners': 12261, 'pstbbqav': 12262, 'diarrhq': 12263, 'claiming': 12264, 'banthebomb': 12265, 'gywwsqj': 12266, 'sought': 12267, 'jpqlrunjj': 12268, 'jbpgkgowsi': 12269, 'chilis': 12270, 'molten': 12271, 'wonders': 12272, 'ddnewslive': 12273, 'nitishkumar': 12274, 'arvindkejriwal': 12275, 'mofanon': 12276, 'ixiybapqa': 12277, 'lynchburg': 12278, 'zepzqydbi': 12279, 'ganpwtg': 12280, 'bioter': 12281, 'nhusewli': 12282, 'chelsdelong': 12283, 'kendra': 12284, 'leigh': 12285, 'inws': 12286, 'spsgsp': 12287, 'ldcwkyuaff': 12288, 'uv': 12289, 'gin': 12290, 'mjfdcrjsj': 12291, 'listia': 12292, 'baskgod': 12293, 'popcorn': 12294, 'xxoupfynq': 12295, 'abjabhqh': 12296, 'mileena': 12297, 'stfxuniversity': 12298, 'lawtundhm': 12299, 'fucoqhclad': 12300, 'lxmdiseucn': 12301, 'yug': 12302, 'skynews': 12303, 'scum': 12304, 'canc': 12305, 'wahhabism': 12306, 'zion': 12307, 'hyperbole': 12308, 'saintsfc': 12309, 'strip': 12310, 'gopsicpbm': 12311, 'fowlers': 12312, 'occup': 12313, 'slsp': 12314, 'encor': 12315, 'dgeljryt': 12316, 'theellenshow': 12317, 'signatures': 12318, 'baekhyun': 12319, 'suho': 12320, 'attending': 12321, 'idol': 12322, 'championship': 12323, 'syjexo': 12324, 'oazjpwueyr': 12325, 'lekhnkbar': 12326, 'okinawa': 12327, 'gargron': 12328, 'nightmare': 12329, 'alas': 12330, 'nightmares': 12331, 'rbzomwgjee': 12332, 'bcpoli': 12333, 'canpoli': 12334, 'vanpoli': 12335, 'donnie': 12336, 'crazyindapeg': 12337, 'understandable': 12338, 'teafrystlik': 12339, 'darken': 12340, 'ungodly': 12341, 'bolt': 12342, 'qtrh': 12343, 'oqhjbuenl': 12344, 'cle': 12345, 'cuyahoga': 12346, 'greening': 12347, 'ifsdxvp': 12348, 'ekbludwh': 12349, 'osama': 12350, 'mhmmm': 12351, 'woo': 12352, 'hoo': 12353, 'azimel': 12354, 'scientist': 12355, 'deceased': 12356, 'heels': 12357, 'investig': 12358, 'thesewphist': 12359, 'whoever': 12360, 'holds': 12361, 'fuckface': 12362, 'wineisdumb': 12363, 'spam': 12364, 'exporting': 12365, 'solving': 12366, 'uttanbigrx': 12367, 'dnbuogsk': 12368, 'ufcbdzh': 12369, 'vsvyqet': 12370, 'pbs': 12371, 'mageavexis': 12372, 'origins': 12373, 'displac': 12374, 'accepte': 12375, 'vghrbebda': 12376, 'bmxsndxg': 12377, 'ignore': 12378, 'vrpmplczci': 12379, 'immxaen': 12380, 'hxunjcc': 12381, 'uuewmjl': 12382, 'jwivwywf': 12383, 'osage': 12384, 'brunette': 12385, 'stretches': 12386, 'victorian': 12387, 'sofa': 12388, 'acrgdqhj': 12389, 'wocowae': 12390, 'oioecbshf': 12391, 'ush': 12392, 'capoeira': 12393, 'suny': 12394, 'ctr': 12395, 'goshen': 12396, 'dzgcovc': 12397, 'stormbeard': 12398, 'judas': 12399, 'priest': 12400, 'scorpions': 12401, 'astonishing': 12402, 'convection': 12403, 'spits': 12404, 'nlwx': 12405, 'yolozr': 12406, 'ndabndiv': 12407, 'paratroopers': 12408, 'fury': 12409, 'ugesklcnm': 12410, 'meteors': 12411, 'appleofficlal': 12412, 'migrating': 12413, 'iphoto': 12414, 'wasted': 12415, 'hrsto': 12416, 'hamayun': 12417, 'shaheed': 12418, 'heli': 12419, 'zubsym': 12420, 'uonebahhh': 12421, 'swayback': 12422, 'vnosgzj': 12423, 'calfir': 12424, 'uvavyrgv': 12425, 'aggressif': 12426, 'aggress': 12427, 'mainly': 12428, 'giorgio': 12429, 'hiatt': 12430, 'cw': 12431, 'jqnjgko': 12432, 'attended': 12433, 'romford': 12434, 'iyjejopwi': 12435, 'deepwater': 12436, 'distribution': 12437, 'settlement': 12438, 'dkpsrkgpc': 12439, 'christiec': 12440, 'onesie': 12441, 'recalled': 12442, 'pamznyyuw': 12443, 'popeyes': 12444, 'rq': 12445, 'xijhnvh': 12446, 'sikh': 12447, 'dviyer': 12448, 'colorlines': 12449, 'nlbltynv': 12450, 'bjrrqhhohl': 12451, 'haley': 12452, 'whaley': 12453, 'ofclans': 12454, 'profil': 12455, 'nsslcvr': 12456, 'lindasocvat': 12457, 'resting': 12458, 'vulcan': 12459, 'gaehrbhek': 12460, 'nick': 12461, 'lhdcpnzxa': 12462, 'littl': 12463, 'prgbbayl': 12464, 'mobil': 12465, 'jrowah': 12466, 'lxjjgyva': 12467, 'uxperxco': 12468, 'cabrillo': 12469, 'magellan': 12470, 'mir': 12471, 'chargers': 12472, 'lhtvkcoiso': 12473, 'pat': 12474, 'spen': 12475, 'ryjwxcki': 12476, 'zhejiang': 12477, 'picbkdjm': 12478, 'hilly': 12479, 'ris': 12480, 'togthe': 12481, 'gyhmrkjm': 12482, 'xbmmiteq': 12483, 'morels': 12484, 'ambleside': 12485, 'farmr': 12486, 'mart': 12487, 'mushroom': 12488, 'foragesecret': 12489, 'wvmijsa': 12490, 'reaad': 12491, 'plsss': 12492, 'induced': 12493, 'lookss': 12494, 'tkkfya': 12495, 'kodiak': 12496, 'aqcsusqbdy': 12497, 'moderate': 12498, 'spreading': 12499, 'macon': 12500, 'warnerrobins': 12501, 'milledgeville': 12502, 'gawx': 12503, 'phnezcw': 12504, 'mba': 12505, 'careen': 12506, 'eovm': 12507, 'epicff': 12508, 'vimeo': 12509, 'lkxiuxjaq': 12510, 'burglary': 12511, 'wftcrlzp': 12512, 'usagi': 12513, 'airhead': 12514, 'misstep': 12515, 'scheer': 12516, 'huebel': 12517, 'flsamldsn': 12518, 'dayton': 12519, 'lhkjzivo': 12520, 'proc': 12521, 'philippine': 12522, 'pdgsrfsc': 12523, 'changepilipina': 12524, 'wasting': 12525, 'edsheeran': 12526, 'beet': 12527, 'luigmhmai': 12528, 'hayden': 12529, 'poses': 12530, 'strips': 12531, 'thatrussianman': 12532, 'hazmat': 12533, 'qzixci': 12534, 'urwjir': 12535, 'gxwqy': 12536, 'sht': 12537, 'heavydirtysoul': 12538, 'lnidvobff': 12539, 'rightly': 12540, 'despicable': 12541, 'ocalan': 12542, 'marxism': 12543, 'gskmvlgk': 12544, 'exznmxbinj': 12545, 'epa': 12546, 'norkxbrsg': 12547, 'txoybrn': 12548, 'thenewshyp': 12549, 'stormtrooper': 12550, 'engaged': 12551, 'somme': 12552, 'yxvmiflvc': 12553, 'yzfqjsvpz': 12554, 'dannyraynard': 12555, 'aguero': 12556, 'striker': 12557, 'berahino': 12558, 'gbctmhxpw': 12559, 'reboot': 12560, 'dsxaie': 12561, 'rjg': 12562, 'sterotypical': 12563, 'annddd': 12564, 'colorism': 12565, 'prevalent': 12566, 'owenrbroadhurst': 12567, 'juanmthompson': 12568, 'hist': 12569, 'odwswawq': 12570, 'strain': 12571, 'legionna': 12572, 'rsvatjvh': 12573, 'serephina': 12574, 'kuetsnlht': 12575, 'smashing': 12576, 'pumpkins': 12577, 'pqsrshhb': 12578, 'cabins': 12579, 'reidlake': 12580, 'maca': 12581, 'nwt': 12582, 'yzf': 12583, 'bebwcmpl': 12584, 'mopheme': 12585, 'bigstar': 12586, 'vuzuhustl': 12587, 'swedish': 12588, 'kdthctemv': 12589, 'xzqbwnfo': 12590, 'slikrickdarula': 12591, 'davidcovucci': 12592, 'lolly': 12593, 'knickers': 12594, 'vaginaorcake': 12595, 'euusnpsq': 12596, 'gixgaynxz': 12597, 'psrfhx': 12598, 'license': 12599, 'cwgcciwv': 12600, 'dlizfkki': 12601, 'comuiokmp': 12602, 'ezralevant': 12603, 'modmxot': 12604, 'osscqir': 12605, 'commodity': 12606, 'hngtkdqmv': 12607, 'partnerships': 12608, 'afterhaiyan': 12609, 'gaegplw': 12610, 'yolandaph': 12611, 'livelihood': 12612, 'disasterrecovery': 12613, 'currensy': 12614, 'els': 12615, 'awwww': 12616, 'rewatchingthepilot': 12617, 'teamscorpion': 12618, 'cyclon': 12619, 'cmhqwwulz': 12620, 'kdwazhqtov': 12621, 'uhfnyabsw': 12622, 'xcqourvl': 12623, 'takeaways': 12624, 'magnificent': 12625, 'dbdwtocgxf': 12626, 'morganite': 12627, 'gemstone': 12628, 'opal': 12629, 'hhpvsatqxn': 12630, 'drxpshi': 12631, 'registered': 12632, 'zgrlreyv': 12633, 'bedding': 12634, 'sticker': 12635, 'decals': 12636, 'ykuauovjo': 12637, 'athens': 12638, 'scourge': 12639, 'whedonesque': 12640, 'fanged': 12641, 'qjhdculi': 12642, 'daretotaha': 12643, 'foreskin': 12644, 'aodftbmgu': 12645, 'idspdkruk': 12646, 'nepazwkna': 12647, 'doctorfluxx': 12648, 'stefanejones': 12649, 'spinnellii': 12650, 'themermacorn': 12651, 'embarrassing': 12652, 'kbrzzmfc': 12653, 'tafs': 12654, 'pchneg': 12655, 'zqrcptlrum': 12656, 'tnxquorwb': 12657, 'ninja': 12658, 'commence': 12659, 'goooooooo': 12660, 'fzewihmb': 12661, 'neizeknm': 12662, 'aimlessly': 12663, 'detersion': 12664, 'hlg': 12665, 'supremacist': 12666, 'anders': 12667, 'breivik': 12668, 'unsurprisingly': 12669, 'lxnjvltr': 12670, 'doricreates': 12671, 'alhanda': 12672, 'moonbeam': 12673, 'tokes': 12674, 'dinosaurdracula': 12675, 'irhhgvs': 12676, 'godof': 12677, 'loki': 12678, 'daggers': 12679, 'jammed': 12680, 'thigh': 12681, 'grabbed': 12682, 'sif': 12683, 'humanityi': 12684, 'apologized': 12685, 'nuclearweapons': 12686, 'twykznrlc': 12687, 'mane': 12688, 'johnni': 12689, 'tactical': 12690, 'headquarters': 12691, 'cqjjyjfz': 12692, 'wth': 12693, 'rotating': 12694, 'jdiist': 12695, 'remembers': 12696, 'schulz': 12697, 'gaelite': 12698, 'orchard': 12699, 'belligerent': 12700, 'unfold': 12701, 'episcopal': 12702, 'priests': 12703, 'interracial': 12704, 'harrowing': 12705, 'harassment': 12706, 'rgjishybs': 12707, 'pandemic': 12708, 'nbcvbsonm': 12709, 'preschool': 12710, 'nhmvervv': 12711, 'lyxzmthe': 12712, 'pbcrtmj': 12713, 'aphiabeta': 12714, 'ugliness': 12715, 'amesocialaction': 12716, 'frat': 12717, 'bioterrorismi': 12718, 'tolewant': 12719, 'glenstannard': 12720, 'essexweather': 12721, 'abouts': 12722, 'tkeoaedqkq': 12723, 'toyumxbo': 12724, 'phndcmm': 12725, 'bsbvwk': 12726, 'walkthrough': 12727, 'jonvoyag': 12728, 'finer': 12729, 'subatomic': 12730, 'spells': 12731, 'wcbrgnj': 12732, 'wkrn': 12733, 'tolled': 12734, 'nbzikcjphp': 12735, 'boylesports': 12736, 'casino': 12737, 'zildpvknxp': 12738, 'ydbspf': 12739, 'souda': 12740, 'sonia': 12741, 'kneelbot': 12742, 'wider': 12743, 'gqbzbjli': 12744, 'exyrcqpu': 12745, 'militarydotcom': 12746, 'bigbrother': 12747, 'migwcmtj': 12748, 'xjaqtowm': 12749, 'mrosiwc': 12750, 'slimebeast': 12751, 'ulrmyklnh': 12752, 'wgg': 12753, 'sumn': 12754, 'biolab': 12755, 'dumbfounded': 12756, 'rujvvpnbv': 12757, 'dampen': 12758, 'fdzzumywi': 12759, 'roisyxjlw': 12760, 'rqozjtt': 12761, 'tarzana': 12762, 'hkyfkugzw': 12763, 'skyrim': 12764, 'net': 12765, 'udomcri': 12766, 'omxwcz': 12767, 'asymbina': 12768, 'tithenai': 12769, 'hampered': 12770, 'liking': 12771, 'ella': 12772, 'vickers': 12773, 'washable': 12774, 'ysfyeahpvg': 12775, 'acaciapenn': 12776, 'shidddd': 12777, 'storen': 12778, 'curing': 12779, 'puppies': 12780, 'disrespect': 12781, 'pressing': 12782, 'shirts': 12783, 'docked': 12784, 'etgqfmg': 12785, 'materialism': 12786, 'sdxzhjcox': 12787, 'jariana': 12788, 'barrington': 12789, 'hoffman': 12790, 'estates': 12791, 'afte': 12792, 'bnphxorzg': 12793, 'snoop': 12794, 'collie': 12795, 'buddz': 12796, 'thehammers': 12797, 'tonycottee': 12798, 'alsowhat': 12799, 'bilic': 12800, 'slated': 12801, 'themhe': 12802, 'nipzmflibd': 12803, 'mcsekhxs': 12804, 'iifgazfil': 12805, 'floored': 12806, 'cups': 12807, 'lag': 12808, 'rstvzhq': 12809, 'overtime': 12810, 'kodak': 12811, 'kiykrsfi': 12812, 'showcas': 12813, 'daem': 12814, 'asf': 12815, 'umqbyrupbd': 12816, 'chieftain': 12817, 'tasks': 12818, 'dickson': 12819, 'donation': 12820, 'lqgoepsxp': 12821, 'heyitsepark': 12822, 'squeezed': 12823, 'blubb': 12824, 'breakth': 12825, 'mgyvglenk': 12826, 'cjkyayj': 12827, 'insid': 12828, 'testa': 12829, 'distinction': 12830, 'divers': 12831, 'htarvrg': 12832, 'exitlxgisj': 12833, 'temecula': 12834, 'zrrgbgh': 12835, 'foxdebatequestions': 12836, 'institute': 12837, 'sharia': 12838, 'efcbiczm': 12839, 'blakeshelton': 12840, 'jeez': 12841, 'kiddie': 12842, 'ploppi': 12843, 'ucbfgibfor': 12844, 'muhamadjab': 12845, 'catholicism': 12846, 'homophobia': 12847, 'seismicsoftware': 12848, 'sales': 12849, 'enablement': 12850, 'kwmrcekvtf': 12851, 'timestack': 12852, 'sunsets': 12853, 'mesmerizing': 12854, 'casxcdf': 12855, 'thereal': 12856, 'irjcrqu': 12857, 'comin': 12858, 'cables': 12859, 'shite': 12860, 'plez': 12861, 'truckload': 12862, 'panics': 12863, 'wjntaokdhf': 12864, 'receives': 12865, 'impacting': 12866, 'drvmisot': 12867, 'swsbuamn': 12868, 'wktma': 12869, 'wpgvayfkbq': 12870, 'honeybunzgem': 12871, 'primalkitchen': 12872, 'stages': 12873, 'hadnt': 12874, 'butgod': 12875, 'cultivating': 12876, 'oltqdjbqe': 12877, 'pjnet': 12878, 'mowptyqkp': 12879, 'reozhem': 12880, 'bonhomme': 12881, 'xgn': 12882, 'ronin': 12883, 'carbon': 12884, 'preset': 12885, 'nades': 12886, 'exofficio': 12887, 'acbryenuo': 12888, 'amateur': 12889, 'reprises': 12890, 'horrormovies': 12891, 'wcdoffcj': 12892, 'bftiapff': 12893, 'goof': 12894, 'guild': 12895, 'saunders': 12896, 'hkbxxvdiw': 12897, 'damidnighter': 12898, 'arent': 12899, 'vanished': 12900, 'march': 12901, 'scseestapreparando': 12902, 'mag': 12903, 'khuzdar': 12904, 'wednes': 12905, 'ilmccclv': 12906, 'volcanodiscov': 12907, 'devastates': 12908, 'fcujsioyqo': 12909, 'pcylzlpt': 12910, 'jpugipsf': 12911, 'soabax': 12912, 'jzcedayrg': 12913, 'poster': 12914, 'zjodgqhyp': 12915, 'converting': 12916, 'vzhtibejh': 12917, 'int': 12918, 'bridgeportspeed': 12919, 'dihtgqhej': 12920, 'wedneday': 12921, 'taykreidler': 12922, 'loveyouuuu': 12923, 'aintsheperty': 12924, 'wemwdtfw': 12925, 'sbnation': 12926, 'xyifdacxo': 12927, 'sjtvzggcxu': 12928, 'wjwyjbncat': 12929, 'erisqkt': 12930, 'bubble': 12931, 'twi': 12932, 'ryeqmxirj': 12933, 'manchesterlit': 12934, 'joshcorman': 12935, 'respondents': 12936, 'fading': 12937, 'consciousness': 12938, 'ytnnndz': 12939, 'poignant': 12940, 'mwmtbdrl': 12941, 'oldmjwph': 12942, 'cochrane': 12943, 'enacted': 12944, 'allen': 12945, 'enbot': 12946, 'mutek': 12947, 'montreal': 12948, 'vjbhxnxo': 12949, 'isea': 12950, 'greet': 12951, 'bask': 12952, 'warmth': 12953, 'bliss': 12954, 'mtr': 12955, 'tglkuusz': 12956, 'res': 12957, 'doppler': 12958, 'edmond': 12959, 'lrxsdsnhm': 12960, 'funkflex': 12961, 'flex': 12962, 'azxdlcxga': 12963, 'wished': 12964, 'spilt': 12965, 'mayonnaise': 12966, 'tire': 12967, 'phxlinve': 12968, 'fuxhnel': 12969, 'mash': 12970, 'torrential': 12971, 'infantry': 12972, 'lume': 12973, 'dial': 12974, 'analog': 12975, 'hepkxghb': 12976, 'ebvglmra': 12977, 'awtscucbbv': 12978, 'keampurley': 12979, 'cvkqigraz': 12980, 'ikmgidvbm': 12981, 'afyzusln': 12982, 'robertoneill': 12983, 'hardly': 12984, 'pkhujd': 12985, 'deconstruct': 12986, 'kerri': 12987, 'sackville': 12988, 'tm': 12989, 'afzqvotutj': 12990, 'boyhaus': 12991, 'montana': 12992, 'fidzx': 12993, 'defjxekgx': 12994, 'prophecy': 12995, 'combining': 12996, 'xfccvmxuwb': 12997, 'ffnzitkgn': 12998, 'ajabrown': 12999, 'wmnbitap': 13000, 'directory': 13001, 'inches': 13002, 'aliveafter': 13003, 'sctwjkxr': 13004, 'ynduotimr': 13005, 'fxfllrien': 13006, 'inlsrfk': 13007, 'qrypekfoe': 13008, 'standardized': 13009, 'idrlets': 13010, 'parentsacrossam': 13011, 'billg': 13012, 'amumumux': 13013, 'quit': 13014, 'actin': 13015, 'szuter': 13016, 'efbivle': 13017, 'yorqapwrk': 13018, 'ejrmerkd': 13019, 'implores': 13020, 'motorists': 13021, 'reserves': 13022, 'hikfmkjsn': 13023, 'hurn': 13024, 'tokteacher': 13025, 'skynet': 13026, 'umwigrz': 13027, 'warra': 13028, 'esevu': 13029, 'emznspwnk': 13030, 'uprooting': 13031, 'enrpgrgtt': 13032, 'utopian': 13033, 'gulags': 13034, 'hashd': 13035, 'shaabi': 13036, 'theft': 13037, 'agauabr': 13038, 'qnatubnwh': 13039, 'tpvnroov': 13040, 'pseylyzck': 13041, 'peel': 13042, 'male': 13043, 'southdown': 13044, 'windsor': 13045, 'unlicensed': 13046, 'wocakehyx': 13047, 'cggszugw': 13048, 'pimgbic': 13049, 'theori': 13050, 'troyslaby': 13051, 'spil': 13052, 'slopeofhope': 13053, 'dilute': 13054, 'keegan': 13055, 'admin': 13056, 'byjdfarv': 13057, 'skyler': 13058, 'zomatoaus': 13059, 'lovefood': 13060, 'lkqykrbg': 13061, 'cracker': 13062, 'ccdwxkm': 13063, 'slash': 13064, 'djchjfzp': 13065, 'coercion': 13066, 'weakness': 13067, 'ensuring': 13068, 'gnorijnsva': 13069, 'perceive': 13070, 'faintly': 13071, 'sputtering': 13072, 'vast': 13073, 'glacier': 13074, 'eternity': 13075, 'gyrsi': 13076, 'unrecognized': 13077, 'arab': 13078, 'ikmyit': 13079, 'ejghnafhi': 13080, 'kayla': 13081, 'peep': 13082, 'goats': 13083, 'ofecstcvc': 13084, 'boygbpjw': 13085, 'tita': 13086, 'tdeqwmzxn': 13087, 'jetixrestored': 13088, 'teamo': 13089, 'supremo': 13090, 'pogo': 13091, 'wblimlmtx': 13092, 'cbsbigbrother': 13093, 'ouch': 13094, 'clelli': 13095, 'zaszwxjj': 13096, 'jfb': 13097, 'tfb': 13098, 'alrasyiditurasya': 13099, 'izjtoojzkp': 13100, 'smantibatam': 13101, 'rohsmantibatam': 13102, 'typewriter': 13103, 'gunk': 13104, 'boomerangtime': 13105, 'rskarim': 13106, 'sopameer': 13107, 'wattashit': 13108, 'ridah': 13109, 'railed': 13110, 'deepthought': 13111, 'arobmxci': 13112, 'xyzoei': 13113, 'pollster': 13114, 'cara': 13115, 'chucker': 13116, 'tfbkqolx': 13117, 'vmas': 13118, 'fqqpfjvx': 13119, 'mccain': 13120, 'whoops': 13121, 'photographed': 13122, 'chilling': 13123, 'jnromsez': 13124, 'acmilan': 13125, 'wyuqscv': 13126, 'cochisecollege': 13127, 'ldxukngsk': 13128, 'uaoaogc': 13129, 'pmhmmkspaq': 13130, 'platinum': 13131, 'gknpylua': 13132, 'nicolekidman': 13133, 'oprah': 13134, 'grubbing': 13135, 'kikes': 13136, 'cluei': 13137, 'telekinesis': 13138, 'beside': 13139, 'targe': 13140, 'mdapxlwo': 13141, 'tribe': 13142, 'qglkplud': 13143, 'kacrlpjcl': 13144, 'yjjbntcazi': 13145, 'setzorah': 13146, 'bspjttc': 13147, 'msmiggi': 13148, 'vods': 13149, 'presentation': 13150, 'deadlydemi': 13151, 'staying': 13152, 'barrier': 13153, 'kealba': 13154, 'ymcwwdj': 13155, 'hook': 13156, 'elementary': 13157, 'lwlexxjus': 13158, 'emaaalay': 13159, 'yeda': 13160, 'yakub': 13161, 'mfkqyxdxg': 13162, 'elizabeth': 13163, 'superintendent': 13164, 'lanford': 13165, 'vplrhkau': 13166, 'sxhwtnnlf': 13167, 'pgbqbczu': 13168, 'rpbxdfnxk': 13169, 'afloat': 13170, 'pension': 13171, 'ceeuzwhvf': 13172, 'pummel': 13173, 'jkymedofc': 13174, 'astros': 13175, 'stunningly': 13176, 'bats': 13177, 'mia': 13178, 'inning': 13179, 'describes': 13180, 'surah': 13181, 'humaza': 13182, 'reflect': 13183, 'birb': 13184, 'horiikawa': 13185, 'bradford': 13186, 'weep': 13187, 'leeds': 13188, 'olnfzbzb': 13189, 'hungri': 13190, 'superman': 13191, 'slowpoke': 13192, 'poc': 13193, 'kurds': 13194, 'trampling': 13195, 'vandalized': 13196, 'diyala': 13197, 'izfdyccg': 13198, 'mistakes': 13199, 'shantaeskyy': 13200, 'musicvideo': 13201, 'uuzaumdobc': 13202, 'planners': 13203, 'singled': 13204, 'bokgpspbh': 13205, 'srujzljgl': 13206, 'brelgmnc': 13207, 'gainesville': 13208, 'yosemite': 13209, 'drumpf': 13210, 'rabbit': 13211, 'creek': 13212, 'indonesian': 13213, 'raung': 13214, 'mugkahl': 13215, 'southwest': 13216, 'omaha': 13217, 'utility': 13218, 'pole': 13219, 'dangkxl': 13220, 'helmet': 13221, 'silvery': 13222, 'floors': 13223, 'karnal': 13224, 'pbcanpcx': 13225, 'alwx': 13226, 'gtqmgsgcsb': 13227, 'mskndekh': 13228, 'subcommittee': 13229, 'oversight': 13230, 'htt': 13231, 'mqbyravkh': 13232, 'carb': 13233, 'consultative': 13234, 'subconscious': 13235, 'xkdrx': 13236, 'connect': 13237, 'tarmineta': 13238, 'dissuaded': 13239, 'geoffrickly': 13240, 'tee': 13241, 'lbmekyphm': 13242, 'tayiorrmade': 13243, 'megatronafc': 13244, 'ankles': 13245, 'boards': 13246, 'jzgxwrgfqg': 13247, 'tackettdc': 13248, 'ajtxuafoem': 13249, 'islamist': 13250, 'anjem': 13251, 'choudary': 13252, 'ubbenxwyk': 13253, 'patrickjbutler': 13254, 'damiengayle': 13255, 'closure': 13256, 'phhvmlfoo': 13257, 'brittanypetko': 13258, 'stare': 13259, 'furi': 13260, 'yxtzbtvmhm': 13261, 'jggqwbv': 13262, 'napviygkyk': 13263, 'zimmerman': 13264, 'rzimmermanjr': 13265, 'renewsit': 13266, 'sock': 13267, 'ybshleiep': 13268, 'diageo': 13269, 'stresses': 13270, 'revolt': 13271, 'gfsusulgq': 13272, 'millennium': 13273, 'plaza': 13274, 'layzbayh': 13275, 'etkdunn': 13276, 'lrelvrmw': 13277, 'wtafaepukz': 13278, 'hzhoavza': 13279, 'fife': 13280, 'hucxqnobf': 13281, 'tonymcguinness': 13282, 'creamfields': 13283, 'mainstag': 13284, 'thedailyshow': 13285, 'mahalo': 13286, 'nui': 13287, 'loa': 13288, 'jonvoyage': 13289, 'holomua': 13290, 'ohhmyjoshh': 13291, 'stevenrulles': 13292, 'certainty': 13293, 'occas': 13294, 'investing': 13295, 'strategies': 13296, 'securing': 13297, 'jzwrisxepf': 13298, 'nuduannz': 13299, 'supposedly': 13300, 'representing': 13301, 'cgi': 13302, 'rkzsqdghz': 13303, 'hara': 13304, 'kiri': 13305, 'uoaqkkr': 13306, 'packed': 13307, 'contemplation': 13308, 'bridal': 13309, 'wiwnpfxa': 13310, 'xysnxumt': 13311, 'nbcpolitics': 13312, 'barracks': 13313, 'bombers': 13314, 'yoenis': 13315, 'production': 13316, 'hikers': 13317, 'trailheads': 13318, 'ablzmgzv': 13319, 'foliage': 13320, 'ignited': 13321, 'hik': 13322, 'surges': 13323, 'irpssresrq': 13324, 'trillion': 13325, 'qhwekxuw': 13326, 'lorr': 13327, 'dzxzqw': 13328, 'moor': 13329, 'jimmozel': 13330, 'puck': 13331, 'njrjxqbjr': 13332, 'ashdod': 13333, 'emittin': 13334, 'swqlmydka': 13335, 'trinna': 13336, 'bulak': 13337, 'jaclynsonne': 13338, 'oliviaann': 13339, 'guessing': 13340, 'chikislizeth': 13341, 'remembrance': 13342, 'iieweqir': 13343, 'hvusqzyqo': 13344, 'apologise': 13345, 'sincerely': 13346, 'grudges': 13347, 'unfollow': 13348, 'baking': 13349, 'onnnn': 13350, 'tfuahfpp': 13351, 'hempoil': 13352, 'cannabis': 13353, 'rhedxmey': 13354, 'eydbmdx': 13355, 'glimpses': 13356, 'hyderabad': 13357, 'dctvujlhc': 13358, 'qoxjnqsau': 13359, 'guvtizyche': 13360, 'defensenews': 13361, 'comus': 13362, 'subsd': 13363, 'sywhxtk': 13364, 'navi': 13365, 'sxwjyrkl': 13366, 'aewglvqreh': 13367, 'detkenlang': 13368, 'kcrnmjkj': 13369, 'qpwotugui': 13370, 'checkout': 13371, 'nurgle': 13372, 'snuck': 13373, 'khrone': 13374, 'heqhnzf': 13375, 'rpvzbesuqj': 13376, 'junko': 13377, 'lspnycvolo': 13378, 'nhpkfbfqm': 13379, 'mirmanda': 13380, 'evaaasr': 13381, 'mineness': 13382, 'spymiqnecj': 13383, 'yahooschwab': 13384, 'leedsrouge': 13385, 'daisycuttertz': 13386, 'grogparty': 13387, 'burke': 13388, 'imam': 13389, 'bcjylerryx': 13390, 'bind': 13391, 'llf': 13392, 'oqequegf': 13393, 'grov': 13394, 'saltriverwildhorses': 13395, 'ikuayuseqt': 13396, 'bqbhuyfm': 13397, 'stemming': 13398, 'rosters': 13399, 'arizzo': 13400, 'jlester': 13401, 'xgnjgleeq': 13402, 'xkonkzzl': 13403, 'dxvtgibvo': 13404, 'almusafirah': 13405, 'innit': 13406, 'audreyp': 13407, 'teena': 13408, 'darryl': 13409, 'brooks': 13410, 'elitesportsny': 13411, 'lopezandthelion': 13412, 'natsnation': 13413, 'zlojdaju': 13414, 'oamsgajagahahah': 13415, 'laighign': 13416, 'etkbwrcrv': 13417, 'seeker': 13418, 'zsykzjbzg': 13419, 'fremont': 13420, 'alley': 13421, 'kezi': 13422, 'sahbhlxssh': 13423, 'mln': 13424, 'dxvzfdh': 13425, 'sthlrbun': 13426, 'jqxmgcqz': 13427, 'nhnew': 13428, 'bagged': 13429, 'lac': 13430, 'hxoxorq': 13431, 'uxppoqjlb': 13432, 'yytwhd': 13433, 'edison': 13434, 'lightbulb': 13435, 'wank': 13436, 'charminar': 13437, 'engineers': 13438, 'telangana': 13439, 'nljvpvfyz': 13440, 'fiya': 13441, 'netkicorp': 13442, 'guests': 13443, 'eltnevqn': 13444, 'prisoners': 13445, 'treblinka': 13446, 'rebelled': 13447, 'seizing': 13448, 'nmgpimeii': 13449, 'bhavana': 13450, 'connecticut': 13451, 'qwpuxpywbf': 13452, 'jlxzfkxi': 13453, 'fdsaooiskj': 13454, 'uvmqvafq': 13455, 'pnwcmkqu': 13456, 'growingupspoiled': 13457, 'clay': 13458, 'pigeon': 13459, 'wjumppb': 13460, 'ndgpwyxuh': 13461, 'attached': 13462, 'cheat': 13463, 'waterproof': 13464, 'weiqin': 13465, 'michel': 13466, 'lujo': 13467, 'jgsioujas': 13468, 'tzeyhfn': 13469, 'lmumzkltln': 13470, 'yebxxarybf': 13471, 'srruqfffr': 13472, 'cadzxagmsi': 13473, 'artectura': 13474, 'florence': 13475, 'leblvf': 13476, 'blevins': 13477, 'heyimbeeyt': 13478, 'disappointing': 13479, 'aubilenon': 13480, 'markkriegsman': 13481, 'pfmnvnam': 13482, 'vkwqbojfjc': 13483, 'bowery': 13484, 'mesgcngaz': 13485, 'dl': 13486, 'symantec': 13487, 'groceries': 13488, 'aching': 13489, 'straighten': 13490, 'swooping': 13491, 'scares': 13492, 'fing': 13493, 'uilpgiev': 13494, 'mpxtokww': 13495, 'mydakjf': 13496, 'spyro': 13497, 'texture': 13498, 'hacks': 13499, 'bliddngtf': 13500, 'hopeinchrist': 13501, 'lifelettercaf': 13502, 'repulsive': 13503, 'victimiser': 13504, 'evangelical': 13505, 'liar': 13506, 'dupe': 13507, 'overdrive': 13508, 'choppergate': 13509, 'bronwynbishop': 13510, 'blacken': 13511, 'parched': 13512, 'harris': 13513, 'tinder': 13514, 'ilwtyyup': 13515, 'mwzqcjhzpb': 13516, 'overrated': 13517, 'apano': 13518, 'deluded': 13519, 'gideonstrumpet': 13520, 'ueppjwvlcb': 13521, 'watersafety': 13522, 'rgj': 13523, 'kafwdrmtn': 13524, 'rolandonabeats': 13525, 'ellie': 13526, 'goulding': 13527, 'acesse': 13528, 'nosso': 13529, 'para': 13530, 'ouvir': 13531, 'zkugxmt': 13532, 'businessman': 13533, 'foiled': 13534, 'troupe': 13535, 'racial': 13536, 'breakdanc': 13537, 'horoscope': 13538, 'gkunpznhn': 13539, 'wxii': 13540, 'davidson': 13541, 'counti': 13542, 'looooooooooool': 13543, 'jrkgylt': 13544, 'qyczywkgg': 13545, 'phujntj': 13546, 'greenlacey': 13547, 'preseasonworkout': 13548, 'pkkcdwjyg': 13549, 'worldnetdaili': 13550, 'lucio': 13551, 'overwatch': 13552, 'fmiuhqabi': 13553, 'guiltygearxxacp': 13554, 'sklflzz': 13555, 'xhdzgpyw': 13556, 'ghsyhyav': 13557, 'rrghtewp': 13558, 'brucewillis': 13559, 'cxdjapzxmp': 13560, 'robpulsenews': 13561, 'huyovoetripolye': 13562, 'phillips': 13563, 'ldnr': 13564, 'xwnjysvv': 13565, 'wedn': 13566, 'bkpfpogysi': 13567, 'kotzvdh': 13568, 'irishtimesworld': 13569, 'styled': 13570, 'undergroundbestsellers': 13571, 'dilijhmur': 13572, 'hibernating': 13573, 'pbx': 13574, 'irrespective': 13575, 'careerism': 13576, 'crbzfz': 13577, 'mmvdspjp': 13578, 'lockdown': 13579, 'rumor': 13580, 'advertise': 13581, 'lizhphoto': 13582, 'outburst': 13583, 'aggression': 13584, 'sux': 13585, 'qrhngkjc': 13586, 'darkness': 13587, 'redeem': 13588, 'serene': 13589, 'particulate': 13590, 'voltaic': 13591, 'voc': 13592, 'petroleum': 13593, 'bacteria': 13594, 'decomposit': 13595, 'zkknmsen': 13596, 'fzhjfbxld': 13597, 'uninvestigated': 13598, 'incite': 13599, 'ezbtgtrz': 13600, 'hourfamine': 13601, 'worldvision': 13602, 'xqdvghzg': 13603, 'ovo': 13604, 'ziphimup': 13605, 'thingsihate': 13606, 'rvacchianonydn': 13607, 'qegmrhsms': 13608, 'pkfvlksld': 13609, 'travellers': 13610, 'qsheuyfw': 13611, 'lifeguard': 13612, 'paztdblgyk': 13613, 'imawvmzsa': 13614, 'carpet': 13615, 'fundraiser': 13616, 'oso': 13617, 'maraatql': 13618, 'cgwldn': 13619, 'wkpzpjcau': 13620, 'pumped': 13621, 'southridgelif': 13622, 'staged': 13623, 'locomotive': 13624, 'eixhthm': 13625, 'santiago': 13626, 'hollyw': 13627, 'cecvlhw': 13628, 'lolgop': 13629, 'fraud': 13630, 'amirite': 13631, 'vra': 13632, 'fekgybyf': 13633, 'ubdywd': 13634, 'nqxqyiw': 13635, 'etgprbpg': 13636, 'jamienye': 13637, 'coaching': 13638, 'defence': 13639, 'cursed': 13640, 'cowboys': 13641, 'woes': 13642, 'claiborne': 13643, 'giqbvli': 13644, 'alexandrian': 13645, 'librari': 13646, 'suckers': 13647, 'sins': 13648, 'isaiah': 13649, 'contemporary': 13650, 'vers': 13651, 'hmrtoydj': 13652, 'traitor': 13653, 'donjazzy': 13654, 'policeng': 13655, 'humanrights': 13656, 'xyflwyg': 13657, 'kennethbauer': 13658, 'noodles': 13659, 'overhead': 13660, 'oakridge': 13661, 'resolution': 13662, 'wccorosen': 13663, 'lloyds': 13664, 'insure': 13665, 'corycove': 13666, 'jagexhelpdibi': 13667, 'jag': 13668, 'wildhorses': 13669, 'whpjjc': 13670, 'ppjitcnml': 13671, 'yubkhfiyh': 13672, 'locksmithing': 13673, 'respecting': 13674, 'elaboration': 13675, 'locks': 13676, 'lpdkl': 13677, 'hypbetm': 13678, 'cnjplior': 13679, 'tbzmrx': 13680, 'pierce': 13681, 'veil': 13682, 'bracelet': 13683, 'wristband': 13684, 'qcwhdizy': 13685, 'inezzaesd': 13686, 'kamon': 13687, 'masterchef': 13688, 'mygc': 13689, 'suspend': 13690, 'ehhferz': 13691, 'hse': 13692, 'husheekxm': 13693, 'jnhnxoisn': 13694, 'zenit': 13695, 'hfvnyftc': 13696, 'alreadi': 13697, 'uymxocfs': 13698, 'orianna': 13699, 'adani': 13700, 'backed': 13701, 'sjeunnm': 13702, 'yahoonew': 13703, 'harveymaine': 13704, 'aaaa': 13705, 'lemme': 13706, 'roomr': 13707, 'hears': 13708, 'qmdsnbcmh': 13709, 'fujiwara': 13710, 'shunichiro': 13711, 'battery': 13712, 'muppet': 13713, 'lukebox': 13714, 'avvhpnpch': 13715, 'noise': 13716, 'qzlpfhpwdo': 13717, 'trkvxctw': 13718, 'dspwshjw': 13719, 'illegals': 13720, 'protected': 13721, 'punishment': 13722, 'convivted': 13723, 'foreign': 13724, 'rodkiai': 13725, 'vsoxkbtnq': 13726, 'nuxxnvs': 13727, 'xngrfnqsx': 13728, 'fedporn': 13729, 'absurd': 13730, 'satire': 13731, 'indistinguishable': 13732, 'selmoooooo': 13733, 'edvinnn': 13734, 'imtariik': 13735, 'dzafic': 13736, 'haris': 13737, 'selmo': 13738, 'witnessing': 13739, 'slaught': 13740, 'noahshack': 13741, 'perlno': 13742, 'ootd': 13743, 'doubleghats': 13744, 'jsuhupzvp': 13745, 'nvrffrbo': 13746, 'cvinch': 13747, 'waow': 13748, 'staci': 13749, 'vault': 13750, 'zarry': 13751, 'rhett': 13752, 'krefeld': 13753, 'ijetalert': 13754, 'cigs': 13755, 'breath': 13756, 'smells': 13757, 'ash': 13758, 'tray': 13759, 'disgust': 13760, 'westminister': 13761, 'knott': 13762, 'eumlcaedw': 13763, 'ctfdltm': 13764, 'beaumont': 13765, 'benews': 13766, 'pmehojvya': 13767, 'disclosed': 13768, 'zqihnhdwpv': 13769, 'osi': 13770, 'magner': 13771, 'discusses': 13772, 'psbxlhvu': 13773, 'environ': 13774, 'jymdypsj': 13775, 'pkmmcadg': 13776, 'rsdkwzrcg': 13777, 'icfcowb': 13778, 'jaagcfartw': 13779, 'hzlkffc': 13780, 'worldnetdaily': 13781, 'hunterston': 13782, 'process': 13783, 'smithereen': 13784, 'bpmfjhar': 13785, 'wolverine': 13786, 'scrambledeggs': 13787, 'kia': 13788, 'insides': 13789, 'customized': 13790, 'dcubecrafts': 13791, 'greetingcards': 13792, 'tqxpcb': 13793, 'whippenz': 13794, 'supthaec': 13795, 'takis': 13796, 'rubbing': 13797, 'programme': 13798, 'vjsaqpxngn': 13799, 'xwnrgvkzc': 13800, 'swpdqboi': 13801, 'advantages': 13802, 'apropos': 13803, 'favorable': 13804, 'regard': 13805, 'pwhvgwax': 13806, 'nissannews': 13807, 'hospitalized': 13808, 'bing': 13809, 'dwyjqvfi': 13810, 'noahj': 13811, 'xntojmmts': 13812, 'sticky': 13813, 'richarkkirkarch': 13814, 'ausinstarchitect': 13815, 'queenswharf': 13816, 'brisbane': 13817, 'jmkywhvmp': 13818, 'financialreview': 13819, 'exilbkzmp': 13820, 'ehomnojb': 13821, 'fcbxrthpg': 13822, 'biukowglz': 13823, 'hotboy': 13824, 'raabchar': 13825, 'drphil': 13826, 'morganlawgrp': 13827, 'inflict': 13828, 'consistent': 13829, 'dimens': 13830, 'khalidkkazi': 13831, 'mate': 13832, 'erally': 13833, 'unplug': 13834, 'myelf': 13835, 'yzdmouxqbo': 13836, 'pexfgawrg': 13837, 'ferrochrome': 13838, 'verge': 13839, 'rtfirzcpoc': 13840, 'hooligan': 13841, 'uknews': 13842, 'qmpqhi': 13843, 'ppfa': 13844, 'stor': 13845, 'movingk': 13846, 'expertwhin': 13847, 'redo': 13848, 'ayyy': 13849, 'thund': 13850, 'freeing': 13851, 'doc': 13852, 'newidea': 13853, 'maratha': 13854, 'scorched': 13855, 'bengalis': 13856, 'padded': 13857, 'qty': 13858, 'jbibeibg': 13859, 'pktaqwqg': 13860, 'tubestrik': 13861, 'weloveyoulouis': 13862, 'direct': 13863, 'legitimate': 13864, 'needing': 13865, 'argus': 13866, 'heidia': 13867, 'usqqqhqvj': 13868, 'dserialpcilp': 13869, 'pci': 13870, 'dual': 13871, 'lbsjjb': 13872, 'zdtzrbsw': 13873, 'saintrobinho': 13874, 'demonstrated': 13875, 'vanuatu': 13876, 'encouraged': 13877, 'afmkcfntl': 13878, 'qzxfklf': 13879, 'foxnewsvideo': 13880, 'aiiamericangiri': 13881, 'anhqdc': 13882, 'qjuuwcwpx': 13883, 'vaftdzez': 13884, 'drift': 13885, 'storming': 13886, 'bebacksoon': 13887, 'faction': 13888, 'ypbvsijya': 13889, 'dflvynqr': 13890, 'vcvbuacz': 13891, 'luzukokoti': 13892, 'umntu': 13893, 'wakho': 13894, 'adamantly': 13895, 'opposed': 13896, 'udxobyua': 13897, 'badastronomer': 13898, 'farther': 13899, 'gazette': 13900, 'jhcrtvf': 13901, 'lightningstrike': 13902, 'rjjxucxpm': 13903, 'ferry': 13904, 'qvsobg': 13905, 'iapvtqxlht': 13906, 'wamkreckd': 13907, 'waterboarding': 13908, 'dipping': 13909, 'sxgzxh': 13910, 'dlc': 13911, 'rahulkanwal': 13912, 'jammu': 13913, 'zdieodwbog': 13914, 'msoreo': 13915, 'vnylvdp': 13916, 'holly': 13917, 'usdmdxzvb': 13918, 'cools': 13919, 'durban': 13920, 'abnzqwlig': 13921, 'hhpvpaeln': 13922, 'memorable': 13923, 'debates': 13924, 'ronald': 13925, 'romp': 13926, 'xohtjqjwh': 13927, 'indians': 13928, 'smirking': 13929, 'remorseless': 13930, 'boasting': 13931, 'fpjlwoxklg': 13932, 'chowchilla': 13933, 'schoenfeld': 13934, 'glwoakppjq': 13935, 'wllflfndgg': 13936, 'pennies': 13937, 'suites': 13938, 'paobghvc': 13939, 'eqjcpwilvn': 13940, 'initiative': 13941, 'alliance': 13942, 'assad': 13943, 'regime': 13944, 'sturgis': 13945, 'kotaweather': 13946, 'epiyenqyl': 13947, 'nopow': 13948, 'xqvgzzmmn': 13949, 'sleepjunkies': 13950, 'pills': 13951, 'snmfict': 13952, 'sisters': 13953, 'uorxffnfx': 13954, 'countless': 13955, 'orchestrated': 13956, 'gbwldqqk': 13957, 'dveppehs': 13958, 'roddypiperautos': 13959, 'bavgewu': 13960, 'taxreturn': 13961, 'cleaning': 13962, 'cri': 13963, 'gxqwdqzbd': 13964, 'hollyorange': 13965, 'wbre': 13966, 'wyou': 13967, 'jhvigsxjg': 13968, 'colnharun': 13969, 'panik': 13970, 'kelbytomlinson': 13971, 'hujvgsflus': 13972, 'fleetwood': 13973, 'gilmanrocks': 13974, 'thread': 13975, 'sqpshawsw': 13976, 'udlebhuz': 13977, 'pioneer': 13978, 'paleface': 13979, 'raft': 13980, 'container': 13981, 'enkelbiljett': 13982, 'menolippu': 13983, 'ykvsttvdwo': 13984, 'ifqqpurx': 13985, 'bre': 13986, 'morrow': 13987, 'crocodile': 13988, 'gravy': 13989, 'kidscompany': 13990, 'bcpmvylsih': 13991, 'drbcrypjp': 13992, 'hfsiaxvq': 13993, 'yytkpzkg': 13994, 'ohmyloz': 13995, 'rondarousey': 13996, 'bhsuxvqnf': 13997, 'museawayfic': 13998, 'beenghosting': 13999, 'xylodemon': 14000, 'quarters': 14001, 'woods': 14002, 'disciplinary': 14003, 'measures': 14004, 'yllqjljiiq': 14005, 'buffett': 14006, 'sectors': 14007, 'jdqpflmkr': 14008, 'awesom': 14009, 'charred': 14010, 'rips': 14011, 'neighboring': 14012, 'jawstmr': 14013, 'emvohmmj': 14014, 'angela': 14015, 'sanders': 14016, 'roundhouse': 14017, 'perc': 14018, 'haxjgoac': 14019, 'sergiopiaggio': 14020, 'alves': 14021, 'fejsbusq': 14022, 'lisowski': 14023, 'whitewashes': 14024, 'masters': 14025, 'quals': 14026, 'mligpuhvoh': 14027, 'snooker': 14028, 'tcscdyy': 14029, 'newsmorn': 14030, 'cufgvupkzi': 14031, 'latino': 14032, 'lunaflyy': 14033, 'drain': 14034, 'mjrezoxlj': 14035, 'junsuisengen': 14036, 'changing': 14037, 'csaresu': 14038, 'sdmrzgeryx': 14039, 'oddball': 14040, 'observer': 14041, 'wxrgpcw': 14042, 'paqan': 14043, 'jeesss': 14044, 'medic': 14045, 'giglwdmhi': 14046, 'kylewappler': 14047, 'thisishavehope': 14048, 'pdnlspxw': 14049, 'hksbmijqz': 14050, 'ophiuchus': 14051, 'truelove': 14052, 'lith': 14053, 'seduction': 14054, 'astrology': 14055, 'rtrrt': 14056, 'lotz': 14057, 'pla': 14058, 'naked': 14059, 'radneck': 14060, 'blcbabma': 14061, 'ecnsufpa': 14062, 'legionnairesdisease': 14063, 'pneumonia': 14064, 'americanlegion': 14065, 'convention': 14066, 'reviving': 14067, 'leezy': 14068, 'grabbing': 14069, 'sweaty': 14070, 'grwdrkuf': 14071, 'meaning': 14072, 'dignity': 14073, 'siena': 14074, 'henderson': 14075, 'fdiujldj': 14076, 'blaaaaaaa': 14077, 'vibrate': 14078, 'resolutevan': 14079, 'lthmwtlfp': 14080, 'startelegram': 14081, 'kairfqql': 14082, 'jdbtlymehi': 14083, 'suspects': 14084, 'ajpbdcalew': 14085, 'bmqecpja': 14086, 'eminem': 14087, 'nate': 14088, 'dogg': 14089, 'lancasteronline': 14090, 'phwllkrfi': 14091, 'lancast': 14092, 'dacherryontop': 14093, 'ohh': 14094, 'planes': 14095, 'zpxefmyng': 14096, 'improvements': 14097, 'rqlpsayeb': 14098, 'connorfranta': 14099, 'askconnor': 14100, 'touchdown': 14101, 'nonucleariran': 14102, 'badirandeal': 14103, 'jebbush': 14104, 'zphpjtqud': 14105, 'dmuupqgwi': 14106, 'zdhwrnczc': 14107, 'blonde': 14108, 'courtney': 14109, 'laudner': 14110, 'teases': 14111, 'panties': 14112, 'punished': 14113, 'cqxjweqqu': 14114, 'zhpsowxri': 14115, 'reopened': 14116, 'knx': 14117, 'njpio': 14118, 'lolo': 14119, 'dmerida': 14120, 'nataly': 14121, 'steak': 14122, 'cheer': 14123, 'swam': 14124, 'bounced': 14125, 'suffice': 14126, 'johns': 14127, 'diblzo': 14128, 'hdjsrntj': 14129, 'kroschel': 14130, 'vail': 14131, 'agencies': 14132, 'swwylrkfv': 14133, 'sabcnewsroom': 14134, 'sabotage': 14135, 'cfc': 14136, 'creationmin': 14137, 'rwrabbit': 14138, 'gooneratheist': 14139, 'atheistic': 14140, 'lolatjesus': 14141, 'worldwide': 14142, 'wond': 14143, 'samihonkonen': 14144, 'kus': 14145, 'moferadio': 14146, 'heavybag': 14147, 'qotring': 14148, 'battlerapchris': 14149, 'spydycsc': 14150, 'tbotx': 14151, 'tsbtigdsdt': 14152, 'iknyokzzr': 14153, 'qckqcxhw': 14154, 'fizzy': 14155, 'seats': 14156, 'ljxceqwp': 14157, 'holidays': 14158, 'wordk': 14159, 'zmn': 14160, 'lara': 14161, 'likes': 14162, 'flesh': 14163, 'clawing': 14164, 'jnwkxx': 14165, 'coldmpress': 14166, 'commiting': 14167, 'kainyusanagi': 14168, 'grummz': 14169, 'pixelcanuck': 14170, 'balding': 14171, 'biker': 14172, 'emo': 14173, 'generic': 14174, 'ppsellsbabyparts': 14175, 'wzcrxoqz': 14176, 'bts': 14177, 'jimin': 14178, 'meg': 14179, 'xrbqjhn': 14180, 'playa': 14181, 'racaivffq': 14182, 'manual': 14183, 'kessily': 14184, 'mishacollins': 14185, 'allthekidneybeansandsorbetmisha': 14186, 'jennife': 14187, 'holes': 14188, 'avalanches': 14189, 'xrrlnhelap': 14190, 'restive': 14191, 'wpd': 14192, 'sophiewisey': 14193, 'cleav': 14194, 'expose': 14195, 'cleavage': 14196, 'kvlppxfg': 14197, 'xszicdwxq': 14198, 'mgn': 14199, 'fdjuyvzmrv': 14200, 'wizkidayo': 14201, 'cya': 14202, 'marshall': 14203, 'dambisa': 14204, 'moyo': 14205, 'prosyn': 14206, 'oped': 14207, 'lgzjkgg': 14208, 'mfswtysta': 14209, 'janeenorman': 14210, 'probability': 14211, 'deputy': 14212, 'cdohgnjmst': 14213, 'imullbvu': 14214, 'constitute': 14215, 'epidemic': 14216, 'jblrrnmdsm': 14217, 'publichealth': 14218, 'translated': 14219, 'dmrsyeiqz': 14220, 'dyoglhmre': 14221, 'hkmrtdzf': 14222, 'fftokdvt': 14223, 'blowjobs': 14224, 'cannibalism': 14225, 'masturbation': 14226, 'genocid': 14227, 'icymagistrate': 14228, 'icicle': 14229, 'projectiles': 14230, 'miniature': 14231, 'goooooooaaaaa': 14232, 'undone': 14233, 'adverse': 14234, 'gotriangle': 14235, 'sxdxuudci': 14236, 'uhhhhh': 14237, 'crusade': 14238, 'optpslgkc': 14239, 'noches': 14240, 'bestia': 14241, 'alexis': 14242, 'teammates': 14243, 'goodnight': 14244, 'gunners': 14245, 'ucjjhvgr': 14246, 'siirlnvz': 14247, 'murlo': 14248, 'android': 14249, 'tribez': 14250, 'pbclfsxrld': 14251, 'androidgames': 14252, 'gameinsight': 14253, 'grapes': 14254, 'focuses': 14255, 'wingers': 14256, 'prem': 14257, 'basically': 14258, 'kbstrxnhup': 14259, 'bnrdkgxavr': 14260, 'usama': 14261, 'ladins': 14262, 'naturally': 14263, 'counterstrike': 14264, 'zyxrw': 14265, 'bfowler': 14266, 'brctmnybji': 14267, 'ikuggvbyei': 14268, 'bsf': 14269, 'jawans': 14270, 'fidayeen': 14271, 'aks': 14272, 'lkeqwyuw': 14273, 'hhwveudfv': 14274, 'frail': 14275, 'hilversum': 14276, 'meters': 14277, 'surfac': 14278, 'monsters': 14279, 'pulling': 14280, 'thriving': 14281, 'hub': 14282, 'rosvxqelqj': 14283, 'qxer': 14284, 'ayhhhhhdjjfjrjjrdjjek': 14285, 'paugai': 14286, 'dwarfonjetpack': 14287, 'indoors': 14288, 'arfur': 14289, 'georgecol': 14290, 'evppapn': 14291, 'kplfaut': 14292, 'avoids': 14293, 'hlyhdfwsqb': 14294, 'gwsnbmmcqf': 14295, 'oegfqbiqiq': 14296, 'kaotix': 14297, 'craving': 14298, 'jaiden': 14299, 'pianohands': 14300, 'taxis': 14301, 'olnfbek': 14302, 'fvzsgjtbew': 14303, 'umdlkdi': 14304, 'follower': 14305, 'graph': 14306, 'ulxfdqn': 14307, 'posting': 14308, 'rebecca': 14309, 'roga': 14310, 'blkwcupzq': 14311, 'qfrawlnba': 14312, 'evahanderek': 14313, 'marleyknysh': 14314, 'ivpkqyag': 14315, 'tygavnuk': 14316, 'jose': 14317, 'willow': 14318, 'glen': 14319, 'trestle': 14320, 'battles': 14321, 'taxzkc': 14322, 'kgb': 14323, 'cossack': 14324, 'blardto': 14325, 'einsqstfq': 14326, 'hearths': 14327, 'oftddglb': 14328, 'kne': 14329, 'pwjjimrfly': 14330, 'nlccollide': 14331, 'wpxfyyri': 14332, 'latin': 14333, 'argentina': 14334, 'myymif': 14335, 'outbid': 14336, 'lbpxbucnv': 14337, 'catlow': 14338, 'swivels': 14339, 'stormchase': 14340, 'ef': 14341, 'sicroaanz': 14342, 'ioahisp': 14343, 'meditationbymsg': 14344, 'meditation': 14345, 'divine': 14346, 'blessing': 14347, 'vmflnxvzc': 14348, 'hazards': 14349, 'hashtags': 14350, 'perth': 14351, 'winner': 14352, 'iinet': 14353, 'nbn': 14354, 'buffering': 14355, 'ggperglvki': 14356, 'tanslash': 14357, 'brains': 14358, 'lgrocbxpqo': 14359, 'cyhi': 14360, 'cortezera': 14361, 'rescind': 14362, 'honor': 14363, 'urdriuac': 14364, 'nalathekoala': 14365, 'sequalae': 14366, 'suicides': 14367, 'homicid': 14368, 'cgmjlseylo': 14369, 'mikecroninwmur': 14370, 'iaplwvqsw': 14371, 'dffrntsgd': 14372, 'riceechrispies': 14373, 'chrisdanielshow': 14374, 'pee': 14375, 'francisco': 14376, 'tvlfrhmm': 14377, 'onvxnczw': 14378, 'tnggxnmk': 14379, 'hvymoz': 14380, 'ibeyiofficial': 14381, 'olnktinm': 14382, 'icfqliop': 14383, 'lakh': 14384, 'kckh': 14385, 'bae': 14386, 'backroom': 14387, 'thisiswhywecanthavenicethings': 14388, 'kgxnwziuxd': 14389, 'sweep': 14390, 'psiaupc': 14391, 'mailonlin': 14392, 'uqvadfbca': 14393, 'xela': 14394, 'struggle': 14395, 'dcfd': 14396, 'chrlyc': 14397, 'iaff': 14398, 'misdirection': 14399, 'ignite': 14400, 'vanishing': 14401, 'phantom': 14402, 'kurokobot': 14403, 'sanfrancisco': 14404, 'ojuhfkhvb': 14405, 'ftqmfhyb': 14406, 'cher': 14407, 'lloyd': 14408, 'foodborne': 14409, 'illness': 14410, 'frackfreelancs': 14411, 'deccgovuk': 14412, 'frackfree': 14413, 'tarleton': 14414, 'jsccxkja': 14415, 'txetcysmh': 14416, 'justinejayyy': 14417, 'ohgod': 14418, 'nathan': 14419, 'snowbal': 14420, 'teahivetweets': 14421, 'inund': 14422, 'lesotho': 14423, 'mattcohenfake': 14424, 'gamma': 14425, 'january': 14426, 'waits': 14427, 'fkvyhqlk': 14428, 'newsdict': 14429, 'vassalboro': 14430, 'gazebo': 14431, 'petel': 14432, 'mcguire': 14433, 'uuewccdtow': 14434, 'winik': 14435, 'efswpsxz': 14436, 'nbmaaaof': 14437, 'nia': 14438, 'quizzed': 14439, 'denies': 14440, 'ogzjokdsv': 14441, 'elections': 14442, 'achedin': 14443, 'indiahttp': 14444, 'informationng': 14445, 'hxigcenf': 14446, 'rdovqauax': 14447, 'autism': 14448, 'specialne': 14449, 'tezltqeyw': 14450, 'leelanau': 14451, 'grand': 14452, 'traverse': 14453, 'extended': 14454, 'oskfyjck': 14455, 'besaf': 14456, 'glosblue': 14457, 'racist': 14458, 'avigdorliberman': 14459, 'susiya': 14460, 'beheadings': 14461, 'liotxthh': 14462, 'subcontractor': 14463, 'cgg': 14464, 'cairo': 14465, 'udkesjml': 14466, 'libertygeek': 14467, 'kissing': 14468, 'lejonusq': 14469, 'mqmcolwbzc': 14470, 'slew': 14471, 'unfml': 14472, 'gamin': 14473, 'ight': 14474, 'wrqfuhh': 14475, 'salmanmydarling': 14476, 'dub': 14477, 'illogical': 14478, 'arkmcvcln': 14479, 'frequent': 14480, 'midtown': 14481, 'kqjevyqzlv': 14482, 'cn': 14483, 'hmwhobpr': 14484, 'satin': 14485, 'mbyflid': 14486, 'ddmtguzz': 14487, 'realhotcullen': 14488, 'lyrium': 14489, 'thirsty': 14490, 'dehydr': 14491, 'href': 14492, 'wnowfvcbms': 14493, 'jxwojxqndc': 14494, 'dvqjvxpo': 14495, 'treasures': 14496, 'drains': 14497, 'kahkmtrj': 14498, 'evttqpeia': 14499, 'teachers': 14500, 'zfivvxydzi': 14501, 'amdollela': 14502, 'kulli': 14503, 'goldrush': 14504, 'chonce': 14505, 'cryibg': 14506, 'pzotpdgaki': 14507, 'versions': 14508, 'rin': 14509, 'misha': 14510, 'emi': 14511, 'kenji': 14512, 'yuuko': 14513, 'nomiya': 14514, 'hisao': 14515, 'omgggg': 14516, 'vnugmgkt': 14517, 'closur': 14518, 'gears': 14519, 'preview': 14520, 'sdgzdxnt': 14521, 'iglnqpgbnw': 14522, 'aoesbvn': 14523, 'rushlimbaugh': 14524, 'clintons': 14525, 'meddl': 14526, 'catoinstitute': 14527, 'deeply': 14528, 'easily': 14529, 'solved': 14530, 'hxcaxjbu': 14531, 'tammy': 14532, 'elijahmallari': 14533, 'bigrigradio': 14534, 'awar': 14535, 'await': 14536, 'disembarkment': 14537, 'vessel': 14538, 'tconnellyr': 14539, 'aimcyh': 14540, 'hirochii': 14541, 'andbtizao': 14542, 'autismawar': 14543, 'eulogies': 14544, 'tormented': 14545, 'matias': 14546, 'xavi': 14547, 'cpnbbzkzg': 14548, 'orcas': 14549, 'complaining': 14550, 'emblem': 14551, 'gigant': 14552, 'difficulty': 14553, 'hannomottola': 14554, 'trpreston': 14555, 'mlrydalch': 14556, 'bjpsamvad': 14557, 'argent': 14558, 'amaz': 14559, 'joshsternberg': 14560, 'fantast': 14561, 'mold': 14562, 'proudgreenhome': 14563, 'kavaovjzv': 14564, 'zfyqsawvrk': 14565, 'toiindianews': 14566, 'ofcourse': 14567, 'caued': 14568, 'washing': 14569, 'molecularly': 14570, 'lungcancer': 14571, 'twipymus': 14572, 'qtjmdpi': 14573, 'effected': 14574, 'cali': 14575, 'leandotorg': 14576, 'lean': 14577, 'quicker': 14578, 'suzbkywtt': 14579, 'ciwxabva': 14580, 'ojqkfgub': 14581, 'sexuality': 14582, 'diagnosis': 14583, 'digitalhealth': 14584, 'hcsm': 14585, 'jkcdiqvxc': 14586, 'mystical': 14587, 'gcdxydbsc': 14588, 'mlk': 14589, 'praiz': 14590, 'oxvtlpmf': 14591, 'irkcbkd': 14592, 'savior': 14593, 'uzwxjbgzh': 14594, 'therealrittz': 14595, 'kansas': 14596, 'hyatt': 14597, 'aia': 14598, 'cote': 14599, 'thsiqswp': 14600, 'huffpostart': 14601, 'quiet': 14602, 'phandom': 14603, 'tyler': 14604, 'tyewzfhqa': 14605, 'fee': 14606, 'rotary': 14607, 'uvopwz': 14608, 'stretched': 14609, 'igzvge': 14610, 'mdnfxyg': 14611, 'dunmvjitl': 14612, 'rgdrjvhf': 14613, 'ssrgrmqcz': 14614, 'frisbvk': 14615, 'imsushickoflove': 14616, 'alekalicante': 14617, 'gauz': 14618, 'zctcchoj': 14619, 'colo': 14620, 'lzkely': 14621, 'olrules': 14622, 'chapter': 14623, 'encounters': 14624, 'qxarfag': 14625, 'gthddzavhg': 14626, 'losangelestimes': 14627, 'wspuxorewb': 14628, 'forestservice': 14629, 'dhsscitech': 14630, 'kybqcsvrza': 14631, 'ihkymsmp': 14632, 'lage': 14633, 'grantgordy': 14634, 'rossmartin': 14635, 'ibrahimmisau': 14636, 'zcjearci': 14637, 'havxobcsvu': 14638, 'slightest': 14639, 'stirring': 14640, 'morty': 14641, 'uqkxvbium': 14642, 'theghostparty': 14643, 'vin': 14644, 'yygb': 14645, 'prepares': 14646, 'strongest': 14647, 'hideous': 14648, 'uglypeopl': 14649, 'halloikbenwil': 14650, 'gamotgisw': 14651, 'allowing': 14652, 'freediscountbks': 14653, 'axvqldtehc': 14654, 'amreading': 14655, 'iysxwpvmk': 14656, 'sessions': 14657, 'klitschko': 14658, 'jszzqstx': 14659, 'xsxoo': 14660, 'liam': 14661, 'payne': 14662, 'addtexastonextdtour': 14663, 'kasiakosek': 14664, 'desk': 14665, 'misfortunebut': 14666, 'fighterdena': 14667, 'vol': 14668, 'deejayempiresound': 14669, 'rqiuqxnmx': 14670, 'rightways': 14671, 'inspections': 14672, 'vzirhnmm': 14673, 'rightwaystan': 14674, 'shekhargupta': 14675, 'mihirssharma': 14676, 'trp': 14677, 'mockeri': 14678, 'ibazrhlsur': 14679, 'bwwqnyqi': 14680, 'ugzuiqprw': 14681, 'nwsbayarea': 14682, 'jmcwrites': 14683, 'pitchwars': 14684, 'realism': 14685, 'xrltnoh': 14686, 'thankkk': 14687, 'notificationsu': 14688, 'fella': 14689, 'parsholics': 14690, 'superb': 14691, 'jus': 14692, 'awesomelove': 14693, 'frvrgr': 14694, 'submitt': 14695, 'nbugsmqlrg': 14696, 'aviationaddict': 14697, 'ddnt': 14698, 'reign': 14699, 'coco': 14700, 'ostentatious': 14701, 'wok': 14702, 'lzobqohb': 14703, 'tsvaisw': 14704, 'acebabes': 14705, 'healthweekly': 14706, 'amateurnest': 14707, 'vibrates': 14708, 'handl': 14709, 'vjaljasx': 14710, 'mechanical': 14711, 'oyvxbztv': 14712, 'nkmxuverg': 14713, 'tangled': 14714, 'bans': 14715, 'bzxxzaw': 14716, 'dmoneydemi': 14717, 'forsure': 14718, 'dtb': 14719, 'watchout': 14720, 'appoints': 14721, 'brig': 14722, 'gen': 14723, 'kaiser': 14724, 'mississippi': 14725, 'commission': 14726, 'mrc': 14727, 'vdukcvyji': 14728, 'prablematicla': 14729, 'adweek': 14730, 'ptevymt': 14731, 'ashberxo': 14732, 'traces': 14733, 'organ': 14734, 'harvesting': 14735, 'izkbohri': 14736, 'tremont': 14737, 'fpkiqbusr': 14738, 'vdgfxyxbw': 14739, 'wcaqxedf': 14740, 'odai': 14741, 'bucharest': 14742, 'romania': 14743, 'pjigxpvpl': 14744, 'fuso': 14745, 'yamashiro': 14746, 'cachet': 14747, 'aqzliml': 14748, 'fvrjdqa': 14749, 'deployments': 14750, 'nzflxigvr': 14751, 'pea': 14752, 'scwx': 14753, 'tsaletftkt': 14754, 'kotowsa': 14755, 'sudan': 14756, 'mexwohdtg': 14757, 'gbfidw': 14758, 'paying': 14759, 'influencers': 14760, 'socialtimes': 14761, 'ptcxcragi': 14762, 'bod': 14763, 'portgassdk': 14764, 'bolasie': 14765, 'ctneptl': 14766, 'milwaukee': 14767, 'indyfest': 14768, 'tfanqqys': 14769, 'rakwwritpo': 14770, 'alexeivolkov': 14771, 'mcfaul': 14772, 'roskomnadzor': 14773, 'ridiculously': 14774, 'politicized': 14775, 'zdjhyfro': 14776, 'reflections': 14777, 'forms': 14778, 'delusion': 14779, 'seeking': 14780, 'pity': 14781, 'dxfqoukt': 14782, 'rude': 14783, 'pusssssssssy': 14784, 'shoook': 14785, 'organicallyrude': 14786, 'mattingly': 14787, 'bundy': 14788, 'mcgwire': 14789, 'breaks': 14790, 'mistr': 14791, 'maddie': 14792, 'tae': 14793, 'oktxduo': 14794, 'ixvmw': 14795, 'bbshelli': 14796, 'rkuidmaq': 14797, 'risky': 14798, 'slain': 14799, 'mexican': 14800, 'unknowingly': 14801, 'qxhowcvr': 14802, 'breitbartnew': 14803, 'kncmjci': 14804, 'swviazsphk': 14805, 'rosewell': 14806, 'elugblpb': 14807, 'upi': 14808, 'irannucleard': 14809, 'pone': 14810, 'cantar': 14811, 'lightn': 14812, 'flgovscott': 14813, 'males': 14814, 'gvwnhb': 14815, 'everton': 14816, 'wonderkid': 14817, 'nbemnc': 14818, 'obfdeqcp': 14819, 'yazjeowvk': 14820, 'eighty': 14821, 'speutk': 14822, 'inmates': 14823, 'remand': 14824, 'osmiuxkhw': 14825, 'zodiac': 14826, 'trey': 14827, 'dupree': 14828, 'sparkz': 14829, 'beatz': 14830, 'chuck': 14831, 'hdkdjlw': 14832, 'collaborating': 14833, 'ktlrfmy': 14834, 'ipthonoti': 14835, 'grandmother': 14836, 'ndcyqri': 14837, 'hua': 14838, 'kmtwangf': 14839, 'striked': 14840, 'otm': 14841, 'justifying': 14842, 'quarrel': 14843, 'zijktkyk': 14844, 'ought': 14845, 'cxhizprad': 14846, 'pwmkxad': 14847, 'nykaed': 14848, 'mkjoxdko': 14849, 'boulder': 14850, 'stearns': 14851, 'cadmlnko': 14852, 'ucyfeayu': 14853, 'dnwwoybrk': 14854, 'inroices': 14855, 'avenged': 14856, 'sevenfold': 14857, 'qbdryxsglc': 14858, 'vzodqfflv': 14859, 'fuckboy': 14860, 'pseudojuuzo': 14861, 'calknvvc': 14862, 'ywvqkgbbi': 14863, 'sffcomp': 14864, 'uisnqiuif': 14865, 'crimsonfuckingv': 14866, 'bitchlvecannon': 14867, 'admit': 14868, 'seras': 14869, 'sasha': 14870, 'peice': 14871, 'sidewalk': 14872, 'frightening': 14873, 'bdotqdsln': 14874, 'wqow': 14875, 'hjsfddfi': 14876, 'raychielovesu': 14877, 'lemonade': 14878, 'semi': 14879, 'kkcnppzmk': 14880, 'msuyqtpk': 14881, 'vzxoswj': 14882, 'mhpnoakb': 14883, 'swiftycommissh': 14884, 'taoistinsight': 14885, 'immortaltech': 14886, 'tht': 14887, 'killin': 14888, 'benson': 14889, 'clegg': 14890, 'damascus': 14891, 'grinds': 14892, 'alloosh': 14893, 'manure': 14894, 'pile': 14895, 'rakhpbwm': 14896, 'riooooos': 14897, 'beast': 14898, 'pyseb': 14899, 'jerseys': 14900, 'nruzhrxqu': 14901, 'dialtat': 14902, 'hdvmhsqxhm': 14903, 'hired': 14904, 'incompet': 14905, 'ell': 14906, 'rubybot': 14907, 'qltwhojqya': 14908, 'mistresspip': 14909, 'amazed': 14910, 'mistress': 14911, 'drayesha': 14912, 'indiakomuntorjawabdo': 14913, 'wjljqyag': 14914, 'waimea': 14915, 'czdwoowa': 14916, 'atchisonsean': 14917, 'homukami': 14918, 'srs': 14919, 'views': 14920, 'wpwpsfx': 14921, 'mesick': 14922, 'agtopyzk': 14923, 'bricks': 14924, 'crazyideascollege': 14925, 'dhsbuuk': 14926, 'dysfunctional': 14927, 'mcconnell': 14928, 'judicial': 14929, 'nominations': 14930, 'vtakymgk': 14931, 'ballew': 14932, 'statements': 14933, 'sliding': 14934, 'writers': 14935, 'nester': 14936, 'sonoranrattler': 14937, 'writingtips': 14938, 'slttorrlh': 14939, 'kzbsohtwb': 14940, 'phelimkine': 14941, 'gokjeb': 14942, 'krwzyahm': 14943, 'vai': 14944, 'vir': 14945, 'pra': 14946, 'grandad': 14947, 'retiredfilth': 14948, 'tianta': 14949, 'uziwgzryny': 14950, 'slingnew': 14951, 'spookyfob': 14952, 'feelslikefob': 14953, 'kindness': 14954, 'stump': 14955, 'foothill': 14956, 'ctijdpxabk': 14957, 'mv': 14958, 'strutting': 14959, 'angelriveralib': 14960, 'jaawuiovdc': 14961, 'wrbxdwy': 14962, 'croydon': 14963, 'crowds': 14964, 'reeves': 14965, 'croydonization': 14966, 'damnnnn': 14967, 'gmcr': 14968, 'accord': 14969, 'blasting': 14970, 'benediction': 14971, 'sanelesstheory': 14972, 'sigeeqcz': 14973, 'wbogsejsj': 14974, 'springs': 14975, 'elk': 14976, 'monday': 14977, 'jfvuqa': 14978, 'saddle': 14979, 'accountable': 14980, 'preferable': 14981, 'brass': 14982, 'tawfmcaw': 14983, 'oz': 14984, 'jar': 14985, 'ameribag': 14986, 'healthy': 14987, 'backpack': 14988, 'khaki': 14989, 'tan': 14990, 'beige': 14991, 'rktylofj': 14992, 'ahhtheenikki': 14993, 'dwwpdet': 14994, 'damsels': 14995, 'distress': 14996, 'peers': 14997, 'xrcavd': 14998, 'xysdnxz': 14999, 'mnpcerno': 15000, 'geuhcsz': 15001, 'vwslgfp': 15002, 'homasttopa': 15003, 'nowwwwww': 15004, 'ikpeazu': 15005, 'apga': 15006, 'akzzoec': 15007, 'dart': 15008, 'participating': 15009, 'intensive': 15010, 'technical': 15011, 'tlaod': 15012, 'hunted': 15013, 'competitive': 15014, 'sszlyv': 15015, 'choppas': 15016, 'pydisney': 15017, 'bieb': 15018, 'jwfiiljwr': 15019, 'liveleakfun': 15020, 'ionwarvrfi': 15021, 'gains': 15022, 'silentsiris': 15023, 'norse': 15024, 'landscapes': 15025, 'snotgreen': 15026, 'wasteland': 15027, 'jota': 15028, 'ess': 15029, 'peeked': 15030, 'immune': 15031, 'deafening': 15032, 'ourselv': 15033, 'ehltyyfak': 15034, 'pmxezuoay': 15035, 'lickin': 15036, 'donuts': 15037, 'ahahahga': 15038, 'esn': 15039, 'cilla': 15040, 'stroke': 15041, 'fadiiyk': 15042, 'jrxgolnpqw': 15043, 'linkvzbn': 15044, 'sometimesi': 15045, 'anxietyproblem': 15046, 'kp': 15047, 'destination': 15048, 'roadid': 15049, 'hikdcfmf': 15050, 'filmed': 15051, 'aogchjmvs': 15052, 'clnsxzyz': 15053, 'voortrekker': 15054, 'tambo': 15055, 'intl': 15056, 'kscqkfkkf': 15057, 'skqoucmr': 15058, 'licensed': 15059, 'agent': 15060, 'produc': 15061, 'vmjrtuvmh': 15062, 'denv': 15063, 'tanehisicoates': 15064, 'laced': 15065, 'monologue': 15066, 'charlize': 15067, 'coulda': 15068, 'urogyn': 15069, 'mesh': 15070, 'offenders': 15071, 'npoqlkqup': 15072, 'meshnewsdesk': 15073, 'fairfax': 15074, 'jaxhzjccd': 15075, 'lightman': 15076, 'wsvawof': 15077, 'kedjxanmm': 15078, 'annonymous': 15079, 'revel': 15080, 'farewell': 15081, 'gtxrwm': 15082, 'wate': 15083, 'qqsmshajn': 15084, 'gail': 15085, 'russell': 15086, 'dalroy': 15087, 'vfkedgrso': 15088, 'sdlowwnu': 15089, 'hkavtvx': 15090, 'cxbhjn': 15091, 'rascal': 15092, 'flatts': 15093, 'htyysgr': 15094, 'klavierstuk': 15095, 'lvg': 15096, 'spurs': 15097, 'smaller': 15098, 'lcb': 15099, 'cl': 15100, 'ioabsli': 15101, 'thatsabinegirl': 15102, 'dose': 15103, 'falmer': 15104, 'tvvlgfni': 15105, 'dunking': 15106, 'ufn': 15107, 'mcfadden': 15108, 'hamstring': 15109, 'teamstream': 15110, 'jwqkvjhj': 15111, 'kou': 15112, 'massgrave': 15113, 'mutldif': 15114, 'dzlpnpx': 15115, 'fiery': 15116, 'disdain': 15117, 'nekmrpohu': 15118, 'lamsdzkcuz': 15119, 'shield': 15120, 'qwoqamh': 15121, 'esrkmazeq': 15122, 'rnqebaycvm': 15123, 'xwoevmkaa': 15124, 'deadpool': 15125, 'wears': 15126, 'fyroxsl': 15127, 'isai': 15128, 'psm': 15129, 'scattered': 15130, 'mugged': 15131, 'keetytz': 15132, 'semasirtalk': 15133, 'bankstown': 15134, 'stacey': 15135, 'wattle': 15136, 'sydtraffic': 15137, 'trafficnetwork': 15138, 'chojo': 15139, 'pumpkin': 15140, 'straightfir': 15141, 'butterlondon': 15142, 'crayons': 15143, 'rams': 15144, 'bbloggers': 15145, 'dsbldfuxu': 15146, 'telnet': 15147, 'streamyx': 15148, 'kyxfxmxa': 15149, 'qkzspxn': 15150, 'thedayct': 15151, 'dismissed': 15152, 'raped': 15153, 'occupational': 15154, 'isi': 15155, 'negotiating': 15156, 'vsoxiooy': 15157, 'fcekihti': 15158, 'marksmaponyane': 15159, 'sundowns': 15160, 'improv': 15161, 'hkgxzjlmx': 15162, 'rhxmghspd': 15163, 'firefigthers': 15164, 'northampton': 15165, 'hppldjhtz': 15166, 'malistkiss': 15167, 'sunnis': 15168, 'righteous': 15169, 'shias': 15170, 'defeats': 15171, 'ideals': 15172, 'leitchfield': 15173, 'bella': 15174, 'edward': 15175, 'rosalie': 15176, 'adoption': 15177, 'sponsorships': 15178, 'ajaysnplg': 15179, 'dodge': 15180, 'bodied': 15181, 'libby': 15182, 'mcejzzxgh': 15183, 'beauscoven': 15184, 'debbie': 15185, 'mvsrjdxd': 15186, 'robertharding': 15187, 'repjohnkatko': 15188, 'netanyahu': 15189, 'flush': 15190, 'mycareer': 15191, 'tyrone': 15192, 'mrbikd': 15193, 'vuln': 15194, 'oxxrnabun': 15195, 'yhyyou': 15196, 'khq': 15197, 'anlhwizkz': 15198, 'innovative': 15199, 'znevglufm': 15200, 'sincer': 15201, 'tftbbxaz': 15202, 'iraqi': 15203, 'seekers': 15204, 'ndetention': 15205, 'unscreened': 15206, 'bkrgga': 15207, 'dcclotheslin': 15208, 'qivrzojzv': 15209, 'rjkrraj': 15210, 'karnakarank': 15211, 'vimvith': 15212, 'wud': 15213, 'thalapathi': 15214, 'glaucoma': 15215, 'fluid': 15216, 'builds': 15217, 'optic': 15218, 'nerve': 15219, 'eyefact': 15220, 'lolla': 15221, 'yrfzwjr': 15222, 'mueller': 15223, 'complaints': 15224, 'nov': 15225, 'pedhcsni': 15226, 'sholt': 15227, 'mtgrotto': 15228, 'ecoc': 15229, 'carlsbadbugkil': 15230, 'lowered': 15231, 'zgyddywa': 15232, 'yhquuvok': 15233, 'species': 15234, 'kanger': 15235, 'coils': 15236, 'vaping': 15237, 'cykrxaluh': 15238, 'endorsement': 15239, 'expens': 15240, 'adamtuss': 15241, 'climbing': 15242, 'vern': 15243, 'sq': 15244, 'fools': 15245, 'tsipras': 15246, 'wallybaiter': 15247, 'gbrnulpfh': 15248, 'practitioner': 15249, 'recruitment': 15250, 'counselors': 15251, 'wasilla': 15252, 'lkzcnynxx': 15253, 'carlilescanoelivery': 15254, 'lovemyjob': 15255, 'zorsqura': 15256, 'fcixkxqh': 15257, 'languages': 15258, 'rdfaakkbnj': 15259, 'qxhhcwd': 15260, 'loathing': 15261, 'welles': 15262, 'antichrist': 15263, 'desecrates': 15264, 'jerusalem': 15265, 'gettin': 15266, 'dalztonc': 15267, 'gns': 15268, 'ryzmzsgdw': 15269, 'gassymexican': 15270, 'lpgfqnpjd': 15271, 'realities': 15272, 'glitch': 15273, 'tvyqczgjdi': 15274, 'unsure': 15275, 'paging': 15276, 'uxqkieqdyf': 15277, 'dogger': 15278, 'westward': 15279, 'regent': 15280, 'towing': 15281, 'metre': 15282, 'hobby': 15283, 'lobby': 15284, 'ama': 15285, 'qcbcxoko': 15286, 'foxa': 15287, 'cmcsa': 15288, 'sni': 15289, 'amcx': 15290, 'viab': 15291, 'twx': 15292, 'aqinavlb': 15293, 'rvfriedmann': 15294, 'lodisilverado': 15295, 'ritzy': 15296, 'jewel': 15297, 'nffc': 15298, 'wesley': 15299, 'verhoek': 15300, 'household': 15301, 'tpan': 15302, 'maroute': 15303, 'imeshika': 15304, 'hapa': 15305, 'mats': 15306, 'aar': 15307, 'bonnieg': 15308, 'piga': 15309, 'kijan': 15310, 'leaking': 15311, 'sewage': 15312, 'vscpgmsjxi': 15313, 'beck': 15314, 'arnley': 15315, 'odmxwdhm': 15316, 'gaheujruju': 15317, 'perished': 15318, 'holodomor': 15319, 'erected': 15320, 'djlwznieh': 15321, 'imxxkzhbl': 15322, 'michaelgbaron': 15323, 'lefties': 15324, 'hashtagteaclub': 15325, 'pars': 15326, 'defender': 15327, 'tod': 15328, 'ensu': 15329, 'flickershowell': 15330, 'reince': 15331, 'presssec': 15332, 'draw': 15333, 'consistently': 15334, 'rcqcd': 15335, 'tegajmril': 15336, 'slating': 15337, 'gpaulista': 15338, 'jackwilshere': 15339, 'disgrace': 15340, 'xlfiovhfj': 15341, 'raqzpdvk': 15342, 'bugs': 15343, 'jungle': 15344, 'qpqrson': 15345, 'uyugfgkh': 15346, 'gaotrgmtr': 15347, 'heared': 15348, 'dislike': 15349, 'femnism': 15350, 'rpvtsduma': 15351, 'xozbpbjb': 15352, 'lithium': 15353, 'ageakvnx': 15354, 'prairie': 15355, 'zzudilrea': 15356, 'misty': 15357, 'emmy': 15358, 'fin': 15359, 'amymwwcpym': 15360, 'tqruqdlg': 15361, 'billmccabe': 15362, 'benji': 15363, 'devos': 15364, 'tomcatarts': 15365, 'cel': 15366, 'bbsnews': 15367, 'hebron': 15368, 'gnefwxh': 15369, 'epcotexplorer': 15370, 'ransacked': 15371, 'awesomeeeeeee': 15372, 'gadget': 15373, 'jtxjiygrl': 15374, 'ibxcragtt': 15375, 'trophy': 15376, 'neqweuj': 15377, 'badchoices': 15378, 'bantrophyhunt': 15379, 'mariankeyes': 15380, 'hvmmdebdx': 15381, 'jggmkiney': 15382, 'forbesasia': 15383, 'wk': 15384, 'rainier': 15385, 'seward': 15386, 'seattledot': 15387, 'seattletim': 15388, 'deans': 15389, 'itzzkwfhg': 15390, 'mazing': 15391, 'ficdqbqwl': 15392, 'awmbnr': 15393, 'spike': 15394, 'ckec': 15395, 'uubovygqi': 15396, 'ani': 15397, 'lwwojxttiv': 15398, 'remainontop': 15399, 'gostei': 15400, 'um': 15401, 'deo': 15402, 'christinartnd': 15403, 'bwekjcept': 15404, 'postcards': 15405, 'polaroids': 15406, 'indexing': 15407, 'remedial': 15408, 'angioplasty': 15409, 'dissertation': 15410, 'dismayed': 15411, 'vgvjgrzoo': 15412, 'impulsive': 15413, 'redesign': 15414, 'mistrustful': 15415, 'friendship': 15416, 'vaunpswja': 15417, 'onegreenplanet': 15418, 'mjstefggu': 15419, 'congestion': 15420, 'plotted': 15421, 'bneryvz': 15422, 'snapping': 15423, 'stlkhfb': 15424, 'miracle': 15425, 'mankind': 15426, 'karinagarciaxo': 15427, 'bud': 15428, 'koreans': 15429, 'apksnplxzj': 15430, 'bartlett': 15431, 'astroturfers': 15432, 'crumbl': 15433, 'noahcrothman': 15434, 'bore': 15435, 'minutiae': 15436, 'champagne': 15437, 'qrepylluk': 15438, 'rvczmimfvx': 15439, 'dye': 15440, 'dy': 15441, 'osuoivnigo': 15442, 'wmutcdgb': 15443, 'aesop': 15444, 'err': 15445, 'qchvjqovk': 15446, 'gcudfnfgg': 15447, 'ttw': 15448, 'bumzvmwam': 15449, 'sanitised': 15450, 'narrative': 15451, 'gkpanzvg': 15452, 'provocation': 15453, 'lhwvtbhzg': 15454, 'furious': 15455, 'carmqivkwu': 15456, 'imilsfxntf': 15457, 'filipino': 15458, 'newyorkcity': 15459, 'lennox': 15460, 'drjustinmazur': 15461, 'megancoopy': 15462, 'laurathorne': 15463, 'mesqtvdu': 15464, 'yixfghdi': 15465, 'temperature': 15466, 'ysnmwwyvc': 15467, 'alpotnbq': 15468, 'goodbye': 15469, 'gobsmacked': 15470, 'bqtyxda': 15471, 'jasmines': 15472, 'littlewomenla': 15473, 'truckcrash': 15474, 'overturns': 15475, 'fortworth': 15476, 'rsljqfp': 15477, 'lduniywk': 15478, 'pastor': 15479, 'rov': 15480, 'cyxbrzxwq': 15481, 'xxumtoeke': 15482, 'monitoring': 15483, 'income': 15484, 'dorett': 15485, 'unpredictable': 15486, 'disconnected': 15487, 'lilithsaintcrow': 15488, 'eswnsetftf': 15489, 'bcsxyecji': 15490, 'dfxikvx': 15491, 'misfitrarity': 15492, 'misfit': 15493, 'pflmmg': 15494, 'qrugzvg': 15495, 'kbwpcmmbm': 15496, 'gaaenodu': 15497, 'tgcrvofj': 15498, 'redblood': 15499, 'videoclip': 15500, 'pymmruwf': 15501, 'dazzle': 15502, 'audacityjamesta': 15503, 'pckfnlyn': 15504, 'twilight': 15505, 'encore': 15506, 'jacquie': 15507, 'biggar': 15508, 'znptdicqxe': 15509, 'kindlecountdown': 15510, 'mfrwauthor': 15511, 'mgtab': 15512, 'dialyses': 15513, 'sundercr': 15514, 'remixes': 15515, 'merged': 15516, 'sil': 15517, 'arobotlegion': 15518, 'oppressed': 15519, 'ignor': 15520, 'hknuwzz': 15521, 'fairxx': 15522, 'playoverwatch': 15523, 'blizzardcs': 15524, 'georg': 15525, 'yellows': 15526, 'saxxoq': 15527, 'svygenjuv': 15528, 'trident': 15529, 'pumper': 15530, 'ims': 15531, 'plastic': 15532, 'faqnfupegn': 15533, 'mqfofkxtyh': 15534, 'gpm': 15535, 'bullseye': 15536, 'vcezicbb': 15537, 'seclusion': 15538, 'compliance': 15539, 'morevoic': 15540, 'volfan': 15541, 'tneazzy': 15542, 'mizzou': 15543, 'muschamp': 15544, 'bama': 15545, 'nsaggfnxz': 15546, 'odzshfi': 15547, 'jvppkhji': 15548, 'passeng': 15549, 'arian': 15550, 'yeat': 15551, 'ayyo': 15552, 'dei': 15553, 'cbaxcubah': 15554, 'persistent': 15555, 'fastings': 15556, 'woxvprixq': 15557, 'poured': 15558, 'fallontonight': 15559, 'pdoayyj': 15560, 'clogs': 15561, 'jrdwyyax': 15562, 'kinkyconnors': 15563, 'ptkrxtzjtv': 15564, 'dffjonvep': 15565, 'zaynmalik': 15566, 'kakajambori': 15567, 'yor': 15568, 'mechan': 15569, 'lwwfwr': 15570, 'nawqoqol': 15571, 'painful': 15572, 'bannist': 15573, 'qctfbwon': 15574, 'wrote': 15575, 'greatly': 15576, 'rfvjhef': 15577, 'challenging': 15578, 'jfftcqj': 15579, 'therein': 15580, 'tucglmgvr': 15581, 'rochdale': 15582, 'heywood': 15583, 'countermoonbat': 15584, 'pcbvuflfj': 15585, 'aphyr': 15586, 'somethin': 15587, 'clancy': 15588, 'novels': 15589, 'paperback': 15590, 'obixncxn': 15591, 'tomcl': 15592, 'kkdxzmvg': 15593, 'hdchfyaw': 15594, 'lhh': 15595, 'mastered': 15596, 'biexwdldwc': 15597, 'magnets': 15598, 'objects': 15599, 'btusjejuy': 15600, 'zrtfxlukr': 15601, 'alarms': 15602, 'accidently': 15603, 'exams': 15604, 'tdaktglup': 15605, 'gqskwqzuul': 15606, 'booksbyroger': 15607, 'lmbjpxg': 15608, 'msbfrrsn': 15609, 'countynew': 15610, 'resemblance': 15611, 'campbell': 15612, 'bozlwrz': 15613, 'kennel': 15614, 'yorkshire': 15615, 'onlyftf': 15616, 'tusky': 15617, 'robsimss': 15618, 'cantmisskid': 15619, 'anonchimp': 15620, 'mlvkxlii': 15621, 'aseer': 15622, 'pmtqhivsxx': 15623, 'ljmgdpdlv': 15624, 'avbronstein': 15625, 'popehat': 15626, 'instapundit': 15627, 'estimates': 15628, 'rgyuakcdr': 15629, 'ltmgdpjaf': 15630, 'shayoly': 15631, 'xpddwhtem': 15632, 'kasabwe': 15633, 'biryani': 15634, 'scefpfvaeu': 15635, 'neanderrebel': 15636, 'democrat': 15637, 'cebu': 15638, 'philippi': 15639, 'alrvkqpq': 15640, 'easier': 15641, 'hgbmcirk': 15642, 'ysxghcgz': 15643, 'concur': 15644, 'mmk': 15645, 'dxwfxpwh': 15646, 'namekians': 15647, 'sow': 15648, 'ixwcutkc': 15649, 'disneyirh': 15650, 'tatzfkch': 15651, 'housed': 15652, 'osborn': 15653, 'extinguished': 15654, 'cest': 15655, 'fforecast': 15656, 'teamhennessy': 15657, 'tprimo': 15658, 'djeddygnj': 15659, 'colombian': 15660, 'mrvfidfn': 15661, 'suggs': 15662, 'psychrewatch': 15663, 'restart': 15664, 'fleet': 15665, 'dbaujpub': 15666, 'mariomaraczi': 15667, 'freaked': 15668, 'trossen': 15669, 'abbyairshow': 15670, 'vxjcxukmd': 15671, 'reliefweb': 15672, 'abgfglhx': 15673, 'roguewatson': 15674, 'dukes': 15675, 'undercover': 15676, 'mav': 15677, 'junfpnedl': 15678, 'yfavsuogvl': 15679, 'isirllct': 15680, 'xglahzl': 15681, 'thmblaatzp': 15682, 'pantalonesfuego': 15683, 'deployed': 15684, 'fwupyurzi': 15685, 'qxqrr': 15686, 'mpp': 15687, 'lambasts': 15688, 'kanglaonline': 15689, 'jpxylac': 15690, 'epzgguqji': 15691, 'halljh': 15692, 'lzasrljo': 15693, 'iemxgseb': 15694, 'oqbdasmvy': 15695, 'newbeginningsanimalrescu': 15696, 'pspmahgkq': 15697, 'eau': 15698, 'claire': 15699, 'sentenced': 15700, 'chippewa': 15701, 'kqpkydthj': 15702, 'lincoln': 15703, 'btijamfiu': 15704, 'blowers': 15705, 'tuffers': 15706, 'batting': 15707, 'bbctms': 15708, 'tmzbhjcyf': 15709, 'alcoholism': 15710, 'tgtlzya': 15711, 'forgiving': 15712, 'crcoemwf': 15713, 'posters': 15714, 'banki': 15715, 'gzzqqth': 15716, 'oven': 15717, 'degre': 15718, 'ebrointheam': 15719, 'biggie': 15720, 'flawless': 15721, 'yqckqqd': 15722, 'bbcengland': 15723, 'birmingham': 15724, 'qkgftcam': 15725, 'walqae': 15726, 'merycormier': 15727, 'cosima': 15728, 'shay': 15729, 'thehighfessions': 15730, 'blasted': 15731, 'iowa': 15732, 'torro': 15733, 'loco': 15734, 'conversation': 15735, 'fahlo': 15736, 'olpbmyxw': 15737, 'bieber': 15738, 'oncqgcoa': 15739, 'lfnippnoto': 15740, 'slcemugm': 15741, 'footed': 15742, 'pajamas': 15743, 'opt': 15744, 'midfield': 15745, 'soni': 15746, 'soner': 15747, 'sonisoner': 15748, 'devffptcvj': 15749, 'parental': 15750, 'offspring': 15751, 'preconditioning': 15752, 'corals': 15753, 'ncivgo': 15754, 'mrtophypup': 15755, 'drool': 15756, 'lonepine': 15757, 'descendants': 15758, 'canberra': 15759, 'tfvvnrpc': 15760, 'zznbvfuvo': 15761, 'barcelona': 15762, 'alba': 15763, 'jyiegtnch': 15764, 'dakota': 15765, 'skye': 15766, 'horny': 15767, 'juicy': 15768, 'gsomtdpmoj': 15769, 'stiiilo': 15770, 'carr': 15771, 'ijobzmzp': 15772, 'nqruqtz': 15773, 'nro': 15774, 'unauthorized': 15775, 'fool': 15776, 'fsycmnf': 15777, 'unharmed': 15778, 'denied': 15779, 'nationals': 15780, 'exfnjjlh': 15781, 'skardu': 15782, 'nqnwktrhsa': 15783, 'charact': 15784, 'ffkcjpfj': 15785, 'baffling': 15786, 'telegraph': 15787, 'headlin': 15788, 'greer': 15789, 'nqzbmzuli': 15790, 'tlnfwf': 15791, 'rocyyeidm': 15792, 'kakeru': 15793, 'teduka': 15794, 'bfore': 15795, 'bomd': 15796, 'vzlnsio': 15797, 'dudairbbpo': 15798, 'padosfyxnm': 15799, 'himozask': 15800, 'qqxsyzob': 15801, 'kern': 15802, 'mornings': 15803, 'airing': 15804, 'kbak': 15805, 'rorktmpqns': 15806, 'liveonkbak': 15807, 'edznxgoud': 15808, 'bong': 15809, 'suff': 15810, 'hairdryer': 15811, 'leaks': 15812, 'joints': 15813, 'eliminate': 15814, 'homeimprovement': 15815, 'kxcust': 15816, 'niggr': 15817, 'gif': 15818, 'africansinsf': 15819, 'beyondgps': 15820, 'etdgpiwxti': 15821, 'theconspiracytheory': 15822, 'newep': 15823, 'principles': 15824, 'practices': 15825, 'ssuyhkgrb': 15826, 'tderbtgzk': 15827, 'brak': 15828, 'boyinahorsemask': 15829, 'panda': 15830, 'ocxbwgyft': 15831, 'joshacagan': 15832, 'stack': 15833, 'dvds': 15834, 'tdeukjzzii': 15835, 'cartoony': 15836, 'papa': 15837, 'zmcqrmoi': 15838, 'sorrow': 15839, 'throwin': 15840, 'lucas': 15841, 'duda': 15842, 'ghost': 15843, 'badass': 15844, 'surgeri': 15845, 'vixmeldrew': 15846, 'favors': 15847, 'miubkzm': 15848, 'polmnyz': 15849, 'bdsgfcfax': 15850, 'tzxeggokd': 15851, 'dmgnwwc': 15852, 'necro': 15853, 'alot': 15854, 'kidneys': 15855, 'wpvbhhoq': 15856, 'unijrvrrq': 15857, 'bgcwezb': 15858, 'frustrated': 15859, 'quantit': 15860, 'cymgltg': 15861, 'britons': 15862, 'himalaya': 15863, 'wgrxlypdo': 15864, 'bjhaavaye': 15865, 'paoiqus': 15866, 'elielcruz': 15867, 'streams': 15868, 'qmszfyu': 15869, 'hfzkmcen': 15870, 'vveusesgf': 15871, 'nqluornx': 15872, 'blink': 15873, 'dciqirnu': 15874, 'cpanel': 15875, 'birkbjee': 15876, 'buzwjmw': 15877, 'wpilpmymf': 15878, 'nhdidaj': 15879, 'exyqd': 15880, 'ovletgdqm': 15881, 'nycbuildings': 15882, 'mirik': 15883, 'nepd': 15884, 'loyko': 15885, 'texans': 15886, 'fogzrnpfv': 15887, 'ntjcthmc': 15888, 'pytqmrvp': 15889, 'xtljzbjgl': 15890, 'iphooey': 15891, 'bachmann': 15892, 'ron': 15893, 'catwoman': 15894, 'crazier': 15895, 'oneborn': 15896, 'qyxthkrbh': 15897, 'pajemxnz': 15898, 'cambridge': 15899, 'pzeixixk': 15900, 'palm': 15901, 'grindhouse': 15902, 'screening': 15903, 'texaschainsawmassacre': 15904, 'wopsgbvvv': 15905, 'morbidmovi': 15906, 'freddie': 15907, 'insanelimits': 15908, 'plugin': 15909, 'tps': 15910, 'tdm': 15911, 'breakingnewslh': 15912, 'bree': 15913, 'mars': 15914, 'seventies': 15915, 'hwrf': 15916, 'lashes': 15917, 'taipei': 15918, 'cnkvileb': 15919, 'dirt': 15920, 'agqoxm': 15921, 'sevenfigz': 15922, 'bpnqxmd': 15923, 'lmwkjsycgj': 15924, 'dbuobdxz': 15925, 'tracy': 15926, 'jryodr': 15927, 'kendall': 15928, 'jenner': 15929, 'organisms': 15930, 'sumeprof': 15931, 'judson': 15932, 'xtra': 15933, 'roster': 15934, 'barring': 15935, 'keits': 15936, 'liva': 15937, 'reactions': 15938, 'dznejuvd': 15939, 'absolut': 15940, 'sumya': 15941, 'html': 15942, 'yowbrovf': 15943, 'vrucerw': 15944, 'nlm': 15945, 'dimrc': 15946, 'providers': 15947, 'auoeyirq': 15948, 'mango': 15949, 'carl': 15950, 'everest': 15951, 'cobes': 15952, 'whitt': 15953, 'frost': 15954, 'snuff': 15955, 'godly': 15956, 'someday': 15957, 'hardbal': 15958, 'fences': 15959, 'idiots': 15960, 'swollen': 15961, 'riv': 15962, 'remodeled': 15963, 'mmgsyahdzb': 15964, 'stefano': 15965, 'airlift': 15966, 'zaaxfjsvb': 15967, 'zrzejpefj': 15968, 'vzrmjhy': 15969, 'xevueefqbz': 15970, 'disillusioned': 15971, 'crowe': 15972, 'tropes': 15973, 'twon': 15974, 'cityofkamloops': 15975, 'sec': 15976, 'kamloops': 15977, 'tanszyfp': 15978, 'vinnie': 15979, 'northumbria': 15980, 'upaqgnlf': 15981, 'cookie': 15982, 'dough': 15983, 'smoak': 15984, 'eepzhoth': 15985, 'addoq': 15986, 'spark': 15987, 'vsgqolrg': 15988, 'puhcbqx': 15989, 'dvweq': 15990, 'locksmith': 15991, 'domesticate': 15992, 'mechanic': 15993, 'circa': 15994, 'gba': 15995, 'qccffzv': 15996, 'gunfir': 15997, 'zachlowe': 15998, 'racer': 15999, 'dawson': 16000, 'hhhvkxfaih': 16001, 'talked': 16002, 'sudkkweez': 16003, 'pwamgozj': 16004, 'lcc': 16005, 'thebuffshow': 16006, 'thetwisterokc': 16007, 'shaniatwain': 16008, 'twisterlovesshania': 16009, 'ohtaa': 16010, 'gettinglost': 16011, 'jennellensbb': 16012, 'muncle': 16013, 'superficial': 16014, 'prompting': 16015, 'rvpaklhvi': 16016, 'exhibition': 16017, 'gvaipmlsl': 16018, 'snaymldiun': 16019, 'finalise': 16020, 'alt': 16021, 'destinythegame': 16022, 'bungie': 16023, 'experiences': 16024, 'managers': 16025, 'implication': 16026, 'glov': 16027, 'praise': 16028, 'ministry': 16029, 'wdyouth': 16030, 'biblestudy': 16031, 'ujkegbcc': 16032, 'bcccavyr': 16033, 'byuwnbeki': 16034, 'tacit': 16035, 'gerryconnolly': 16036, 'repdonbeyer': 16037, 'debacle': 16038, 'mgr': 16039, 'qldgjm': 16040, 'mickinyman': 16041, 'theatlantic': 16042, 'scratching': 16043, 'pedals': 16044, 'resoluteshield': 16045, 'cdngawql': 16046, 'zfwmjhslh': 16047, 'uhxodscwi': 16048, 'jdkqctid': 16049, 'jacinta': 16050, 'mar': 16051, 'mlmsuzvz': 16052, 'offshoot': 16053, 'etitgpsrun': 16054, 'slums': 16055, 'manifestation': 16056, 'citizens': 16057, 'illegality': 16058, 'discourse': 16059, 'confounds': 16060, 'stopevict': 16061, 'fandom': 16062, 'rbbnjkoqud': 16063, 'pays': 16064, 'columbus': 16065, 'nezfctfc': 16066, 'zonnqgsxyw': 16067, 'qgldvhu': 16068, 'baked': 16069, 'alaskan': 16070, 'shaped': 16071, 'neverforget': 16072, 'abha': 16073, 'xwzzeqw': 16074, 'nominates': 16075, 'ohhsehuns': 16076, 'rcvdrwowvo': 16077, 'remaster': 16078, 'frame': 16079, 'windwaker': 16080, 'mkayla': 16081, 'petty': 16082, 'childish': 16083, 'chrissie': 16084, 'finn': 16085, 'goodluck': 16086, 'hashgqaf': 16087, 'baskets': 16088, 'charming': 16089, 'tonyakappes': 16090, 'xyavtno': 16091, 'paranorm': 16092, 'amirkingkhan': 16093, 'floydmayweath': 16094, 'chriscesq': 16095, 'reputation': 16096, 'prestige': 16097, 'prosser': 16098, 'hnydbzov': 16099, 'tryouts': 16100, 'woodland': 16101, 'wisdomwed': 16102, 'bonus': 16103, 'lifehacks': 16104, 'tbmfqbcw': 16105, 'mtrqjfd': 16106, 'thejenmorillo': 16107, 'lhmrypdrj': 16108, 'pqhuthssi': 16109, 'rar': 16110, 'iwdrfx': 16111, 'silentmind': 16112, 'bookofdaniel': 16113, 'fkqjyezyg': 16114, 'goals': 16115, 'inspir': 16116, 'justsaying': 16117, 'randomthought': 16118, 'flqxdqpy': 16119, 'longaberger': 16120, 'floral': 16121, 'strap': 16122, 'fbsnrghu': 16123, 'hhs': 16124, 'selects': 16125, 'infectious': 16126, 'qmotxxdkj': 16127, 'patrol': 16128, 'suns': 16129, 'grzchkdf': 16130, 'kingmyth': 16131, 'nasipmvh': 16132, 'pagasa': 16133, 'panay': 16134, 'guimaras': 16135, 'landslides': 16136, 'mountainous': 16137, 'cagov': 16138, 'vp': 16139, 'oofcl': 16140, 'xwnoaw': 16141, 'elreynetwork': 16142, 'oxouwyut': 16143, 'crabbycale': 16144, 'sgftkaegq': 16145, 'hesbpuy': 16146, 'relaxing': 16147, 'soothmyslumber': 16148, 'watermeloann': 16149, 'populardemand': 16150, 'thewebbeffect': 16151, 'fqirslja': 16152, 'akilah': 16153, 'vnfnmyli': 16154, 'annihilate': 16155, 'talisman': 16156, 'keen': 16157, 'cristiano': 16158, 'mipasho': 16159, 'lxvlqvbcr': 16160, 'rlpttkbgw': 16161, 'audi': 16162, 'dieanpink': 16163, 'yu': 16164, 'nita': 16165, 'attractive': 16166, 'conclusions': 16167, 'vwtfx': 16168, 'papiichampoo': 16169, 'era': 16170, 'civility': 16171, 'jpuesi': 16172, 'ttrhjuau': 16173, 'zrrnbtb': 16174, 'namffldhh': 16175, 'sacrifice': 16176, 'terrific': 16177, 'qamgvqafzc': 16178, 'toxicsavior': 16179, 'froze': 16180, 'cjutfxbm': 16181, 'riser': 16182, 'dierks': 16183, 'bentley': 16184, 'iheartradio': 16185, 'zqoscqdh': 16186, 'ylvvfbb': 16187, 'neat': 16188, 'uaodoquda': 16189, 'pleb': 16190, 'mxaaaa': 16191, 'spin': 16192, 'contributing': 16193, 'fittscott': 16194, 'showcase': 16195, 'popularmmos': 16196, 'muljaeux': 16197, 'frtpzte': 16198, 'thorin': 16199, 'sandbox': 16200, 'papcrdoll': 16201, 'deactivate': 16202, 'choic': 16203, 'biigdleq': 16204, 'dobzcpitm': 16205, 'knbvytnwc': 16206, 'qz': 16207, 'taraswart': 16208, 'giang': 16209, 'attempted': 16210, 'jbrkzsri': 16211, 'villicanaalicia': 16212, 'fsqdwx': 16213, 'samajp': 16214, 'tone': 16215, 'soonersportstv': 16216, 'oevaco': 16217, 'widda': 16218, 'goner': 16219, 'whoop': 16220, 'greinke': 16221, 'georgefoster': 16222, 'edmund': 16223, 'fitzgerald': 16224, 'disinfo': 16225, 'yuinmerqs': 16226, 'criticalmedia': 16227, 'patio': 16228, 'umbrella': 16229, 'flipped': 16230, 'writ': 16231, 'ihawvlo': 16232, 'cottage': 16233, 'grove': 16234, 'dcdmnvh': 16235, 'unhqcqbex': 16236, 'createdunique': 16237, 'keren': 16238, 'serpa': 16239, 'arianareed': 16240, 'pcincytfh': 16241, 'bengston': 16242, 'upward': 16243, 'smem': 16244, 'rgoguytlf': 16245, 'profit': 16246, 'obsessed': 16247, 'anutoopkf': 16248, 'superbug': 16249, 'biolabs': 16250, 'epidemics': 16251, 'biosurveillance': 16252, 'outbreaks': 16253, 'homeland': 16254, 'cvhygwcbzv': 16255, 'aqmpxzov': 16256, 'phiddleface': 16257, 'extensive': 16258, 'bclqpwfdod': 16259, 'infected': 16260, 'piercings': 16261, 'ohbvyvtl': 16262, 'ymutindr': 16263, 'becca': 16264, 'caitlyn': 16265, 'ygybjdi': 16266, 'sobbing': 16267, 'endlessly': 16268, 'confused': 16269, 'mtsalert': 16270, 'riders': 16271, 'developed': 16272, 'vicinity': 16273, 'reached': 16274, 'opjwunuvg': 16275, 'musbikejf': 16276, 'acdfzui': 16277, 'cooool': 16278, 'repatriating': 16279, 'wvvgmej': 16280, 'mccainenl': 16281, 'stonewall': 16282, 'calestous': 16283, 'zynfxt': 16284, 'itzmasbvz': 16285, 'looney': 16286, 'griffin': 16287, 'ariabrisard': 16288, 'leiaorganasolo': 16289, 'fwqpcekg': 16290, 'ramp': 16291, 'exum': 16292, 'stem': 16293, 'pifutrbu': 16294, 'rnk': 16295, 'rockingham': 16296, 'stokes': 16297, 'powder': 16298, 'discussed': 16299, 'introduction': 16300, 'aesthetic': 16301, 'bzirgmwj': 16302, 'diverts': 16303, 'declaring': 16304, 'aiexcbkfq': 16305, 'harbhajan': 16306, 'singh': 16307, 'stuartbroad': 16308, 'yuvi': 16309, 'ing': 16310, 'gishwhes': 16311, 'soaked': 16312, 'pads': 16313, 'tampons': 16314, 'mishacollin': 16315, 'joedawg': 16316, 'wording': 16317, 'imo': 16318, 'mothernaturenetwork': 16319, 'thundersnow': 16320, 'uncommon': 16321, 'eydapaupvg': 16322, 'szmnextdoor': 16323, 'yrbegzafx': 16324, 'wrightsboro': 16325, 'dduxthvvnr': 16326, 'wdssvci': 16327, 'indiana': 16328, 'reopening': 16329, 'lafayette': 16330, 'repairs': 16331, 'daniglasgow': 16332, 'cfouwpbrcg': 16333, 'ci': 16334, 'gbvdnczjou': 16335, 'chis': 16336, 'salyers': 16337, 'blair': 16338, 'jenna': 16339, 'bdnfdpdaz': 16340, 'gsaomjnm': 16341, 'conditionsprivation': 16342, 'imaewuwc': 16343, 'terwilliger': 16344, 'ecdhizja': 16345, 'ukfloods': 16346, 'trekkers': 16347, 'himalayas': 16348, 'nsfzkfgznj': 16349, 'veimhea': 16350, 'springer': 16351, 'spaniel': 16352, 'gdkpoonp': 16353, 'gohpibc': 16354, 'eles': 16355, 'kaylee': 16356, 'jannellix': 16357, 'puts': 16358, 'wooooooo': 16359, 'gamerant': 16360, 'esports': 16361, 'ehhmqqr': 16362, 'umtffajjb': 16363, 'talkmc': 16364, 'sbzwruwufh': 16365, 'wadpplwj': 16366, 'yjthnabv': 16367, 'puezvbd': 16368, 'demco': 16369, 'hitch': 16370, 'ultra': 16371, 'pivot': 16372, 'hrdwgfbfyq': 16373, 'nuohkmpzfj': 16374, 'rbsvlppu': 16375, 'minded': 16376, 'keeper': 16377, 'runnin': 16378, 'dispute': 16379, 'oazghozgya': 16380, 'gunfail': 16381, 'nra': 16382, 'ctpugz': 16383, 'cufi': 16384, 'jews': 16385, 'convert': 16386, 'arwwrzpsr': 16387, 'mkjqyfmp': 16388, 'dorman': 16389, 'wxceszte': 16390, 'pygkssscfr': 16391, 'vanderbilt': 16392, 'ccdxcglqw': 16393, 'majesty': 16394, 'salman': 16395, 'khan': 16396, 'unstoppable': 16397, 'bajrangi': 16398, 'bhaijaan': 16399, 'creating': 16400, 'crosed': 16401, 'benkin': 16402, 'mili': 16403, 'probs': 16404, 'kings': 16405, 'eqccrtlnbd': 16406, 'itzsteven': 16407, 'xdojjjj': 16408, 'whopper': 16409, 'cudkryuuan': 16410, 'dkozymvyl': 16411, 'accounts': 16412, 'gleaned': 16413, 'yrqgnblkac': 16414, 'uae': 16415, 'mideast': 16416, 'ncms': 16417, 'thundering': 16418, 'tkskezm': 16419, 'sqgogjsr': 16420, 'nightbeat': 16421, 'veronicadlcruz': 16422, 'minutemix': 16423, 'egyptian': 16424, 'croatian': 16425, 'gtxndnjrrl': 16426, 'films': 16427, 'incredibly': 16428, 'creative': 16429, 'artists': 16430, 'interviewed': 16431, 'anatomy': 16432, 'jmpdsxlk': 16433, 'babysweet': 16434, 'pfannebeckers': 16435, 'inspiring': 16436, 'rediscover': 16437, 'fantabulous': 16438, 'wmhyxkil': 16439, 'funkylilshack': 16440, 'mariaf': 16441, 'slapping': 16442, 'showdown': 16443, 'qgrdpajr': 16444, 'atlarnxx': 16445, 'ghujxet': 16446, 'kkbxiblah': 16447, 'ubkqtxhr': 16448, 'oxljnavf': 16449, 'gfz': 16450, 'minuscule': 16451, 'qeopmcjbcz': 16452, 'finna': 16453, 'boutta': 16454, 'hurting': 16455, 'fphfesemyj': 16456, 'hvvnr': 16457, 'noises': 16458, 'epsom': 16459, 'wimbledon': 16460, 'ilford': 16461, 'pnhpljho': 16462, 'eurocrisis': 16463, 'bbmsrwow': 16464, 'nikistitz': 16465, 'rabhqrth': 16466, 'thesmallclark': 16467, 'fled': 16468, 'trigger': 16469, 'journey': 16470, 'cows': 16471, 'ngkrzpza': 16472, 'mtczaawpt': 16473, 'thhjjwp': 16474, 'edekrmqtpq': 16475, 'sensitive': 16476, 'jhtlwuey': 16477, 'lbhexixv': 16478, 'emosrmuvqa': 16479, 'tslqjokvh': 16480, 'sinkingshipindy': 16481, 'scarlet': 16482, 'lenore': 16483, 'saison': 16484, 'stonebrewingco': 16485, 'bigsim': 16486, 'pundits': 16487, 'eshtylbnl': 16488, 'johnsontionne': 16489, 'taaylordarr': 16490, 'hsxfvmtc': 16491, 'iewdrenauk': 16492, 'sirbrandonknt': 16493, 'lesnar': 16494, 'cena': 16495, 'summerslam': 16496, 'nwqwjqkz': 16497, 'yioivkx': 16498, 'uabstephenlong': 16499, 'courtlizcamp': 16500, 'shirley': 16501, 'caesar': 16502, 'kochslasq': 16503, 'plenty': 16504, 'ipa': 16505, 'radler': 16506, 'anmdkdrv': 16507, 'vcirnmdv': 16508, 'noel': 16509, 'pouring': 16510, 'coquitlam': 16511, 'geqkdaocv': 16512, 'dgbgzecgm': 16513, 'sfvwqvjya': 16514, 'bright': 16515, 'ueatxrhi': 16516, 'ibsvyrph': 16517, 'shii': 16518, 'intend': 16519, 'chrisman': 16520, 'ssicmyrmh': 16521, 'rpneajfod': 16522, 'pulaekxcq': 16523, 'beth': 16524, 'underwood': 16525, 'gravity': 16526, 'exited': 16527, 'gqebqz': 16528, 'hjpiri': 16529, 'thh': 16530, 'furst': 16531, 'acne': 16532, 'jasminehuerta': 16533, 'hknqrgedb': 16534, 'dispatch': 16535, 'encoded': 16536, 'sensory': 16537, 'cognitive': 16538, 'dmbxpd': 16539, 'agnzbusqq': 16540, 'qave': 16541, 'knowlddge': 16542, 'pap': 16543, 'iembot': 16544, 'hfo': 16545, 'hana': 16546, 'maui': 16547, 'ggdzsvbz': 16548, 'kbearcdw': 16549, 'agusgo': 16550, 'shoutout': 16551, 'vyuualoqw': 16552, 'twimbos': 16553, 'zimpapersview': 16554, 'cbddiqig': 16555, 'jbjrgepq': 16556, 'defines': 16557, 'perpetrators': 16558, 'breeder': 16559, 'bred': 16560, 'dragonvale': 16561, 'qgumxheo': 16562, 'lecvmsx': 16563, 'vfbwnyol': 16564, 'spoke': 16565, 'kennedy': 16566, 'avert': 16567, 'bolster': 16568, 'approv': 16569, 'ctjutvytg': 16570, 'divis': 16571, 'reopens': 16572, 'oabjztbvyz': 16573, 'gpbxrrdc': 16574, 'blairmcdougall': 16575, 'commenting': 16576, 'dealings': 16577, 'arkan': 16578, 'yfoghgt': 16579, 'wxia': 16580, 'zqqjrqsbjm': 16581, 'mdnugvubwn': 16582, 'senatemajldr': 16583, 'rand': 16584, 'qzdqrbrlh': 16585, 'dnuhwsxo': 16586, 'norwaymfa': 16587, 'bahrain': 16588, 'gfjfgtodad': 16589, 'langata': 16590, 'coloiccarnality': 16591, 'instincts': 16592, 'scratches': 16593, 'patron': 16594, 'australians': 16595, 'oceans': 16596, 'urine': 16597, 'georgous': 16598, 'demonstration': 16599, 'gaabyx': 16600, 'activist': 16601, 'lunasagalle': 16602, 'synapsenkotze': 16603, 'bastard': 16604, 'awadgolf': 16605, 'capitalist': 16606, 'voted': 16607, 'yzzxxknism': 16608, 'zzseehipm': 16609, 'onlvffyoy': 16610, 'fblnifdac': 16611, 'blinker': 16612, 'fleeing': 16613, 'vietnamese': 16614, 'vhrlswvzql': 16615, 'egcvybjae': 16616, 'mawzbt': 16617, 'perforated': 16618, 'shear': 16619, 'sfor': 16620, 'cxojhdr': 16621, 'sharply': 16622, 'dfyrppzkpu': 16623, 'iwsdbgdzq': 16624, 'egmlni': 16625, 'pyrbliss': 16626, 'frusciante': 16627, 'cyvxeff': 16628, 'ksgmydmx': 16629, 'mzkpfogi': 16630, 'typing': 16631, 'ants': 16632, 'notes': 16633, 'zotar': 16634, 'skeleton': 16635, 'alchemist': 16636, 'atamathon': 16637, 'gpwrckzi': 16638, 'vyhhg': 16639, 'haircuts': 16640, 'minimal': 16641, 'delhi': 16642, 'acid': 16643, 'hpmwel': 16644, 'filming': 16645, 'chernobyl': 16646, 'sonyprousa': 16647, 'lumixusa': 16648, 'djiglobal': 16649, 'profbriancox': 16650, 'gljhvead': 16651, 'pink': 16652, 'hpa': 16653, 'nbdotiew': 16654, 'zehrs': 16655, 'ratings': 16656, 'categories': 16657, 'defined': 16658, 'odydtqpk': 16659, 'burberryant': 16660, 'missambear': 16661, 'quoted': 16662, 'ejvjolc': 16663, 'gritty': 16664, 'pasta': 16665, 'thursdays': 16666, 'amico': 16667, 'amicospizzato': 16668, 'seeyouatamicos': 16669, 'mzvqxbkt': 16670, 'jvycxxvi': 16671, 'obsolete': 16672, 'atjawwtj': 16673, 'mjmwaer': 16674, 'adxiyi': 16675, 'overrun': 16676, 'serv': 16677, 'acdcd': 16678, 'loot': 16679, 'hart': 16680, 'nuff': 16681, 'ydnpvtg': 16682, 'xuldcosh': 16683, 'rfp': 16684, 'transporta': 16685, 'gtrvecen': 16686, 'bageflfgt': 16687, 'bvxqakfrx': 16688, 'aashiqui': 16689, 'anu': 16690, 'aggarwal': 16691, 'otfplqw': 16692, 'actively': 16693, 'embraced': 16694, 'audiences': 16695, 'emhub': 16696, 'ugc': 16697, 'mbpvwitxf': 16698, 'chillimik': 16699, 'hushlegs': 16700, 'comparing': 16701, 'brilliant': 16702, 'seecyc': 16703, 'stephaniemarija': 16704, 'dressing': 16705, 'incessant': 16706, 'xmoyevjsj': 16707, 'explicitpretti': 16708, 'khsbzkfdo': 16709, 'prob': 16710, 'worstoverdose': 16711, 'jaileens': 16712, 'caked': 16713, 'preacher': 16714, 'faces': 16715, 'daplllfuqk': 16716, 'georgie': 16717, 'forreal': 16718, 'whipe': 16719, 'intragenerational': 16720, 'sandra': 16721, 'bland': 16722, 'zweygphpf': 16723, 'yfppifdkqo': 16724, 'ajyulmftif': 16725, 'goofballs': 16726, 'pd': 16727, 'hahxpchy': 16728, 'vqvwxjyu': 16729, 'mclaughlin': 16730, 'ginga': 16731, 'defeat': 16732, 'drago': 16733, 'designed': 16734, 'deserved': 16735, 'kevinbacon': 16736, 'soz': 16737, 'jxkmkpalp': 16738, 'eclyqqc': 16739, 'shouout': 16740, 'kasadlla': 16741, 'vocals': 16742, 'shes': 16743, 'punkblunts': 16744, 'sincerelyevelnn': 16745, 'scored': 16746, 'punch': 16747, 'squeaky': 16748, 'skull': 16749, 'aetgbxmpl': 16750, 'rbsjmlej': 16751, 'michaelwestbiz': 16752, 'tfl': 16753, 'downtime': 16754, 'icsfdsifqb': 16755, 'hfxstanfield': 16756, 'beelievedc': 16757, 'discoverycntr': 16758, 'contractor': 16759, 'supernovalester': 16760, 'jfc': 16761, 'voltaire': 16762, 'zyssobxntc': 16763, 'wmoyibwec': 16764, 'lucymayofficial': 16765, 'rsverlztm': 16766, 'ihudzmq': 16767, 'granttamane': 16768, 'drewwtaylor': 16769, 'dtop': 16770, 'hillside': 16771, 'pits': 16772, 'lqlxgsxu': 16773, 'coats': 16774, 'sprite': 16775, 'nsnjmevi': 16776, 'temecafreeman': 16777, 'transportation': 16778, 'wheelers': 16779, 'amssumm': 16780, 'komo': 16781, 'qcpmktgllr': 16782, 'vsfllowgh': 16783, 'constitutional': 16784, 'politic': 16785, 'gfasowzn': 16786, 'mogurt': 16787, 'toosoon': 16788, 'welshninja': 16789, 'hashtag': 16790, 'postponed': 16791, 'fnmjegfm': 16792, 'nyeaeifr': 16793, 'danagould': 16794, 'waynesteratl': 16795, 'checks': 16796, 'equ': 16797, 'bzzdedcthl': 16798, 'oqjnuyibxm': 16799, 'qqcgkbegs': 16800, 'efs': 16801, 'zstuvsbqq': 16802, 'charon': 16803, 'stew': 16804, 'roar': 16805, 'dlvyfvnqe': 16806, 'carneross': 16807, 'remarkably': 16808, 'puny': 16809, 'epoch': 16810, 'mercury': 16811, 'moulding': 16812, 'cj': 16813, 'jobvbvkfnz': 16814, 'czpmzhtd': 16815, 'zlcoueoq': 16816, 'jolly': 16817, 'jinu': 16818, 'babri': 16819, 'todayhave': 16820, 'reveng': 16821, 'sodamntrue': 16822, 'wbivkzjip': 16823, 'hailing': 16824, 'haildamage': 16825, 'yycweather': 16826, 'captureyyc': 16827, 'nother': 16828, 'sejorg': 16829, 'netflix': 16830, 'documentary': 16831, 'narrated': 16832, 'parter': 16833, 'lghyv': 16834, 'scichat': 16835, 'sci': 16836, 'aufjowj': 16837, 'exquisite': 16838, 'ywvteo': 16839, 'cumshot': 16840, 'porno': 16841, 'fre': 16842, 'sd': 16843, 'johngreen': 16844, 'robthier': 16845, 'tora': 16846, 'hank': 16847, 'youwnxvs': 16848, 'grizzly': 16849, 'vbvfmke': 16850, 'breakingnew': 16851, 'fwqlobooy': 16852, 'bromleythe': 16853, 'thpbdpdj': 16854, 'chim': 16855, 'themaine': 16856, 'wil': 16857, 'enders': 16858, 'mgs': 16859, 'pagexxi': 16860, 'ledmvezcol': 16861, 'eacau': 16862, 'fvpwnidl': 16863, 'bwdhibtiks': 16864, 'qelrocibi': 16865, 'fqvobg': 16866, 'jbxbiclu': 16867, 'ce': 16868, 'wcfmxe': 16869, 'badotweet': 16870, 'drsmxwcr': 16871, 'laughtraders': 16872, 'capitulation': 16873, 'yhngsjlg': 16874, 'tweeted': 16875, 'ioqmbmdg': 16876, 'kamayani': 16877, 'janata': 16878, 'gratia': 16879, 'sdtzsgelq': 16880, 'doe': 16881, 'filter': 16882, 'offsite': 16883, 'gfdhfmpcel': 16884, 'sleeper': 16885, 'railing': 16886, 'czpdnobit': 16887, 'anarchi': 16888, 'linden': 16889, 'lite': 16890, 'cure': 16891, 'izwxlb': 16892, 'lind': 16893, 'okmlagvkjv': 16894, 'mirad': 16895, 'clgtotvsf': 16896, 'pmharper': 16897, 'njmidysxof': 16898, 'abcchicago': 16899, 'navista': 16900, 'tinderbox': 16901, 'clown': 16902, 'tennoatax': 16903, 'tenno': 16904, 'dojo': 16905, 'ahhhh': 16906, 'yxsnvj': 16907, 'japanjapan': 16908, 'inferior': 16909, 'anonymous': 16910, 'fuels': 16911, 'ymftxfch': 16912, 'idngent': 16913, 'jamaicaobserver': 16914, 'cnewslive': 16915, 'jyiekeoh': 16916, 'mockingpanems': 16917, 'cuddlesforjen': 16918, 'bellalinn': 16919, 'alrighty': 16920, 'retract': 16921, 'cihcnrch': 16922, 'wordpressdotcom': 16923, 'disclaimer': 16924, 'fest': 16925, 'goggles': 16926, 'unwanted': 16927, 'parksboardfacts': 16928, 'zippoline': 16929, 'moveit': 16930, 'busines': 16931, 'shzsymausi': 16932, 'twenty': 16933, 'cedarglad': 16934, 'campers': 16935, 'blazes': 16936, 'wwgadpffkw': 16937, 'vgtunwohi': 16938, 'muttatek': 16939, 'kwwwkwwwk': 16940, 'hug': 16941, 'jiahahahha': 16942, 'yeyeulala': 16943, 'bottling': 16944, 'invincible': 16945, 'zntgwndmj': 16946, 'resort': 16947, 'nz': 16948, 'ajisa': 16949, 'hugomatz': 16950, 'calgarians': 16951, 'stunned': 16952, 'fkfavsssz': 16953, 'nne': 16954, 'geysers': 16955, 'xelysycn': 16956, 'jnsdrwbp': 16957, 'hhbu': 16958, 'darkndtatted': 16959, 'holm': 16960, 'roles': 16961, 'ximpnczxth': 16962, 'candidates': 16963, 'grimes': 16964, 'voters': 16965, 'pbegof': 16966, 'totoooooo': 16967, 'totoooooooooo': 16968, 'historicalmages': 16969, 'stratford': 16970, 'awcuuwb': 16971, 'azovgvsb': 16972, 'saves': 16973, 'maine': 16974, 'dove': 16975, 'geometric': 16976, 'totes': 16977, 'lgfxgozvx': 16978, 'tkjybjjskl': 16979, 'stm': 16980, 'quem': 16981, 'lembra': 16982, 'qvxvqtpz': 16983, 'vuwbsrsnri': 16984, 'jozerphine': 16985, 'everythign': 16986, 'mcpherson': 16987, 'braveri': 16988, 'wqwjsgphl': 16989, 'bzwiqptu': 16990, 'mentalhealthgov': 16991, 'ahhhhh': 16992, 'alec': 16993, 'tort': 16994, 'injustice': 16995, 'qejedwsfdg': 16996, 'drvox': 16997, 'agw': 16998, 'yceeemd': 16999, 'ezeisasmc': 17000, 'juneau': 17001, 'uytojyk': 17002, 'vac': 17003, 'reginald': 17004, 'qgynuup': 17005, 'wishtqrm': 17006, 'tnuacivc': 17007, 'sakorgdqul': 17008, 'ifs': 17009, 'ands': 17010, 'buts': 17011, 'hfgjgfgfel': 17012, 'burford': 17013, 'council': 17014, 'praying': 17015, 'aknynpv': 17016, 'mxzyxld': 17017, 'everyth': 17018, 'ronda': 17019, 'rousey': 17020, 'mayweather': 17021, 'ijzcytbffo': 17022, 'bluebirddenver': 17023, 'gucci': 17024, 'mkrxqzehmy': 17025, 'watsmxytva': 17026, 'wedwynkfs': 17027, 'arti': 17028, 'kaboom': 17029, 'gorgeous': 17030, 'ycwaulqzu': 17031, 'nbanews': 17032, 'ojoecwqa': 17033, 'destiel': 17034, 'mkxuxozt': 17035, 'eganator': 17036, 'princessduck': 17037, 'allocating': 17038, 'veneto': 17039, 'wesxudt': 17040, 'yhaqawxok': 17041, 'figures': 17042, 'zgsjwxdrcm': 17043, 'isle': 17044, 'tlc': 17045, 'ombostn': 17046, 'allahsfinest': 17047, 'gimp': 17048, 'newave': 17049, 'xqlgwoymt': 17050, 'hqnxqmeg': 17051, 'irqujaesck': 17052, 'qdweknrmi': 17053, 'sgxpuol': 17054, 'cortneymo': 17055, 'buffs': 17056, 'oaqtjawgxg': 17057, 'bitten': 17058, 'cspan': 17059, 'maker': 17060, 'convertible': 17061, 'llwuqnvg': 17062, 'upsetting': 17063, 'ndjjado': 17064, 'lbjsqyo': 17065, 'jorrynja': 17066, 'bf': 17067, 'ter': 17068, 'jfnvaxfph': 17069, 'implicit': 17070, 'hljucxi': 17071, 'nrustuh': 17072, 'ushiocomics': 17073, 'submitting': 17074, 'pqslugjk': 17075, 'pattonoswalt': 17076, 'alamodc': 17077, 'pmxlezjbrc': 17078, 'worsen': 17079, 'olzavtjfkh': 17080, 'aptapyxr': 17081, 'ufnxxavqs': 17082, 'thatwitchem': 17083, 'emmachosenone': 17084, 'jessienovoarp': 17085, 'jessie': 17086, 'liana': 17087, 'cmunimrg': 17088, 'idm': 17089, 'gotham': 17090, 'bcs': 17091, 'theyre': 17092, 'bartender': 17093, 'numb': 17094, 'tricycle': 17095, 'ljeryhitwh': 17096, 'chips': 17097, 'snacks': 17098, 'redbull': 17099, 'snack': 17100, 'appszkvx': 17101, 'diretube': 17102, 'vijxccdi': 17103, 'ysxhfwmgod': 17104, 'specials': 17105, 'epicentr': 17106, 'sustainability': 17107, 'task': 17108, 'presents': 17109, 'levy': 17110, 'wdtv': 17111, 'fibehaxc': 17112, 'fadelurker': 17113, 'dalinthanelan': 17114, 'camped': 17115, 'redcliffe': 17116, 'aidan': 17117, 'eyorbmfo': 17118, 'xtezgjfsa': 17119, 'naturaldisasters': 17120, 'tqwrwjqwo': 17121, 'horno': 17122, 'microbes': 17123, 'zahnewjri': 17124, 'losdelsonido': 17125, 'ivanberroa': 17126, 'ykdspnrdq': 17127, 'meds': 17128, 'ppact': 17129, 'leak': 17130, 'evkcefst': 17131, 'beuaiug': 17132, 'huffpostcomedy': 17133, 'attendees': 17134, 'xwvwsfti': 17135, 'jhukhwm': 17136, 'calumchambers': 17137, 'phillip': 17138, 'amritsar': 17139, 'exaggerated': 17140, 'bloodbath': 17141, 'introducing': 17142, 'interpretation': 17143, 'myquwijn': 17144, 'dorette': 17145, 'jannet': 17146, 'corp': 17147, 'breaches': 17148, 'coverage': 17149, 'ekkyhxpe': 17150, 'ynnxoucr': 17151, 'ylytylh': 17152, 'commenters': 17153, 'underestimate': 17154, 'bene': 17155, 'gesserit': 17156, 'litany': 17157, 'dune': 17158, 'atgrannyshous': 17159, 'unexplainable': 17160, 'childhooddefin': 17161, 'zmwtxydz': 17162, 'pearl': 17163, 'emptive': 17164, 'iaaglpw': 17165, 'sneaks': 17166, 'cockpit': 17167, 'wehvs': 17168, 'pihhnil': 17169, 'rlftjmhhvt': 17170, 'ffylajwp': 17171, 'theevilolives': 17172, 'hypo': 17173, 'zhguyebj': 17174, 'anytime': 17175, 'chowtaxis': 17176, 'newport': 17177, 'jackie': 17178, 'bristol': 17179, 'messages': 17180, 'appreci': 17181, 'dfr': 17182, 'monthly': 17183, 'dnbheaven': 17184, 'ejkrfna': 17185, 'sphwewfi': 17186, 'ygibrlv': 17187, 'zbhvdcxz': 17188, 'zourryart': 17189, 'rmcnzkszl': 17190, 'izjkkpwiz': 17191, 'hrqcjdovjz': 17192, 'benjamin': 17193, 'francis': 17194, 'leftwich': 17195, 'kjygiy': 17196, 'cutekitten': 17197, 'catsofinstagram': 17198, 'summerinsweden': 17199, 'katt': 17200, 'katterp': 17201, 'dumle': 17202, 'dagens': 17203, 'pzfxdnbch': 17204, 'valleywx': 17205, 'sel': 17206, 'oyymgwhn': 17207, 'hinterestin': 17208, 'funni': 17209, 'heather': 17210, 'ava': 17211, 'sparxxx': 17212, 'threesome': 17213, 'trunks': 17214, 'freiza': 17215, 'cleanest': 17216, 'merci': 17217, 'fjkcrlir': 17218, 'karnythia': 17219, 'exercised': 17220, 'att': 17221, 'goodby': 17222, 'courts': 17223, 'szeapueuvi': 17224, 'rebahe': 17225, 'zenande': 17226, 'mcfen': 17227, 'ndzedze': 17228, 'ashesash': 17229, 'atv': 17230, 'dpxdlec': 17231, 'jddvhfi': 17232, 'jackperu': 17233, 'courses': 17234, 'jmdzwksdm': 17235, 'senzu': 17236, 'gohan': 17237, 'pouch': 17238, 'purified': 17239, 'pale': 17240, 'moonlight': 17241, 'sousse': 17242, 'tunis': 17243, 'myhhthsli': 17244, 'silverhusky': 17245, 'shtap': 17246, 'salted': 17247, 'connor': 17248, 'franta': 17249, 'howell': 17250, 'omron': 17251, 'hem': 17252, 'monitor': 17253, 'cuffs': 17254, 'gjbainqwn': 17255, 'jphgplcx': 17256, 'jxbrxmf': 17257, 'bsepjum': 17258, 'hpagqrywa': 17259, 'saumur': 17260, 'hcdiweflc': 17261, 'zlvebeoavg': 17262, 'affliction': 17263, 'primarily': 17264, 'uesuku': 17265, 'untangle': 17266, 'besttalkradio': 17267, 'jzutxwt': 17268, 'pyrotechnic': 17269, 'artwork': 17270, 'cai': 17271, 'guo': 17272, 'qiang': 17273, 'blossom': 17274, 'orovzfsku': 17275, 'sensanders': 17276, 'wrked': 17277, 'reed': 17278, 'engines': 17279, 'fighters': 17280, 'scen': 17281, 'marynmck': 17282, 'adorable': 17283, 'cans': 17284, 'kaldi': 17285, 'uisxvfv': 17286, 'groupon': 17287, 'loretta': 17288, 'fuddy': 17289, 'authenticating': 17290, 'sole': 17291, 'mzrhfojtj': 17292, 'playoffs': 17293, 'positively': 17294, 'univsfoundation': 17295, 'rwaphdauv': 17296, 'bangladeshaffected': 17297, 'rivers': 17298, 'bangladeshflood': 17299, 'mariasherwood': 17300, 'johnjcampbell': 17301, 'vyghniah': 17302, 'locomotives': 17303, 'magne': 17304, 'traction': 17305, 'xezbssqy': 17306, 'cxqokg': 17307, 'eur': 17308, 'bwin': 17309, 'sikkgfphr': 17310, 'jfyfzddlrn': 17311, 'fadc': 17312, 'amo': 17313, 'lsmxvwrj': 17314, 'zuqgvjneqa': 17315, 'celestial': 17316, 'separate': 17317, 'trajectories': 17318, 'intertwine': 17319, 'cours': 17320, 'hamptonroadsfor': 17321, 'qnqzduw': 17322, 'dhyljllrhl': 17323, 'pandora': 17324, 'vzcvadkcqp': 17325, 'vfbbchwrfd': 17326, 'baan': 17327, 'thai': 17328, 'sushi': 17329, 'udpfrxrl': 17330, 'emdjnnltp': 17331, 'earn': 17332, 'mcr': 17333, 'snort': 17334, 'jsthauk': 17335, 'flavorchargedtea': 17336, 'dmunni': 17337, 'jeannamibian': 17338, 'noooooooo': 17339, 'gazans': 17340, 'jwhnewft': 17341, 'presstv': 17342, 'nywrkrqkn': 17343, 'nevada': 17344, 'exceptional': 17345, 'steady': 17346, 'nyoxuebfa': 17347, 'droughtgov': 17348, 'wamjorhi': 17349, 'tiles': 17350, 'zacb': 17351, 'dell': 17352, 'colombia': 17353, 'zhjlflbhzl': 17354, 'mjbiuvbmo': 17355, 'icdtdftj': 17356, 'ubwozut': 17357, 'triumphant': 17358, 'yolk': 17359, 'fqjagapd': 17360, 'squabble': 17361, 'immigration': 17362, 'tunnel': 17363, 'vfcklmcsx': 17364, 'jvaivkmsy': 17365, 'sportinggoods': 17366, 'nrjjmpmo': 17367, 'asae': 17368, 'exhibitor': 17369, 'value': 17370, 'rceprqxle': 17371, 'assnchat': 17372, 'yvvpznzmxg': 17373, 'suh': 17374, 'finsup': 17375, 'ieeuxxza': 17376, 'cyciuuc': 17377, 'ybemgzl': 17378, 'zogdpdu': 17379, 'tradcatknight': 17380, 'okanowa': 17381, 'mainline': 17382, 'bloodi': 17383, 'pwwpumrbj': 17384, 'yspondqo': 17385, 'cjrssryrt': 17386, 'pascoe': 17387, 'vale': 17388, 'outbound': 17389, 'tullamarine': 17390, 'citylink': 17391, 'moreland': 17392, 'travelelixir': 17393, 'helo': 17394, 'shak': 17395, 'theeconomist': 17396, 'portrait': 17397, 'yuan': 17398, 'sjboksib': 17399, 'ubjzskmrc': 17400, 'kiroseattle': 17401, 'elliott': 17402, 'jlputva': 17403, 'progressives': 17404, 'earths': 17405, 'appalling': 17406, 'businessmen': 17407, 'jlwhaowfqa': 17408, 'saveti': 17409, 'nprfreshair': 17410, 'skipping': 17411, 'deb': 17412, 'buyout': 17413, 'giants': 17414, 'worldpay': 17415, 'ipo': 17416, 'gjskurr': 17417, 'productive': 17418, 'enterprise': 17419, 'independence': 17420, 'rowyso': 17421, 'leoblakecarter': 17422, 'mglpgrrm': 17423, 'natasha': 17424, 'rideout': 17425, 'chains': 17426, 'insult': 17427, 'adsvdpnpr': 17428, 'okgooner': 17429, 'liver': 17430, 'iwate': 17431, 'gmoulzqq': 17432, 'johndcgow': 17433, 'jqibobx': 17434, 'sqngirdvz': 17435, 'lomasvisto': 17436, 'hipsters': 17437, 'devours': 17438, 'intersectio': 17439, 'qwtkbfmc': 17440, 'cadenadeseguidor': 17441, 'jorge': 17442, 'bhufevagpu': 17443, 'hardy': 17444, 'files': 17445, 'aladdin': 17446, 'braoubgec': 17447, 'spnihjqx': 17448, 'marilyn': 17449, 'monroe': 17450, 'ripriprip': 17451, 'sailors': 17452, 'artillery': 17453, 'cartridges': 17454, 'rwgxram': 17455, 'freemurphy': 17456, 'hitchhiking': 17457, 'sorely': 17458, 'sammy': 17459, 'kfc': 17460, 'tkmotaeaco': 17461, 'ccvctelcw': 17462, 'dougmartin': 17463, 'qjpvgavn': 17464, 'tweettaiji': 17465, 'worship': 17466, 'superstitions': 17467, 'icrc': 17468, 'bkhzcwwl': 17469, 'routes': 17470, 'fwptaelgv': 17471, 'spread': 17472, 'palmoil': 17473, 'znmdsrvp': 17474, 'ftcbgmki': 17475, 'uftrxppv': 17476, 'meyerbjoern': 17477, 'thelonevirologi': 17478, 'mackayim': 17479, 'newspaper': 17480, 'knowing': 17481, 'rffpqbazf': 17482, 'lzk': 17483, 'auxsmdgun': 17484, 'gopkrfzmf': 17485, 'unfolded': 17486, 'dqddgvgbf': 17487, 'quiug': 17488, 'vftybei': 17489, 'jsdf': 17490, 'exercis': 17491, 'nout': 17492, 'rubbin': 17493, 'mufjdtlsm': 17494, 'davidvitter': 17495, 'vfctrzaok': 17496, 'kmpfhglhoo': 17497, 'addicts': 17498, 'defensive': 17499, 'decreases': 17500, 'vulnerability': 17501, 'jppeko': 17502, 'anthelmintic': 17503, 'drawing': 17504, 'btjpeobto': 17505, 'clyjl': 17506, 'zojadelin': 17507, 'impairs': 17508, 'zisuwlqrhf': 17509, 'mudgupuns': 17510, 'aqxwolbcfq': 17511, 'looooool': 17512, 'jevrcwudpm': 17513, 'nora': 17514, 'notic': 17515, 'osjurfddkt': 17516, 'faze': 17517, 'schwarber': 17518, 'cervelli': 17519, 'puff': 17520, 'smok': 17521, 'refer': 17522, 'lame': 17523, 'effective': 17524, 'revitup': 17525, 'pizzarev': 17526, 'bpbmxsxw': 17527, 'dtfswnjzil': 17528, 'jtytxrrk': 17529, 'dnazoi': 17530, 'rhode': 17531, 'modernize': 17532, 'apjbrpmqg': 17533, 'davidfernandez': 17534, 'theblaze': 17535, 'zdbtktww': 17536, 'gusramzps': 17537, 'junction': 17538, 'beep': 17539, 'moe': 17540, 'bouta': 17541, 'musician': 17542, 'recreates': 17543, 'clever': 17544, 'ydjpophdw': 17545, 'maxsys': 17546, 'qtizcbwwg': 17547, 'caixxumsos': 17548, 'yprjwmighl': 17549, 'rrkrcjyw': 17550, 'kesabaran': 17551, 'membuahkan': 17552, 'hasil': 17553, 'indah': 17554, 'pada': 17555, 'saat': 17556, 'tepat': 17557, 'ngfzpvd': 17558, 'connections': 17559, 'indiegogo': 17560, 'jmastrodonato': 17561, 'ortiz': 17562, 'bunting': 17563, 'forefathers': 17564, 'william': 17565, 'nyxjndora': 17566, 'andygilder': 17567, 'rspca': 17568, 'infomercial': 17569, 'crept': 17570, 'gemmahentsch': 17571, 'megynkelly': 17572, 'dloesch': 17573, 'envision': 17574, 'activate': 17575, 'timey': 17576, 'riwuprbhu': 17577, 'pknkchmr': 17578, 'thecomedyquote': 17579, 'shadezofgrey': 17580, 'pperez': 17581, 'mulberry': 17582, 'antony': 17583, 'ftmrklmn': 17584, 'perfectly': 17585, 'nlndjkyo': 17586, 'edmonton': 17587, 'fgvwkfqox': 17588, 'liquidation': 17589, 'ruor': 17590, 'ggtmdquddo': 17591, 'fxaihu': 17592, 'akcsl': 17593, 'venture': 17594, 'suitable': 17595, 'durrellb': 17596, 'punishing': 17597, 'visting': 17598, 'georgina': 17599, 'rat': 17600, 'pylfbtiu': 17601, 'dorling': 17602, 'kindersley': 17603, 'publishing': 17604, 'tjltpzfw': 17605, 'ge': 17606, 'reactors': 17607, 'hrcoxquik': 17608, 'wnptvbmt': 17609, 'imekjacv': 17610, 'carlachamorros': 17611, 'ucudwiuan': 17612, 'zeal': 17613, 'indecisiveness': 17614, 'bv': 17615, 'publish': 17616, 'favor': 17617, 'skyhawkmm': 17618, 'traplord': 17619, 'fredosantana': 17620, 'lilreese': 17621, 'mosh': 17622, 'qsekoeubmd': 17623, 'hamecxk': 17624, 'biwrdxcm': 17625, 'thomashcrown': 17626, 'grandfather': 17627, 'jkl': 17628, 'harlan': 17629, 'ryzhcpoq': 17630, 'sunshine': 17631, 'weallheartonedirection': 17632, 'uwijmegl': 17633, 'dt': 17634, 'georgegalloway': 17635, 'gallowaymayor': 17636, 'pickpocket': 17637, 'liverpool': 17638, 'stree': 17639, 'vxingoqq': 17640, 'dctniqit': 17641, 'abbruchsimul': 17642, 'uchiha': 17643, 'genit': 17644, 'echoes': 17645, 'fwd': 17646, 'suffield': 17647, 'bptmlfp': 17648, 'imawesome': 17649, 'agr': 17650, 'shitty': 17651, 'istg': 17652, 'sonofbobbob': 17653, 'shimmyfab': 17654, 'trickxie': 17655, 'chopping': 17656, 'rooftops': 17657, 'desperation': 17658, 'dislocation': 17659, 'separation': 17660, 'isolation': 17661, 'mallelis': 17662, 'mason': 17663, 'violin': 17664, 'skip': 17665, 'unnxvqc': 17666, 'zxiqngulc': 17667, 'vbsjtniv': 17668, 'janenelson': 17669, 'stephenscifi': 17670, 'adaptation': 17671, 'optioned': 17672, 'sciencefict': 17673, 'crptotech': 17674, 'banks': 17675, 'khztevedja': 17676, 'banking': 17677, 'bitcoing': 17678, 'blockchain': 17679, 'qreinwgg': 17680, 'hzkuyz': 17681, 'sirensicebreaker': 17682, 'heroine': 17683, 'hpljurobo': 17684, 'wackos': 17685, 'afrikaan': 17686, 'preorder': 17687, 'thebargain': 17688, 'umljztmcb': 17689, 'rgpemtqej': 17690, 'uncontrollable': 17691, 'njlqrqcnl': 17692, 'annajhm': 17693, 'jcomanse': 17694, 'staubs': 17695, 'rslm': 17696, 'blanktgt': 17697, 'fartanxiety': 17698, 'slosher': 17699, 'splatdown': 17700, 'switching': 17701, 'splatling': 17702, 'agdq': 17703, 'kororinpa': 17704, 'marble': 17705, 'mania': 17706, 'tloz': 17707, 'oracle': 17708, 'metroid': 17709, 'aauizggcq': 17710, 'snazzychipz': 17711, 'juliekragt': 17712, 'wildwestsixgun': 17713, 'stable': 17714, 'lpugrj': 17715, 'ixjjlplvo': 17716, 'wn': 17717, 'ikhdyhvnc': 17718, 'nana': 17719, 'restlessness': 17720, 'yaxrjicrr': 17721, 'pumbrnebj': 17722, 'tonyhsieh': 17723, 'anonym': 17724, 'libraryeliza': 17725, 'taylorswift': 17726, 'approval': 17727, 'kolmzbzpz': 17728, 'musicadvisori': 17729, 'pnaqxprweg': 17730, 'mochichiiiii': 17731, 'hikagezero': 17732, 'wew': 17733, 'quarrels': 17734, 'dlvzaayqr': 17735, 'cslabbpj': 17736, 'millcityio': 17737, 'theramin': 17738, 'sneak': 17739, 'spoiled': 17740, 'humble': 17741, 'sophieingle': 17742, 'angharadjames': 17743, 'gifts': 17744, 'banana': 17745, 'malt': 17746, 'loaf': 17747, 'worm': 17748, 'suspending': 17749, 'ser': 17750, 'idqgqdnjq': 17751, 'zar': 17752, 'cringes': 17753, 'toss': 17754, 'marrie': 17755, 'igllpho': 17756, 'robertwelch': 17757, 'cutlery': 17758, 'bqkyigng': 17759, 'gnzwxqktam': 17760, 'fuerkgwui': 17761, 'mvggglmvc': 17762, 'acrylic': 17763, 'xfubqbgg': 17764, 'dustinbrowder': 17765, 'chase': 17766, 'frequently': 17767, 'distraction': 17768, 'render': 17769, 'gain': 17770, 'proxy': 17771, 'ssu': 17772, 'kslnhq': 17773, 'ncjpgfznv': 17774, 'gerjauey': 17775, 'lorsrgqf': 17776, 'mmiyekzz': 17777, 'stevenontwatter': 17778, 'pussyxdestroyer': 17779, 'nuts': 17780, 'flavored': 17781, 'forming': 17782, 'guam': 17783, 'molav': 17784, 'brits': 17785, 'hsdbgciyr': 17786, 'daughterofnai': 17787, 'tenshi': 17788, 'yuki': 17789, 'heyot': 17790, 'calfreedommom': 17791, 'steph': 17792, 'contributor': 17793, 'fwtobiu': 17794, 'affair': 17795, 'ojyabyz': 17796, 'cjctbocxg': 17797, 'jasalhad': 17798, 'brianboru': 17799, 'jimskiv': 17800, 'hijinks': 17801, 'clowns': 17802, 'hkcadsna': 17803, 'giyaaddcc': 17804, 'du': 17805, 'nochilllukehammings': 17806, 'texansdc': 17807, 'kylekrenek': 17808, 'zepp': 17809, 'frobeus': 17810, 'teddy': 17811, 'bsxaqhsim': 17812, 'robertson': 17813, 'alumrgle': 17814, 'hkctfbi': 17815, 'alllll': 17816, 'nittys': 17817, 'stockwel': 17818, 'align': 17819, 'caribbean': 17820, 'fighter': 17821, 'preparing': 17822, 'mrsbinker': 17823, 'emiliorivera': 17824, 'davidlabrava': 17825, 'diesel': 17826, 'breed': 17827, 'pug': 17828, 'professionally': 17829, 'unsensibly': 17830, 'outrun': 17831, 'bieyguqpb': 17832, 'jbone': 17833, 'jen': 17834, 'czqrcixw': 17835, 'vickie': 17836, 'unqualified': 17837, 'treaty': 17838, 'telegraphworld': 17839, 'mmmm': 17840, 'umgdwlja': 17841, 'invokces': 17842, 'deemed': 17843, 'xrfvidxa': 17844, 'oihwgezdck': 17845, 'featuring': 17846, 'mxykecrzr': 17847, 'janiethekillr': 17848, 'sketchbook': 17849, 'biting': 17850, 'mask': 17851, 'gulfport': 17852, 'realizations': 17853, 'cjuighbxyn': 17854, 'heavyweight': 17855, 'yvmphdzx': 17856, 'gbepdiwzt': 17857, 'cascade': 17858, 'childress': 17859, 'dilyvrowyj': 17860, 'certificates': 17861, 'safes': 17862, 'kmdqmnln': 17863, 'arsonists': 17864, 'plastics': 17865, 'adelaide': 17866, 'pcaldicott': 17867, 'newsadl': 17868, 'rxwdnvbg': 17869, 'ryans': 17870, 'adipunxhu': 17871, 'biztip': 17872, 'alternative': 17873, 'westchester': 17874, 'eligible': 17875, 'xsrvujyiz': 17876, 'jewhaditm': 17877, 'kellkane': 17878, 'narrowly': 17879, 'etp': 17880, 'hszjafxrvi': 17881, 'technique': 17882, 'bmurph': 17883, 'youtsey': 17884, 'termnr': 17885, 'goblue': 17886, 'wrestleon': 17887, 'oaskgkiqj': 17888, 'beloeil': 17889, 'richelieu': 17890, 'laurent': 17891, 'expanding': 17892, 'hmuyzmvqh': 17893, 'jasoncundy': 17894, 'utd': 17895, 'pedro': 17896, 'blu': 17897, 'kiranahmedd': 17898, 'talibans': 17899, 'smkznfza': 17900, 'bbcnews': 17901, 'mwlippert': 17902, 'southkorea': 17903, 'electrocutedboiling': 17904, 'waterfur': 17905, 'adhzyi': 17906, 'district': 17907, 'cpr': 17908, 'panama': 17909, 'athlete': 17910, 'kfkaoshkh': 17911, 'baqocmcjqc': 17912, 'benaffleck': 17913, 'stil': 17914, 'nstfnxpa': 17915, 'wkvscbtlp': 17916, 'tnonrlp': 17917, 'hw': 17918, 'keeping': 17919, 'fastfuri': 17920, 'pdiitafq': 17921, 'dynamix': 17922, 'zqkdoxbi': 17923, 'kyrikoni': 17924, 'expressandstar': 17925, 'veg': 17926, 'kltita': 17927, 'incredulous': 17928, 'outcry': 17929, 'taxpayers': 17930, 'similar': 17931, 'objection': 17932, 'xhnews': 17933, 'grzrnqj': 17934, 'dfyasvjnf': 17935, 'uncover': 17936, 'slumber': 17937, 'thinner': 17938, 'bnwygxluh': 17939, 'tattoos': 17940, 'voxfwkcx': 17941, 'notorious': 17942, 'laboratory': 17943, 'dealer': 17944, 'peta': 17945, 'qgqlpmrfjd': 17946, 'lovemywife': 17947, 'shedid': 17948, 'washard': 17949, 'stopping': 17950, 'shkimonmlw': 17951, 'tagzbcxfj': 17952, 'sksjccrj': 17953, 'slit': 17954, 'apologize': 17955, 'snipe': 17956, 'slqnphnt': 17957, 'driller': 17958, 'boxed': 17959, 'htlvlxr': 17960, 'wesleylowery': 17961, 'bukidnon': 17962, 'zhsckvysn': 17963, 'scrolling': 17964, 'exact': 17965, 'vegan': 17966, 'bk': 17967, 'strictly': 17968, 'kxplyomrr': 17969, 'govegan': 17970, 'uniteblu': 17971, 'sacdwvdxt': 17972, 'zsnsartw': 17973, 'hendy': 17974, 'purdies': 17975, 'hopeinhearts': 17976, 'encouraging': 17977, 'ucistqug': 17978, 'sectarian': 17979, 'shia': 17980, 'militias': 17981, 'withdraw': 17982, 'fightin': 17983, 'uve': 17984, 'bulgarian': 17985, 'tittie': 17986, 'noemotion': 17987, 'edk': 17988, 'pathfinders': 17989, 'odqryjncf': 17990, 'mediocrity': 17991, 'ilqwqjxs': 17992, 'awnytpwjr': 17993, 'theatershooting': 17994, 'testify': 17995, 'therefore': 17996, 'exam': 17997, 'jury': 17998, 'aerospace': 17999, 'exec': 18000, 'wing': 18001, 'swmlhoo': 18002, 'permits': 18003, 'vdxwdoy': 18004, 'comcastcares': 18005, 'happing': 18006, 'thetshirtkid': 18007, 'lowkey': 18008, 'acmrmzq': 18009, 'neal': 18010, 'rigga': 18011, 'virxkgmpc': 18012, 'redcoatjackpot': 18013, 'managed': 18014, 'curse': 18015, 'applied': 18016, 'childsexabuse': 18017, 'dlaubnvtn': 18018, 'ryanoss': 18019, 'hitters': 18020, 'pitchers': 18021, 'asukager': 18022, 'magical': 18023, 'marlene': 18024, 'menahem': 18025, 'moshav': 18026, 'safsufa': 18027, 'modqnalwsb': 18028, 'cooavhi': 18029, 'tornadogiveaway': 18030, 'thebookclub': 18031, 'ljomctuzfy': 18032, 'zgvsloxp': 18033, 'brrookkllyynnr': 18034, 'politely': 18035, 'jared': 18036, 'kpivxgjnqt': 18037, 'messengers': 18038, 'zippers': 18039, 'epiqdbxvzo': 18040, 'bhfoylqljp': 18041, 'qnvxjpalj': 18042, 'oonsjhcsd': 18043, 'movietheatre': 18044, 'qlxoqkji': 18045, 'backs': 18046, 'rmucfjcazr': 18047, 'moir': 18048, 'sgdofsmrq': 18049, 'xlegcuora': 18050, 'actor': 18051, 'rossbarton': 18052}\n"
          ]
        }
      ]
    },
    {
      "cell_type": "code",
      "source": [
        "vocab_size = len(word_index) + 1\n",
        "print(\"Vocabulary Size :\", vocab_size)"
      ],
      "metadata": {
        "colab": {
          "base_uri": "https://localhost:8080/"
        },
        "id": "I-tOObMWvU09",
        "outputId": "b783f180-7adc-48e0-9938-8b3f04b462c5"
      },
      "execution_count": null,
      "outputs": [
        {
          "output_type": "stream",
          "name": "stdout",
          "text": [
            "Vocabulary Size : 18053\n"
          ]
        }
      ]
    },
    {
      "cell_type": "code",
      "source": [
        "X_train = pad_sequences(tokenizer.texts_to_sequences(X_train),maxlen = 30)\n",
        "X_test = pad_sequences(tokenizer.texts_to_sequences(X_test),maxlen = 30)"
      ],
      "metadata": {
        "id": "tYk9MeKwv4-U"
      },
      "execution_count": null,
      "outputs": []
    },
    {
      "cell_type": "code",
      "source": [
        "!wget http://nlp.stanford.edu/data/glove.6B.zip\n",
        "!unzip glove.6B.zip"
      ],
      "metadata": {
        "colab": {
          "base_uri": "https://localhost:8080/"
        },
        "id": "AdEPZ7TLy9wQ",
        "outputId": "226fb58d-d606-4e75-a5bc-6f538ce6eb1c"
      },
      "execution_count": null,
      "outputs": [
        {
          "output_type": "stream",
          "name": "stdout",
          "text": [
            "--2022-02-07 18:55:28--  http://nlp.stanford.edu/data/glove.6B.zip\n",
            "Resolving nlp.stanford.edu (nlp.stanford.edu)... 171.64.67.140\n",
            "Connecting to nlp.stanford.edu (nlp.stanford.edu)|171.64.67.140|:80... connected.\n",
            "HTTP request sent, awaiting response... 302 Found\n",
            "Location: https://nlp.stanford.edu/data/glove.6B.zip [following]\n",
            "--2022-02-07 18:55:28--  https://nlp.stanford.edu/data/glove.6B.zip\n",
            "Connecting to nlp.stanford.edu (nlp.stanford.edu)|171.64.67.140|:443... connected.\n",
            "HTTP request sent, awaiting response... 301 Moved Permanently\n",
            "Location: http://downloads.cs.stanford.edu/nlp/data/glove.6B.zip [following]\n",
            "--2022-02-07 18:55:29--  http://downloads.cs.stanford.edu/nlp/data/glove.6B.zip\n",
            "Resolving downloads.cs.stanford.edu (downloads.cs.stanford.edu)... 171.64.64.22\n",
            "Connecting to downloads.cs.stanford.edu (downloads.cs.stanford.edu)|171.64.64.22|:80... connected.\n",
            "HTTP request sent, awaiting response... 200 OK\n",
            "Length: 862182613 (822M) [application/zip]\n",
            "Saving to: ‘glove.6B.zip.2’\n",
            "\n",
            "glove.6B.zip.2      100%[===================>] 822.24M  5.06MB/s    in 2m 41s  \n",
            "\n",
            "2022-02-07 18:58:09 (5.12 MB/s) - ‘glove.6B.zip.2’ saved [862182613/862182613]\n",
            "\n",
            "Archive:  glove.6B.zip\n",
            "replace glove.6B.50d.txt? [y]es, [n]o, [A]ll, [N]one, [r]ename: N\n"
          ]
        }
      ]
    },
    {
      "cell_type": "code",
      "source": [
        "X_train"
      ],
      "metadata": {
        "colab": {
          "base_uri": "https://localhost:8080/"
        },
        "id": "1eI_E5nnJKIy",
        "outputId": "828cfe0f-8a58-49de-c473-4e1154412064"
      },
      "execution_count": null,
      "outputs": [
        {
          "output_type": "execute_result",
          "data": {
            "text/plain": [
              "array([[    0,     0,     0, ...,     2,     1,  5581],\n",
              "       [    0,     0,     0, ...,     2,     1,  5582],\n",
              "       [    0,     0,     0, ...,    71,  5584,   456],\n",
              "       ...,\n",
              "       [    0,     0,     0, ...,     2,     1, 18050],\n",
              "       [    0,     0,     0, ...,  1472,  1328,   147],\n",
              "       [    0,     0,     0, ...,  2327,   218,   215]], dtype=int32)"
            ]
          },
          "metadata": {},
          "execution_count": 42
        }
      ]
    },
    {
      "cell_type": "code",
      "source": [
        "X_test"
      ],
      "metadata": {
        "colab": {
          "base_uri": "https://localhost:8080/"
        },
        "id": "a9I_SLZGJKgl",
        "outputId": "fb18af48-7635-427b-e7b4-2145e0ed1d95"
      },
      "execution_count": null,
      "outputs": [
        {
          "output_type": "execute_result",
          "data": {
            "text/plain": [
              "array([[   0,    0,    0, ...,   42,  986,  310],\n",
              "       [   0,    0,    0, ...,  471, 1322, 9327],\n",
              "       [   0,    0,    0, ...,  658,    2,    1],\n",
              "       ...,\n",
              "       [   0,    0,    0, ...,  532,   29,   44],\n",
              "       [   0,    0,    0, ..., 8456, 1193, 1524],\n",
              "       [   0,    0,    0, ..., 4023,    2,    1]], dtype=int32)"
            ]
          },
          "metadata": {},
          "execution_count": 43
        }
      ]
    },
    {
      "cell_type": "code",
      "source": [
        "embeddings_index = {}\n",
        "# opening the downloaded glove embeddings file\n",
        "f = open('glove.6B.300d.txt')\n",
        "for line in f:\n",
        "    # For each line file, the words are split and stored in a list\n",
        "    values = line.split()\n",
        "    word = value = values[0]\n",
        "    coefs = np.asarray(values[1:], dtype='float32')\n",
        "    embeddings_index[word] = coefs\n",
        "f.close()\n",
        "print('Found %s word vectors.' %len(embeddings_index))"
      ],
      "metadata": {
        "colab": {
          "base_uri": "https://localhost:8080/"
        },
        "id": "jFFmtELyzOf7",
        "outputId": "ed863e34-fa52-423a-e946-c345cb6303bb"
      },
      "execution_count": null,
      "outputs": [
        {
          "output_type": "stream",
          "name": "stdout",
          "text": [
            "Found 400000 word vectors.\n"
          ]
        }
      ]
    },
    {
      "cell_type": "code",
      "source": [
        "# creating an matrix with zeroes of shape vocab x embedding dimension\n",
        "embedding_matrix = np.zeros((vocab_size, 300))\n",
        "# Iterate through word, index in the dictionary\n",
        "for word, i in word_index.items():\n",
        "    # extract the corresponding vector for the vocab indice of same word\n",
        "    embedding_vector = embeddings_index.get(word)\n",
        "    if embedding_vector is not None:\n",
        "        # Storing it in a matrix\n",
        "        embedding_matrix[i] = embedding_vector"
      ],
      "metadata": {
        "id": "p-zVty1CzZaH"
      },
      "execution_count": null,
      "outputs": []
    },
    {
      "cell_type": "code",
      "source": [
        "embedding_layer = tf.keras.layers.Embedding(vocab_size,300,weights=[embedding_matrix],\n",
        "                                          input_length=30,trainable=False)"
      ],
      "metadata": {
        "id": "q37s8MoXzk0V"
      },
      "execution_count": null,
      "outputs": []
    },
    {
      "cell_type": "markdown",
      "source": [
        "#Model Architecture"
      ],
      "metadata": {
        "id": "0eHBhmweGd0j"
      }
    },
    {
      "cell_type": "code",
      "source": [
        "# The Input layer \n",
        "sequence_input = Input(shape=(30,), dtype='int32')\n",
        "# Inputs passed to the embedding layer\n",
        "embedding_sequences = embedding_layer(sequence_input)\n",
        "# dropout and conv layer \n",
        "x = SpatialDropout1D(0.2)(embedding_sequences)\n",
        "x = Conv1D(64, 5, activation='relu')(x)\n",
        "# Passed on to the LSTM layer\n",
        "x = Bidirectional(LSTM(64, dropout=0.2, recurrent_dropout=0.2))(x)\n",
        "x = Dense(512, activation='relu')(x)\n",
        "x = Dropout(0.5)(x)\n",
        "x = Dense(512, activation='relu')(x)\n",
        "# Passed on to activation layer to get final output\n",
        "outputs = Dense(1, activation='sigmoid')(x)\n",
        "model = tf.keras.Model(sequence_input, outputs)"
      ],
      "metadata": {
        "colab": {
          "base_uri": "https://localhost:8080/"
        },
        "id": "IzHpFFgkGalY",
        "outputId": "9113e8d1-05f9-44e4-b3e1-d73138aa2d44"
      },
      "execution_count": null,
      "outputs": [
        {
          "output_type": "stream",
          "name": "stdout",
          "text": [
            "WARNING:tensorflow:Layer lstm will not use cuDNN kernels since it doesn't meet the criteria. It will use a generic GPU kernel as fallback when running on GPU.\n",
            "WARNING:tensorflow:Layer lstm will not use cuDNN kernels since it doesn't meet the criteria. It will use a generic GPU kernel as fallback when running on GPU.\n",
            "WARNING:tensorflow:Layer lstm will not use cuDNN kernels since it doesn't meet the criteria. It will use a generic GPU kernel as fallback when running on GPU.\n"
          ]
        }
      ]
    },
    {
      "cell_type": "code",
      "source": [
        "model.summary()"
      ],
      "metadata": {
        "colab": {
          "base_uri": "https://localhost:8080/"
        },
        "id": "39eMt2sqHJb_",
        "outputId": "631cbb75-bd60-48b2-c2e8-460eb23b9a2b"
      },
      "execution_count": null,
      "outputs": [
        {
          "output_type": "stream",
          "name": "stdout",
          "text": [
            "Model: \"model\"\n",
            "_________________________________________________________________\n",
            " Layer (type)                Output Shape              Param #   \n",
            "=================================================================\n",
            " input_1 (InputLayer)        [(None, 30)]              0         \n",
            "                                                                 \n",
            " embedding (Embedding)       (None, 30, 300)           5415900   \n",
            "                                                                 \n",
            " spatial_dropout1d (SpatialD  (None, 30, 300)          0         \n",
            " ropout1D)                                                       \n",
            "                                                                 \n",
            " conv1d (Conv1D)             (None, 26, 64)            96064     \n",
            "                                                                 \n",
            " bidirectional (Bidirectiona  (None, 128)              66048     \n",
            " l)                                                              \n",
            "                                                                 \n",
            " dense (Dense)               (None, 512)               66048     \n",
            "                                                                 \n",
            " dropout (Dropout)           (None, 512)               0         \n",
            "                                                                 \n",
            " dense_1 (Dense)             (None, 512)               262656    \n",
            "                                                                 \n",
            " dense_2 (Dense)             (None, 1)                 513       \n",
            "                                                                 \n",
            "=================================================================\n",
            "Total params: 5,907,229\n",
            "Trainable params: 491,329\n",
            "Non-trainable params: 5,415,900\n",
            "_________________________________________________________________\n"
          ]
        }
      ]
    },
    {
      "cell_type": "code",
      "source": [
        "model.compile(optimizer=Adam(learning_rate=0.01), loss='binary_crossentropy',metrics=['accuracy'])\n",
        "ReduceLROnPlateau = ReduceLROnPlateau(factor=0.1,min_lr = 0.01, monitor = 'val_loss',verbose = 1)"
      ],
      "metadata": {
        "id": "yJFDfQ3tHPe9"
      },
      "execution_count": null,
      "outputs": []
    },
    {
      "cell_type": "code",
      "source": [
        "training = model.fit(X_train, y_train, batch_size=1024, epochs=20,\n",
        "                    validation_data=(X_test, y_test), callbacks=[ReduceLROnPlateau])"
      ],
      "metadata": {
        "colab": {
          "base_uri": "https://localhost:8080/"
        },
        "id": "1XxgIskeImfO",
        "outputId": "4f8cb54f-8fff-4b4e-f99b-7ecba00e937c"
      },
      "execution_count": null,
      "outputs": [
        {
          "output_type": "stream",
          "name": "stdout",
          "text": [
            "Epoch 1/20\n",
            "6/6 [==============================] - 12s 683ms/step - loss: 0.8933 - accuracy: 0.5673 - val_loss: 0.6415 - val_accuracy: 0.6776 - lr: 0.0100\n",
            "Epoch 2/20\n",
            "6/6 [==============================] - 4s 799ms/step - loss: 0.5885 - accuracy: 0.7128 - val_loss: 0.5185 - val_accuracy: 0.7636 - lr: 0.0100\n",
            "Epoch 3/20\n",
            "6/6 [==============================] - 6s 937ms/step - loss: 0.4957 - accuracy: 0.7739 - val_loss: 0.4682 - val_accuracy: 0.7899 - lr: 0.0100\n",
            "Epoch 4/20\n",
            "6/6 [==============================] - 6s 1s/step - loss: 0.4502 - accuracy: 0.8048 - val_loss: 0.4582 - val_accuracy: 0.8043 - lr: 0.0100\n",
            "Epoch 5/20\n",
            "6/6 [==============================] - 3s 484ms/step - loss: 0.4197 - accuracy: 0.8084 - val_loss: 0.4464 - val_accuracy: 0.7991 - lr: 0.0100\n",
            "Epoch 6/20\n",
            "6/6 [==============================] - 3s 518ms/step - loss: 0.3940 - accuracy: 0.8287 - val_loss: 0.4401 - val_accuracy: 0.8056 - lr: 0.0100\n",
            "Epoch 7/20\n",
            "6/6 [==============================] - 3s 492ms/step - loss: 0.3741 - accuracy: 0.8415 - val_loss: 0.4432 - val_accuracy: 0.8056 - lr: 0.0100\n",
            "Epoch 8/20\n",
            "6/6 [==============================] - 3s 464ms/step - loss: 0.3488 - accuracy: 0.8502 - val_loss: 0.4459 - val_accuracy: 0.8024 - lr: 0.0100\n",
            "Epoch 9/20\n",
            "6/6 [==============================] - 3s 462ms/step - loss: 0.3226 - accuracy: 0.8652 - val_loss: 0.5009 - val_accuracy: 0.8076 - lr: 0.0100\n",
            "Epoch 10/20\n",
            "6/6 [==============================] - 3s 493ms/step - loss: 0.2930 - accuracy: 0.8721 - val_loss: 0.4828 - val_accuracy: 0.8063 - lr: 0.0100\n",
            "Epoch 11/20\n",
            "6/6 [==============================] - 3s 514ms/step - loss: 0.2562 - accuracy: 0.8938 - val_loss: 0.5375 - val_accuracy: 0.7794 - lr: 0.0100\n",
            "Epoch 12/20\n",
            "6/6 [==============================] - 3s 486ms/step - loss: 0.2387 - accuracy: 0.9067 - val_loss: 0.5857 - val_accuracy: 0.8004 - lr: 0.0100\n",
            "Epoch 13/20\n",
            "6/6 [==============================] - 3s 492ms/step - loss: 0.2093 - accuracy: 0.9156 - val_loss: 0.5866 - val_accuracy: 0.8050 - lr: 0.0100\n",
            "Epoch 14/20\n",
            "6/6 [==============================] - 3s 453ms/step - loss: 0.1770 - accuracy: 0.9342 - val_loss: 0.6993 - val_accuracy: 0.7912 - lr: 0.0100\n",
            "Epoch 15/20\n",
            "6/6 [==============================] - 3s 484ms/step - loss: 0.1751 - accuracy: 0.9330 - val_loss: 0.6486 - val_accuracy: 0.7741 - lr: 0.0100\n",
            "Epoch 16/20\n",
            "6/6 [==============================] - 3s 490ms/step - loss: 0.1556 - accuracy: 0.9384 - val_loss: 0.6575 - val_accuracy: 0.7925 - lr: 0.0100\n",
            "Epoch 17/20\n",
            "6/6 [==============================] - 3s 466ms/step - loss: 0.1516 - accuracy: 0.9445 - val_loss: 0.6910 - val_accuracy: 0.7905 - lr: 0.0100\n",
            "Epoch 18/20\n",
            "6/6 [==============================] - 3s 519ms/step - loss: 0.1332 - accuracy: 0.9519 - val_loss: 0.7428 - val_accuracy: 0.7886 - lr: 0.0100\n",
            "Epoch 19/20\n",
            "6/6 [==============================] - 3s 498ms/step - loss: 0.1367 - accuracy: 0.9502 - val_loss: 0.7388 - val_accuracy: 0.7905 - lr: 0.0100\n",
            "Epoch 20/20\n",
            "6/6 [==============================] - 3s 459ms/step - loss: 0.1208 - accuracy: 0.9534 - val_loss: 0.7846 - val_accuracy: 0.8037 - lr: 0.0100\n"
          ]
        }
      ]
    },
    {
      "cell_type": "code",
      "source": [
        "# Plot train accuracy and loss\n",
        "accuraties = training.history['accuracy']\n",
        "losses = training.history['loss']\n",
        "accuraties_losses = list(zip(accuraties,losses))\n",
        "\n",
        "accuraties_losses_df = pd.DataFrame(accuraties_losses, columns={\"accuraties\", \"losses\"})\n",
        "\n",
        "plt.figure(figsize=(10,4))\n",
        "plt.suptitle(\"Train Accuracy vs Train Loss\")\n",
        "sns.lineplot(data=accuraties_losses_df)\n",
        "plt.show()"
      ],
      "metadata": {
        "colab": {
          "base_uri": "https://localhost:8080/",
          "height": 297
        },
        "id": "1AIL1xK7NbRi",
        "outputId": "065bfeee-069d-4289-847c-4a514914ec95"
      },
      "execution_count": null,
      "outputs": [
        {
          "output_type": "display_data",
          "data": {
            "image/png": "[encoded data removed]",
            "text/plain": [
              "<Figure size 720x288 with 1 Axes>"
            ]
          },
          "metadata": {}
        }
      ]
    },
    {
      "cell_type": "code",
      "source": [
        "scores = model.predict(X_test, verbose=1, batch_size=10000)"
      ],
      "metadata": {
        "colab": {
          "base_uri": "https://localhost:8080/"
        },
        "id": "ojzFtG2XKebe",
        "outputId": "4f7d63e0-61ec-46e9-ddc8-e28391d45503"
      },
      "execution_count": null,
      "outputs": [
        {
          "output_type": "stream",
          "name": "stdout",
          "text": [
            "1/1 [==============================] - 1s 874ms/step\n"
          ]
        }
      ]
    },
    {
      "cell_type": "code",
      "source": [
        "X_test"
      ],
      "metadata": {
        "colab": {
          "base_uri": "https://localhost:8080/"
        },
        "id": "e9o4vsTHIroL",
        "outputId": "2597e81c-157e-4465-8dfb-7e59af0fe00c"
      },
      "execution_count": null,
      "outputs": [
        {
          "output_type": "execute_result",
          "data": {
            "text/plain": [
              "array([[   0,    0,    0, ...,   42,  986,  310],\n",
              "       [   0,    0,    0, ...,  471, 1322, 9327],\n",
              "       [   0,    0,    0, ...,  658,    2,    1],\n",
              "       ...,\n",
              "       [   0,    0,    0, ...,  532,   29,   44],\n",
              "       [   0,    0,    0, ..., 8456, 1193, 1524],\n",
              "       [   0,    0,    0, ..., 4023,    2,    1]], dtype=int32)"
            ]
          },
          "metadata": {},
          "execution_count": 53
        }
      ]
    },
    {
      "cell_type": "code",
      "source": [
        "def predict_tweet(score):\n",
        "    return 1 if score>0.5 else 0"
      ],
      "metadata": {
        "id": "BIknxPlGKjzA"
      },
      "execution_count": null,
      "outputs": []
    },
    {
      "cell_type": "code",
      "source": [
        "model_predictions = [predict_tweet(score) for score in scores]"
      ],
      "metadata": {
        "id": "9D9PJFadKwOK"
      },
      "execution_count": null,
      "outputs": []
    },
    {
      "cell_type": "code",
      "source": [
        "from sklearn.metrics import classification_report\n",
        "print(classification_report(y_test, model_predictions))"
      ],
      "metadata": {
        "colab": {
          "base_uri": "https://localhost:8080/"
        },
        "id": "iP5zpdX4KxtM",
        "outputId": "5d6c7fa5-5b1e-419d-ac90-35962c1a8ee4"
      },
      "execution_count": null,
      "outputs": [
        {
          "output_type": "stream",
          "name": "stdout",
          "text": [
            "              precision    recall  f1-score   support\n",
            "\n",
            "           0       0.81      0.87      0.84       886\n",
            "           1       0.80      0.71      0.75       637\n",
            "\n",
            "    accuracy                           0.80      1523\n",
            "   macro avg       0.80      0.79      0.79      1523\n",
            "weighted avg       0.80      0.80      0.80      1523\n",
            "\n"
          ]
        }
      ]
    },
    {
      "cell_type": "code",
      "source": [
        "# Plot confusion matrix\n",
        "conf_matrix = metrics.confusion_matrix(y_test, model_predictions)\n",
        "\n",
        "fig, ax = plt.subplots()\n",
        "sns.heatmap(conf_matrix, cbar=False, cmap='Reds', annot=True, fmt='d')\n",
        "ax.set(xlabel=\"Predicted Value\", ylabel=\"True Value\", title=\"Confusion Matrix\")\n",
        "ax.set_yticklabels(labels=['0', '1'], rotation=0)\n",
        "plt.show()"
      ],
      "metadata": {
        "colab": {
          "base_uri": "https://localhost:8080/",
          "height": 301
        },
        "id": "Y6F-qNk7NC3t",
        "outputId": "8b4bdae4-dbcc-430a-dc7e-d69f5bf6c7ec"
      },
      "execution_count": null,
      "outputs": [
        {
          "output_type": "display_data",
          "data": {
            "image/png": "[encoded data removed]",
            "text/plain": [
              "<Figure size 432x288 with 1 Axes>"
            ]
          },
          "metadata": {}
        }
      ]
    },
    {
      "cell_type": "code",
      "source": [
        "# save the model to disk\n",
        "filename = 'lstm_model.sav'\n",
        "pickle.dump(model, open(filename, 'wb'))\n",
        " \n",
        "# some time later...\n",
        " \n",
        "# load the model from disk\n",
        "# loaded_model = pickle.load(open(filename, 'rb'))\n",
        "# result = loaded_model.score(X_test, Y_test)\n",
        "# print(result)"
      ],
      "metadata": {
        "colab": {
          "base_uri": "https://localhost:8080/"
        },
        "id": "vxCJY4AF1Qsc",
        "outputId": "7cd0cb5c-d34b-4389-9bf8-8f2960e5101a"
      },
      "execution_count": null,
      "outputs": [
        {
          "output_type": "stream",
          "name": "stdout",
          "text": [
            "INFO:tensorflow:Assets written to: ram://d2de3d03-34a1-40f9-8b0f-e44f2bacf439/assets\n"
          ]
        },
        {
          "output_type": "stream",
          "name": "stderr",
          "text": [
            "WARNING:absl:<keras.layers.recurrent.LSTMCell object at 0x7f18b0785990> has the same name 'LSTMCell' as a built-in Keras object. Consider renaming <class 'keras.layers.recurrent.LSTMCell'> to avoid naming conflicts when loading with `tf.keras.models.load_model`. If renaming is not possible, pass the object in the `custom_objects` parameter of the load function.\n",
            "WARNING:absl:<keras.layers.recurrent.LSTMCell object at 0x7f18ba90e9d0> has the same name 'LSTMCell' as a built-in Keras object. Consider renaming <class 'keras.layers.recurrent.LSTMCell'> to avoid naming conflicts when loading with `tf.keras.models.load_model`. If renaming is not possible, pass the object in the `custom_objects` parameter of the load function.\n"
          ]
        }
      ]
    },
    {
      "cell_type": "markdown",
      "source": [
        "#Tuning Hyperparameteres"
      ],
      "metadata": {
        "id": "DcNCqRPFD_el"
      }
    },
    {
      "cell_type": "code",
      "source": [
        "# df_test['cleaned_text'] = pad_sequences(tokenizer.texts_to_sequences(df_test['cleaned_text']),maxlen = 30)\n",
        "df_test['cleaned_text'][:100]\n",
        "# df_test['prediction'] = model.predict(df_test['cleaned_text'], verbose=1, batch_size=10000)"
      ],
      "metadata": {
        "id": "XhXNxOcLEAot",
        "colab": {
          "base_uri": "https://localhost:8080/"
        },
        "outputId": "8ed405ee-4c87-4e78-9b07-e3c1c5b7c52d"
      },
      "execution_count": null,
      "outputs": [
        {
          "output_type": "execute_result",
          "data": {
            "text/plain": [
              "0     0\n",
              "1     0\n",
              "2     0\n",
              "3     0\n",
              "4     0\n",
              "     ..\n",
              "95    0\n",
              "96    0\n",
              "97    0\n",
              "98    0\n",
              "99    0\n",
              "Name: cleaned_text, Length: 100, dtype: int32"
            ]
          },
          "metadata": {},
          "execution_count": 66
        }
      ]
    },
    {
      "cell_type": "code",
      "source": [
        ""
      ],
      "metadata": {
        "id": "LGVMjMkzG6tZ"
      },
      "execution_count": null,
      "outputs": []
    }
  ]
}